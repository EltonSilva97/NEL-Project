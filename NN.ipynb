{
 "cells": [
  {
   "cell_type": "code",
   "execution_count": 1,
   "id": "43a804a8",
   "metadata": {},
   "outputs": [],
   "source": [
    "import random\n",
    "import pandas as pd\n",
    "import numpy as np\n",
    "import warnings\n",
    "warnings.filterwarnings('ignore')\n",
    "from preprocessing import get_X_and_y_tensors\n",
    "from nested_crossval import run_nested_cv_for_model\n",
    "from utils import *\n",
    "import torch\n",
    "import torch.nn as nn\n",
    "import torch.optim as optim\n",
    "import torch.nn.init as init\n",
    "import torch.nn.functional as F\n",
    "from sklearn.model_selection import KFold\n",
    "from sklearn.preprocessing import StandardScaler\n",
    "from sklearn.pipeline import make_pipeline\n",
    "from sklearn.preprocessing import FunctionTransformer\n",
    "from skorch import NeuralNetRegressor\n",
    "from utils import *\n"
   ]
  },
  {
   "cell_type": "code",
   "execution_count": 2,
   "id": "e3480e19",
   "metadata": {},
   "outputs": [],
   "source": [
    "%load_ext autoreload\n",
    "%autoreload 2"
   ]
  },
  {
   "cell_type": "markdown",
   "id": "151c3c53",
   "metadata": {},
   "source": [
    "## 1. Getting X an y tensors"
   ]
  },
  {
   "cell_type": "code",
   "execution_count": 3,
   "id": "5b0c40a2",
   "metadata": {},
   "outputs": [],
   "source": [
    "X,y=get_X_and_y_tensors()"
   ]
  },
  {
   "cell_type": "code",
   "execution_count": 4,
   "id": "fb0c3a72",
   "metadata": {},
   "outputs": [
    {
     "data": {
      "text/plain": [
       "tensor([[ 214.0000, 1725.6000, 1394.0000,  ...,    3.7160,  489.4000,\n",
       "         2223.3000],\n",
       "        [ 236.0000, 1769.8000, 1405.4000,  ...,    3.4940,  538.7000,\n",
       "         2201.8999],\n",
       "        [ 241.8000, 1724.9000, 1461.7000,  ...,    4.0230,  512.1000,\n",
       "         2159.8999],\n",
       "        ...,\n",
       "        [ 253.1000, 2050.0000, 1669.8000,  ...,    5.1760,  610.0000,\n",
       "         2648.2000],\n",
       "        [ 212.1000, 1813.9000, 1468.0000,  ...,    2.8290,  548.4000,\n",
       "         2262.6001],\n",
       "        [ 245.7000, 2038.8000, 1655.6000,  ...,    5.9600,  606.9000,\n",
       "         2704.3000]])"
      ]
     },
     "execution_count": 4,
     "metadata": {},
     "output_type": "execute_result"
    }
   ],
   "source": [
    "X"
   ]
  },
  {
   "cell_type": "code",
   "execution_count": 5,
   "id": "e8941a5d",
   "metadata": {},
   "outputs": [
    {
     "data": {
      "text/plain": [
       "tensor([86.1055, 86.1435, 86.4169, 85.9599, 81.6936, 87.5331, 86.8410, 88.2468,\n",
       "        87.5399, 88.1924, 87.7862, 86.2464, 86.1611, 86.5115, 86.8366, 84.9951,\n",
       "        86.3812, 88.5102, 85.0129, 85.9784, 88.9662, 84.7507, 87.1134, 87.2657,\n",
       "        85.5097, 87.1627, 84.8371, 86.8986, 87.4809, 88.2095, 83.4647, 86.3373,\n",
       "        86.5872, 87.8968, 88.5642, 87.4188, 87.9764, 84.6742, 73.8372, 85.9425,\n",
       "        86.5554, 87.6478, 87.5996, 86.1728, 88.3539, 87.2642, 86.7197, 85.2699,\n",
       "        87.7586, 87.8977, 88.1691, 88.4375, 87.1276, 87.5950, 87.9379, 86.5774,\n",
       "        87.3628, 88.5818, 89.5304, 87.1476, 87.9669, 87.8043, 86.0451, 88.7219,\n",
       "        88.3917, 89.0096, 85.0285, 87.2786, 87.5549, 87.4504, 88.3307, 89.0777,\n",
       "        86.8685, 89.4476, 88.6088, 87.6669, 87.6940, 89.0107, 89.6245, 89.4860,\n",
       "        88.9843, 88.4306, 88.6367, 90.2405, 86.5774, 87.4385, 88.9093, 88.7257,\n",
       "        88.8421, 88.8315, 87.8210, 88.9991, 88.5073, 90.3756, 91.2113, 88.8250])"
      ]
     },
     "execution_count": 5,
     "metadata": {},
     "output_type": "execute_result"
    }
   ],
   "source": [
    "y"
   ]
  },
  {
   "cell_type": "markdown",
   "id": "f5d508ac",
   "metadata": {},
   "source": [
    "## 2. Cross-validation objects"
   ]
  },
  {
   "cell_type": "code",
   "execution_count": 6,
   "id": "f14f2691",
   "metadata": {},
   "outputs": [],
   "source": [
    "n_outer_cv=30\n",
    "n_inner_cv=5\n",
    "outer_cv=KFold(n_splits=n_outer_cv,shuffle=True, random_state=42)"
   ]
  },
  {
   "cell_type": "markdown",
   "id": "92b2ba0c",
   "metadata": {},
   "source": [
    "## 3. Applying  NN"
   ]
  },
  {
   "cell_type": "markdown",
   "id": "394511d1",
   "metadata": {},
   "source": [
    "- `X` will be all the features except the [\"CRUDE PROTEIN\"], which we will try to predict\n",
    "- `y`will be the [\"CRUDE PROTEIN\"]\n",
    "- `loss_function`: RMSE"
   ]
  },
  {
   "cell_type": "markdown",
   "id": "417967ef",
   "metadata": {},
   "source": [
    "## 4. Hyperparameter tunning with Nested Crossfold validation"
   ]
  },
  {
   "cell_type": "markdown",
   "id": "2c9b96dc",
   "metadata": {},
   "source": [
    "We chose nested cross-validation instead of a random train-test split because it gives a fairer and more reliable way to check our model’s performance. It has two steps: one for finding the best model settings (hyperparameters) and another for testing how well the model works on new data. This is important because if we tune and test the model on the same data, the results might look better than they actually are. \n",
    "By keeping these steps separate, nested cross-validation helps avoid this problem and gives a more honest estimate of how our model will perform on new, unseen data."
   ]
  },
  {
   "cell_type": "markdown",
   "id": "5bd595d3",
   "metadata": {},
   "source": [
    "- For the inner fold of the nested cross-validation, we applied Grid Search to take advantage of all its built-in features like systematic parameter tuning and parallel processing. To make this work with the SLIM library, we implemented a custom wrapper called SLIMWrapper, which follows the BaseEstimator interface. This allowed us to integrate the SLIM seamlessly into the grid search process, ensuring efficient and consistent hyperparameter tuning within the inner loop."
   ]
  },
  {
   "cell_type": "markdown",
   "id": "d82d596b",
   "metadata": {},
   "source": [
    "### Updating weights\n",
    "\n",
    "In our grid search we shall focus on the following parameters. Our goal is to manage our weights so that we may have a model both capable or learning and generalizing when looking at new data.\n",
    "\n",
    "learning rate - controls the size of the step\n",
    "\n",
    "weight_decay - adds a penalty to the loss function, encouraging smaller weights for  better generalization from the model. The penalty is substracted from the gradient during backpropagation with the objective of preventing excessive weight growth. Bigger penalties result in stronger regularization, rendering the event of overfitting less probable.\n"
   ]
  },
  {
   "cell_type": "code",
   "execution_count": 7,
   "id": "36daad1b",
   "metadata": {},
   "outputs": [],
   "source": [
    "param_grid = {\n",
    "    'optimizer__lr' : [1e-4, 1e-3, 1e-2],\n",
    "    'optimizer__weight_decay': [1e-4, 1e-3, 0.01, 0.05]\n",
    "}"
   ]
  },
  {
   "cell_type": "markdown",
   "id": "05a613f2",
   "metadata": {},
   "source": [
    "#### Weights initialization\n",
    "The output of a neuron in a linear layer is a weighted sum of inputs from the previous layer. Keeping both the input data and layer weights small ensures stable outputs, preventing extreme values that could slow training. \n",
    "\n",
    "To prevent unstable gradients, the initialization should ensure that the variance of the layer's inputs is close to that of its outputs and the variance of the gradients is the same before and after passing through the layer. The way to achieve this is different for each activation function. We shall use Xavier initialization since it is good for avoiding vanishing and exploding gradients.\n",
    "\n",
    "Vanishing gradients\n",
    "Neural networks often suffer from gradient instability during training. Sometimes, the gradients get smaller during the backward pass. This is known as vanishing gradients. As a result, earlier layers receive hardly any parameter updates and the model doesn't learn.\n",
    "\n",
    "Exploding gradients\n",
    "In other cases, the gradients get increasingly large, leading to huge parameter updates and divergent training. This is known as exploding gradients.\n",
    "\n",
    "For Linear and Hidden layers, RELU is a great option given that it doesn't have a upper bound (f(x) = (max,0)). For positive inputs, the output equals the input and for negative equals zero. Nevertheless, the fact that negative cases equal zero results in null gradients (the model stops learning). Another varient is Leaky RELU, that is positive cases behaves like RELU and in negative case, inputs are a scaled by a small coefficient (Pytorch default is 0.01) which means that gradients never reach zero and the model never stops learning."
   ]
  },
  {
   "cell_type": "markdown",
   "id": "3d95449b",
   "metadata": {},
   "source": [
    "Dropout is a regularization technique that randomly deactivates a fraction of neurons during the process of training. The objective of this action is to prevent the model from becoming to dependent on some of the features. Dropout layers are set with a probability of neuron being deactivated (p argument). During training, it randomly deactivates neurons, while during evaluation it should be disabled for more stable predictions."
   ]
  },
  {
   "cell_type": "code",
   "execution_count": 8,
   "id": "c28025de",
   "metadata": {},
   "outputs": [],
   "source": [
    "class Neural_Network(nn.Module):\n",
    "    def __init__(self):\n",
    "        super(Neural_Network, self).__init__()\n",
    "        self.fc1 = nn.Linear(13, 8)\n",
    "        self.drop1 = nn.Dropout(p=0.1)\n",
    "        self.fc2 = nn.Linear(8, 5)\n",
    "        self.drop2 = nn.Dropout(p=0.1)\n",
    "        self.fc3 = nn.Linear(5, 3)\n",
    "        self.drop3 = nn.Dropout(p=0.1)\n",
    "        self.fc4 = nn.Linear(3, 1)\n",
    "        self.apply(self.init_weights)\n",
    "\n",
    "    def init_weights(self, atribute):\n",
    "        if isinstance(atribute, nn.Linear):\n",
    "            init.xavier_uniform_(atribute.weight)\n",
    "            init.zeros_(atribute.bias)\n",
    "\n",
    "    def forward(self, x):\n",
    "        x = F.relu(self.fc1(x))\n",
    "        x = self.drop1(x)\n",
    "        x = F.relu(self.fc2(x))\n",
    "        x = self.drop2(x)\n",
    "        x = F.relu(self.fc3(x))\n",
    "        x = self.drop3(x)\n",
    "        x = self.fc4(x)\n",
    "        return x.squeeze(-1)\n",
    "\n",
    "    def predict(self, x):\n",
    "        # Convert input to tensor to run through the model\n",
    "        x_tensor = torch.tensor(x, dtype=torch.float32)\n",
    "        output = self._module(x_tensor)\n",
    "        # Convert output tensor to numpy array and flatten to fit the expected output shape\n",
    "        return output.detach().numpy().ravel()\n",
    "\n",
    "# Override the NeuralNetRegressor's fit method to accommodate our run_nested_cv_for_model function\n",
    "class Fit_Regressor(NeuralNetRegressor):\n",
    "    def __init__(self, *args, log_path=\"./logs\", seed=84, X_test=None, y_test=None, **kwargs):\n",
    "        super().__init__(*args, **kwargs)\n",
    "        self.log_path = log_path\n",
    "        self.X_test = X_test\n",
    "        self.y_test = y_test\n",
    "        self.set_seed(seed)\n",
    "\n",
    "    def set_seed(self, seed):\n",
    "        random.seed(seed)\n",
    "        np.random.seed(seed)\n",
    "        torch.manual_seed(seed)\n",
    "\n",
    "    # Override Skorch's NeuralNetRegressor to log test loss after each epoch\n",
    "    def on_epoch_end(self, model, **kwargs):\n",
    "        super().on_epoch_end(model, **kwargs)\n",
    "\n",
    "        if self.X_test is not None and self.y_test is not None:\n",
    "            y_pred = self.predict(self.X_test)\n",
    "            test_loss = self.criterion_(\n",
    "                torch.tensor(y_pred), torch.tensor(self.y_test)\n",
    "            ).item()\n",
    "            self.history[-1]['test_loss'] = test_loss\n",
    "\n",
    "    def fit(self, X_train, y_train, X_test=None, y_test=None, **kwargs):\n",
    "        # Save test set for per-epoch use\n",
    "        self.X_test = X_test\n",
    "        self.y_test = y_test\n",
    "\n",
    "        super().fit(X_train, y_train, **kwargs)\n",
    "\n",
    "        # After training, update log file\n",
    "        if hasattr(self, \"log_path\"):\n",
    "            # Combine logs\n",
    "            df = pd.DataFrame(self.history)\n",
    "            df.to_csv(self.log_path, index=False)\n",
    "\n",
    "        return self\n",
    "\n",
    "# Get RMSE to use as loss function inside Skorch   \n",
    "class RMSELoss(nn.Module):\n",
    "    def forward(self, y_pred, y_true):\n",
    "        return torch.sqrt(F.mse_loss(y_pred, y_true))\n"
   ]
  },
  {
   "cell_type": "code",
   "execution_count": 9,
   "id": "282c39f2",
   "metadata": {},
   "outputs": [],
   "source": [
    "model = Neural_Network()"
   ]
  },
  {
   "cell_type": "markdown",
   "id": "63386435",
   "metadata": {},
   "source": [
    "This model has 179 learnable parameters:\n",
    "- Layer 1: (13 features + 1 bias) *  8 output neurons = 112 parameters\n",
    "- Layer 2: (8 input neurons + 1 bias) * 5 output neurons = 45 parameters\n",
    "- Layer 3: (5 input neurons + 1 bias) * 3 output neurons = 18 parameters\n",
    "- Layer 4: (3 input neurons + 1 bias) * 1 output neuron = 4 parameters"
   ]
  },
  {
   "cell_type": "code",
   "execution_count": 10,
   "id": "1cd20097",
   "metadata": {},
   "outputs": [
    {
     "name": "stdout",
     "output_type": "stream",
     "text": [
      "179\n"
     ]
    }
   ],
   "source": [
    "total = 0\n",
    "for parameter in model.parameters():\n",
    "    total += parameter.numel()\n",
    "print(total)"
   ]
  },
  {
   "cell_type": "code",
   "execution_count": 11,
   "id": "ff25c03a",
   "metadata": {},
   "outputs": [],
   "source": [
    "sc = StandardScaler()"
   ]
  },
  {
   "cell_type": "code",
   "execution_count": 12,
   "id": "c43782ba",
   "metadata": {},
   "outputs": [],
   "source": [
    "# Cast to float32 to later override the scaler\n",
    "float32 = FunctionTransformer(lambda X: X.astype('float32'), validate=False)"
   ]
  },
  {
   "cell_type": "markdown",
   "id": "3c2ef2f8",
   "metadata": {},
   "source": [
    "### Optimizer\n",
    "\n",
    "Adaptive Moment Estimation (Adam)\n",
    "Finally, Adaptive Moment Estimation or Adam is arguably the most versatile and widely used optimizer. It combines RMSprop with the concept of momentum: the average of past gradients where the most recent gradients have more weight. Basing the update on both gradient size and momentum helps accelerate training. Adam is often the default go-to optimizer.\n",
    "\n",
    "Given our small dataset, we do not antecipate great computational cots so we decided to use ADAM as our default optimizer."
   ]
  },
  {
   "cell_type": "code",
   "execution_count": 13,
   "id": "c88e54ba",
   "metadata": {},
   "outputs": [],
   "source": [
    "for i, (train_idx, test_idx) in enumerate(outer_cv.split(X), start=1):\n",
    "    nn_wrapper = Fit_Regressor(\n",
    "        module=Neural_Network,\n",
    "        max_epochs=20,\n",
    "        train_split=None,\n",
    "        optimizer= optim.Adam,\n",
    "        criterion=RMSELoss,\n",
    "        log_path= f\"./results/NN/logs_best_params_fold_{i}\",\n",
    "        verbose=0,\n",
    "        device='cpu',\n",
    "    )"
   ]
  },
  {
   "cell_type": "code",
   "execution_count": 14,
   "id": "bfbe4825",
   "metadata": {},
   "outputs": [],
   "source": [
    "pipeline = make_pipeline(\n",
    "    sc,\n",
    "    float32,\n",
    "    nn_wrapper\n",
    ")"
   ]
  },
  {
   "cell_type": "code",
   "execution_count": 15,
   "id": "56698744",
   "metadata": {},
   "outputs": [
    {
     "name": "stdout",
     "output_type": "stream",
     "text": [
      "\n",
      " Outer fold 1\n",
      "\n",
      "Grid search completed!\n",
      "Best parameters: {'optimizer__lr': 0.01, 'optimizer__weight_decay': 0.0001}\n",
      "Best score: -87.01028289794922\n",
      "Training with the best hyparameters of 1 fold\n",
      "  epoch    test_loss    train_loss     dur\n",
      "-------  -----------  ------------  ------\n",
      "      1     293.0186      \u001b[32m388.2364\u001b[0m  0.0020\n",
      "      2     234.0538      \u001b[32m319.6167\u001b[0m  0.0030\n",
      "      3     184.7381      \u001b[32m256.4999\u001b[0m  0.0022\n",
      "      4     144.7646      \u001b[32m189.4822\u001b[0m  0.0042\n",
      "      5     113.4953      \u001b[32m160.6277\u001b[0m  0.0025\n",
      "      6      90.6986      \u001b[32m118.3225\u001b[0m  0.0040\n",
      "      7      89.5913      \u001b[32m110.6029\u001b[0m  0.0040\n",
      "      8      89.5797      \u001b[32m101.3953\u001b[0m  0.0020\n",
      "      9      89.5680       \u001b[32m97.3895\u001b[0m  0.0040\n",
      "     10      89.5561       \u001b[32m90.5576\u001b[0m  0.0043\n",
      "     11      89.5442       93.0026  0.0031\n",
      "     12      89.5322       95.6046  0.0033\n",
      "     13      89.5201       \u001b[32m88.3438\u001b[0m  0.0040\n",
      "     14      89.5079       \u001b[32m88.1071\u001b[0m  0.0045\n",
      "     15      89.4956       \u001b[32m88.0655\u001b[0m  0.0041\n",
      "     16      89.4833       \u001b[32m86.8868\u001b[0m  0.0040\n",
      "     17      89.4710       87.6019  0.0040\n",
      "     18      89.4585       87.0064  0.0042\n",
      "     19      89.4461       88.0470  0.0035\n",
      "     20      89.4336       \u001b[32m86.6789\u001b[0m  0.0040\n",
      "Outer fold 1 - Best parameters: {'optimizer__lr': 0.01, 'optimizer__weight_decay': 0.0001}\n",
      "Outer fold 1 - Test score: -9606.5381\n",
      "\n",
      " Outer fold 2\n",
      "\n",
      "Grid search completed!\n",
      "Best parameters: {'optimizer__lr': 0.01, 'optimizer__weight_decay': 0.0001}\n",
      "Best score: -87.08665466308594\n",
      "Training with the best hyparameters of 2 fold\n",
      "  epoch    test_loss    train_loss     dur\n",
      "-------  -----------  ------------  ------\n",
      "      1     266.4880      \u001b[32m388.9364\u001b[0m  0.0024\n",
      "      2     214.5027      \u001b[32m323.2332\u001b[0m  0.0040\n",
      "      3     171.0450      \u001b[32m259.2126\u001b[0m  0.0036\n",
      "      4     135.7969      \u001b[32m190.3663\u001b[0m  0.0030\n",
      "      5     108.2228      \u001b[32m161.0460\u001b[0m  0.0031\n",
      "      6      88.4504      \u001b[32m119.5911\u001b[0m  0.0040\n",
      "      7      88.0351      \u001b[32m109.9482\u001b[0m  0.0030\n",
      "      8      88.0235      \u001b[32m101.5618\u001b[0m  0.0045\n",
      "      9      88.0118       \u001b[32m97.0098\u001b[0m  0.0033\n",
      "     10      88.0000       \u001b[32m89.9060\u001b[0m  0.0036\n",
      "     11      87.9881       92.9264  0.0034\n",
      "     12      87.9760       94.8626  0.0024\n",
      "     13      87.9639       \u001b[32m88.4831\u001b[0m  0.0035\n",
      "     14      87.9518       \u001b[32m88.3324\u001b[0m  0.0040\n",
      "     15      87.9395       \u001b[32m88.1674\u001b[0m  0.0024\n",
      "     16      87.9272       \u001b[32m86.8603\u001b[0m  0.0031\n",
      "     17      87.9149       87.7791  0.0023\n",
      "     18      87.9025       87.0960  0.0038\n",
      "     19      87.8900       88.1494  0.0030\n",
      "     20      87.8776       \u001b[32m86.7693\u001b[0m  0.0030\n",
      "Outer fold 2 - Best parameters: {'optimizer__lr': 0.01, 'optimizer__weight_decay': 0.0001}\n",
      "Outer fold 2 - Test score: -11724.2510\n",
      "\n",
      " Outer fold 3\n",
      "\n",
      "Grid search completed!\n",
      "Best parameters: {'optimizer__lr': 0.01, 'optimizer__weight_decay': 0.0001}\n",
      "Best score: -87.15869903564453\n",
      "Training with the best hyparameters of 3 fold\n",
      "  epoch    test_loss    train_loss     dur\n",
      "-------  -----------  ------------  ------\n",
      "      1     261.2924      \u001b[32m393.8972\u001b[0m  0.0050\n",
      "      2     210.7292      \u001b[32m325.0045\u001b[0m  0.0073\n",
      "      3     168.4609      \u001b[32m260.9676\u001b[0m  0.0050\n",
      "      4     134.1563      \u001b[32m192.3480\u001b[0m  0.0063\n",
      "      5     107.3122      \u001b[32m160.6667\u001b[0m  0.0055\n",
      "      6      87.7609      \u001b[32m119.7471\u001b[0m  0.0084\n",
      "      7      86.3813      \u001b[32m109.4849\u001b[0m  0.0041\n",
      "      8      86.3697      \u001b[32m101.4881\u001b[0m  0.0030\n",
      "      9      86.3580       \u001b[32m96.9318\u001b[0m  0.0030\n",
      "     10      86.3461       \u001b[32m90.1574\u001b[0m  0.0060\n",
      "     11      86.3342       93.6099  0.0050\n",
      "     12      86.3222       94.6516  0.0033\n",
      "     13      86.3101       \u001b[32m88.5378\u001b[0m  0.0030\n",
      "     14      86.2979       \u001b[32m88.4072\u001b[0m  0.0031\n",
      "     15      86.2857       \u001b[32m88.3391\u001b[0m  0.0041\n",
      "     16      86.2734       \u001b[32m86.9244\u001b[0m  0.0031\n",
      "     17      86.2610       87.8547  0.0032\n",
      "     18      86.2486       87.1542  0.0032\n",
      "     19      86.2362       88.2633  0.0034\n",
      "     20      86.2237       \u001b[32m86.8417\u001b[0m  0.0040\n",
      "Outer fold 3 - Best parameters: {'optimizer__lr': 0.01, 'optimizer__weight_decay': 0.0001}\n",
      "Outer fold 3 - Test score: -2037.8552\n",
      "\n",
      " Outer fold 4\n",
      "\n",
      "Grid search completed!\n",
      "Best parameters: {'optimizer__lr': 0.01, 'optimizer__weight_decay': 0.0001}\n",
      "Best score: -87.24077453613282\n",
      "Training with the best hyparameters of 4 fold\n",
      "  epoch    test_loss    train_loss     dur\n",
      "-------  -----------  ------------  ------\n",
      "      1     255.4645      \u001b[32m392.3226\u001b[0m  0.0041\n",
      "      2     205.5647      \u001b[32m326.1498\u001b[0m  0.0030\n",
      "      3     163.8697      \u001b[32m257.3412\u001b[0m  0.0030\n",
      "      4     130.0800      \u001b[32m191.0477\u001b[0m  0.0030\n",
      "      5     103.6860      \u001b[32m161.0553\u001b[0m  0.0041\n",
      "      6      84.6561      \u001b[32m120.3718\u001b[0m  0.0030\n",
      "      7      84.4107      \u001b[32m110.0938\u001b[0m  0.0040\n",
      "      8      84.3991      \u001b[32m101.3641\u001b[0m  0.0041\n",
      "      9      84.3873       \u001b[32m97.2264\u001b[0m  0.0030\n",
      "     10      84.3755       \u001b[32m89.9968\u001b[0m  0.0030\n",
      "     11      84.3636       93.5901  0.0030\n",
      "     12      84.3516       94.8145  0.0040\n",
      "     13      84.3395       \u001b[32m88.6177\u001b[0m  0.0040\n",
      "     14      84.3273       \u001b[32m88.4625\u001b[0m  0.0030\n",
      "     15      84.3151       \u001b[32m88.4364\u001b[0m  0.0030\n",
      "     16      84.3028       \u001b[32m87.0018\u001b[0m  0.0040\n",
      "     17      84.2904       87.9007  0.0030\n",
      "     18      84.2780       87.2613  0.0032\n",
      "     19      84.2656       88.3471  0.0042\n",
      "     20      84.2531       \u001b[32m86.9338\u001b[0m  0.0040\n",
      "Outer fold 4 - Best parameters: {'optimizer__lr': 0.01, 'optimizer__weight_decay': 0.0001}\n",
      "Outer fold 4 - Test score: -2441.5762\n",
      "\n",
      " Outer fold 5\n",
      "\n",
      "Grid search completed!\n",
      "Best parameters: {'optimizer__lr': 0.01, 'optimizer__weight_decay': 0.0001}\n",
      "Best score: -87.132080078125\n",
      "Training with the best hyparameters of 5 fold\n",
      "  epoch    test_loss    train_loss     dur\n",
      "-------  -----------  ------------  ------\n",
      "      1     267.2437      \u001b[32m389.4023\u001b[0m  0.0030\n",
      "      2     214.7083      \u001b[32m322.0167\u001b[0m  0.0040\n",
      "      3     170.7600      \u001b[32m261.0313\u001b[0m  0.0030\n",
      "      4     135.1118      \u001b[32m190.3543\u001b[0m  0.0040\n",
      "      5     107.2554      \u001b[32m161.3015\u001b[0m  0.0031\n",
      "      6      87.3671      \u001b[32m119.3988\u001b[0m  0.0035\n",
      "      7      87.0019      \u001b[32m110.8274\u001b[0m  0.0046\n",
      "      8      86.9903      \u001b[32m101.4014\u001b[0m  0.0030\n",
      "      9      86.9786       \u001b[32m96.5270\u001b[0m  0.0030\n",
      "     10      86.9668       \u001b[32m90.3446\u001b[0m  0.0040\n",
      "     11      86.9548       93.4655  0.0040\n",
      "     12      86.9428       95.3394  0.0030\n",
      "     13      86.9307       \u001b[32m88.5242\u001b[0m  0.0035\n",
      "     14      86.9185       \u001b[32m88.1919\u001b[0m  0.0031\n",
      "     15      86.9063       \u001b[32m88.1652\u001b[0m  0.0045\n",
      "     16      86.8940       \u001b[32m86.8651\u001b[0m  0.0034\n",
      "     17      86.8816       87.7403  0.0034\n",
      "     18      86.8692       87.1307  0.0043\n",
      "     19      86.8568       88.2020  0.0034\n",
      "     20      86.8443       \u001b[32m86.7957\u001b[0m  0.0040\n",
      "Outer fold 5 - Best parameters: {'optimizer__lr': 0.01, 'optimizer__weight_decay': 0.0001}\n",
      "Outer fold 5 - Test score: -24343.5000\n",
      "\n",
      " Outer fold 6\n",
      "\n",
      "Grid search completed!\n",
      "Best parameters: {'optimizer__lr': 0.01, 'optimizer__weight_decay': 0.0001}\n",
      "Best score: -87.15224151611328\n",
      "Training with the best hyparameters of 6 fold\n",
      "  epoch    test_loss    train_loss     dur\n",
      "-------  -----------  ------------  ------\n",
      "      1     260.3461      \u001b[32m390.9543\u001b[0m  0.0020\n",
      "      2     209.2774      \u001b[32m324.9230\u001b[0m  0.0035\n",
      "      3     166.6651      \u001b[32m259.4206\u001b[0m  0.0025\n",
      "      4     132.1713      \u001b[32m190.4875\u001b[0m  0.0031\n",
      "      5     105.2575      \u001b[32m160.9954\u001b[0m  0.0038\n",
      "      6      86.8308      \u001b[32m120.0637\u001b[0m  0.0030\n",
      "      7      86.5249      \u001b[32m109.9583\u001b[0m  0.0046\n",
      "      8      86.5133      \u001b[32m101.6638\u001b[0m  0.0040\n",
      "      9      86.5016       \u001b[32m97.5782\u001b[0m  0.0038\n",
      "     10      86.4897       \u001b[32m89.8659\u001b[0m  0.1315\n",
      "     11      86.4778       93.2718  0.0598\n",
      "     12      86.4658       94.6985  0.0050\n",
      "     13      86.4537       \u001b[32m88.4965\u001b[0m  0.0030\n",
      "     14      86.4415       \u001b[32m88.3443\u001b[0m  0.0032\n",
      "     15      86.4293       \u001b[32m88.2489\u001b[0m  0.0030\n",
      "     16      86.4170       \u001b[32m86.8903\u001b[0m  0.0040\n",
      "     17      86.4046       87.9026  0.0046\n",
      "     18      86.3922       87.1937  0.0040\n",
      "     19      86.3798       88.2215  0.0070\n",
      "     20      86.3673       \u001b[32m86.8287\u001b[0m  0.0070\n",
      "Outer fold 6 - Best parameters: {'optimizer__lr': 0.01, 'optimizer__weight_decay': 0.0001}\n",
      "Outer fold 6 - Test score: -7552.5020\n",
      "\n",
      " Outer fold 7\n",
      "\n",
      "Grid search completed!\n",
      "Best parameters: {'optimizer__lr': 0.01, 'optimizer__weight_decay': 0.0001}\n",
      "Best score: -87.1083969116211\n",
      "Training with the best hyparameters of 7 fold\n",
      "  epoch    test_loss    train_loss     dur\n",
      "-------  -----------  ------------  ------\n",
      "      1     268.7155      \u001b[32m385.3710\u001b[0m  0.0030\n",
      "      2     216.1334      \u001b[32m322.9874\u001b[0m  0.0030\n",
      "      3     172.1448      \u001b[32m257.6808\u001b[0m  0.0030\n",
      "      4     136.4502      \u001b[32m189.4597\u001b[0m  0.0030\n",
      "      5     108.5205      \u001b[32m162.2956\u001b[0m  0.0035\n",
      "      6      88.1884      \u001b[32m119.6389\u001b[0m  0.0030\n",
      "      7      87.5910      \u001b[32m110.3897\u001b[0m  0.0030\n",
      "      8      87.5794      \u001b[32m101.8558\u001b[0m  0.0033\n",
      "      9      87.5677       \u001b[32m97.4219\u001b[0m  0.0030\n",
      "     10      87.5559       \u001b[32m90.0690\u001b[0m  0.0042\n",
      "     11      87.5439       93.1027  0.0030\n",
      "     12      87.5319       95.4297  0.0034\n",
      "     13      87.5198       \u001b[32m88.4750\u001b[0m  0.0035\n",
      "     14      87.5076       \u001b[32m88.1735\u001b[0m  0.0032\n",
      "     15      87.4954       \u001b[32m88.1197\u001b[0m  0.0035\n",
      "     16      87.4831       \u001b[32m86.9025\u001b[0m  0.0044\n",
      "     17      87.4707       87.8302  0.0033\n",
      "     18      87.4583       87.0547  0.0022\n",
      "     19      87.4459       88.0001  0.0041\n",
      "     20      87.4334       \u001b[32m86.7690\u001b[0m  0.0040\n",
      "Outer fold 7 - Best parameters: {'optimizer__lr': 0.01, 'optimizer__weight_decay': 0.0001}\n",
      "Outer fold 7 - Test score: -4951.6768\n",
      "\n",
      " Outer fold 8\n",
      "\n",
      "Grid search completed!\n",
      "Best parameters: {'optimizer__lr': 0.01, 'optimizer__weight_decay': 0.0001}\n",
      "Best score: -87.14029998779297\n",
      "Training with the best hyparameters of 8 fold\n",
      "  epoch    test_loss    train_loss     dur\n",
      "-------  -----------  ------------  ------\n",
      "      1     271.6268      \u001b[32m388.9164\u001b[0m  0.0030\n",
      "      2     218.2837      \u001b[32m321.5457\u001b[0m  0.0037\n",
      "      3     173.5927      \u001b[32m259.1452\u001b[0m  0.0040\n",
      "      4     137.2842      \u001b[32m190.2544\u001b[0m  0.0030\n",
      "      5     108.8531      \u001b[32m162.5272\u001b[0m  0.0040\n",
      "      6      87.7467      \u001b[32m119.1565\u001b[0m  0.0040\n",
      "      7      86.6202      \u001b[32m110.5888\u001b[0m  0.0043\n",
      "      8      86.6086      \u001b[32m102.4449\u001b[0m  0.0045\n",
      "      9      86.5969       \u001b[32m96.3019\u001b[0m  0.0040\n",
      "     10      86.5851       \u001b[32m90.3599\u001b[0m  0.0031\n",
      "     11      86.5731       93.2668  0.0020\n",
      "     12      86.5611       95.0933  0.0040\n",
      "     13      86.5490       \u001b[32m88.5057\u001b[0m  0.0042\n",
      "     14      86.5368       \u001b[32m88.1628\u001b[0m  0.0100\n",
      "     15      86.5246       \u001b[32m88.1328\u001b[0m  0.0986\n",
      "     16      86.5123       \u001b[32m86.9217\u001b[0m  0.0384\n",
      "     17      86.4999       87.7971  0.0656\n",
      "     18      86.4875       87.0925  0.0035\n",
      "     19      86.4751       88.0294  0.0050\n",
      "     20      86.4626       \u001b[32m86.8063\u001b[0m  0.0040\n",
      "Outer fold 8 - Best parameters: {'optimizer__lr': 0.01, 'optimizer__weight_decay': 0.0001}\n",
      "Outer fold 8 - Test score: -41604.1641\n",
      "\n",
      " Outer fold 9\n",
      "\n",
      "Grid search completed!\n",
      "Best parameters: {'optimizer__lr': 0.01, 'optimizer__weight_decay': 0.0001}\n",
      "Best score: -87.11361541748047\n",
      "Training with the best hyparameters of 9 fold\n",
      "  epoch    test_loss    train_loss     dur\n",
      "-------  -----------  ------------  ------\n",
      "      1     269.3517      \u001b[32m388.0067\u001b[0m  0.0030\n",
      "      2     216.2836      \u001b[32m320.5299\u001b[0m  0.0040\n",
      "      3     171.8699      \u001b[32m259.8015\u001b[0m  0.0038\n",
      "      4     135.8300      \u001b[32m190.9330\u001b[0m  0.0045\n",
      "      5     107.6643      \u001b[32m162.0503\u001b[0m  0.0040\n",
      "      6      88.0108      \u001b[32m119.4269\u001b[0m  0.0040\n",
      "      7      87.4853      \u001b[32m110.5209\u001b[0m  0.0032\n",
      "      8      87.4737      \u001b[32m102.4639\u001b[0m  0.0031\n",
      "      9      87.4619       \u001b[32m97.0008\u001b[0m  0.0033\n",
      "     10      87.4501       \u001b[32m90.5285\u001b[0m  0.0047\n",
      "     11      87.4382       93.2405  0.0030\n",
      "     12      87.4262       95.4383  0.0041\n",
      "     13      87.4141       \u001b[32m88.4629\u001b[0m  0.0044\n",
      "     14      87.4019       \u001b[32m88.1538\u001b[0m  0.0033\n",
      "     15      87.3896       \u001b[32m88.1343\u001b[0m  0.0044\n",
      "     16      87.3773       \u001b[32m86.9493\u001b[0m  0.0025\n",
      "     17      87.3650       87.7112  0.0031\n",
      "     18      87.3526       87.0549  0.0032\n",
      "     19      87.3401       87.9837  0.0040\n",
      "     20      87.3276       \u001b[32m86.7845\u001b[0m  0.0032\n",
      "Outer fold 9 - Best parameters: {'optimizer__lr': 0.01, 'optimizer__weight_decay': 0.0001}\n",
      "Outer fold 9 - Test score: -21215.3301\n",
      "\n",
      " Outer fold 10\n",
      "\n",
      "Grid search completed!\n",
      "Best parameters: {'optimizer__lr': 0.01, 'optimizer__weight_decay': 0.0001}\n",
      "Best score: -87.10129852294922\n",
      "Training with the best hyparameters of 10 fold\n",
      "  epoch    test_loss    train_loss     dur\n",
      "-------  -----------  ------------  ------\n",
      "      1     272.7070      \u001b[32m389.2416\u001b[0m  0.0030\n",
      "      2     218.6504      \u001b[32m321.4195\u001b[0m  0.0035\n",
      "      3     173.4239      \u001b[32m258.9454\u001b[0m  0.0043\n",
      "      4     136.7401      \u001b[32m190.9421\u001b[0m  0.0038\n",
      "      5     108.0748      \u001b[32m162.1874\u001b[0m  0.0050\n",
      "      6      87.8635      \u001b[32m119.2840\u001b[0m  0.0036\n",
      "      7      87.8520      \u001b[32m110.7289\u001b[0m  0.0033\n",
      "      8      87.8404      \u001b[32m102.2487\u001b[0m  0.0040\n",
      "      9      87.8287       \u001b[32m96.2964\u001b[0m  0.0041\n",
      "     10      87.8169       \u001b[32m90.3037\u001b[0m  0.0036\n",
      "     11      87.8050       93.2165  0.0032\n",
      "     12      87.7929       95.0642  0.0049\n",
      "     13      87.7808       \u001b[32m88.4642\u001b[0m  0.0047\n",
      "     14      87.7686       \u001b[32m88.1198\u001b[0m  0.0040\n",
      "     15      87.7564       88.1500  0.0043\n",
      "     16      87.7441       \u001b[32m86.8922\u001b[0m  0.0034\n",
      "     17      87.7317       87.7517  0.0030\n",
      "     18      87.7193       87.0468  0.0043\n",
      "     19      87.7069       87.9830  0.0046\n",
      "     20      87.6944       \u001b[32m86.7666\u001b[0m  0.0040\n",
      "Outer fold 10 - Best parameters: {'optimizer__lr': 0.01, 'optimizer__weight_decay': 0.0001}\n",
      "Outer fold 10 - Test score: -68205.3984\n",
      "\n",
      " Outer fold 11\n",
      "\n",
      "Grid search completed!\n",
      "Best parameters: {'optimizer__lr': 0.01, 'optimizer__weight_decay': 0.0001}\n",
      "Best score: -87.15047760009766\n",
      "Training with the best hyparameters of 11 fold\n",
      "  epoch    test_loss    train_loss     dur\n",
      "-------  -----------  ------------  ------\n",
      "      1     267.9359      \u001b[32m388.9251\u001b[0m  0.0030\n",
      "      2     215.3380      \u001b[32m321.5250\u001b[0m  0.0033\n",
      "      3     171.2751      \u001b[32m261.3760\u001b[0m  0.0032\n",
      "      4     135.5018      \u001b[32m190.5811\u001b[0m  0.0040\n",
      "      5     107.5098      \u001b[32m163.0309\u001b[0m  0.0031\n",
      "      6      87.2942      \u001b[32m119.4519\u001b[0m  0.0040\n",
      "      7      86.2843      \u001b[32m110.5435\u001b[0m  0.0051\n",
      "      8      86.2727      \u001b[32m102.0115\u001b[0m  0.0040\n",
      "      9      86.2609       \u001b[32m96.3948\u001b[0m  0.0030\n",
      "     10      86.2491       \u001b[32m90.3521\u001b[0m  0.0030\n",
      "     11      86.2372       93.2472  0.0026\n",
      "     12      86.2252       95.0741  0.0041\n",
      "     13      86.2131       \u001b[32m88.5364\u001b[0m  0.0030\n",
      "     14      86.2009       \u001b[32m88.1810\u001b[0m  0.0040\n",
      "     15      86.1886       \u001b[32m88.1654\u001b[0m  0.0030\n",
      "     16      86.1763       \u001b[32m86.9423\u001b[0m  0.0030\n",
      "     17      86.1640       87.8021  0.0030\n",
      "     18      86.1515       87.1591  0.0041\n",
      "     19      86.1391       88.0319  0.0034\n",
      "     20      86.1266       \u001b[32m86.8209\u001b[0m  0.0030\n",
      "Outer fold 11 - Best parameters: {'optimizer__lr': 0.01, 'optimizer__weight_decay': 0.0001}\n",
      "Outer fold 11 - Test score: -9633.7627\n",
      "\n",
      " Outer fold 12\n",
      "\n",
      "Grid search completed!\n",
      "Best parameters: {'optimizer__lr': 0.01, 'optimizer__weight_decay': 0.0001}\n",
      "Best score: -87.07811889648437\n",
      "Training with the best hyparameters of 12 fold\n",
      "  epoch    test_loss    train_loss     dur\n",
      "-------  -----------  ------------  ------\n",
      "      1     273.9357      \u001b[32m384.9111\u001b[0m  0.0035\n",
      "      2     219.9957      \u001b[32m323.3003\u001b[0m  0.0035\n",
      "      3     174.8727      \u001b[32m258.3594\u001b[0m  0.0023\n",
      "      4     138.2938      \u001b[32m188.8757\u001b[0m  0.0025\n",
      "      5     109.6906      \u001b[32m162.1824\u001b[0m  0.0030\n",
      "      6      88.9626      \u001b[32m119.6115\u001b[0m  0.0034\n",
      "      7      88.5271      \u001b[32m110.2547\u001b[0m  0.0030\n",
      "      8      88.5155      \u001b[32m101.6310\u001b[0m  0.0030\n",
      "      9      88.5038       \u001b[32m97.4340\u001b[0m  0.0030\n",
      "     10      88.4920       \u001b[32m90.0497\u001b[0m  0.0040\n",
      "     11      88.4800       93.0687  0.0030\n",
      "     12      88.4680       95.3917  0.0034\n",
      "     13      88.4559       \u001b[32m88.4423\u001b[0m  0.0040\n",
      "     14      88.4437       \u001b[32m88.1456\u001b[0m  0.0030\n",
      "     15      88.4315       \u001b[32m88.1408\u001b[0m  0.0034\n",
      "     16      88.4192       \u001b[32m86.8705\u001b[0m  0.0035\n",
      "     17      88.4068       87.7981  0.0030\n",
      "     18      88.3944       87.0209  0.0030\n",
      "     19      88.3820       87.9672  0.0033\n",
      "     20      88.3695       \u001b[32m86.7336\u001b[0m  0.0030\n",
      "Outer fold 12 - Best parameters: {'optimizer__lr': 0.01, 'optimizer__weight_decay': 0.0001}\n",
      "Outer fold 12 - Test score: -82115.4141\n",
      "\n",
      " Outer fold 13\n",
      "\n",
      "Grid search completed!\n",
      "Best parameters: {'optimizer__lr': 0.01, 'optimizer__weight_decay': 0.0001}\n",
      "Best score: -87.11314086914062\n",
      "Training with the best hyparameters of 13 fold\n",
      "  epoch    test_loss    train_loss     dur\n",
      "-------  -----------  ------------  ------\n",
      "      1     268.8400      \u001b[32m388.3959\u001b[0m  0.0030\n",
      "      2     215.7564      \u001b[32m322.4688\u001b[0m  0.0023\n",
      "      3     171.3740      \u001b[32m257.8103\u001b[0m  0.0030\n",
      "      4     135.3586      \u001b[32m189.7344\u001b[0m  0.0030\n",
      "      5     107.2364      \u001b[32m163.3898\u001b[0m  0.0030\n",
      "      6      87.8048      \u001b[32m119.5613\u001b[0m  0.0040\n",
      "      7      87.4374      \u001b[32m110.4265\u001b[0m  0.0031\n",
      "      8      87.4258      \u001b[32m102.1517\u001b[0m  0.0030\n",
      "      9      87.4141       \u001b[32m97.2947\u001b[0m  0.0030\n",
      "     10      87.4022       \u001b[32m90.3366\u001b[0m  0.0030\n",
      "     11      87.3903       93.1748  0.0031\n",
      "     12      87.3783       95.7697  0.0041\n",
      "     13      87.3662       \u001b[32m88.4784\u001b[0m  0.0030\n",
      "     14      87.3540       \u001b[32m88.2043\u001b[0m  0.0032\n",
      "     15      87.3418       \u001b[32m88.1493\u001b[0m  0.0025\n",
      "     16      87.3295       \u001b[32m86.9224\u001b[0m  0.0041\n",
      "     17      87.3171       87.7655  0.0030\n",
      "     18      87.3047       87.1210  0.0034\n",
      "     19      87.2923       88.0104  0.0043\n",
      "     20      87.2798       \u001b[32m86.7808\u001b[0m  0.0030\n",
      "Outer fold 13 - Best parameters: {'optimizer__lr': 0.01, 'optimizer__weight_decay': 0.0001}\n",
      "Outer fold 13 - Test score: -3177.2866\n",
      "\n",
      " Outer fold 14\n",
      "\n",
      "Grid search completed!\n",
      "Best parameters: {'optimizer__lr': 0.01, 'optimizer__weight_decay': 0.0001}\n",
      "Best score: -87.11351928710937\n",
      "Training with the best hyparameters of 14 fold\n",
      "  epoch    test_loss    train_loss     dur\n",
      "-------  -----------  ------------  ------\n",
      "      1     274.9511      \u001b[32m385.8537\u001b[0m  0.0037\n",
      "      2     220.4949      \u001b[32m322.8781\u001b[0m  0.0032\n",
      "      3     174.9327      \u001b[32m258.6348\u001b[0m  0.0038\n",
      "      4     138.0017      \u001b[32m188.9880\u001b[0m  0.0036\n",
      "      5     109.1340      \u001b[32m162.3504\u001b[0m  0.0040\n",
      "      6      88.1476      \u001b[32m119.5456\u001b[0m  0.0040\n",
      "      7      87.4305      \u001b[32m110.2472\u001b[0m  0.0020\n",
      "      8      87.4189      \u001b[32m101.7350\u001b[0m  0.0043\n",
      "      9      87.4072       \u001b[32m97.3965\u001b[0m  0.0035\n",
      "     10      87.3954       \u001b[32m90.0955\u001b[0m  0.0040\n",
      "     11      87.3835       93.1823  0.0034\n",
      "     12      87.3714       95.4339  0.0040\n",
      "     13      87.3593       \u001b[32m88.4762\u001b[0m  0.0034\n",
      "     14      87.3472       \u001b[32m88.1652\u001b[0m  0.0050\n",
      "     15      87.3349       \u001b[32m88.1294\u001b[0m  0.0030\n",
      "     16      87.3226       \u001b[32m86.9062\u001b[0m  0.0045\n",
      "     17      87.3102       87.7636  0.0037\n",
      "     18      87.2978       87.0629  0.0026\n",
      "     19      87.2854       88.0152  0.0042\n",
      "     20      87.2729       \u001b[32m86.7760\u001b[0m  0.0031\n",
      "Outer fold 14 - Best parameters: {'optimizer__lr': 0.01, 'optimizer__weight_decay': 0.0001}\n",
      "Outer fold 14 - Test score: -7977.7959\n",
      "\n",
      " Outer fold 15\n",
      "\n",
      "Grid search completed!\n",
      "Best parameters: {'optimizer__lr': 0.01, 'optimizer__weight_decay': 0.0001}\n",
      "Best score: -87.14090270996094\n",
      "Training with the best hyparameters of 15 fold\n",
      "  epoch    test_loss    train_loss     dur\n",
      "-------  -----------  ------------  ------\n",
      "      1     263.4292      \u001b[32m390.2615\u001b[0m  0.0053\n",
      "      2     212.8447      \u001b[32m322.0925\u001b[0m  0.0040\n",
      "      3     170.4339      \u001b[32m261.3532\u001b[0m  0.0035\n",
      "      4     135.9362      \u001b[32m191.5098\u001b[0m  0.0033\n",
      "      5     108.8857      \u001b[32m163.0145\u001b[0m  0.0051\n",
      "      6      88.9603      \u001b[32m118.9580\u001b[0m  0.0033\n",
      "      7      86.5932      \u001b[32m109.9741\u001b[0m  0.0030\n",
      "      8      86.5816      \u001b[32m102.0678\u001b[0m  0.0030\n",
      "      9      86.5699       \u001b[32m96.3792\u001b[0m  0.0040\n",
      "     10      86.5581       \u001b[32m90.4179\u001b[0m  0.0043\n",
      "     11      86.5462       93.5055  0.0030\n",
      "     12      86.5341       95.2256  0.0041\n",
      "     13      86.5220       \u001b[32m88.5622\u001b[0m  0.0030\n",
      "     14      86.5098       \u001b[32m88.1928\u001b[0m  0.0035\n",
      "     15      86.4976       88.2050  0.0039\n",
      "     16      86.4853       \u001b[32m86.9366\u001b[0m  0.0026\n",
      "     17      86.4729       87.8091  0.0036\n",
      "     18      86.4605       87.1124  0.0030\n",
      "     19      86.4481       88.0403  0.0044\n",
      "     20      86.4356       \u001b[32m86.8180\u001b[0m  0.0042\n",
      "Outer fold 15 - Best parameters: {'optimizer__lr': 0.01, 'optimizer__weight_decay': 0.0001}\n",
      "Outer fold 15 - Test score: -4279.1616\n",
      "\n",
      " Outer fold 16\n",
      "\n",
      "Grid search completed!\n",
      "Best parameters: {'optimizer__lr': 0.01, 'optimizer__weight_decay': 0.0001}\n",
      "Best score: -87.24641418457031\n",
      "Training with the best hyparameters of 16 fold\n",
      "  epoch    test_loss    train_loss     dur\n",
      "-------  -----------  ------------  ------\n",
      "      1     271.0258      \u001b[32m387.2792\u001b[0m  0.0030\n",
      "      2     216.0796      \u001b[32m322.0751\u001b[0m  0.0034\n",
      "      3     170.1496      \u001b[32m258.2023\u001b[0m  0.0040\n",
      "      4     132.9189      \u001b[32m189.7557\u001b[0m  0.0030\n",
      "      5     103.8533      \u001b[32m163.3491\u001b[0m  0.0030\n",
      "      6      83.5642      \u001b[32m119.4081\u001b[0m  0.0031\n",
      "      7      83.1913      \u001b[32m110.5901\u001b[0m  0.0033\n",
      "      8      83.1798      \u001b[32m102.3599\u001b[0m  0.0032\n",
      "      9      83.1681       \u001b[32m97.1461\u001b[0m  0.0033\n",
      "     10      83.1563       \u001b[32m90.4562\u001b[0m  0.0031\n",
      "     11      83.1444       93.3263  0.0030\n",
      "     12      83.1324       95.9165  0.0030\n",
      "     13      83.1203       \u001b[32m88.6105\u001b[0m  0.0030\n",
      "     14      83.1082       \u001b[32m88.3212\u001b[0m  0.0035\n",
      "     15      83.0960       \u001b[32m88.3148\u001b[0m  0.0040\n",
      "     16      83.0837       \u001b[32m87.0220\u001b[0m  0.0030\n",
      "     17      83.0714       87.9653  0.0037\n",
      "     18      83.0590       87.1951  0.0030\n",
      "     19      83.0466       88.1344  0.0030\n",
      "     20      83.0342       \u001b[32m86.9096\u001b[0m  0.0027\n",
      "Outer fold 16 - Best parameters: {'optimizer__lr': 0.01, 'optimizer__weight_decay': 0.0001}\n",
      "Outer fold 16 - Test score: -162.7086\n",
      "\n",
      " Outer fold 17\n",
      "\n",
      "Grid search completed!\n",
      "Best parameters: {'optimizer__lr': 0.01, 'optimizer__weight_decay': 0.0001}\n",
      "Best score: -87.13223571777344\n",
      "Training with the best hyparameters of 17 fold\n",
      "  epoch    test_loss    train_loss     dur\n",
      "-------  -----------  ------------  ------\n",
      "      1     268.8257      \u001b[32m388.3141\u001b[0m  0.0030\n",
      "      2     216.1707      \u001b[32m322.2744\u001b[0m  0.0032\n",
      "      3     172.0758      \u001b[32m260.4576\u001b[0m  0.0033\n",
      "      4     136.3039      \u001b[32m189.6140\u001b[0m  0.0022\n",
      "      5     108.3404      \u001b[32m163.1838\u001b[0m  0.0021\n",
      "      6      88.2747      \u001b[32m119.2115\u001b[0m  0.0030\n",
      "      7      86.8810      \u001b[32m110.6363\u001b[0m  0.0032\n",
      "      8      86.8694      \u001b[32m102.2657\u001b[0m  0.0030\n",
      "      9      86.8577       \u001b[32m97.0421\u001b[0m  0.0042\n",
      "     10      86.8458       \u001b[32m90.3245\u001b[0m  0.0044\n",
      "     11      86.8339       93.2738  0.0048\n",
      "     12      86.8219       95.2944  0.0063\n",
      "     13      86.8098       \u001b[32m88.4962\u001b[0m  0.0072\n",
      "     14      86.7976       \u001b[32m88.1518\u001b[0m  0.0130\n",
      "     15      86.7853       88.1831  0.0141\n",
      "     16      86.7730       \u001b[32m86.8982\u001b[0m  0.0091\n",
      "     17      86.7607       87.8489  0.0150\n",
      "     18      86.7483       87.0785  0.0125\n",
      "     19      86.7358       88.0175  0.0045\n",
      "     20      86.7233       \u001b[32m86.7931\u001b[0m  0.0045\n",
      "Outer fold 17 - Best parameters: {'optimizer__lr': 0.01, 'optimizer__weight_decay': 0.0001}\n",
      "Outer fold 17 - Test score: -11973.5371\n",
      "\n",
      " Outer fold 18\n",
      "\n",
      "Grid search completed!\n",
      "Best parameters: {'optimizer__lr': 0.01, 'optimizer__weight_decay': 0.0001}\n",
      "Best score: -87.11326446533204\n",
      "Training with the best hyparameters of 18 fold\n",
      "  epoch    test_loss    train_loss     dur\n",
      "-------  -----------  ------------  ------\n",
      "      1     270.7973      \u001b[32m387.0496\u001b[0m  0.0030\n",
      "      2     215.3090      \u001b[32m323.5873\u001b[0m  0.0040\n",
      "      3     168.9937      \u001b[32m259.4544\u001b[0m  0.0030\n",
      "      4     131.6251      \u001b[32m190.3194\u001b[0m  0.0030\n",
      "      5     103.0629      \u001b[32m161.7260\u001b[0m  0.0037\n",
      "      6      87.5280      \u001b[32m119.8925\u001b[0m  0.0035\n",
      "      7      87.5165      \u001b[32m110.4831\u001b[0m  0.0030\n",
      "      8      87.5050      \u001b[32m102.3069\u001b[0m  0.0036\n",
      "      9      87.4932       \u001b[32m97.0512\u001b[0m  0.0031\n",
      "     10      87.4814       \u001b[32m90.2812\u001b[0m  0.0032\n",
      "     11      87.4695       92.7218  0.0032\n",
      "     12      87.4575       95.2386  0.0033\n",
      "     13      87.4454       \u001b[32m88.4513\u001b[0m  0.0023\n",
      "     14      87.4332       \u001b[32m88.2922\u001b[0m  0.0032\n",
      "     15      87.4209       \u001b[32m88.1675\u001b[0m  0.0034\n",
      "     16      87.4086       \u001b[32m86.9592\u001b[0m  0.0030\n",
      "     17      87.3963       87.6703  0.0023\n",
      "     18      87.3839       87.0993  0.0036\n",
      "     19      87.3714       88.0890  0.0030\n",
      "     20      87.3590       \u001b[32m86.7860\u001b[0m  0.0040\n",
      "Outer fold 18 - Best parameters: {'optimizer__lr': 0.01, 'optimizer__weight_decay': 0.0001}\n",
      "Outer fold 18 - Test score: -8796.7061\n",
      "\n",
      " Outer fold 19\n",
      "\n",
      "Grid search completed!\n",
      "Best parameters: {'optimizer__lr': 0.01, 'optimizer__weight_decay': 0.0001}\n",
      "Best score: -87.1180633544922\n",
      "Training with the best hyparameters of 19 fold\n",
      "  epoch    test_loss    train_loss     dur\n",
      "-------  -----------  ------------  ------\n",
      "      1     264.5383      \u001b[32m389.4746\u001b[0m  0.0040\n",
      "      2     212.7284      \u001b[32m320.5294\u001b[0m  0.0050\n",
      "      3     169.3499      \u001b[32m259.9581\u001b[0m  0.0059\n",
      "      4     134.1490      \u001b[32m191.1185\u001b[0m  0.0042\n",
      "      5     106.6650      \u001b[32m162.9892\u001b[0m  0.0040\n",
      "      6      87.3658      \u001b[32m119.0510\u001b[0m  0.0084\n",
      "      7      87.3543      \u001b[32m110.5670\u001b[0m  0.0051\n",
      "      8      87.3427      \u001b[32m102.1642\u001b[0m  0.0040\n",
      "      9      87.3310       \u001b[32m96.3500\u001b[0m  0.0040\n",
      "     10      87.3192       \u001b[32m90.4757\u001b[0m  0.0030\n",
      "     11      87.3072       93.1693  0.0036\n",
      "     12      87.2952       95.0629  0.0042\n",
      "     13      87.2831       \u001b[32m88.4650\u001b[0m  0.0040\n",
      "     14      87.2709       \u001b[32m88.1568\u001b[0m  0.0033\n",
      "     15      87.2587       \u001b[32m88.1271\u001b[0m  0.0040\n",
      "     16      87.2464       \u001b[32m86.9562\u001b[0m  0.0030\n",
      "     17      87.2340       87.7201  0.0040\n",
      "     18      87.2216       87.0819  0.0030\n",
      "     19      87.2092       88.0020  0.0030\n",
      "     20      87.1967       \u001b[32m86.7839\u001b[0m  0.0030\n",
      "Outer fold 19 - Best parameters: {'optimizer__lr': 0.01, 'optimizer__weight_decay': 0.0001}\n",
      "Outer fold 19 - Test score: -9563.7852\n",
      "\n",
      " Outer fold 20\n",
      "\n",
      "Grid search completed!\n",
      "Best parameters: {'optimizer__lr': 0.01, 'optimizer__weight_decay': 0.0001}\n",
      "Best score: -87.13495788574218\n",
      "Training with the best hyparameters of 20 fold\n",
      "  epoch    test_loss    train_loss     dur\n",
      "-------  -----------  ------------  ------\n",
      "      1     262.7480      \u001b[32m389.8712\u001b[0m  0.0051\n",
      "      2     212.4872      \u001b[32m321.6535\u001b[0m  0.0020\n",
      "      3     170.3192      \u001b[32m260.4307\u001b[0m  0.0044\n",
      "      4     136.0248      \u001b[32m190.6552\u001b[0m  0.0050\n",
      "      5     109.1517      \u001b[32m162.6422\u001b[0m  0.0036\n",
      "      6      89.2120      \u001b[32m119.1560\u001b[0m  0.0031\n",
      "      7      86.8578      \u001b[32m110.5434\u001b[0m  0.0039\n",
      "      8      86.8462      \u001b[32m102.1641\u001b[0m  0.0037\n",
      "      9      86.8345       \u001b[32m96.9892\u001b[0m  0.0031\n",
      "     10      86.8226       \u001b[32m90.6328\u001b[0m  0.0031\n",
      "     11      86.8107       93.1560  0.0028\n",
      "     12      86.7987       95.2844  0.0030\n",
      "     13      86.7866       \u001b[32m88.4829\u001b[0m  0.0040\n",
      "     14      86.7744       \u001b[32m88.1748\u001b[0m  0.0040\n",
      "     15      86.7622       \u001b[32m88.1629\u001b[0m  0.0039\n",
      "     16      86.7499       \u001b[32m86.9835\u001b[0m  0.0037\n",
      "     17      86.7375       87.6868  0.0037\n",
      "     18      86.7251       87.0992  0.0028\n",
      "     19      86.7126       88.0118  0.0040\n",
      "     20      86.7002       \u001b[32m86.8027\u001b[0m  0.0030\n",
      "Outer fold 20 - Best parameters: {'optimizer__lr': 0.01, 'optimizer__weight_decay': 0.0001}\n",
      "Outer fold 20 - Test score: -2823.3838\n",
      "\n",
      " Outer fold 21\n",
      "\n",
      "Grid search completed!\n",
      "Best parameters: {'optimizer__lr': 0.01, 'optimizer__weight_decay': 0.0001}\n",
      "Best score: -87.0793685913086\n",
      "Training with the best hyparameters of 21 fold\n",
      "  epoch    test_loss    train_loss     dur\n",
      "-------  -----------  ------------  ------\n",
      "      1     274.4143      \u001b[32m385.1023\u001b[0m  0.0036\n",
      "      2     220.5668      \u001b[32m321.8945\u001b[0m  0.0039\n",
      "      3     175.4691      \u001b[32m259.3978\u001b[0m  0.0048\n",
      "      4     138.9391      \u001b[32m189.3982\u001b[0m  0.0040\n",
      "      5     110.3627      \u001b[32m161.8534\u001b[0m  0.0035\n",
      "      6      89.7203      \u001b[32m119.2197\u001b[0m  0.0050\n",
      "      7      88.5565      \u001b[32m110.1892\u001b[0m  0.0050\n",
      "      8      88.5449      \u001b[32m101.7737\u001b[0m  0.0076\n",
      "      9      88.5331       \u001b[32m97.3130\u001b[0m  0.0045\n",
      "     10      88.5213       \u001b[32m90.2810\u001b[0m  0.0050\n",
      "     11      88.5094       92.6710  0.0050\n",
      "     12      88.4974       95.0864  0.0050\n",
      "     13      88.4853       \u001b[32m88.4093\u001b[0m  0.0050\n",
      "     14      88.4731       \u001b[32m88.1151\u001b[0m  0.0061\n",
      "     15      88.4608       88.1152  0.0047\n",
      "     16      88.4485       \u001b[32m86.9226\u001b[0m  0.0047\n",
      "     17      88.4362       87.6510  0.0051\n",
      "     18      88.4238       87.0540  0.0050\n",
      "     19      88.4113       87.9558  0.0041\n",
      "     20      88.3988       \u001b[32m86.7400\u001b[0m  0.0047\n",
      "Outer fold 21 - Best parameters: {'optimizer__lr': 0.01, 'optimizer__weight_decay': 0.0001}\n",
      "Outer fold 21 - Test score: -5089.9204\n",
      "\n",
      " Outer fold 22\n",
      "\n",
      "Grid search completed!\n",
      "Best parameters: {'optimizer__lr': 0.01, 'optimizer__weight_decay': 0.0001}\n",
      "Best score: -87.08972473144532\n",
      "Training with the best hyparameters of 22 fold\n",
      "  epoch    test_loss    train_loss     dur\n",
      "-------  -----------  ------------  ------\n",
      "      1     270.4165      \u001b[32m388.9416\u001b[0m  0.0032\n",
      "      2     218.1866      \u001b[32m321.2091\u001b[0m  0.0033\n",
      "      3     174.3731      \u001b[32m260.0409\u001b[0m  0.0029\n",
      "      4     138.7639      \u001b[32m190.0614\u001b[0m  0.0038\n",
      "      5     110.8646      \u001b[32m163.0415\u001b[0m  0.0043\n",
      "      6      90.1154      \u001b[32m118.8762\u001b[0m  0.0043\n",
      "      7      88.2397      \u001b[32m110.5302\u001b[0m  0.0031\n",
      "      8      88.2281      \u001b[32m102.1564\u001b[0m  0.0040\n",
      "      9      88.2164       \u001b[32m96.9176\u001b[0m  0.0035\n",
      "     10      88.2045       \u001b[32m90.4285\u001b[0m  0.0033\n",
      "     11      88.1926       93.1642  0.0031\n",
      "     12      88.1806       95.2335  0.0033\n",
      "     13      88.1685       \u001b[32m88.4374\u001b[0m  0.0034\n",
      "     14      88.1563       \u001b[32m88.1280\u001b[0m  0.0042\n",
      "     15      88.1440       \u001b[32m88.0980\u001b[0m  0.0030\n",
      "     16      88.1317       \u001b[32m86.9026\u001b[0m  0.0035\n",
      "     17      88.1194       87.6891  0.0034\n",
      "     18      88.1070       87.0578  0.0034\n",
      "     19      88.0945       87.9680  0.0033\n",
      "     20      88.0820       \u001b[32m86.7569\u001b[0m  0.0040\n",
      "Outer fold 22 - Best parameters: {'optimizer__lr': 0.01, 'optimizer__weight_decay': 0.0001}\n",
      "Outer fold 22 - Test score: -10427.5625\n",
      "\n",
      " Outer fold 23\n",
      "\n",
      "Grid search completed!\n",
      "Best parameters: {'optimizer__lr': 0.01, 'optimizer__weight_decay': 0.0001}\n",
      "Best score: -87.08223876953124\n",
      "Training with the best hyparameters of 23 fold\n",
      "  epoch    test_loss    train_loss     dur\n",
      "-------  -----------  ------------  ------\n",
      "      1     289.2783      \u001b[32m387.9804\u001b[0m  0.0024\n",
      "      2     230.6365      \u001b[32m320.8367\u001b[0m  0.0034\n",
      "      3     181.6151      \u001b[32m256.8359\u001b[0m  0.0030\n",
      "      4     141.8146      \u001b[32m191.2296\u001b[0m  0.0041\n",
      "      5     110.7266      \u001b[32m162.0211\u001b[0m  0.0030\n",
      "      6      88.9895      \u001b[32m119.2317\u001b[0m  0.0041\n",
      "      7      88.4056      \u001b[32m110.2499\u001b[0m  0.0030\n",
      "      8      88.3941      \u001b[32m102.0714\u001b[0m  0.0030\n",
      "      9      88.3823       \u001b[32m97.4250\u001b[0m  0.0030\n",
      "     10      88.3705       \u001b[32m90.2249\u001b[0m  0.0030\n",
      "     11      88.3586       93.0468  0.0030\n",
      "     12      88.3466       95.3471  0.0041\n",
      "     13      88.3345       \u001b[32m88.4329\u001b[0m  0.0040\n",
      "     14      88.3223       \u001b[32m88.1704\u001b[0m  0.0041\n",
      "     15      88.3100       \u001b[32m88.1199\u001b[0m  0.0036\n",
      "     16      88.2977       \u001b[32m86.9465\u001b[0m  0.0040\n",
      "     17      88.2854       87.7440  0.0030\n",
      "     18      88.2730       87.0333  0.0030\n",
      "     19      88.2605       87.9626  0.0040\n",
      "     20      88.2481       \u001b[32m86.7513\u001b[0m  0.0031\n",
      "Outer fold 23 - Best parameters: {'optimizer__lr': 0.01, 'optimizer__weight_decay': 0.0001}\n",
      "Outer fold 23 - Test score: -3490.1677\n",
      "\n",
      " Outer fold 24\n",
      "\n",
      "Grid search completed!\n",
      "Best parameters: {'optimizer__lr': 0.01, 'optimizer__weight_decay': 0.0001}\n",
      "Best score: -87.10357360839843\n",
      "Training with the best hyparameters of 24 fold\n",
      "  epoch    test_loss    train_loss     dur\n",
      "-------  -----------  ------------  ------\n",
      "      1     281.8733      \u001b[32m385.6413\u001b[0m  0.0030\n",
      "      2     225.1033      \u001b[32m322.0909\u001b[0m  0.0040\n",
      "      3     177.6205      \u001b[32m256.4823\u001b[0m  0.0030\n",
      "      4     139.1540      \u001b[32m189.5795\u001b[0m  0.0044\n",
      "      5     109.0982      \u001b[32m161.7054\u001b[0m  0.0040\n",
      "      6      88.1382      \u001b[32m119.5700\u001b[0m  0.0030\n",
      "      7      87.8223      \u001b[32m110.2819\u001b[0m  0.0041\n",
      "      8      87.8107      \u001b[32m101.8839\u001b[0m  0.0030\n",
      "      9      87.7990       \u001b[32m97.4614\u001b[0m  0.0030\n",
      "     10      87.7872       \u001b[32m90.2292\u001b[0m  0.0033\n",
      "     11      87.7753       92.9542  0.0043\n",
      "     12      87.7632       95.3769  0.0039\n",
      "     13      87.7511       \u001b[32m88.4435\u001b[0m  0.0030\n",
      "     14      87.7389       \u001b[32m88.1789\u001b[0m  0.0031\n",
      "     15      87.7267       \u001b[32m88.1242\u001b[0m  0.0042\n",
      "     16      87.7144       \u001b[32m86.9848\u001b[0m  0.0033\n",
      "     17      87.7020       87.6689  0.0040\n",
      "     18      87.6896       87.0726  0.0030\n",
      "     19      87.6772       87.9700  0.0030\n",
      "     20      87.6647       \u001b[32m86.7602\u001b[0m  0.0040\n",
      "Outer fold 24 - Best parameters: {'optimizer__lr': 0.01, 'optimizer__weight_decay': 0.0001}\n",
      "Outer fold 24 - Test score: -18474.7402\n",
      "\n",
      " Outer fold 25\n",
      "\n",
      "Grid search completed!\n",
      "Best parameters: {'optimizer__lr': 0.01, 'optimizer__weight_decay': 0.0001}\n",
      "Best score: -87.12599334716796\n",
      "Training with the best hyparameters of 25 fold\n",
      "  epoch    test_loss    train_loss     dur\n",
      "-------  -----------  ------------  ------\n",
      "      1     277.7983      \u001b[32m387.8116\u001b[0m  0.0038\n",
      "      2     222.3990      \u001b[32m321.9336\u001b[0m  0.0022\n",
      "      3     176.0639      \u001b[32m258.6038\u001b[0m  0.0034\n",
      "      4     138.4344      \u001b[32m190.1728\u001b[0m  0.0042\n",
      "      5     109.0289      \u001b[32m162.8722\u001b[0m  0.0032\n",
      "      6      88.3319      \u001b[32m119.3419\u001b[0m  0.0046\n",
      "      7      87.0449      \u001b[32m110.5096\u001b[0m  0.0040\n",
      "      8      87.0333      \u001b[32m102.3258\u001b[0m  0.0030\n",
      "      9      87.0216       \u001b[32m97.4418\u001b[0m  0.0030\n",
      "     10      87.0098       \u001b[32m90.4083\u001b[0m  0.0030\n",
      "     11      86.9979       93.2516  0.0041\n",
      "     12      86.9859       95.7770  0.0030\n",
      "     13      86.9738       \u001b[32m88.4771\u001b[0m  0.0030\n",
      "     14      86.9616       \u001b[32m88.2066\u001b[0m  0.0045\n",
      "     15      86.9493       \u001b[32m88.1506\u001b[0m  0.0030\n",
      "     16      86.9370       \u001b[32m86.9510\u001b[0m  0.0030\n",
      "     17      86.9247       87.8408  0.0040\n",
      "     18      86.9122       87.0687  0.0040\n",
      "     19      86.8998       88.0040  0.0030\n",
      "     20      86.8873       \u001b[32m86.7849\u001b[0m  0.0030\n",
      "Outer fold 25 - Best parameters: {'optimizer__lr': 0.01, 'optimizer__weight_decay': 0.0001}\n",
      "Outer fold 25 - Test score: -2547.7805\n",
      "\n",
      " Outer fold 26\n",
      "\n",
      "Grid search completed!\n",
      "Best parameters: {'optimizer__lr': 0.01, 'optimizer__weight_decay': 0.0001}\n",
      "Best score: -87.16180419921875\n",
      "Training with the best hyparameters of 26 fold\n",
      "  epoch    test_loss    train_loss     dur\n",
      "-------  -----------  ------------  ------\n",
      "      1     265.5793      \u001b[32m390.4115\u001b[0m  0.0030\n",
      "      2     213.7170      \u001b[32m321.7706\u001b[0m  0.0030\n",
      "      3     170.2447      \u001b[32m260.6371\u001b[0m  0.0035\n",
      "      4     134.9262      \u001b[32m190.8053\u001b[0m  0.0031\n",
      "      5     107.2773      \u001b[32m163.2508\u001b[0m  0.0030\n",
      "      6      87.2068      \u001b[32m118.8955\u001b[0m  0.0031\n",
      "      7      85.9360      \u001b[32m109.9341\u001b[0m  0.0042\n",
      "      8      85.9244      \u001b[32m102.0959\u001b[0m  0.0030\n",
      "      9      85.9126       \u001b[32m96.4786\u001b[0m  0.0033\n",
      "     10      85.9008       \u001b[32m90.4398\u001b[0m  0.0040\n",
      "     11      85.8889       93.4572  0.0040\n",
      "     12      85.8769       95.2411  0.0032\n",
      "     13      85.8648       \u001b[32m88.5121\u001b[0m  0.0035\n",
      "     14      85.8526       \u001b[32m88.1990\u001b[0m  0.0042\n",
      "     15      85.8403       88.2305  0.0032\n",
      "     16      85.8280       \u001b[32m86.9348\u001b[0m  0.0043\n",
      "     17      85.8157       87.7534  0.0040\n",
      "     18      85.8033       87.1516  0.0028\n",
      "     19      85.7908       88.0831  0.0030\n",
      "     20      85.7783       \u001b[32m86.8249\u001b[0m  0.0031\n",
      "Outer fold 26 - Best parameters: {'optimizer__lr': 0.01, 'optimizer__weight_decay': 0.0001}\n",
      "Outer fold 26 - Test score: -7737.4136\n",
      "\n",
      " Outer fold 27\n",
      "\n",
      "Grid search completed!\n",
      "Best parameters: {'optimizer__lr': 0.01, 'optimizer__weight_decay': 0.0001}\n",
      "Best score: -87.11456756591797\n",
      "Training with the best hyparameters of 27 fold\n",
      "  epoch    test_loss    train_loss     dur\n",
      "-------  -----------  ------------  ------\n",
      "      1     269.9718      \u001b[32m386.6182\u001b[0m  0.0050\n",
      "      2     217.3594      \u001b[32m322.2313\u001b[0m  0.0060\n",
      "      3     173.2976      \u001b[32m258.7841\u001b[0m  0.0060\n",
      "      4     137.5239      \u001b[32m189.6187\u001b[0m  0.0055\n",
      "      5     109.5034      \u001b[32m162.7701\u001b[0m  0.0050\n",
      "      6      88.8922      \u001b[32m119.3896\u001b[0m  0.0051\n",
      "      7      87.3978      \u001b[32m109.8116\u001b[0m  0.0050\n",
      "      8      87.3862      \u001b[32m101.6591\u001b[0m  0.0050\n",
      "      9      87.3745       \u001b[32m97.4450\u001b[0m  0.0050\n",
      "     10      87.3627       \u001b[32m90.1106\u001b[0m  0.0042\n",
      "     11      87.3507       93.2572  0.0047\n",
      "     12      87.3387       95.5178  0.0048\n",
      "     13      87.3266       \u001b[32m88.4632\u001b[0m  0.0061\n",
      "     14      87.3144       \u001b[32m88.1821\u001b[0m  0.0056\n",
      "     15      87.3022       88.1887  0.0043\n",
      "     16      87.2899       \u001b[32m86.9080\u001b[0m  0.0043\n",
      "     17      87.2775       87.7643  0.0040\n",
      "     18      87.2651       87.0979  0.0050\n",
      "     19      87.2527       88.0314  0.0044\n",
      "     20      87.2402       \u001b[32m86.7707\u001b[0m  0.0044\n",
      "Outer fold 27 - Best parameters: {'optimizer__lr': 0.01, 'optimizer__weight_decay': 0.0001}\n",
      "Outer fold 27 - Test score: -8370.0586\n",
      "\n",
      " Outer fold 28\n",
      "\n",
      "Grid search completed!\n",
      "Best parameters: {'optimizer__lr': 0.01, 'optimizer__weight_decay': 0.0001}\n",
      "Best score: -87.0764144897461\n",
      "Training with the best hyparameters of 28 fold\n",
      "  epoch    test_loss    train_loss     dur\n",
      "-------  -----------  ------------  ------\n",
      "      1     290.4023      \u001b[32m387.7343\u001b[0m  0.0030\n",
      "      2     231.6661      \u001b[32m321.5943\u001b[0m  0.0027\n",
      "      3     182.5001      \u001b[32m256.8711\u001b[0m  0.0042\n",
      "      4     142.6838      \u001b[32m188.8562\u001b[0m  0.0030\n",
      "      5     111.5328      \u001b[32m162.3326\u001b[0m  0.0042\n",
      "      6      88.7360      \u001b[32m118.6130\u001b[0m  0.0030\n",
      "      7      88.6415      \u001b[32m110.1718\u001b[0m  0.0040\n",
      "      8      88.6299      \u001b[32m101.7678\u001b[0m  0.0030\n",
      "      9      88.6182       \u001b[32m97.1778\u001b[0m  0.0040\n",
      "     10      88.6064       \u001b[32m90.3354\u001b[0m  0.0030\n",
      "     11      88.5944       92.8877  0.0044\n",
      "     12      88.5824       95.1620  0.0044\n",
      "     13      88.5703       \u001b[32m88.3816\u001b[0m  0.0042\n",
      "     14      88.5581       \u001b[32m88.2753\u001b[0m  0.0030\n",
      "     15      88.5459       \u001b[32m88.0980\u001b[0m  0.0087\n",
      "     16      88.5335       \u001b[32m86.9612\u001b[0m  0.0060\n",
      "     17      88.5212       87.6520  0.0070\n",
      "     18      88.5088       87.0558  0.0070\n",
      "     19      88.4963       87.9539  0.0053\n",
      "     20      88.4838       \u001b[32m86.7413\u001b[0m  0.0060\n",
      "Outer fold 28 - Best parameters: {'optimizer__lr': 0.01, 'optimizer__weight_decay': 0.0001}\n",
      "Outer fold 28 - Test score: -426200.1250\n",
      "\n",
      " Outer fold 29\n",
      "\n",
      "Grid search completed!\n",
      "Best parameters: {'optimizer__lr': 0.01, 'optimizer__weight_decay': 0.0001}\n",
      "Best score: -87.07704467773438\n",
      "Training with the best hyparameters of 29 fold\n",
      "  epoch    test_loss    train_loss     dur\n",
      "-------  -----------  ------------  ------\n",
      "      1     272.3842      \u001b[32m387.7877\u001b[0m  0.0040\n",
      "      2     218.4236      \u001b[32m320.1934\u001b[0m  0.0030\n",
      "      3     173.3165      \u001b[32m257.0664\u001b[0m  0.0020\n",
      "      4     136.7311      \u001b[32m191.1526\u001b[0m  0.0030\n",
      "      5     108.1692      \u001b[32m162.2915\u001b[0m  0.0030\n",
      "      6      88.6993      \u001b[32m119.1188\u001b[0m  0.0020\n",
      "      7      88.5949      \u001b[32m110.4841\u001b[0m  0.0040\n",
      "      8      88.5833      \u001b[32m102.2826\u001b[0m  0.0041\n",
      "      9      88.5716       \u001b[32m96.8938\u001b[0m  0.0030\n",
      "     10      88.5598       \u001b[32m90.3106\u001b[0m  0.0040\n",
      "     11      88.5478       93.1158  0.0030\n",
      "     12      88.5358       95.6544  0.0030\n",
      "     13      88.5237       \u001b[32m88.4312\u001b[0m  0.0030\n",
      "     14      88.5115       \u001b[32m88.1599\u001b[0m  0.0030\n",
      "     15      88.4993       \u001b[32m88.1197\u001b[0m  0.0043\n",
      "     16      88.4870       \u001b[32m86.9191\u001b[0m  0.0030\n",
      "     17      88.4746       87.6770  0.0030\n",
      "     18      88.4622       87.0852  0.0032\n",
      "     19      88.4498       87.9529  0.0040\n",
      "     20      88.4373       \u001b[32m86.7521\u001b[0m  0.0031\n",
      "Outer fold 29 - Best parameters: {'optimizer__lr': 0.01, 'optimizer__weight_decay': 0.0001}\n",
      "Outer fold 29 - Test score: -31354.3652\n",
      "\n",
      " Outer fold 30\n",
      "\n",
      "Grid search completed!\n",
      "Best parameters: {'optimizer__lr': 0.01, 'optimizer__weight_decay': 0.0001}\n",
      "Best score: -87.1004653930664\n",
      "Training with the best hyparameters of 30 fold\n",
      "  epoch    test_loss    train_loss     dur\n",
      "-------  -----------  ------------  ------\n",
      "      1     267.0500      \u001b[32m385.4516\u001b[0m  0.0020\n",
      "      2     214.5846      \u001b[32m322.7784\u001b[0m  0.0031\n",
      "      3     170.7239      \u001b[32m257.8889\u001b[0m  0.0031\n",
      "      4     135.1656      \u001b[32m190.6797\u001b[0m  0.0021\n",
      "      5     107.3828      \u001b[32m161.4085\u001b[0m  0.0040\n",
      "      6      88.4634      \u001b[32m119.7138\u001b[0m  0.0030\n",
      "      7      87.8537      \u001b[32m110.3010\u001b[0m  0.0030\n",
      "      8      87.8421      \u001b[32m101.7301\u001b[0m  0.0032\n",
      "      9      87.8304       \u001b[32m97.2920\u001b[0m  0.0040\n",
      "     10      87.8185       \u001b[32m90.0549\u001b[0m  0.0030\n",
      "     11      87.8066       93.0664  0.0030\n",
      "     12      87.7946       95.3114  0.0030\n",
      "     13      87.7825       \u001b[32m88.4579\u001b[0m  0.0030\n",
      "     14      87.7703       \u001b[32m88.1810\u001b[0m  0.0030\n",
      "     15      87.7581       \u001b[32m88.1198\u001b[0m  0.0042\n",
      "     16      87.7458       \u001b[32m86.8881\u001b[0m  0.0038\n",
      "     17      87.7334       87.8130  0.0030\n",
      "     18      87.7210       87.0436  0.0030\n",
      "     19      87.7086       87.9803  0.0017\n",
      "     20      87.6961       \u001b[32m86.7666\u001b[0m  0.0022\n",
      "Outer fold 30 - Best parameters: {'optimizer__lr': 0.01, 'optimizer__weight_decay': 0.0001}\n",
      "Outer fold 30 - Test score: -12914.5312\n"
     ]
    }
   ],
   "source": [
    "summary, general_summary, all_grid_results=run_nested_cv_for_model(X,y, nn_wrapper, param_grid, outer_cv, n_inner_cv, model_name=\"NN\")"
   ]
  },
  {
   "cell_type": "code",
   "execution_count": 16,
   "id": "1de191e7",
   "metadata": {},
   "outputs": [
    {
     "data": {
      "application/vnd.plotly.v1+json": {
       "config": {
        "plotlyServerURL": "https://plot.ly"
       },
       "data": [
        {
         "line": {
          "color": "blue"
         },
         "mode": "lines",
         "name": "Train",
         "showlegend": true,
         "type": "scatter",
         "x": {
          "bdata": "AQIDBAUGBwgJCgsMDQ4PEBESExQ=",
          "dtype": "i1"
         },
         "xaxis": "x",
         "y": {
          "bdata": "AAAAIMhDeEAAAADg3flzQP///7//B3BAAAAAAG6vZ0AAAABgFhRkQAAAAMCjlF1AAAAAYJWmW0AAAAAATFlZQAEAACDuWFhAAAAAIK+jVkAAAAAgK0BXQAEAAECx5ldAAAAAQAAWVkAAAACg2gZWQAAAACAxBFZAAAAAwMC4VUAAAADghOZVQAAAAIBowFVAAAAAYAEDVkAAAAAAc6tVQA==",
          "dtype": "f8"
         },
         "yaxis": "y"
        },
        {
         "line": {
          "color": "red"
         },
         "mode": "lines",
         "name": "Test",
         "showlegend": true,
         "type": "scatter",
         "x": {
          "bdata": "AQIDBAUGBwgJCgsMDQ4PEBESExQ=",
          "dtype": "i1"
         },
         "xaxis": "x",
         "y": {
          "bdata": "AAAAIExQckABAADAuEFtQAAAAGCeF2dAAAAAgHcYYkAAAABgsl9cQAAAAEC2rFZAAAAAYNdlVkAAAABgGWVWQAAAAGBZZFZAAAAAYJdjVkAAAAAA1GJWQAAAAAAPYlZAAAAAwEhhVkAAAAAAgWBWQAAAAGC4X1ZAAAAAgO5eVkAAAAAgJF5WQAAAAMBYXVZAAAAAoIxcVkAAAAAAwFtWQA==",
          "dtype": "f8"
         },
         "yaxis": "y"
        },
        {
         "line": {
          "color": "blue"
         },
         "mode": "lines",
         "showlegend": false,
         "type": "scatter",
         "x": {
          "bdata": "AQIDBAUGBwgJCgsMDQ4PEBESExQ=",
          "dtype": "i1"
         },
         "xaxis": "x2",
         "y": {
          "bdata": "AAAAoPtOeEAAAABAuzN0QAAAAABnM3BAAAAAYLjLZ0AAAADAeCFkQAAAAIDU5V1AAAAAIK98W0AAAACA9GNZQAEAAOCfQFhAAAAAYPt5VkAAAACgSTtXQAEAAMA0t1dAAAAAQOseVkAAAAAgRhVWQAAAAMC2ClZAAAAAgA63VUAAAACA3PFVQAAAAAAlxlVAAAAAQI8JVkAAAADAO7FVQA==",
          "dtype": "f8"
         },
         "yaxis": "y2"
        },
        {
         "line": {
          "color": "red"
         },
         "mode": "lines",
         "showlegend": false,
         "type": "scatter",
         "x": {
          "bdata": "AQIDBAUGBwgJCgsMDQ4PEBESExQ=",
          "dtype": "i1"
         },
         "xaxis": "x2",
         "y": {
          "bdata": "AAAAwM6ncEAAAABgFtBqQAAAAGBwYWVAAAAAQID5YEAAAACgQQ5bQAAAAIDTHFZAAAAAQD8CVkAAAABAgQFWQAAAAEDBAFZAAAAAgP//VUAAAABAPP9VQAAAAIB3/lVAAAAAILH9VUAAAADA6fxVQAAAAEAh/FVAAAAAwFf7VUAAAACAjfpVQAAAAGDC+VVAAAAAgPb4VUAAAABAKvhVQA==",
          "dtype": "f8"
         },
         "yaxis": "y2"
        },
        {
         "line": {
          "color": "blue"
         },
         "mode": "lines",
         "showlegend": false,
         "type": "scatter",
         "x": {
          "bdata": "AQIDBAUGBwgJCgsMDQ4PEBESExQ=",
          "dtype": "i1"
         },
         "xaxis": "x3",
         "y": {
          "bdata": "AQAAwFqeeEAAAACAElB0QAAAAGB7T3BAAAAAACMLaEAAAACAVRVkQAAAAIDQ711AAAAAQAhfW0ABAABAPV9ZQAAAAECiO1hAAQAAIBKKVkABAADACGdXQAAAAGC0qVdAAAAAYGsiVkAAAABADxpWQAAAAOCzFVZAAAAAICm7VUAAAAAAs/ZVQAAAAADfyVVAAAAAQNoQVkAAAACg3bVVQA==",
          "dtype": "f8"
         },
         "yaxis": "y3"
        },
        {
         "line": {
          "color": "red"
         },
         "mode": "lines",
         "showlegend": false,
         "type": "scatter",
         "x": {
          "bdata": "AQIDBAUGBwgJCgsMDQ4PEBESExQ=",
          "dtype": "i1"
         },
         "xaxis": "x3",
         "y": {
          "bdata": "////v61UcEAAAABgVVdqQAAAAOC/DmVAAAAAYADFYEAAAACA+9NaQAAAAKCy8FVAAAAAIGeYVUAAAABAqZdVQAAAACDpllVAAAAAQCeWVUAAAAAAZJVVQAAAAACflFVAAAAAwNiTVUAAAABAEZNVQAAAAIBIklVAAAAA4H6RVUAAAACAtJBVQAAAACDpj1VAAAAAQB2PVUAAAADAUI5VQA==",
          "dtype": "f8"
         },
         "yaxis": "y3"
        },
        {
         "line": {
          "color": "blue"
         },
         "mode": "lines",
         "showlegend": false,
         "type": "scatter",
         "x": {
          "bdata": "AQIDBAUGBwgJCgsMDQ4PEBESExQ=",
          "dtype": "i1"
         },
         "xaxis": "x4",
         "y": {
          "bdata": "AQAAQCmFeED///+/ZWJ0QAAAAKB1FXBAAAAAAIfhZ0AAAACgxCFkQP///z/LF15AAAAA4ACGW0ABAABATVdZQAAAAKB8TlhAAAAAQMt/VkD///8fxGVXQAAAAKAgtFdAAAAAwIcnVkAAAAAAmh1WQAAAAODtG1ZAAAAAQB7AVUAAAABApflVQAAAAGC50FVAAAAAgDcWVkAAAACAw7tVQA==",
          "dtype": "f8"
         },
         "yaxis": "y4"
        },
        {
         "line": {
          "color": "red"
         },
         "mode": "lines",
         "showlegend": false,
         "type": "scatter",
         "x": {
          "bdata": "AQIDBAUGBwgJCgsMDQ4PEBESExQ=",
          "dtype": "i1"
         },
         "xaxis": "x4",
         "y": {
          "bdata": "AAAAYN3ub0AAAAAAErJpQAAAAIDUe2RAAAAAgI9CYEAAAAAg5+tZQAAAAOD8KVVAAAAAIEgaVUAAAABAihlVQAAAAEDKGFVAAAAAgAgYVUAAAABARRdVQAAAAGCAFlVAAAAAQLoVVUAAAADg8hRVQAAAAEAqFFVAAAAAwGATVUAAAACglhJVQAAAAGDLEVVAAAAAwP8QVUAAAABAMxBVQA==",
          "dtype": "f8"
         },
         "yaxis": "y4"
        },
        {
         "line": {
          "color": "blue"
         },
         "mode": "lines",
         "showlegend": false,
         "type": "scatter",
         "x": {
          "bdata": "AQIDBAUGBwgJCgsMDQ4PEBESExQ=",
          "dtype": "i1"
         },
         "xaxis": "x5",
         "y": {
          "bdata": "AAAA4G9WeEAAAACARCB0QAAAACCAUHBAAAAAgFbLZ0AAAACgpSlkQAEAAECF2V1AAAAA4PS0W0AAAADgsFlZQAAAAOC6IVhAAAAAgA2WVkAAAABAyl1XQAAAAAC41VdAAAAAwIwhVkAAAADgSAxWQAAAAGCTClZAAAAAQF63VUAAAAAAYe9VQAAAAMBcyFVAAAAAwOwMVkAAAACA7bJVQA==",
          "dtype": "f8"
         },
         "yaxis": "y5"
        },
        {
         "line": {
          "color": "red"
         },
         "mode": "lines",
         "showlegend": false,
         "type": "scatter",
         "x": {
          "bdata": "AQIDBAUGBwgJCgsMDQ4PEBESExQ=",
          "dtype": "i1"
         },
         "xaxis": "x5",
         "y": {
          "bdata": "AAAAQOazcEAAAAAAqtZqQAAAAABSWGVAAAAAQJTjYEABAADAWNBaQAAAACB+11VAAAAAgB/AVUAAAACAYb9VQAAAAIChvlVAAAAAoN+9VUAAAABAHL1VQAAAAEBXvFVAAAAAAJG7VUAAAABgybpVQAAAAMAAulVAAAAAIDe5VUAAAADAbLhVQAAAAICht1VAAAAAgNW2VUAAAADgCLZVQA==",
          "dtype": "f8"
         },
         "yaxis": "y5"
        },
        {
         "line": {
          "color": "blue"
         },
         "mode": "lines",
         "showlegend": false,
         "type": "scatter",
         "x": {
          "bdata": "AQIDBAUGBwgJCgsMDQ4PEBESExQ=",
          "dtype": "i1"
         },
         "xaxis": "x6",
         "y": {
          "bdata": "AAAAoERveEAAAACAxE50QAAAAKC6NnBAAQAAQJnPZ0AAAAAA2h9kQAAAAGAUBF5AAAAAoFR9W0AAAACge2pZQAAAAOAAZVhAAAAAAGt3VkAAAACgZVFXQAAAAIC0rFdAAAAAgMYfVkAAAADgCBZWQAAAAKDuD1ZAAAAAYPu4VUAAAABgxPlVQAAAAKBlzFVAAAAAwC0OVkAAAADgCbVVQA==",
          "dtype": "f8"
         },
         "yaxis": "y6"
        },
        {
         "line": {
          "color": "red"
         },
         "mode": "lines",
         "showlegend": false,
         "type": "scatter",
         "x": {
          "bdata": "AQIDBAUGBwgJCgsMDQ4PEBESExQ=",
          "dtype": "i1"
         },
         "xaxis": "x6",
         "y": {
          "bdata": "////v4lFcEAAAACg4ChqQAAAAOBI1WRAAAAAIHuFYEAAAACge1BaQAAAAGAstVVAAAAAoJehVUAAAACg2aBVQAAAAMAZoFVAAAAAwFefVUAAAACAlJ5VQAAAAIDPnVVAAAAAgAmdVUAAAAAAQpxVQAAAAGB5m1VAAAAA4K+aVUAAAACg5ZlVQAAAAGAamVVAAAAAgE6YVUAAAAAggpdVQA==",
          "dtype": "f8"
         },
         "yaxis": "y6"
        },
        {
         "line": {
          "color": "blue"
         },
         "mode": "lines",
         "showlegend": false,
         "type": "scatter",
         "x": {
          "bdata": "AQIDBAUGBwgJCgsMDQ4PEBESExQ=",
          "dtype": "i1"
         },
         "xaxis": "x7",
         "y": {
          "bdata": "AAAAoO8VeEAAAABgzC90QAAAAGDkGnBAAAAAgLWuZ0AAAABgdUlkQAAAAEDk6F1AAAAAYPCYW0AAAADAxXZZQAAAAIAAW1hAAAAAoGqEVkD////fkUZXQAAAAGCA21dAAAAAAGceVkAAAABAGgtWQAAAAOCoB1ZAAAAAQMO5VUAAAABAIfVVQAAAAGCAw1VAAAAAAAEAVkAAAACgN7FVQA==",
          "dtype": "f8"
         },
         "yaxis": "y7"
        },
        {
         "line": {
          "color": "red"
         },
         "mode": "lines",
         "showlegend": false,
         "type": "scatter",
         "x": {
          "bdata": "AQIDBAUGBwgJCgsMDQ4PEBESExQ=",
          "dtype": "i1"
         },
         "xaxis": "x7",
         "y": {
          "bdata": "AAAAgHLLcEAAAACARARrQAAAAICihGVAAAAAwGcOYUAAAABAUCFbQAAAAAAODFZAAAAAANPlVUAAAAAAFeVVQAAAAABV5FVAAAAAIJPjVUAAAADAz+JVQAAAAMAK4lVAAAAAoEThVUAAAADgfOBVQAAAAGC031VAAAAAwOreVUAAAABgIN5VQAAAAABV3VVAAAAAQIncVUAAAACgvNtVQA==",
          "dtype": "f8"
         },
         "yaxis": "y7"
        },
        {
         "line": {
          "color": "blue"
         },
         "mode": "lines",
         "showlegend": false,
         "type": "scatter",
         "x": {
          "bdata": "AQIDBAUGBwgJCgsMDQ4PEBESExQ=",
          "dtype": "i1"
         },
         "xaxis": "x8",
         "y": {
          "bdata": "AAAAwKlOeEAAAAAAuxh0QAAAAKBSMnBAAAAAYCTIZ0AAAACg3lBkQAAAAGADyl1AAAAAgK+lW0ABAADAeJxZQP///99RE1hAAAAAAAiXVkABAAAAE1FXQAEAAMD4xVdAAAAAwF0gVkAAAACAagpWQAAAAOB/CFZAAAAAgP26VUAAAADgAvNVQAAAAODrxVVAAAAAYOIBVkAAAADgmbNVQA==",
          "dtype": "f8"
         },
         "yaxis": "y8"
        },
        {
         "line": {
          "color": "red"
         },
         "mode": "lines",
         "showlegend": false,
         "type": "scatter",
         "x": {
          "bdata": "AQIDBAUGBwgJCgsMDQ4PEBESExQ=",
          "dtype": "i1"
         },
         "xaxis": "x8",
         "y": {
          "bdata": "AAAAYAf6cEAAAADAE0lrQAAAAID3smVAAAAAABgpYUAAAADgmDZbQAAAAIDJ71VAAAAAoLGnVUAAAACg86ZVQAAAAIAzplVAAAAAoHGlVUAAAABArqRVQAAAAEDpo1VAAAAAICOjVUAAAABgW6JVQAAAAMCSoVVAAAAAIMmgVUAAAADA/p9VQAAAAIAzn1VAAAAAgGeeVUAAAAAAm51VQA==",
          "dtype": "f8"
         },
         "yaxis": "y8"
        },
        {
         "line": {
          "color": "blue"
         },
         "mode": "lines",
         "showlegend": false,
         "type": "scatter",
         "x": {
          "bdata": "AQIDBAUGBwgJCgsMDQ4PEBESExQ=",
          "dtype": "i1"
         },
         "xaxis": "x9",
         "y": {
          "bdata": "AAAAoBtAeEAAAABgegh0QAAAAODSPHBAAAAAINvdZ0AAAADAm0FkQAAAAEBS211AAAAAoFWhW0AAAACAsJ1ZQAAAAOAMQFhAAAAAYNKhVkAAAACgY09XQP////8M3FdAAAAA4KAdVkAAAACg2AlWQAAAAGCYCFZAAAAAoMG8VUAAAAAghO1VQAAAACCEw1VAAAAAoPT+VUAAAAAgNbJVQA==",
          "dtype": "f8"
         },
         "yaxis": "y9"
        },
        {
         "line": {
          "color": "red"
         },
         "mode": "lines",
         "showlegend": false,
         "type": "scatter",
         "x": {
          "bdata": "AQIDBAUGBwgJCgsMDQ4PEBESExQ=",
          "dtype": "i1"
         },
         "xaxis": "x9",
         "y": {
          "bdata": "AAAAwKDVcEAAAAAgEwlrQAAAACDWe2VAAAAAoI/6YEAAAADAg+paQAAAAKCxAFZAAAAAYA7fVUAAAABgUN5VQAAAAICQ3VVAAAAAoM7cVUAAAABgC9xVQAAAAEBG21VAAAAAAIDaVUAAAACguNlVQAAAAODv2FVAAAAAQCbYVUAAAADAW9dVQAAAAICQ1lVAAAAAYMTVVUAAAAAA+NRVQA==",
          "dtype": "f8"
         },
         "yaxis": "y9"
        },
        {
         "line": {
          "color": "blue"
         },
         "mode": "lines",
         "showlegend": false,
         "type": "scatter",
         "x": {
          "bdata": "AQIDBAUGBwgJCgsMDQ4PEBESExQ=",
          "dtype": "i1"
         },
         "xaxis": "x10",
         "y": {
          "bdata": "AAAAgN1TeEAAAABgthZ0QAAAAIAgL3BAAAAAwCXeZ0AAAABA/0VkQAAAAOAs0l1AAAAAoKauW0D///+/6o9ZQAAAAED4ElhAAAAAoG+TVkAAAADA201XQAAAAMAbxFdAAAAAILUdVkAAAADAqgdWQAAAACCaCVZAAAAAYBm5VUAAAACAHPBVQAAAAGD/wlVAAAAAgOn+VUAAAABgELFVQA==",
          "dtype": "f8"
         },
         "yaxis": "y10"
        },
        {
         "line": {
          "color": "red"
         },
         "mode": "lines",
         "showlegend": false,
         "type": "scatter",
         "x": {
          "bdata": "AQIDBAUGBwgJCgsMDQ4PEBESExQ=",
          "dtype": "i1"
         },
         "xaxis": "x10",
         "y": {
          "bdata": "AAAAAFALcUD///8f0FRrQAAAAICQrWVAAAAAoK4XYUAAAACAyQRbQAAAAOBD91VAAAAA4If2VUAAAADAyfVVQAAAAMAJ9VVAAAAAAEj0VUAAAACAhPNVQAAAAIC/8lVAAAAAQPnxVUAAAACAMfFVQAAAAABp8FVAAAAAYJ/vVUAAAADg1O5VQAAAAKAJ7lVAAAAAoD3tVUAAAAAgcexVQA==",
          "dtype": "f8"
         },
         "yaxis": "y10"
        },
        {
         "line": {
          "color": "blue"
         },
         "mode": "lines",
         "showlegend": false,
         "type": "scatter",
         "x": {
          "bdata": "AQIDBAUGBwgJCgsMDQ4PEBESExQ=",
          "dtype": "i1"
         },
         "xaxis": "x11",
         "y": {
          "bdata": "AAAAIM1OeEAAAABAZhh0QAAAAAAEVnBAAAAAYJjSZ0AAAABg/WBkQP///x/s3F1A////H8iiW0AAAAAAvIBZQAAAAMBDGVhAAQAAQImWVkD////f0U9XQAAAAAC+xFdAAAAAwFMiVkAAAABglQtWQAAAAECWClZAAAAAQE+8VUAAAACgVfNVQAAAAIAvylVAAAAAYAoCVkAAAABAibRVQA==",
          "dtype": "f8"
         },
         "yaxis": "y11"
        },
        {
         "line": {
          "color": "red"
         },
         "mode": "lines",
         "showlegend": false,
         "type": "scatter",
         "x": {
          "bdata": "AQIDBAUGBwgJCgsMDQ4PEBESExQ=",
          "dtype": "i1"
         },
         "xaxis": "x11",
         "y": {
          "bdata": "AAAAYPm+cEAAAACA0OpqQAAAAKDNaGVAAAAAgA7wYEAAAADAn+BaQAAAAADU0lVAAAAAoDGSVUAAAABgc5FVQAAAAGCzkFVAAAAAYPGPVUAAAAAALo9VQAAAACBpjlVAAAAAwKKNVUAAAAAA24xVQAAAAGASjFVAAAAAwEiLVUAAAABAfopVQAAAAOCyiVVAAAAA4OaIVUAAAABAGohVQA==",
          "dtype": "f8"
         },
         "yaxis": "y11"
        },
        {
         "line": {
          "color": "blue"
         },
         "mode": "lines",
         "showlegend": false,
         "type": "scatter",
         "x": {
          "bdata": "AQIDBAUGBwgJCgsMDQ4PEBESExQ=",
          "dtype": "i1"
         },
         "xaxis": "x12",
         "y": {
          "bdata": "AAAAAJQOeEAAAAAAzjR0QAAAACDAJXBAAAAAwAWcZ0AAAACA1kVkQAAAAEAi511AAAAAoEyQW0AAAACgYmhZQAAAACDHW1hAAAAAwC2DVkABAAAgZkRXQAAAAGAR2VdAAAAAIE8cVkAAAADgUQlWQAAAACACCVZAAAAAgLW3VUAAAACgFPNVQAAAACBXwVVAAAAAQOb9VUAAAADA8q5VQA==",
          "dtype": "f8"
         },
         "yaxis": "y12"
        },
        {
         "line": {
          "color": "red"
         },
         "mode": "lines",
         "showlegend": false,
         "type": "scatter",
         "x": {
          "bdata": "AQIDBAUGBwgJCgsMDQ4PEBESExQ=",
          "dtype": "i1"
         },
         "xaxis": "x12",
         "y": {
          "bdata": "AAAAoPgecUABAADA3H9rQAAAAGDt22VAAAAAgGZJYUAAAABAMmxbQAAAAICbPVZAAAAAILwhVkAAAAAg/iBWQAAAAAA+IFZAAAAAIHwfVkAAAADAuB5WQAAAAMDzHVZAAAAAgC0dVkAAAADgZRxWQAAAACCdG1ZAAAAAgNMaVkAAAAAgCRpWQAAAAMA9GVZAAAAA4HEYVkAAAABApRdWQA==",
          "dtype": "f8"
         },
         "yaxis": "y12"
        },
        {
         "line": {
          "color": "blue"
         },
         "mode": "lines",
         "showlegend": false,
         "type": "scatter",
         "x": {
          "bdata": "AQIDBAUGBwgJCgsMDQ4PEBESExQ=",
          "dtype": "i1"
         },
         "xaxis": "x13",
         "y": {
          "bdata": "AAAAgFVGeEAAAAAAgCd0QAAAACD3HHBA////33+3Z0AAAAAgeWxkQAAAAMDr411AAAAAoEubW0AAAABgtYlZQAAAAEDcUlhAAAAA4IqVVkAAAACAMEtXQAAAAKBC8VdAAAAAoJ0eVkAAAAAgEw1WQAAAAACOCVZAAAAA4Ai7VUAAAADg/fBVQAAAAEC+x1VAAAAAoKoAVkAAAABA+LFVQA==",
          "dtype": "f8"
         },
         "yaxis": "y13"
        },
        {
         "line": {
          "color": "red"
         },
         "mode": "lines",
         "showlegend": false,
         "type": "scatter",
         "x": {
          "bdata": "AQIDBAUGBwgJCgsMDQ4PEBESExQ=",
          "dtype": "i1"
         },
         "xaxis": "x13",
         "y": {
          "bdata": "AAAAgHDNcEABAADANPhqQAAAAMD3a2VAAAAAAHrrYEAAAADAIc9aQAAAACCC81VAAAAAAP7bVUAAAAAgQNtVQAAAACCA2lVAAAAAYL7ZVUAAAAAA+9hVQAAAACA22FVAAAAA4G/XVUAAAABAqNZVQAAAAKDf1VVAAAAAIBbVVUAAAACgS9RVQAAAAICA01VAAAAAgLTSVUAAAADg59FVQA==",
          "dtype": "f8"
         },
         "yaxis": "y13"
        },
        {
         "line": {
          "color": "blue"
         },
         "mode": "lines",
         "showlegend": false,
         "type": "scatter",
         "x": {
          "bdata": "AQIDBAUGBwgJCgsMDQ4PEBESExQ=",
          "dtype": "i1"
         },
         "xaxis": "x14",
         "y": {
          "bdata": "AAAA4KgdeEAAAACADC50QAAAAEAoKnBAAAAAgJ2fZ0AAAADANktkQAAAAIDr4l1AAQAAINKPW0AAAADgCm9ZQAAAAOBgWVhAAQAA4BuGVkD///8/q0tXQAAAAGDE21dAAAAAYHoeVkAAAADAkgpWQAAAAGBHCFZAAAAA4P+5VUAAAABA3vBVQAAAAOAGxFVAAAAAQPkAVkAAAABAqrFVQA==",
          "dtype": "f8"
         },
         "yaxis": "y14"
        },
        {
         "line": {
          "color": "red"
         },
         "mode": "lines",
         "showlegend": false,
         "type": "scatter",
         "x": {
          "bdata": "AQIDBAUGBwgJCgsMDQ4PEBESExQ=",
          "dtype": "i1"
         },
         "xaxis": "x14",
         "y": {
          "bdata": "AAAA4DcvcUAAAABA1o9rQAAAAODY3WVAAAAAAA5AYUAAAACAk0hbQAAAAOBxCVZAAAAAAI7bVUAAAAAA0NpVQAAAAOAP2lVAAAAAAE7ZVUAAAACgithVQAAAAKDF11VAAAAAYP/WVUAAAADgN9ZVQAAAACBv1VVAAAAAoKXUVUAAAAAg29NVQAAAAOAP01VAAAAA4EPSVUAAAABgd9FVQA==",
          "dtype": "f8"
         },
         "yaxis": "y14"
        },
        {
         "line": {
          "color": "blue"
         },
         "mode": "lines",
         "showlegend": false,
         "type": "scatter",
         "x": {
          "bdata": "AQIDBAUGBwgJCgsMDQ4PEBESExQ=",
          "dtype": "i1"
         },
         "xaxis": "x15",
         "y": {
          "bdata": "AAAAAC9keEAAAADgeiF0QAAAAKCmVXBAAAAAoFDwZ0AAAAAAd2BkQP///z9PvV1AAAAA4FZ+W0AAAABgV4RZQP////9EGFhAAAAAoL+aVkD////fWWBXQAAAAGBwzldAAAAAQPsjVkAAAACAVwxWQAAAAAAeDVZAAAAA4PG7VUAAAADAx/NVQAAAAAAxx1VAAAAAYJQCVkAAAABgWbRVQA==",
          "dtype": "f8"
         },
         "yaxis": "y15"
        },
        {
         "line": {
          "color": "red"
         },
         "mode": "lines",
         "showlegend": false,
         "type": "scatter",
         "x": {
          "bdata": "AQIDBAUGBwgJCgsMDQ4PEBESExQ=",
          "dtype": "i1"
         },
         "xaxis": "x15",
         "y": {
          "bdata": "AAAAAN52cEAAAAAACJtqQAAAAKDiTWVAAAAAQPX9YEAAAABgrzhbQAAAACB2PVZAAAAAgPelVUAAAACAOaVVQAAAAGB5pFVAAAAAgLejVUAAAAAg9KJVQAAAACAvolVAAAAAwGihVUAAAABAoaBVQAAAAIDYn1VAAAAA4A6fVUAAAABgRJ5VQAAAACB5nVVAAAAAIK2cVUAAAACg4JtVQA==",
          "dtype": "f8"
         },
         "yaxis": "y15"
        },
        {
         "line": {
          "color": "blue"
         },
         "mode": "lines",
         "showlegend": false,
         "type": "scatter",
         "x": {
          "bdata": "AQIDBAUGBwgJCgsMDQ4PEBESExQ=",
          "dtype": "i1"
         },
         "xaxis": "x16",
         "y": {
          "bdata": "AAAAoHc0eEAAAACgMyF0QAAAAKA8I3BAAAAAYC64Z0AAAACAK2tkQAAAAAAe2l1AAAAAgMOlW0ABAADgB5dZQP////9YSVhAAAAAwDGdVkAAAACg4lRXQAAAAKCo+ldAAAAA4BEnVkAAAABAjxRWQAAAAGAlFFZAAAAAQGjBVUAAAADAx/1VQAAAAGB8zFVAAAAAAJoIVkAAAAAgN7pVQA==",
          "dtype": "f8"
         },
         "yaxis": "y16"
        },
        {
         "line": {
          "color": "red"
         },
         "mode": "lines",
         "showlegend": false,
         "type": "scatter",
         "x": {
          "bdata": "AQIDBAUGBwgJCgsMDQ4PEBESExQ=",
          "dtype": "i1"
         },
         "xaxis": "x16",
         "y": {
          "bdata": "AAAA4GnwcEAAAAAAjAJrQAAAAGDJRGVAAAAAoGedYED///8fnPZZQAAAACAb5FRAAAAAwD7MVEAAAABAgctUQAAAAODBylRAAAAAoADKVEAAAADAPclUQAAAAKB5yFRAAAAAwLPHVEAAAADg7MZUQAAAAOAkxlRAAAAA4FvFVEAAAAAAksRUQAAAAGDHw1RAAAAAIPzCVEAAAAAgMMJUQA==",
          "dtype": "f8"
         },
         "yaxis": "y16"
        },
        {
         "line": {
          "color": "blue"
         },
         "mode": "lines",
         "showlegend": false,
         "type": "scatter",
         "x": {
          "bdata": "AQIDBAUGBwgJCgsMDQ4PEBESExQ=",
          "dtype": "i1"
         },
         "xaxis": "x17",
         "y": {
          "bdata": "AAAAYAZFeEAAAADgYyR0QAAAAEBSR3BAAAAAAKazZ0AAAADA4WVkQAAAAKCIzV1AAQAAQLmoW0AAAACAAZFZQAEAACCyQlhAAAAAIMWUVkAAAACAhlFXQAEAAADX0ldAAAAAgMIfVkAAAABAtwlWQAAAAGC4C1ZAAAAAoHu5VUAAAAAgVfZVQAAAACAGxVVAAAAAAB4BVkAAAABgwbJVQA==",
          "dtype": "f8"
         },
         "yaxis": "y17"
        },
        {
         "line": {
          "color": "red"
         },
         "mode": "lines",
         "showlegend": false,
         "type": "scatter",
         "x": {
          "bdata": "AQIDBAUGBwgJCgsMDQ4PEBESExQ=",
          "dtype": "i1"
         },
         "xaxis": "x17",
         "y": {
          "bdata": "AAAA4DXNcEAAAACgdgVrQAAAAOBsgmVAAAAA4LkJYUAAAADgyBVbQAAAAICUEVZAAAAA4GG4VUAAAADgo7dVQAAAAMDjtlVAAAAAACK2VUAAAACAXrVVQAAAAICZtFVAAAAAQNOzVUAAAADAC7NVQAAAAABDslVAAAAAQHmxVUAAAAAAr7BVQAAAAKDjr1VAAAAAoBevVUAAAAAgS65VQA==",
          "dtype": "f8"
         },
         "yaxis": "y17"
        },
        {
         "line": {
          "color": "blue"
         },
         "mode": "lines",
         "showlegend": false,
         "type": "scatter",
         "x": {
          "bdata": "AQIDBAUGBwgJCgsMDQ4PEBESExQ=",
          "dtype": "i1"
         },
         "xaxis": "x18",
         "y": {
          "bdata": "AAAAAMsweEAAAACAZTl0QAAAAEBFN3BAAAAAYDjKZ0AAAABgOzdkQAAAAKAe+V1AAAAAYOueW0AAAADgpJNZQAAAAKBGQ1hAAAAAgP6RVkAAAABgMi5XQAAAAOBEz1dAAAAAwOIcVkAAAABgsxJWQAAAAKC3ClZAAAAAAGO9VUAAAAAg5upVQAAAAKBbxlVAAAAAYLIFVkAAAABgTrJVQA==",
          "dtype": "f8"
         },
         "yaxis": "y18"
        },
        {
         "line": {
          "color": "red"
         },
         "mode": "lines",
         "showlegend": false,
         "type": "scatter",
         "x": {
          "bdata": "AQIDBAUGBwgJCgsMDQ4PEBESExQ=",
          "dtype": "i1"
         },
         "xaxis": "x18",
         "y": {
          "bdata": "AAAA4MHscEAAAACg4+lqQAAAAIDMH2VAAAAAoAB0YEAAAADgBsRZQAAAAODK4VVAAAAAIA/hVUAAAAAgUeBVQAAAACCR31VAAAAAYM/eVUAAAADgC95VQAAAAABH3VVAAAAAwIDcVUAAAABgudtVQAAAAKDw2lVAAAAAICfaVUAAAACgXNlVQAAAAICR2FVAAAAAoMXXVUAAAAAg+dZVQA==",
          "dtype": "f8"
         },
         "yaxis": "y18"
        },
        {
         "line": {
          "color": "blue"
         },
         "mode": "lines",
         "showlegend": false,
         "type": "scatter",
         "x": {
          "bdata": "AQIDBAUGBwgJCgsMDQ4PEBESExQ=",
          "dtype": "i1"
         },
         "xaxis": "x19",
         "y": {
          "bdata": "AAAAIJhXeEAAAACAeAh0QAAAAIBUP3BAAAAAIMvjZ0AAAADAp19kQAAAAEBEw11AAAAAQEqkW0ABAAAggopZQAAAAMBlFlhAAAAAYHGeVkAAAABg1kpXQAEAAAAHxFdAAAAAYMMdVkAAAACgCQpWQAAAAAAiCFZAAAAAADK9VUAAAACgFe5VQAAAAIA9xVVAAAAAICEAVkAAAABgK7JVQA==",
          "dtype": "f8"
         },
         "yaxis": "y19"
        },
        {
         "line": {
          "color": "red"
         },
         "mode": "lines",
         "showlegend": false,
         "type": "scatter",
         "x": {
          "bdata": "AQIDBAUGBwgJCgsMDQ4PEBESExQ=",
          "dtype": "i1"
         },
         "xaxis": "x19",
         "y": {
          "bdata": "AAAAwJyIcED///+/TpdqQAAAAAAyK2VAAAAAAMXEYEAAAADgjqpaQAAAAEBp11VAAAAAYK3WVUAAAABA79VVQAAAAEAv1VVAAAAAYG3UVUAAAADgqdNVQAAAAADl0lVAAAAAoB7SVUAAAAAAV9FVQAAAAECO0FVAAAAAoMTPVUAAAAAg+s5VQAAAAOAuzlVAAAAA4GLNVUAAAABAlsxVQA==",
          "dtype": "f8"
         },
         "yaxis": "y19"
        },
        {
         "line": {
          "color": "blue"
         },
         "mode": "lines",
         "showlegend": false,
         "type": "scatter",
         "x": {
          "bdata": "AQIDBAUGBwgJCgsMDQ4PEBESExQ=",
          "dtype": "i1"
         },
         "xaxis": "x20",
         "y": {
          "bdata": "AAAAgPBdeEAAAADAdBp0QAAAACDkRnBAAAAAwPfUZ0AAAACgjFRkQAEAAOD7yV1A////v8aiW0ABAADAgIpZQP///z9PP1hAAAAAoH+oVkD///8/+0lXQAEAAOAz0ldAAAAA4OceVkAAAAAAMAtWQAAAAKBsClZAAAAAIPG+VUAAAABA9OtVQAAAAKBZxlVAAAAAQMEAVkAAAABAYLNVQA==",
          "dtype": "f8"
         },
         "yaxis": "y20"
        },
        {
         "line": {
          "color": "red"
         },
         "mode": "lines",
         "showlegend": false,
         "type": "scatter",
         "x": {
          "bdata": "AQIDBAUGBwgJCgsMDQ4PEBESExQ=",
          "dtype": "i1"
         },
         "xaxis": "x20",
         "y": {
          "bdata": "AAAA4PdrcED///+/lo9qQAAAAMA2SmVAAAAAIMsAYUAAAABgtUlbQAAAAKCQTVZAAAAAwOW2VUAAAADgJ7ZVQAAAAOBntVVAAAAAAKa0VUAAAACA4rNVQAAAAKAds1VAAAAAQFeyVUAAAADgj7FVQAAAACDHsFVAAAAAoP2vVUAAAABAM69VQAAAAOBnrlVAAAAA4JutVUAAAACAz6xVQA==",
          "dtype": "f8"
         },
         "yaxis": "y20"
        },
        {
         "line": {
          "color": "blue"
         },
         "mode": "lines",
         "showlegend": false,
         "type": "scatter",
         "x": {
          "bdata": "AQIDBAUGBwgJCgsMDQ4PEBESExQ=",
          "dtype": "i1"
         },
         "xaxis": "x21",
         "y": {
          "bdata": "AAAAAKMReEAAAAAAUB50QAAAAIBdNnBAAAAAYL6sZ0AAAAAgTztkQAAAAMAPzl1AAAAAoBuMW0AAAABghHFZQAAAAAAIVFhAAAAAIPuRVkD////f8SpXQAAAAGCHxVdAAAAAQDEaVkAAAABAXQdWQAAAAOBfB1ZAAAAAgAu7VUAAAAAAqulVQAAAAEB1w1VAAAAAYCz9VUAAAACgW69VQA==",
          "dtype": "f8"
         },
         "yaxis": "y21"
        },
        {
         "line": {
          "color": "red"
         },
         "mode": "lines",
         "showlegend": false,
         "type": "scatter",
         "x": {
          "bdata": "AQIDBAUGBwgJCgsMDQ4PEBESExQ=",
          "dtype": "i1"
         },
         "xaxis": "x21",
         "y": {
          "bdata": "AAAAIKEmcUAAAACgI5JrQAAAAAAD72VAAAAAAA1eYUAAAADANZdbQAAAAOAYblZAAAAAIJ0jVkAAAAAg3yJWQAAAACAfIlZAAAAAYF0hVkAAAAAAmiBWQAAAAADVH1ZAAAAAoA4fVkAAAAAgRx5WQAAAAGB+HVZAAAAAwLQcVkAAAACA6htWQAAAACAfG1ZAAAAAIFMaVkAAAACAhhlWQA==",
          "dtype": "f8"
         },
         "yaxis": "y21"
        },
        {
         "line": {
          "color": "blue"
         },
         "mode": "lines",
         "showlegend": false,
         "type": "scatter",
         "x": {
          "bdata": "AQIDBAUGBwgJCgsMDQ4PEBESExQ=",
          "dtype": "i1"
         },
         "xaxis": "x22",
         "y": {
          "bdata": "AQAAwBBPeEAAAACAWBN0QAAAAGCnQHBAAAAA4PbBZ0AAAAAgVGFkQAAAAGAUuF1AAQAAAO+hW0D///8/A4pZQAAAAKC6OlhA////H2ybVkAAAADAgUpXQAAAAEDyzldAAAAAwP0bVkAAAABgMQhWQAAAAMBFBlZAAAAAoMO5VUAAAADgGexVQAAAAGCzw1VAAAAAgPP9VUAAAAAAcbBVQA==",
          "dtype": "f8"
         },
         "yaxis": "y22"
        },
        {
         "line": {
          "color": "red"
         },
         "mode": "lines",
         "showlegend": false,
         "type": "scatter",
         "x": {
          "bdata": "AQIDBAUGBwgJCgsMDQ4PEBESExQ=",
          "dtype": "i1"
         },
         "xaxis": "x22",
         "y": {
          "bdata": "AAAAAKrmcED+//8/+EVrQAAAACDwy2VAAAAAgHFYYUAAAAAAVrdbQAAAAIBjh1ZAAAAA4FYPVkAAAADgmA5WQAAAAMDYDVZAAAAA4BYNVkAAAACAUwxWQAAAAICOC1ZAAAAAQMgKVkAAAACgAApWQAAAAOA3CVZAAAAAQG4IVkAAAADgowdWQAAAAIDYBlZAAAAAoAwGVkAAAAAAQAVWQA==",
          "dtype": "f8"
         },
         "yaxis": "y22"
        },
        {
         "line": {
          "color": "blue"
         },
         "mode": "lines",
         "showlegend": false,
         "type": "scatter",
         "x": {
          "bdata": "AQIDBAUGBwgJCgsMDQ4PEBESExQ=",
          "dtype": "i1"
         },
         "xaxis": "x23",
         "y": {
          "bdata": "AAAAwK8/eEAAAAAAYw10QAAAAABgDXBAAQAAwFjnZ0AAAAAArUBkQAAAAIDTzl1AAAAAQP6PW0D/////kIRZQAAAAMAzW1hAAAAA4GSOVkAAAACA/kJXQAAAAKA31ldAAAAAQLQbVkAAAAAg5wpWQAAAAMCrB1ZAAAAAAJO8VUAAAAAgnu9VQAAAAOAhwlVAAAAA4Jr9VUAAAAAgFbBVQA==",
          "dtype": "f8"
         },
         "yaxis": "y23"
        },
        {
         "line": {
          "color": "red"
         },
         "mode": "lines",
         "showlegend": false,
         "type": "scatter",
         "x": {
          "bdata": "AQIDBAUGBwgJCgsMDQ4PEBESExQ=",
          "dtype": "i1"
         },
         "xaxis": "x23",
         "y": {
          "bdata": "AAAA4HMUckAAAACAXtRsQP///z+vs2ZAAAAAABG6YUAAAACggK5bQAAAAKBTP1ZAAAAAAPYZVkAAAAAgOBlWQAAAACB4GFZAAAAAYLYXVkAAAAAg8xZWQAAAACAuFlZAAAAAAGgVVkAAAACAoBRWQAAAAMDXE1ZAAAAAQA4TVkAAAADgQxJWQAAAAIB4EVZAAAAAwKwQVkAAAABA4A9WQA==",
          "dtype": "f8"
         },
         "yaxis": "y23"
        },
        {
         "line": {
          "color": "blue"
         },
         "mode": "lines",
         "showlegend": false,
         "type": "scatter",
         "x": {
          "bdata": "AQIDBAUGBwgJCgsMDQ4PEBESExQ=",
          "dtype": "i1"
         },
         "xaxis": "x24",
         "y": {
          "bdata": "AAAA4EIaeEAAAABAdCF0QAAAAIC3B3BA////P4uyZ0AAAACgkjZkQP///7965F1AAQAAAAuSW0AAAAAAknhZQAEAAOCHXVhA////P6uOVkAAAAAgET1XQAEAAAAf2FdAAAAAAGIcVkAAAABgcwtWQAAAAGDyB1ZAAAAAYAa/VUAAAAAA0OpVQAAAAACmxFVAAAAAABT+VUAAAAAgp7BVQA==",
          "dtype": "f8"
         },
         "yaxis": "y24"
        },
        {
         "line": {
          "color": "red"
         },
         "mode": "lines",
         "showlegend": false,
         "type": "scatter",
         "x": {
          "bdata": "AQIDBAUGBwgJCgsMDQ4PEBESExQ=",
          "dtype": "i1"
         },
         "xaxis": "x24",
         "y": {
          "bdata": "AAAA4PidcUABAAAgTiNsQAAAAGDbM2ZAAAAAYO1kYUD///8fSEZbQAAAAODYCFZAAAAAQKH0VUAAAABA4/NVQAAAACAj81VAAAAAQGHyVUAAAADgnfFVQAAAAODY8FVAAAAAgBLwVUAAAADgSu9VQAAAAECC7lVAAAAAgLjtVUAAAAAA7uxVQAAAAKAi7FVAAAAAoFbrVUAAAAAgiupVQA==",
          "dtype": "f8"
         },
         "yaxis": "y24"
        },
        {
         "line": {
          "color": "blue"
         },
         "mode": "lines",
         "showlegend": false,
         "type": "scatter",
         "x": {
          "bdata": "AQIDBAUGBwgJCgsMDQ4PEBESExQ=",
          "dtype": "i1"
         },
         "xaxis": "x25",
         "y": {
          "bdata": "AAAAQPw8eEAAAAAg8B50QAAAAACpKXBA////P4fFZ0AAAAAg6VtkQAAAAODg1V1AAAAAIJ2gW0AAAAAA2pRZQAEAAABHXFhA/////yCaVkAAAABAGlBXQP///7+68VdAAAAAQIkeVkAAAAAgOQ1WQAAAAMCjCVZAAAAA4Ny8VUAAAADgz/VVQAAAAEBmxFVAAAAAgEEAVkAAAABAPLJVQA==",
          "dtype": "f8"
         },
         "yaxis": "y25"
        },
        {
         "line": {
          "color": "red"
         },
         "mode": "lines",
         "showlegend": false,
         "type": "scatter",
         "x": {
          "bdata": "AQIDBAUGBwgJCgsMDQ4PEBESExQ=",
          "dtype": "i1"
         },
         "xaxis": "x25",
         "y": {
          "bdata": "AAAA4MVccUAAAACAxMxrQAAAACALAmZAAAAAgOZNYUD////f2UFbQAAAAIA+FVZAAAAAYODCVUAAAABgIsJVQAAAAGBiwVVAAAAAoKDAVUAAAABA3b9VQAAAAEAYv1VAAAAAAFK+VUAAAABgir1VQAAAAMDBvFVAAAAAIPi7VUAAAACgLbtVQAAAAEBiulVAAAAAYJa5VUAAAADAybhVQA==",
          "dtype": "f8"
         },
         "yaxis": "y25"
        },
        {
         "line": {
          "color": "blue"
         },
         "mode": "lines",
         "showlegend": false,
         "type": "scatter",
         "x": {
          "bdata": "AQIDBAUGBwgJCgsMDQ4PEBESExQ=",
          "dtype": "i1"
         },
         "xaxis": "x26",
         "y": {
          "bdata": "AAAAoJVmeEAAAACAVBx0QP///78xSnBAAAAAAMXZZ0AAAADABmhkQAAAACBPuV1AAAAA4Mh7W0AAAACAI4ZZQAAAAIChHlhAAAAAYCacVkABAAAAQ11XQAAAAMBtz1dAAAAAAMcgVkAAAAAgvAxWQAAAAKDADlZAAAAAANO7VUAAAABAOPBVQAAAAKC0yVVAAAAAwFAFVkAAAACgy7RVQA==",
          "dtype": "f8"
         },
         "yaxis": "y26"
        },
        {
         "line": {
          "color": "red"
         },
         "mode": "lines",
         "showlegend": false,
         "type": "scatter",
         "x": {
          "bdata": "AQIDBAUGBwgJCgsMDQ4PEBESExQ=",
          "dtype": "i1"
         },
         "xaxis": "x26",
         "y": {
          "bdata": "AAAAoESZcEAAAABg8bZqQAAAAMDUR2VAAAAAYKPdYEAAAAAgv9FaQAAAAAA9zVVAAAAA4OZ7VUAAAADgKHtVQAAAAMBoelVAAAAA4KZ5VUAAAACA43hVQAAAAIAeeFVAAAAAIFh3VUAAAADAkHZVQAAAAADIdVVAAAAAQP50VUAAAAAANHRVQAAAAKBoc1VAAAAAwJxyVUAAAABA0HFVQA==",
          "dtype": "f8"
         },
         "yaxis": "y26"
        },
        {
         "line": {
          "color": "blue"
         },
         "mode": "lines",
         "showlegend": false,
         "type": "scatter",
         "x": {
          "bdata": "AQIDBAUGBwgJCgsMDQ4PEBESExQ=",
          "dtype": "i1"
         },
         "xaxis": "x27",
         "y": {
          "bdata": "AAAAQOQpeEAAAABAsyN0QAAAAICLLHBAAAAAgMyzZ0AAAABgpFhkQAEAAADv2F1AAAAAIPFzW0D///8/L2pZQAEAAAB7XFhAAQAA4BOHVkAAAABgdVBXQAAAAGAj4VdAAAAAgKQdVkAAAAAgqAtWQAAAACAUDFZAAAAAQB26VUAAAABg6vBVQAAAAMBDxlVAAAAAIAMCVkAAAABgU7FVQA==",
          "dtype": "f8"
         },
         "yaxis": "y27"
        },
        {
         "line": {
          "color": "red"
         },
         "mode": "lines",
         "showlegend": false,
         "type": "scatter",
         "x": {
          "bdata": "AQIDBAUGBwgJCgsMDQ4PEBESExQ=",
          "dtype": "i1"
         },
         "xaxis": "x27",
         "y": {
          "bdata": "AAAAgIzfcEAAAAAAgCtrQAAAACCGqWVAAAAAIMQwYUAAAACAOGBbQAAAAMAZOVZAAAAA4HXZVUAAAADAt9hVQAAAAMD311VAAAAA4DXXVUAAAABgctZVQAAAAICt1VVAAAAAQOfUVUAAAADAH9RVQAAAAABX01VAAAAAQI3SVUAAAADgwtFVQAAAAKD30FVAAAAAwCvQVUAAAAAgX89VQA==",
          "dtype": "f8"
         },
         "yaxis": "y27"
        },
        {
         "line": {
          "color": "blue"
         },
         "mode": "lines",
         "showlegend": false,
         "type": "scatter",
         "x": {
          "bdata": "AQIDBAUGBwgJCgsMDQ4PEBESExQ=",
          "dtype": "i1"
         },
         "xaxis": "x28",
         "y": {
          "bdata": "AAAA4L87eEAAAAAgghl0QAAAACDwDXBAAQAA4GWbZ0AAAABApEpkQAEAAOA7p11AAAAAgP6KW0AAAACgI3FZQAAAAKBgS1hAAQAA4HeVVkAAAACg0DhXQAAAAIBeyldAAAAAAGwYVkAAAAAAnhFWQAAAAGBGBlZAAAAAoIO9VUAAAACAuulVQAAAAICRw1VAAAAAQAz9VUAAAADgcK9VQA==",
          "dtype": "f8"
         },
         "yaxis": "y28"
        },
        {
         "line": {
          "color": "red"
         },
         "mode": "lines",
         "showlegend": false,
         "type": "scatter",
         "x": {
          "bdata": "AQIDBAUGBwgJCgsMDQ4PEBESExQ=",
          "dtype": "i1"
         },
         "xaxis": "x28",
         "y": {
          "bdata": "AAAAoG8mckAAAADgUPVsQAAAAKAA0GZAAAAAgOHVYUAAAADgGOJbQAAAAAAaL1ZAAAAAwA4pVkAAAACAUChWQAAAAGCQJ1ZAAAAAgM4mVkAAAAAgCyZWQAAAACBGJVZAAAAAwH8kVkAAAABAuCNWQAAAAGDvIlZAAAAAoCUiVkAAAABAWyFWQAAAAOCPIFZAAAAA4MMfVkAAAABA9x5WQA==",
          "dtype": "f8"
         },
         "yaxis": "y28"
        },
        {
         "line": {
          "color": "blue"
         },
         "mode": "lines",
         "showlegend": false,
         "type": "scatter",
         "x": {
          "bdata": "AQIDBAUGBwgJCgsMDQ4PEBESExQ=",
          "dtype": "i1"
         },
         "xaxis": "x29",
         "y": {
          "bdata": "AAAAgJo8eEAAAABAGAN0QAAAAAAQEXBAAQAA4OHkZ0AAAACgU0lkQAAAAECax11AAAAAYPueW0AAAABgFZJZQAAAAMAzOVhAAAAAoOGTVkAAAACgaUdXQAEAACDi6VdAAAAAAJkbVkAAAABgPApWQAAAAOCpB1ZAAAAA4NK6VUAAAABgVOtVQAAAAAB0xVVAAAAA4Pv8VUAAAAAgIrBVQA==",
          "dtype": "f8"
         },
         "yaxis": "y29"
        },
        {
         "line": {
          "color": "red"
         },
         "mode": "lines",
         "showlegend": false,
         "type": "scatter",
         "x": {
          "bdata": "AQIDBAUGBwgJCgsMDQ4PEBESExQ=",
          "dtype": "i1"
         },
         "xaxis": "x29",
         "y": {
          "bdata": "AAAAgCUGcUAAAABAjk1rQAAAAOAgqmVAAAAA4GQXYUAAAACA1ApbQAAAACDBLFZAAAAA4BImVkAAAADgVCVWQAAAAOCUJFZAAAAAANMjVkAAAACADyNWQAAAAMBKIlZAAAAAgIQhVkAAAAAgvSBWQAAAAED0H1ZAAAAA4CofVkAAAACAYB5WQAAAACCVHVZAAAAAQMkcVkAAAADA/BtWQA==",
          "dtype": "f8"
         },
         "yaxis": "y29"
        },
        {
         "line": {
          "color": "blue"
         },
         "mode": "lines",
         "showlegend": false,
         "type": "scatter",
         "x": {
          "bdata": "AQIDBAUGBwgJCgsMDQ4PEBESExQ=",
          "dtype": "i1"
         },
         "xaxis": "x30",
         "y": {
          "bdata": "AAAAwDkXeEAAAABAdCx0QAAAAOA4HnBA/v//P8DVZ0AAAABAEi1kQAAAAICu7V1AAAAAIEOTW0ABAABAuW5ZQAAAAECwUlhAAAAAIIODVkD///8/P0RXQAAAAIDu01dAAAAA4E4dVkAAAABAlgtWQAAAACCrB1ZAAAAAgNa4VUAAAACACPRVQAAAAMDKwlVAAAAAoL3+VUAAAADgD7FVQA==",
          "dtype": "f8"
         },
         "yaxis": "y30"
        },
        {
         "line": {
          "color": "red"
         },
         "mode": "lines",
         "showlegend": false,
         "type": "scatter",
         "x": {
          "bdata": "AQIDBAUGBwgJCgsMDQ4PEBESExQ=",
          "dtype": "i1"
         },
         "xaxis": "x30",
         "y": {
          "bdata": "AAAA4MywcEABAAAgtdJqQAAAAEAqV2VAAAAAAE3lYED///8/f9haQAAAAOCoHVZAAAAA4KL2VUAAAADg5PVVQAAAAOAk9VVAAAAAAGP0VUAAAACgn/NVQAAAAMDa8lVAAAAAgBTyVUAAAADgTPFVQAAAAECE8FVAAAAAwLrvVUAAAABA8O5VQAAAAAAl7lVAAAAAAFntVUAAAACAjOxVQA==",
          "dtype": "f8"
         },
         "yaxis": "y30"
        }
       ],
       "layout": {
        "annotations": [
         {
          "font": {
           "size": 16
          },
          "showarrow": false,
          "text": "Fold 1",
          "x": 0.14444444444444446,
          "xanchor": "center",
          "xref": "paper",
          "y": 1,
          "yanchor": "bottom",
          "yref": "paper"
         },
         {
          "font": {
           "size": 16
          },
          "showarrow": false,
          "text": "Fold 2",
          "x": 0.5,
          "xanchor": "center",
          "xref": "paper",
          "y": 1,
          "yanchor": "bottom",
          "yref": "paper"
         },
         {
          "font": {
           "size": 16
          },
          "showarrow": false,
          "text": "Fold 3",
          "x": 0.8555555555555556,
          "xanchor": "center",
          "xref": "paper",
          "y": 1,
          "yanchor": "bottom",
          "yref": "paper"
         },
         {
          "font": {
           "size": 16
          },
          "showarrow": false,
          "text": "Fold 4",
          "x": 0.14444444444444446,
          "xanchor": "center",
          "xref": "paper",
          "y": 0.8950000000000001,
          "yanchor": "bottom",
          "yref": "paper"
         },
         {
          "font": {
           "size": 16
          },
          "showarrow": false,
          "text": "Fold 5",
          "x": 0.5,
          "xanchor": "center",
          "xref": "paper",
          "y": 0.8950000000000001,
          "yanchor": "bottom",
          "yref": "paper"
         },
         {
          "font": {
           "size": 16
          },
          "showarrow": false,
          "text": "Fold 6",
          "x": 0.8555555555555556,
          "xanchor": "center",
          "xref": "paper",
          "y": 0.8950000000000001,
          "yanchor": "bottom",
          "yref": "paper"
         },
         {
          "font": {
           "size": 16
          },
          "showarrow": false,
          "text": "Fold 7",
          "x": 0.14444444444444446,
          "xanchor": "center",
          "xref": "paper",
          "y": 0.7900000000000001,
          "yanchor": "bottom",
          "yref": "paper"
         },
         {
          "font": {
           "size": 16
          },
          "showarrow": false,
          "text": "Fold 8",
          "x": 0.5,
          "xanchor": "center",
          "xref": "paper",
          "y": 0.7900000000000001,
          "yanchor": "bottom",
          "yref": "paper"
         },
         {
          "font": {
           "size": 16
          },
          "showarrow": false,
          "text": "Fold 9",
          "x": 0.8555555555555556,
          "xanchor": "center",
          "xref": "paper",
          "y": 0.7900000000000001,
          "yanchor": "bottom",
          "yref": "paper"
         },
         {
          "font": {
           "size": 16
          },
          "showarrow": false,
          "text": "Fold 10",
          "x": 0.14444444444444446,
          "xanchor": "center",
          "xref": "paper",
          "y": 0.6850000000000002,
          "yanchor": "bottom",
          "yref": "paper"
         },
         {
          "font": {
           "size": 16
          },
          "showarrow": false,
          "text": "Fold 11",
          "x": 0.5,
          "xanchor": "center",
          "xref": "paper",
          "y": 0.6850000000000002,
          "yanchor": "bottom",
          "yref": "paper"
         },
         {
          "font": {
           "size": 16
          },
          "showarrow": false,
          "text": "Fold 12",
          "x": 0.8555555555555556,
          "xanchor": "center",
          "xref": "paper",
          "y": 0.6850000000000002,
          "yanchor": "bottom",
          "yref": "paper"
         },
         {
          "font": {
           "size": 16
          },
          "showarrow": false,
          "text": "Fold 13",
          "x": 0.14444444444444446,
          "xanchor": "center",
          "xref": "paper",
          "y": 0.5800000000000001,
          "yanchor": "bottom",
          "yref": "paper"
         },
         {
          "font": {
           "size": 16
          },
          "showarrow": false,
          "text": "Fold 14",
          "x": 0.5,
          "xanchor": "center",
          "xref": "paper",
          "y": 0.5800000000000001,
          "yanchor": "bottom",
          "yref": "paper"
         },
         {
          "font": {
           "size": 16
          },
          "showarrow": false,
          "text": "Fold 15",
          "x": 0.8555555555555556,
          "xanchor": "center",
          "xref": "paper",
          "y": 0.5800000000000001,
          "yanchor": "bottom",
          "yref": "paper"
         },
         {
          "font": {
           "size": 16
          },
          "showarrow": false,
          "text": "Fold 16",
          "x": 0.14444444444444446,
          "xanchor": "center",
          "xref": "paper",
          "y": 0.47500000000000003,
          "yanchor": "bottom",
          "yref": "paper"
         },
         {
          "font": {
           "size": 16
          },
          "showarrow": false,
          "text": "Fold 17",
          "x": 0.5,
          "xanchor": "center",
          "xref": "paper",
          "y": 0.47500000000000003,
          "yanchor": "bottom",
          "yref": "paper"
         },
         {
          "font": {
           "size": 16
          },
          "showarrow": false,
          "text": "Fold 18",
          "x": 0.8555555555555556,
          "xanchor": "center",
          "xref": "paper",
          "y": 0.47500000000000003,
          "yanchor": "bottom",
          "yref": "paper"
         },
         {
          "font": {
           "size": 16
          },
          "showarrow": false,
          "text": "Fold 19",
          "x": 0.14444444444444446,
          "xanchor": "center",
          "xref": "paper",
          "y": 0.37000000000000005,
          "yanchor": "bottom",
          "yref": "paper"
         },
         {
          "font": {
           "size": 16
          },
          "showarrow": false,
          "text": "Fold 20",
          "x": 0.5,
          "xanchor": "center",
          "xref": "paper",
          "y": 0.37000000000000005,
          "yanchor": "bottom",
          "yref": "paper"
         },
         {
          "font": {
           "size": 16
          },
          "showarrow": false,
          "text": "Fold 21",
          "x": 0.8555555555555556,
          "xanchor": "center",
          "xref": "paper",
          "y": 0.37000000000000005,
          "yanchor": "bottom",
          "yref": "paper"
         },
         {
          "font": {
           "size": 16
          },
          "showarrow": false,
          "text": "Fold 22",
          "x": 0.14444444444444446,
          "xanchor": "center",
          "xref": "paper",
          "y": 0.265,
          "yanchor": "bottom",
          "yref": "paper"
         },
         {
          "font": {
           "size": 16
          },
          "showarrow": false,
          "text": "Fold 23",
          "x": 0.5,
          "xanchor": "center",
          "xref": "paper",
          "y": 0.265,
          "yanchor": "bottom",
          "yref": "paper"
         },
         {
          "font": {
           "size": 16
          },
          "showarrow": false,
          "text": "Fold 24",
          "x": 0.8555555555555556,
          "xanchor": "center",
          "xref": "paper",
          "y": 0.265,
          "yanchor": "bottom",
          "yref": "paper"
         },
         {
          "font": {
           "size": 16
          },
          "showarrow": false,
          "text": "Fold 25",
          "x": 0.14444444444444446,
          "xanchor": "center",
          "xref": "paper",
          "y": 0.16000000000000003,
          "yanchor": "bottom",
          "yref": "paper"
         },
         {
          "font": {
           "size": 16
          },
          "showarrow": false,
          "text": "Fold 26",
          "x": 0.5,
          "xanchor": "center",
          "xref": "paper",
          "y": 0.16000000000000003,
          "yanchor": "bottom",
          "yref": "paper"
         },
         {
          "font": {
           "size": 16
          },
          "showarrow": false,
          "text": "Fold 27",
          "x": 0.8555555555555556,
          "xanchor": "center",
          "xref": "paper",
          "y": 0.16000000000000003,
          "yanchor": "bottom",
          "yref": "paper"
         },
         {
          "font": {
           "size": 16
          },
          "showarrow": false,
          "text": "Fold 28",
          "x": 0.14444444444444446,
          "xanchor": "center",
          "xref": "paper",
          "y": 0.05500000000000001,
          "yanchor": "bottom",
          "yref": "paper"
         },
         {
          "font": {
           "size": 16
          },
          "showarrow": false,
          "text": "Fold 29",
          "x": 0.5,
          "xanchor": "center",
          "xref": "paper",
          "y": 0.05500000000000001,
          "yanchor": "bottom",
          "yref": "paper"
         },
         {
          "font": {
           "size": 16
          },
          "showarrow": false,
          "text": "Fold 30",
          "x": 0.8555555555555556,
          "xanchor": "center",
          "xref": "paper",
          "y": 0.05500000000000001,
          "yanchor": "bottom",
          "yref": "paper"
         }
        ],
        "height": 3500,
        "margin": {
         "t": 50
        },
        "template": {
         "data": {
          "bar": [
           {
            "error_x": {
             "color": "#2a3f5f"
            },
            "error_y": {
             "color": "#2a3f5f"
            },
            "marker": {
             "line": {
              "color": "#E5ECF6",
              "width": 0.5
             },
             "pattern": {
              "fillmode": "overlay",
              "size": 10,
              "solidity": 0.2
             }
            },
            "type": "bar"
           }
          ],
          "barpolar": [
           {
            "marker": {
             "line": {
              "color": "#E5ECF6",
              "width": 0.5
             },
             "pattern": {
              "fillmode": "overlay",
              "size": 10,
              "solidity": 0.2
             }
            },
            "type": "barpolar"
           }
          ],
          "carpet": [
           {
            "aaxis": {
             "endlinecolor": "#2a3f5f",
             "gridcolor": "white",
             "linecolor": "white",
             "minorgridcolor": "white",
             "startlinecolor": "#2a3f5f"
            },
            "baxis": {
             "endlinecolor": "#2a3f5f",
             "gridcolor": "white",
             "linecolor": "white",
             "minorgridcolor": "white",
             "startlinecolor": "#2a3f5f"
            },
            "type": "carpet"
           }
          ],
          "choropleth": [
           {
            "colorbar": {
             "outlinewidth": 0,
             "ticks": ""
            },
            "type": "choropleth"
           }
          ],
          "contour": [
           {
            "colorbar": {
             "outlinewidth": 0,
             "ticks": ""
            },
            "colorscale": [
             [
              0,
              "#0d0887"
             ],
             [
              0.1111111111111111,
              "#46039f"
             ],
             [
              0.2222222222222222,
              "#7201a8"
             ],
             [
              0.3333333333333333,
              "#9c179e"
             ],
             [
              0.4444444444444444,
              "#bd3786"
             ],
             [
              0.5555555555555556,
              "#d8576b"
             ],
             [
              0.6666666666666666,
              "#ed7953"
             ],
             [
              0.7777777777777778,
              "#fb9f3a"
             ],
             [
              0.8888888888888888,
              "#fdca26"
             ],
             [
              1,
              "#f0f921"
             ]
            ],
            "type": "contour"
           }
          ],
          "contourcarpet": [
           {
            "colorbar": {
             "outlinewidth": 0,
             "ticks": ""
            },
            "type": "contourcarpet"
           }
          ],
          "heatmap": [
           {
            "colorbar": {
             "outlinewidth": 0,
             "ticks": ""
            },
            "colorscale": [
             [
              0,
              "#0d0887"
             ],
             [
              0.1111111111111111,
              "#46039f"
             ],
             [
              0.2222222222222222,
              "#7201a8"
             ],
             [
              0.3333333333333333,
              "#9c179e"
             ],
             [
              0.4444444444444444,
              "#bd3786"
             ],
             [
              0.5555555555555556,
              "#d8576b"
             ],
             [
              0.6666666666666666,
              "#ed7953"
             ],
             [
              0.7777777777777778,
              "#fb9f3a"
             ],
             [
              0.8888888888888888,
              "#fdca26"
             ],
             [
              1,
              "#f0f921"
             ]
            ],
            "type": "heatmap"
           }
          ],
          "histogram": [
           {
            "marker": {
             "pattern": {
              "fillmode": "overlay",
              "size": 10,
              "solidity": 0.2
             }
            },
            "type": "histogram"
           }
          ],
          "histogram2d": [
           {
            "colorbar": {
             "outlinewidth": 0,
             "ticks": ""
            },
            "colorscale": [
             [
              0,
              "#0d0887"
             ],
             [
              0.1111111111111111,
              "#46039f"
             ],
             [
              0.2222222222222222,
              "#7201a8"
             ],
             [
              0.3333333333333333,
              "#9c179e"
             ],
             [
              0.4444444444444444,
              "#bd3786"
             ],
             [
              0.5555555555555556,
              "#d8576b"
             ],
             [
              0.6666666666666666,
              "#ed7953"
             ],
             [
              0.7777777777777778,
              "#fb9f3a"
             ],
             [
              0.8888888888888888,
              "#fdca26"
             ],
             [
              1,
              "#f0f921"
             ]
            ],
            "type": "histogram2d"
           }
          ],
          "histogram2dcontour": [
           {
            "colorbar": {
             "outlinewidth": 0,
             "ticks": ""
            },
            "colorscale": [
             [
              0,
              "#0d0887"
             ],
             [
              0.1111111111111111,
              "#46039f"
             ],
             [
              0.2222222222222222,
              "#7201a8"
             ],
             [
              0.3333333333333333,
              "#9c179e"
             ],
             [
              0.4444444444444444,
              "#bd3786"
             ],
             [
              0.5555555555555556,
              "#d8576b"
             ],
             [
              0.6666666666666666,
              "#ed7953"
             ],
             [
              0.7777777777777778,
              "#fb9f3a"
             ],
             [
              0.8888888888888888,
              "#fdca26"
             ],
             [
              1,
              "#f0f921"
             ]
            ],
            "type": "histogram2dcontour"
           }
          ],
          "mesh3d": [
           {
            "colorbar": {
             "outlinewidth": 0,
             "ticks": ""
            },
            "type": "mesh3d"
           }
          ],
          "parcoords": [
           {
            "line": {
             "colorbar": {
              "outlinewidth": 0,
              "ticks": ""
             }
            },
            "type": "parcoords"
           }
          ],
          "pie": [
           {
            "automargin": true,
            "type": "pie"
           }
          ],
          "scatter": [
           {
            "fillpattern": {
             "fillmode": "overlay",
             "size": 10,
             "solidity": 0.2
            },
            "type": "scatter"
           }
          ],
          "scatter3d": [
           {
            "line": {
             "colorbar": {
              "outlinewidth": 0,
              "ticks": ""
             }
            },
            "marker": {
             "colorbar": {
              "outlinewidth": 0,
              "ticks": ""
             }
            },
            "type": "scatter3d"
           }
          ],
          "scattercarpet": [
           {
            "marker": {
             "colorbar": {
              "outlinewidth": 0,
              "ticks": ""
             }
            },
            "type": "scattercarpet"
           }
          ],
          "scattergeo": [
           {
            "marker": {
             "colorbar": {
              "outlinewidth": 0,
              "ticks": ""
             }
            },
            "type": "scattergeo"
           }
          ],
          "scattergl": [
           {
            "marker": {
             "colorbar": {
              "outlinewidth": 0,
              "ticks": ""
             }
            },
            "type": "scattergl"
           }
          ],
          "scattermap": [
           {
            "marker": {
             "colorbar": {
              "outlinewidth": 0,
              "ticks": ""
             }
            },
            "type": "scattermap"
           }
          ],
          "scattermapbox": [
           {
            "marker": {
             "colorbar": {
              "outlinewidth": 0,
              "ticks": ""
             }
            },
            "type": "scattermapbox"
           }
          ],
          "scatterpolar": [
           {
            "marker": {
             "colorbar": {
              "outlinewidth": 0,
              "ticks": ""
             }
            },
            "type": "scatterpolar"
           }
          ],
          "scatterpolargl": [
           {
            "marker": {
             "colorbar": {
              "outlinewidth": 0,
              "ticks": ""
             }
            },
            "type": "scatterpolargl"
           }
          ],
          "scatterternary": [
           {
            "marker": {
             "colorbar": {
              "outlinewidth": 0,
              "ticks": ""
             }
            },
            "type": "scatterternary"
           }
          ],
          "surface": [
           {
            "colorbar": {
             "outlinewidth": 0,
             "ticks": ""
            },
            "colorscale": [
             [
              0,
              "#0d0887"
             ],
             [
              0.1111111111111111,
              "#46039f"
             ],
             [
              0.2222222222222222,
              "#7201a8"
             ],
             [
              0.3333333333333333,
              "#9c179e"
             ],
             [
              0.4444444444444444,
              "#bd3786"
             ],
             [
              0.5555555555555556,
              "#d8576b"
             ],
             [
              0.6666666666666666,
              "#ed7953"
             ],
             [
              0.7777777777777778,
              "#fb9f3a"
             ],
             [
              0.8888888888888888,
              "#fdca26"
             ],
             [
              1,
              "#f0f921"
             ]
            ],
            "type": "surface"
           }
          ],
          "table": [
           {
            "cells": {
             "fill": {
              "color": "#EBF0F8"
             },
             "line": {
              "color": "white"
             }
            },
            "header": {
             "fill": {
              "color": "#C8D4E3"
             },
             "line": {
              "color": "white"
             }
            },
            "type": "table"
           }
          ]
         },
         "layout": {
          "annotationdefaults": {
           "arrowcolor": "#2a3f5f",
           "arrowhead": 0,
           "arrowwidth": 1
          },
          "autotypenumbers": "strict",
          "coloraxis": {
           "colorbar": {
            "outlinewidth": 0,
            "ticks": ""
           }
          },
          "colorscale": {
           "diverging": [
            [
             0,
             "#8e0152"
            ],
            [
             0.1,
             "#c51b7d"
            ],
            [
             0.2,
             "#de77ae"
            ],
            [
             0.3,
             "#f1b6da"
            ],
            [
             0.4,
             "#fde0ef"
            ],
            [
             0.5,
             "#f7f7f7"
            ],
            [
             0.6,
             "#e6f5d0"
            ],
            [
             0.7,
             "#b8e186"
            ],
            [
             0.8,
             "#7fbc41"
            ],
            [
             0.9,
             "#4d9221"
            ],
            [
             1,
             "#276419"
            ]
           ],
           "sequential": [
            [
             0,
             "#0d0887"
            ],
            [
             0.1111111111111111,
             "#46039f"
            ],
            [
             0.2222222222222222,
             "#7201a8"
            ],
            [
             0.3333333333333333,
             "#9c179e"
            ],
            [
             0.4444444444444444,
             "#bd3786"
            ],
            [
             0.5555555555555556,
             "#d8576b"
            ],
            [
             0.6666666666666666,
             "#ed7953"
            ],
            [
             0.7777777777777778,
             "#fb9f3a"
            ],
            [
             0.8888888888888888,
             "#fdca26"
            ],
            [
             1,
             "#f0f921"
            ]
           ],
           "sequentialminus": [
            [
             0,
             "#0d0887"
            ],
            [
             0.1111111111111111,
             "#46039f"
            ],
            [
             0.2222222222222222,
             "#7201a8"
            ],
            [
             0.3333333333333333,
             "#9c179e"
            ],
            [
             0.4444444444444444,
             "#bd3786"
            ],
            [
             0.5555555555555556,
             "#d8576b"
            ],
            [
             0.6666666666666666,
             "#ed7953"
            ],
            [
             0.7777777777777778,
             "#fb9f3a"
            ],
            [
             0.8888888888888888,
             "#fdca26"
            ],
            [
             1,
             "#f0f921"
            ]
           ]
          },
          "colorway": [
           "#636efa",
           "#EF553B",
           "#00cc96",
           "#ab63fa",
           "#FFA15A",
           "#19d3f3",
           "#FF6692",
           "#B6E880",
           "#FF97FF",
           "#FECB52"
          ],
          "font": {
           "color": "#2a3f5f"
          },
          "geo": {
           "bgcolor": "white",
           "lakecolor": "white",
           "landcolor": "#E5ECF6",
           "showlakes": true,
           "showland": true,
           "subunitcolor": "white"
          },
          "hoverlabel": {
           "align": "left"
          },
          "hovermode": "closest",
          "mapbox": {
           "style": "light"
          },
          "paper_bgcolor": "white",
          "plot_bgcolor": "#E5ECF6",
          "polar": {
           "angularaxis": {
            "gridcolor": "white",
            "linecolor": "white",
            "ticks": ""
           },
           "bgcolor": "#E5ECF6",
           "radialaxis": {
            "gridcolor": "white",
            "linecolor": "white",
            "ticks": ""
           }
          },
          "scene": {
           "xaxis": {
            "backgroundcolor": "#E5ECF6",
            "gridcolor": "white",
            "gridwidth": 2,
            "linecolor": "white",
            "showbackground": true,
            "ticks": "",
            "zerolinecolor": "white"
           },
           "yaxis": {
            "backgroundcolor": "#E5ECF6",
            "gridcolor": "white",
            "gridwidth": 2,
            "linecolor": "white",
            "showbackground": true,
            "ticks": "",
            "zerolinecolor": "white"
           },
           "zaxis": {
            "backgroundcolor": "#E5ECF6",
            "gridcolor": "white",
            "gridwidth": 2,
            "linecolor": "white",
            "showbackground": true,
            "ticks": "",
            "zerolinecolor": "white"
           }
          },
          "shapedefaults": {
           "line": {
            "color": "#2a3f5f"
           }
          },
          "ternary": {
           "aaxis": {
            "gridcolor": "white",
            "linecolor": "white",
            "ticks": ""
           },
           "baxis": {
            "gridcolor": "white",
            "linecolor": "white",
            "ticks": ""
           },
           "bgcolor": "#E5ECF6",
           "caxis": {
            "gridcolor": "white",
            "linecolor": "white",
            "ticks": ""
           }
          },
          "title": {
           "x": 0.05
          },
          "xaxis": {
           "automargin": true,
           "gridcolor": "white",
           "linecolor": "white",
           "ticks": "",
           "title": {
            "standoff": 15
           },
           "zerolinecolor": "white",
           "zerolinewidth": 2
          },
          "yaxis": {
           "automargin": true,
           "gridcolor": "white",
           "linecolor": "white",
           "ticks": "",
           "title": {
            "standoff": 15
           },
           "zerolinecolor": "white",
           "zerolinewidth": 2
          }
         }
        },
        "title": {
         "text": "NN – Train vs Test Loss over Epochs (sustavianfeed)"
        },
        "width": 1000,
        "xaxis": {
         "anchor": "y",
         "domain": [
          0,
          0.2888888888888889
         ],
         "title": {
          "text": "Epoch"
         }
        },
        "xaxis10": {
         "anchor": "y10",
         "domain": [
          0,
          0.2888888888888889
         ],
         "title": {
          "text": "Epoch"
         }
        },
        "xaxis11": {
         "anchor": "y11",
         "domain": [
          0.35555555555555557,
          0.6444444444444445
         ],
         "title": {
          "text": "Epoch"
         }
        },
        "xaxis12": {
         "anchor": "y12",
         "domain": [
          0.7111111111111111,
          1
         ],
         "title": {
          "text": "Epoch"
         }
        },
        "xaxis13": {
         "anchor": "y13",
         "domain": [
          0,
          0.2888888888888889
         ],
         "title": {
          "text": "Epoch"
         }
        },
        "xaxis14": {
         "anchor": "y14",
         "domain": [
          0.35555555555555557,
          0.6444444444444445
         ],
         "title": {
          "text": "Epoch"
         }
        },
        "xaxis15": {
         "anchor": "y15",
         "domain": [
          0.7111111111111111,
          1
         ],
         "title": {
          "text": "Epoch"
         }
        },
        "xaxis16": {
         "anchor": "y16",
         "domain": [
          0,
          0.2888888888888889
         ],
         "title": {
          "text": "Epoch"
         }
        },
        "xaxis17": {
         "anchor": "y17",
         "domain": [
          0.35555555555555557,
          0.6444444444444445
         ],
         "title": {
          "text": "Epoch"
         }
        },
        "xaxis18": {
         "anchor": "y18",
         "domain": [
          0.7111111111111111,
          1
         ],
         "title": {
          "text": "Epoch"
         }
        },
        "xaxis19": {
         "anchor": "y19",
         "domain": [
          0,
          0.2888888888888889
         ],
         "title": {
          "text": "Epoch"
         }
        },
        "xaxis2": {
         "anchor": "y2",
         "domain": [
          0.35555555555555557,
          0.6444444444444445
         ],
         "title": {
          "text": "Epoch"
         }
        },
        "xaxis20": {
         "anchor": "y20",
         "domain": [
          0.35555555555555557,
          0.6444444444444445
         ],
         "title": {
          "text": "Epoch"
         }
        },
        "xaxis21": {
         "anchor": "y21",
         "domain": [
          0.7111111111111111,
          1
         ],
         "title": {
          "text": "Epoch"
         }
        },
        "xaxis22": {
         "anchor": "y22",
         "domain": [
          0,
          0.2888888888888889
         ],
         "title": {
          "text": "Epoch"
         }
        },
        "xaxis23": {
         "anchor": "y23",
         "domain": [
          0.35555555555555557,
          0.6444444444444445
         ],
         "title": {
          "text": "Epoch"
         }
        },
        "xaxis24": {
         "anchor": "y24",
         "domain": [
          0.7111111111111111,
          1
         ],
         "title": {
          "text": "Epoch"
         }
        },
        "xaxis25": {
         "anchor": "y25",
         "domain": [
          0,
          0.2888888888888889
         ],
         "title": {
          "text": "Epoch"
         }
        },
        "xaxis26": {
         "anchor": "y26",
         "domain": [
          0.35555555555555557,
          0.6444444444444445
         ],
         "title": {
          "text": "Epoch"
         }
        },
        "xaxis27": {
         "anchor": "y27",
         "domain": [
          0.7111111111111111,
          1
         ],
         "title": {
          "text": "Epoch"
         }
        },
        "xaxis28": {
         "anchor": "y28",
         "domain": [
          0,
          0.2888888888888889
         ],
         "title": {
          "text": "Epoch"
         }
        },
        "xaxis29": {
         "anchor": "y29",
         "domain": [
          0.35555555555555557,
          0.6444444444444445
         ],
         "title": {
          "text": "Epoch"
         }
        },
        "xaxis3": {
         "anchor": "y3",
         "domain": [
          0.7111111111111111,
          1
         ],
         "title": {
          "text": "Epoch"
         }
        },
        "xaxis30": {
         "anchor": "y30",
         "domain": [
          0.7111111111111111,
          1
         ],
         "title": {
          "text": "Epoch"
         }
        },
        "xaxis4": {
         "anchor": "y4",
         "domain": [
          0,
          0.2888888888888889
         ],
         "title": {
          "text": "Epoch"
         }
        },
        "xaxis5": {
         "anchor": "y5",
         "domain": [
          0.35555555555555557,
          0.6444444444444445
         ],
         "title": {
          "text": "Epoch"
         }
        },
        "xaxis6": {
         "anchor": "y6",
         "domain": [
          0.7111111111111111,
          1
         ],
         "title": {
          "text": "Epoch"
         }
        },
        "xaxis7": {
         "anchor": "y7",
         "domain": [
          0,
          0.2888888888888889
         ],
         "title": {
          "text": "Epoch"
         }
        },
        "xaxis8": {
         "anchor": "y8",
         "domain": [
          0.35555555555555557,
          0.6444444444444445
         ],
         "title": {
          "text": "Epoch"
         }
        },
        "xaxis9": {
         "anchor": "y9",
         "domain": [
          0.7111111111111111,
          1
         ],
         "title": {
          "text": "Epoch"
         }
        },
        "yaxis": {
         "anchor": "x",
         "domain": [
          0.9450000000000001,
          1
         ],
         "title": {
          "text": "Loss"
         }
        },
        "yaxis10": {
         "anchor": "x10",
         "domain": [
          0.6300000000000001,
          0.6850000000000002
         ],
         "title": {
          "text": "Loss"
         }
        },
        "yaxis11": {
         "anchor": "x11",
         "domain": [
          0.6300000000000001,
          0.6850000000000002
         ],
         "title": {
          "text": "Loss"
         }
        },
        "yaxis12": {
         "anchor": "x12",
         "domain": [
          0.6300000000000001,
          0.6850000000000002
         ],
         "title": {
          "text": "Loss"
         }
        },
        "yaxis13": {
         "anchor": "x13",
         "domain": [
          0.525,
          0.5800000000000001
         ],
         "title": {
          "text": "Loss"
         }
        },
        "yaxis14": {
         "anchor": "x14",
         "domain": [
          0.525,
          0.5800000000000001
         ],
         "title": {
          "text": "Loss"
         }
        },
        "yaxis15": {
         "anchor": "x15",
         "domain": [
          0.525,
          0.5800000000000001
         ],
         "title": {
          "text": "Loss"
         }
        },
        "yaxis16": {
         "anchor": "x16",
         "domain": [
          0.42000000000000004,
          0.47500000000000003
         ],
         "title": {
          "text": "Loss"
         }
        },
        "yaxis17": {
         "anchor": "x17",
         "domain": [
          0.42000000000000004,
          0.47500000000000003
         ],
         "title": {
          "text": "Loss"
         }
        },
        "yaxis18": {
         "anchor": "x18",
         "domain": [
          0.42000000000000004,
          0.47500000000000003
         ],
         "title": {
          "text": "Loss"
         }
        },
        "yaxis19": {
         "anchor": "x19",
         "domain": [
          0.31500000000000006,
          0.37000000000000005
         ],
         "title": {
          "text": "Loss"
         }
        },
        "yaxis2": {
         "anchor": "x2",
         "domain": [
          0.9450000000000001,
          1
         ],
         "title": {
          "text": "Loss"
         }
        },
        "yaxis20": {
         "anchor": "x20",
         "domain": [
          0.31500000000000006,
          0.37000000000000005
         ],
         "title": {
          "text": "Loss"
         }
        },
        "yaxis21": {
         "anchor": "x21",
         "domain": [
          0.31500000000000006,
          0.37000000000000005
         ],
         "title": {
          "text": "Loss"
         }
        },
        "yaxis22": {
         "anchor": "x22",
         "domain": [
          0.21000000000000002,
          0.265
         ],
         "title": {
          "text": "Loss"
         }
        },
        "yaxis23": {
         "anchor": "x23",
         "domain": [
          0.21000000000000002,
          0.265
         ],
         "title": {
          "text": "Loss"
         }
        },
        "yaxis24": {
         "anchor": "x24",
         "domain": [
          0.21000000000000002,
          0.265
         ],
         "title": {
          "text": "Loss"
         }
        },
        "yaxis25": {
         "anchor": "x25",
         "domain": [
          0.10500000000000001,
          0.16000000000000003
         ],
         "title": {
          "text": "Loss"
         }
        },
        "yaxis26": {
         "anchor": "x26",
         "domain": [
          0.10500000000000001,
          0.16000000000000003
         ],
         "title": {
          "text": "Loss"
         }
        },
        "yaxis27": {
         "anchor": "x27",
         "domain": [
          0.10500000000000001,
          0.16000000000000003
         ],
         "title": {
          "text": "Loss"
         }
        },
        "yaxis28": {
         "anchor": "x28",
         "domain": [
          0,
          0.05500000000000001
         ],
         "title": {
          "text": "Loss"
         }
        },
        "yaxis29": {
         "anchor": "x29",
         "domain": [
          0,
          0.05500000000000001
         ],
         "title": {
          "text": "Loss"
         }
        },
        "yaxis3": {
         "anchor": "x3",
         "domain": [
          0.9450000000000001,
          1
         ],
         "title": {
          "text": "Loss"
         }
        },
        "yaxis30": {
         "anchor": "x30",
         "domain": [
          0,
          0.05500000000000001
         ],
         "title": {
          "text": "Loss"
         }
        },
        "yaxis4": {
         "anchor": "x4",
         "domain": [
          0.8400000000000001,
          0.8950000000000001
         ],
         "title": {
          "text": "Loss"
         }
        },
        "yaxis5": {
         "anchor": "x5",
         "domain": [
          0.8400000000000001,
          0.8950000000000001
         ],
         "title": {
          "text": "Loss"
         }
        },
        "yaxis6": {
         "anchor": "x6",
         "domain": [
          0.8400000000000001,
          0.8950000000000001
         ],
         "title": {
          "text": "Loss"
         }
        },
        "yaxis7": {
         "anchor": "x7",
         "domain": [
          0.7350000000000001,
          0.7900000000000001
         ],
         "title": {
          "text": "Loss"
         }
        },
        "yaxis8": {
         "anchor": "x8",
         "domain": [
          0.7350000000000001,
          0.7900000000000001
         ],
         "title": {
          "text": "Loss"
         }
        },
        "yaxis9": {
         "anchor": "x9",
         "domain": [
          0.7350000000000001,
          0.7900000000000001
         ],
         "title": {
          "text": "Loss"
         }
        }
       }
      }
     },
     "metadata": {},
     "output_type": "display_data"
    }
   ],
   "source": [
    "plot_NN_loss_logs(\"NN\", n_outer_cv, 'sustavianfeed')"
   ]
  },
  {
   "cell_type": "markdown",
   "id": "b2708799",
   "metadata": {},
   "source": [
    "Looking across folds, we notice that the model is robust as performance follows a single trend. The model show learning ability, proved by the considerable decrease in RMSE over the first 5 epochs. Nevertheless, the model quickly stagnates in performance never showing any significant drop after the 6th epoch for the test data (training data stagnates around epoch 13)"
   ]
  },
  {
   "cell_type": "code",
   "execution_count": 17,
   "id": "dad3dbd2",
   "metadata": {},
   "outputs": [
    {
     "data": {
      "application/vnd.plotly.v1+json": {
       "config": {
        "plotlyServerURL": "https://plot.ly"
       },
       "data": [
        {
         "line": {
          "color": "rgba(0,0,255,0)"
         },
         "showlegend": false,
         "type": "scatter",
         "x": [
          1,
          2,
          3,
          4,
          5,
          6,
          7,
          8,
          9,
          10,
          11,
          12,
          13,
          14,
          15,
          16,
          17,
          18,
          19,
          20
         ],
         "y": {
          "bdata": "eVuqg/FleEC5ptvArjl0QKGMZgSLRnBAHXEyBSHjZ0DMfRsrc2BkQCD8X00X8V1AscuY50GoW0CxPbvCyJFZQLa7AgTLW1hACMn9otWdVkCzXhzBhFlXQC0xzMLv5FdACW8GLksiVkCB3kvlzxJWQB8Koaq6D1ZAg2eBuda9VUACBK4uSPZVQEE2MLqhyVVACs3yMUYJVkAns0sCgrVVQA==",
          "dtype": "f8"
         }
        },
        {
         "fill": "tonexty",
         "fillcolor": "rgba(0,0,180,0.2)",
         "line": {
          "color": "rgba(0,0,255,0)"
         },
         "name": "Train RMSE Std Dev",
         "type": "scatter",
         "x": [
          1,
          2,
          3,
          4,
          5,
          6,
          7,
          8,
          9,
          10,
          11,
          12,
          13,
          14,
          15,
          16,
          17,
          18,
          19,
          20
         ],
         "y": {
          "bdata": "U3EiycMjeEATJvFrFQ10QF9zmZsPGHBAn0qJFsCuZ0BWpAYXsCxkQFh7F4oRvV1A6c0A8t2BW0DHObx0yGdZQPTup2aBKFhAcK551LmFVkArf8E8ez1XQG1ozRbjvldAXfdfOPgaVkChQ9YczQdWQBUpkkjmBVZAfZh+RtG4VUAyL4VkputVQL/Jz+V+wlVA1BDry7v8VUBz5k33Ta9VQA==",
          "dtype": "f8"
         }
        },
        {
         "line": {
          "color": "blue"
         },
         "name": "Avg Train Loss",
         "type": "scatter",
         "x": [
          1,
          2,
          3,
          4,
          5,
          6,
          7,
          8,
          9,
          10,
          11,
          12,
          13,
          14,
          15,
          16,
          17,
          18,
          19,
          20
         ],
         "y": {
          "bdata": "ZmZmptpEeEBmZmYWYiN0QAAAAFBNL3BA3t3djfDIZ0ARERGhkUZkQLy7u2sU111AzczM7A+VW0C8u7ubyHxZQFVVVTUmQlhAvLu7u8eRVkDv7u7+f0tXQM3MzGzp0VdAMzMzs6EeVkARERGBTg1WQJqZmXnQClZAAAAAAFS7VUCamZlJ9/BVQAAAAFAQxlVA7+7u/gADVkDNzMz8Z7JVQA==",
          "dtype": "f8"
         }
        },
        {
         "line": {
          "color": "rgba(255,0,0,0)"
         },
         "showlegend": false,
         "type": "scatter",
         "x": [
          1,
          2,
          3,
          4,
          5,
          6,
          7,
          8,
          9,
          10,
          11,
          12,
          13,
          14,
          15,
          16,
          17,
          18,
          19,
          20
         ],
         "y": {
          "bdata": "977AFfR3cUCI1jz0nfhrQKkUCsY3J2ZA5ZxrMb9zYUAwxQODIZpbQOAU06GfW1ZAwZmiI/EgVkBtvAQUMyBWQJy+lf5yH1ZAfsb5GLEeVkDE19aq7R1WQJaqZ6YoHVZAoj1XWGIcVkD0p1O5mhtWQII5evjRGlZAm/TSTQgaVkDW5wDaPRlWQOctr3xyGFZAARtseKYXVkCFSUHi2RZWQA==",
          "dtype": "f8"
         }
        },
        {
         "fill": "tonexty",
         "fillcolor": "rgba(255,0,0,0.2)",
         "line": {
          "color": "rgba(255,0,0,0)"
         },
         "name": "Test Loss Std Dev",
         "type": "scatter",
         "x": [
          1,
          2,
          3,
          4,
          5,
          6,
          7,
          8,
          9,
          10,
          11,
          12,
          13,
          14,
          15,
          16,
          17,
          18,
          19,
          20
         ],
         "y": {
          "bdata": "X5aUz6hqcEAAsktU221qQIseKY1VD2VALXSlH76vYEBq1JVWsX5aQEINT6DTrFVA6RAIp3KBVUCBMuq6tIBVQOzJ8sn0f1VAgjkGBzN/VUCijo+7b35VQDYiZeaqfVVAKo91tOR8VUAMWKxGHXxVQChxMLJUe1VAQ+kKMIt6VUAI9tzjwHlVQAfBP7L1eFVAu6BP4yl4VUDRCxRzXXdVQA==",
          "dtype": "f8"
         }
        },
        {
         "line": {
          "color": "red"
         },
         "name": "Avg Test Loss",
         "type": "scatter",
         "x": [
          1,
          2,
          3,
          4,
          5,
          6,
          7,
          8,
          9,
          10,
          11,
          12,
          13,
          14,
          15,
          16,
          17,
          18,
          19,
          20
         ],
         "y": {
          "bdata": "q6qqck7xcEBERESkPDNrQJqZmalGm2VAiYiIqL4RYUDNzMxsaQxbQBEREaE5BFZAVVVV5THRVUB3d3fnc9BVQEREROSzz1VAAAAAEPLOVUAzMzOzLs5VQGZmZsZpzVVAZmZmhqPMVUAAAAAA3MtVQFVVVVUTy1VA7+7uvknKVUDv7u5ef8lVQHd3dxe0yFVA3t3dLejHVUCrqqqqG8dVQA==",
          "dtype": "f8"
         }
        }
       ],
       "layout": {
        "height": 500,
        "template": {
         "data": {
          "bar": [
           {
            "error_x": {
             "color": "#2a3f5f"
            },
            "error_y": {
             "color": "#2a3f5f"
            },
            "marker": {
             "line": {
              "color": "#E5ECF6",
              "width": 0.5
             },
             "pattern": {
              "fillmode": "overlay",
              "size": 10,
              "solidity": 0.2
             }
            },
            "type": "bar"
           }
          ],
          "barpolar": [
           {
            "marker": {
             "line": {
              "color": "#E5ECF6",
              "width": 0.5
             },
             "pattern": {
              "fillmode": "overlay",
              "size": 10,
              "solidity": 0.2
             }
            },
            "type": "barpolar"
           }
          ],
          "carpet": [
           {
            "aaxis": {
             "endlinecolor": "#2a3f5f",
             "gridcolor": "white",
             "linecolor": "white",
             "minorgridcolor": "white",
             "startlinecolor": "#2a3f5f"
            },
            "baxis": {
             "endlinecolor": "#2a3f5f",
             "gridcolor": "white",
             "linecolor": "white",
             "minorgridcolor": "white",
             "startlinecolor": "#2a3f5f"
            },
            "type": "carpet"
           }
          ],
          "choropleth": [
           {
            "colorbar": {
             "outlinewidth": 0,
             "ticks": ""
            },
            "type": "choropleth"
           }
          ],
          "contour": [
           {
            "colorbar": {
             "outlinewidth": 0,
             "ticks": ""
            },
            "colorscale": [
             [
              0,
              "#0d0887"
             ],
             [
              0.1111111111111111,
              "#46039f"
             ],
             [
              0.2222222222222222,
              "#7201a8"
             ],
             [
              0.3333333333333333,
              "#9c179e"
             ],
             [
              0.4444444444444444,
              "#bd3786"
             ],
             [
              0.5555555555555556,
              "#d8576b"
             ],
             [
              0.6666666666666666,
              "#ed7953"
             ],
             [
              0.7777777777777778,
              "#fb9f3a"
             ],
             [
              0.8888888888888888,
              "#fdca26"
             ],
             [
              1,
              "#f0f921"
             ]
            ],
            "type": "contour"
           }
          ],
          "contourcarpet": [
           {
            "colorbar": {
             "outlinewidth": 0,
             "ticks": ""
            },
            "type": "contourcarpet"
           }
          ],
          "heatmap": [
           {
            "colorbar": {
             "outlinewidth": 0,
             "ticks": ""
            },
            "colorscale": [
             [
              0,
              "#0d0887"
             ],
             [
              0.1111111111111111,
              "#46039f"
             ],
             [
              0.2222222222222222,
              "#7201a8"
             ],
             [
              0.3333333333333333,
              "#9c179e"
             ],
             [
              0.4444444444444444,
              "#bd3786"
             ],
             [
              0.5555555555555556,
              "#d8576b"
             ],
             [
              0.6666666666666666,
              "#ed7953"
             ],
             [
              0.7777777777777778,
              "#fb9f3a"
             ],
             [
              0.8888888888888888,
              "#fdca26"
             ],
             [
              1,
              "#f0f921"
             ]
            ],
            "type": "heatmap"
           }
          ],
          "histogram": [
           {
            "marker": {
             "pattern": {
              "fillmode": "overlay",
              "size": 10,
              "solidity": 0.2
             }
            },
            "type": "histogram"
           }
          ],
          "histogram2d": [
           {
            "colorbar": {
             "outlinewidth": 0,
             "ticks": ""
            },
            "colorscale": [
             [
              0,
              "#0d0887"
             ],
             [
              0.1111111111111111,
              "#46039f"
             ],
             [
              0.2222222222222222,
              "#7201a8"
             ],
             [
              0.3333333333333333,
              "#9c179e"
             ],
             [
              0.4444444444444444,
              "#bd3786"
             ],
             [
              0.5555555555555556,
              "#d8576b"
             ],
             [
              0.6666666666666666,
              "#ed7953"
             ],
             [
              0.7777777777777778,
              "#fb9f3a"
             ],
             [
              0.8888888888888888,
              "#fdca26"
             ],
             [
              1,
              "#f0f921"
             ]
            ],
            "type": "histogram2d"
           }
          ],
          "histogram2dcontour": [
           {
            "colorbar": {
             "outlinewidth": 0,
             "ticks": ""
            },
            "colorscale": [
             [
              0,
              "#0d0887"
             ],
             [
              0.1111111111111111,
              "#46039f"
             ],
             [
              0.2222222222222222,
              "#7201a8"
             ],
             [
              0.3333333333333333,
              "#9c179e"
             ],
             [
              0.4444444444444444,
              "#bd3786"
             ],
             [
              0.5555555555555556,
              "#d8576b"
             ],
             [
              0.6666666666666666,
              "#ed7953"
             ],
             [
              0.7777777777777778,
              "#fb9f3a"
             ],
             [
              0.8888888888888888,
              "#fdca26"
             ],
             [
              1,
              "#f0f921"
             ]
            ],
            "type": "histogram2dcontour"
           }
          ],
          "mesh3d": [
           {
            "colorbar": {
             "outlinewidth": 0,
             "ticks": ""
            },
            "type": "mesh3d"
           }
          ],
          "parcoords": [
           {
            "line": {
             "colorbar": {
              "outlinewidth": 0,
              "ticks": ""
             }
            },
            "type": "parcoords"
           }
          ],
          "pie": [
           {
            "automargin": true,
            "type": "pie"
           }
          ],
          "scatter": [
           {
            "fillpattern": {
             "fillmode": "overlay",
             "size": 10,
             "solidity": 0.2
            },
            "type": "scatter"
           }
          ],
          "scatter3d": [
           {
            "line": {
             "colorbar": {
              "outlinewidth": 0,
              "ticks": ""
             }
            },
            "marker": {
             "colorbar": {
              "outlinewidth": 0,
              "ticks": ""
             }
            },
            "type": "scatter3d"
           }
          ],
          "scattercarpet": [
           {
            "marker": {
             "colorbar": {
              "outlinewidth": 0,
              "ticks": ""
             }
            },
            "type": "scattercarpet"
           }
          ],
          "scattergeo": [
           {
            "marker": {
             "colorbar": {
              "outlinewidth": 0,
              "ticks": ""
             }
            },
            "type": "scattergeo"
           }
          ],
          "scattergl": [
           {
            "marker": {
             "colorbar": {
              "outlinewidth": 0,
              "ticks": ""
             }
            },
            "type": "scattergl"
           }
          ],
          "scattermap": [
           {
            "marker": {
             "colorbar": {
              "outlinewidth": 0,
              "ticks": ""
             }
            },
            "type": "scattermap"
           }
          ],
          "scattermapbox": [
           {
            "marker": {
             "colorbar": {
              "outlinewidth": 0,
              "ticks": ""
             }
            },
            "type": "scattermapbox"
           }
          ],
          "scatterpolar": [
           {
            "marker": {
             "colorbar": {
              "outlinewidth": 0,
              "ticks": ""
             }
            },
            "type": "scatterpolar"
           }
          ],
          "scatterpolargl": [
           {
            "marker": {
             "colorbar": {
              "outlinewidth": 0,
              "ticks": ""
             }
            },
            "type": "scatterpolargl"
           }
          ],
          "scatterternary": [
           {
            "marker": {
             "colorbar": {
              "outlinewidth": 0,
              "ticks": ""
             }
            },
            "type": "scatterternary"
           }
          ],
          "surface": [
           {
            "colorbar": {
             "outlinewidth": 0,
             "ticks": ""
            },
            "colorscale": [
             [
              0,
              "#0d0887"
             ],
             [
              0.1111111111111111,
              "#46039f"
             ],
             [
              0.2222222222222222,
              "#7201a8"
             ],
             [
              0.3333333333333333,
              "#9c179e"
             ],
             [
              0.4444444444444444,
              "#bd3786"
             ],
             [
              0.5555555555555556,
              "#d8576b"
             ],
             [
              0.6666666666666666,
              "#ed7953"
             ],
             [
              0.7777777777777778,
              "#fb9f3a"
             ],
             [
              0.8888888888888888,
              "#fdca26"
             ],
             [
              1,
              "#f0f921"
             ]
            ],
            "type": "surface"
           }
          ],
          "table": [
           {
            "cells": {
             "fill": {
              "color": "#EBF0F8"
             },
             "line": {
              "color": "white"
             }
            },
            "header": {
             "fill": {
              "color": "#C8D4E3"
             },
             "line": {
              "color": "white"
             }
            },
            "type": "table"
           }
          ]
         },
         "layout": {
          "annotationdefaults": {
           "arrowcolor": "#2a3f5f",
           "arrowhead": 0,
           "arrowwidth": 1
          },
          "autotypenumbers": "strict",
          "coloraxis": {
           "colorbar": {
            "outlinewidth": 0,
            "ticks": ""
           }
          },
          "colorscale": {
           "diverging": [
            [
             0,
             "#8e0152"
            ],
            [
             0.1,
             "#c51b7d"
            ],
            [
             0.2,
             "#de77ae"
            ],
            [
             0.3,
             "#f1b6da"
            ],
            [
             0.4,
             "#fde0ef"
            ],
            [
             0.5,
             "#f7f7f7"
            ],
            [
             0.6,
             "#e6f5d0"
            ],
            [
             0.7,
             "#b8e186"
            ],
            [
             0.8,
             "#7fbc41"
            ],
            [
             0.9,
             "#4d9221"
            ],
            [
             1,
             "#276419"
            ]
           ],
           "sequential": [
            [
             0,
             "#0d0887"
            ],
            [
             0.1111111111111111,
             "#46039f"
            ],
            [
             0.2222222222222222,
             "#7201a8"
            ],
            [
             0.3333333333333333,
             "#9c179e"
            ],
            [
             0.4444444444444444,
             "#bd3786"
            ],
            [
             0.5555555555555556,
             "#d8576b"
            ],
            [
             0.6666666666666666,
             "#ed7953"
            ],
            [
             0.7777777777777778,
             "#fb9f3a"
            ],
            [
             0.8888888888888888,
             "#fdca26"
            ],
            [
             1,
             "#f0f921"
            ]
           ],
           "sequentialminus": [
            [
             0,
             "#0d0887"
            ],
            [
             0.1111111111111111,
             "#46039f"
            ],
            [
             0.2222222222222222,
             "#7201a8"
            ],
            [
             0.3333333333333333,
             "#9c179e"
            ],
            [
             0.4444444444444444,
             "#bd3786"
            ],
            [
             0.5555555555555556,
             "#d8576b"
            ],
            [
             0.6666666666666666,
             "#ed7953"
            ],
            [
             0.7777777777777778,
             "#fb9f3a"
            ],
            [
             0.8888888888888888,
             "#fdca26"
            ],
            [
             1,
             "#f0f921"
            ]
           ]
          },
          "colorway": [
           "#636efa",
           "#EF553B",
           "#00cc96",
           "#ab63fa",
           "#FFA15A",
           "#19d3f3",
           "#FF6692",
           "#B6E880",
           "#FF97FF",
           "#FECB52"
          ],
          "font": {
           "color": "#2a3f5f"
          },
          "geo": {
           "bgcolor": "white",
           "lakecolor": "white",
           "landcolor": "#E5ECF6",
           "showlakes": true,
           "showland": true,
           "subunitcolor": "white"
          },
          "hoverlabel": {
           "align": "left"
          },
          "hovermode": "closest",
          "mapbox": {
           "style": "light"
          },
          "paper_bgcolor": "white",
          "plot_bgcolor": "#E5ECF6",
          "polar": {
           "angularaxis": {
            "gridcolor": "white",
            "linecolor": "white",
            "ticks": ""
           },
           "bgcolor": "#E5ECF6",
           "radialaxis": {
            "gridcolor": "white",
            "linecolor": "white",
            "ticks": ""
           }
          },
          "scene": {
           "xaxis": {
            "backgroundcolor": "#E5ECF6",
            "gridcolor": "white",
            "gridwidth": 2,
            "linecolor": "white",
            "showbackground": true,
            "ticks": "",
            "zerolinecolor": "white"
           },
           "yaxis": {
            "backgroundcolor": "#E5ECF6",
            "gridcolor": "white",
            "gridwidth": 2,
            "linecolor": "white",
            "showbackground": true,
            "ticks": "",
            "zerolinecolor": "white"
           },
           "zaxis": {
            "backgroundcolor": "#E5ECF6",
            "gridcolor": "white",
            "gridwidth": 2,
            "linecolor": "white",
            "showbackground": true,
            "ticks": "",
            "zerolinecolor": "white"
           }
          },
          "shapedefaults": {
           "line": {
            "color": "#2a3f5f"
           }
          },
          "ternary": {
           "aaxis": {
            "gridcolor": "white",
            "linecolor": "white",
            "ticks": ""
           },
           "baxis": {
            "gridcolor": "white",
            "linecolor": "white",
            "ticks": ""
           },
           "bgcolor": "#E5ECF6",
           "caxis": {
            "gridcolor": "white",
            "linecolor": "white",
            "ticks": ""
           }
          },
          "title": {
           "x": 0.05
          },
          "xaxis": {
           "automargin": true,
           "gridcolor": "white",
           "linecolor": "white",
           "ticks": "",
           "title": {
            "standoff": 15
           },
           "zerolinecolor": "white",
           "zerolinewidth": 2
          },
          "yaxis": {
           "automargin": true,
           "gridcolor": "white",
           "linecolor": "white",
           "ticks": "",
           "title": {
            "standoff": 15
           },
           "zerolinecolor": "white",
           "zerolinewidth": 2
          }
         }
        },
        "title": {
         "text": "NN – Average Train & Test Loss per Epoch (sustavianfeed)"
        },
        "width": 800,
        "xaxis": {
         "title": {
          "text": "Epoch"
         }
        },
        "yaxis": {
         "title": {
          "text": "Loss"
         }
        }
       }
      }
     },
     "metadata": {},
     "output_type": "display_data"
    }
   ],
   "source": [
    "plot_NN_average_loss(\"NN\", n_outer_cv, 'sustavianfeed')"
   ]
  },
  {
   "cell_type": "markdown",
   "id": "69ace3b6",
   "metadata": {},
   "source": [
    "The single trend mentioned above clearly show asthe same conclusions will be taken after looking at the average results. The training data take a little more time to stagnate but overall both end with identical results."
   ]
  },
  {
   "cell_type": "code",
   "execution_count": 18,
   "id": "00aadf14",
   "metadata": {},
   "outputs": [
    {
     "data": {
      "image/png": "[encoded data removed]",
      "text/plain": [
       "<Figure size 800x500 with 1 Axes>"
      ]
     },
     "metadata": {},
     "output_type": "display_data"
    },
    {
     "data": {
      "image/png": "[encoded data removed]",
      "text/plain": [
       "<Figure size 800x500 with 1 Axes>"
      ]
     },
     "metadata": {},
     "output_type": "display_data"
    }
   ],
   "source": [
    "plot_param_boxplots(\"results/NN/all_folds_grid_search_results.csv\", model_name=\"NN\")"
   ]
  },
  {
   "cell_type": "markdown",
   "id": "5358efac",
   "metadata": {},
   "source": [
    "In general, we notice that for our weight decay values there wasn't any difference. All three have about the same median, upper and lower bounds so we may refer that the specific value of the weight decay didn't have much importance in the performance. When it comes to learning rate, we visually can assume that 0.01 was the better value of the three as its upper bound is vastly lower than the other two's lower bounds. A statistcal test seems to not be needed but we shall make one to reinforce our conclusion."
   ]
  },
  {
   "cell_type": "code",
   "execution_count": 19,
   "id": "a65533ef",
   "metadata": {},
   "outputs": [
    {
     "name": "stdout",
     "output_type": "stream",
     "text": [
      "Kruskal-Wallis H-test between learning rates:\n",
      "Statistic = 319.1196, p-value = 5.059e-70\n",
      "→ Significant difference between learning rates (p < 0.05)\n"
     ]
    }
   ],
   "source": [
    "stat_test_lr_('./results/NN/all_folds_grid_search_results.csv')"
   ]
  },
  {
   "cell_type": "markdown",
   "id": "97e88324",
   "metadata": {},
   "source": [
    "As we expected, there is enough evidence for us to determine that the difference between learning rates is statiscally significant."
   ]
  },
  {
   "cell_type": "markdown",
   "id": "5e87cacb",
   "metadata": {},
   "source": [
    "Given our conclusions above, we will check now the performance with basis on the combination of both hyperparameters."
   ]
  },
  {
   "cell_type": "code",
   "execution_count": 20,
   "id": "ace6d487",
   "metadata": {},
   "outputs": [
    {
     "data": {
      "image/png": "[encoded data removed]",
      "text/plain": [
       "<Figure size 1200x600 with 1 Axes>"
      ]
     },
     "metadata": {},
     "output_type": "display_data"
    }
   ],
   "source": [
    "plot_rmse_by_lr_weight_decay_combo(\"results/NN/all_folds_grid_search_results.csv\", model_name=\"NN\")"
   ]
  },
  {
   "cell_type": "markdown",
   "id": "00f91224",
   "metadata": {},
   "source": [
    "The results further bolster our conjecture since the differences go along the verified differences in learning rate. Once again we will procede with a statistical test to substatntiate our conclusions."
   ]
  },
  {
   "cell_type": "code",
   "execution_count": 21,
   "id": "013c9c53",
   "metadata": {},
   "outputs": [
    {
     "name": "stdout",
     "output_type": "stream",
     "text": [
      "Kruskal-Wallis H-test across (lr, weight_decay) combinations:\n",
      "Statistic = 319.1460, p-value = 8.038e-62\n",
      "→ Statistically significant difference between combinations.\n"
     ]
    }
   ],
   "source": [
    "stat_test_param_combinations(\"results/NN/all_folds_grid_search_results.csv\")"
   ]
  },
  {
   "cell_type": "markdown",
   "id": "55bfa492",
   "metadata": {},
   "source": [
    "### Conclusions"
   ]
  },
  {
   "cell_type": "markdown",
   "id": "adadb081",
   "metadata": {},
   "source": [
    "Our model shows an early ability to learn with training and test data moving downwards in a similar trend. But early on, specially for test data, early convergence becomes the noticeable trend. We may conclude that the model started overfitting since training continued improving albeit slowly while test had long stopped getting better results but once again the main problem is the plateauing of the performance. We believe that the main reason for the problems refered in the lack of data as our dataset is very little.\n",
    "For further studies, we may propose to ourselves to expand our parameter grid and experiment with other models with different size but as stated having access to more data would be, in our view, the best solution for model improvement. If not posible, than data augmentantion methods may be considered."
   ]
  }
 ],
 "metadata": {
  "kernelspec": {
   "display_name": "Python 3",
   "language": "python",
   "name": "python3"
  },
  "language_info": {
   "codemirror_mode": {
    "name": "ipython",
    "version": 3
   },
   "file_extension": ".py",
   "mimetype": "text/x-python",
   "name": "python",
   "nbconvert_exporter": "python",
   "pygments_lexer": "ipython3",
   "version": "3.10.10"
  }
 },
 "nbformat": 4,
 "nbformat_minor": 5
}
