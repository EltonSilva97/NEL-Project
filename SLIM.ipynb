{
 "cells": [
  {
   "cell_type": "code",
   "execution_count": 1,
   "id": "17e01d51",
   "metadata": {},
   "outputs": [],
   "source": [
    "import os\n",
    "import random\n",
    "\n",
    "import pandas as pd\n",
    "import numpy as np\n",
    "\n",
    "from sklearn.model_selection import KFold\n",
    "\n",
    "from slim_gsgp.datasets.data_loader import *\n",
    "from preprocessing import get_X_and_y_tensors\n",
    "from slim_wrapper import SLIMWrapper\n",
    "from nested_crossval import run_nested_cv_for_model\n",
    "from utils import *\n",
    "import pandas as pd\n",
    "import plotly.express as px\n",
    "from scipy.stats import wilcoxon\n",
    "from itertools import combinations"
   ]
  },
  {
   "cell_type": "code",
   "execution_count": 2,
   "id": "83530cf2",
   "metadata": {},
   "outputs": [],
   "source": [
    "seed = 1111\n",
    "np.random.seed(seed)\n",
    "random.seed(seed)"
   ]
  },
  {
   "cell_type": "markdown",
   "id": "06994cb5",
   "metadata": {},
   "source": [
    "## 1. Getting X an y tensors"
   ]
  },
  {
   "cell_type": "code",
   "execution_count": 3,
   "id": "62e8af21",
   "metadata": {},
   "outputs": [],
   "source": [
    "X,y=get_X_and_y_tensors()"
   ]
  },
  {
   "cell_type": "code",
   "execution_count": 4,
   "id": "9ef05c34",
   "metadata": {},
   "outputs": [],
   "source": [
    "%load_ext autoreload\n",
    "%autoreload 2"
   ]
  },
  {
   "cell_type": "code",
   "execution_count": 5,
   "id": "130c0fe2",
   "metadata": {},
   "outputs": [
    {
     "data": {
      "text/plain": [
       "tensor([[ 214.0000, 1725.6000, 1394.0000,  ...,    3.7160,  489.4000,\n",
       "         2223.3000],\n",
       "        [ 236.0000, 1769.8000, 1405.4000,  ...,    3.4940,  538.7000,\n",
       "         2201.8999],\n",
       "        [ 241.8000, 1724.9000, 1461.7000,  ...,    4.0230,  512.1000,\n",
       "         2159.8999],\n",
       "        ...,\n",
       "        [ 253.1000, 2050.0000, 1669.8000,  ...,    5.1760,  610.0000,\n",
       "         2648.2000],\n",
       "        [ 212.1000, 1813.9000, 1468.0000,  ...,    2.8290,  548.4000,\n",
       "         2262.6001],\n",
       "        [ 245.7000, 2038.8000, 1655.6000,  ...,    5.9600,  606.9000,\n",
       "         2704.3000]])"
      ]
     },
     "execution_count": 5,
     "metadata": {},
     "output_type": "execute_result"
    }
   ],
   "source": [
    "X"
   ]
  },
  {
   "cell_type": "code",
   "execution_count": 6,
   "id": "336b75dd",
   "metadata": {},
   "outputs": [
    {
     "data": {
      "text/plain": [
       "tensor([86.1055, 86.1435, 86.4169, 85.9599, 81.6936, 87.5331, 86.8410, 88.2468,\n",
       "        87.5399, 88.1924, 87.7862, 86.2464, 86.1611, 86.5115, 86.8366, 84.9951,\n",
       "        86.3812, 88.5102, 85.0129, 85.9784, 88.9662, 84.7507, 87.1134, 87.2657,\n",
       "        85.5097, 87.1627, 84.8371, 86.8986, 87.4809, 88.2095, 83.4647, 86.3373,\n",
       "        86.5872, 87.8968, 88.5642, 87.4188, 87.9764, 84.6742, 73.8372, 85.9425,\n",
       "        86.5554, 87.6478, 87.5996, 86.1728, 88.3539, 87.2642, 86.7197, 85.2699,\n",
       "        87.7586, 87.8977, 88.1691, 88.4375, 87.1276, 87.5950, 87.9379, 86.5774,\n",
       "        87.3628, 88.5818, 89.5304, 87.1476, 87.9669, 87.8043, 86.0451, 88.7219,\n",
       "        88.3917, 89.0096, 85.0285, 87.2786, 87.5549, 87.4504, 88.3307, 89.0777,\n",
       "        86.8685, 89.4476, 88.6088, 87.6669, 87.6940, 89.0107, 89.6245, 89.4860,\n",
       "        88.9843, 88.4306, 88.6367, 90.2405, 86.5774, 87.4385, 88.9093, 88.7257,\n",
       "        88.8421, 88.8315, 87.8210, 88.9991, 88.5073, 90.3756, 91.2113, 88.8250])"
      ]
     },
     "execution_count": 6,
     "metadata": {},
     "output_type": "execute_result"
    }
   ],
   "source": [
    "y"
   ]
  },
  {
   "cell_type": "markdown",
   "id": "9ede7cf3",
   "metadata": {},
   "source": [
    "## 2. Cross-validation objects"
   ]
  },
  {
   "cell_type": "code",
   "execution_count": 7,
   "id": "7c77042d",
   "metadata": {},
   "outputs": [],
   "source": [
    "n_outer_cv=10\n",
    "n_inner_cv=5\n",
    "outer_cv=KFold(n_splits=n_outer_cv,shuffle=True, random_state=42)"
   ]
  },
  {
   "cell_type": "markdown",
   "id": "b416c434",
   "metadata": {},
   "source": [
    "## 3. Applying  SLIM"
   ]
  },
  {
   "cell_type": "markdown",
   "id": "af2e81e1",
   "metadata": {},
   "source": [
    "\n",
    "- `X` will be all the features except the [\"CRUDE PROTEIN\"], we will try to predict\n",
    "- `y`will be the [\"CRUDE PROTEIN\"]\n",
    "- `fitnesss_function`: rmse\n",
    "- `minimization`: it will be a minimization problem, we are trying to decrease the rmse"
   ]
  },
  {
   "cell_type": "code",
   "execution_count": 8,
   "id": "6947a648",
   "metadata": {},
   "outputs": [],
   "source": [
    "FITNESS_FUNCTION = 'rmse'\n",
    "MINIMIZATION = True"
   ]
  },
  {
   "cell_type": "markdown",
   "id": "907768ee",
   "metadata": {},
   "source": [
    "__`Search space definition`__\n",
    "\n",
    "- `initializer`: how new random trees are initialized. See [`slim_gsgp` initializers](https://github.com/DALabNOVA/slim/blob/main/slim_gsgp/initializers/initializers.py);\n",
    "- `tree_constants`: the constants to be used in the terminal set;\n",
    "- `tree_functions`: the function set (tree internal nodes);\n",
    "- `prob_const`: the probability for choosing constants instead of dataset features on tree terminals;\n",
    "- `init_depth`: max depth for tree initialisation;\n"
   ]
  },
  {
   "cell_type": "markdown",
   "id": "6616b8bf",
   "metadata": {},
   "source": [
    "The following hyperparameter options are the same as for **GP and GSGP**:\n",
    "\n",
    "- `pop_size`: the size of the population of candidate solutions.\n",
    "- `elitism`: should the elite(s) be preserved at each generation?\n",
    "- `n_elits`: if using elitism, how many solutions should be kept?\n",
    "- Selection method. Only tournament selection in available on `slim_gsgp` libraya, as this is the most commonly used. It requires the definition of the `tournament_size` hyperparameter: how many solutions should participate in the tournament of tournament selection?\n",
    "\n",
    "The following hyperparameter options are the same as only for **GSGP**:\n",
    "\n",
    "- `ms_lower`: lower bound for generating the random number used as mutation step.\n",
    "- `ms_upper`: upper bound for generating the random number used as mutation step.\n",
    "- `reconstruct`: whether to store the structure of individuals."
   ]
  },
  {
   "cell_type": "markdown",
   "id": "e4a78a17",
   "metadata": {},
   "source": [
    "**Additionally, SLIM requires:**\n",
    "- `slim_version`: So far, mutator variation (SLIM+SIG2, SLIM+SIG1, SLIM+ABS, SLIM*SIG2, SLIM*SIG1, SLIM*ABS)\n",
    "- `p_inflate`: The probability of applying inflate mutation instead of deflate mutation.\n",
    "- `copy_parent`: Whether to copy the original parent when mutation is impossible (due to depth rules or mutation constraints)"
   ]
  },
  {
   "cell_type": "code",
   "execution_count": 9,
   "id": "5c2304c5",
   "metadata": {},
   "outputs": [
    {
     "name": "stdout",
     "output_type": "stream",
     "text": [
      "TOURNAMENT_SIZE: 20\n"
     ]
    }
   ],
   "source": [
    "INITIALIZER = 'rhh'\n",
    "TREE_CONSTANTS = [random.uniform(0, 1) for _ in range(9)]+[ -1.]\n",
    "TREE_FUNCTIONS = ['add', 'subtract', 'multiply', 'divide']\n",
    "PROB_CONSTANT = 0.9\n",
    "MAX_INIT_DEPTH = 4\n",
    "POP_SIZE = 200\n",
    "P_XO = 0.9\n",
    "ELISTISM = True\n",
    "N_ELITES = 2\n",
    "TOURNAMENT_SIZE = int(POP_SIZE*0.1)\n",
    "print(f'TOURNAMENT_SIZE: {TOURNAMENT_SIZE}')\n",
    "\n",
    "MS_LOWER = 0\n",
    "MS_UPPER = 1\n",
    "RECONSTRUCT = True\n",
    "GENERATIONS = 20\n",
    "VERBOSE = 1\n",
    "DATASET_NAME=\"sustavianfeed\"\n",
    "LOG_LEVEL = 2\n",
    "\n",
    "SLIM_VERSION = 'SLIM*SIG2'\n",
    "P_INFLATE = 0.3\n",
    "COPY_PARENT = False"
   ]
  },
  {
   "cell_type": "markdown",
   "id": "785b2603",
   "metadata": {},
   "source": [
    "__`Solve settings`__\n",
    "\n",
    "Same as available for GP and GSGP:"
   ]
  },
  {
   "cell_type": "markdown",
   "id": "041296dd",
   "metadata": {},
   "source": [
    "## 4. Hyperparameter tunning with Nested Crossfold validation"
   ]
  },
  {
   "cell_type": "markdown",
   "id": "8d9b52ad",
   "metadata": {},
   "source": [
    "We chose nested cross-validation instead of a random train-test split because it gives a fairer and more reliable way to check our model’s performance. It has two steps: one for finding the best model settings (hyperparameters) and another for testing how well the model works on new data. This is important because if we tune and test the model on the same data, the results might look better than they actually are. \n",
    "By keeping these steps separate, nested cross-validation helps avoid this problem and gives a more honest estimate of how our model will perform on new, unseen data."
   ]
  },
  {
   "cell_type": "markdown",
   "id": "9179bb7b",
   "metadata": {},
   "source": [
    "- For the inner fold of the nested cross-validation, we applied Grid Search to take advantage of all its built-in features like systematic parameter tuning and parallel processing. To make this work with the SLIM library, we implemented a custom wrapper called SLIMWrapper, which follows the BaseEstimator interface. This allowed us to integrate the SLIM seamlessly into the grid search process, ensuring efficient and consistent hyperparameter tuning within the inner loop."
   ]
  },
  {
   "cell_type": "code",
   "execution_count": 10,
   "id": "fc14717d",
   "metadata": {},
   "outputs": [],
   "source": [
    "estimator=SLIMWrapper(\n",
    "    init_depth=MAX_INIT_DEPTH,\n",
    "    tree_constants=TREE_CONSTANTS,\n",
    "    tree_functions=TREE_FUNCTIONS,\n",
    "    prob_const = PROB_CONSTANT,\n",
    "    dataset_name=DATASET_NAME,\n",
    "    fitness_function=FITNESS_FUNCTION,\n",
    "    minimization=MINIMIZATION,\n",
    "    # --\n",
    "    # SLIM instance \n",
    "    pop_size=POP_SIZE,\n",
    "    initializer=INITIALIZER,\n",
    "    ms_lower = MS_LOWER,\n",
    "    ms_upper = MS_UPPER,\n",
    "    reconstruct = RECONSTRUCT,\n",
    "    p_inflate=P_INFLATE,\n",
    "    copy_parent=COPY_PARENT,\n",
    "    # ---\n",
    "    # Solve settings\n",
    "    n_iter=GENERATIONS,\n",
    "    elitism=ELISTISM,\n",
    "    n_elites=N_ELITES,\n",
    "    test_elite=True,\n",
    "    log_level=LOG_LEVEL,\n",
    "    verbose=0,\n",
    "    n_jobs=1,\n",
    "    seed=seed\n",
    ")"
   ]
  },
  {
   "cell_type": "markdown",
   "id": "6670694a",
   "metadata": {},
   "source": [
    "For this model we shall focus our analysis in 'slim_version'. Our goal is to find which version allows us to have the best performance with all other parameters fixed, for fair comparison, while also trying to make sure our model doesn't grow excessively"
   ]
  },
  {
   "cell_type": "code",
   "execution_count": 11,
   "id": "0d70f2f9",
   "metadata": {},
   "outputs": [],
   "source": [
    "param_grid={\n",
    "    'slim_version': ['SLIM+SIG2', 'SLIM+SIG1', 'SLIM+ABS', 'SLIM*SIG2', 'SLIM*SIG1', 'SLIM*ABS'],\n",
    "}"
   ]
  },
  {
   "cell_type": "code",
   "execution_count": 12,
   "id": "3f4465fc",
   "metadata": {},
   "outputs": [
    {
     "name": "stdout",
     "output_type": "stream",
     "text": [
      "\n",
      " Outer fold 1\n"
     ]
    },
    {
     "name": "stderr",
     "output_type": "stream",
     "text": [
      "c:\\Users\\elton\\AppData\\Local\\Programs\\Python\\Python310\\lib\\site-packages\\slim_gsgp\\main_slim.py:161: UserWarning: If test_elite is True, a test dataset must be provided. test_elite has been set to False\n",
      "  warnings.warn(\"If test_elite is True, a test dataset must be provided. test_elite has been set to False\")\n"
     ]
    },
    {
     "name": "stdout",
     "output_type": "stream",
     "text": [
      "\n",
      "Grid search completed!\n",
      "Best parameters: {'slim_version': 'SLIM*ABS'}\n",
      "Best score: -6.58449342250824\n",
      "Training with the best hyparameters of 1 fold\n",
      "Verbose Reporter\n",
      "-----------------------------------------------------------------------------------------------------------------------------------------\n",
      "|         Dataset         |  Generation  |     Train Fitness     |       Test Fitness       |        Timing          |      Nodes       |\n",
      "-----------------------------------------------------------------------------------------------------------------------------------------\n",
      "|     sustavianfeed       |       0      |   15.209765434265137  |   14.483480453491211     |   0.046767473220825195 |      3           |\n",
      "|     sustavianfeed       |       1      |   15.209765434265137  |   14.483480453491211     |   0.07995414733886719  |      3           |\n",
      "|     sustavianfeed       |       2      |   15.209765434265137  |   14.483480453491211     |   0.05091381072998047  |      3           |\n",
      "|     sustavianfeed       |       3      |   9.549847602844238   |   7.292858600616455      |   0.08112502098083496  |      18          |\n",
      "|     sustavianfeed       |       4      |   9.549847602844238   |   7.292858600616455      |   0.04927659034729004  |      18          |\n",
      "|     sustavianfeed       |       5      |   9.549847602844238   |   7.292858600616455      |   0.07012796401977539  |      18          |\n",
      "|     sustavianfeed       |       6      |   3.7169108390808105  |   1.669028401374817      |   0.050559043884277344 |      35          |\n",
      "|     sustavianfeed       |       7      |   3.7169108390808105  |   1.669028401374817      |   0.058695316314697266 |      35          |\n",
      "|     sustavianfeed       |       8      |   3.7169108390808105  |   1.669028401374817      |   0.06031632423400879  |      35          |\n",
      "|     sustavianfeed       |       9      |   3.7169108390808105  |   1.669028401374817      |   0.06098008155822754  |      35          |\n",
      "|     sustavianfeed       |       10     |   2.9714548587799072  |   1.5813809633255005     |   0.066070556640625    |      52          |\n",
      "|     sustavianfeed       |       11     |   2.9714548587799072  |   1.5813809633255005     |   0.06046938896179199  |      52          |\n",
      "|     sustavianfeed       |       12     |   2.9714548587799072  |   1.5813809633255005     |   0.05999588966369629  |      52          |\n",
      "|     sustavianfeed       |       13     |   2.9714548587799072  |   1.5813809633255005     |   0.05752086639404297  |      52          |\n",
      "|     sustavianfeed       |       14     |   2.9714548587799072  |   1.5813809633255005     |   0.0635366439819336   |      52          |\n",
      "|     sustavianfeed       |       15     |   2.9714548587799072  |   1.5813809633255005     |   0.06186842918395996  |      52          |\n",
      "|     sustavianfeed       |       16     |   2.9714548587799072  |   1.5813809633255005     |   0.06319856643676758  |      52          |\n",
      "|     sustavianfeed       |       17     |   2.9651379585266113  |   3.7144815921783447     |   0.06614184379577637  |      52          |\n",
      "|     sustavianfeed       |       18     |   2.9651379585266113  |   3.7144815921783447     |   0.058678388595581055 |      52          |\n",
      "|     sustavianfeed       |       19     |   2.9651379585266113  |   3.7144815921783447     |   0.06323599815368652  |      52          |\n",
      "|     sustavianfeed       |       20     |   2.270019769668579   |   2.6618878841400146     |   0.04730725288391113  |      67          |\n",
      "Outer fold 1 - Best parameters: {'slim_version': 'SLIM*ABS'}\n",
      "Outer fold 1 - Test score: -2.6619\n",
      "\n",
      " Outer fold 2\n"
     ]
    },
    {
     "name": "stderr",
     "output_type": "stream",
     "text": [
      "c:\\Users\\elton\\AppData\\Local\\Programs\\Python\\Python310\\lib\\site-packages\\slim_gsgp\\main_slim.py:161: UserWarning: If test_elite is True, a test dataset must be provided. test_elite has been set to False\n",
      "  warnings.warn(\"If test_elite is True, a test dataset must be provided. test_elite has been set to False\")\n"
     ]
    },
    {
     "name": "stdout",
     "output_type": "stream",
     "text": [
      "\n",
      "Grid search completed!\n",
      "Best parameters: {'slim_version': 'SLIM*SIG1'}\n",
      "Best score: -4.766940665245056\n",
      "Training with the best hyparameters of 2 fold\n",
      "Verbose Reporter\n",
      "-----------------------------------------------------------------------------------------------------------------------------------------\n",
      "|         Dataset         |  Generation  |     Train Fitness     |       Test Fitness       |        Timing          |      Nodes       |\n",
      "-----------------------------------------------------------------------------------------------------------------------------------------\n",
      "|     sustavianfeed       |       0      |   15.64592456817627   |   9.697028160095215      |   0.0426487922668457   |      3           |\n",
      "|     sustavianfeed       |       1      |   15.64592456817627   |   9.697028160095215      |   0.06966018676757812  |      3           |\n",
      "|     sustavianfeed       |       2      |   15.64592456817627   |   9.697028160095215      |   0.04104113578796387  |      3           |\n",
      "|     sustavianfeed       |       3      |   9.59563159942627    |   6.573483467102051      |   0.07288193702697754  |      16          |\n",
      "|     sustavianfeed       |       4      |   9.59563159942627    |   6.573483467102051      |   0.051174163818359375 |      16          |\n",
      "|     sustavianfeed       |       5      |   9.59563159942627    |   6.573483467102051      |   0.06622576713562012  |      16          |\n",
      "|     sustavianfeed       |       6      |   9.59563159942627    |   6.573483467102051      |   0.05818462371826172  |      16          |\n",
      "|     sustavianfeed       |       7      |   9.59563159942627    |   6.573483467102051      |   0.06315302848815918  |      16          |\n",
      "|     sustavianfeed       |       8      |   3.6609725952148438  |   2.2730777263641357     |   0.05996274948120117  |      31          |\n",
      "|     sustavianfeed       |       9      |   3.6609725952148438  |   2.2730777263641357     |   0.054619550704956055 |      31          |\n",
      "|     sustavianfeed       |       10     |   3.6609725952148438  |   2.2730777263641357     |   0.07118773460388184  |      31          |\n",
      "|     sustavianfeed       |       11     |   3.6609725952148438  |   2.2730777263641357     |   0.050669193267822266 |      31          |\n",
      "|     sustavianfeed       |       12     |   3.6609725952148438  |   2.2730777263641357     |   0.056264400482177734 |      31          |\n",
      "|     sustavianfeed       |       13     |   3.6609725952148438  |   2.2730777263641357     |   0.048233985900878906 |      31          |\n",
      "|     sustavianfeed       |       14     |   3.6609725952148438  |   2.2730777263641357     |   0.06397294998168945  |      31          |\n",
      "|     sustavianfeed       |       15     |   3.6609725952148438  |   2.2730777263641357     |   0.05412602424621582  |      31          |\n",
      "|     sustavianfeed       |       16     |   2.4104936122894287  |   3.467247247695923      |   0.05503654479980469  |      44          |\n",
      "|     sustavianfeed       |       17     |   2.4104936122894287  |   3.467247247695923      |   0.05406332015991211  |      44          |\n",
      "|     sustavianfeed       |       18     |   2.4104936122894287  |   3.467247247695923      |   0.06390953063964844  |      44          |\n",
      "|     sustavianfeed       |       19     |   2.4104936122894287  |   3.467247247695923      |   0.055701494216918945 |      44          |\n",
      "|     sustavianfeed       |       20     |   2.4104936122894287  |   3.467247247695923      |   0.05674457550048828  |      44          |\n",
      "Outer fold 2 - Best parameters: {'slim_version': 'SLIM*SIG1'}\n",
      "Outer fold 2 - Test score: -3.4672\n",
      "\n",
      " Outer fold 3\n"
     ]
    },
    {
     "name": "stderr",
     "output_type": "stream",
     "text": [
      "c:\\Users\\elton\\AppData\\Local\\Programs\\Python\\Python310\\lib\\site-packages\\slim_gsgp\\main_slim.py:161: UserWarning: If test_elite is True, a test dataset must be provided. test_elite has been set to False\n",
      "  warnings.warn(\"If test_elite is True, a test dataset must be provided. test_elite has been set to False\")\n"
     ]
    },
    {
     "name": "stdout",
     "output_type": "stream",
     "text": [
      "\n",
      "Grid search completed!\n",
      "Best parameters: {'slim_version': 'SLIM*SIG1'}\n",
      "Best score: -3.357196545600891\n",
      "Training with the best hyparameters of 3 fold\n",
      "Verbose Reporter\n",
      "-----------------------------------------------------------------------------------------------------------------------------------------\n",
      "|         Dataset         |  Generation  |     Train Fitness     |       Test Fitness       |        Timing          |      Nodes       |\n",
      "-----------------------------------------------------------------------------------------------------------------------------------------\n",
      "|     sustavianfeed       |       0      |   15.44810962677002   |   12.1214599609375       |   0.05684638023376465  |      3           |\n",
      "|     sustavianfeed       |       1      |   15.44810962677002   |   12.1214599609375       |   0.10833549499511719  |      3           |\n",
      "|     sustavianfeed       |       2      |   15.44810962677002   |   12.1214599609375       |   0.06609106063842773  |      3           |\n",
      "|     sustavianfeed       |       3      |   9.382543563842773   |   8.83114242553711       |   0.09307098388671875  |      16          |\n",
      "|     sustavianfeed       |       4      |   9.382543563842773   |   8.83114242553711       |   0.060857534408569336 |      16          |\n",
      "|     sustavianfeed       |       5      |   9.382543563842773   |   8.83114242553711       |   0.08070969581604004  |      16          |\n",
      "|     sustavianfeed       |       6      |   9.382543563842773   |   8.83114242553711       |   0.07326579093933105  |      16          |\n",
      "|     sustavianfeed       |       7      |   9.382543563842773   |   8.83114242553711       |   0.07758975028991699  |      16          |\n",
      "|     sustavianfeed       |       8      |   3.5873665809631348  |   3.123330593109131      |   0.07629823684692383  |      31          |\n",
      "|     sustavianfeed       |       9      |   3.5873665809631348  |   3.123330593109131      |   0.07232236862182617  |      31          |\n",
      "|     sustavianfeed       |       10     |   3.5873665809631348  |   3.123330593109131      |   0.07617950439453125  |      31          |\n",
      "|     sustavianfeed       |       11     |   3.5873665809631348  |   3.123330593109131      |   0.07408356666564941  |      31          |\n",
      "|     sustavianfeed       |       12     |   3.5873665809631348  |   3.123330593109131      |   0.07556414604187012  |      31          |\n",
      "|     sustavianfeed       |       13     |   2.4590353965759277  |   2.175302028656006      |   0.06846117973327637  |      46          |\n",
      "|     sustavianfeed       |       14     |   2.4590353965759277  |   2.175302028656006      |   0.08077239990234375  |      46          |\n",
      "|     sustavianfeed       |       15     |   2.0685551166534424  |   1.6214662790298462     |   0.07302713394165039  |      59          |\n",
      "|     sustavianfeed       |       16     |   2.0685551166534424  |   1.6214662790298462     |   0.07018256187438965  |      59          |\n",
      "|     sustavianfeed       |       17     |   2.0685551166534424  |   1.6214662790298462     |   0.06363964080810547  |      59          |\n",
      "|     sustavianfeed       |       18     |   2.0685551166534424  |   1.6214662790298462     |   0.07628774642944336  |      59          |\n",
      "|     sustavianfeed       |       19     |   2.0685551166534424  |   1.6214662790298462     |   0.06664872169494629  |      59          |\n",
      "|     sustavianfeed       |       20     |   2.0685551166534424  |   1.6214662790298462     |   0.0846860408782959   |      59          |\n",
      "Outer fold 3 - Best parameters: {'slim_version': 'SLIM*SIG1'}\n",
      "Outer fold 3 - Test score: -1.6215\n",
      "\n",
      " Outer fold 4\n"
     ]
    },
    {
     "name": "stderr",
     "output_type": "stream",
     "text": [
      "c:\\Users\\elton\\AppData\\Local\\Programs\\Python\\Python310\\lib\\site-packages\\slim_gsgp\\main_slim.py:161: UserWarning: If test_elite is True, a test dataset must be provided. test_elite has been set to False\n",
      "  warnings.warn(\"If test_elite is True, a test dataset must be provided. test_elite has been set to False\")\n"
     ]
    },
    {
     "name": "stdout",
     "output_type": "stream",
     "text": [
      "\n",
      "Grid search completed!\n",
      "Best parameters: {'slim_version': 'SLIM*SIG1'}\n",
      "Best score: -7.36769700050354\n",
      "Training with the best hyparameters of 4 fold\n",
      "Verbose Reporter\n",
      "-----------------------------------------------------------------------------------------------------------------------------------------\n",
      "|         Dataset         |  Generation  |     Train Fitness     |       Test Fitness       |        Timing          |      Nodes       |\n",
      "-----------------------------------------------------------------------------------------------------------------------------------------\n",
      "|     sustavianfeed       |       0      |   15.674079895019531  |   9.297770500183105      |   0.04955005645751953  |      3           |\n",
      "|     sustavianfeed       |       1      |   15.674079895019531  |   9.297770500183105      |   0.09433388710021973  |      3           |\n",
      "|     sustavianfeed       |       2      |   15.674079895019531  |   9.297770500183105      |   0.05303001403808594  |      3           |\n",
      "|     sustavianfeed       |       3      |   9.699825286865234   |   5.09121561050415       |   0.09362673759460449  |      16          |\n",
      "|     sustavianfeed       |       4      |   9.699825286865234   |   5.09121561050415       |   0.06171917915344238  |      16          |\n",
      "|     sustavianfeed       |       5      |   9.699825286865234   |   5.09121561050415       |   0.08140182495117188  |      16          |\n",
      "|     sustavianfeed       |       6      |   9.699825286865234   |   5.09121561050415       |   0.06726503372192383  |      16          |\n",
      "|     sustavianfeed       |       7      |   9.699825286865234   |   5.09121561050415       |   0.06910324096679688  |      16          |\n",
      "|     sustavianfeed       |       8      |   3.5886266231536865  |   3.110854148864746      |   0.06969714164733887  |      31          |\n",
      "|     sustavianfeed       |       9      |   3.5886266231536865  |   3.110854148864746      |   0.06741666793823242  |      31          |\n",
      "|     sustavianfeed       |       10     |   3.5886266231536865  |   3.110854148864746      |   0.07111239433288574  |      31          |\n",
      "|     sustavianfeed       |       11     |   3.575775384902954   |   3.0960469245910645     |   0.06792616844177246  |      44          |\n",
      "|     sustavianfeed       |       12     |   3.575775384902954   |   3.0960469245910645     |   0.0756230354309082   |      44          |\n",
      "|     sustavianfeed       |       13     |   2.446913003921509   |   1.6977629661560059     |   0.06467366218566895  |      59          |\n",
      "|     sustavianfeed       |       14     |   2.446913003921509   |   1.6977629661560059     |   0.0691683292388916   |      59          |\n",
      "|     sustavianfeed       |       15     |   2.064974308013916   |   1.0555399656295776     |   0.07691812515258789  |      74          |\n",
      "|     sustavianfeed       |       16     |   2.064974308013916   |   1.0555399656295776     |   0.06954336166381836  |      74          |\n",
      "|     sustavianfeed       |       17     |   2.064974308013916   |   1.0555399656295776     |   0.17360496520996094  |      74          |\n",
      "|     sustavianfeed       |       18     |   2.064974308013916   |   1.0555399656295776     |   0.06430625915527344  |      74          |\n",
      "|     sustavianfeed       |       19     |   2.064974308013916   |   1.0555399656295776     |   0.06508803367614746  |      74          |\n",
      "|     sustavianfeed       |       20     |   2.064974308013916   |   1.0555399656295776     |   0.06440448760986328  |      74          |\n",
      "Outer fold 4 - Best parameters: {'slim_version': 'SLIM*SIG1'}\n",
      "Outer fold 4 - Test score: -1.0555\n",
      "\n",
      " Outer fold 5\n"
     ]
    },
    {
     "name": "stderr",
     "output_type": "stream",
     "text": [
      "c:\\Users\\elton\\AppData\\Local\\Programs\\Python\\Python310\\lib\\site-packages\\slim_gsgp\\main_slim.py:161: UserWarning: If test_elite is True, a test dataset must be provided. test_elite has been set to False\n",
      "  warnings.warn(\"If test_elite is True, a test dataset must be provided. test_elite has been set to False\")\n"
     ]
    },
    {
     "name": "stdout",
     "output_type": "stream",
     "text": [
      "\n",
      "Grid search completed!\n",
      "Best parameters: {'slim_version': 'SLIM*SIG1'}\n",
      "Best score: -4.733789420127868\n",
      "Training with the best hyparameters of 5 fold\n",
      "Verbose Reporter\n",
      "-----------------------------------------------------------------------------------------------------------------------------------------\n",
      "|         Dataset         |  Generation  |     Train Fitness     |       Test Fitness       |        Timing          |      Nodes       |\n",
      "-----------------------------------------------------------------------------------------------------------------------------------------\n",
      "|     sustavianfeed       |       0      |   15.538686752319336  |   11.08116626739502      |   0.06404972076416016  |      3           |\n",
      "|     sustavianfeed       |       1      |   15.538686752319336  |   11.08116626739502      |   0.10226249694824219  |      3           |\n",
      "|     sustavianfeed       |       2      |   15.538686752319336  |   11.08116626739502      |   0.057906389236450195 |      3           |\n",
      "|     sustavianfeed       |       3      |   9.544315338134766   |   7.187302112579346      |   0.10088801383972168  |      16          |\n",
      "|     sustavianfeed       |       4      |   9.544315338134766   |   7.187302112579346      |   0.07680630683898926  |      16          |\n",
      "|     sustavianfeed       |       5      |   9.544315338134766   |   7.187302112579346      |   0.08383321762084961  |      16          |\n",
      "|     sustavianfeed       |       6      |   9.544315338134766   |   7.187302112579346      |   0.06366419792175293  |      16          |\n",
      "|     sustavianfeed       |       7      |   9.544315338134766   |   7.187302112579346      |   0.07541728019714355  |      16          |\n",
      "|     sustavianfeed       |       8      |   3.5817391872406006  |   3.1783878803253174     |   0.07677674293518066  |      31          |\n",
      "|     sustavianfeed       |       9      |   3.5817391872406006  |   3.1783878803253174     |   0.07301950454711914  |      31          |\n",
      "|     sustavianfeed       |       10     |   3.5817391872406006  |   3.1783878803253174     |   0.09468579292297363  |      31          |\n",
      "|     sustavianfeed       |       11     |   3.5817391872406006  |   3.1783878803253174     |   0.07504677772521973  |      31          |\n",
      "|     sustavianfeed       |       12     |   3.5817391872406006  |   3.1783878803253174     |   0.06844472885131836  |      31          |\n",
      "|     sustavianfeed       |       13     |   3.5817391872406006  |   3.1783878803253174     |   0.0675046443939209   |      31          |\n",
      "|     sustavianfeed       |       14     |   3.5817391872406006  |   3.1783878803253174     |   0.08239054679870605  |      31          |\n",
      "|     sustavianfeed       |       15     |   3.5817391872406006  |   3.1783878803253174     |   0.07461214065551758  |      31          |\n",
      "|     sustavianfeed       |       16     |   3.5817391872406006  |   3.1783878803253174     |   0.07012629508972168  |      31          |\n",
      "|     sustavianfeed       |       17     |   2.2838644981384277  |   1.7736566066741943     |   0.11628508567810059  |      44          |\n",
      "|     sustavianfeed       |       18     |   2.2838644981384277  |   1.7736566066741943     |   0.09814715385437012  |      44          |\n",
      "|     sustavianfeed       |       19     |   2.2838644981384277  |   1.7736566066741943     |   0.0844569206237793   |      44          |\n",
      "|     sustavianfeed       |       20     |   2.2838644981384277  |   1.7736566066741943     |   0.0636289119720459   |      44          |\n",
      "Outer fold 5 - Best parameters: {'slim_version': 'SLIM*SIG1'}\n",
      "Outer fold 5 - Test score: -1.7737\n",
      "\n",
      " Outer fold 6\n"
     ]
    },
    {
     "name": "stderr",
     "output_type": "stream",
     "text": [
      "c:\\Users\\elton\\AppData\\Local\\Programs\\Python\\Python310\\lib\\site-packages\\slim_gsgp\\main_slim.py:161: UserWarning: If test_elite is True, a test dataset must be provided. test_elite has been set to False\n",
      "  warnings.warn(\"If test_elite is True, a test dataset must be provided. test_elite has been set to False\")\n"
     ]
    },
    {
     "name": "stdout",
     "output_type": "stream",
     "text": [
      "\n",
      "Grid search completed!\n",
      "Best parameters: {'slim_version': 'SLIM*SIG1'}\n",
      "Best score: -7.819632911682129\n",
      "Training with the best hyparameters of 6 fold\n",
      "Verbose Reporter\n",
      "-----------------------------------------------------------------------------------------------------------------------------------------\n",
      "|         Dataset         |  Generation  |     Train Fitness     |       Test Fitness       |        Timing          |      Nodes       |\n",
      "-----------------------------------------------------------------------------------------------------------------------------------------\n",
      "|     sustavianfeed       |       0      |   12.022451400756836  |   30.922977447509766     |   0.0550236701965332   |      3           |\n",
      "|     sustavianfeed       |       1      |   11.291399002075195  |   44.9517822265625       |   0.10744261741638184  |      18          |\n",
      "|     sustavianfeed       |       2      |   11.291399002075195  |   44.9517822265625       |   0.07380962371826172  |      18          |\n",
      "|     sustavianfeed       |       3      |   6.958873271942139   |   20.45977783203125      |   0.09911108016967773  |      16          |\n",
      "|     sustavianfeed       |       4      |   6.958873271942139   |   20.45977783203125      |   0.062040090560913086 |      16          |\n",
      "|     sustavianfeed       |       5      |   6.958873271942139   |   20.45977783203125      |   0.08932352066040039  |      16          |\n",
      "|     sustavianfeed       |       6      |   6.958873271942139   |   20.45977783203125      |   0.06579470634460449  |      16          |\n",
      "|     sustavianfeed       |       7      |   6.958873271942139   |   20.45977783203125      |   0.08345365524291992  |      16          |\n",
      "|     sustavianfeed       |       8      |   6.6911163330078125  |   20.423175811767578     |   0.08086705207824707  |      46          |\n",
      "|     sustavianfeed       |       9      |   6.6911163330078125  |   20.423175811767578     |   0.10355281829833984  |      46          |\n",
      "|     sustavianfeed       |       10     |   6.6911163330078125  |   20.423175811767578     |   0.06658124923706055  |      46          |\n",
      "|     sustavianfeed       |       11     |   6.6911163330078125  |   20.423175811767578     |   0.10592055320739746  |      46          |\n",
      "|     sustavianfeed       |       12     |   6.6911163330078125  |   20.423175811767578     |   0.07742595672607422  |      46          |\n",
      "|     sustavianfeed       |       13     |   6.6911163330078125  |   20.423175811767578     |   0.102325439453125    |      46          |\n",
      "|     sustavianfeed       |       14     |   6.6911163330078125  |   20.423175811767578     |   0.07329916954040527  |      46          |\n",
      "|     sustavianfeed       |       15     |   6.6911163330078125  |   20.423175811767578     |   0.08103418350219727  |      46          |\n",
      "|     sustavianfeed       |       16     |   6.6911163330078125  |   20.423175811767578     |   0.06106758117675781  |      46          |\n",
      "|     sustavianfeed       |       17     |   6.6911163330078125  |   20.423175811767578     |   0.07174158096313477  |      46          |\n",
      "|     sustavianfeed       |       18     |   6.6911163330078125  |   20.423175811767578     |   0.06773734092712402  |      46          |\n",
      "|     sustavianfeed       |       19     |   6.6911163330078125  |   20.423175811767578     |   0.07582712173461914  |      46          |\n",
      "|     sustavianfeed       |       20     |   6.6911163330078125  |   20.423175811767578     |   0.0594174861907959   |      46          |\n",
      "Outer fold 6 - Best parameters: {'slim_version': 'SLIM*SIG1'}\n",
      "Outer fold 6 - Test score: -20.4232\n",
      "\n",
      " Outer fold 7\n"
     ]
    },
    {
     "name": "stderr",
     "output_type": "stream",
     "text": [
      "c:\\Users\\elton\\AppData\\Local\\Programs\\Python\\Python310\\lib\\site-packages\\slim_gsgp\\main_slim.py:161: UserWarning: If test_elite is True, a test dataset must be provided. test_elite has been set to False\n",
      "  warnings.warn(\"If test_elite is True, a test dataset must be provided. test_elite has been set to False\")\n"
     ]
    },
    {
     "name": "stdout",
     "output_type": "stream",
     "text": [
      "\n",
      "Grid search completed!\n",
      "Best parameters: {'slim_version': 'SLIM*SIG1'}\n",
      "Best score: -6.282396841049194\n",
      "Training with the best hyparameters of 7 fold\n",
      "Verbose Reporter\n",
      "-----------------------------------------------------------------------------------------------------------------------------------------\n",
      "|         Dataset         |  Generation  |     Train Fitness     |       Test Fitness       |        Timing          |      Nodes       |\n",
      "-----------------------------------------------------------------------------------------------------------------------------------------\n",
      "|     sustavianfeed       |       0      |   14.804994583129883  |   18.022655487060547     |   0.056379079818725586 |      3           |\n",
      "|     sustavianfeed       |       1      |   14.804994583129883  |   18.022655487060547     |   0.10799241065979004  |      3           |\n",
      "|     sustavianfeed       |       2      |   14.804994583129883  |   18.022655487060547     |   0.06901335716247559  |      3           |\n",
      "|     sustavianfeed       |       3      |   9.54637336730957    |   6.848038673400879      |   0.1241755485534668   |      16          |\n",
      "|     sustavianfeed       |       4      |   9.54637336730957    |   6.848038673400879      |   0.07723188400268555  |      16          |\n",
      "|     sustavianfeed       |       5      |   9.54637336730957    |   6.848038673400879      |   0.09365153312683105  |      16          |\n",
      "|     sustavianfeed       |       6      |   9.54637336730957    |   6.848038673400879      |   0.06837916374206543  |      16          |\n",
      "|     sustavianfeed       |       7      |   9.54637336730957    |   6.848038673400879      |   0.0765376091003418   |      16          |\n",
      "|     sustavianfeed       |       8      |   9.418437957763672   |   5.817244529724121      |   0.08512449264526367  |      31          |\n",
      "|     sustavianfeed       |       9      |   9.418437957763672   |   5.817244529724121      |   0.0712888240814209   |      31          |\n",
      "|     sustavianfeed       |       10     |   9.418437957763672   |   5.817244529724121      |   0.09426689147949219  |      31          |\n",
      "|     sustavianfeed       |       11     |   9.418437957763672   |   5.817244529724121      |   0.07604694366455078  |      31          |\n",
      "|     sustavianfeed       |       12     |   9.418437957763672   |   5.817244529724121      |   0.07025384902954102  |      31          |\n",
      "|     sustavianfeed       |       13     |   9.418437957763672   |   5.817244529724121      |   0.0718684196472168   |      31          |\n",
      "|     sustavianfeed       |       14     |   9.418437957763672   |   5.817244529724121      |   0.10178375244140625  |      31          |\n",
      "|     sustavianfeed       |       15     |   9.418437957763672   |   5.817244529724121      |   0.09114980697631836  |      31          |\n",
      "|     sustavianfeed       |       16     |   9.418437957763672   |   5.817244529724121      |   0.08650946617126465  |      31          |\n",
      "|     sustavianfeed       |       17     |   9.418437957763672   |   5.817244529724121      |   0.06972312927246094  |      31          |\n",
      "|     sustavianfeed       |       18     |   9.418437957763672   |   5.817244529724121      |   0.07761907577514648  |      31          |\n",
      "|     sustavianfeed       |       19     |   9.418437957763672   |   5.817244529724121      |   0.07497930526733398  |      31          |\n",
      "|     sustavianfeed       |       20     |   9.418437957763672   |   5.817244529724121      |   0.062187910079956055 |      31          |\n",
      "Outer fold 7 - Best parameters: {'slim_version': 'SLIM*SIG1'}\n",
      "Outer fold 7 - Test score: -5.8172\n",
      "\n",
      " Outer fold 8\n"
     ]
    },
    {
     "name": "stderr",
     "output_type": "stream",
     "text": [
      "c:\\Users\\elton\\AppData\\Local\\Programs\\Python\\Python310\\lib\\site-packages\\slim_gsgp\\main_slim.py:161: UserWarning: If test_elite is True, a test dataset must be provided. test_elite has been set to False\n",
      "  warnings.warn(\"If test_elite is True, a test dataset must be provided. test_elite has been set to False\")\n"
     ]
    },
    {
     "name": "stdout",
     "output_type": "stream",
     "text": [
      "\n",
      "Grid search completed!\n",
      "Best parameters: {'slim_version': 'SLIM*SIG1'}\n",
      "Best score: -4.033915281295776\n",
      "Training with the best hyparameters of 8 fold\n",
      "Verbose Reporter\n",
      "-----------------------------------------------------------------------------------------------------------------------------------------\n",
      "|         Dataset         |  Generation  |     Train Fitness     |       Test Fitness       |        Timing          |      Nodes       |\n",
      "-----------------------------------------------------------------------------------------------------------------------------------------\n",
      "|     sustavianfeed       |       0      |   15.426959991455078  |   11.960426330566406     |   0.052324771881103516 |      3           |\n",
      "|     sustavianfeed       |       1      |   15.426959991455078  |   11.960426330566406     |   0.0941324234008789   |      3           |\n",
      "|     sustavianfeed       |       2      |   15.426959991455078  |   11.960426330566406     |   0.06562924385070801  |      3           |\n",
      "|     sustavianfeed       |       3      |   9.46681022644043    |   7.843410491943359      |   0.13651609420776367  |      16          |\n",
      "|     sustavianfeed       |       4      |   9.46681022644043    |   7.843410491943359      |   0.06168389320373535  |      16          |\n",
      "|     sustavianfeed       |       5      |   9.46681022644043    |   7.843410491943359      |   0.08563590049743652  |      16          |\n",
      "|     sustavianfeed       |       6      |   9.46681022644043    |   7.843410491943359      |   0.07177233695983887  |      16          |\n",
      "|     sustavianfeed       |       7      |   9.46681022644043    |   7.843410491943359      |   0.07535982131958008  |      16          |\n",
      "|     sustavianfeed       |       8      |   3.503439426422119   |   3.893826723098755      |   0.09387063980102539  |      31          |\n",
      "|     sustavianfeed       |       9      |   3.503439426422119   |   3.893826723098755      |   0.08991312980651855  |      31          |\n",
      "|     sustavianfeed       |       10     |   3.503439426422119   |   3.893826723098755      |   0.08125615119934082  |      31          |\n",
      "|     sustavianfeed       |       11     |   3.4906485080718994  |   3.87876033782959       |   0.05905508995056152  |      44          |\n",
      "|     sustavianfeed       |       12     |   3.4906485080718994  |   3.87876033782959       |   0.07650256156921387  |      44          |\n",
      "|     sustavianfeed       |       13     |   2.468217372894287   |   1.2349745035171509     |   0.07328581809997559  |      59          |\n",
      "|     sustavianfeed       |       14     |   2.468217372894287   |   1.2349745035171509     |   0.06506943702697754  |      59          |\n",
      "|     sustavianfeed       |       15     |   2.2909932136535645  |   2.2345118522644043     |   0.07010817527770996  |      44          |\n",
      "|     sustavianfeed       |       16     |   2.2909932136535645  |   2.2345118522644043     |   0.06732296943664551  |      44          |\n",
      "|     sustavianfeed       |       17     |   2.2909932136535645  |   2.2345118522644043     |   0.06811380386352539  |      44          |\n",
      "|     sustavianfeed       |       18     |   2.2909932136535645  |   2.2345118522644043     |   0.07801008224487305  |      44          |\n",
      "|     sustavianfeed       |       19     |   2.2909932136535645  |   2.2345118522644043     |   0.07106852531433105  |      44          |\n",
      "|     sustavianfeed       |       20     |   2.132761240005493   |   1.066832184791565      |   0.07318472862243652  |      117         |\n",
      "Outer fold 8 - Best parameters: {'slim_version': 'SLIM*SIG1'}\n",
      "Outer fold 8 - Test score: -1.0668\n",
      "\n",
      " Outer fold 9\n"
     ]
    },
    {
     "name": "stderr",
     "output_type": "stream",
     "text": [
      "c:\\Users\\elton\\AppData\\Local\\Programs\\Python\\Python310\\lib\\site-packages\\slim_gsgp\\main_slim.py:161: UserWarning: If test_elite is True, a test dataset must be provided. test_elite has been set to False\n",
      "  warnings.warn(\"If test_elite is True, a test dataset must be provided. test_elite has been set to False\")\n"
     ]
    },
    {
     "name": "stdout",
     "output_type": "stream",
     "text": [
      "\n",
      "Grid search completed!\n",
      "Best parameters: {'slim_version': 'SLIM*SIG1'}\n",
      "Best score: -7.47721631526947\n",
      "Training with the best hyparameters of 9 fold\n",
      "Verbose Reporter\n",
      "-----------------------------------------------------------------------------------------------------------------------------------------\n",
      "|         Dataset         |  Generation  |     Train Fitness     |       Test Fitness       |        Timing          |      Nodes       |\n",
      "-----------------------------------------------------------------------------------------------------------------------------------------\n",
      "|     sustavianfeed       |       0      |   15.693072319030762  |   7.937129497528076      |   0.17485642433166504  |      3           |\n",
      "|     sustavianfeed       |       1      |   15.693072319030762  |   7.937129497528076      |   0.12696075439453125  |      3           |\n",
      "|     sustavianfeed       |       2      |   15.693072319030762  |   7.937129497528076      |   0.056778907775878906 |      3           |\n",
      "|     sustavianfeed       |       3      |   9.7457914352417     |   3.1154637336730957     |   0.0853278636932373   |      16          |\n",
      "|     sustavianfeed       |       4      |   9.7457914352417     |   3.1154637336730957     |   0.0626366138458252   |      16          |\n",
      "|     sustavianfeed       |       5      |   9.7457914352417     |   3.1154637336730957     |   0.09780406951904297  |      16          |\n",
      "|     sustavianfeed       |       6      |   9.7457914352417     |   3.1154637336730957     |   0.09156298637390137  |      16          |\n",
      "|     sustavianfeed       |       7      |   9.7457914352417     |   3.1154637336730957     |   0.08454537391662598  |      16          |\n",
      "|     sustavianfeed       |       8      |   3.593689203262329   |   2.9950428009033203     |   0.08026647567749023  |      31          |\n",
      "|     sustavianfeed       |       9      |   3.593689203262329   |   2.9950428009033203     |   0.08174419403076172  |      31          |\n",
      "|     sustavianfeed       |       10     |   3.593689203262329   |   2.9950428009033203     |   0.08536005020141602  |      31          |\n",
      "|     sustavianfeed       |       11     |   3.593689203262329   |   2.9950428009033203     |   0.07622694969177246  |      31          |\n",
      "|     sustavianfeed       |       12     |   3.593689203262329   |   2.9950428009033203     |   0.0741879940032959   |      31          |\n",
      "|     sustavianfeed       |       13     |   2.7128798961639404  |   2.2922420501708984     |   0.07124042510986328  |      46          |\n",
      "|     sustavianfeed       |       14     |   2.7128798961639404  |   2.2922420501708984     |   0.08207535743713379  |      46          |\n",
      "|     sustavianfeed       |       15     |   2.7128798961639404  |   2.2922420501708984     |   0.06893110275268555  |      46          |\n",
      "|     sustavianfeed       |       16     |   2.6533491611480713  |   2.2475433349609375     |   0.0849144458770752   |      59          |\n",
      "|     sustavianfeed       |       17     |   2.032226800918579   |   1.5008915662765503     |   0.0709998607635498   |      44          |\n",
      "|     sustavianfeed       |       18     |   2.032226800918579   |   1.5008915662765503     |   0.07207250595092773  |      44          |\n",
      "|     sustavianfeed       |       19     |   2.032226800918579   |   1.5008915662765503     |   0.06874585151672363  |      44          |\n",
      "|     sustavianfeed       |       20     |   2.032226800918579   |   1.5008915662765503     |   0.0813593864440918   |      44          |\n",
      "Outer fold 9 - Best parameters: {'slim_version': 'SLIM*SIG1'}\n",
      "Outer fold 9 - Test score: -1.5009\n",
      "\n",
      " Outer fold 10\n"
     ]
    },
    {
     "name": "stderr",
     "output_type": "stream",
     "text": [
      "c:\\Users\\elton\\AppData\\Local\\Programs\\Python\\Python310\\lib\\site-packages\\slim_gsgp\\main_slim.py:161: UserWarning: If test_elite is True, a test dataset must be provided. test_elite has been set to False\n",
      "  warnings.warn(\"If test_elite is True, a test dataset must be provided. test_elite has been set to False\")\n"
     ]
    },
    {
     "name": "stdout",
     "output_type": "stream",
     "text": [
      "\n",
      "Grid search completed!\n",
      "Best parameters: {'slim_version': 'SLIM*SIG1'}\n",
      "Best score: -4.982069802284241\n",
      "Training with the best hyparameters of 10 fold\n",
      "Verbose Reporter\n",
      "-----------------------------------------------------------------------------------------------------------------------------------------\n",
      "|         Dataset         |  Generation  |     Train Fitness     |       Test Fitness       |        Timing          |      Nodes       |\n",
      "-----------------------------------------------------------------------------------------------------------------------------------------\n",
      "|     sustavianfeed       |       0      |   15.514117240905762  |   10.815879821777344     |   0.05015826225280762  |      3           |\n",
      "|     sustavianfeed       |       1      |   15.514117240905762  |   10.815879821777344     |   0.10465288162231445  |      3           |\n",
      "|     sustavianfeed       |       2      |   15.514117240905762  |   10.815879821777344     |   0.06286048889160156  |      3           |\n",
      "|     sustavianfeed       |       3      |   9.447630882263184   |   8.06385326385498       |   0.08857369422912598  |      16          |\n",
      "|     sustavianfeed       |       4      |   9.447630882263184   |   8.06385326385498       |   0.05613994598388672  |      16          |\n",
      "|     sustavianfeed       |       5      |   9.447630882263184   |   8.06385326385498       |   0.07490301132202148  |      16          |\n",
      "|     sustavianfeed       |       6      |   9.447630882263184   |   8.06385326385498       |   0.0696263313293457   |      16          |\n",
      "|     sustavianfeed       |       7      |   9.447630882263184   |   8.06385326385498       |   0.07217884063720703  |      16          |\n",
      "|     sustavianfeed       |       8      |   3.4851667881011963  |   4.049241065979004      |   0.07504630088806152  |      31          |\n",
      "|     sustavianfeed       |       9      |   3.4851667881011963  |   4.049241065979004      |   0.07054901123046875  |      31          |\n",
      "|     sustavianfeed       |       10     |   3.4851667881011963  |   4.049241065979004      |   0.0699770450592041   |      31          |\n",
      "|     sustavianfeed       |       11     |   3.4851667881011963  |   4.049241065979004      |   0.06250405311584473  |      31          |\n",
      "|     sustavianfeed       |       12     |   3.4851667881011963  |   4.049241065979004      |   0.07509589195251465  |      31          |\n",
      "|     sustavianfeed       |       13     |   3.053007125854492   |   1.034395456314087      |   0.06247901916503906  |      46          |\n",
      "|     sustavianfeed       |       14     |   3.053007125854492   |   1.034395456314087      |   0.06801843643188477  |      46          |\n",
      "|     sustavianfeed       |       15     |   3.053007125854492   |   1.034395456314087      |   0.07325506210327148  |      46          |\n",
      "|     sustavianfeed       |       16     |   3.053007125854492   |   1.034395456314087      |   0.05910515785217285  |      46          |\n",
      "|     sustavianfeed       |       17     |   3.053007125854492   |   1.034395456314087      |   0.07678604125976562  |      46          |\n",
      "|     sustavianfeed       |       18     |   2.7772750854492188  |   0.8934444189071655     |   0.06696915626525879  |      44          |\n",
      "|     sustavianfeed       |       19     |   2.0797271728515625  |   0.9360523819923401     |   0.07428431510925293  |      57          |\n",
      "|     sustavianfeed       |       20     |   2.047870635986328   |   1.110641360282898      |   0.06702756881713867  |      44          |\n",
      "Outer fold 10 - Best parameters: {'slim_version': 'SLIM*SIG1'}\n",
      "Outer fold 10 - Test score: -1.1106\n"
     ]
    }
   ],
   "source": [
    "summary, general_summary, all_grid_results=run_nested_cv_for_model(X,y, estimator, param_grid, outer_cv, n_inner_cv, model_name=\"SLIM\")"
   ]
  },
  {
   "cell_type": "code",
   "execution_count": 13,
   "id": "d38cfe42",
   "metadata": {},
   "outputs": [],
   "source": [
    "# Log level 2\n",
    "# -----------\n",
    "# 0  - Algorithm\n",
    "# 1  - Instance ID\n",
    "# 2  - Dataset\n",
    "# 3  - Seed\n",
    "# 4  - Generation\n",
    "# 5  - Fitness\n",
    "# 6  - Running time\n",
    "# 7  - Population nodes\n",
    "# 8  - Test fitness\n",
    "# 9  - Elite nodes\n",
    "# 10 - Genotype diversity: gsgp_pop_div_from_vectors (Calculate the diversity of a population from semantic vectors)\n",
    "# 11 - Phenotype diversity: sd(pop.fit)\n",
    "# 12 - Log level\n",
    "\n",
    "fold_1_result=pd.read_csv(\"./results/SLIM/logs_best_params_fold_1\", header=None).head()"
   ]
  },
  {
   "cell_type": "code",
   "execution_count": 14,
   "id": "eb1b952e",
   "metadata": {},
   "outputs": [
    {
     "data": {
      "text/html": [
       "<div>\n",
       "<style scoped>\n",
       "    .dataframe tbody tr th:only-of-type {\n",
       "        vertical-align: middle;\n",
       "    }\n",
       "\n",
       "    .dataframe tbody tr th {\n",
       "        vertical-align: top;\n",
       "    }\n",
       "\n",
       "    .dataframe thead th {\n",
       "        text-align: right;\n",
       "    }\n",
       "</style>\n",
       "<table border=\"1\" class=\"dataframe\">\n",
       "  <thead>\n",
       "    <tr style=\"text-align: right;\">\n",
       "      <th></th>\n",
       "      <th>0</th>\n",
       "      <th>1</th>\n",
       "      <th>2</th>\n",
       "      <th>3</th>\n",
       "      <th>4</th>\n",
       "      <th>5</th>\n",
       "      <th>6</th>\n",
       "      <th>7</th>\n",
       "      <th>8</th>\n",
       "      <th>9</th>\n",
       "      <th>10</th>\n",
       "      <th>11</th>\n",
       "      <th>12</th>\n",
       "    </tr>\n",
       "  </thead>\n",
       "  <tbody>\n",
       "    <tr>\n",
       "      <th>0</th>\n",
       "      <td>SLIM+SIG2</td>\n",
       "      <td>2885fe11-35c1-11f0-ab72-c0bfbe084630</td>\n",
       "      <td>sustavianfeed</td>\n",
       "      <td>1111</td>\n",
       "      <td>0</td>\n",
       "      <td>15.209765</td>\n",
       "      <td>0.048923</td>\n",
       "      <td>1186.0</td>\n",
       "      <td>14.483480</td>\n",
       "      <td>3</td>\n",
       "      <td>89475.265625</td>\n",
       "      <td>55490.324000</td>\n",
       "      <td>2</td>\n",
       "    </tr>\n",
       "    <tr>\n",
       "      <th>1</th>\n",
       "      <td>SLIM+SIG2</td>\n",
       "      <td>2885fe11-35c1-11f0-ab72-c0bfbe084630</td>\n",
       "      <td>sustavianfeed</td>\n",
       "      <td>1111</td>\n",
       "      <td>1</td>\n",
       "      <td>14.872161</td>\n",
       "      <td>0.106219</td>\n",
       "      <td>3656.0</td>\n",
       "      <td>13.839700</td>\n",
       "      <td>16</td>\n",
       "      <td>127.850334</td>\n",
       "      <td>17.943619</td>\n",
       "      <td>2</td>\n",
       "    </tr>\n",
       "    <tr>\n",
       "      <th>2</th>\n",
       "      <td>SLIM+SIG2</td>\n",
       "      <td>2885fe11-35c1-11f0-ab72-c0bfbe084630</td>\n",
       "      <td>sustavianfeed</td>\n",
       "      <td>1111</td>\n",
       "      <td>2</td>\n",
       "      <td>14.732368</td>\n",
       "      <td>0.062658</td>\n",
       "      <td>3314.0</td>\n",
       "      <td>13.559328</td>\n",
       "      <td>27</td>\n",
       "      <td>308.502594</td>\n",
       "      <td>27.946726</td>\n",
       "      <td>2</td>\n",
       "    </tr>\n",
       "    <tr>\n",
       "      <th>3</th>\n",
       "      <td>SLIM+SIG2</td>\n",
       "      <td>2885fe11-35c1-11f0-ab72-c0bfbe084630</td>\n",
       "      <td>sustavianfeed</td>\n",
       "      <td>1111</td>\n",
       "      <td>3</td>\n",
       "      <td>14.369542</td>\n",
       "      <td>0.079895</td>\n",
       "      <td>3627.0</td>\n",
       "      <td>12.782021</td>\n",
       "      <td>46</td>\n",
       "      <td>119.292923</td>\n",
       "      <td>10.711985</td>\n",
       "      <td>2</td>\n",
       "    </tr>\n",
       "    <tr>\n",
       "      <th>4</th>\n",
       "      <td>SLIM+SIG2</td>\n",
       "      <td>2885fe11-35c1-11f0-ab72-c0bfbe084630</td>\n",
       "      <td>sustavianfeed</td>\n",
       "      <td>1111</td>\n",
       "      <td>4</td>\n",
       "      <td>14.335183</td>\n",
       "      <td>0.055604</td>\n",
       "      <td>3399.0</td>\n",
       "      <td>12.703944</td>\n",
       "      <td>42</td>\n",
       "      <td>4.917006</td>\n",
       "      <td>0.239674</td>\n",
       "      <td>2</td>\n",
       "    </tr>\n",
       "  </tbody>\n",
       "</table>\n",
       "</div>"
      ],
      "text/plain": [
       "          0                                     1              2     3   4   \\\n",
       "0  SLIM+SIG2  2885fe11-35c1-11f0-ab72-c0bfbe084630  sustavianfeed  1111   0   \n",
       "1  SLIM+SIG2  2885fe11-35c1-11f0-ab72-c0bfbe084630  sustavianfeed  1111   1   \n",
       "2  SLIM+SIG2  2885fe11-35c1-11f0-ab72-c0bfbe084630  sustavianfeed  1111   2   \n",
       "3  SLIM+SIG2  2885fe11-35c1-11f0-ab72-c0bfbe084630  sustavianfeed  1111   3   \n",
       "4  SLIM+SIG2  2885fe11-35c1-11f0-ab72-c0bfbe084630  sustavianfeed  1111   4   \n",
       "\n",
       "          5         6       7          8   9             10            11  12  \n",
       "0  15.209765  0.048923  1186.0  14.483480   3  89475.265625  55490.324000   2  \n",
       "1  14.872161  0.106219  3656.0  13.839700  16    127.850334     17.943619   2  \n",
       "2  14.732368  0.062658  3314.0  13.559328  27    308.502594     27.946726   2  \n",
       "3  14.369542  0.079895  3627.0  12.782021  46    119.292923     10.711985   2  \n",
       "4  14.335183  0.055604  3399.0  12.703944  42      4.917006      0.239674   2  "
      ]
     },
     "execution_count": 14,
     "metadata": {},
     "output_type": "execute_result"
    }
   ],
   "source": [
    "fold_1_result.head(20)"
   ]
  },
  {
   "cell_type": "code",
   "execution_count": 15,
   "id": "9cbc3edb",
   "metadata": {},
   "outputs": [
    {
     "data": {
      "application/vnd.plotly.v1+json": {
       "config": {
        "plotlyServerURL": "https://plot.ly"
       },
       "data": [
        {
         "line": {
          "color": "blue"
         },
         "mode": "lines",
         "name": "Train (Fold 1)",
         "showlegend": true,
         "type": "scatter",
         "x": {
          "bdata": "AAECAwQFBgcICQoLDA0ODxAREhMU",
          "dtype": "i1"
         },
         "xaxis": "x",
         "y": {
          "bdata": "AAAAYGZrLkAAAABgZmsuQAAAAGBmay5AAAAAoIUZI0AAAACghRkjQAAAAKCFGSNAAAAAwDu8DUAAAADAO7wNQAAAAMA7vA1AAAAAwDu8DUAAAAAgisUHQAAAACCKxQdAAAAAIIrFB0AAAAAgisUHQAAAACCKxQdAAAAAIIrFB0AAAAAgisUHQAEAAECauAdAAQAAQJq4B0ABAABAmrgHQAAAACAAKQJA",
          "dtype": "f8"
         },
         "yaxis": "y"
        },
        {
         "line": {
          "color": "red"
         },
         "mode": "lines",
         "name": "Test (Fold 1)",
         "showlegend": true,
         "type": "scatter",
         "x": {
          "bdata": "AAECAwQFBgcICQoLDA0ODxAREhMU",
          "dtype": "i1"
         },
         "xaxis": "x",
         "y": {
          "bdata": "AQAAwIr3LEABAADAivcsQAEAAMCK9yxAAAAAIOMrHUAAAAAg4ysdQAAAACDjKx1AAAAAIFe0+j8AAAAgV7T6PwAAACBXtPo/AAAAIFe0+j8AAAAgVk35PwAAACBWTfk/AAAAIFZN+T8AAAAgVk35PwAAACBWTfk/AAAAIFZN+T8AAAAgVk35PwAAACBCtw1AAAAAIEK3DUAAAAAgQrcNQP///9+LSwVA",
          "dtype": "f8"
         },
         "yaxis": "y"
        },
        {
         "line": {
          "color": "blue"
         },
         "mode": "lines",
         "name": "Train (Fold 2)",
         "showlegend": false,
         "type": "scatter",
         "x": {
          "bdata": "AAECAwQFBgcICQoLDA0ODxAREhMU",
          "dtype": "i1"
         },
         "xaxis": "x2",
         "y": {
          "bdata": "AAAAoLZKL0AAAACgtkovQAAAAKC2Si9AAAAAoPYwI0AAAACg9jAjQAAAAKD2MCNAAAAAoPYwI0AAAACg9jAjQAEAAACsSQ1AAQAAAKxJDUABAAAArEkNQAEAAACsSQ1AAQAAAKxJDUABAAAArEkNQAEAAACsSQ1AAQAAAKxJDUAAAADgsEgDQAAAAOCwSANAAAAA4LBIA0AAAADgsEgDQAAAAOCwSANA",
          "dtype": "f8"
         },
         "yaxis": "y2"
        },
        {
         "line": {
          "color": "red"
         },
         "mode": "lines",
         "name": "Test (Fold 2)",
         "showlegend": false,
         "type": "scatter",
         "x": {
          "bdata": "AAECAwQFBgcICQoLDA0ODxAREhMU",
          "dtype": "i1"
         },
         "xaxis": "x2",
         "y": {
          "bdata": "AQAA4OBkI0ABAADg4GQjQAEAAODgZCNAAAAAQD9LGkAAAABAP0saQAAAAEA/SxpAAAAAQD9LGkAAAABAP0saQAEAAGBDLwJAAQAAYEMvAkABAABgQy8CQAEAAGBDLwJAAQAAYEMvAkABAABgQy8CQAEAAGBDLwJAAQAAYEMvAkAAAAAg7LwLQAAAACDsvAtAAAAAIOy8C0AAAAAg7LwLQAAAACDsvAtA",
          "dtype": "f8"
         },
         "yaxis": "y2"
        },
        {
         "line": {
          "color": "blue"
         },
         "mode": "lines",
         "name": "Train (Fold 3)",
         "showlegend": false,
         "type": "scatter",
         "x": {
          "bdata": "AAECAwQFBgcICQoLDA0ODxAREhMU",
          "dtype": "i1"
         },
         "xaxis": "x3",
         "y": {
          "bdata": "AAAAoG7lLkAAAACgbuUuQAAAAKBu5S5A////v9zDIkD///+/3MMiQP///7/cwyJA////v9zDIkD///+/3MMiQAAAAEDtsgxAAAAAQO2yDEAAAABA7bIMQAAAAEDtsgxAAAAAQO2yDEABAADAGqwDQAEAAMAarANAAAAAoGaMAEAAAACgZowAQAAAAKBmjABAAAAAoGaMAEAAAACgZowAQAAAAKBmjABA",
          "dtype": "f8"
         },
         "yaxis": "y3"
        },
        {
         "line": {
          "color": "red"
         },
         "mode": "lines",
         "name": "Test (Fold 3)",
         "showlegend": false,
         "type": "scatter",
         "x": {
          "bdata": "AAECAwQFBgcICQoLDA0ODxAREhMU",
          "dtype": "i1"
         },
         "xaxis": "x3",
         "y": {
          "bdata": "AAAAADA+KEAAAAAAMD4oQAAAAAAwPihAAAAAgIupIUAAAACAi6khQAAAAICLqSFAAAAAgIupIUAAAACAi6khQAAAAMCU/AhAAAAAwJT8CEAAAADAlPwIQAAAAMCU/AhAAAAAwJT8CEAAAADABGcBQAAAAMAEZwFAAAAAoIbx+T8AAACghvH5PwAAAKCG8fk/AAAAoIbx+T8AAACghvH5PwAAAKCG8fk/",
          "dtype": "f8"
         },
         "yaxis": "y3"
        },
        {
         "line": {
          "color": "blue"
         },
         "mode": "lines",
         "name": "Train (Fold 4)",
         "showlegend": false,
         "type": "scatter",
         "x": {
          "bdata": "AAECAwQFBgcICQoLDA0ODxAREhMU",
          "dtype": "i1"
         },
         "xaxis": "x4",
         "y": {
          "bdata": "AAAAACFZL0AAAAAAIVkvQAAAAAAhWS9AAAAAgE9mI0AAAACAT2YjQAAAAIBPZiNAAAAAgE9mI0AAAACAT2YjQAAAAOCBtQxAAAAA4IG1DEAAAADggbUMQAAAACAwmwxAAAAAIDCbDEAAAAAgR5MDQAAAACBHkwNAAAAAQBGFAEAAAABAEYUAQAAAAEARhQBAAAAAQBGFAEAAAABAEYUAQAAAAEARhQBA",
          "dtype": "f8"
         },
         "yaxis": "y4"
        },
        {
         "line": {
          "color": "red"
         },
         "mode": "lines",
         "name": "Test (Fold 4)",
         "showlegend": false,
         "type": "scatter",
         "x": {
          "bdata": "AAECAwQFBgcICQoLDA0ODxAREhMU",
          "dtype": "i1"
         },
         "xaxis": "x4",
         "y": {
          "bdata": "////X3WYIkD///9fdZgiQP///191mCJAAAAAoGddFEAAAACgZ10UQAAAAKBnXRRAAAAAoGddFEAAAACgZ10UQAAAAIAH4whAAAAAgAfjCEAAAACAB+MIQAAAAEC0xAhAAAAAQLTECEABAACACSr7PwEAAIAJKvs/AAAA4H3j8D8AAADgfePwPwAAAOB94/A/AAAA4H3j8D8AAADgfePwPwAAAOB94/A/",
          "dtype": "f8"
         },
         "yaxis": "y4"
        },
        {
         "line": {
          "color": "blue"
         },
         "mode": "lines",
         "name": "Train (Fold 5)",
         "showlegend": false,
         "type": "scatter",
         "x": {
          "bdata": "AAECAwQFBgcICQoLDA0ODxAREhMU",
          "dtype": "i1"
         },
         "xaxis": "x5",
         "y": {
          "bdata": "AAAAwM4TL0AAAADAzhMvQAAAAMDOEy9AAAAAgLAWI0AAAACAsBYjQAAAAICwFiNAAAAAgLAWI0AAAACAsBYjQAAAAOBmpwxAAAAA4GanDEAAAADgZqcMQAAAAOBmpwxAAAAA4GanDEAAAADgZqcMQAAAAOBmpwxAAAAA4GanDEAAAADgZqcMQAEAAMBaRQJAAQAAwFpFAkABAADAWkUCQAEAAMBaRQJA",
          "dtype": "f8"
         },
         "yaxis": "y5"
        },
        {
         "line": {
          "color": "red"
         },
         "mode": "lines",
         "name": "Test (Fold 5)",
         "showlegend": false,
         "type": "scatter",
         "x": {
          "bdata": "AAECAwQFBgcICQoLDA0ODxAREhMU",
          "dtype": "i1"
         },
         "xaxis": "x5",
         "y": {
          "bdata": "AAAAoI4pJkAAAACgjikmQAAAAKCOKSZAAAAAIMy/HEAAAAAgzL8cQAAAACDMvxxAAAAAIMy/HEAAAAAgzL8cQAAAAKBWbQlAAAAAoFZtCUAAAACgVm0JQAAAAKBWbQlAAAAAoFZtCUAAAACgVm0JQAAAAKBWbQlAAAAAoFZtCUAAAACgVm0JQAAAAMDlYPw/AAAAwOVg/D8AAADA5WD8PwAAAMDlYPw/",
          "dtype": "f8"
         },
         "yaxis": "y5"
        },
        {
         "line": {
          "color": "blue"
         },
         "mode": "lines",
         "name": "Train (Fold 6)",
         "showlegend": false,
         "type": "scatter",
         "x": {
          "bdata": "AAECAwQFBgcICQoLDA0ODxAREhMU",
          "dtype": "i1"
         },
         "xaxis": "x6",
         "y": {
          "bdata": "AAAAwH4LKEAAAABAMpUmQAAAAEAylSZAAAAA4OLVG0AAAADg4tUbQAAAAODi1RtAAAAA4OLVG0AAAADg4tUbQAAAAAC0wxpAAAAAALTDGkAAAAAAtMMaQAAAAAC0wxpAAAAAALTDGkAAAAAAtMMaQAAAAAC0wxpAAAAAALTDGkAAAAAAtMMaQAAAAAC0wxpAAAAAALTDGkAAAAAAtMMaQAAAAAC0wxpA",
          "dtype": "f8"
         },
         "yaxis": "y6"
        },
        {
         "line": {
          "color": "red"
         },
         "mode": "lines",
         "name": "Test (Fold 6)",
         "showlegend": false,
         "type": "scatter",
         "x": {
          "bdata": "AAECAwQFBgcICQoLDA0ODxAREhMU",
          "dtype": "i1"
         },
         "xaxis": "x6",
         "y": {
          "bdata": "AQAAQEjsPkAAAAAA1HlGQAAAAADUeUZAAAAAALR1NEAAAAAAtHU0QAAAAAC0dTRAAAAAALR1NEAAAAAAtHU0QP///z9VbDRA////P1VsNED///8/VWw0QP///z9VbDRA////P1VsNED///8/VWw0QP///z9VbDRA////P1VsNED///8/VWw0QP///z9VbDRA////P1VsNED///8/VWw0QP///z9VbDRA",
          "dtype": "f8"
         },
         "yaxis": "y6"
        },
        {
         "line": {
          "color": "blue"
         },
         "mode": "lines",
         "name": "Train (Fold 7)",
         "showlegend": false,
         "type": "scatter",
         "x": {
          "bdata": "AAECAwQFBgcICQoLDA0ODxAREhMU",
          "dtype": "i1"
         },
         "xaxis": "x7",
         "y": {
          "bdata": "AQAAQCicLUABAABAKJwtQAEAAEAonC1AAAAAQL4XI0AAAABAvhcjQAAAAEC+FyNAAAAAQL4XI0AAAABAvhcjQAAAAIA91iJAAAAAgD3WIkAAAACAPdYiQAAAAIA91iJAAAAAgD3WIkAAAACAPdYiQAAAAIA91iJAAAAAgD3WIkAAAACAPdYiQAAAAIA91iJAAAAAgD3WIkAAAACAPdYiQAAAAIA91iJA",
          "dtype": "f8"
         },
         "yaxis": "y7"
        },
        {
         "line": {
          "color": "red"
         },
         "mode": "lines",
         "name": "Test (Fold 7)",
         "showlegend": false,
         "type": "scatter",
         "x": {
          "bdata": "AAECAwQFBgcICQoLDA0ODxAREhMU",
          "dtype": "i1"
         },
         "xaxis": "x7",
         "y": {
          "bdata": "AAAAwMwFMkAAAADAzAUyQAAAAMDMBTJAAAAAQGRkG0AAAABAZGQbQAAAAEBkZBtAAAAAQGRkG0AAAABAZGQbQAAAAMDbRBdAAAAAwNtEF0AAAADA20QXQAAAAMDbRBdAAAAAwNtEF0AAAADA20QXQAAAAMDbRBdAAAAAwNtEF0AAAADA20QXQAAAAMDbRBdAAAAAwNtEF0AAAADA20QXQAAAAMDbRBdA",
          "dtype": "f8"
         },
         "yaxis": "y7"
        },
        {
         "line": {
          "color": "blue"
         },
         "mode": "lines",
         "name": "Train (Fold 8)",
         "showlegend": false,
         "type": "scatter",
         "x": {
          "bdata": "AAECAwQFBgcICQoLDA0ODxAREhMU",
          "dtype": "i1"
         },
         "xaxis": "x8",
         "y": {
          "bdata": "AAAAgJraLkAAAACAmtouQAAAAICa2i5AAAAAwAHvIkAAAADAAe8iQAAAAMAB7yJAAAAAwAHvIkAAAADAAe8iQAAAAEALBwxAAAAAQAsHDEAAAABACwcMQAAAACDZ7AtAAAAAINnsC0AAAADA6L4DQAAAAMDovgNAAAAAQPRTAkAAAABA9FMCQAAAAED0UwJAAAAAQPRTAkAAAABA9FMCQAAAACDlDwFA",
          "dtype": "f8"
         },
         "yaxis": "y8"
        },
        {
         "line": {
          "color": "red"
         },
         "mode": "lines",
         "name": "Test (Fold 8)",
         "showlegend": false,
         "type": "scatter",
         "x": {
          "bdata": "AAECAwQFBgcICQoLDA0ODxAREhMU",
          "dtype": "i1"
         },
         "xaxis": "x8",
         "y": {
          "bdata": "AAAAAL3rJ0AAAAAAvesnQAAAAAC96ydAAAAAAKdfH0AAAAAAp18fQAAAAACnXx9AAAAAAKdfH0AAAAAAp18fQAAAAKCOJg9AAAAAoI4mD0AAAACgjiYPQAAAAICzBw9AAAAAgLMHD0AAAACgdMLzPwAAAKB0wvM/AAAAwEfgAUAAAADAR+ABQAAAAMBH4AFAAAAAwEfgAUAAAADAR+ABQAAAAKC+EfE/",
          "dtype": "f8"
         },
         "yaxis": "y8"
        },
        {
         "line": {
          "color": "blue"
         },
         "mode": "lines",
         "name": "Train (Fold 9)",
         "showlegend": false,
         "type": "scatter",
         "x": {
          "bdata": "AAECAwQFBgcICQoLDA0ODxAREhMU",
          "dtype": "i1"
         },
         "xaxis": "x9",
         "y": {
          "bdata": "AAAAYNpiL0AAAABg2mIvQAAAAGDaYi9AAAAAYNh9I0AAAABg2H0jQAAAAGDYfSNAAAAAYNh9I0AAAABg2H0jQAAAACDgvwxAAAAAIOC/DEAAAAAg4L8MQAAAACDgvwxAAAAAIOC/DEAAAABg+rMFQAAAAGD6swVAAAAAYPqzBUABAAAgDzoFQAAAACAAQgBAAAAAIABCAEAAAAAgAEIAQAAAACAAQgBA",
          "dtype": "f8"
         },
         "yaxis": "y9"
        },
        {
         "line": {
          "color": "red"
         },
         "mode": "lines",
         "name": "Test (Fold 9)",
         "showlegend": false,
         "type": "scatter",
         "x": {
          "bdata": "AAECAwQFBgcICQoLDA0ODxAREhMU",
          "dtype": "i1"
         },
         "xaxis": "x9",
         "y": {
          "bdata": "AAAA4J6/H0AAAADgnr8fQAAAAOCevx9AAQAAQHjsCEABAABAeOwIQAEAAEB47AhAAQAAQHjsCEABAABAeOwIQAAAAADZ9QdAAAAAANn1B0AAAAAA2fUHQAAAAADZ9QdAAAAAANn1B0AAAAAAg1YCQAAAAACDVgJAAAAAAINWAkD/////9/oBQAAAAOCmA/g/AAAA4KYD+D8AAADgpgP4PwAAAOCmA/g/",
          "dtype": "f8"
         },
         "yaxis": "y9"
        },
        {
         "line": {
          "color": "blue"
         },
         "mode": "lines",
         "name": "Train (Fold 10)",
         "showlegend": false,
         "type": "scatter",
         "x": {
          "bdata": "AAECAwQFBgcICQoLDA0ODxAREhMU",
          "dtype": "i1"
         },
         "xaxis": "x10",
         "y": {
          "bdata": "AAAAYDoHL0AAAABgOgcvQAAAAGA6By9AAAAA4C/lIkAAAADgL+UiQAAAAOAv5SJAAAAA4C/lIkAAAADgL+UiQAAAACCf4QtAAAAAIJ/hC0AAAAAgn+ELQAAAACCf4QtAAAAAIJ/hC0AAAAAAj2wIQAAAAACPbAhAAAAAAI9sCEAAAAAAj2wIQAAAAACPbAhAAAAAANw3BkAAAAAASKMAQAAAAAAKYgBA",
          "dtype": "f8"
         },
         "yaxis": "y10"
        },
        {
         "line": {
          "color": "red"
         },
         "mode": "lines",
         "name": "Test (Fold 10)",
         "showlegend": false,
         "type": "scatter",
         "x": {
          "bdata": "AAECAwQFBgcICQoLDA0ODxAREhMU",
          "dtype": "i1"
         },
         "xaxis": "x10",
         "y": {
          "bdata": "AAAAALuhJUAAAAAAu6ElQAAAAAC7oSVAAAAAYLEgIEAAAABgsSAgQAAAAGCxICBAAAAAYLEgIEAAAABgsSAgQAAAAEBsMhBAAAAAQGwyEEAAAABAbDIQQAAAAEBsMhBAAAAAQGwyEEAAAABA4ozwPwAAAEDijPA/AAAAQOKM8D8AAABA4ozwPwAAAEDijPA/AAAAwBiX7D////8fJPTtPwAAAOAvxfE/",
          "dtype": "f8"
         },
         "yaxis": "y10"
        }
       ],
       "layout": {
        "annotations": [
         {
          "font": {
           "size": 16
          },
          "showarrow": false,
          "text": "Fold 1",
          "x": 0.14444444444444446,
          "xanchor": "center",
          "xref": "paper",
          "y": 1,
          "yanchor": "bottom",
          "yref": "paper"
         },
         {
          "font": {
           "size": 16
          },
          "showarrow": false,
          "text": "Fold 2",
          "x": 0.5,
          "xanchor": "center",
          "xref": "paper",
          "y": 1,
          "yanchor": "bottom",
          "yref": "paper"
         },
         {
          "font": {
           "size": 16
          },
          "showarrow": false,
          "text": "Fold 3",
          "x": 0.8555555555555556,
          "xanchor": "center",
          "xref": "paper",
          "y": 1,
          "yanchor": "bottom",
          "yref": "paper"
         },
         {
          "font": {
           "size": 16
          },
          "showarrow": false,
          "text": "Fold 4",
          "x": 0.14444444444444446,
          "xanchor": "center",
          "xref": "paper",
          "y": 0.71875,
          "yanchor": "bottom",
          "yref": "paper"
         },
         {
          "font": {
           "size": 16
          },
          "showarrow": false,
          "text": "Fold 5",
          "x": 0.5,
          "xanchor": "center",
          "xref": "paper",
          "y": 0.71875,
          "yanchor": "bottom",
          "yref": "paper"
         },
         {
          "font": {
           "size": 16
          },
          "showarrow": false,
          "text": "Fold 6",
          "x": 0.8555555555555556,
          "xanchor": "center",
          "xref": "paper",
          "y": 0.71875,
          "yanchor": "bottom",
          "yref": "paper"
         },
         {
          "font": {
           "size": 16
          },
          "showarrow": false,
          "text": "Fold 7",
          "x": 0.14444444444444446,
          "xanchor": "center",
          "xref": "paper",
          "y": 0.4375,
          "yanchor": "bottom",
          "yref": "paper"
         },
         {
          "font": {
           "size": 16
          },
          "showarrow": false,
          "text": "Fold 8",
          "x": 0.5,
          "xanchor": "center",
          "xref": "paper",
          "y": 0.4375,
          "yanchor": "bottom",
          "yref": "paper"
         },
         {
          "font": {
           "size": 16
          },
          "showarrow": false,
          "text": "Fold 9",
          "x": 0.8555555555555556,
          "xanchor": "center",
          "xref": "paper",
          "y": 0.4375,
          "yanchor": "bottom",
          "yref": "paper"
         },
         {
          "font": {
           "size": 16
          },
          "showarrow": false,
          "text": "Fold 10",
          "x": 0.14444444444444446,
          "xanchor": "center",
          "xref": "paper",
          "y": 0.15625,
          "yanchor": "bottom",
          "yref": "paper"
         }
        ],
        "height": 1400,
        "margin": {
         "t": 50
        },
        "template": {
         "data": {
          "bar": [
           {
            "error_x": {
             "color": "#2a3f5f"
            },
            "error_y": {
             "color": "#2a3f5f"
            },
            "marker": {
             "line": {
              "color": "#E5ECF6",
              "width": 0.5
             },
             "pattern": {
              "fillmode": "overlay",
              "size": 10,
              "solidity": 0.2
             }
            },
            "type": "bar"
           }
          ],
          "barpolar": [
           {
            "marker": {
             "line": {
              "color": "#E5ECF6",
              "width": 0.5
             },
             "pattern": {
              "fillmode": "overlay",
              "size": 10,
              "solidity": 0.2
             }
            },
            "type": "barpolar"
           }
          ],
          "carpet": [
           {
            "aaxis": {
             "endlinecolor": "#2a3f5f",
             "gridcolor": "white",
             "linecolor": "white",
             "minorgridcolor": "white",
             "startlinecolor": "#2a3f5f"
            },
            "baxis": {
             "endlinecolor": "#2a3f5f",
             "gridcolor": "white",
             "linecolor": "white",
             "minorgridcolor": "white",
             "startlinecolor": "#2a3f5f"
            },
            "type": "carpet"
           }
          ],
          "choropleth": [
           {
            "colorbar": {
             "outlinewidth": 0,
             "ticks": ""
            },
            "type": "choropleth"
           }
          ],
          "contour": [
           {
            "colorbar": {
             "outlinewidth": 0,
             "ticks": ""
            },
            "colorscale": [
             [
              0,
              "#0d0887"
             ],
             [
              0.1111111111111111,
              "#46039f"
             ],
             [
              0.2222222222222222,
              "#7201a8"
             ],
             [
              0.3333333333333333,
              "#9c179e"
             ],
             [
              0.4444444444444444,
              "#bd3786"
             ],
             [
              0.5555555555555556,
              "#d8576b"
             ],
             [
              0.6666666666666666,
              "#ed7953"
             ],
             [
              0.7777777777777778,
              "#fb9f3a"
             ],
             [
              0.8888888888888888,
              "#fdca26"
             ],
             [
              1,
              "#f0f921"
             ]
            ],
            "type": "contour"
           }
          ],
          "contourcarpet": [
           {
            "colorbar": {
             "outlinewidth": 0,
             "ticks": ""
            },
            "type": "contourcarpet"
           }
          ],
          "heatmap": [
           {
            "colorbar": {
             "outlinewidth": 0,
             "ticks": ""
            },
            "colorscale": [
             [
              0,
              "#0d0887"
             ],
             [
              0.1111111111111111,
              "#46039f"
             ],
             [
              0.2222222222222222,
              "#7201a8"
             ],
             [
              0.3333333333333333,
              "#9c179e"
             ],
             [
              0.4444444444444444,
              "#bd3786"
             ],
             [
              0.5555555555555556,
              "#d8576b"
             ],
             [
              0.6666666666666666,
              "#ed7953"
             ],
             [
              0.7777777777777778,
              "#fb9f3a"
             ],
             [
              0.8888888888888888,
              "#fdca26"
             ],
             [
              1,
              "#f0f921"
             ]
            ],
            "type": "heatmap"
           }
          ],
          "histogram": [
           {
            "marker": {
             "pattern": {
              "fillmode": "overlay",
              "size": 10,
              "solidity": 0.2
             }
            },
            "type": "histogram"
           }
          ],
          "histogram2d": [
           {
            "colorbar": {
             "outlinewidth": 0,
             "ticks": ""
            },
            "colorscale": [
             [
              0,
              "#0d0887"
             ],
             [
              0.1111111111111111,
              "#46039f"
             ],
             [
              0.2222222222222222,
              "#7201a8"
             ],
             [
              0.3333333333333333,
              "#9c179e"
             ],
             [
              0.4444444444444444,
              "#bd3786"
             ],
             [
              0.5555555555555556,
              "#d8576b"
             ],
             [
              0.6666666666666666,
              "#ed7953"
             ],
             [
              0.7777777777777778,
              "#fb9f3a"
             ],
             [
              0.8888888888888888,
              "#fdca26"
             ],
             [
              1,
              "#f0f921"
             ]
            ],
            "type": "histogram2d"
           }
          ],
          "histogram2dcontour": [
           {
            "colorbar": {
             "outlinewidth": 0,
             "ticks": ""
            },
            "colorscale": [
             [
              0,
              "#0d0887"
             ],
             [
              0.1111111111111111,
              "#46039f"
             ],
             [
              0.2222222222222222,
              "#7201a8"
             ],
             [
              0.3333333333333333,
              "#9c179e"
             ],
             [
              0.4444444444444444,
              "#bd3786"
             ],
             [
              0.5555555555555556,
              "#d8576b"
             ],
             [
              0.6666666666666666,
              "#ed7953"
             ],
             [
              0.7777777777777778,
              "#fb9f3a"
             ],
             [
              0.8888888888888888,
              "#fdca26"
             ],
             [
              1,
              "#f0f921"
             ]
            ],
            "type": "histogram2dcontour"
           }
          ],
          "mesh3d": [
           {
            "colorbar": {
             "outlinewidth": 0,
             "ticks": ""
            },
            "type": "mesh3d"
           }
          ],
          "parcoords": [
           {
            "line": {
             "colorbar": {
              "outlinewidth": 0,
              "ticks": ""
             }
            },
            "type": "parcoords"
           }
          ],
          "pie": [
           {
            "automargin": true,
            "type": "pie"
           }
          ],
          "scatter": [
           {
            "fillpattern": {
             "fillmode": "overlay",
             "size": 10,
             "solidity": 0.2
            },
            "type": "scatter"
           }
          ],
          "scatter3d": [
           {
            "line": {
             "colorbar": {
              "outlinewidth": 0,
              "ticks": ""
             }
            },
            "marker": {
             "colorbar": {
              "outlinewidth": 0,
              "ticks": ""
             }
            },
            "type": "scatter3d"
           }
          ],
          "scattercarpet": [
           {
            "marker": {
             "colorbar": {
              "outlinewidth": 0,
              "ticks": ""
             }
            },
            "type": "scattercarpet"
           }
          ],
          "scattergeo": [
           {
            "marker": {
             "colorbar": {
              "outlinewidth": 0,
              "ticks": ""
             }
            },
            "type": "scattergeo"
           }
          ],
          "scattergl": [
           {
            "marker": {
             "colorbar": {
              "outlinewidth": 0,
              "ticks": ""
             }
            },
            "type": "scattergl"
           }
          ],
          "scattermap": [
           {
            "marker": {
             "colorbar": {
              "outlinewidth": 0,
              "ticks": ""
             }
            },
            "type": "scattermap"
           }
          ],
          "scattermapbox": [
           {
            "marker": {
             "colorbar": {
              "outlinewidth": 0,
              "ticks": ""
             }
            },
            "type": "scattermapbox"
           }
          ],
          "scatterpolar": [
           {
            "marker": {
             "colorbar": {
              "outlinewidth": 0,
              "ticks": ""
             }
            },
            "type": "scatterpolar"
           }
          ],
          "scatterpolargl": [
           {
            "marker": {
             "colorbar": {
              "outlinewidth": 0,
              "ticks": ""
             }
            },
            "type": "scatterpolargl"
           }
          ],
          "scatterternary": [
           {
            "marker": {
             "colorbar": {
              "outlinewidth": 0,
              "ticks": ""
             }
            },
            "type": "scatterternary"
           }
          ],
          "surface": [
           {
            "colorbar": {
             "outlinewidth": 0,
             "ticks": ""
            },
            "colorscale": [
             [
              0,
              "#0d0887"
             ],
             [
              0.1111111111111111,
              "#46039f"
             ],
             [
              0.2222222222222222,
              "#7201a8"
             ],
             [
              0.3333333333333333,
              "#9c179e"
             ],
             [
              0.4444444444444444,
              "#bd3786"
             ],
             [
              0.5555555555555556,
              "#d8576b"
             ],
             [
              0.6666666666666666,
              "#ed7953"
             ],
             [
              0.7777777777777778,
              "#fb9f3a"
             ],
             [
              0.8888888888888888,
              "#fdca26"
             ],
             [
              1,
              "#f0f921"
             ]
            ],
            "type": "surface"
           }
          ],
          "table": [
           {
            "cells": {
             "fill": {
              "color": "#EBF0F8"
             },
             "line": {
              "color": "white"
             }
            },
            "header": {
             "fill": {
              "color": "#C8D4E3"
             },
             "line": {
              "color": "white"
             }
            },
            "type": "table"
           }
          ]
         },
         "layout": {
          "annotationdefaults": {
           "arrowcolor": "#2a3f5f",
           "arrowhead": 0,
           "arrowwidth": 1
          },
          "autotypenumbers": "strict",
          "coloraxis": {
           "colorbar": {
            "outlinewidth": 0,
            "ticks": ""
           }
          },
          "colorscale": {
           "diverging": [
            [
             0,
             "#8e0152"
            ],
            [
             0.1,
             "#c51b7d"
            ],
            [
             0.2,
             "#de77ae"
            ],
            [
             0.3,
             "#f1b6da"
            ],
            [
             0.4,
             "#fde0ef"
            ],
            [
             0.5,
             "#f7f7f7"
            ],
            [
             0.6,
             "#e6f5d0"
            ],
            [
             0.7,
             "#b8e186"
            ],
            [
             0.8,
             "#7fbc41"
            ],
            [
             0.9,
             "#4d9221"
            ],
            [
             1,
             "#276419"
            ]
           ],
           "sequential": [
            [
             0,
             "#0d0887"
            ],
            [
             0.1111111111111111,
             "#46039f"
            ],
            [
             0.2222222222222222,
             "#7201a8"
            ],
            [
             0.3333333333333333,
             "#9c179e"
            ],
            [
             0.4444444444444444,
             "#bd3786"
            ],
            [
             0.5555555555555556,
             "#d8576b"
            ],
            [
             0.6666666666666666,
             "#ed7953"
            ],
            [
             0.7777777777777778,
             "#fb9f3a"
            ],
            [
             0.8888888888888888,
             "#fdca26"
            ],
            [
             1,
             "#f0f921"
            ]
           ],
           "sequentialminus": [
            [
             0,
             "#0d0887"
            ],
            [
             0.1111111111111111,
             "#46039f"
            ],
            [
             0.2222222222222222,
             "#7201a8"
            ],
            [
             0.3333333333333333,
             "#9c179e"
            ],
            [
             0.4444444444444444,
             "#bd3786"
            ],
            [
             0.5555555555555556,
             "#d8576b"
            ],
            [
             0.6666666666666666,
             "#ed7953"
            ],
            [
             0.7777777777777778,
             "#fb9f3a"
            ],
            [
             0.8888888888888888,
             "#fdca26"
            ],
            [
             1,
             "#f0f921"
            ]
           ]
          },
          "colorway": [
           "#636efa",
           "#EF553B",
           "#00cc96",
           "#ab63fa",
           "#FFA15A",
           "#19d3f3",
           "#FF6692",
           "#B6E880",
           "#FF97FF",
           "#FECB52"
          ],
          "font": {
           "color": "#2a3f5f"
          },
          "geo": {
           "bgcolor": "white",
           "lakecolor": "white",
           "landcolor": "#E5ECF6",
           "showlakes": true,
           "showland": true,
           "subunitcolor": "white"
          },
          "hoverlabel": {
           "align": "left"
          },
          "hovermode": "closest",
          "mapbox": {
           "style": "light"
          },
          "paper_bgcolor": "white",
          "plot_bgcolor": "#E5ECF6",
          "polar": {
           "angularaxis": {
            "gridcolor": "white",
            "linecolor": "white",
            "ticks": ""
           },
           "bgcolor": "#E5ECF6",
           "radialaxis": {
            "gridcolor": "white",
            "linecolor": "white",
            "ticks": ""
           }
          },
          "scene": {
           "xaxis": {
            "backgroundcolor": "#E5ECF6",
            "gridcolor": "white",
            "gridwidth": 2,
            "linecolor": "white",
            "showbackground": true,
            "ticks": "",
            "zerolinecolor": "white"
           },
           "yaxis": {
            "backgroundcolor": "#E5ECF6",
            "gridcolor": "white",
            "gridwidth": 2,
            "linecolor": "white",
            "showbackground": true,
            "ticks": "",
            "zerolinecolor": "white"
           },
           "zaxis": {
            "backgroundcolor": "#E5ECF6",
            "gridcolor": "white",
            "gridwidth": 2,
            "linecolor": "white",
            "showbackground": true,
            "ticks": "",
            "zerolinecolor": "white"
           }
          },
          "shapedefaults": {
           "line": {
            "color": "#2a3f5f"
           }
          },
          "ternary": {
           "aaxis": {
            "gridcolor": "white",
            "linecolor": "white",
            "ticks": ""
           },
           "baxis": {
            "gridcolor": "white",
            "linecolor": "white",
            "ticks": ""
           },
           "bgcolor": "#E5ECF6",
           "caxis": {
            "gridcolor": "white",
            "linecolor": "white",
            "ticks": ""
           }
          },
          "title": {
           "x": 0.05
          },
          "xaxis": {
           "automargin": true,
           "gridcolor": "white",
           "linecolor": "white",
           "ticks": "",
           "title": {
            "standoff": 15
           },
           "zerolinecolor": "white",
           "zerolinewidth": 2
          },
          "yaxis": {
           "automargin": true,
           "gridcolor": "white",
           "linecolor": "white",
           "ticks": "",
           "title": {
            "standoff": 15
           },
           "zerolinecolor": "white",
           "zerolinewidth": 2
          }
         }
        },
        "title": {
         "text": "SLIM – Train vs Test Fitness (sustavianfeed)"
        },
        "width": 1000,
        "xaxis": {
         "anchor": "y",
         "domain": [
          0,
          0.2888888888888889
         ],
         "title": {
          "text": "Generation"
         }
        },
        "xaxis10": {
         "anchor": "y10",
         "domain": [
          0,
          0.2888888888888889
         ],
         "title": {
          "text": "Generation"
         }
        },
        "xaxis11": {
         "anchor": "y11",
         "domain": [
          0.35555555555555557,
          0.6444444444444445
         ]
        },
        "xaxis12": {
         "anchor": "y12",
         "domain": [
          0.7111111111111111,
          1
         ]
        },
        "xaxis2": {
         "anchor": "y2",
         "domain": [
          0.35555555555555557,
          0.6444444444444445
         ],
         "title": {
          "text": "Generation"
         }
        },
        "xaxis3": {
         "anchor": "y3",
         "domain": [
          0.7111111111111111,
          1
         ],
         "title": {
          "text": "Generation"
         }
        },
        "xaxis4": {
         "anchor": "y4",
         "domain": [
          0,
          0.2888888888888889
         ],
         "title": {
          "text": "Generation"
         }
        },
        "xaxis5": {
         "anchor": "y5",
         "domain": [
          0.35555555555555557,
          0.6444444444444445
         ],
         "title": {
          "text": "Generation"
         }
        },
        "xaxis6": {
         "anchor": "y6",
         "domain": [
          0.7111111111111111,
          1
         ],
         "title": {
          "text": "Generation"
         }
        },
        "xaxis7": {
         "anchor": "y7",
         "domain": [
          0,
          0.2888888888888889
         ],
         "title": {
          "text": "Generation"
         }
        },
        "xaxis8": {
         "anchor": "y8",
         "domain": [
          0.35555555555555557,
          0.6444444444444445
         ],
         "title": {
          "text": "Generation"
         }
        },
        "xaxis9": {
         "anchor": "y9",
         "domain": [
          0.7111111111111111,
          1
         ],
         "title": {
          "text": "Generation"
         }
        },
        "yaxis": {
         "anchor": "x",
         "domain": [
          0.84375,
          1
         ],
         "title": {
          "text": "Fitness"
         }
        },
        "yaxis10": {
         "anchor": "x10",
         "domain": [
          0,
          0.15625
         ],
         "title": {
          "text": "Fitness"
         }
        },
        "yaxis11": {
         "anchor": "x11",
         "domain": [
          0,
          0.15625
         ]
        },
        "yaxis12": {
         "anchor": "x12",
         "domain": [
          0,
          0.15625
         ]
        },
        "yaxis2": {
         "anchor": "x2",
         "domain": [
          0.84375,
          1
         ],
         "title": {
          "text": "Fitness"
         }
        },
        "yaxis3": {
         "anchor": "x3",
         "domain": [
          0.84375,
          1
         ],
         "title": {
          "text": "Fitness"
         }
        },
        "yaxis4": {
         "anchor": "x4",
         "domain": [
          0.5625,
          0.71875
         ],
         "title": {
          "text": "Fitness"
         }
        },
        "yaxis5": {
         "anchor": "x5",
         "domain": [
          0.5625,
          0.71875
         ],
         "title": {
          "text": "Fitness"
         }
        },
        "yaxis6": {
         "anchor": "x6",
         "domain": [
          0.5625,
          0.71875
         ],
         "title": {
          "text": "Fitness"
         }
        },
        "yaxis7": {
         "anchor": "x7",
         "domain": [
          0.28125,
          0.4375
         ],
         "title": {
          "text": "Fitness"
         }
        },
        "yaxis8": {
         "anchor": "x8",
         "domain": [
          0.28125,
          0.4375
         ],
         "title": {
          "text": "Fitness"
         }
        },
        "yaxis9": {
         "anchor": "x9",
         "domain": [
          0.28125,
          0.4375
         ],
         "title": {
          "text": "Fitness"
         }
        }
       }
      }
     },
     "metadata": {},
     "output_type": "display_data"
    }
   ],
   "source": [
    "plot_SLIM_fitness_logs('SLIM', n_outer_cv, dataset_name='sustavianfeed')"
   ]
  },
  {
   "cell_type": "code",
   "execution_count": 16,
   "id": "166d9825",
   "metadata": {},
   "outputs": [
    {
     "data": {
      "application/vnd.plotly.v1+json": {
       "config": {
        "plotlyServerURL": "https://plot.ly"
       },
       "data": [
        {
         "line": {
          "color": "rgba(0,0,255,0)"
         },
         "showlegend": false,
         "type": "scatter",
         "x": [
          0,
          1,
          2,
          3,
          4,
          5,
          6,
          7,
          8,
          9,
          10,
          11,
          12,
          13,
          14,
          15,
          16,
          17,
          18,
          19,
          20
         ],
         "y": {
          "bdata": "6Qo5fkInMEBZT+bdWEswQFlP5t1YSzBASYwbxHAoJEBJjBvEcCgkQEmMG8RwKCRA9LbsmwwZJUD0tuybDBklQLKkvsL3exlAsqS+wvd7GUA3s93IplsZQGPoklQ0WhlAY+iSVDRaGUA0FPVxXIMYQDQU9XFcgxhArpT09AppGEClj4CbHBAYQKTaL55/lRdAemb49GSAF0CxF1f481cXQOiEHrqMHRdA",
          "dtype": "f8"
         }
        },
        {
         "fill": "tonexty",
         "fillcolor": "rgba(0,0,180,0.2)",
         "line": {
          "color": "rgba(0,0,255,0)"
         },
         "name": "Train Std Dev",
         "type": "scatter",
         "x": [
          0,
          1,
          2,
          3,
          4,
          5,
          6,
          7,
          8,
          9,
          10,
          11,
          12,
          13,
          14,
          15,
          16,
          17,
          18,
          19,
          20
         ],
         "y": {
          "bdata": "6Qo5fkInMEBZT+bdWEswQFlP5t1YSzBASYwbxHAoJEBJjBvEcCgkQEmMG8RwKCRA9LbsmwwZJUD0tuybDBklQLKkvsL3exlAsqS+wvd7GUA3s93IplsZQGPoklQ0WhlAY+iSVDRaGUA0FPVxXIMYQDQU9XFcgxhArpT09AppGEClj4CbHBAYQKTaL55/lRdAemb49GSAF0CxF1f481cXQOiEHrqMHRdA",
          "dtype": "f8"
         }
        },
        {
         "line": {
          "color": "blue"
         },
         "name": "Train mean",
         "type": "scatter",
         "x": [
          0,
          1,
          2,
          3,
          4,
          5,
          6,
          7,
          8,
          9,
          10,
          11,
          12,
          13,
          14,
          15,
          16,
          17,
          18,
          19,
          20
         ],
         "y": {
          "bdata": "ZmZm9hQyLkCamZnppgwuQJqZmemmDC5AzczMRGiWIkDNzMxEaJYiQM3MzERoliJAzczMzMJrIUDNzMzMwmshQM3MzBxV7hFAzczMHFXuEUBmZmZu/6ERQM3MzDxfnxFAzczMPF+fEUDNzMxMLpIPQM3MzEwukg9AZmZmprHPDkCamZlpZ8MNQDMzM4MZOQxAZmZmNqEADEDNzMycxXELQJqZmUl7vApA",
          "dtype": "f8"
         }
        },
        {
         "line": {
          "color": "rgba(255,0,0,0)"
         },
         "showlegend": false,
         "type": "scatter",
         "x": [
          0,
          1,
          2,
          3,
          4,
          5,
          6,
          7,
          8,
          9,
          10,
          11,
          12,
          13,
          14,
          15,
          16,
          17,
          18,
          19,
          20
         ],
         "y": {
          "bdata": "P+8Dmt7/M0DXm5I8UV45QNebkjxRXjlAcJb1xhUKKUBwlvXGFQopQHCW9cYVCilAeFOApDi9KEB4U4CkOL0oQKbHTZRqkSRApsdNlGqRJEAZiGVO3Y8kQEU8MkDJjiRARTwyQMmOJEAukPn2LHsjQC6Q+fYseyNAtlkHpsV2I0DqfgX8uKMjQF4MXrqZqiNAehF2+aWnI0CCFU8rhqgjQNEU9ea+XiNA",
          "dtype": "f8"
         }
        },
        {
         "fill": "tonexty",
         "fillcolor": "rgba(255,0,0,0.2)",
         "line": {
          "color": "rgba(255,0,0,0)"
         },
         "name": "Test Std Dev",
         "type": "scatter",
         "x": [
          0,
          1,
          2,
          3,
          4,
          5,
          6,
          7,
          8,
          9,
          10,
          11,
          12,
          13,
          14,
          15,
          16,
          17,
          18,
          19,
          20
         ],
         "y": {
          "bdata": "nNyJ0fISHUCkkLWtQdISQKSQta1B0hJAEnP2MNLuDUASc/Yw0u4NQBJz9jDS7g1AhhhlZMEiBkCGGGVkwSIGQACDC60ztMa/AIMLrTO0xr/An/sySo/Iv4BEwj8ODsm/gETCPw4Oyb+ktP/qQWL2v6S0/+pBYva/SGfU6QTg9r/skMUZ+pn0vyCWIyb63/S/OPIWstM79b/keEW37R/1vyBAQrGGXfm/",
          "dtype": "f8"
         }
        },
        {
         "line": {
          "color": "red"
         },
         "name": "Test mean",
         "type": "scatter",
         "x": [
          0,
          1,
          2,
          3,
          4,
          5,
          6,
          7,
          8,
          9,
          10,
          11,
          12,
          13,
          14,
          15,
          16,
          17,
          18,
          19,
          20
         ],
         "y": {
          "bdata": "ZmZmTptEK0AAAACo4RIuQAAAAKjhEi5AmpmZKeVCIECamZkp5UIgQJqZmSnlQiBAmpmZ/ehFHkCamZn96EUeQJqZmcWZNhRAmpmZxZk2FECamZkloC0UQDMzMweRKhRAMzMzB5EqFECamZm55K4QQJqZmbnkrhBAzczMCMWaEEDNzMy4eRARQJqZmXWaDhFAMzMzgysAEUBmZmZ0iAQRQM3MzBAOMxBA",
          "dtype": "f8"
         }
        }
       ],
       "layout": {
        "height": 400,
        "template": {
         "data": {
          "bar": [
           {
            "error_x": {
             "color": "#2a3f5f"
            },
            "error_y": {
             "color": "#2a3f5f"
            },
            "marker": {
             "line": {
              "color": "#E5ECF6",
              "width": 0.5
             },
             "pattern": {
              "fillmode": "overlay",
              "size": 10,
              "solidity": 0.2
             }
            },
            "type": "bar"
           }
          ],
          "barpolar": [
           {
            "marker": {
             "line": {
              "color": "#E5ECF6",
              "width": 0.5
             },
             "pattern": {
              "fillmode": "overlay",
              "size": 10,
              "solidity": 0.2
             }
            },
            "type": "barpolar"
           }
          ],
          "carpet": [
           {
            "aaxis": {
             "endlinecolor": "#2a3f5f",
             "gridcolor": "white",
             "linecolor": "white",
             "minorgridcolor": "white",
             "startlinecolor": "#2a3f5f"
            },
            "baxis": {
             "endlinecolor": "#2a3f5f",
             "gridcolor": "white",
             "linecolor": "white",
             "minorgridcolor": "white",
             "startlinecolor": "#2a3f5f"
            },
            "type": "carpet"
           }
          ],
          "choropleth": [
           {
            "colorbar": {
             "outlinewidth": 0,
             "ticks": ""
            },
            "type": "choropleth"
           }
          ],
          "contour": [
           {
            "colorbar": {
             "outlinewidth": 0,
             "ticks": ""
            },
            "colorscale": [
             [
              0,
              "#0d0887"
             ],
             [
              0.1111111111111111,
              "#46039f"
             ],
             [
              0.2222222222222222,
              "#7201a8"
             ],
             [
              0.3333333333333333,
              "#9c179e"
             ],
             [
              0.4444444444444444,
              "#bd3786"
             ],
             [
              0.5555555555555556,
              "#d8576b"
             ],
             [
              0.6666666666666666,
              "#ed7953"
             ],
             [
              0.7777777777777778,
              "#fb9f3a"
             ],
             [
              0.8888888888888888,
              "#fdca26"
             ],
             [
              1,
              "#f0f921"
             ]
            ],
            "type": "contour"
           }
          ],
          "contourcarpet": [
           {
            "colorbar": {
             "outlinewidth": 0,
             "ticks": ""
            },
            "type": "contourcarpet"
           }
          ],
          "heatmap": [
           {
            "colorbar": {
             "outlinewidth": 0,
             "ticks": ""
            },
            "colorscale": [
             [
              0,
              "#0d0887"
             ],
             [
              0.1111111111111111,
              "#46039f"
             ],
             [
              0.2222222222222222,
              "#7201a8"
             ],
             [
              0.3333333333333333,
              "#9c179e"
             ],
             [
              0.4444444444444444,
              "#bd3786"
             ],
             [
              0.5555555555555556,
              "#d8576b"
             ],
             [
              0.6666666666666666,
              "#ed7953"
             ],
             [
              0.7777777777777778,
              "#fb9f3a"
             ],
             [
              0.8888888888888888,
              "#fdca26"
             ],
             [
              1,
              "#f0f921"
             ]
            ],
            "type": "heatmap"
           }
          ],
          "histogram": [
           {
            "marker": {
             "pattern": {
              "fillmode": "overlay",
              "size": 10,
              "solidity": 0.2
             }
            },
            "type": "histogram"
           }
          ],
          "histogram2d": [
           {
            "colorbar": {
             "outlinewidth": 0,
             "ticks": ""
            },
            "colorscale": [
             [
              0,
              "#0d0887"
             ],
             [
              0.1111111111111111,
              "#46039f"
             ],
             [
              0.2222222222222222,
              "#7201a8"
             ],
             [
              0.3333333333333333,
              "#9c179e"
             ],
             [
              0.4444444444444444,
              "#bd3786"
             ],
             [
              0.5555555555555556,
              "#d8576b"
             ],
             [
              0.6666666666666666,
              "#ed7953"
             ],
             [
              0.7777777777777778,
              "#fb9f3a"
             ],
             [
              0.8888888888888888,
              "#fdca26"
             ],
             [
              1,
              "#f0f921"
             ]
            ],
            "type": "histogram2d"
           }
          ],
          "histogram2dcontour": [
           {
            "colorbar": {
             "outlinewidth": 0,
             "ticks": ""
            },
            "colorscale": [
             [
              0,
              "#0d0887"
             ],
             [
              0.1111111111111111,
              "#46039f"
             ],
             [
              0.2222222222222222,
              "#7201a8"
             ],
             [
              0.3333333333333333,
              "#9c179e"
             ],
             [
              0.4444444444444444,
              "#bd3786"
             ],
             [
              0.5555555555555556,
              "#d8576b"
             ],
             [
              0.6666666666666666,
              "#ed7953"
             ],
             [
              0.7777777777777778,
              "#fb9f3a"
             ],
             [
              0.8888888888888888,
              "#fdca26"
             ],
             [
              1,
              "#f0f921"
             ]
            ],
            "type": "histogram2dcontour"
           }
          ],
          "mesh3d": [
           {
            "colorbar": {
             "outlinewidth": 0,
             "ticks": ""
            },
            "type": "mesh3d"
           }
          ],
          "parcoords": [
           {
            "line": {
             "colorbar": {
              "outlinewidth": 0,
              "ticks": ""
             }
            },
            "type": "parcoords"
           }
          ],
          "pie": [
           {
            "automargin": true,
            "type": "pie"
           }
          ],
          "scatter": [
           {
            "fillpattern": {
             "fillmode": "overlay",
             "size": 10,
             "solidity": 0.2
            },
            "type": "scatter"
           }
          ],
          "scatter3d": [
           {
            "line": {
             "colorbar": {
              "outlinewidth": 0,
              "ticks": ""
             }
            },
            "marker": {
             "colorbar": {
              "outlinewidth": 0,
              "ticks": ""
             }
            },
            "type": "scatter3d"
           }
          ],
          "scattercarpet": [
           {
            "marker": {
             "colorbar": {
              "outlinewidth": 0,
              "ticks": ""
             }
            },
            "type": "scattercarpet"
           }
          ],
          "scattergeo": [
           {
            "marker": {
             "colorbar": {
              "outlinewidth": 0,
              "ticks": ""
             }
            },
            "type": "scattergeo"
           }
          ],
          "scattergl": [
           {
            "marker": {
             "colorbar": {
              "outlinewidth": 0,
              "ticks": ""
             }
            },
            "type": "scattergl"
           }
          ],
          "scattermap": [
           {
            "marker": {
             "colorbar": {
              "outlinewidth": 0,
              "ticks": ""
             }
            },
            "type": "scattermap"
           }
          ],
          "scattermapbox": [
           {
            "marker": {
             "colorbar": {
              "outlinewidth": 0,
              "ticks": ""
             }
            },
            "type": "scattermapbox"
           }
          ],
          "scatterpolar": [
           {
            "marker": {
             "colorbar": {
              "outlinewidth": 0,
              "ticks": ""
             }
            },
            "type": "scatterpolar"
           }
          ],
          "scatterpolargl": [
           {
            "marker": {
             "colorbar": {
              "outlinewidth": 0,
              "ticks": ""
             }
            },
            "type": "scatterpolargl"
           }
          ],
          "scatterternary": [
           {
            "marker": {
             "colorbar": {
              "outlinewidth": 0,
              "ticks": ""
             }
            },
            "type": "scatterternary"
           }
          ],
          "surface": [
           {
            "colorbar": {
             "outlinewidth": 0,
             "ticks": ""
            },
            "colorscale": [
             [
              0,
              "#0d0887"
             ],
             [
              0.1111111111111111,
              "#46039f"
             ],
             [
              0.2222222222222222,
              "#7201a8"
             ],
             [
              0.3333333333333333,
              "#9c179e"
             ],
             [
              0.4444444444444444,
              "#bd3786"
             ],
             [
              0.5555555555555556,
              "#d8576b"
             ],
             [
              0.6666666666666666,
              "#ed7953"
             ],
             [
              0.7777777777777778,
              "#fb9f3a"
             ],
             [
              0.8888888888888888,
              "#fdca26"
             ],
             [
              1,
              "#f0f921"
             ]
            ],
            "type": "surface"
           }
          ],
          "table": [
           {
            "cells": {
             "fill": {
              "color": "#EBF0F8"
             },
             "line": {
              "color": "white"
             }
            },
            "header": {
             "fill": {
              "color": "#C8D4E3"
             },
             "line": {
              "color": "white"
             }
            },
            "type": "table"
           }
          ]
         },
         "layout": {
          "annotationdefaults": {
           "arrowcolor": "#2a3f5f",
           "arrowhead": 0,
           "arrowwidth": 1
          },
          "autotypenumbers": "strict",
          "coloraxis": {
           "colorbar": {
            "outlinewidth": 0,
            "ticks": ""
           }
          },
          "colorscale": {
           "diverging": [
            [
             0,
             "#8e0152"
            ],
            [
             0.1,
             "#c51b7d"
            ],
            [
             0.2,
             "#de77ae"
            ],
            [
             0.3,
             "#f1b6da"
            ],
            [
             0.4,
             "#fde0ef"
            ],
            [
             0.5,
             "#f7f7f7"
            ],
            [
             0.6,
             "#e6f5d0"
            ],
            [
             0.7,
             "#b8e186"
            ],
            [
             0.8,
             "#7fbc41"
            ],
            [
             0.9,
             "#4d9221"
            ],
            [
             1,
             "#276419"
            ]
           ],
           "sequential": [
            [
             0,
             "#0d0887"
            ],
            [
             0.1111111111111111,
             "#46039f"
            ],
            [
             0.2222222222222222,
             "#7201a8"
            ],
            [
             0.3333333333333333,
             "#9c179e"
            ],
            [
             0.4444444444444444,
             "#bd3786"
            ],
            [
             0.5555555555555556,
             "#d8576b"
            ],
            [
             0.6666666666666666,
             "#ed7953"
            ],
            [
             0.7777777777777778,
             "#fb9f3a"
            ],
            [
             0.8888888888888888,
             "#fdca26"
            ],
            [
             1,
             "#f0f921"
            ]
           ],
           "sequentialminus": [
            [
             0,
             "#0d0887"
            ],
            [
             0.1111111111111111,
             "#46039f"
            ],
            [
             0.2222222222222222,
             "#7201a8"
            ],
            [
             0.3333333333333333,
             "#9c179e"
            ],
            [
             0.4444444444444444,
             "#bd3786"
            ],
            [
             0.5555555555555556,
             "#d8576b"
            ],
            [
             0.6666666666666666,
             "#ed7953"
            ],
            [
             0.7777777777777778,
             "#fb9f3a"
            ],
            [
             0.8888888888888888,
             "#fdca26"
            ],
            [
             1,
             "#f0f921"
            ]
           ]
          },
          "colorway": [
           "#636efa",
           "#EF553B",
           "#00cc96",
           "#ab63fa",
           "#FFA15A",
           "#19d3f3",
           "#FF6692",
           "#B6E880",
           "#FF97FF",
           "#FECB52"
          ],
          "font": {
           "color": "#2a3f5f"
          },
          "geo": {
           "bgcolor": "white",
           "lakecolor": "white",
           "landcolor": "#E5ECF6",
           "showlakes": true,
           "showland": true,
           "subunitcolor": "white"
          },
          "hoverlabel": {
           "align": "left"
          },
          "hovermode": "closest",
          "mapbox": {
           "style": "light"
          },
          "paper_bgcolor": "white",
          "plot_bgcolor": "#E5ECF6",
          "polar": {
           "angularaxis": {
            "gridcolor": "white",
            "linecolor": "white",
            "ticks": ""
           },
           "bgcolor": "#E5ECF6",
           "radialaxis": {
            "gridcolor": "white",
            "linecolor": "white",
            "ticks": ""
           }
          },
          "scene": {
           "xaxis": {
            "backgroundcolor": "#E5ECF6",
            "gridcolor": "white",
            "gridwidth": 2,
            "linecolor": "white",
            "showbackground": true,
            "ticks": "",
            "zerolinecolor": "white"
           },
           "yaxis": {
            "backgroundcolor": "#E5ECF6",
            "gridcolor": "white",
            "gridwidth": 2,
            "linecolor": "white",
            "showbackground": true,
            "ticks": "",
            "zerolinecolor": "white"
           },
           "zaxis": {
            "backgroundcolor": "#E5ECF6",
            "gridcolor": "white",
            "gridwidth": 2,
            "linecolor": "white",
            "showbackground": true,
            "ticks": "",
            "zerolinecolor": "white"
           }
          },
          "shapedefaults": {
           "line": {
            "color": "#2a3f5f"
           }
          },
          "ternary": {
           "aaxis": {
            "gridcolor": "white",
            "linecolor": "white",
            "ticks": ""
           },
           "baxis": {
            "gridcolor": "white",
            "linecolor": "white",
            "ticks": ""
           },
           "bgcolor": "#E5ECF6",
           "caxis": {
            "gridcolor": "white",
            "linecolor": "white",
            "ticks": ""
           }
          },
          "title": {
           "x": 0.05
          },
          "xaxis": {
           "automargin": true,
           "gridcolor": "white",
           "linecolor": "white",
           "ticks": "",
           "title": {
            "standoff": 15
           },
           "zerolinecolor": "white",
           "zerolinewidth": 2
          },
          "yaxis": {
           "automargin": true,
           "gridcolor": "white",
           "linecolor": "white",
           "ticks": "",
           "title": {
            "standoff": 15
           },
           "zerolinecolor": "white",
           "zerolinewidth": 2
          }
         }
        },
        "title": {
         "text": "SLIM avg. fitness and Std Dev (sustavianfeed) over 10 folds"
        },
        "width": 700,
        "xaxis": {
         "title": {
          "text": "Generation"
         }
        },
        "yaxis": {
         "title": {
          "text": "Fitness"
         }
        }
       }
      }
     },
     "metadata": {},
     "output_type": "display_data"
    }
   ],
   "source": [
    "plot_SLIM_average_fitness('SLIM', n_outer_cv, dataset_name='sustavianfeed')"
   ]
  },
  {
   "cell_type": "markdown",
   "id": "ba59f756",
   "metadata": {},
   "source": [
    "Except for Fold 6 and 7 that stagnate early on, all folds show a good ability to learn with train and test having close performances. We can conclude that the model is mostly not overfitting. On average, the model look to be stabilyzing so if we were to run more generations we may conclude that the model reach its limits if it doesn't breakthrough from the current level of performance."
   ]
  },
  {
   "cell_type": "code",
   "execution_count": 17,
   "id": "13ba05f2",
   "metadata": {},
   "outputs": [
    {
     "data": {
      "application/vnd.plotly.v1+json": {
       "config": {
        "plotlyServerURL": "https://plot.ly"
       },
       "data": [
        {
         "line": {
          "color": "green"
         },
         "mode": "lines",
         "name": "Size",
         "showlegend": true,
         "type": "scatter",
         "x": {
          "bdata": "AAECAwQFBgcICQoLDA0ODxAREhMU",
          "dtype": "i1"
         },
         "xaxis": "x",
         "y": {
          "bdata": "AwMDEhISIyMjIzQ0NDQ0NDQ0NDRD",
          "dtype": "i1"
         },
         "yaxis": "y"
        },
        {
         "line": {
          "color": "green"
         },
         "mode": "lines",
         "showlegend": false,
         "type": "scatter",
         "x": {
          "bdata": "AAECAwQFBgcICQoLDA0ODxAREhMU",
          "dtype": "i1"
         },
         "xaxis": "x2",
         "y": {
          "bdata": "AwMDEBAQEBAfHx8fHx8fHywsLCws",
          "dtype": "i1"
         },
         "yaxis": "y2"
        },
        {
         "line": {
          "color": "green"
         },
         "mode": "lines",
         "showlegend": false,
         "type": "scatter",
         "x": {
          "bdata": "AAECAwQFBgcICQoLDA0ODxAREhMU",
          "dtype": "i1"
         },
         "xaxis": "x3",
         "y": {
          "bdata": "AwMDEBAQEBAfHx8fHy4uOzs7Ozs7",
          "dtype": "i1"
         },
         "yaxis": "y3"
        },
        {
         "line": {
          "color": "green"
         },
         "mode": "lines",
         "showlegend": false,
         "type": "scatter",
         "x": {
          "bdata": "AAECAwQFBgcICQoLDA0ODxAREhMU",
          "dtype": "i1"
         },
         "xaxis": "x4",
         "y": {
          "bdata": "AwMDEBAQEBAfHx8sLDs7SkpKSkpK",
          "dtype": "i1"
         },
         "yaxis": "y4"
        },
        {
         "line": {
          "color": "green"
         },
         "mode": "lines",
         "showlegend": false,
         "type": "scatter",
         "x": {
          "bdata": "AAECAwQFBgcICQoLDA0ODxAREhMU",
          "dtype": "i1"
         },
         "xaxis": "x5",
         "y": {
          "bdata": "AwMDEBAQEBAfHx8fHx8fHx8sLCws",
          "dtype": "i1"
         },
         "yaxis": "y5"
        },
        {
         "line": {
          "color": "green"
         },
         "mode": "lines",
         "showlegend": false,
         "type": "scatter",
         "x": {
          "bdata": "AAECAwQFBgcICQoLDA0ODxAREhMU",
          "dtype": "i1"
         },
         "xaxis": "x6",
         "y": {
          "bdata": "AxISEBAQEBAuLi4uLi4uLi4uLi4u",
          "dtype": "i1"
         },
         "yaxis": "y6"
        },
        {
         "line": {
          "color": "green"
         },
         "mode": "lines",
         "showlegend": false,
         "type": "scatter",
         "x": {
          "bdata": "AAECAwQFBgcICQoLDA0ODxAREhMU",
          "dtype": "i1"
         },
         "xaxis": "x7",
         "y": {
          "bdata": "AwMDEBAQEBAfHx8fHx8fHx8fHx8f",
          "dtype": "i1"
         },
         "yaxis": "y7"
        },
        {
         "line": {
          "color": "green"
         },
         "mode": "lines",
         "showlegend": false,
         "type": "scatter",
         "x": {
          "bdata": "AAECAwQFBgcICQoLDA0ODxAREhMU",
          "dtype": "i1"
         },
         "xaxis": "x8",
         "y": {
          "bdata": "AwMDEBAQEBAfHx8sLDs7LCwsLCx1",
          "dtype": "i1"
         },
         "yaxis": "y8"
        },
        {
         "line": {
          "color": "green"
         },
         "mode": "lines",
         "showlegend": false,
         "type": "scatter",
         "x": {
          "bdata": "AAECAwQFBgcICQoLDA0ODxAREhMU",
          "dtype": "i1"
         },
         "xaxis": "x9",
         "y": {
          "bdata": "AwMDEBAQEBAfHx8fHy4uLjssLCws",
          "dtype": "i1"
         },
         "yaxis": "y9"
        },
        {
         "line": {
          "color": "green"
         },
         "mode": "lines",
         "showlegend": false,
         "type": "scatter",
         "x": {
          "bdata": "AAECAwQFBgcICQoLDA0ODxAREhMU",
          "dtype": "i1"
         },
         "xaxis": "x10",
         "y": {
          "bdata": "AwMDEBAQEBAfHx8fHy4uLi4uLDks",
          "dtype": "i1"
         },
         "yaxis": "y10"
        }
       ],
       "layout": {
        "annotations": [
         {
          "font": {
           "size": 16
          },
          "showarrow": false,
          "text": "Fold 1",
          "x": 0.14444444444444446,
          "xanchor": "center",
          "xref": "paper",
          "y": 1,
          "yanchor": "bottom",
          "yref": "paper"
         },
         {
          "font": {
           "size": 16
          },
          "showarrow": false,
          "text": "Fold 2",
          "x": 0.5,
          "xanchor": "center",
          "xref": "paper",
          "y": 1,
          "yanchor": "bottom",
          "yref": "paper"
         },
         {
          "font": {
           "size": 16
          },
          "showarrow": false,
          "text": "Fold 3",
          "x": 0.8555555555555556,
          "xanchor": "center",
          "xref": "paper",
          "y": 1,
          "yanchor": "bottom",
          "yref": "paper"
         },
         {
          "font": {
           "size": 16
          },
          "showarrow": false,
          "text": "Fold 4",
          "x": 0.14444444444444446,
          "xanchor": "center",
          "xref": "paper",
          "y": 0.71875,
          "yanchor": "bottom",
          "yref": "paper"
         },
         {
          "font": {
           "size": 16
          },
          "showarrow": false,
          "text": "Fold 5",
          "x": 0.5,
          "xanchor": "center",
          "xref": "paper",
          "y": 0.71875,
          "yanchor": "bottom",
          "yref": "paper"
         },
         {
          "font": {
           "size": 16
          },
          "showarrow": false,
          "text": "Fold 6",
          "x": 0.8555555555555556,
          "xanchor": "center",
          "xref": "paper",
          "y": 0.71875,
          "yanchor": "bottom",
          "yref": "paper"
         },
         {
          "font": {
           "size": 16
          },
          "showarrow": false,
          "text": "Fold 7",
          "x": 0.14444444444444446,
          "xanchor": "center",
          "xref": "paper",
          "y": 0.4375,
          "yanchor": "bottom",
          "yref": "paper"
         },
         {
          "font": {
           "size": 16
          },
          "showarrow": false,
          "text": "Fold 8",
          "x": 0.5,
          "xanchor": "center",
          "xref": "paper",
          "y": 0.4375,
          "yanchor": "bottom",
          "yref": "paper"
         },
         {
          "font": {
           "size": 16
          },
          "showarrow": false,
          "text": "Fold 9",
          "x": 0.8555555555555556,
          "xanchor": "center",
          "xref": "paper",
          "y": 0.4375,
          "yanchor": "bottom",
          "yref": "paper"
         },
         {
          "font": {
           "size": 16
          },
          "showarrow": false,
          "text": "Fold 10",
          "x": 0.14444444444444446,
          "xanchor": "center",
          "xref": "paper",
          "y": 0.15625,
          "yanchor": "bottom",
          "yref": "paper"
         }
        ],
        "height": 1400,
        "margin": {
         "t": 50
        },
        "template": {
         "data": {
          "bar": [
           {
            "error_x": {
             "color": "#2a3f5f"
            },
            "error_y": {
             "color": "#2a3f5f"
            },
            "marker": {
             "line": {
              "color": "#E5ECF6",
              "width": 0.5
             },
             "pattern": {
              "fillmode": "overlay",
              "size": 10,
              "solidity": 0.2
             }
            },
            "type": "bar"
           }
          ],
          "barpolar": [
           {
            "marker": {
             "line": {
              "color": "#E5ECF6",
              "width": 0.5
             },
             "pattern": {
              "fillmode": "overlay",
              "size": 10,
              "solidity": 0.2
             }
            },
            "type": "barpolar"
           }
          ],
          "carpet": [
           {
            "aaxis": {
             "endlinecolor": "#2a3f5f",
             "gridcolor": "white",
             "linecolor": "white",
             "minorgridcolor": "white",
             "startlinecolor": "#2a3f5f"
            },
            "baxis": {
             "endlinecolor": "#2a3f5f",
             "gridcolor": "white",
             "linecolor": "white",
             "minorgridcolor": "white",
             "startlinecolor": "#2a3f5f"
            },
            "type": "carpet"
           }
          ],
          "choropleth": [
           {
            "colorbar": {
             "outlinewidth": 0,
             "ticks": ""
            },
            "type": "choropleth"
           }
          ],
          "contour": [
           {
            "colorbar": {
             "outlinewidth": 0,
             "ticks": ""
            },
            "colorscale": [
             [
              0,
              "#0d0887"
             ],
             [
              0.1111111111111111,
              "#46039f"
             ],
             [
              0.2222222222222222,
              "#7201a8"
             ],
             [
              0.3333333333333333,
              "#9c179e"
             ],
             [
              0.4444444444444444,
              "#bd3786"
             ],
             [
              0.5555555555555556,
              "#d8576b"
             ],
             [
              0.6666666666666666,
              "#ed7953"
             ],
             [
              0.7777777777777778,
              "#fb9f3a"
             ],
             [
              0.8888888888888888,
              "#fdca26"
             ],
             [
              1,
              "#f0f921"
             ]
            ],
            "type": "contour"
           }
          ],
          "contourcarpet": [
           {
            "colorbar": {
             "outlinewidth": 0,
             "ticks": ""
            },
            "type": "contourcarpet"
           }
          ],
          "heatmap": [
           {
            "colorbar": {
             "outlinewidth": 0,
             "ticks": ""
            },
            "colorscale": [
             [
              0,
              "#0d0887"
             ],
             [
              0.1111111111111111,
              "#46039f"
             ],
             [
              0.2222222222222222,
              "#7201a8"
             ],
             [
              0.3333333333333333,
              "#9c179e"
             ],
             [
              0.4444444444444444,
              "#bd3786"
             ],
             [
              0.5555555555555556,
              "#d8576b"
             ],
             [
              0.6666666666666666,
              "#ed7953"
             ],
             [
              0.7777777777777778,
              "#fb9f3a"
             ],
             [
              0.8888888888888888,
              "#fdca26"
             ],
             [
              1,
              "#f0f921"
             ]
            ],
            "type": "heatmap"
           }
          ],
          "histogram": [
           {
            "marker": {
             "pattern": {
              "fillmode": "overlay",
              "size": 10,
              "solidity": 0.2
             }
            },
            "type": "histogram"
           }
          ],
          "histogram2d": [
           {
            "colorbar": {
             "outlinewidth": 0,
             "ticks": ""
            },
            "colorscale": [
             [
              0,
              "#0d0887"
             ],
             [
              0.1111111111111111,
              "#46039f"
             ],
             [
              0.2222222222222222,
              "#7201a8"
             ],
             [
              0.3333333333333333,
              "#9c179e"
             ],
             [
              0.4444444444444444,
              "#bd3786"
             ],
             [
              0.5555555555555556,
              "#d8576b"
             ],
             [
              0.6666666666666666,
              "#ed7953"
             ],
             [
              0.7777777777777778,
              "#fb9f3a"
             ],
             [
              0.8888888888888888,
              "#fdca26"
             ],
             [
              1,
              "#f0f921"
             ]
            ],
            "type": "histogram2d"
           }
          ],
          "histogram2dcontour": [
           {
            "colorbar": {
             "outlinewidth": 0,
             "ticks": ""
            },
            "colorscale": [
             [
              0,
              "#0d0887"
             ],
             [
              0.1111111111111111,
              "#46039f"
             ],
             [
              0.2222222222222222,
              "#7201a8"
             ],
             [
              0.3333333333333333,
              "#9c179e"
             ],
             [
              0.4444444444444444,
              "#bd3786"
             ],
             [
              0.5555555555555556,
              "#d8576b"
             ],
             [
              0.6666666666666666,
              "#ed7953"
             ],
             [
              0.7777777777777778,
              "#fb9f3a"
             ],
             [
              0.8888888888888888,
              "#fdca26"
             ],
             [
              1,
              "#f0f921"
             ]
            ],
            "type": "histogram2dcontour"
           }
          ],
          "mesh3d": [
           {
            "colorbar": {
             "outlinewidth": 0,
             "ticks": ""
            },
            "type": "mesh3d"
           }
          ],
          "parcoords": [
           {
            "line": {
             "colorbar": {
              "outlinewidth": 0,
              "ticks": ""
             }
            },
            "type": "parcoords"
           }
          ],
          "pie": [
           {
            "automargin": true,
            "type": "pie"
           }
          ],
          "scatter": [
           {
            "fillpattern": {
             "fillmode": "overlay",
             "size": 10,
             "solidity": 0.2
            },
            "type": "scatter"
           }
          ],
          "scatter3d": [
           {
            "line": {
             "colorbar": {
              "outlinewidth": 0,
              "ticks": ""
             }
            },
            "marker": {
             "colorbar": {
              "outlinewidth": 0,
              "ticks": ""
             }
            },
            "type": "scatter3d"
           }
          ],
          "scattercarpet": [
           {
            "marker": {
             "colorbar": {
              "outlinewidth": 0,
              "ticks": ""
             }
            },
            "type": "scattercarpet"
           }
          ],
          "scattergeo": [
           {
            "marker": {
             "colorbar": {
              "outlinewidth": 0,
              "ticks": ""
             }
            },
            "type": "scattergeo"
           }
          ],
          "scattergl": [
           {
            "marker": {
             "colorbar": {
              "outlinewidth": 0,
              "ticks": ""
             }
            },
            "type": "scattergl"
           }
          ],
          "scattermap": [
           {
            "marker": {
             "colorbar": {
              "outlinewidth": 0,
              "ticks": ""
             }
            },
            "type": "scattermap"
           }
          ],
          "scattermapbox": [
           {
            "marker": {
             "colorbar": {
              "outlinewidth": 0,
              "ticks": ""
             }
            },
            "type": "scattermapbox"
           }
          ],
          "scatterpolar": [
           {
            "marker": {
             "colorbar": {
              "outlinewidth": 0,
              "ticks": ""
             }
            },
            "type": "scatterpolar"
           }
          ],
          "scatterpolargl": [
           {
            "marker": {
             "colorbar": {
              "outlinewidth": 0,
              "ticks": ""
             }
            },
            "type": "scatterpolargl"
           }
          ],
          "scatterternary": [
           {
            "marker": {
             "colorbar": {
              "outlinewidth": 0,
              "ticks": ""
             }
            },
            "type": "scatterternary"
           }
          ],
          "surface": [
           {
            "colorbar": {
             "outlinewidth": 0,
             "ticks": ""
            },
            "colorscale": [
             [
              0,
              "#0d0887"
             ],
             [
              0.1111111111111111,
              "#46039f"
             ],
             [
              0.2222222222222222,
              "#7201a8"
             ],
             [
              0.3333333333333333,
              "#9c179e"
             ],
             [
              0.4444444444444444,
              "#bd3786"
             ],
             [
              0.5555555555555556,
              "#d8576b"
             ],
             [
              0.6666666666666666,
              "#ed7953"
             ],
             [
              0.7777777777777778,
              "#fb9f3a"
             ],
             [
              0.8888888888888888,
              "#fdca26"
             ],
             [
              1,
              "#f0f921"
             ]
            ],
            "type": "surface"
           }
          ],
          "table": [
           {
            "cells": {
             "fill": {
              "color": "#EBF0F8"
             },
             "line": {
              "color": "white"
             }
            },
            "header": {
             "fill": {
              "color": "#C8D4E3"
             },
             "line": {
              "color": "white"
             }
            },
            "type": "table"
           }
          ]
         },
         "layout": {
          "annotationdefaults": {
           "arrowcolor": "#2a3f5f",
           "arrowhead": 0,
           "arrowwidth": 1
          },
          "autotypenumbers": "strict",
          "coloraxis": {
           "colorbar": {
            "outlinewidth": 0,
            "ticks": ""
           }
          },
          "colorscale": {
           "diverging": [
            [
             0,
             "#8e0152"
            ],
            [
             0.1,
             "#c51b7d"
            ],
            [
             0.2,
             "#de77ae"
            ],
            [
             0.3,
             "#f1b6da"
            ],
            [
             0.4,
             "#fde0ef"
            ],
            [
             0.5,
             "#f7f7f7"
            ],
            [
             0.6,
             "#e6f5d0"
            ],
            [
             0.7,
             "#b8e186"
            ],
            [
             0.8,
             "#7fbc41"
            ],
            [
             0.9,
             "#4d9221"
            ],
            [
             1,
             "#276419"
            ]
           ],
           "sequential": [
            [
             0,
             "#0d0887"
            ],
            [
             0.1111111111111111,
             "#46039f"
            ],
            [
             0.2222222222222222,
             "#7201a8"
            ],
            [
             0.3333333333333333,
             "#9c179e"
            ],
            [
             0.4444444444444444,
             "#bd3786"
            ],
            [
             0.5555555555555556,
             "#d8576b"
            ],
            [
             0.6666666666666666,
             "#ed7953"
            ],
            [
             0.7777777777777778,
             "#fb9f3a"
            ],
            [
             0.8888888888888888,
             "#fdca26"
            ],
            [
             1,
             "#f0f921"
            ]
           ],
           "sequentialminus": [
            [
             0,
             "#0d0887"
            ],
            [
             0.1111111111111111,
             "#46039f"
            ],
            [
             0.2222222222222222,
             "#7201a8"
            ],
            [
             0.3333333333333333,
             "#9c179e"
            ],
            [
             0.4444444444444444,
             "#bd3786"
            ],
            [
             0.5555555555555556,
             "#d8576b"
            ],
            [
             0.6666666666666666,
             "#ed7953"
            ],
            [
             0.7777777777777778,
             "#fb9f3a"
            ],
            [
             0.8888888888888888,
             "#fdca26"
            ],
            [
             1,
             "#f0f921"
            ]
           ]
          },
          "colorway": [
           "#636efa",
           "#EF553B",
           "#00cc96",
           "#ab63fa",
           "#FFA15A",
           "#19d3f3",
           "#FF6692",
           "#B6E880",
           "#FF97FF",
           "#FECB52"
          ],
          "font": {
           "color": "#2a3f5f"
          },
          "geo": {
           "bgcolor": "white",
           "lakecolor": "white",
           "landcolor": "#E5ECF6",
           "showlakes": true,
           "showland": true,
           "subunitcolor": "white"
          },
          "hoverlabel": {
           "align": "left"
          },
          "hovermode": "closest",
          "mapbox": {
           "style": "light"
          },
          "paper_bgcolor": "white",
          "plot_bgcolor": "#E5ECF6",
          "polar": {
           "angularaxis": {
            "gridcolor": "white",
            "linecolor": "white",
            "ticks": ""
           },
           "bgcolor": "#E5ECF6",
           "radialaxis": {
            "gridcolor": "white",
            "linecolor": "white",
            "ticks": ""
           }
          },
          "scene": {
           "xaxis": {
            "backgroundcolor": "#E5ECF6",
            "gridcolor": "white",
            "gridwidth": 2,
            "linecolor": "white",
            "showbackground": true,
            "ticks": "",
            "zerolinecolor": "white"
           },
           "yaxis": {
            "backgroundcolor": "#E5ECF6",
            "gridcolor": "white",
            "gridwidth": 2,
            "linecolor": "white",
            "showbackground": true,
            "ticks": "",
            "zerolinecolor": "white"
           },
           "zaxis": {
            "backgroundcolor": "#E5ECF6",
            "gridcolor": "white",
            "gridwidth": 2,
            "linecolor": "white",
            "showbackground": true,
            "ticks": "",
            "zerolinecolor": "white"
           }
          },
          "shapedefaults": {
           "line": {
            "color": "#2a3f5f"
           }
          },
          "ternary": {
           "aaxis": {
            "gridcolor": "white",
            "linecolor": "white",
            "ticks": ""
           },
           "baxis": {
            "gridcolor": "white",
            "linecolor": "white",
            "ticks": ""
           },
           "bgcolor": "#E5ECF6",
           "caxis": {
            "gridcolor": "white",
            "linecolor": "white",
            "ticks": ""
           }
          },
          "title": {
           "x": 0.05
          },
          "xaxis": {
           "automargin": true,
           "gridcolor": "white",
           "linecolor": "white",
           "ticks": "",
           "title": {
            "standoff": 15
           },
           "zerolinecolor": "white",
           "zerolinewidth": 2
          },
          "yaxis": {
           "automargin": true,
           "gridcolor": "white",
           "linecolor": "white",
           "ticks": "",
           "title": {
            "standoff": 15
           },
           "zerolinecolor": "white",
           "zerolinewidth": 2
          }
         }
        },
        "title": {
         "text": "SLIM – Solution Size over Generations (sustavianfeed)"
        },
        "width": 1000,
        "xaxis": {
         "anchor": "y",
         "domain": [
          0,
          0.2888888888888889
         ],
         "title": {
          "text": "Generation"
         }
        },
        "xaxis10": {
         "anchor": "y10",
         "domain": [
          0,
          0.2888888888888889
         ],
         "title": {
          "text": "Generation"
         }
        },
        "xaxis11": {
         "anchor": "y11",
         "domain": [
          0.35555555555555557,
          0.6444444444444445
         ]
        },
        "xaxis12": {
         "anchor": "y12",
         "domain": [
          0.7111111111111111,
          1
         ]
        },
        "xaxis2": {
         "anchor": "y2",
         "domain": [
          0.35555555555555557,
          0.6444444444444445
         ],
         "title": {
          "text": "Generation"
         }
        },
        "xaxis3": {
         "anchor": "y3",
         "domain": [
          0.7111111111111111,
          1
         ],
         "title": {
          "text": "Generation"
         }
        },
        "xaxis4": {
         "anchor": "y4",
         "domain": [
          0,
          0.2888888888888889
         ],
         "title": {
          "text": "Generation"
         }
        },
        "xaxis5": {
         "anchor": "y5",
         "domain": [
          0.35555555555555557,
          0.6444444444444445
         ],
         "title": {
          "text": "Generation"
         }
        },
        "xaxis6": {
         "anchor": "y6",
         "domain": [
          0.7111111111111111,
          1
         ],
         "title": {
          "text": "Generation"
         }
        },
        "xaxis7": {
         "anchor": "y7",
         "domain": [
          0,
          0.2888888888888889
         ],
         "title": {
          "text": "Generation"
         }
        },
        "xaxis8": {
         "anchor": "y8",
         "domain": [
          0.35555555555555557,
          0.6444444444444445
         ],
         "title": {
          "text": "Generation"
         }
        },
        "xaxis9": {
         "anchor": "y9",
         "domain": [
          0.7111111111111111,
          1
         ],
         "title": {
          "text": "Generation"
         }
        },
        "yaxis": {
         "anchor": "x",
         "domain": [
          0.84375,
          1
         ],
         "title": {
          "text": "Nodes count"
         }
        },
        "yaxis10": {
         "anchor": "x10",
         "domain": [
          0,
          0.15625
         ],
         "title": {
          "text": "Nodes count"
         }
        },
        "yaxis11": {
         "anchor": "x11",
         "domain": [
          0,
          0.15625
         ]
        },
        "yaxis12": {
         "anchor": "x12",
         "domain": [
          0,
          0.15625
         ]
        },
        "yaxis2": {
         "anchor": "x2",
         "domain": [
          0.84375,
          1
         ],
         "title": {
          "text": "Nodes count"
         }
        },
        "yaxis3": {
         "anchor": "x3",
         "domain": [
          0.84375,
          1
         ],
         "title": {
          "text": "Nodes count"
         }
        },
        "yaxis4": {
         "anchor": "x4",
         "domain": [
          0.5625,
          0.71875
         ],
         "title": {
          "text": "Nodes count"
         }
        },
        "yaxis5": {
         "anchor": "x5",
         "domain": [
          0.5625,
          0.71875
         ],
         "title": {
          "text": "Nodes count"
         }
        },
        "yaxis6": {
         "anchor": "x6",
         "domain": [
          0.5625,
          0.71875
         ],
         "title": {
          "text": "Nodes count"
         }
        },
        "yaxis7": {
         "anchor": "x7",
         "domain": [
          0.28125,
          0.4375
         ],
         "title": {
          "text": "Nodes count"
         }
        },
        "yaxis8": {
         "anchor": "x8",
         "domain": [
          0.28125,
          0.4375
         ],
         "title": {
          "text": "Nodes count"
         }
        },
        "yaxis9": {
         "anchor": "x9",
         "domain": [
          0.28125,
          0.4375
         ],
         "title": {
          "text": "Nodes count"
         }
        }
       }
      }
     },
     "metadata": {},
     "output_type": "display_data"
    }
   ],
   "source": [
    "plot_SLIM_size_logs('SLIM', n_outer_cv, dataset_name='sustavianfeed')"
   ]
  },
  {
   "cell_type": "code",
   "execution_count": 18,
   "id": "09e2b190",
   "metadata": {},
   "outputs": [
    {
     "data": {
      "application/vnd.plotly.v1+json": {
       "config": {
        "plotlyServerURL": "https://plot.ly"
       },
       "data": [
        {
         "line": {
          "color": "rgba(0,150,0,0)"
         },
         "showlegend": false,
         "type": "scatter",
         "x": [
          0,
          1,
          2,
          3,
          4,
          5,
          6,
          7,
          8,
          9,
          10,
          11,
          12,
          13,
          14,
          15,
          16,
          17,
          18,
          19,
          20
         ],
         "y": {
          "bdata": "AAAAAAAACEAAAAAAAAAiQAAAAAAAACJAzczMzMzMMEDNzMzMzMwwQM3MzMzMzDBAmZmZmZmZN0CZmZmZmZk3QCY0gnCatkJAJjSCcJq2QkDkttpyQ/ZEQGFIhdgliUZAYUiF2CWJRkDYR5BS+21LQNhHkFL7bUtAoAmIPSJ1TUBazRx/kIVOQNdzmKcmnU1ACAKC0lSLTUD30s4JuUpOQP7e2V5JGFRA",
          "dtype": "f8"
         }
        },
        {
         "fill": "tonexty",
         "fillcolor": "rgba(0,135,0,0.2)",
         "line": {
          "color": "rgba(0,180,0,0)"
         },
         "name": "Size Std Dev",
         "type": "scatter",
         "x": [
          0,
          1,
          2,
          3,
          4,
          5,
          6,
          7,
          8,
          9,
          10,
          11,
          12,
          13,
          14,
          15,
          16,
          17,
          18,
          19,
          20
         ],
         "y": {
          "bdata": "AAAAAAAACEAAAAAAAAAAAAAAAAAAAAAAMzMzMzMzL0AzMzMzMzMvQDMzMzMzMy9AZmZmZmZmKEBmZmZmZmYoQH9kyOuXXzxAf2TI65dfPEBrxX1NrEY7QKbVW7UaVD1AptVbtRpUPUBc66LgN0VBQFzrouA3RUFAYPZ3wt2KQEBAzHwaCRRCQI/yzb4/yUJALDGxYN6nQkAJLTH2RjVDQAVCTEJtz0BA",
          "dtype": "f8"
         }
        },
        {
         "line": {
          "color": "green"
         },
         "name": "Mean size",
         "type": "scatter",
         "x": [
          0,
          1,
          2,
          3,
          4,
          5,
          6,
          7,
          8,
          9,
          10,
          11,
          12,
          13,
          14,
          15,
          16,
          17,
          18,
          19,
          20
         ],
         "y": {
          "bdata": "AAAAAAAACEAAAAAAAAASQAAAAAAAABJAMzMzMzMzMEAzMzMzMzMwQDMzMzMzMzBAZmZmZmbmMUBmZmZmZuYxQDMzMzMzc0BAMzMzMzNzQEDNzMzMzExBQJqZmZmZmUJAmpmZmZmZQkCamZmZmVlGQJqZmZmZWUZAAAAAAAAAR0DNzMzMzExIQDMzMzMzM0hAmpmZmZkZSEAAAAAAAMBIQAAAAAAAgExA",
          "dtype": "f8"
         }
        }
       ],
       "layout": {
        "height": 400,
        "template": {
         "data": {
          "bar": [
           {
            "error_x": {
             "color": "#2a3f5f"
            },
            "error_y": {
             "color": "#2a3f5f"
            },
            "marker": {
             "line": {
              "color": "#E5ECF6",
              "width": 0.5
             },
             "pattern": {
              "fillmode": "overlay",
              "size": 10,
              "solidity": 0.2
             }
            },
            "type": "bar"
           }
          ],
          "barpolar": [
           {
            "marker": {
             "line": {
              "color": "#E5ECF6",
              "width": 0.5
             },
             "pattern": {
              "fillmode": "overlay",
              "size": 10,
              "solidity": 0.2
             }
            },
            "type": "barpolar"
           }
          ],
          "carpet": [
           {
            "aaxis": {
             "endlinecolor": "#2a3f5f",
             "gridcolor": "white",
             "linecolor": "white",
             "minorgridcolor": "white",
             "startlinecolor": "#2a3f5f"
            },
            "baxis": {
             "endlinecolor": "#2a3f5f",
             "gridcolor": "white",
             "linecolor": "white",
             "minorgridcolor": "white",
             "startlinecolor": "#2a3f5f"
            },
            "type": "carpet"
           }
          ],
          "choropleth": [
           {
            "colorbar": {
             "outlinewidth": 0,
             "ticks": ""
            },
            "type": "choropleth"
           }
          ],
          "contour": [
           {
            "colorbar": {
             "outlinewidth": 0,
             "ticks": ""
            },
            "colorscale": [
             [
              0,
              "#0d0887"
             ],
             [
              0.1111111111111111,
              "#46039f"
             ],
             [
              0.2222222222222222,
              "#7201a8"
             ],
             [
              0.3333333333333333,
              "#9c179e"
             ],
             [
              0.4444444444444444,
              "#bd3786"
             ],
             [
              0.5555555555555556,
              "#d8576b"
             ],
             [
              0.6666666666666666,
              "#ed7953"
             ],
             [
              0.7777777777777778,
              "#fb9f3a"
             ],
             [
              0.8888888888888888,
              "#fdca26"
             ],
             [
              1,
              "#f0f921"
             ]
            ],
            "type": "contour"
           }
          ],
          "contourcarpet": [
           {
            "colorbar": {
             "outlinewidth": 0,
             "ticks": ""
            },
            "type": "contourcarpet"
           }
          ],
          "heatmap": [
           {
            "colorbar": {
             "outlinewidth": 0,
             "ticks": ""
            },
            "colorscale": [
             [
              0,
              "#0d0887"
             ],
             [
              0.1111111111111111,
              "#46039f"
             ],
             [
              0.2222222222222222,
              "#7201a8"
             ],
             [
              0.3333333333333333,
              "#9c179e"
             ],
             [
              0.4444444444444444,
              "#bd3786"
             ],
             [
              0.5555555555555556,
              "#d8576b"
             ],
             [
              0.6666666666666666,
              "#ed7953"
             ],
             [
              0.7777777777777778,
              "#fb9f3a"
             ],
             [
              0.8888888888888888,
              "#fdca26"
             ],
             [
              1,
              "#f0f921"
             ]
            ],
            "type": "heatmap"
           }
          ],
          "histogram": [
           {
            "marker": {
             "pattern": {
              "fillmode": "overlay",
              "size": 10,
              "solidity": 0.2
             }
            },
            "type": "histogram"
           }
          ],
          "histogram2d": [
           {
            "colorbar": {
             "outlinewidth": 0,
             "ticks": ""
            },
            "colorscale": [
             [
              0,
              "#0d0887"
             ],
             [
              0.1111111111111111,
              "#46039f"
             ],
             [
              0.2222222222222222,
              "#7201a8"
             ],
             [
              0.3333333333333333,
              "#9c179e"
             ],
             [
              0.4444444444444444,
              "#bd3786"
             ],
             [
              0.5555555555555556,
              "#d8576b"
             ],
             [
              0.6666666666666666,
              "#ed7953"
             ],
             [
              0.7777777777777778,
              "#fb9f3a"
             ],
             [
              0.8888888888888888,
              "#fdca26"
             ],
             [
              1,
              "#f0f921"
             ]
            ],
            "type": "histogram2d"
           }
          ],
          "histogram2dcontour": [
           {
            "colorbar": {
             "outlinewidth": 0,
             "ticks": ""
            },
            "colorscale": [
             [
              0,
              "#0d0887"
             ],
             [
              0.1111111111111111,
              "#46039f"
             ],
             [
              0.2222222222222222,
              "#7201a8"
             ],
             [
              0.3333333333333333,
              "#9c179e"
             ],
             [
              0.4444444444444444,
              "#bd3786"
             ],
             [
              0.5555555555555556,
              "#d8576b"
             ],
             [
              0.6666666666666666,
              "#ed7953"
             ],
             [
              0.7777777777777778,
              "#fb9f3a"
             ],
             [
              0.8888888888888888,
              "#fdca26"
             ],
             [
              1,
              "#f0f921"
             ]
            ],
            "type": "histogram2dcontour"
           }
          ],
          "mesh3d": [
           {
            "colorbar": {
             "outlinewidth": 0,
             "ticks": ""
            },
            "type": "mesh3d"
           }
          ],
          "parcoords": [
           {
            "line": {
             "colorbar": {
              "outlinewidth": 0,
              "ticks": ""
             }
            },
            "type": "parcoords"
           }
          ],
          "pie": [
           {
            "automargin": true,
            "type": "pie"
           }
          ],
          "scatter": [
           {
            "fillpattern": {
             "fillmode": "overlay",
             "size": 10,
             "solidity": 0.2
            },
            "type": "scatter"
           }
          ],
          "scatter3d": [
           {
            "line": {
             "colorbar": {
              "outlinewidth": 0,
              "ticks": ""
             }
            },
            "marker": {
             "colorbar": {
              "outlinewidth": 0,
              "ticks": ""
             }
            },
            "type": "scatter3d"
           }
          ],
          "scattercarpet": [
           {
            "marker": {
             "colorbar": {
              "outlinewidth": 0,
              "ticks": ""
             }
            },
            "type": "scattercarpet"
           }
          ],
          "scattergeo": [
           {
            "marker": {
             "colorbar": {
              "outlinewidth": 0,
              "ticks": ""
             }
            },
            "type": "scattergeo"
           }
          ],
          "scattergl": [
           {
            "marker": {
             "colorbar": {
              "outlinewidth": 0,
              "ticks": ""
             }
            },
            "type": "scattergl"
           }
          ],
          "scattermap": [
           {
            "marker": {
             "colorbar": {
              "outlinewidth": 0,
              "ticks": ""
             }
            },
            "type": "scattermap"
           }
          ],
          "scattermapbox": [
           {
            "marker": {
             "colorbar": {
              "outlinewidth": 0,
              "ticks": ""
             }
            },
            "type": "scattermapbox"
           }
          ],
          "scatterpolar": [
           {
            "marker": {
             "colorbar": {
              "outlinewidth": 0,
              "ticks": ""
             }
            },
            "type": "scatterpolar"
           }
          ],
          "scatterpolargl": [
           {
            "marker": {
             "colorbar": {
              "outlinewidth": 0,
              "ticks": ""
             }
            },
            "type": "scatterpolargl"
           }
          ],
          "scatterternary": [
           {
            "marker": {
             "colorbar": {
              "outlinewidth": 0,
              "ticks": ""
             }
            },
            "type": "scatterternary"
           }
          ],
          "surface": [
           {
            "colorbar": {
             "outlinewidth": 0,
             "ticks": ""
            },
            "colorscale": [
             [
              0,
              "#0d0887"
             ],
             [
              0.1111111111111111,
              "#46039f"
             ],
             [
              0.2222222222222222,
              "#7201a8"
             ],
             [
              0.3333333333333333,
              "#9c179e"
             ],
             [
              0.4444444444444444,
              "#bd3786"
             ],
             [
              0.5555555555555556,
              "#d8576b"
             ],
             [
              0.6666666666666666,
              "#ed7953"
             ],
             [
              0.7777777777777778,
              "#fb9f3a"
             ],
             [
              0.8888888888888888,
              "#fdca26"
             ],
             [
              1,
              "#f0f921"
             ]
            ],
            "type": "surface"
           }
          ],
          "table": [
           {
            "cells": {
             "fill": {
              "color": "#EBF0F8"
             },
             "line": {
              "color": "white"
             }
            },
            "header": {
             "fill": {
              "color": "#C8D4E3"
             },
             "line": {
              "color": "white"
             }
            },
            "type": "table"
           }
          ]
         },
         "layout": {
          "annotationdefaults": {
           "arrowcolor": "#2a3f5f",
           "arrowhead": 0,
           "arrowwidth": 1
          },
          "autotypenumbers": "strict",
          "coloraxis": {
           "colorbar": {
            "outlinewidth": 0,
            "ticks": ""
           }
          },
          "colorscale": {
           "diverging": [
            [
             0,
             "#8e0152"
            ],
            [
             0.1,
             "#c51b7d"
            ],
            [
             0.2,
             "#de77ae"
            ],
            [
             0.3,
             "#f1b6da"
            ],
            [
             0.4,
             "#fde0ef"
            ],
            [
             0.5,
             "#f7f7f7"
            ],
            [
             0.6,
             "#e6f5d0"
            ],
            [
             0.7,
             "#b8e186"
            ],
            [
             0.8,
             "#7fbc41"
            ],
            [
             0.9,
             "#4d9221"
            ],
            [
             1,
             "#276419"
            ]
           ],
           "sequential": [
            [
             0,
             "#0d0887"
            ],
            [
             0.1111111111111111,
             "#46039f"
            ],
            [
             0.2222222222222222,
             "#7201a8"
            ],
            [
             0.3333333333333333,
             "#9c179e"
            ],
            [
             0.4444444444444444,
             "#bd3786"
            ],
            [
             0.5555555555555556,
             "#d8576b"
            ],
            [
             0.6666666666666666,
             "#ed7953"
            ],
            [
             0.7777777777777778,
             "#fb9f3a"
            ],
            [
             0.8888888888888888,
             "#fdca26"
            ],
            [
             1,
             "#f0f921"
            ]
           ],
           "sequentialminus": [
            [
             0,
             "#0d0887"
            ],
            [
             0.1111111111111111,
             "#46039f"
            ],
            [
             0.2222222222222222,
             "#7201a8"
            ],
            [
             0.3333333333333333,
             "#9c179e"
            ],
            [
             0.4444444444444444,
             "#bd3786"
            ],
            [
             0.5555555555555556,
             "#d8576b"
            ],
            [
             0.6666666666666666,
             "#ed7953"
            ],
            [
             0.7777777777777778,
             "#fb9f3a"
            ],
            [
             0.8888888888888888,
             "#fdca26"
            ],
            [
             1,
             "#f0f921"
            ]
           ]
          },
          "colorway": [
           "#636efa",
           "#EF553B",
           "#00cc96",
           "#ab63fa",
           "#FFA15A",
           "#19d3f3",
           "#FF6692",
           "#B6E880",
           "#FF97FF",
           "#FECB52"
          ],
          "font": {
           "color": "#2a3f5f"
          },
          "geo": {
           "bgcolor": "white",
           "lakecolor": "white",
           "landcolor": "#E5ECF6",
           "showlakes": true,
           "showland": true,
           "subunitcolor": "white"
          },
          "hoverlabel": {
           "align": "left"
          },
          "hovermode": "closest",
          "mapbox": {
           "style": "light"
          },
          "paper_bgcolor": "white",
          "plot_bgcolor": "#E5ECF6",
          "polar": {
           "angularaxis": {
            "gridcolor": "white",
            "linecolor": "white",
            "ticks": ""
           },
           "bgcolor": "#E5ECF6",
           "radialaxis": {
            "gridcolor": "white",
            "linecolor": "white",
            "ticks": ""
           }
          },
          "scene": {
           "xaxis": {
            "backgroundcolor": "#E5ECF6",
            "gridcolor": "white",
            "gridwidth": 2,
            "linecolor": "white",
            "showbackground": true,
            "ticks": "",
            "zerolinecolor": "white"
           },
           "yaxis": {
            "backgroundcolor": "#E5ECF6",
            "gridcolor": "white",
            "gridwidth": 2,
            "linecolor": "white",
            "showbackground": true,
            "ticks": "",
            "zerolinecolor": "white"
           },
           "zaxis": {
            "backgroundcolor": "#E5ECF6",
            "gridcolor": "white",
            "gridwidth": 2,
            "linecolor": "white",
            "showbackground": true,
            "ticks": "",
            "zerolinecolor": "white"
           }
          },
          "shapedefaults": {
           "line": {
            "color": "#2a3f5f"
           }
          },
          "ternary": {
           "aaxis": {
            "gridcolor": "white",
            "linecolor": "white",
            "ticks": ""
           },
           "baxis": {
            "gridcolor": "white",
            "linecolor": "white",
            "ticks": ""
           },
           "bgcolor": "#E5ECF6",
           "caxis": {
            "gridcolor": "white",
            "linecolor": "white",
            "ticks": ""
           }
          },
          "title": {
           "x": 0.05
          },
          "xaxis": {
           "automargin": true,
           "gridcolor": "white",
           "linecolor": "white",
           "ticks": "",
           "title": {
            "standoff": 15
           },
           "zerolinecolor": "white",
           "zerolinewidth": 2
          },
          "yaxis": {
           "automargin": true,
           "gridcolor": "white",
           "linecolor": "white",
           "ticks": "",
           "title": {
            "standoff": 15
           },
           "zerolinecolor": "white",
           "zerolinewidth": 2
          }
         }
        },
        "title": {
         "text": "SLIM avg. node size Std Dev (sustavianfeed) over 10 folds"
        },
        "width": 700,
        "xaxis": {
         "title": {
          "text": "Generation"
         }
        },
        "yaxis": {
         "title": {
          "text": "Node count"
         }
        }
       }
      }
     },
     "metadata": {},
     "output_type": "display_data"
    }
   ],
   "source": [
    "plot_SLIM_average_size('SLIM', n_outer_cv, dataset_name='sustavianfeed')"
   ]
  },
  {
   "cell_type": "markdown",
   "id": "96b250ea",
   "metadata": {},
   "source": [
    "There is a clear tendency for the model to grow albeit not exponentially. We observe in several folds a slight tendency for the growth to atagnate or evven decrease towards the end of the iteration (Notabe exceptions to Folds 1 and specially 9 that continue to grow until the end). If we look at the average train/test fitness vs node size we notice that the node count kept growing but (except between generation 7 and 8) it was a slow more incremental growth which was accompanied by a positive evolution of fitness. A situation to look at in further iteration would be what would happen if we ran more generations since we had a considerable leap from generation 19 to 20 and fitness seems to be stabilyzing. If this were to be revelead as a trend we might be looking at eraly signs of bloat."
   ]
  },
  {
   "cell_type": "code",
   "execution_count": 19,
   "id": "59898eec",
   "metadata": {},
   "outputs": [
    {
     "data": {
      "application/vnd.plotly.v1+json": {
       "config": {
        "plotlyServerURL": "https://plot.ly"
       },
       "data": [
        {
         "line": {
          "color": "red"
         },
         "mode": "lines",
         "name": "Test",
         "showlegend": true,
         "type": "scatter",
         "x": {
          "bdata": "AAECAwQFBgcICQoLDA0ODxAREhMU",
          "dtype": "i1"
         },
         "xaxis": "x",
         "y": {
          "bdata": "AQAAwIr3LEABAADAivcsQAEAAMCK9yxAAAAAIOMrHUAAAAAg4ysdQAAAACDjKx1AAAAAIFe0+j8AAAAgV7T6PwAAACBXtPo/AAAAIFe0+j8AAAAgVk35PwAAACBWTfk/AAAAIFZN+T8AAAAgVk35PwAAACBWTfk/AAAAIFZN+T8AAAAgVk35PwAAACBCtw1AAAAAIEK3DUAAAAAgQrcNQP///9+LSwVA",
          "dtype": "f8"
         },
         "yaxis": "y"
        },
        {
         "line": {
          "color": "blue"
         },
         "mode": "lines",
         "name": "Train",
         "showlegend": true,
         "type": "scatter",
         "x": {
          "bdata": "AAECAwQFBgcICQoLDA0ODxAREhMU",
          "dtype": "i1"
         },
         "xaxis": "x",
         "y": {
          "bdata": "AAAAYGZrLkAAAABgZmsuQAAAAGBmay5AAAAAoIUZI0AAAACghRkjQAAAAKCFGSNAAAAAwDu8DUAAAADAO7wNQAAAAMA7vA1AAAAAwDu8DUAAAAAgisUHQAAAACCKxQdAAAAAIIrFB0AAAAAgisUHQAAAACCKxQdAAAAAIIrFB0AAAAAgisUHQAEAAECauAdAAQAAQJq4B0ABAABAmrgHQAAAACAAKQJA",
          "dtype": "f8"
         },
         "yaxis": "y"
        },
        {
         "line": {
          "color": "green"
         },
         "mode": "lines",
         "name": "Size",
         "showlegend": true,
         "type": "scatter",
         "x": {
          "bdata": "AAECAwQFBgcICQoLDA0ODxAREhMU",
          "dtype": "i1"
         },
         "xaxis": "x2",
         "y": {
          "bdata": "AwMDEhISIyMjIzQ0NDQ0NDQ0NDRD",
          "dtype": "i1"
         },
         "yaxis": "y2"
        },
        {
         "line": {
          "color": "red"
         },
         "mode": "lines",
         "showlegend": false,
         "type": "scatter",
         "x": {
          "bdata": "AAECAwQFBgcICQoLDA0ODxAREhMU",
          "dtype": "i1"
         },
         "xaxis": "x3",
         "y": {
          "bdata": "AQAA4OBkI0ABAADg4GQjQAEAAODgZCNAAAAAQD9LGkAAAABAP0saQAAAAEA/SxpAAAAAQD9LGkAAAABAP0saQAEAAGBDLwJAAQAAYEMvAkABAABgQy8CQAEAAGBDLwJAAQAAYEMvAkABAABgQy8CQAEAAGBDLwJAAQAAYEMvAkAAAAAg7LwLQAAAACDsvAtAAAAAIOy8C0AAAAAg7LwLQAAAACDsvAtA",
          "dtype": "f8"
         },
         "yaxis": "y3"
        },
        {
         "line": {
          "color": "blue"
         },
         "mode": "lines",
         "showlegend": false,
         "type": "scatter",
         "x": {
          "bdata": "AAECAwQFBgcICQoLDA0ODxAREhMU",
          "dtype": "i1"
         },
         "xaxis": "x3",
         "y": {
          "bdata": "AAAAoLZKL0AAAACgtkovQAAAAKC2Si9AAAAAoPYwI0AAAACg9jAjQAAAAKD2MCNAAAAAoPYwI0AAAACg9jAjQAEAAACsSQ1AAQAAAKxJDUABAAAArEkNQAEAAACsSQ1AAQAAAKxJDUABAAAArEkNQAEAAACsSQ1AAQAAAKxJDUAAAADgsEgDQAAAAOCwSANAAAAA4LBIA0AAAADgsEgDQAAAAOCwSANA",
          "dtype": "f8"
         },
         "yaxis": "y3"
        },
        {
         "line": {
          "color": "green"
         },
         "mode": "lines",
         "showlegend": false,
         "type": "scatter",
         "x": {
          "bdata": "AAECAwQFBgcICQoLDA0ODxAREhMU",
          "dtype": "i1"
         },
         "xaxis": "x4",
         "y": {
          "bdata": "AwMDEBAQEBAfHx8fHx8fHywsLCws",
          "dtype": "i1"
         },
         "yaxis": "y4"
        },
        {
         "line": {
          "color": "red"
         },
         "mode": "lines",
         "showlegend": false,
         "type": "scatter",
         "x": {
          "bdata": "AAECAwQFBgcICQoLDA0ODxAREhMU",
          "dtype": "i1"
         },
         "xaxis": "x5",
         "y": {
          "bdata": "AAAAADA+KEAAAAAAMD4oQAAAAAAwPihAAAAAgIupIUAAAACAi6khQAAAAICLqSFAAAAAgIupIUAAAACAi6khQAAAAMCU/AhAAAAAwJT8CEAAAADAlPwIQAAAAMCU/AhAAAAAwJT8CEAAAADABGcBQAAAAMAEZwFAAAAAoIbx+T8AAACghvH5PwAAAKCG8fk/AAAAoIbx+T8AAACghvH5PwAAAKCG8fk/",
          "dtype": "f8"
         },
         "yaxis": "y5"
        },
        {
         "line": {
          "color": "blue"
         },
         "mode": "lines",
         "showlegend": false,
         "type": "scatter",
         "x": {
          "bdata": "AAECAwQFBgcICQoLDA0ODxAREhMU",
          "dtype": "i1"
         },
         "xaxis": "x5",
         "y": {
          "bdata": "AAAAoG7lLkAAAACgbuUuQAAAAKBu5S5A////v9zDIkD///+/3MMiQP///7/cwyJA////v9zDIkD///+/3MMiQAAAAEDtsgxAAAAAQO2yDEAAAABA7bIMQAAAAEDtsgxAAAAAQO2yDEABAADAGqwDQAEAAMAarANAAAAAoGaMAEAAAACgZowAQAAAAKBmjABAAAAAoGaMAEAAAACgZowAQAAAAKBmjABA",
          "dtype": "f8"
         },
         "yaxis": "y5"
        },
        {
         "line": {
          "color": "green"
         },
         "mode": "lines",
         "showlegend": false,
         "type": "scatter",
         "x": {
          "bdata": "AAECAwQFBgcICQoLDA0ODxAREhMU",
          "dtype": "i1"
         },
         "xaxis": "x6",
         "y": {
          "bdata": "AwMDEBAQEBAfHx8fHy4uOzs7Ozs7",
          "dtype": "i1"
         },
         "yaxis": "y6"
        },
        {
         "line": {
          "color": "red"
         },
         "mode": "lines",
         "showlegend": false,
         "type": "scatter",
         "x": {
          "bdata": "AAECAwQFBgcICQoLDA0ODxAREhMU",
          "dtype": "i1"
         },
         "xaxis": "x7",
         "y": {
          "bdata": "////X3WYIkD///9fdZgiQP///191mCJAAAAAoGddFEAAAACgZ10UQAAAAKBnXRRAAAAAoGddFEAAAACgZ10UQAAAAIAH4whAAAAAgAfjCEAAAACAB+MIQAAAAEC0xAhAAAAAQLTECEABAACACSr7PwEAAIAJKvs/AAAA4H3j8D8AAADgfePwPwAAAOB94/A/AAAA4H3j8D8AAADgfePwPwAAAOB94/A/",
          "dtype": "f8"
         },
         "yaxis": "y7"
        },
        {
         "line": {
          "color": "blue"
         },
         "mode": "lines",
         "showlegend": false,
         "type": "scatter",
         "x": {
          "bdata": "AAECAwQFBgcICQoLDA0ODxAREhMU",
          "dtype": "i1"
         },
         "xaxis": "x7",
         "y": {
          "bdata": "AAAAACFZL0AAAAAAIVkvQAAAAAAhWS9AAAAAgE9mI0AAAACAT2YjQAAAAIBPZiNAAAAAgE9mI0AAAACAT2YjQAAAAOCBtQxAAAAA4IG1DEAAAADggbUMQAAAACAwmwxAAAAAIDCbDEAAAAAgR5MDQAAAACBHkwNAAAAAQBGFAEAAAABAEYUAQAAAAEARhQBAAAAAQBGFAEAAAABAEYUAQAAAAEARhQBA",
          "dtype": "f8"
         },
         "yaxis": "y7"
        },
        {
         "line": {
          "color": "green"
         },
         "mode": "lines",
         "showlegend": false,
         "type": "scatter",
         "x": {
          "bdata": "AAECAwQFBgcICQoLDA0ODxAREhMU",
          "dtype": "i1"
         },
         "xaxis": "x8",
         "y": {
          "bdata": "AwMDEBAQEBAfHx8sLDs7SkpKSkpK",
          "dtype": "i1"
         },
         "yaxis": "y8"
        },
        {
         "line": {
          "color": "red"
         },
         "mode": "lines",
         "showlegend": false,
         "type": "scatter",
         "x": {
          "bdata": "AAECAwQFBgcICQoLDA0ODxAREhMU",
          "dtype": "i1"
         },
         "xaxis": "x9",
         "y": {
          "bdata": "AAAAoI4pJkAAAACgjikmQAAAAKCOKSZAAAAAIMy/HEAAAAAgzL8cQAAAACDMvxxAAAAAIMy/HEAAAAAgzL8cQAAAAKBWbQlAAAAAoFZtCUAAAACgVm0JQAAAAKBWbQlAAAAAoFZtCUAAAACgVm0JQAAAAKBWbQlAAAAAoFZtCUAAAACgVm0JQAAAAMDlYPw/AAAAwOVg/D8AAADA5WD8PwAAAMDlYPw/",
          "dtype": "f8"
         },
         "yaxis": "y9"
        },
        {
         "line": {
          "color": "blue"
         },
         "mode": "lines",
         "showlegend": false,
         "type": "scatter",
         "x": {
          "bdata": "AAECAwQFBgcICQoLDA0ODxAREhMU",
          "dtype": "i1"
         },
         "xaxis": "x9",
         "y": {
          "bdata": "AAAAwM4TL0AAAADAzhMvQAAAAMDOEy9AAAAAgLAWI0AAAACAsBYjQAAAAICwFiNAAAAAgLAWI0AAAACAsBYjQAAAAOBmpwxAAAAA4GanDEAAAADgZqcMQAAAAOBmpwxAAAAA4GanDEAAAADgZqcMQAAAAOBmpwxAAAAA4GanDEAAAADgZqcMQAEAAMBaRQJAAQAAwFpFAkABAADAWkUCQAEAAMBaRQJA",
          "dtype": "f8"
         },
         "yaxis": "y9"
        },
        {
         "line": {
          "color": "green"
         },
         "mode": "lines",
         "showlegend": false,
         "type": "scatter",
         "x": {
          "bdata": "AAECAwQFBgcICQoLDA0ODxAREhMU",
          "dtype": "i1"
         },
         "xaxis": "x10",
         "y": {
          "bdata": "AwMDEBAQEBAfHx8fHx8fHx8sLCws",
          "dtype": "i1"
         },
         "yaxis": "y10"
        },
        {
         "line": {
          "color": "red"
         },
         "mode": "lines",
         "showlegend": false,
         "type": "scatter",
         "x": {
          "bdata": "AAECAwQFBgcICQoLDA0ODxAREhMU",
          "dtype": "i1"
         },
         "xaxis": "x11",
         "y": {
          "bdata": "AQAAQEjsPkAAAAAA1HlGQAAAAADUeUZAAAAAALR1NEAAAAAAtHU0QAAAAAC0dTRAAAAAALR1NEAAAAAAtHU0QP///z9VbDRA////P1VsNED///8/VWw0QP///z9VbDRA////P1VsNED///8/VWw0QP///z9VbDRA////P1VsNED///8/VWw0QP///z9VbDRA////P1VsNED///8/VWw0QP///z9VbDRA",
          "dtype": "f8"
         },
         "yaxis": "y11"
        },
        {
         "line": {
          "color": "blue"
         },
         "mode": "lines",
         "showlegend": false,
         "type": "scatter",
         "x": {
          "bdata": "AAECAwQFBgcICQoLDA0ODxAREhMU",
          "dtype": "i1"
         },
         "xaxis": "x11",
         "y": {
          "bdata": "AAAAwH4LKEAAAABAMpUmQAAAAEAylSZAAAAA4OLVG0AAAADg4tUbQAAAAODi1RtAAAAA4OLVG0AAAADg4tUbQAAAAAC0wxpAAAAAALTDGkAAAAAAtMMaQAAAAAC0wxpAAAAAALTDGkAAAAAAtMMaQAAAAAC0wxpAAAAAALTDGkAAAAAAtMMaQAAAAAC0wxpAAAAAALTDGkAAAAAAtMMaQAAAAAC0wxpA",
          "dtype": "f8"
         },
         "yaxis": "y11"
        },
        {
         "line": {
          "color": "green"
         },
         "mode": "lines",
         "showlegend": false,
         "type": "scatter",
         "x": {
          "bdata": "AAECAwQFBgcICQoLDA0ODxAREhMU",
          "dtype": "i1"
         },
         "xaxis": "x12",
         "y": {
          "bdata": "AxISEBAQEBAuLi4uLi4uLi4uLi4u",
          "dtype": "i1"
         },
         "yaxis": "y12"
        },
        {
         "line": {
          "color": "red"
         },
         "mode": "lines",
         "showlegend": false,
         "type": "scatter",
         "x": {
          "bdata": "AAECAwQFBgcICQoLDA0ODxAREhMU",
          "dtype": "i1"
         },
         "xaxis": "x13",
         "y": {
          "bdata": "AAAAwMwFMkAAAADAzAUyQAAAAMDMBTJAAAAAQGRkG0AAAABAZGQbQAAAAEBkZBtAAAAAQGRkG0AAAABAZGQbQAAAAMDbRBdAAAAAwNtEF0AAAADA20QXQAAAAMDbRBdAAAAAwNtEF0AAAADA20QXQAAAAMDbRBdAAAAAwNtEF0AAAADA20QXQAAAAMDbRBdAAAAAwNtEF0AAAADA20QXQAAAAMDbRBdA",
          "dtype": "f8"
         },
         "yaxis": "y13"
        },
        {
         "line": {
          "color": "blue"
         },
         "mode": "lines",
         "showlegend": false,
         "type": "scatter",
         "x": {
          "bdata": "AAECAwQFBgcICQoLDA0ODxAREhMU",
          "dtype": "i1"
         },
         "xaxis": "x13",
         "y": {
          "bdata": "AQAAQCicLUABAABAKJwtQAEAAEAonC1AAAAAQL4XI0AAAABAvhcjQAAAAEC+FyNAAAAAQL4XI0AAAABAvhcjQAAAAIA91iJAAAAAgD3WIkAAAACAPdYiQAAAAIA91iJAAAAAgD3WIkAAAACAPdYiQAAAAIA91iJAAAAAgD3WIkAAAACAPdYiQAAAAIA91iJAAAAAgD3WIkAAAACAPdYiQAAAAIA91iJA",
          "dtype": "f8"
         },
         "yaxis": "y13"
        },
        {
         "line": {
          "color": "green"
         },
         "mode": "lines",
         "showlegend": false,
         "type": "scatter",
         "x": {
          "bdata": "AAECAwQFBgcICQoLDA0ODxAREhMU",
          "dtype": "i1"
         },
         "xaxis": "x14",
         "y": {
          "bdata": "AwMDEBAQEBAfHx8fHx8fHx8fHx8f",
          "dtype": "i1"
         },
         "yaxis": "y14"
        },
        {
         "line": {
          "color": "red"
         },
         "mode": "lines",
         "showlegend": false,
         "type": "scatter",
         "x": {
          "bdata": "AAECAwQFBgcICQoLDA0ODxAREhMU",
          "dtype": "i1"
         },
         "xaxis": "x15",
         "y": {
          "bdata": "AAAAAL3rJ0AAAAAAvesnQAAAAAC96ydAAAAAAKdfH0AAAAAAp18fQAAAAACnXx9AAAAAAKdfH0AAAAAAp18fQAAAAKCOJg9AAAAAoI4mD0AAAACgjiYPQAAAAICzBw9AAAAAgLMHD0AAAACgdMLzPwAAAKB0wvM/AAAAwEfgAUAAAADAR+ABQAAAAMBH4AFAAAAAwEfgAUAAAADAR+ABQAAAAKC+EfE/",
          "dtype": "f8"
         },
         "yaxis": "y15"
        },
        {
         "line": {
          "color": "blue"
         },
         "mode": "lines",
         "showlegend": false,
         "type": "scatter",
         "x": {
          "bdata": "AAECAwQFBgcICQoLDA0ODxAREhMU",
          "dtype": "i1"
         },
         "xaxis": "x15",
         "y": {
          "bdata": "AAAAgJraLkAAAACAmtouQAAAAICa2i5AAAAAwAHvIkAAAADAAe8iQAAAAMAB7yJAAAAAwAHvIkAAAADAAe8iQAAAAEALBwxAAAAAQAsHDEAAAABACwcMQAAAACDZ7AtAAAAAINnsC0AAAADA6L4DQAAAAMDovgNAAAAAQPRTAkAAAABA9FMCQAAAAED0UwJAAAAAQPRTAkAAAABA9FMCQAAAACDlDwFA",
          "dtype": "f8"
         },
         "yaxis": "y15"
        },
        {
         "line": {
          "color": "green"
         },
         "mode": "lines",
         "showlegend": false,
         "type": "scatter",
         "x": {
          "bdata": "AAECAwQFBgcICQoLDA0ODxAREhMU",
          "dtype": "i1"
         },
         "xaxis": "x16",
         "y": {
          "bdata": "AwMDEBAQEBAfHx8sLDs7LCwsLCx1",
          "dtype": "i1"
         },
         "yaxis": "y16"
        },
        {
         "line": {
          "color": "red"
         },
         "mode": "lines",
         "showlegend": false,
         "type": "scatter",
         "x": {
          "bdata": "AAECAwQFBgcICQoLDA0ODxAREhMU",
          "dtype": "i1"
         },
         "xaxis": "x17",
         "y": {
          "bdata": "AAAA4J6/H0AAAADgnr8fQAAAAOCevx9AAQAAQHjsCEABAABAeOwIQAEAAEB47AhAAQAAQHjsCEABAABAeOwIQAAAAADZ9QdAAAAAANn1B0AAAAAA2fUHQAAAAADZ9QdAAAAAANn1B0AAAAAAg1YCQAAAAACDVgJAAAAAAINWAkD/////9/oBQAAAAOCmA/g/AAAA4KYD+D8AAADgpgP4PwAAAOCmA/g/",
          "dtype": "f8"
         },
         "yaxis": "y17"
        },
        {
         "line": {
          "color": "blue"
         },
         "mode": "lines",
         "showlegend": false,
         "type": "scatter",
         "x": {
          "bdata": "AAECAwQFBgcICQoLDA0ODxAREhMU",
          "dtype": "i1"
         },
         "xaxis": "x17",
         "y": {
          "bdata": "AAAAYNpiL0AAAABg2mIvQAAAAGDaYi9AAAAAYNh9I0AAAABg2H0jQAAAAGDYfSNAAAAAYNh9I0AAAABg2H0jQAAAACDgvwxAAAAAIOC/DEAAAAAg4L8MQAAAACDgvwxAAAAAIOC/DEAAAABg+rMFQAAAAGD6swVAAAAAYPqzBUABAAAgDzoFQAAAACAAQgBAAAAAIABCAEAAAAAgAEIAQAAAACAAQgBA",
          "dtype": "f8"
         },
         "yaxis": "y17"
        },
        {
         "line": {
          "color": "green"
         },
         "mode": "lines",
         "showlegend": false,
         "type": "scatter",
         "x": {
          "bdata": "AAECAwQFBgcICQoLDA0ODxAREhMU",
          "dtype": "i1"
         },
         "xaxis": "x18",
         "y": {
          "bdata": "AwMDEBAQEBAfHx8fHy4uLjssLCws",
          "dtype": "i1"
         },
         "yaxis": "y18"
        },
        {
         "line": {
          "color": "red"
         },
         "mode": "lines",
         "showlegend": false,
         "type": "scatter",
         "x": {
          "bdata": "AAECAwQFBgcICQoLDA0ODxAREhMU",
          "dtype": "i1"
         },
         "xaxis": "x19",
         "y": {
          "bdata": "AAAAALuhJUAAAAAAu6ElQAAAAAC7oSVAAAAAYLEgIEAAAABgsSAgQAAAAGCxICBAAAAAYLEgIEAAAABgsSAgQAAAAEBsMhBAAAAAQGwyEEAAAABAbDIQQAAAAEBsMhBAAAAAQGwyEEAAAABA4ozwPwAAAEDijPA/AAAAQOKM8D8AAABA4ozwPwAAAEDijPA/AAAAwBiX7D////8fJPTtPwAAAOAvxfE/",
          "dtype": "f8"
         },
         "yaxis": "y19"
        },
        {
         "line": {
          "color": "blue"
         },
         "mode": "lines",
         "showlegend": false,
         "type": "scatter",
         "x": {
          "bdata": "AAECAwQFBgcICQoLDA0ODxAREhMU",
          "dtype": "i1"
         },
         "xaxis": "x19",
         "y": {
          "bdata": "AAAAYDoHL0AAAABgOgcvQAAAAGA6By9AAAAA4C/lIkAAAADgL+UiQAAAAOAv5SJAAAAA4C/lIkAAAADgL+UiQAAAACCf4QtAAAAAIJ/hC0AAAAAgn+ELQAAAACCf4QtAAAAAIJ/hC0AAAAAAj2wIQAAAAACPbAhAAAAAAI9sCEAAAAAAj2wIQAAAAACPbAhAAAAAANw3BkAAAAAASKMAQAAAAAAKYgBA",
          "dtype": "f8"
         },
         "yaxis": "y19"
        },
        {
         "line": {
          "color": "green"
         },
         "mode": "lines",
         "showlegend": false,
         "type": "scatter",
         "x": {
          "bdata": "AAECAwQFBgcICQoLDA0ODxAREhMU",
          "dtype": "i1"
         },
         "xaxis": "x20",
         "y": {
          "bdata": "AwMDEBAQEBAfHx8fHy4uLi4uLDks",
          "dtype": "i1"
         },
         "yaxis": "y20"
        }
       ],
       "layout": {
        "annotations": [
         {
          "font": {
           "size": 16
          },
          "showarrow": false,
          "text": "Fold 1 – Fitness",
          "x": 0.225,
          "xanchor": "center",
          "xref": "paper",
          "y": 1,
          "yanchor": "bottom",
          "yref": "paper"
         },
         {
          "font": {
           "size": 16
          },
          "showarrow": false,
          "text": "Fold 1 – Size",
          "x": 0.775,
          "xanchor": "center",
          "xref": "paper",
          "y": 1,
          "yanchor": "bottom",
          "yref": "paper"
         },
         {
          "font": {
           "size": 16
          },
          "showarrow": false,
          "text": "Fold 2 – Fitness",
          "x": 0.225,
          "xanchor": "center",
          "xref": "paper",
          "y": 0.8950000000000001,
          "yanchor": "bottom",
          "yref": "paper"
         },
         {
          "font": {
           "size": 16
          },
          "showarrow": false,
          "text": "Fold 2 – Size",
          "x": 0.775,
          "xanchor": "center",
          "xref": "paper",
          "y": 0.8950000000000001,
          "yanchor": "bottom",
          "yref": "paper"
         },
         {
          "font": {
           "size": 16
          },
          "showarrow": false,
          "text": "Fold 3 – Fitness",
          "x": 0.225,
          "xanchor": "center",
          "xref": "paper",
          "y": 0.7900000000000001,
          "yanchor": "bottom",
          "yref": "paper"
         },
         {
          "font": {
           "size": 16
          },
          "showarrow": false,
          "text": "Fold 3 – Size",
          "x": 0.775,
          "xanchor": "center",
          "xref": "paper",
          "y": 0.7900000000000001,
          "yanchor": "bottom",
          "yref": "paper"
         },
         {
          "font": {
           "size": 16
          },
          "showarrow": false,
          "text": "Fold 4 – Fitness",
          "x": 0.225,
          "xanchor": "center",
          "xref": "paper",
          "y": 0.6850000000000002,
          "yanchor": "bottom",
          "yref": "paper"
         },
         {
          "font": {
           "size": 16
          },
          "showarrow": false,
          "text": "Fold 4 – Size",
          "x": 0.775,
          "xanchor": "center",
          "xref": "paper",
          "y": 0.6850000000000002,
          "yanchor": "bottom",
          "yref": "paper"
         },
         {
          "font": {
           "size": 16
          },
          "showarrow": false,
          "text": "Fold 5 – Fitness",
          "x": 0.225,
          "xanchor": "center",
          "xref": "paper",
          "y": 0.5800000000000001,
          "yanchor": "bottom",
          "yref": "paper"
         },
         {
          "font": {
           "size": 16
          },
          "showarrow": false,
          "text": "Fold 5 – Size",
          "x": 0.775,
          "xanchor": "center",
          "xref": "paper",
          "y": 0.5800000000000001,
          "yanchor": "bottom",
          "yref": "paper"
         },
         {
          "font": {
           "size": 16
          },
          "showarrow": false,
          "text": "Fold 6 – Fitness",
          "x": 0.225,
          "xanchor": "center",
          "xref": "paper",
          "y": 0.47500000000000003,
          "yanchor": "bottom",
          "yref": "paper"
         },
         {
          "font": {
           "size": 16
          },
          "showarrow": false,
          "text": "Fold 6 – Size",
          "x": 0.775,
          "xanchor": "center",
          "xref": "paper",
          "y": 0.47500000000000003,
          "yanchor": "bottom",
          "yref": "paper"
         },
         {
          "font": {
           "size": 16
          },
          "showarrow": false,
          "text": "Fold 7 – Fitness",
          "x": 0.225,
          "xanchor": "center",
          "xref": "paper",
          "y": 0.37000000000000005,
          "yanchor": "bottom",
          "yref": "paper"
         },
         {
          "font": {
           "size": 16
          },
          "showarrow": false,
          "text": "Fold 7 – Size",
          "x": 0.775,
          "xanchor": "center",
          "xref": "paper",
          "y": 0.37000000000000005,
          "yanchor": "bottom",
          "yref": "paper"
         },
         {
          "font": {
           "size": 16
          },
          "showarrow": false,
          "text": "Fold 8 – Fitness",
          "x": 0.225,
          "xanchor": "center",
          "xref": "paper",
          "y": 0.265,
          "yanchor": "bottom",
          "yref": "paper"
         },
         {
          "font": {
           "size": 16
          },
          "showarrow": false,
          "text": "Fold 8 – Size",
          "x": 0.775,
          "xanchor": "center",
          "xref": "paper",
          "y": 0.265,
          "yanchor": "bottom",
          "yref": "paper"
         },
         {
          "font": {
           "size": 16
          },
          "showarrow": false,
          "text": "Fold 9 – Fitness",
          "x": 0.225,
          "xanchor": "center",
          "xref": "paper",
          "y": 0.16000000000000003,
          "yanchor": "bottom",
          "yref": "paper"
         },
         {
          "font": {
           "size": 16
          },
          "showarrow": false,
          "text": "Fold 9 – Size",
          "x": 0.775,
          "xanchor": "center",
          "xref": "paper",
          "y": 0.16000000000000003,
          "yanchor": "bottom",
          "yref": "paper"
         },
         {
          "font": {
           "size": 16
          },
          "showarrow": false,
          "text": "Fold 10 – Fitness",
          "x": 0.225,
          "xanchor": "center",
          "xref": "paper",
          "y": 0.05500000000000001,
          "yanchor": "bottom",
          "yref": "paper"
         },
         {
          "font": {
           "size": 16
          },
          "showarrow": false,
          "text": "Fold 10 – Size",
          "x": 0.775,
          "xanchor": "center",
          "xref": "paper",
          "y": 0.05500000000000001,
          "yanchor": "bottom",
          "yref": "paper"
         }
        ],
        "height": 3500,
        "margin": {
         "t": 50
        },
        "template": {
         "data": {
          "bar": [
           {
            "error_x": {
             "color": "#2a3f5f"
            },
            "error_y": {
             "color": "#2a3f5f"
            },
            "marker": {
             "line": {
              "color": "#E5ECF6",
              "width": 0.5
             },
             "pattern": {
              "fillmode": "overlay",
              "size": 10,
              "solidity": 0.2
             }
            },
            "type": "bar"
           }
          ],
          "barpolar": [
           {
            "marker": {
             "line": {
              "color": "#E5ECF6",
              "width": 0.5
             },
             "pattern": {
              "fillmode": "overlay",
              "size": 10,
              "solidity": 0.2
             }
            },
            "type": "barpolar"
           }
          ],
          "carpet": [
           {
            "aaxis": {
             "endlinecolor": "#2a3f5f",
             "gridcolor": "white",
             "linecolor": "white",
             "minorgridcolor": "white",
             "startlinecolor": "#2a3f5f"
            },
            "baxis": {
             "endlinecolor": "#2a3f5f",
             "gridcolor": "white",
             "linecolor": "white",
             "minorgridcolor": "white",
             "startlinecolor": "#2a3f5f"
            },
            "type": "carpet"
           }
          ],
          "choropleth": [
           {
            "colorbar": {
             "outlinewidth": 0,
             "ticks": ""
            },
            "type": "choropleth"
           }
          ],
          "contour": [
           {
            "colorbar": {
             "outlinewidth": 0,
             "ticks": ""
            },
            "colorscale": [
             [
              0,
              "#0d0887"
             ],
             [
              0.1111111111111111,
              "#46039f"
             ],
             [
              0.2222222222222222,
              "#7201a8"
             ],
             [
              0.3333333333333333,
              "#9c179e"
             ],
             [
              0.4444444444444444,
              "#bd3786"
             ],
             [
              0.5555555555555556,
              "#d8576b"
             ],
             [
              0.6666666666666666,
              "#ed7953"
             ],
             [
              0.7777777777777778,
              "#fb9f3a"
             ],
             [
              0.8888888888888888,
              "#fdca26"
             ],
             [
              1,
              "#f0f921"
             ]
            ],
            "type": "contour"
           }
          ],
          "contourcarpet": [
           {
            "colorbar": {
             "outlinewidth": 0,
             "ticks": ""
            },
            "type": "contourcarpet"
           }
          ],
          "heatmap": [
           {
            "colorbar": {
             "outlinewidth": 0,
             "ticks": ""
            },
            "colorscale": [
             [
              0,
              "#0d0887"
             ],
             [
              0.1111111111111111,
              "#46039f"
             ],
             [
              0.2222222222222222,
              "#7201a8"
             ],
             [
              0.3333333333333333,
              "#9c179e"
             ],
             [
              0.4444444444444444,
              "#bd3786"
             ],
             [
              0.5555555555555556,
              "#d8576b"
             ],
             [
              0.6666666666666666,
              "#ed7953"
             ],
             [
              0.7777777777777778,
              "#fb9f3a"
             ],
             [
              0.8888888888888888,
              "#fdca26"
             ],
             [
              1,
              "#f0f921"
             ]
            ],
            "type": "heatmap"
           }
          ],
          "histogram": [
           {
            "marker": {
             "pattern": {
              "fillmode": "overlay",
              "size": 10,
              "solidity": 0.2
             }
            },
            "type": "histogram"
           }
          ],
          "histogram2d": [
           {
            "colorbar": {
             "outlinewidth": 0,
             "ticks": ""
            },
            "colorscale": [
             [
              0,
              "#0d0887"
             ],
             [
              0.1111111111111111,
              "#46039f"
             ],
             [
              0.2222222222222222,
              "#7201a8"
             ],
             [
              0.3333333333333333,
              "#9c179e"
             ],
             [
              0.4444444444444444,
              "#bd3786"
             ],
             [
              0.5555555555555556,
              "#d8576b"
             ],
             [
              0.6666666666666666,
              "#ed7953"
             ],
             [
              0.7777777777777778,
              "#fb9f3a"
             ],
             [
              0.8888888888888888,
              "#fdca26"
             ],
             [
              1,
              "#f0f921"
             ]
            ],
            "type": "histogram2d"
           }
          ],
          "histogram2dcontour": [
           {
            "colorbar": {
             "outlinewidth": 0,
             "ticks": ""
            },
            "colorscale": [
             [
              0,
              "#0d0887"
             ],
             [
              0.1111111111111111,
              "#46039f"
             ],
             [
              0.2222222222222222,
              "#7201a8"
             ],
             [
              0.3333333333333333,
              "#9c179e"
             ],
             [
              0.4444444444444444,
              "#bd3786"
             ],
             [
              0.5555555555555556,
              "#d8576b"
             ],
             [
              0.6666666666666666,
              "#ed7953"
             ],
             [
              0.7777777777777778,
              "#fb9f3a"
             ],
             [
              0.8888888888888888,
              "#fdca26"
             ],
             [
              1,
              "#f0f921"
             ]
            ],
            "type": "histogram2dcontour"
           }
          ],
          "mesh3d": [
           {
            "colorbar": {
             "outlinewidth": 0,
             "ticks": ""
            },
            "type": "mesh3d"
           }
          ],
          "parcoords": [
           {
            "line": {
             "colorbar": {
              "outlinewidth": 0,
              "ticks": ""
             }
            },
            "type": "parcoords"
           }
          ],
          "pie": [
           {
            "automargin": true,
            "type": "pie"
           }
          ],
          "scatter": [
           {
            "fillpattern": {
             "fillmode": "overlay",
             "size": 10,
             "solidity": 0.2
            },
            "type": "scatter"
           }
          ],
          "scatter3d": [
           {
            "line": {
             "colorbar": {
              "outlinewidth": 0,
              "ticks": ""
             }
            },
            "marker": {
             "colorbar": {
              "outlinewidth": 0,
              "ticks": ""
             }
            },
            "type": "scatter3d"
           }
          ],
          "scattercarpet": [
           {
            "marker": {
             "colorbar": {
              "outlinewidth": 0,
              "ticks": ""
             }
            },
            "type": "scattercarpet"
           }
          ],
          "scattergeo": [
           {
            "marker": {
             "colorbar": {
              "outlinewidth": 0,
              "ticks": ""
             }
            },
            "type": "scattergeo"
           }
          ],
          "scattergl": [
           {
            "marker": {
             "colorbar": {
              "outlinewidth": 0,
              "ticks": ""
             }
            },
            "type": "scattergl"
           }
          ],
          "scattermap": [
           {
            "marker": {
             "colorbar": {
              "outlinewidth": 0,
              "ticks": ""
             }
            },
            "type": "scattermap"
           }
          ],
          "scattermapbox": [
           {
            "marker": {
             "colorbar": {
              "outlinewidth": 0,
              "ticks": ""
             }
            },
            "type": "scattermapbox"
           }
          ],
          "scatterpolar": [
           {
            "marker": {
             "colorbar": {
              "outlinewidth": 0,
              "ticks": ""
             }
            },
            "type": "scatterpolar"
           }
          ],
          "scatterpolargl": [
           {
            "marker": {
             "colorbar": {
              "outlinewidth": 0,
              "ticks": ""
             }
            },
            "type": "scatterpolargl"
           }
          ],
          "scatterternary": [
           {
            "marker": {
             "colorbar": {
              "outlinewidth": 0,
              "ticks": ""
             }
            },
            "type": "scatterternary"
           }
          ],
          "surface": [
           {
            "colorbar": {
             "outlinewidth": 0,
             "ticks": ""
            },
            "colorscale": [
             [
              0,
              "#0d0887"
             ],
             [
              0.1111111111111111,
              "#46039f"
             ],
             [
              0.2222222222222222,
              "#7201a8"
             ],
             [
              0.3333333333333333,
              "#9c179e"
             ],
             [
              0.4444444444444444,
              "#bd3786"
             ],
             [
              0.5555555555555556,
              "#d8576b"
             ],
             [
              0.6666666666666666,
              "#ed7953"
             ],
             [
              0.7777777777777778,
              "#fb9f3a"
             ],
             [
              0.8888888888888888,
              "#fdca26"
             ],
             [
              1,
              "#f0f921"
             ]
            ],
            "type": "surface"
           }
          ],
          "table": [
           {
            "cells": {
             "fill": {
              "color": "#EBF0F8"
             },
             "line": {
              "color": "white"
             }
            },
            "header": {
             "fill": {
              "color": "#C8D4E3"
             },
             "line": {
              "color": "white"
             }
            },
            "type": "table"
           }
          ]
         },
         "layout": {
          "annotationdefaults": {
           "arrowcolor": "#2a3f5f",
           "arrowhead": 0,
           "arrowwidth": 1
          },
          "autotypenumbers": "strict",
          "coloraxis": {
           "colorbar": {
            "outlinewidth": 0,
            "ticks": ""
           }
          },
          "colorscale": {
           "diverging": [
            [
             0,
             "#8e0152"
            ],
            [
             0.1,
             "#c51b7d"
            ],
            [
             0.2,
             "#de77ae"
            ],
            [
             0.3,
             "#f1b6da"
            ],
            [
             0.4,
             "#fde0ef"
            ],
            [
             0.5,
             "#f7f7f7"
            ],
            [
             0.6,
             "#e6f5d0"
            ],
            [
             0.7,
             "#b8e186"
            ],
            [
             0.8,
             "#7fbc41"
            ],
            [
             0.9,
             "#4d9221"
            ],
            [
             1,
             "#276419"
            ]
           ],
           "sequential": [
            [
             0,
             "#0d0887"
            ],
            [
             0.1111111111111111,
             "#46039f"
            ],
            [
             0.2222222222222222,
             "#7201a8"
            ],
            [
             0.3333333333333333,
             "#9c179e"
            ],
            [
             0.4444444444444444,
             "#bd3786"
            ],
            [
             0.5555555555555556,
             "#d8576b"
            ],
            [
             0.6666666666666666,
             "#ed7953"
            ],
            [
             0.7777777777777778,
             "#fb9f3a"
            ],
            [
             0.8888888888888888,
             "#fdca26"
            ],
            [
             1,
             "#f0f921"
            ]
           ],
           "sequentialminus": [
            [
             0,
             "#0d0887"
            ],
            [
             0.1111111111111111,
             "#46039f"
            ],
            [
             0.2222222222222222,
             "#7201a8"
            ],
            [
             0.3333333333333333,
             "#9c179e"
            ],
            [
             0.4444444444444444,
             "#bd3786"
            ],
            [
             0.5555555555555556,
             "#d8576b"
            ],
            [
             0.6666666666666666,
             "#ed7953"
            ],
            [
             0.7777777777777778,
             "#fb9f3a"
            ],
            [
             0.8888888888888888,
             "#fdca26"
            ],
            [
             1,
             "#f0f921"
            ]
           ]
          },
          "colorway": [
           "#636efa",
           "#EF553B",
           "#00cc96",
           "#ab63fa",
           "#FFA15A",
           "#19d3f3",
           "#FF6692",
           "#B6E880",
           "#FF97FF",
           "#FECB52"
          ],
          "font": {
           "color": "#2a3f5f"
          },
          "geo": {
           "bgcolor": "white",
           "lakecolor": "white",
           "landcolor": "#E5ECF6",
           "showlakes": true,
           "showland": true,
           "subunitcolor": "white"
          },
          "hoverlabel": {
           "align": "left"
          },
          "hovermode": "closest",
          "mapbox": {
           "style": "light"
          },
          "paper_bgcolor": "white",
          "plot_bgcolor": "#E5ECF6",
          "polar": {
           "angularaxis": {
            "gridcolor": "white",
            "linecolor": "white",
            "ticks": ""
           },
           "bgcolor": "#E5ECF6",
           "radialaxis": {
            "gridcolor": "white",
            "linecolor": "white",
            "ticks": ""
           }
          },
          "scene": {
           "xaxis": {
            "backgroundcolor": "#E5ECF6",
            "gridcolor": "white",
            "gridwidth": 2,
            "linecolor": "white",
            "showbackground": true,
            "ticks": "",
            "zerolinecolor": "white"
           },
           "yaxis": {
            "backgroundcolor": "#E5ECF6",
            "gridcolor": "white",
            "gridwidth": 2,
            "linecolor": "white",
            "showbackground": true,
            "ticks": "",
            "zerolinecolor": "white"
           },
           "zaxis": {
            "backgroundcolor": "#E5ECF6",
            "gridcolor": "white",
            "gridwidth": 2,
            "linecolor": "white",
            "showbackground": true,
            "ticks": "",
            "zerolinecolor": "white"
           }
          },
          "shapedefaults": {
           "line": {
            "color": "#2a3f5f"
           }
          },
          "ternary": {
           "aaxis": {
            "gridcolor": "white",
            "linecolor": "white",
            "ticks": ""
           },
           "baxis": {
            "gridcolor": "white",
            "linecolor": "white",
            "ticks": ""
           },
           "bgcolor": "#E5ECF6",
           "caxis": {
            "gridcolor": "white",
            "linecolor": "white",
            "ticks": ""
           }
          },
          "title": {
           "x": 0.05
          },
          "xaxis": {
           "automargin": true,
           "gridcolor": "white",
           "linecolor": "white",
           "ticks": "",
           "title": {
            "standoff": 15
           },
           "zerolinecolor": "white",
           "zerolinewidth": 2
          },
          "yaxis": {
           "automargin": true,
           "gridcolor": "white",
           "linecolor": "white",
           "ticks": "",
           "title": {
            "standoff": 15
           },
           "zerolinecolor": "white",
           "zerolinewidth": 2
          }
         }
        },
        "title": {
         "text": "SLIM – Solution Fitness vs Size over Generations (sustavianfeed)"
        },
        "width": 1000,
        "xaxis": {
         "anchor": "y",
         "domain": [
          0,
          0.45
         ],
         "title": {
          "text": "Generation"
         }
        },
        "xaxis10": {
         "anchor": "y10",
         "domain": [
          0.55,
          1
         ],
         "title": {
          "text": "Generation"
         }
        },
        "xaxis11": {
         "anchor": "y11",
         "domain": [
          0,
          0.45
         ],
         "title": {
          "text": "Generation"
         }
        },
        "xaxis12": {
         "anchor": "y12",
         "domain": [
          0.55,
          1
         ],
         "title": {
          "text": "Generation"
         }
        },
        "xaxis13": {
         "anchor": "y13",
         "domain": [
          0,
          0.45
         ],
         "title": {
          "text": "Generation"
         }
        },
        "xaxis14": {
         "anchor": "y14",
         "domain": [
          0.55,
          1
         ],
         "title": {
          "text": "Generation"
         }
        },
        "xaxis15": {
         "anchor": "y15",
         "domain": [
          0,
          0.45
         ],
         "title": {
          "text": "Generation"
         }
        },
        "xaxis16": {
         "anchor": "y16",
         "domain": [
          0.55,
          1
         ],
         "title": {
          "text": "Generation"
         }
        },
        "xaxis17": {
         "anchor": "y17",
         "domain": [
          0,
          0.45
         ],
         "title": {
          "text": "Generation"
         }
        },
        "xaxis18": {
         "anchor": "y18",
         "domain": [
          0.55,
          1
         ],
         "title": {
          "text": "Generation"
         }
        },
        "xaxis19": {
         "anchor": "y19",
         "domain": [
          0,
          0.45
         ],
         "title": {
          "text": "Generation"
         }
        },
        "xaxis2": {
         "anchor": "y2",
         "domain": [
          0.55,
          1
         ],
         "title": {
          "text": "Generation"
         }
        },
        "xaxis20": {
         "anchor": "y20",
         "domain": [
          0.55,
          1
         ],
         "title": {
          "text": "Generation"
         }
        },
        "xaxis3": {
         "anchor": "y3",
         "domain": [
          0,
          0.45
         ],
         "title": {
          "text": "Generation"
         }
        },
        "xaxis4": {
         "anchor": "y4",
         "domain": [
          0.55,
          1
         ],
         "title": {
          "text": "Generation"
         }
        },
        "xaxis5": {
         "anchor": "y5",
         "domain": [
          0,
          0.45
         ],
         "title": {
          "text": "Generation"
         }
        },
        "xaxis6": {
         "anchor": "y6",
         "domain": [
          0.55,
          1
         ],
         "title": {
          "text": "Generation"
         }
        },
        "xaxis7": {
         "anchor": "y7",
         "domain": [
          0,
          0.45
         ],
         "title": {
          "text": "Generation"
         }
        },
        "xaxis8": {
         "anchor": "y8",
         "domain": [
          0.55,
          1
         ],
         "title": {
          "text": "Generation"
         }
        },
        "xaxis9": {
         "anchor": "y9",
         "domain": [
          0,
          0.45
         ],
         "title": {
          "text": "Generation"
         }
        },
        "yaxis": {
         "anchor": "x",
         "domain": [
          0.9450000000000001,
          1
         ],
         "title": {
          "text": "Fitness"
         }
        },
        "yaxis10": {
         "anchor": "x10",
         "domain": [
          0.525,
          0.5800000000000001
         ],
         "title": {
          "text": "Nodes count"
         }
        },
        "yaxis11": {
         "anchor": "x11",
         "domain": [
          0.42000000000000004,
          0.47500000000000003
         ],
         "title": {
          "text": "Fitness"
         }
        },
        "yaxis12": {
         "anchor": "x12",
         "domain": [
          0.42000000000000004,
          0.47500000000000003
         ],
         "title": {
          "text": "Nodes count"
         }
        },
        "yaxis13": {
         "anchor": "x13",
         "domain": [
          0.31500000000000006,
          0.37000000000000005
         ],
         "title": {
          "text": "Fitness"
         }
        },
        "yaxis14": {
         "anchor": "x14",
         "domain": [
          0.31500000000000006,
          0.37000000000000005
         ],
         "title": {
          "text": "Nodes count"
         }
        },
        "yaxis15": {
         "anchor": "x15",
         "domain": [
          0.21000000000000002,
          0.265
         ],
         "title": {
          "text": "Fitness"
         }
        },
        "yaxis16": {
         "anchor": "x16",
         "domain": [
          0.21000000000000002,
          0.265
         ],
         "title": {
          "text": "Nodes count"
         }
        },
        "yaxis17": {
         "anchor": "x17",
         "domain": [
          0.10500000000000001,
          0.16000000000000003
         ],
         "title": {
          "text": "Fitness"
         }
        },
        "yaxis18": {
         "anchor": "x18",
         "domain": [
          0.10500000000000001,
          0.16000000000000003
         ],
         "title": {
          "text": "Nodes count"
         }
        },
        "yaxis19": {
         "anchor": "x19",
         "domain": [
          0,
          0.05500000000000001
         ],
         "title": {
          "text": "Fitness"
         }
        },
        "yaxis2": {
         "anchor": "x2",
         "domain": [
          0.9450000000000001,
          1
         ],
         "title": {
          "text": "Nodes count"
         }
        },
        "yaxis20": {
         "anchor": "x20",
         "domain": [
          0,
          0.05500000000000001
         ],
         "title": {
          "text": "Nodes count"
         }
        },
        "yaxis3": {
         "anchor": "x3",
         "domain": [
          0.8400000000000001,
          0.8950000000000001
         ],
         "title": {
          "text": "Fitness"
         }
        },
        "yaxis4": {
         "anchor": "x4",
         "domain": [
          0.8400000000000001,
          0.8950000000000001
         ],
         "title": {
          "text": "Nodes count"
         }
        },
        "yaxis5": {
         "anchor": "x5",
         "domain": [
          0.7350000000000001,
          0.7900000000000001
         ],
         "title": {
          "text": "Fitness"
         }
        },
        "yaxis6": {
         "anchor": "x6",
         "domain": [
          0.7350000000000001,
          0.7900000000000001
         ],
         "title": {
          "text": "Nodes count"
         }
        },
        "yaxis7": {
         "anchor": "x7",
         "domain": [
          0.6300000000000001,
          0.6850000000000002
         ],
         "title": {
          "text": "Fitness"
         }
        },
        "yaxis8": {
         "anchor": "x8",
         "domain": [
          0.6300000000000001,
          0.6850000000000002
         ],
         "title": {
          "text": "Nodes count"
         }
        },
        "yaxis9": {
         "anchor": "x9",
         "domain": [
          0.525,
          0.5800000000000001
         ],
         "title": {
          "text": "Fitness"
         }
        }
       }
      }
     },
     "metadata": {},
     "output_type": "display_data"
    }
   ],
   "source": [
    "plot_SLIM_fitness_and_size_logs('SLIM', n_outer_cv, dataset_name='sustavianfeed')"
   ]
  },
  {
   "cell_type": "markdown",
   "id": "0160a97d",
   "metadata": {},
   "source": [
    "When considering performance vs size on a per-fold basis, we may conclude that the augment in size is justified mostly since it is accompanied by better performance. That isn't true for fold 6 and 7 where the model stopped improving at the third generation but the node count kept growing."
   ]
  },
  {
   "cell_type": "code",
   "execution_count": 20,
   "id": "5d9270d4",
   "metadata": {},
   "outputs": [],
   "source": [
    "RESULTS = './results/SLIM'\n",
    "CSV = os.path.join(RESULTS, 'all_folds_grid_search_results.csv')\n",
    "VERSION_COL = 'param_slim_version'\n",
    "TEST_SCORE_COL = 'mean_test_score'\n",
    "DATASET = 'sustavianfeed'\n",
    "LOG_PATTERN = os.path.join(RESULTS, 'logs_best_params_fold_*')\n"
   ]
  },
  {
   "cell_type": "code",
   "execution_count": 21,
   "id": "e2b474aa",
   "metadata": {},
   "outputs": [],
   "source": [
    "df_csv = pd.read_csv(CSV)\n",
    "df_csv['test_rmse'] = -df_csv['mean_test_score']\n",
    "folds_by_version = (\n",
    "    df_csv\n",
    "      .groupby('param_slim_version')['outer_fold']\n",
    "      .unique()\n",
    "      .apply(list)\n",
    "      .to_dict()\n",
    ")\n",
    "VERSIONS = list(folds_by_version.keys())"
   ]
  },
  {
   "cell_type": "code",
   "execution_count": 22,
   "id": "339efaca",
   "metadata": {},
   "outputs": [
    {
     "data": {
      "application/vnd.plotly.v1+json": {
       "config": {
        "plotlyServerURL": "https://plot.ly"
       },
       "data": [
        {
         "alignmentgroup": "True",
         "boxpoints": "all",
         "hovertemplate": "param_slim_version=%{x}<br>test_rmse=%{y}<extra></extra>",
         "legendgroup": "",
         "marker": {
          "color": "#636efa"
         },
         "name": "",
         "notched": false,
         "offsetgroup": "",
         "orientation": "v",
         "showlegend": false,
         "type": "box",
         "x": [
          "SLIM+SIG2",
          "SLIM+SIG1",
          "SLIM+ABS",
          "SLIM*SIG2",
          "SLIM*SIG1",
          "SLIM*ABS",
          "SLIM+SIG2",
          "SLIM+SIG1",
          "SLIM+ABS",
          "SLIM*SIG2",
          "SLIM*SIG1",
          "SLIM*ABS",
          "SLIM+SIG2",
          "SLIM+SIG1",
          "SLIM+ABS",
          "SLIM*SIG2",
          "SLIM*SIG1",
          "SLIM*ABS",
          "SLIM+SIG2",
          "SLIM+SIG1",
          "SLIM+ABS",
          "SLIM*SIG2",
          "SLIM*SIG1",
          "SLIM*ABS",
          "SLIM+SIG2",
          "SLIM+SIG1",
          "SLIM+ABS",
          "SLIM*SIG2",
          "SLIM*SIG1",
          "SLIM*ABS",
          "SLIM+SIG2",
          "SLIM+SIG1",
          "SLIM+ABS",
          "SLIM*SIG2",
          "SLIM*SIG1",
          "SLIM*ABS",
          "SLIM+SIG2",
          "SLIM+SIG1",
          "SLIM+ABS",
          "SLIM*SIG2",
          "SLIM*SIG1",
          "SLIM*ABS",
          "SLIM+SIG2",
          "SLIM+SIG1",
          "SLIM+ABS",
          "SLIM*SIG2",
          "SLIM*SIG1",
          "SLIM*ABS",
          "SLIM+SIG2",
          "SLIM+SIG1",
          "SLIM+ABS",
          "SLIM*SIG2",
          "SLIM*SIG1",
          "SLIM*ABS",
          "SLIM+SIG2",
          "SLIM+SIG1",
          "SLIM+ABS",
          "SLIM*SIG2",
          "SLIM*SIG1",
          "SLIM*ABS"
         ],
         "x0": " ",
         "xaxis": "x",
         "y": {
          "bdata": "zczMTKWIKEDNzMzsr3EnQGZmZsZWRyhAmpmZOWZBIUAzMzO7oDceQJqZmXGFVhpAZmZmNlKBKkDNzMw84uonQMzMzDzW9yhAm5mZKcIAI0DNzMzkWBETQAAAANxVNCFAMjMzAzhtKUDNzMz8qrYnQM3MzKx8IClAAAAAYGf/IEDNzMzcidsKQM3MzLyaaB5AZmZmZtuOKUDNzMyM1gQoQDMzMwPPTClAzczMfI59IkAAAACQhXgdQDIzM7PuUx9AzczMfMhJKUA0MzOTG58nQAEAAJAHuShAzczM3IZ2IUBmZmZ+Zu8SQDMzM8P80h9AZmZmtr5hI0AzMzPz1qYgQM3MzGyB9CFAMzMzsypPH0CamZnZTUcfQJqZmXmbaB9AAAAAYKqQJ0AAAABQ8dElQJqZmakTWydAzczM3C/0JkAzMzOjLCEZQM3MzARQgR9AAAAAEMUGKUCbmZlpfbUnQJqZmZlkgChAMzMzo4U4IUAAAACwuiIQQM3MzLzsBiJAMzMzY67wKUCamZlJrEwoQGZmZgbrWClAZWZmhqQVI0DNzMxkq+gdQDMzM29rJSBAZ2ZmtovXKEABAABwpmEnQGZmZlYleyhAzczMHLsnIUDNzMy0o+0TQGZmZs4vCB5A",
          "dtype": "f8"
         },
         "y0": " ",
         "yaxis": "y"
        }
       ],
       "layout": {
        "boxmode": "group",
        "height": 400,
        "legend": {
         "tracegroupgap": 0
        },
        "template": {
         "data": {
          "bar": [
           {
            "error_x": {
             "color": "#2a3f5f"
            },
            "error_y": {
             "color": "#2a3f5f"
            },
            "marker": {
             "line": {
              "color": "#E5ECF6",
              "width": 0.5
             },
             "pattern": {
              "fillmode": "overlay",
              "size": 10,
              "solidity": 0.2
             }
            },
            "type": "bar"
           }
          ],
          "barpolar": [
           {
            "marker": {
             "line": {
              "color": "#E5ECF6",
              "width": 0.5
             },
             "pattern": {
              "fillmode": "overlay",
              "size": 10,
              "solidity": 0.2
             }
            },
            "type": "barpolar"
           }
          ],
          "carpet": [
           {
            "aaxis": {
             "endlinecolor": "#2a3f5f",
             "gridcolor": "white",
             "linecolor": "white",
             "minorgridcolor": "white",
             "startlinecolor": "#2a3f5f"
            },
            "baxis": {
             "endlinecolor": "#2a3f5f",
             "gridcolor": "white",
             "linecolor": "white",
             "minorgridcolor": "white",
             "startlinecolor": "#2a3f5f"
            },
            "type": "carpet"
           }
          ],
          "choropleth": [
           {
            "colorbar": {
             "outlinewidth": 0,
             "ticks": ""
            },
            "type": "choropleth"
           }
          ],
          "contour": [
           {
            "colorbar": {
             "outlinewidth": 0,
             "ticks": ""
            },
            "colorscale": [
             [
              0,
              "#0d0887"
             ],
             [
              0.1111111111111111,
              "#46039f"
             ],
             [
              0.2222222222222222,
              "#7201a8"
             ],
             [
              0.3333333333333333,
              "#9c179e"
             ],
             [
              0.4444444444444444,
              "#bd3786"
             ],
             [
              0.5555555555555556,
              "#d8576b"
             ],
             [
              0.6666666666666666,
              "#ed7953"
             ],
             [
              0.7777777777777778,
              "#fb9f3a"
             ],
             [
              0.8888888888888888,
              "#fdca26"
             ],
             [
              1,
              "#f0f921"
             ]
            ],
            "type": "contour"
           }
          ],
          "contourcarpet": [
           {
            "colorbar": {
             "outlinewidth": 0,
             "ticks": ""
            },
            "type": "contourcarpet"
           }
          ],
          "heatmap": [
           {
            "colorbar": {
             "outlinewidth": 0,
             "ticks": ""
            },
            "colorscale": [
             [
              0,
              "#0d0887"
             ],
             [
              0.1111111111111111,
              "#46039f"
             ],
             [
              0.2222222222222222,
              "#7201a8"
             ],
             [
              0.3333333333333333,
              "#9c179e"
             ],
             [
              0.4444444444444444,
              "#bd3786"
             ],
             [
              0.5555555555555556,
              "#d8576b"
             ],
             [
              0.6666666666666666,
              "#ed7953"
             ],
             [
              0.7777777777777778,
              "#fb9f3a"
             ],
             [
              0.8888888888888888,
              "#fdca26"
             ],
             [
              1,
              "#f0f921"
             ]
            ],
            "type": "heatmap"
           }
          ],
          "histogram": [
           {
            "marker": {
             "pattern": {
              "fillmode": "overlay",
              "size": 10,
              "solidity": 0.2
             }
            },
            "type": "histogram"
           }
          ],
          "histogram2d": [
           {
            "colorbar": {
             "outlinewidth": 0,
             "ticks": ""
            },
            "colorscale": [
             [
              0,
              "#0d0887"
             ],
             [
              0.1111111111111111,
              "#46039f"
             ],
             [
              0.2222222222222222,
              "#7201a8"
             ],
             [
              0.3333333333333333,
              "#9c179e"
             ],
             [
              0.4444444444444444,
              "#bd3786"
             ],
             [
              0.5555555555555556,
              "#d8576b"
             ],
             [
              0.6666666666666666,
              "#ed7953"
             ],
             [
              0.7777777777777778,
              "#fb9f3a"
             ],
             [
              0.8888888888888888,
              "#fdca26"
             ],
             [
              1,
              "#f0f921"
             ]
            ],
            "type": "histogram2d"
           }
          ],
          "histogram2dcontour": [
           {
            "colorbar": {
             "outlinewidth": 0,
             "ticks": ""
            },
            "colorscale": [
             [
              0,
              "#0d0887"
             ],
             [
              0.1111111111111111,
              "#46039f"
             ],
             [
              0.2222222222222222,
              "#7201a8"
             ],
             [
              0.3333333333333333,
              "#9c179e"
             ],
             [
              0.4444444444444444,
              "#bd3786"
             ],
             [
              0.5555555555555556,
              "#d8576b"
             ],
             [
              0.6666666666666666,
              "#ed7953"
             ],
             [
              0.7777777777777778,
              "#fb9f3a"
             ],
             [
              0.8888888888888888,
              "#fdca26"
             ],
             [
              1,
              "#f0f921"
             ]
            ],
            "type": "histogram2dcontour"
           }
          ],
          "mesh3d": [
           {
            "colorbar": {
             "outlinewidth": 0,
             "ticks": ""
            },
            "type": "mesh3d"
           }
          ],
          "parcoords": [
           {
            "line": {
             "colorbar": {
              "outlinewidth": 0,
              "ticks": ""
             }
            },
            "type": "parcoords"
           }
          ],
          "pie": [
           {
            "automargin": true,
            "type": "pie"
           }
          ],
          "scatter": [
           {
            "fillpattern": {
             "fillmode": "overlay",
             "size": 10,
             "solidity": 0.2
            },
            "type": "scatter"
           }
          ],
          "scatter3d": [
           {
            "line": {
             "colorbar": {
              "outlinewidth": 0,
              "ticks": ""
             }
            },
            "marker": {
             "colorbar": {
              "outlinewidth": 0,
              "ticks": ""
             }
            },
            "type": "scatter3d"
           }
          ],
          "scattercarpet": [
           {
            "marker": {
             "colorbar": {
              "outlinewidth": 0,
              "ticks": ""
             }
            },
            "type": "scattercarpet"
           }
          ],
          "scattergeo": [
           {
            "marker": {
             "colorbar": {
              "outlinewidth": 0,
              "ticks": ""
             }
            },
            "type": "scattergeo"
           }
          ],
          "scattergl": [
           {
            "marker": {
             "colorbar": {
              "outlinewidth": 0,
              "ticks": ""
             }
            },
            "type": "scattergl"
           }
          ],
          "scattermap": [
           {
            "marker": {
             "colorbar": {
              "outlinewidth": 0,
              "ticks": ""
             }
            },
            "type": "scattermap"
           }
          ],
          "scattermapbox": [
           {
            "marker": {
             "colorbar": {
              "outlinewidth": 0,
              "ticks": ""
             }
            },
            "type": "scattermapbox"
           }
          ],
          "scatterpolar": [
           {
            "marker": {
             "colorbar": {
              "outlinewidth": 0,
              "ticks": ""
             }
            },
            "type": "scatterpolar"
           }
          ],
          "scatterpolargl": [
           {
            "marker": {
             "colorbar": {
              "outlinewidth": 0,
              "ticks": ""
             }
            },
            "type": "scatterpolargl"
           }
          ],
          "scatterternary": [
           {
            "marker": {
             "colorbar": {
              "outlinewidth": 0,
              "ticks": ""
             }
            },
            "type": "scatterternary"
           }
          ],
          "surface": [
           {
            "colorbar": {
             "outlinewidth": 0,
             "ticks": ""
            },
            "colorscale": [
             [
              0,
              "#0d0887"
             ],
             [
              0.1111111111111111,
              "#46039f"
             ],
             [
              0.2222222222222222,
              "#7201a8"
             ],
             [
              0.3333333333333333,
              "#9c179e"
             ],
             [
              0.4444444444444444,
              "#bd3786"
             ],
             [
              0.5555555555555556,
              "#d8576b"
             ],
             [
              0.6666666666666666,
              "#ed7953"
             ],
             [
              0.7777777777777778,
              "#fb9f3a"
             ],
             [
              0.8888888888888888,
              "#fdca26"
             ],
             [
              1,
              "#f0f921"
             ]
            ],
            "type": "surface"
           }
          ],
          "table": [
           {
            "cells": {
             "fill": {
              "color": "#EBF0F8"
             },
             "line": {
              "color": "white"
             }
            },
            "header": {
             "fill": {
              "color": "#C8D4E3"
             },
             "line": {
              "color": "white"
             }
            },
            "type": "table"
           }
          ]
         },
         "layout": {
          "annotationdefaults": {
           "arrowcolor": "#2a3f5f",
           "arrowhead": 0,
           "arrowwidth": 1
          },
          "autotypenumbers": "strict",
          "coloraxis": {
           "colorbar": {
            "outlinewidth": 0,
            "ticks": ""
           }
          },
          "colorscale": {
           "diverging": [
            [
             0,
             "#8e0152"
            ],
            [
             0.1,
             "#c51b7d"
            ],
            [
             0.2,
             "#de77ae"
            ],
            [
             0.3,
             "#f1b6da"
            ],
            [
             0.4,
             "#fde0ef"
            ],
            [
             0.5,
             "#f7f7f7"
            ],
            [
             0.6,
             "#e6f5d0"
            ],
            [
             0.7,
             "#b8e186"
            ],
            [
             0.8,
             "#7fbc41"
            ],
            [
             0.9,
             "#4d9221"
            ],
            [
             1,
             "#276419"
            ]
           ],
           "sequential": [
            [
             0,
             "#0d0887"
            ],
            [
             0.1111111111111111,
             "#46039f"
            ],
            [
             0.2222222222222222,
             "#7201a8"
            ],
            [
             0.3333333333333333,
             "#9c179e"
            ],
            [
             0.4444444444444444,
             "#bd3786"
            ],
            [
             0.5555555555555556,
             "#d8576b"
            ],
            [
             0.6666666666666666,
             "#ed7953"
            ],
            [
             0.7777777777777778,
             "#fb9f3a"
            ],
            [
             0.8888888888888888,
             "#fdca26"
            ],
            [
             1,
             "#f0f921"
            ]
           ],
           "sequentialminus": [
            [
             0,
             "#0d0887"
            ],
            [
             0.1111111111111111,
             "#46039f"
            ],
            [
             0.2222222222222222,
             "#7201a8"
            ],
            [
             0.3333333333333333,
             "#9c179e"
            ],
            [
             0.4444444444444444,
             "#bd3786"
            ],
            [
             0.5555555555555556,
             "#d8576b"
            ],
            [
             0.6666666666666666,
             "#ed7953"
            ],
            [
             0.7777777777777778,
             "#fb9f3a"
            ],
            [
             0.8888888888888888,
             "#fdca26"
            ],
            [
             1,
             "#f0f921"
            ]
           ]
          },
          "colorway": [
           "#636efa",
           "#EF553B",
           "#00cc96",
           "#ab63fa",
           "#FFA15A",
           "#19d3f3",
           "#FF6692",
           "#B6E880",
           "#FF97FF",
           "#FECB52"
          ],
          "font": {
           "color": "#2a3f5f"
          },
          "geo": {
           "bgcolor": "white",
           "lakecolor": "white",
           "landcolor": "#E5ECF6",
           "showlakes": true,
           "showland": true,
           "subunitcolor": "white"
          },
          "hoverlabel": {
           "align": "left"
          },
          "hovermode": "closest",
          "mapbox": {
           "style": "light"
          },
          "paper_bgcolor": "white",
          "plot_bgcolor": "#E5ECF6",
          "polar": {
           "angularaxis": {
            "gridcolor": "white",
            "linecolor": "white",
            "ticks": ""
           },
           "bgcolor": "#E5ECF6",
           "radialaxis": {
            "gridcolor": "white",
            "linecolor": "white",
            "ticks": ""
           }
          },
          "scene": {
           "xaxis": {
            "backgroundcolor": "#E5ECF6",
            "gridcolor": "white",
            "gridwidth": 2,
            "linecolor": "white",
            "showbackground": true,
            "ticks": "",
            "zerolinecolor": "white"
           },
           "yaxis": {
            "backgroundcolor": "#E5ECF6",
            "gridcolor": "white",
            "gridwidth": 2,
            "linecolor": "white",
            "showbackground": true,
            "ticks": "",
            "zerolinecolor": "white"
           },
           "zaxis": {
            "backgroundcolor": "#E5ECF6",
            "gridcolor": "white",
            "gridwidth": 2,
            "linecolor": "white",
            "showbackground": true,
            "ticks": "",
            "zerolinecolor": "white"
           }
          },
          "shapedefaults": {
           "line": {
            "color": "#2a3f5f"
           }
          },
          "ternary": {
           "aaxis": {
            "gridcolor": "white",
            "linecolor": "white",
            "ticks": ""
           },
           "baxis": {
            "gridcolor": "white",
            "linecolor": "white",
            "ticks": ""
           },
           "bgcolor": "#E5ECF6",
           "caxis": {
            "gridcolor": "white",
            "linecolor": "white",
            "ticks": ""
           }
          },
          "title": {
           "x": 0.05
          },
          "xaxis": {
           "automargin": true,
           "gridcolor": "white",
           "linecolor": "white",
           "ticks": "",
           "title": {
            "standoff": 15
           },
           "zerolinecolor": "white",
           "zerolinewidth": 2
          },
          "yaxis": {
           "automargin": true,
           "gridcolor": "white",
           "linecolor": "white",
           "ticks": "",
           "title": {
            "standoff": 15
           },
           "zerolinecolor": "white",
           "zerolinewidth": 2
          }
         }
        },
        "title": {
         "text": "SLIM – Test RMSE Distribution (sustavianfeed)"
        },
        "width": 700,
        "xaxis": {
         "anchor": "y",
         "domain": [
          0,
          1
         ],
         "title": {
          "text": "SLIM Version"
         }
        },
        "yaxis": {
         "anchor": "x",
         "domain": [
          0,
          1
         ],
         "title": {
          "text": "Test RMSE"
         }
        }
       }
      }
     },
     "metadata": {},
     "output_type": "display_data"
    }
   ],
   "source": [
    "#BOXPLOT: TEST RMSE per Version\n",
    "df_csv = pd.read_csv(CSV)\n",
    "df_csv['test_rmse'] = -df_csv[TEST_SCORE_COL]  # convert score to RMSE\n",
    "fig1 = px.box(\n",
    "    df_csv, x=VERSION_COL, y='test_rmse', points='all',\n",
    "    title=f\"SLIM – Test RMSE Distribution ({DATASET})\"\n",
    ")\n",
    "fig1.update_layout(width=700, height=400,\n",
    "                   xaxis_title=\"SLIM Version\", yaxis_title=\"Test RMSE\")\n",
    "fig1.show()\n"
   ]
  },
  {
   "cell_type": "markdown",
   "id": "8dd3a5b8",
   "metadata": {},
   "source": [
    "The version SLIM * SIG1 appears to be the best for the problem in hand, it has the the lowest bound by far and the distribution of values is closer to it than the upper bound. However, we cannot conclude that it is statistically significant as its upper bound is close to the the median of SLIM * ABS meaning that it is posible than SLIM * ABS may have better performance. Same can be said about SLIM*SIG2 whose lower bound roughly coincides SLIM * SIG1's upper bound. Further statiscal analysis needs to be performed to conclude about the statitiscal significance of this difference. Given this, the first conclusion to be taken is that multiplication provides better results than addition"
   ]
  },
  {
   "cell_type": "markdown",
   "id": "2f714e4c",
   "metadata": {},
   "source": [
    "We shall perform a statistical test considering our null hypothesis as there being no difference between versions and our alternative hypothesis is that the difference differs from zero."
   ]
  },
  {
   "cell_type": "code",
   "execution_count": 23,
   "id": "f708730b",
   "metadata": {},
   "outputs": [
    {
     "name": "stdout",
     "output_type": "stream",
     "text": [
      "Wilcoxon SLIM*SIG1 vs SLIM*SIG2: stat=0.0000, p‐value=0.0020\n",
      "Wilcoxon SLIM*SIG1 vs SLIM*ABS: stat=4.0000, p‐value=0.0137\n",
      "Wilcoxon SLIM*SIG2 vs SLIM*ABS: stat=3.0000, p‐value=0.0098\n"
     ]
    }
   ],
   "source": [
    "test_versions = [\"SLIM*SIG1\", \"SLIM*SIG2\", \"SLIM*ABS\"]\n",
    "\n",
    "for v1, v2 in combinations(test_versions, 2):\n",
    "    s1 = df_csv.loc[df_csv[VERSION_COL] == v1, 'test_rmse']\n",
    "    s2 = df_csv.loc[df_csv[VERSION_COL] == v2, 'test_rmse']\n",
    "    # both s1 and s2 must be same length & aligned across folds\n",
    "    if len(s1) != len(s2):\n",
    "        raise ValueError(f\"Unequal sample sizes: {v1} has {len(s1)} rows, {v2} has {len(s2)}\")\n",
    "    \n",
    "    stat, p = wilcoxon(s1, s2)\n",
    "    print(f\"Wilcoxon {v1} vs {v2}: stat={stat:.4f}, p‐value={p:.4f}\")"
   ]
  },
  {
   "cell_type": "markdown",
   "id": "0f7efe35",
   "metadata": {},
   "source": [
    "After performing wilcoxon statistical test, we confirm that the differences between models are statistically significant at 95% level of confidence. In other words, at the 5% significance level, SLIM * SIG1 has a significantly lower test-RMSE than both SLIM * SIG2 (p=0.0020) and SLIM * ABS (p=0.0137), and SLIM * SIG2 also outperforms SLIM * ABS (p=0.0098).\n",
    "Finally, we can reject the hypothesis that their RMSE distributions are the same, and conclude that SLIM * SIG1 is the best of the three."
   ]
  },
  {
   "cell_type": "code",
   "execution_count": 24,
   "id": "57133dbc",
   "metadata": {},
   "outputs": [
    {
     "data": {
      "application/vnd.plotly.v1+json": {
       "config": {
        "plotlyServerURL": "https://plot.ly"
       },
       "data": [
        {
         "line": {
          "color": "blue"
         },
         "mode": "lines",
         "name": "Fold 1",
         "showlegend": false,
         "type": "scatter",
         "x": {
          "bdata": "AAECAwQFBgcICQoLDA0ODxAREhMU",
          "dtype": "i1"
         },
         "xaxis": "x",
         "y": {
          "bdata": "fT81XkoY60DcLckBuxROQGQ730+NVy1Ans4VpYSIMUDQQ20bRhU2QOi9MQQAfzlAM6SK4lWCOUBgrG9gcm81QLKFIAclzDJAhEVFnE4CL0C/KEF/odssQGvWGd8XzyxAKXXJOEYqLECxGktYG3sxQDf+RGXDmjFACft2EhFWLUCJsUy/RJgtQE60q5Dy4zBAByeiX1vvLEAIPDCA8K0uQN7lIr4ToyhA",
          "dtype": "f8"
         },
         "yaxis": "y"
        },
        {
         "line": {
          "color": "blue"
         },
         "mode": "lines",
         "name": "Fold 2",
         "showlegend": false,
         "type": "scatter",
         "x": {
          "bdata": "AAECAwQFBgcICQoLDA0ODxAREhMU",
          "dtype": "i1"
         },
         "xaxis": "x2",
         "y": {
          "bdata": "z/dT4w1q60C9NEWA04lQQPfJUYAovC1ACi3r/rFYMkCRgNHlzdk3QDcXf9sTNDpAs3kcBvOHOUBOZOYCl9cxQJWbqKW5nS1AP47myMpnK0CdobjjTW4pQKmieJW1TSdA3UCBd/IhKUAdk8X9R2YpQAeZZOQsdC5AFCS2uwfYJUATtp+M8dkqQGjQ0D/B6SZAxJj091L4KUDH9lrQe2slQCsyOiAJwypA",
          "dtype": "f8"
         },
         "yaxis": "y2"
        },
        {
         "line": {
          "color": "blue"
         },
         "mode": "lines",
         "name": "Fold 3",
         "showlegend": false,
         "type": "scatter",
         "x": {
          "bdata": "AAECAwQFBgcICQoLDA0ODxAREhMU",
          "dtype": "i1"
         },
         "xaxis": "x3",
         "y": {
          "bdata": "ukkMAgNH60B/arx0k4JQQFAb1elAri1A/3qFBfdTMkB+ycaDLc43QBjuXBjpKTpAcalKW1yDOUB/3795cdoxQKvnpPeNty1AFW9kHvnTK0CrCDcZVVIxQJz7q8d98y1AGYwRiUKjJUC3eeOkMA8qQGSSkbOwvytAvwrw3ebFLEAIPDCA8GUpQOChKNAn0iNA0jb+RGVrKkDxf0dUqB4qQPLpsS0DJiNA",
          "dtype": "f8"
         },
         "yaxis": "y3"
        },
        {
         "line": {
          "color": "blue"
         },
         "mode": "lines",
         "name": "Fold 4",
         "showlegend": false,
         "type": "scatter",
         "x": {
          "bdata": "AAECAwQFBgcICQoLDA0ODxAREhMU",
          "dtype": "i1"
         },
         "xaxis": "x4",
         "y": {
          "bdata": "FK5H4SI960C78lmeB31QQIV5jzNNoC1AlBRYAFNGMkDAl8KDZsM3QE1nJ4OjGDpA8SkAxjNsOUASEf5F0MQxQBGOWfYkgC1ARbsKKT+hK0CsyOiAJFAwQCI3ww34/DBA9E4F3PMgMEBbI4JxcEEtQOG04EVfeSlAZtr+lZVOLkD7ljldFosrQKoNTkS/tixArtSzIJSHK0Azp8tiYgcxQOJXrOEity1A",
          "dtype": "f8"
         },
         "yaxis": "y4"
        },
        {
         "line": {
          "color": "blue"
         },
         "mode": "lines",
         "name": "Fold 5",
         "showlegend": false,
         "type": "scatter",
         "x": {
          "bdata": "AAECAwQFBgcICQoLDA0ODxAREhMU",
          "dtype": "i1"
         },
         "xaxis": "x5",
         "y": {
          "bdata": "yXa+n8Iy60CQvd798XxQQIYdxqS/ly1AG2K85lVBMkC+ofDZOsQ3QI2Y2ecxHjpAnMO12sN2OUDpCyHn/csxQDLIXYQpoi1AHogs0sTLK0C9AWa+g/8wQA0a+ie48C1Ahqxu9ZykLECA8+LEV3MqQLvx7shY7ShA2c2MfjTMKEAg1EUKZdklQBk9t9CV8CtAPrFOle9RKEDTTzi7tdQpQNVCyeTUtitA",
          "dtype": "f8"
         },
         "yaxis": "y5"
        },
        {
         "line": {
          "color": "blue"
         },
         "mode": "lines",
         "name": "Fold 6",
         "showlegend": false,
         "type": "scatter",
         "x": {
          "bdata": "AAECAwQFBgcICQoLDA0ODxAREhMU",
          "dtype": "i1"
         },
         "xaxis": "x6",
         "y": {
          "bdata": "8tJNYswe60DohxHCo3hQQChiEcMOcy5AkE3yI36VMkDRdeEH5985QB4X1SKigDxADi2yne9jOkCKPh9lxL00QBH8byU77iZAFEIHXcK5LkCTHLCryaMrQHAKKxVUPCtACmgibHjKKkBC7Eyh8z4wQNP1RNeF3ypAWdsUj4uyLEA98gcDz90mQBVWKqioKipAe6GA7WAkLUA5gH7fvwkvQK9fsBu2ZS1A",
          "dtype": "f8"
         },
         "yaxis": "y6"
        },
        {
         "line": {
          "color": "blue"
         },
         "mode": "lines",
         "name": "Fold 7",
         "showlegend": false,
         "type": "scatter",
         "x": {
          "bdata": "AAECAwQFBgcICQoLDA0ODxAREhMU",
          "dtype": "i1"
         },
         "xaxis": "x7",
         "y": {
          "bdata": "AAAAAHhX60B5AfbRqYlQQGvY74l1yi1AzXUaaalcMkABvXDnwuw3QN2WyAVnXDpAmGvRArSpOUA012mkpQIzQCgoRSv3oilALexph78GKEAGLSRgdOkrQPRSsTGvqypAOuenOA7MMUB0YaQXtRMsQNDWwcHexCpAfhtivOZFKkCMLJljeY8qQI9Rnnk5VCdA4o+iztzDLUC0jqomiDIrQE8Hsp5a5SZA",
          "dtype": "f8"
         },
         "yaxis": "y7"
        },
        {
         "line": {
          "color": "blue"
         },
         "mode": "lines",
         "name": "Fold 8",
         "showlegend": false,
         "type": "scatter",
         "x": {
          "bdata": "AAECAwQFBgcICQoLDA0ODxAREhMU",
          "dtype": "i1"
         },
         "xaxis": "x8",
         "y": {
          "bdata": "mpmZmUHP6kD4pX7eVGNQQL/S+fAsoS1A7S3lfLFDMkDvchHfick3QM6OVN/5ITpAAOXv3lF7OUCqtpvgm9YxQKexvRb0pi1AHxMpzebJK0AX8Z2Y9Y4wQM4z9iUbpzBA2jnNAu0yMECxNVt5yV8uQHwsfeiCsixAB13CobcAKkCmm8QgsLYtQHR63o0FRS9AvW2mQjyCK0CvCtRi8KgrQDPfwU8ceChA",
          "dtype": "f8"
         },
         "yaxis": "y8"
        },
        {
         "line": {
          "color": "blue"
         },
         "mode": "lines",
         "name": "Fold 9",
         "showlegend": false,
         "type": "scatter",
         "x": {
          "bdata": "AAECAwQFBgcICQoLDA0ODxAREhMU",
          "dtype": "i1"
         },
         "xaxis": "x9",
         "y": {
          "bdata": "+n5qvEA360BtADYgQnpQQG/VdaimpC1AOKEQAYdEMkC9cOfCSMs3QJhr0QK0ITpAaAWGrG51OUAU7Sqk/MgxQAorFVRUhS1AnkFD/wSTK0Ayrrg4KtswQJ1Jm6p77C9AtahPcoe9KEAHsTOFziMtQLAcIQN59ilAt7OvPEh3L0Ds2XOZmuQqQJG1hlJ7eSlAR+nSvySdKECGdk6zQDMsQHCWkuUkjCdA",
          "dtype": "f8"
         },
         "yaxis": "y9"
        },
        {
         "line": {
          "color": "blue"
         },
         "mode": "lines",
         "name": "Fold 10",
         "showlegend": false,
         "type": "scatter",
         "x": {
          "bdata": "AAECAwQFBgcICQoLDA0ODxAREhMU",
          "dtype": "i1"
         },
         "xaxis": "x10",
         "y": {
          "bdata": "aJHtfOfc6kA9m1Wfq2ZQQMk6HF2lqy1AgzC3e7lHMkBP6zao/c43QE9bI4JxJDpALXsS2Jx3OUCbOLnfodAxQFu21hcJjS1ABK3AkNWVK0CMZfol4tUwQB+/t+nP5i9AZMvydRm+KECsVFBR9SssQLZlwFlKxi5APlsHB3vrLUD8pUV9kjMqQOepDrkZGjFAHmtGBrmTKEAl6ZrJN5spQBO4dTdPzSdA",
          "dtype": "f8"
         },
         "yaxis": "y10"
        }
       ],
       "layout": {
        "annotations": [
         {
          "font": {
           "size": 16
          },
          "showarrow": false,
          "text": "Fold 1",
          "x": 0.14444444444444446,
          "xanchor": "center",
          "xref": "paper",
          "y": 1,
          "yanchor": "bottom",
          "yref": "paper"
         },
         {
          "font": {
           "size": 16
          },
          "showarrow": false,
          "text": "Fold 2",
          "x": 0.5,
          "xanchor": "center",
          "xref": "paper",
          "y": 1,
          "yanchor": "bottom",
          "yref": "paper"
         },
         {
          "font": {
           "size": 16
          },
          "showarrow": false,
          "text": "Fold 3",
          "x": 0.8555555555555556,
          "xanchor": "center",
          "xref": "paper",
          "y": 1,
          "yanchor": "bottom",
          "yref": "paper"
         },
         {
          "font": {
           "size": 16
          },
          "showarrow": false,
          "text": "Fold 4",
          "x": 0.14444444444444446,
          "xanchor": "center",
          "xref": "paper",
          "y": 0.71875,
          "yanchor": "bottom",
          "yref": "paper"
         },
         {
          "font": {
           "size": 16
          },
          "showarrow": false,
          "text": "Fold 5",
          "x": 0.5,
          "xanchor": "center",
          "xref": "paper",
          "y": 0.71875,
          "yanchor": "bottom",
          "yref": "paper"
         },
         {
          "font": {
           "size": 16
          },
          "showarrow": false,
          "text": "Fold 6",
          "x": 0.8555555555555556,
          "xanchor": "center",
          "xref": "paper",
          "y": 0.71875,
          "yanchor": "bottom",
          "yref": "paper"
         },
         {
          "font": {
           "size": 16
          },
          "showarrow": false,
          "text": "Fold 7",
          "x": 0.14444444444444446,
          "xanchor": "center",
          "xref": "paper",
          "y": 0.4375,
          "yanchor": "bottom",
          "yref": "paper"
         },
         {
          "font": {
           "size": 16
          },
          "showarrow": false,
          "text": "Fold 8",
          "x": 0.5,
          "xanchor": "center",
          "xref": "paper",
          "y": 0.4375,
          "yanchor": "bottom",
          "yref": "paper"
         },
         {
          "font": {
           "size": 16
          },
          "showarrow": false,
          "text": "Fold 9",
          "x": 0.8555555555555556,
          "xanchor": "center",
          "xref": "paper",
          "y": 0.4375,
          "yanchor": "bottom",
          "yref": "paper"
         },
         {
          "font": {
           "size": 16
          },
          "showarrow": false,
          "text": "Fold 10",
          "x": 0.14444444444444446,
          "xanchor": "center",
          "xref": "paper",
          "y": 0.15625,
          "yanchor": "bottom",
          "yref": "paper"
         }
        ],
        "height": 1600,
        "margin": {
         "t": 50
        },
        "template": {
         "data": {
          "bar": [
           {
            "error_x": {
             "color": "#2a3f5f"
            },
            "error_y": {
             "color": "#2a3f5f"
            },
            "marker": {
             "line": {
              "color": "#E5ECF6",
              "width": 0.5
             },
             "pattern": {
              "fillmode": "overlay",
              "size": 10,
              "solidity": 0.2
             }
            },
            "type": "bar"
           }
          ],
          "barpolar": [
           {
            "marker": {
             "line": {
              "color": "#E5ECF6",
              "width": 0.5
             },
             "pattern": {
              "fillmode": "overlay",
              "size": 10,
              "solidity": 0.2
             }
            },
            "type": "barpolar"
           }
          ],
          "carpet": [
           {
            "aaxis": {
             "endlinecolor": "#2a3f5f",
             "gridcolor": "white",
             "linecolor": "white",
             "minorgridcolor": "white",
             "startlinecolor": "#2a3f5f"
            },
            "baxis": {
             "endlinecolor": "#2a3f5f",
             "gridcolor": "white",
             "linecolor": "white",
             "minorgridcolor": "white",
             "startlinecolor": "#2a3f5f"
            },
            "type": "carpet"
           }
          ],
          "choropleth": [
           {
            "colorbar": {
             "outlinewidth": 0,
             "ticks": ""
            },
            "type": "choropleth"
           }
          ],
          "contour": [
           {
            "colorbar": {
             "outlinewidth": 0,
             "ticks": ""
            },
            "colorscale": [
             [
              0,
              "#0d0887"
             ],
             [
              0.1111111111111111,
              "#46039f"
             ],
             [
              0.2222222222222222,
              "#7201a8"
             ],
             [
              0.3333333333333333,
              "#9c179e"
             ],
             [
              0.4444444444444444,
              "#bd3786"
             ],
             [
              0.5555555555555556,
              "#d8576b"
             ],
             [
              0.6666666666666666,
              "#ed7953"
             ],
             [
              0.7777777777777778,
              "#fb9f3a"
             ],
             [
              0.8888888888888888,
              "#fdca26"
             ],
             [
              1,
              "#f0f921"
             ]
            ],
            "type": "contour"
           }
          ],
          "contourcarpet": [
           {
            "colorbar": {
             "outlinewidth": 0,
             "ticks": ""
            },
            "type": "contourcarpet"
           }
          ],
          "heatmap": [
           {
            "colorbar": {
             "outlinewidth": 0,
             "ticks": ""
            },
            "colorscale": [
             [
              0,
              "#0d0887"
             ],
             [
              0.1111111111111111,
              "#46039f"
             ],
             [
              0.2222222222222222,
              "#7201a8"
             ],
             [
              0.3333333333333333,
              "#9c179e"
             ],
             [
              0.4444444444444444,
              "#bd3786"
             ],
             [
              0.5555555555555556,
              "#d8576b"
             ],
             [
              0.6666666666666666,
              "#ed7953"
             ],
             [
              0.7777777777777778,
              "#fb9f3a"
             ],
             [
              0.8888888888888888,
              "#fdca26"
             ],
             [
              1,
              "#f0f921"
             ]
            ],
            "type": "heatmap"
           }
          ],
          "histogram": [
           {
            "marker": {
             "pattern": {
              "fillmode": "overlay",
              "size": 10,
              "solidity": 0.2
             }
            },
            "type": "histogram"
           }
          ],
          "histogram2d": [
           {
            "colorbar": {
             "outlinewidth": 0,
             "ticks": ""
            },
            "colorscale": [
             [
              0,
              "#0d0887"
             ],
             [
              0.1111111111111111,
              "#46039f"
             ],
             [
              0.2222222222222222,
              "#7201a8"
             ],
             [
              0.3333333333333333,
              "#9c179e"
             ],
             [
              0.4444444444444444,
              "#bd3786"
             ],
             [
              0.5555555555555556,
              "#d8576b"
             ],
             [
              0.6666666666666666,
              "#ed7953"
             ],
             [
              0.7777777777777778,
              "#fb9f3a"
             ],
             [
              0.8888888888888888,
              "#fdca26"
             ],
             [
              1,
              "#f0f921"
             ]
            ],
            "type": "histogram2d"
           }
          ],
          "histogram2dcontour": [
           {
            "colorbar": {
             "outlinewidth": 0,
             "ticks": ""
            },
            "colorscale": [
             [
              0,
              "#0d0887"
             ],
             [
              0.1111111111111111,
              "#46039f"
             ],
             [
              0.2222222222222222,
              "#7201a8"
             ],
             [
              0.3333333333333333,
              "#9c179e"
             ],
             [
              0.4444444444444444,
              "#bd3786"
             ],
             [
              0.5555555555555556,
              "#d8576b"
             ],
             [
              0.6666666666666666,
              "#ed7953"
             ],
             [
              0.7777777777777778,
              "#fb9f3a"
             ],
             [
              0.8888888888888888,
              "#fdca26"
             ],
             [
              1,
              "#f0f921"
             ]
            ],
            "type": "histogram2dcontour"
           }
          ],
          "mesh3d": [
           {
            "colorbar": {
             "outlinewidth": 0,
             "ticks": ""
            },
            "type": "mesh3d"
           }
          ],
          "parcoords": [
           {
            "line": {
             "colorbar": {
              "outlinewidth": 0,
              "ticks": ""
             }
            },
            "type": "parcoords"
           }
          ],
          "pie": [
           {
            "automargin": true,
            "type": "pie"
           }
          ],
          "scatter": [
           {
            "fillpattern": {
             "fillmode": "overlay",
             "size": 10,
             "solidity": 0.2
            },
            "type": "scatter"
           }
          ],
          "scatter3d": [
           {
            "line": {
             "colorbar": {
              "outlinewidth": 0,
              "ticks": ""
             }
            },
            "marker": {
             "colorbar": {
              "outlinewidth": 0,
              "ticks": ""
             }
            },
            "type": "scatter3d"
           }
          ],
          "scattercarpet": [
           {
            "marker": {
             "colorbar": {
              "outlinewidth": 0,
              "ticks": ""
             }
            },
            "type": "scattercarpet"
           }
          ],
          "scattergeo": [
           {
            "marker": {
             "colorbar": {
              "outlinewidth": 0,
              "ticks": ""
             }
            },
            "type": "scattergeo"
           }
          ],
          "scattergl": [
           {
            "marker": {
             "colorbar": {
              "outlinewidth": 0,
              "ticks": ""
             }
            },
            "type": "scattergl"
           }
          ],
          "scattermap": [
           {
            "marker": {
             "colorbar": {
              "outlinewidth": 0,
              "ticks": ""
             }
            },
            "type": "scattermap"
           }
          ],
          "scattermapbox": [
           {
            "marker": {
             "colorbar": {
              "outlinewidth": 0,
              "ticks": ""
             }
            },
            "type": "scattermapbox"
           }
          ],
          "scatterpolar": [
           {
            "marker": {
             "colorbar": {
              "outlinewidth": 0,
              "ticks": ""
             }
            },
            "type": "scatterpolar"
           }
          ],
          "scatterpolargl": [
           {
            "marker": {
             "colorbar": {
              "outlinewidth": 0,
              "ticks": ""
             }
            },
            "type": "scatterpolargl"
           }
          ],
          "scatterternary": [
           {
            "marker": {
             "colorbar": {
              "outlinewidth": 0,
              "ticks": ""
             }
            },
            "type": "scatterternary"
           }
          ],
          "surface": [
           {
            "colorbar": {
             "outlinewidth": 0,
             "ticks": ""
            },
            "colorscale": [
             [
              0,
              "#0d0887"
             ],
             [
              0.1111111111111111,
              "#46039f"
             ],
             [
              0.2222222222222222,
              "#7201a8"
             ],
             [
              0.3333333333333333,
              "#9c179e"
             ],
             [
              0.4444444444444444,
              "#bd3786"
             ],
             [
              0.5555555555555556,
              "#d8576b"
             ],
             [
              0.6666666666666666,
              "#ed7953"
             ],
             [
              0.7777777777777778,
              "#fb9f3a"
             ],
             [
              0.8888888888888888,
              "#fdca26"
             ],
             [
              1,
              "#f0f921"
             ]
            ],
            "type": "surface"
           }
          ],
          "table": [
           {
            "cells": {
             "fill": {
              "color": "#EBF0F8"
             },
             "line": {
              "color": "white"
             }
            },
            "header": {
             "fill": {
              "color": "#C8D4E3"
             },
             "line": {
              "color": "white"
             }
            },
            "type": "table"
           }
          ]
         },
         "layout": {
          "annotationdefaults": {
           "arrowcolor": "#2a3f5f",
           "arrowhead": 0,
           "arrowwidth": 1
          },
          "autotypenumbers": "strict",
          "coloraxis": {
           "colorbar": {
            "outlinewidth": 0,
            "ticks": ""
           }
          },
          "colorscale": {
           "diverging": [
            [
             0,
             "#8e0152"
            ],
            [
             0.1,
             "#c51b7d"
            ],
            [
             0.2,
             "#de77ae"
            ],
            [
             0.3,
             "#f1b6da"
            ],
            [
             0.4,
             "#fde0ef"
            ],
            [
             0.5,
             "#f7f7f7"
            ],
            [
             0.6,
             "#e6f5d0"
            ],
            [
             0.7,
             "#b8e186"
            ],
            [
             0.8,
             "#7fbc41"
            ],
            [
             0.9,
             "#4d9221"
            ],
            [
             1,
             "#276419"
            ]
           ],
           "sequential": [
            [
             0,
             "#0d0887"
            ],
            [
             0.1111111111111111,
             "#46039f"
            ],
            [
             0.2222222222222222,
             "#7201a8"
            ],
            [
             0.3333333333333333,
             "#9c179e"
            ],
            [
             0.4444444444444444,
             "#bd3786"
            ],
            [
             0.5555555555555556,
             "#d8576b"
            ],
            [
             0.6666666666666666,
             "#ed7953"
            ],
            [
             0.7777777777777778,
             "#fb9f3a"
            ],
            [
             0.8888888888888888,
             "#fdca26"
            ],
            [
             1,
             "#f0f921"
            ]
           ],
           "sequentialminus": [
            [
             0,
             "#0d0887"
            ],
            [
             0.1111111111111111,
             "#46039f"
            ],
            [
             0.2222222222222222,
             "#7201a8"
            ],
            [
             0.3333333333333333,
             "#9c179e"
            ],
            [
             0.4444444444444444,
             "#bd3786"
            ],
            [
             0.5555555555555556,
             "#d8576b"
            ],
            [
             0.6666666666666666,
             "#ed7953"
            ],
            [
             0.7777777777777778,
             "#fb9f3a"
            ],
            [
             0.8888888888888888,
             "#fdca26"
            ],
            [
             1,
             "#f0f921"
            ]
           ]
          },
          "colorway": [
           "#636efa",
           "#EF553B",
           "#00cc96",
           "#ab63fa",
           "#FFA15A",
           "#19d3f3",
           "#FF6692",
           "#B6E880",
           "#FF97FF",
           "#FECB52"
          ],
          "font": {
           "color": "#2a3f5f"
          },
          "geo": {
           "bgcolor": "white",
           "lakecolor": "white",
           "landcolor": "#E5ECF6",
           "showlakes": true,
           "showland": true,
           "subunitcolor": "white"
          },
          "hoverlabel": {
           "align": "left"
          },
          "hovermode": "closest",
          "mapbox": {
           "style": "light"
          },
          "paper_bgcolor": "white",
          "plot_bgcolor": "#E5ECF6",
          "polar": {
           "angularaxis": {
            "gridcolor": "white",
            "linecolor": "white",
            "ticks": ""
           },
           "bgcolor": "#E5ECF6",
           "radialaxis": {
            "gridcolor": "white",
            "linecolor": "white",
            "ticks": ""
           }
          },
          "scene": {
           "xaxis": {
            "backgroundcolor": "#E5ECF6",
            "gridcolor": "white",
            "gridwidth": 2,
            "linecolor": "white",
            "showbackground": true,
            "ticks": "",
            "zerolinecolor": "white"
           },
           "yaxis": {
            "backgroundcolor": "#E5ECF6",
            "gridcolor": "white",
            "gridwidth": 2,
            "linecolor": "white",
            "showbackground": true,
            "ticks": "",
            "zerolinecolor": "white"
           },
           "zaxis": {
            "backgroundcolor": "#E5ECF6",
            "gridcolor": "white",
            "gridwidth": 2,
            "linecolor": "white",
            "showbackground": true,
            "ticks": "",
            "zerolinecolor": "white"
           }
          },
          "shapedefaults": {
           "line": {
            "color": "#2a3f5f"
           }
          },
          "ternary": {
           "aaxis": {
            "gridcolor": "white",
            "linecolor": "white",
            "ticks": ""
           },
           "baxis": {
            "gridcolor": "white",
            "linecolor": "white",
            "ticks": ""
           },
           "bgcolor": "#E5ECF6",
           "caxis": {
            "gridcolor": "white",
            "linecolor": "white",
            "ticks": ""
           }
          },
          "title": {
           "x": 0.05
          },
          "xaxis": {
           "automargin": true,
           "gridcolor": "white",
           "linecolor": "white",
           "ticks": "",
           "title": {
            "standoff": 15
           },
           "zerolinecolor": "white",
           "zerolinewidth": 2
          },
          "yaxis": {
           "automargin": true,
           "gridcolor": "white",
           "linecolor": "white",
           "ticks": "",
           "title": {
            "standoff": 15
           },
           "zerolinecolor": "white",
           "zerolinewidth": 2
          }
         }
        },
        "title": {
         "text": "SLIM - Population Fitness Diversity (sustavianfeed dataset)"
        },
        "width": 1000,
        "xaxis": {
         "anchor": "y",
         "domain": [
          0,
          0.2888888888888889
         ],
         "title": {
          "text": "Generation"
         }
        },
        "xaxis10": {
         "anchor": "y10",
         "domain": [
          0,
          0.2888888888888889
         ],
         "title": {
          "text": "Generation"
         }
        },
        "xaxis11": {
         "anchor": "y11",
         "domain": [
          0.35555555555555557,
          0.6444444444444445
         ]
        },
        "xaxis12": {
         "anchor": "y12",
         "domain": [
          0.7111111111111111,
          1
         ]
        },
        "xaxis2": {
         "anchor": "y2",
         "domain": [
          0.35555555555555557,
          0.6444444444444445
         ],
         "title": {
          "text": "Generation"
         }
        },
        "xaxis3": {
         "anchor": "y3",
         "domain": [
          0.7111111111111111,
          1
         ],
         "title": {
          "text": "Generation"
         }
        },
        "xaxis4": {
         "anchor": "y4",
         "domain": [
          0,
          0.2888888888888889
         ],
         "title": {
          "text": "Generation"
         }
        },
        "xaxis5": {
         "anchor": "y5",
         "domain": [
          0.35555555555555557,
          0.6444444444444445
         ],
         "title": {
          "text": "Generation"
         }
        },
        "xaxis6": {
         "anchor": "y6",
         "domain": [
          0.7111111111111111,
          1
         ],
         "title": {
          "text": "Generation"
         }
        },
        "xaxis7": {
         "anchor": "y7",
         "domain": [
          0,
          0.2888888888888889
         ],
         "title": {
          "text": "Generation"
         }
        },
        "xaxis8": {
         "anchor": "y8",
         "domain": [
          0.35555555555555557,
          0.6444444444444445
         ],
         "title": {
          "text": "Generation"
         }
        },
        "xaxis9": {
         "anchor": "y9",
         "domain": [
          0.7111111111111111,
          1
         ],
         "title": {
          "text": "Generation"
         }
        },
        "yaxis": {
         "anchor": "x",
         "domain": [
          0.84375,
          1
         ],
         "range": [
          0,
          null
         ],
         "title": {
          "text": "Fitness Std. Dev."
         }
        },
        "yaxis10": {
         "anchor": "x10",
         "domain": [
          0,
          0.15625
         ],
         "range": [
          0,
          null
         ],
         "title": {
          "text": "Fitness Std. Dev."
         }
        },
        "yaxis11": {
         "anchor": "x11",
         "domain": [
          0,
          0.15625
         ]
        },
        "yaxis12": {
         "anchor": "x12",
         "domain": [
          0,
          0.15625
         ]
        },
        "yaxis2": {
         "anchor": "x2",
         "domain": [
          0.84375,
          1
         ],
         "range": [
          0,
          null
         ],
         "title": {
          "text": "Fitness Std. Dev."
         }
        },
        "yaxis3": {
         "anchor": "x3",
         "domain": [
          0.84375,
          1
         ],
         "range": [
          0,
          null
         ],
         "title": {
          "text": "Fitness Std. Dev."
         }
        },
        "yaxis4": {
         "anchor": "x4",
         "domain": [
          0.5625,
          0.71875
         ],
         "range": [
          0,
          null
         ],
         "title": {
          "text": "Fitness Std. Dev."
         }
        },
        "yaxis5": {
         "anchor": "x5",
         "domain": [
          0.5625,
          0.71875
         ],
         "range": [
          0,
          null
         ],
         "title": {
          "text": "Fitness Std. Dev."
         }
        },
        "yaxis6": {
         "anchor": "x6",
         "domain": [
          0.5625,
          0.71875
         ],
         "range": [
          0,
          null
         ],
         "title": {
          "text": "Fitness Std. Dev."
         }
        },
        "yaxis7": {
         "anchor": "x7",
         "domain": [
          0.28125,
          0.4375
         ],
         "range": [
          0,
          null
         ],
         "title": {
          "text": "Fitness Std. Dev."
         }
        },
        "yaxis8": {
         "anchor": "x8",
         "domain": [
          0.28125,
          0.4375
         ],
         "range": [
          0,
          null
         ],
         "title": {
          "text": "Fitness Std. Dev."
         }
        },
        "yaxis9": {
         "anchor": "x9",
         "domain": [
          0.28125,
          0.4375
         ],
         "range": [
          0,
          null
         ],
         "title": {
          "text": "Fitness Std. Dev."
         }
        }
       }
      }
     },
     "metadata": {},
     "output_type": "display_data"
    }
   ],
   "source": [
    "plot_SLIM_population_fitness_diversity_logs(    \n",
    "    model_name='SLIM',\n",
    "    n_folds=n_outer_cv,\n",
    "    dataset_name='sustavianfeed'\n",
    ")"
   ]
  },
  {
   "cell_type": "markdown",
   "id": "90567731",
   "metadata": {},
   "source": [
    "Fitness diversity drops almost imeadiatley to close to zero as soon as the model starts iterating. This means that our model is learning too fast, pending heavily towards explotation and neglecting exploration. All solutions are similar meaning the we are facing early convergence. "
   ]
  },
  {
   "cell_type": "code",
   "execution_count": 25,
   "id": "91e98fdb",
   "metadata": {},
   "outputs": [
    {
     "data": {
      "application/vnd.plotly.v1+json": {
       "config": {
        "plotlyServerURL": "https://plot.ly"
       },
       "data": [
        {
         "line": {
          "color": "blue"
         },
         "mode": "lines",
         "name": "Fold 1",
         "showlegend": false,
         "type": "scatter",
         "x": {
          "bdata": "AAECAwQFBgcICQoLDA0ODxAREhMU",
          "dtype": "i1"
         },
         "xaxis": "x",
         "y": {
          "bdata": "AAAAQDTY9UAAAADg5qpwQAAAAIB9MmRAAAAAYN3yYkAAAAAg2wpsQAAAAOBalnJAAAAAgHTOdEAAAABgvAp0QAAAAGApTnNAAAAAoDqPcEAAAABAantwQAAAACCuRnBAAAAAAGnsbkAAAACgbS5yQAAAAMBW8nFAAAAAIAQtcEAAAADgOVRwQP///797jXFAAQAAwDjvbkAAAAAA3tJwQAAAAADxAGdA",
          "dtype": "f8"
         },
         "yaxis": "y"
        },
        {
         "line": {
          "color": "blue"
         },
         "mode": "lines",
         "name": "Fold 2",
         "showlegend": false,
         "type": "scatter",
         "x": {
          "bdata": "AAECAwQFBgcICQoLDA0ODxAREhMU",
          "dtype": "i1"
         },
         "xaxis": "x2",
         "y": {
          "bdata": "AAAAQBUW9kAAAAAAl6VzQAAAACBVYllAAAAAYF44ZEAAAADgcfhwQAAAACDszHRAAAAAAPhzd0AAAADgDKFxQAAAAAAHDHBA////3z+aakAAAADgJFRsQAAAACA432VAAQAAIDrGaUD///8f9JBnQAAAACCXDm1AAAAAwIgeZEAAAABAXn5rQAAAAMDmbmZAAAAA4Bp7aUAAAABgSd9lQP///98rWmtA",
          "dtype": "f8"
         },
         "yaxis": "y2"
        },
        {
         "line": {
          "color": "blue"
         },
         "mode": "lines",
         "name": "Fold 3",
         "showlegend": false,
         "type": "scatter",
         "x": {
          "bdata": "AAECAwQFBgcICQoLDA0ODxAREhMU",
          "dtype": "i1"
         },
         "xaxis": "x3",
         "y": {
          "bdata": "AAAAAOL99UAAAADABtlzQAAAAIDIWFlAAAAAoJwtZED///+///JwQAAAAEAlyHRAAAAAgHN1d0AAAACATq5xQAAAAAAhHnBAAAAA4KyLakAAAAAg3YpxQAAAAAACy21AAAAA4K6AZkAAAAAgvzxnQP7//z/4EWtA////388UaUAAAABAAyxmQAAAAKCTfWNAAAAA4BzfakD///9/68poQAAAAEBofmRA",
          "dtype": "f8"
         },
         "yaxis": "y3"
        },
        {
         "line": {
          "color": "blue"
         },
         "mode": "lines",
         "name": "Fold 4",
         "showlegend": false,
         "type": "scatter",
         "x": {
          "bdata": "AAECAwQFBgcICQoLDA0ODxAREhMU",
          "dtype": "i1"
         },
         "xaxis": "x4",
         "y": {
          "bdata": "AAAA4NHy9UAAAABA39JzQAAAAGCFWFlAAAAAgKAtZEAAAAAgVO5wQAAAACDUwHRAAAAA4Mdod0AAAADgA6BxQAAAAOAEDXBA////HwR2akAAAABA0MBwQAEAAEDR1GtAAQAAQFkjb0AAAAAAAbVrQAEAACA1LGlAAAAA4IKja0AAAAAAqb9rQAAAAOCExGtAAAAAoFj5aUD///+/tyxwQAAAAAA1NG1A",
          "dtype": "f8"
         },
         "yaxis": "y4"
        },
        {
         "line": {
          "color": "blue"
         },
         "mode": "lines",
         "name": "Fold 5",
         "showlegend": false,
         "type": "scatter",
         "x": {
          "bdata": "AAECAwQFBgcICQoLDA0ODxAREhMU",
          "dtype": "i1"
         },
         "xaxis": "x5",
         "y": {
          "bdata": "AAAAYBju9UAAAADATsVzQAAAAIC3YllAAAAAILE1ZEAAAAAgevlwQAAAAMAu0XRAAAAAgMd/d0AAAABgibdxQAAAACCSInBAAAAAYBiWakAAAADgtmlxQAEAAOClWW1AAAAAwHVeakABAAAgluBnQAAAAKBvHmlAAAAA4L81ZUAAAAAAH9JjQAAAAAD6GGhAAAAAYN2AZUABAAAgOp9pQAAAAADCSGdA",
          "dtype": "f8"
         },
         "yaxis": "y5"
        },
        {
         "line": {
          "color": "blue"
         },
         "mode": "lines",
         "name": "Fold 6",
         "showlegend": false,
         "type": "scatter",
         "x": {
          "bdata": "AAECAwQFBgcICQoLDA0ODxAREhMU",
          "dtype": "i1"
         },
         "xaxis": "x6",
         "y": {
          "bdata": "AAAA4M3b9UAAAACAwKRzQAAAAIAsHFlAAAAAYO9rZEAAAADgvZFwQAAAAOAwvndAAAAA4Fepd0AAAAAgx3dzQP7//z/QIGdA////P8d0a0AAAABgQq9lQAAAAAA0nmdAAAAAIAhdZEAAAABAvgFrQAAAAGDkimZAAAAA4B6/aUAAAACgyoFjQAEAACBdu2hAAQAA4GHnZkAAAADASVBpQAAAACAci2VA",
          "dtype": "f8"
         },
         "yaxis": "y6"
        },
        {
         "line": {
          "color": "blue"
         },
         "mode": "lines",
         "name": "Fold 7",
         "showlegend": false,
         "type": "scatter",
         "x": {
          "bdata": "AAECAwQFBgcICQoLDA0ODxAREhMU",
          "dtype": "i1"
         },
         "xaxis": "x7",
         "y": {
          "bdata": "AAAA4GIo9kAAAADAoPtzQAAAAADUnllAAAAAAEhlZEAAAABACyZxQAAAAGDB/3RAAAAAoLBieEAAAAAgOQxzQAAAAGBSuG1AAAAAwE80Z0D///8fBKdqQP7//z/IPmlAAAAAoBN3bkAAAADgwFRpQAAAAADwuWpAAAAAoBmMZkAAAADgtnJmQAAAAGAyDGZA////f5uNa0D///8/owBpQAAAAOCNWWZA",
          "dtype": "f8"
         },
         "yaxis": "y7"
        },
        {
         "line": {
          "color": "blue"
         },
         "mode": "lines",
         "name": "Fold 8",
         "showlegend": false,
         "type": "scatter",
         "x": {
          "bdata": "AAECAwQFBgcICQoLDA0ODxAREhMU",
          "dtype": "i1"
         },
         "xaxis": "x8",
         "y": {
          "bdata": "AAAAIKHH9UAAAABgM9xzQAAAACClgFlAAAAAYAZKZEAAAACgaQdxQAAAAMA04HRAAAAA4LONd0AAAADgOLpxQAAAAOBAInBAAAAA4N6bakAAAAAgsgZxQAAAAODaRmtAAAAAgDFGb0AAAACAephsQAAAACA3ymtAAQAAIEqvakAAAACgKZxuQAAAAGAJlG9AAAAAYOZobEABAAAg0nZsQP///38DyGlA",
          "dtype": "f8"
         },
         "yaxis": "y8"
        },
        {
         "line": {
          "color": "blue"
         },
         "mode": "lines",
         "name": "Fold 9",
         "showlegend": false,
         "type": "scatter",
         "x": {
          "bdata": "AAECAwQFBgcICQoLDA0ODxAREhMU",
          "dtype": "i1"
         },
         "xaxis": "x9",
         "y": {
          "bdata": "AAAAgHwT9kAAAAAgy9ZzQP///98JjVlAAAAAwJ5XZEAAAAAA6BBxQAAAAEA27HRAAQAAwEKbd0AAAACAG8VxQAAAAICEKnBAAAAAoHZtakAAAAAglrpwQAAAAMDlVGtA/v//P4DEaUABAADg2blpQAAAAABkVWtAAAAAYG/qbEAAAABA8mZtQAAAAKB6GGdAAAAAAP7UZEAAAABgIShmQAAAAAArFGdA",
          "dtype": "f8"
         },
         "yaxis": "y9"
        },
        {
         "line": {
          "color": "blue"
         },
         "mode": "lines",
         "name": "Fold 10",
         "showlegend": false,
         "type": "scatter",
         "x": {
          "bdata": "AAECAwQFBgcICQoLDA0ODxAREhMU",
          "dtype": "i1"
         },
         "xaxis": "x10",
         "y": {
          "bdata": "AAAAIJTR9UAAAADgGt9zQAAAAACggllAAAAAYHhMZEAAAACgdgVxQAAAAACD23RAAAAA4J6Fd0AAAADA1q9xQAAAAODPFnBAAAAAoM1QakAAAABg9KpwQAEAACAdPmtA////P/euaUAAAACAwb1pQAEAAMAEuWxAAAAAAM4GbUAAAADgZr1pQAAAAKD4J25AAAAAgA05aEABAAAgFSVpQAAAAIA/imJA",
          "dtype": "f8"
         },
         "yaxis": "y10"
        }
       ],
       "layout": {
        "annotations": [
         {
          "font": {
           "size": 16
          },
          "showarrow": false,
          "text": "Fold 1",
          "x": 0.14444444444444446,
          "xanchor": "center",
          "xref": "paper",
          "y": 1,
          "yanchor": "bottom",
          "yref": "paper"
         },
         {
          "font": {
           "size": 16
          },
          "showarrow": false,
          "text": "Fold 2",
          "x": 0.5,
          "xanchor": "center",
          "xref": "paper",
          "y": 1,
          "yanchor": "bottom",
          "yref": "paper"
         },
         {
          "font": {
           "size": 16
          },
          "showarrow": false,
          "text": "Fold 3",
          "x": 0.8555555555555556,
          "xanchor": "center",
          "xref": "paper",
          "y": 1,
          "yanchor": "bottom",
          "yref": "paper"
         },
         {
          "font": {
           "size": 16
          },
          "showarrow": false,
          "text": "Fold 4",
          "x": 0.14444444444444446,
          "xanchor": "center",
          "xref": "paper",
          "y": 0.71875,
          "yanchor": "bottom",
          "yref": "paper"
         },
         {
          "font": {
           "size": 16
          },
          "showarrow": false,
          "text": "Fold 5",
          "x": 0.5,
          "xanchor": "center",
          "xref": "paper",
          "y": 0.71875,
          "yanchor": "bottom",
          "yref": "paper"
         },
         {
          "font": {
           "size": 16
          },
          "showarrow": false,
          "text": "Fold 6",
          "x": 0.8555555555555556,
          "xanchor": "center",
          "xref": "paper",
          "y": 0.71875,
          "yanchor": "bottom",
          "yref": "paper"
         },
         {
          "font": {
           "size": 16
          },
          "showarrow": false,
          "text": "Fold 7",
          "x": 0.14444444444444446,
          "xanchor": "center",
          "xref": "paper",
          "y": 0.4375,
          "yanchor": "bottom",
          "yref": "paper"
         },
         {
          "font": {
           "size": 16
          },
          "showarrow": false,
          "text": "Fold 8",
          "x": 0.5,
          "xanchor": "center",
          "xref": "paper",
          "y": 0.4375,
          "yanchor": "bottom",
          "yref": "paper"
         },
         {
          "font": {
           "size": 16
          },
          "showarrow": false,
          "text": "Fold 9",
          "x": 0.8555555555555556,
          "xanchor": "center",
          "xref": "paper",
          "y": 0.4375,
          "yanchor": "bottom",
          "yref": "paper"
         },
         {
          "font": {
           "size": 16
          },
          "showarrow": false,
          "text": "Fold 10",
          "x": 0.14444444444444446,
          "xanchor": "center",
          "xref": "paper",
          "y": 0.15625,
          "yanchor": "bottom",
          "yref": "paper"
         }
        ],
        "height": 1600,
        "margin": {
         "t": 50
        },
        "template": {
         "data": {
          "bar": [
           {
            "error_x": {
             "color": "#2a3f5f"
            },
            "error_y": {
             "color": "#2a3f5f"
            },
            "marker": {
             "line": {
              "color": "#E5ECF6",
              "width": 0.5
             },
             "pattern": {
              "fillmode": "overlay",
              "size": 10,
              "solidity": 0.2
             }
            },
            "type": "bar"
           }
          ],
          "barpolar": [
           {
            "marker": {
             "line": {
              "color": "#E5ECF6",
              "width": 0.5
             },
             "pattern": {
              "fillmode": "overlay",
              "size": 10,
              "solidity": 0.2
             }
            },
            "type": "barpolar"
           }
          ],
          "carpet": [
           {
            "aaxis": {
             "endlinecolor": "#2a3f5f",
             "gridcolor": "white",
             "linecolor": "white",
             "minorgridcolor": "white",
             "startlinecolor": "#2a3f5f"
            },
            "baxis": {
             "endlinecolor": "#2a3f5f",
             "gridcolor": "white",
             "linecolor": "white",
             "minorgridcolor": "white",
             "startlinecolor": "#2a3f5f"
            },
            "type": "carpet"
           }
          ],
          "choropleth": [
           {
            "colorbar": {
             "outlinewidth": 0,
             "ticks": ""
            },
            "type": "choropleth"
           }
          ],
          "contour": [
           {
            "colorbar": {
             "outlinewidth": 0,
             "ticks": ""
            },
            "colorscale": [
             [
              0,
              "#0d0887"
             ],
             [
              0.1111111111111111,
              "#46039f"
             ],
             [
              0.2222222222222222,
              "#7201a8"
             ],
             [
              0.3333333333333333,
              "#9c179e"
             ],
             [
              0.4444444444444444,
              "#bd3786"
             ],
             [
              0.5555555555555556,
              "#d8576b"
             ],
             [
              0.6666666666666666,
              "#ed7953"
             ],
             [
              0.7777777777777778,
              "#fb9f3a"
             ],
             [
              0.8888888888888888,
              "#fdca26"
             ],
             [
              1,
              "#f0f921"
             ]
            ],
            "type": "contour"
           }
          ],
          "contourcarpet": [
           {
            "colorbar": {
             "outlinewidth": 0,
             "ticks": ""
            },
            "type": "contourcarpet"
           }
          ],
          "heatmap": [
           {
            "colorbar": {
             "outlinewidth": 0,
             "ticks": ""
            },
            "colorscale": [
             [
              0,
              "#0d0887"
             ],
             [
              0.1111111111111111,
              "#46039f"
             ],
             [
              0.2222222222222222,
              "#7201a8"
             ],
             [
              0.3333333333333333,
              "#9c179e"
             ],
             [
              0.4444444444444444,
              "#bd3786"
             ],
             [
              0.5555555555555556,
              "#d8576b"
             ],
             [
              0.6666666666666666,
              "#ed7953"
             ],
             [
              0.7777777777777778,
              "#fb9f3a"
             ],
             [
              0.8888888888888888,
              "#fdca26"
             ],
             [
              1,
              "#f0f921"
             ]
            ],
            "type": "heatmap"
           }
          ],
          "histogram": [
           {
            "marker": {
             "pattern": {
              "fillmode": "overlay",
              "size": 10,
              "solidity": 0.2
             }
            },
            "type": "histogram"
           }
          ],
          "histogram2d": [
           {
            "colorbar": {
             "outlinewidth": 0,
             "ticks": ""
            },
            "colorscale": [
             [
              0,
              "#0d0887"
             ],
             [
              0.1111111111111111,
              "#46039f"
             ],
             [
              0.2222222222222222,
              "#7201a8"
             ],
             [
              0.3333333333333333,
              "#9c179e"
             ],
             [
              0.4444444444444444,
              "#bd3786"
             ],
             [
              0.5555555555555556,
              "#d8576b"
             ],
             [
              0.6666666666666666,
              "#ed7953"
             ],
             [
              0.7777777777777778,
              "#fb9f3a"
             ],
             [
              0.8888888888888888,
              "#fdca26"
             ],
             [
              1,
              "#f0f921"
             ]
            ],
            "type": "histogram2d"
           }
          ],
          "histogram2dcontour": [
           {
            "colorbar": {
             "outlinewidth": 0,
             "ticks": ""
            },
            "colorscale": [
             [
              0,
              "#0d0887"
             ],
             [
              0.1111111111111111,
              "#46039f"
             ],
             [
              0.2222222222222222,
              "#7201a8"
             ],
             [
              0.3333333333333333,
              "#9c179e"
             ],
             [
              0.4444444444444444,
              "#bd3786"
             ],
             [
              0.5555555555555556,
              "#d8576b"
             ],
             [
              0.6666666666666666,
              "#ed7953"
             ],
             [
              0.7777777777777778,
              "#fb9f3a"
             ],
             [
              0.8888888888888888,
              "#fdca26"
             ],
             [
              1,
              "#f0f921"
             ]
            ],
            "type": "histogram2dcontour"
           }
          ],
          "mesh3d": [
           {
            "colorbar": {
             "outlinewidth": 0,
             "ticks": ""
            },
            "type": "mesh3d"
           }
          ],
          "parcoords": [
           {
            "line": {
             "colorbar": {
              "outlinewidth": 0,
              "ticks": ""
             }
            },
            "type": "parcoords"
           }
          ],
          "pie": [
           {
            "automargin": true,
            "type": "pie"
           }
          ],
          "scatter": [
           {
            "fillpattern": {
             "fillmode": "overlay",
             "size": 10,
             "solidity": 0.2
            },
            "type": "scatter"
           }
          ],
          "scatter3d": [
           {
            "line": {
             "colorbar": {
              "outlinewidth": 0,
              "ticks": ""
             }
            },
            "marker": {
             "colorbar": {
              "outlinewidth": 0,
              "ticks": ""
             }
            },
            "type": "scatter3d"
           }
          ],
          "scattercarpet": [
           {
            "marker": {
             "colorbar": {
              "outlinewidth": 0,
              "ticks": ""
             }
            },
            "type": "scattercarpet"
           }
          ],
          "scattergeo": [
           {
            "marker": {
             "colorbar": {
              "outlinewidth": 0,
              "ticks": ""
             }
            },
            "type": "scattergeo"
           }
          ],
          "scattergl": [
           {
            "marker": {
             "colorbar": {
              "outlinewidth": 0,
              "ticks": ""
             }
            },
            "type": "scattergl"
           }
          ],
          "scattermap": [
           {
            "marker": {
             "colorbar": {
              "outlinewidth": 0,
              "ticks": ""
             }
            },
            "type": "scattermap"
           }
          ],
          "scattermapbox": [
           {
            "marker": {
             "colorbar": {
              "outlinewidth": 0,
              "ticks": ""
             }
            },
            "type": "scattermapbox"
           }
          ],
          "scatterpolar": [
           {
            "marker": {
             "colorbar": {
              "outlinewidth": 0,
              "ticks": ""
             }
            },
            "type": "scatterpolar"
           }
          ],
          "scatterpolargl": [
           {
            "marker": {
             "colorbar": {
              "outlinewidth": 0,
              "ticks": ""
             }
            },
            "type": "scatterpolargl"
           }
          ],
          "scatterternary": [
           {
            "marker": {
             "colorbar": {
              "outlinewidth": 0,
              "ticks": ""
             }
            },
            "type": "scatterternary"
           }
          ],
          "surface": [
           {
            "colorbar": {
             "outlinewidth": 0,
             "ticks": ""
            },
            "colorscale": [
             [
              0,
              "#0d0887"
             ],
             [
              0.1111111111111111,
              "#46039f"
             ],
             [
              0.2222222222222222,
              "#7201a8"
             ],
             [
              0.3333333333333333,
              "#9c179e"
             ],
             [
              0.4444444444444444,
              "#bd3786"
             ],
             [
              0.5555555555555556,
              "#d8576b"
             ],
             [
              0.6666666666666666,
              "#ed7953"
             ],
             [
              0.7777777777777778,
              "#fb9f3a"
             ],
             [
              0.8888888888888888,
              "#fdca26"
             ],
             [
              1,
              "#f0f921"
             ]
            ],
            "type": "surface"
           }
          ],
          "table": [
           {
            "cells": {
             "fill": {
              "color": "#EBF0F8"
             },
             "line": {
              "color": "white"
             }
            },
            "header": {
             "fill": {
              "color": "#C8D4E3"
             },
             "line": {
              "color": "white"
             }
            },
            "type": "table"
           }
          ]
         },
         "layout": {
          "annotationdefaults": {
           "arrowcolor": "#2a3f5f",
           "arrowhead": 0,
           "arrowwidth": 1
          },
          "autotypenumbers": "strict",
          "coloraxis": {
           "colorbar": {
            "outlinewidth": 0,
            "ticks": ""
           }
          },
          "colorscale": {
           "diverging": [
            [
             0,
             "#8e0152"
            ],
            [
             0.1,
             "#c51b7d"
            ],
            [
             0.2,
             "#de77ae"
            ],
            [
             0.3,
             "#f1b6da"
            ],
            [
             0.4,
             "#fde0ef"
            ],
            [
             0.5,
             "#f7f7f7"
            ],
            [
             0.6,
             "#e6f5d0"
            ],
            [
             0.7,
             "#b8e186"
            ],
            [
             0.8,
             "#7fbc41"
            ],
            [
             0.9,
             "#4d9221"
            ],
            [
             1,
             "#276419"
            ]
           ],
           "sequential": [
            [
             0,
             "#0d0887"
            ],
            [
             0.1111111111111111,
             "#46039f"
            ],
            [
             0.2222222222222222,
             "#7201a8"
            ],
            [
             0.3333333333333333,
             "#9c179e"
            ],
            [
             0.4444444444444444,
             "#bd3786"
            ],
            [
             0.5555555555555556,
             "#d8576b"
            ],
            [
             0.6666666666666666,
             "#ed7953"
            ],
            [
             0.7777777777777778,
             "#fb9f3a"
            ],
            [
             0.8888888888888888,
             "#fdca26"
            ],
            [
             1,
             "#f0f921"
            ]
           ],
           "sequentialminus": [
            [
             0,
             "#0d0887"
            ],
            [
             0.1111111111111111,
             "#46039f"
            ],
            [
             0.2222222222222222,
             "#7201a8"
            ],
            [
             0.3333333333333333,
             "#9c179e"
            ],
            [
             0.4444444444444444,
             "#bd3786"
            ],
            [
             0.5555555555555556,
             "#d8576b"
            ],
            [
             0.6666666666666666,
             "#ed7953"
            ],
            [
             0.7777777777777778,
             "#fb9f3a"
            ],
            [
             0.8888888888888888,
             "#fdca26"
            ],
            [
             1,
             "#f0f921"
            ]
           ]
          },
          "colorway": [
           "#636efa",
           "#EF553B",
           "#00cc96",
           "#ab63fa",
           "#FFA15A",
           "#19d3f3",
           "#FF6692",
           "#B6E880",
           "#FF97FF",
           "#FECB52"
          ],
          "font": {
           "color": "#2a3f5f"
          },
          "geo": {
           "bgcolor": "white",
           "lakecolor": "white",
           "landcolor": "#E5ECF6",
           "showlakes": true,
           "showland": true,
           "subunitcolor": "white"
          },
          "hoverlabel": {
           "align": "left"
          },
          "hovermode": "closest",
          "mapbox": {
           "style": "light"
          },
          "paper_bgcolor": "white",
          "plot_bgcolor": "#E5ECF6",
          "polar": {
           "angularaxis": {
            "gridcolor": "white",
            "linecolor": "white",
            "ticks": ""
           },
           "bgcolor": "#E5ECF6",
           "radialaxis": {
            "gridcolor": "white",
            "linecolor": "white",
            "ticks": ""
           }
          },
          "scene": {
           "xaxis": {
            "backgroundcolor": "#E5ECF6",
            "gridcolor": "white",
            "gridwidth": 2,
            "linecolor": "white",
            "showbackground": true,
            "ticks": "",
            "zerolinecolor": "white"
           },
           "yaxis": {
            "backgroundcolor": "#E5ECF6",
            "gridcolor": "white",
            "gridwidth": 2,
            "linecolor": "white",
            "showbackground": true,
            "ticks": "",
            "zerolinecolor": "white"
           },
           "zaxis": {
            "backgroundcolor": "#E5ECF6",
            "gridcolor": "white",
            "gridwidth": 2,
            "linecolor": "white",
            "showbackground": true,
            "ticks": "",
            "zerolinecolor": "white"
           }
          },
          "shapedefaults": {
           "line": {
            "color": "#2a3f5f"
           }
          },
          "ternary": {
           "aaxis": {
            "gridcolor": "white",
            "linecolor": "white",
            "ticks": ""
           },
           "baxis": {
            "gridcolor": "white",
            "linecolor": "white",
            "ticks": ""
           },
           "bgcolor": "#E5ECF6",
           "caxis": {
            "gridcolor": "white",
            "linecolor": "white",
            "ticks": ""
           }
          },
          "title": {
           "x": 0.05
          },
          "xaxis": {
           "automargin": true,
           "gridcolor": "white",
           "linecolor": "white",
           "ticks": "",
           "title": {
            "standoff": 15
           },
           "zerolinecolor": "white",
           "zerolinewidth": 2
          },
          "yaxis": {
           "automargin": true,
           "gridcolor": "white",
           "linecolor": "white",
           "ticks": "",
           "title": {
            "standoff": 15
           },
           "zerolinecolor": "white",
           "zerolinewidth": 2
          }
         }
        },
        "title": {
         "text": "SLIM - Population Semantic Diversity (sustavianfeed dataset)"
        },
        "width": 1000,
        "xaxis": {
         "anchor": "y",
         "domain": [
          0,
          0.2888888888888889
         ],
         "title": {
          "text": "Generation"
         }
        },
        "xaxis10": {
         "anchor": "y10",
         "domain": [
          0,
          0.2888888888888889
         ],
         "title": {
          "text": "Generation"
         }
        },
        "xaxis11": {
         "anchor": "y11",
         "domain": [
          0.35555555555555557,
          0.6444444444444445
         ]
        },
        "xaxis12": {
         "anchor": "y12",
         "domain": [
          0.7111111111111111,
          1
         ]
        },
        "xaxis2": {
         "anchor": "y2",
         "domain": [
          0.35555555555555557,
          0.6444444444444445
         ],
         "title": {
          "text": "Generation"
         }
        },
        "xaxis3": {
         "anchor": "y3",
         "domain": [
          0.7111111111111111,
          1
         ],
         "title": {
          "text": "Generation"
         }
        },
        "xaxis4": {
         "anchor": "y4",
         "domain": [
          0,
          0.2888888888888889
         ],
         "title": {
          "text": "Generation"
         }
        },
        "xaxis5": {
         "anchor": "y5",
         "domain": [
          0.35555555555555557,
          0.6444444444444445
         ],
         "title": {
          "text": "Generation"
         }
        },
        "xaxis6": {
         "anchor": "y6",
         "domain": [
          0.7111111111111111,
          1
         ],
         "title": {
          "text": "Generation"
         }
        },
        "xaxis7": {
         "anchor": "y7",
         "domain": [
          0,
          0.2888888888888889
         ],
         "title": {
          "text": "Generation"
         }
        },
        "xaxis8": {
         "anchor": "y8",
         "domain": [
          0.35555555555555557,
          0.6444444444444445
         ],
         "title": {
          "text": "Generation"
         }
        },
        "xaxis9": {
         "anchor": "y9",
         "domain": [
          0.7111111111111111,
          1
         ],
         "title": {
          "text": "Generation"
         }
        },
        "yaxis": {
         "anchor": "x",
         "domain": [
          0.84375,
          1
         ],
         "range": [
          0,
          null
         ],
         "title": {
          "text": "Semantic Diversity"
         }
        },
        "yaxis10": {
         "anchor": "x10",
         "domain": [
          0,
          0.15625
         ],
         "range": [
          0,
          null
         ],
         "title": {
          "text": "Semantic Diversity"
         }
        },
        "yaxis11": {
         "anchor": "x11",
         "domain": [
          0,
          0.15625
         ]
        },
        "yaxis12": {
         "anchor": "x12",
         "domain": [
          0,
          0.15625
         ]
        },
        "yaxis2": {
         "anchor": "x2",
         "domain": [
          0.84375,
          1
         ],
         "range": [
          0,
          null
         ],
         "title": {
          "text": "Semantic Diversity"
         }
        },
        "yaxis3": {
         "anchor": "x3",
         "domain": [
          0.84375,
          1
         ],
         "range": [
          0,
          null
         ],
         "title": {
          "text": "Semantic Diversity"
         }
        },
        "yaxis4": {
         "anchor": "x4",
         "domain": [
          0.5625,
          0.71875
         ],
         "range": [
          0,
          null
         ],
         "title": {
          "text": "Semantic Diversity"
         }
        },
        "yaxis5": {
         "anchor": "x5",
         "domain": [
          0.5625,
          0.71875
         ],
         "range": [
          0,
          null
         ],
         "title": {
          "text": "Semantic Diversity"
         }
        },
        "yaxis6": {
         "anchor": "x6",
         "domain": [
          0.5625,
          0.71875
         ],
         "range": [
          0,
          null
         ],
         "title": {
          "text": "Semantic Diversity"
         }
        },
        "yaxis7": {
         "anchor": "x7",
         "domain": [
          0.28125,
          0.4375
         ],
         "range": [
          0,
          null
         ],
         "title": {
          "text": "Semantic Diversity"
         }
        },
        "yaxis8": {
         "anchor": "x8",
         "domain": [
          0.28125,
          0.4375
         ],
         "range": [
          0,
          null
         ],
         "title": {
          "text": "Semantic Diversity"
         }
        },
        "yaxis9": {
         "anchor": "x9",
         "domain": [
          0.28125,
          0.4375
         ],
         "range": [
          0,
          null
         ],
         "title": {
          "text": "Semantic Diversity"
         }
        }
       }
      }
     },
     "metadata": {},
     "output_type": "display_data"
    }
   ],
   "source": [
    "plot_SLIM_population_semantic_diversity_logs(\n",
    "    model_name='SLIM',\n",
    "    n_folds=n_outer_cv,\n",
    "    dataset_name='sustavianfeed'\n",
    ")"
   ]
  },
  {
   "cell_type": "markdown",
   "id": "fb8f64b9",
   "metadata": {},
   "source": [
    "Considering semantic diversity, all solution we observed were similar as we notice very low diversity. This lays credence to our previous conclusion that more focus ought to be put in making our model more exploration focused."
   ]
  },
  {
   "cell_type": "markdown",
   "id": "ed22ee7d",
   "metadata": {},
   "source": [
    "Overall, the model shows good performance when compared to node size, few signs of overfitting and bloating not being an immediate concern. Clearly the biggest problem is the lack of semantic and fitness diversity. Although the model has achieved good results with RMSE closing in on zero, the fact that the model fails to explore more of the search space might entail the possibility that better solutions were not avaluated."
   ]
  },
  {
   "cell_type": "markdown",
   "id": "a75f56e4",
   "metadata": {},
   "source": [
    "Given our analysis conclusion that slim version SLIM * SIG1 is statiscally the versions with better performance, in most cases, for further study we shall focus on improving the model ability to explore the search space. Although bloating is not an immediate concern, in further iterations we shall pay attention to the evolution of performance and bloating as the model looked to stabilize the performance. If we were to run more iterations, we would looking to verify if the model would be able to start a new downward trend without needing big leaps of node count. If not, we might need to adjust p_inflate. Overall, we conclude that our model has solid performance while having a reasonable computational cost. Nevertheless, computational cost may be a impediment going forward as we try to observe the influence of more combinations of parameters."
   ]
  }
 ],
 "metadata": {
  "kernelspec": {
   "display_name": "Python 3",
   "language": "python",
   "name": "python3"
  },
  "language_info": {
   "codemirror_mode": {
    "name": "ipython",
    "version": 3
   },
   "file_extension": ".py",
   "mimetype": "text/x-python",
   "name": "python",
   "nbconvert_exporter": "python",
   "pygments_lexer": "ipython3",
   "version": "3.10.10"
  }
 },
 "nbformat": 4,
 "nbformat_minor": 5
}
