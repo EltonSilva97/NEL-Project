{
 "cells": [
  {
   "cell_type": "code",
   "execution_count": 1,
   "id": "17e01d51",
   "metadata": {},
   "outputs": [],
   "source": [
    "import os\n",
    "import random\n",
    "\n",
    "import pandas as pd\n",
    "import numpy as np\n",
    "\n",
    "import warnings\n",
    "warnings.filterwarnings('ignore')\n",
    "\n",
    "from sklearn.model_selection import KFold\n",
    "\n",
    "from slim_gsgp.datasets.data_loader import *\n",
    "from preprocessing import get_X_and_y_tensors\n",
    "from slim_wrapper import SLIMWrapper\n",
    "from nested_crossval import run_nested_cv_for_model\n",
    "from utils import *\n",
    "import pandas as pd\n",
    "import plotly.express as px\n",
    "from scipy.stats import wilcoxon\n",
    "from itertools import combinations"
   ]
  },
  {
   "cell_type": "code",
   "execution_count": 2,
   "id": "83530cf2",
   "metadata": {},
   "outputs": [],
   "source": [
    "seed = 1111\n",
    "np.random.seed(seed)\n",
    "random.seed(seed)"
   ]
  },
  {
   "cell_type": "markdown",
   "id": "06994cb5",
   "metadata": {},
   "source": [
    "## 1. Getting X an y tensors"
   ]
  },
  {
   "cell_type": "code",
   "execution_count": 3,
   "id": "62e8af21",
   "metadata": {},
   "outputs": [],
   "source": [
    "X,y=get_X_and_y_tensors()"
   ]
  },
  {
   "cell_type": "code",
   "execution_count": 4,
   "id": "9ef05c34",
   "metadata": {},
   "outputs": [],
   "source": [
    "%load_ext autoreload\n",
    "%autoreload 2"
   ]
  },
  {
   "cell_type": "code",
   "execution_count": 5,
   "id": "130c0fe2",
   "metadata": {},
   "outputs": [
    {
     "data": {
      "text/plain": [
       "tensor([[ 214.0000, 1725.6000, 1394.0000,  ...,    3.7160,  489.4000,\n",
       "         2223.3000],\n",
       "        [ 236.0000, 1769.8000, 1405.4000,  ...,    3.4940,  538.7000,\n",
       "         2201.8999],\n",
       "        [ 241.8000, 1724.9000, 1461.7000,  ...,    4.0230,  512.1000,\n",
       "         2159.8999],\n",
       "        ...,\n",
       "        [ 253.1000, 2050.0000, 1669.8000,  ...,    5.1760,  610.0000,\n",
       "         2648.2000],\n",
       "        [ 212.1000, 1813.9000, 1468.0000,  ...,    2.8290,  548.4000,\n",
       "         2262.6001],\n",
       "        [ 245.7000, 2038.8000, 1655.6000,  ...,    5.9600,  606.9000,\n",
       "         2704.3000]])"
      ]
     },
     "execution_count": 5,
     "metadata": {},
     "output_type": "execute_result"
    }
   ],
   "source": [
    "X"
   ]
  },
  {
   "cell_type": "code",
   "execution_count": 6,
   "id": "336b75dd",
   "metadata": {},
   "outputs": [
    {
     "data": {
      "text/plain": [
       "tensor([86.1055, 86.1435, 86.4169, 85.9599, 81.6936, 87.5331, 86.8410, 88.2468,\n",
       "        87.5399, 88.1924, 87.7862, 86.2464, 86.1611, 86.5115, 86.8366, 84.9951,\n",
       "        86.3812, 88.5102, 85.0129, 85.9784, 88.9662, 84.7507, 87.1134, 87.2657,\n",
       "        85.5097, 87.1627, 84.8371, 86.8986, 87.4809, 88.2095, 83.4647, 86.3373,\n",
       "        86.5872, 87.8968, 88.5642, 87.4188, 87.9764, 84.6742, 73.8372, 85.9425,\n",
       "        86.5554, 87.6478, 87.5996, 86.1728, 88.3539, 87.2642, 86.7197, 85.2699,\n",
       "        87.7586, 87.8977, 88.1691, 88.4375, 87.1276, 87.5950, 87.9379, 86.5774,\n",
       "        87.3628, 88.5818, 89.5304, 87.1476, 87.9669, 87.8043, 86.0451, 88.7219,\n",
       "        88.3917, 89.0096, 85.0285, 87.2786, 87.5549, 87.4504, 88.3307, 89.0777,\n",
       "        86.8685, 89.4476, 88.6088, 87.6669, 87.6940, 89.0107, 89.6245, 89.4860,\n",
       "        88.9843, 88.4306, 88.6367, 90.2405, 86.5774, 87.4385, 88.9093, 88.7257,\n",
       "        88.8421, 88.8315, 87.8210, 88.9991, 88.5073, 90.3756, 91.2113, 88.8250])"
      ]
     },
     "execution_count": 6,
     "metadata": {},
     "output_type": "execute_result"
    }
   ],
   "source": [
    "y"
   ]
  },
  {
   "cell_type": "markdown",
   "id": "9ede7cf3",
   "metadata": {},
   "source": [
    "## 2. Cross-validation objects"
   ]
  },
  {
   "cell_type": "code",
   "execution_count": 7,
   "id": "7c77042d",
   "metadata": {},
   "outputs": [],
   "source": [
    "n_outer_cv=30\n",
    "n_inner_cv=5\n",
    "outer_cv=KFold(n_splits=n_outer_cv,shuffle=True, random_state=42)"
   ]
  },
  {
   "cell_type": "markdown",
   "id": "b416c434",
   "metadata": {},
   "source": [
    "## 3. Applying  SLIM"
   ]
  },
  {
   "cell_type": "markdown",
   "id": "af2e81e1",
   "metadata": {},
   "source": [
    "\n",
    "- `X` will be all the features except the [\"CRUDE PROTEIN\"], we will try to predict\n",
    "- `y`will be the [\"CRUDE PROTEIN\"]\n",
    "- `fitnesss_function`: rmse\n",
    "- `minimization`: it will be a minimization problem, we are trying to decrease the rmse"
   ]
  },
  {
   "cell_type": "code",
   "execution_count": 8,
   "id": "6947a648",
   "metadata": {},
   "outputs": [],
   "source": [
    "FITNESS_FUNCTION = 'rmse'\n",
    "MINIMIZATION = True"
   ]
  },
  {
   "cell_type": "markdown",
   "id": "907768ee",
   "metadata": {},
   "source": [
    "__`Search space definition`__\n",
    "\n",
    "- `initializer`: how new random trees are initialized. See [`slim_gsgp` initializers](https://github.com/DALabNOVA/slim/blob/main/slim_gsgp/initializers/initializers.py);\n",
    "- `tree_constants`: the constants to be used in the terminal set;\n",
    "- `tree_functions`: the function set (tree internal nodes);\n",
    "- `prob_const`: the probability for choosing constants instead of dataset features on tree terminals;\n",
    "- `init_depth`: max depth for tree initialisation;\n"
   ]
  },
  {
   "cell_type": "markdown",
   "id": "6616b8bf",
   "metadata": {},
   "source": [
    "The following hyperparameter options are the same as for **GP and GSGP**:\n",
    "\n",
    "- `pop_size`: the size of the population of candidate solutions.\n",
    "- `elitism`: should the elite(s) be preserved at each generation?\n",
    "- `n_elits`: if using elitism, how many solutions should be kept?\n",
    "- Selection method. Only tournament selection in available on `slim_gsgp` libraya, as this is the most commonly used. It requires the definition of the `tournament_size` hyperparameter: how many solutions should participate in the tournament of tournament selection?\n",
    "\n",
    "The following hyperparameter options are the same as only for **GSGP**:\n",
    "\n",
    "- `ms_lower`: lower bound for generating the random number used as mutation step.\n",
    "- `ms_upper`: upper bound for generating the random number used as mutation step.\n",
    "- `reconstruct`: whether to store the structure of individuals."
   ]
  },
  {
   "cell_type": "markdown",
   "id": "e4a78a17",
   "metadata": {},
   "source": [
    "**Additionally, SLIM requires:**\n",
    "- `slim_version`: So far, mutator variation (SLIM+SIG2, SLIM+SIG1, SLIM+ABS, SLIM*SIG2, SLIM*SIG1, SLIM*ABS)\n",
    "- `p_inflate`: The probability of applying inflate mutation instead of deflate mutation.\n",
    "- `copy_parent`: Whether to copy the original parent when mutation is impossible (due to depth rules or mutation constraints)"
   ]
  },
  {
   "cell_type": "code",
   "execution_count": 9,
   "id": "5c2304c5",
   "metadata": {},
   "outputs": [
    {
     "name": "stdout",
     "output_type": "stream",
     "text": [
      "TOURNAMENT_SIZE: 20\n"
     ]
    }
   ],
   "source": [
    "INITIALIZER = 'rhh'\n",
    "TREE_CONSTANTS = [random.uniform(0, 1) for _ in range(9)]+[ -1.]\n",
    "TREE_FUNCTIONS = ['add', 'subtract', 'multiply', 'divide']\n",
    "PROB_CONSTANT = 0.9\n",
    "MAX_INIT_DEPTH = 4\n",
    "POP_SIZE = 200\n",
    "P_XO = 0.9\n",
    "ELISTISM = True\n",
    "N_ELITES = 2\n",
    "TOURNAMENT_SIZE = int(POP_SIZE*0.1)\n",
    "print(f'TOURNAMENT_SIZE: {TOURNAMENT_SIZE}')\n",
    "\n",
    "MS_LOWER = 0\n",
    "MS_UPPER = 1\n",
    "RECONSTRUCT = True\n",
    "GENERATIONS = 20\n",
    "VERBOSE = 1\n",
    "DATASET_NAME=\"sustavianfeed\"\n",
    "LOG_LEVEL = 2\n",
    "\n",
    "SLIM_VERSION = 'SLIM*SIG2'\n",
    "P_INFLATE = 0.3\n",
    "COPY_PARENT = False"
   ]
  },
  {
   "cell_type": "markdown",
   "id": "785b2603",
   "metadata": {},
   "source": [
    "__`Solve settings`__\n",
    "\n",
    "Same as available for GP and GSGP:"
   ]
  },
  {
   "cell_type": "markdown",
   "id": "041296dd",
   "metadata": {},
   "source": [
    "## 4. Hyperparameter tunning with Nested Crossfold validation"
   ]
  },
  {
   "cell_type": "markdown",
   "id": "8d9b52ad",
   "metadata": {},
   "source": [
    "We chose nested cross-validation instead of a random train-test split because it gives a fairer and more reliable way to check our model’s performance. It has two steps: one for finding the best model settings (hyperparameters) and another for testing how well the model works on new data. This is important because if we tune and test the model on the same data, the results might look better than they actually are. \n",
    "By keeping these steps separate, nested cross-validation helps avoid this problem and gives a more honest estimate of how our model will perform on new, unseen data."
   ]
  },
  {
   "cell_type": "markdown",
   "id": "9179bb7b",
   "metadata": {},
   "source": [
    "- For the inner fold of the nested cross-validation, we applied Grid Search to take advantage of all its built-in features like systematic parameter tuning and parallel processing. To make this work with the SLIM library, we implemented a custom wrapper called SLIMWrapper, which follows the BaseEstimator interface. This allowed us to integrate the SLIM seamlessly into the grid search process, ensuring efficient and consistent hyperparameter tuning within the inner loop."
   ]
  },
  {
   "cell_type": "code",
   "execution_count": 10,
   "id": "fc14717d",
   "metadata": {},
   "outputs": [],
   "source": [
    "estimator=SLIMWrapper(\n",
    "    init_depth=MAX_INIT_DEPTH,\n",
    "    tree_constants=TREE_CONSTANTS,\n",
    "    tree_functions=TREE_FUNCTIONS,\n",
    "    prob_const = PROB_CONSTANT,\n",
    "    dataset_name=DATASET_NAME,\n",
    "    fitness_function=FITNESS_FUNCTION,\n",
    "    minimization=MINIMIZATION,\n",
    "    # --\n",
    "    # SLIM instance \n",
    "    pop_size=POP_SIZE,\n",
    "    initializer=INITIALIZER,\n",
    "    ms_lower = MS_LOWER,\n",
    "    ms_upper = MS_UPPER,\n",
    "    reconstruct = RECONSTRUCT,\n",
    "    p_inflate=P_INFLATE,\n",
    "    copy_parent=COPY_PARENT,\n",
    "    # ---\n",
    "    # Solve settings\n",
    "    n_iter=GENERATIONS,\n",
    "    elitism=ELISTISM,\n",
    "    n_elites=N_ELITES,\n",
    "    test_elite=True,\n",
    "    log_level=LOG_LEVEL,\n",
    "    verbose=0,\n",
    "    n_jobs=1,\n",
    "    seed=seed\n",
    ")"
   ]
  },
  {
   "cell_type": "markdown",
   "id": "6670694a",
   "metadata": {},
   "source": [
    "For this model we shall focus our analysis in 'slim_version'. Our goal is to find which version allows us to have the best performance with all other parameters fixed, for fair comparison, while also trying to make sure our model doesn't grow excessively"
   ]
  },
  {
   "cell_type": "code",
   "execution_count": 11,
   "id": "0d70f2f9",
   "metadata": {},
   "outputs": [],
   "source": [
    "param_grid={\n",
    "    'slim_version': ['SLIM+SIG2', 'SLIM+SIG1', 'SLIM+ABS', 'SLIM*SIG2', 'SLIM*SIG1', 'SLIM*ABS'],\n",
    "}"
   ]
  },
  {
   "cell_type": "code",
   "execution_count": 12,
   "id": "3f4465fc",
   "metadata": {},
   "outputs": [
    {
     "name": "stdout",
     "output_type": "stream",
     "text": [
      "\n",
      " Outer fold 1\n",
      "\n",
      "Grid search completed!\n",
      "Best parameters: {'slim_version': 'SLIM*SIG1'}\n",
      "Best score: -3.260263965074465\n",
      "Training with the best hyparameters of 1 fold\n",
      "Verbose Reporter\n",
      "-----------------------------------------------------------------------------------------------------------------------------------------\n",
      "|         Dataset         |  Generation  |     Train Fitness     |       Test Fitness       |        Timing          |      Nodes       |\n",
      "-----------------------------------------------------------------------------------------------------------------------------------------\n",
      "|     sustavianfeed       |       0      |   15.269261360168457  |   11.649701118469238     |   0.04793262481689453  |      3           |\n",
      "|     sustavianfeed       |       1      |   15.269261360168457  |   11.649701118469238     |   0.07361555099487305  |      3           |\n",
      "|     sustavianfeed       |       2      |   15.269261360168457  |   11.649701118469238     |   0.04355502128601074  |      3           |\n",
      "|     sustavianfeed       |       3      |   9.427932739257812   |   6.579290866851807      |   0.0631561279296875   |      16          |\n",
      "|     sustavianfeed       |       4      |   9.427932739257812   |   6.579290866851807      |   0.04616546630859375  |      16          |\n",
      "|     sustavianfeed       |       5      |   9.427932739257812   |   6.579290866851807      |   0.05684304237365723  |      16          |\n",
      "|     sustavianfeed       |       6      |   9.427932739257812   |   6.579290866851807      |   0.05357170104980469  |      16          |\n",
      "|     sustavianfeed       |       7      |   9.427932739257812   |   6.579290866851807      |   0.05262494087219238  |      16          |\n",
      "|     sustavianfeed       |       8      |   3.4482545852661133  |   5.253108978271484      |   0.05284476280212402  |      31          |\n",
      "|     sustavianfeed       |       9      |   3.4482545852661133  |   5.253108978271484      |   0.049570322036743164 |      31          |\n",
      "|     sustavianfeed       |       10     |   3.4482545852661133  |   5.253108978271484      |   0.05990481376647949  |      31          |\n",
      "|     sustavianfeed       |       11     |   3.4353199005126953  |   5.23771333694458       |   0.05302309989929199  |      44          |\n",
      "|     sustavianfeed       |       12     |   3.4353199005126953  |   5.23771333694458       |   0.06113767623901367  |      44          |\n",
      "|     sustavianfeed       |       13     |   2.413958787918091   |   1.3817393779754639     |   0.05050826072692871  |      59          |\n",
      "|     sustavianfeed       |       14     |   2.413958787918091   |   1.3817393779754639     |   0.15853047370910645  |      59          |\n",
      "|     sustavianfeed       |       15     |   1.9524791240692139  |   2.604607582092285      |   0.055109500885009766 |      74          |\n",
      "|     sustavianfeed       |       16     |   1.9524791240692139  |   2.604607582092285      |   0.05169510841369629  |      74          |\n",
      "|     sustavianfeed       |       17     |   1.9524791240692139  |   2.604607582092285      |   0.04918837547302246  |      74          |\n",
      "|     sustavianfeed       |       18     |   1.9524791240692139  |   2.604607582092285      |   0.05326247215270996  |      74          |\n",
      "|     sustavianfeed       |       19     |   1.9524791240692139  |   2.604607582092285      |   0.06215977668762207  |      74          |\n",
      "|     sustavianfeed       |       20     |   1.9524791240692139  |   2.604607582092285      |   0.05044054985046387  |      74          |\n",
      "Outer fold 1 - Best parameters: {'slim_version': 'SLIM*SIG1'}\n",
      "Outer fold 1 - Test score: -2.6046\n",
      "\n",
      " Outer fold 2\n",
      "\n",
      "Grid search completed!\n",
      "Best parameters: {'slim_version': 'SLIM*SIG1'}\n",
      "Best score: -4.898318723209975\n",
      "Training with the best hyparameters of 2 fold\n",
      "Verbose Reporter\n",
      "-----------------------------------------------------------------------------------------------------------------------------------------\n",
      "|         Dataset         |  Generation  |     Train Fitness     |       Test Fitness       |        Timing          |      Nodes       |\n",
      "-----------------------------------------------------------------------------------------------------------------------------------------\n",
      "|     sustavianfeed       |       0      |   15.010242462158203  |   17.779315948486328     |   0.046160221099853516 |      3           |\n",
      "|     sustavianfeed       |       1      |   15.010242462158203  |   17.779315948486328     |   0.07036685943603516  |      3           |\n",
      "|     sustavianfeed       |       2      |   15.010242462158203  |   17.779315948486328     |   0.040231943130493164 |      3           |\n",
      "|     sustavianfeed       |       3      |   9.437846183776855   |   6.243868350982666      |   0.06810212135314941  |      16          |\n",
      "|     sustavianfeed       |       4      |   9.437846183776855   |   6.243868350982666      |   0.0445406436920166   |      16          |\n",
      "|     sustavianfeed       |       5      |   9.437846183776855   |   6.243868350982666      |   0.06343436241149902  |      16          |\n",
      "|     sustavianfeed       |       6      |   9.437846183776855   |   6.243868350982666      |   0.046546220779418945 |      16          |\n",
      "|     sustavianfeed       |       7      |   9.437846183776855   |   6.243868350982666      |   0.054078102111816406 |      16          |\n",
      "|     sustavianfeed       |       8      |   3.509028911590576   |   4.22731351852417       |   0.05882000923156738  |      31          |\n",
      "|     sustavianfeed       |       9      |   3.509028911590576   |   4.22731351852417       |   0.04854917526245117  |      31          |\n",
      "|     sustavianfeed       |       10     |   3.509028911590576   |   4.22731351852417       |   0.05876445770263672  |      31          |\n",
      "|     sustavianfeed       |       11     |   3.509028911590576   |   4.22731351852417       |   0.05760455131530762  |      31          |\n",
      "|     sustavianfeed       |       12     |   3.509028911590576   |   4.22731351852417       |   0.04846692085266113  |      31          |\n",
      "|     sustavianfeed       |       13     |   3.509028911590576   |   4.22731351852417       |   0.1477675437927246   |      31          |\n",
      "|     sustavianfeed       |       14     |   3.509028911590576   |   4.22731351852417       |   0.07218360900878906  |      31          |\n",
      "|     sustavianfeed       |       15     |   3.509028911590576   |   4.22731351852417       |   0.05853867530822754  |      31          |\n",
      "|     sustavianfeed       |       16     |   3.509028911590576   |   4.22731351852417       |   0.0634613037109375   |      31          |\n",
      "|     sustavianfeed       |       17     |   2.276002883911133   |   0.9301022887229919     |   0.06810736656188965  |      44          |\n",
      "|     sustavianfeed       |       18     |   2.276002883911133   |   0.9301022887229919     |   0.056189537048339844 |      44          |\n",
      "|     sustavianfeed       |       19     |   2.276002883911133   |   0.9301022887229919     |   0.0685720443725586   |      44          |\n",
      "|     sustavianfeed       |       20     |   2.276002883911133   |   0.9301022887229919     |   0.06449270248413086  |      44          |\n",
      "Outer fold 2 - Best parameters: {'slim_version': 'SLIM*SIG1'}\n",
      "Outer fold 2 - Test score: -0.9301\n",
      "\n",
      " Outer fold 3\n",
      "\n",
      "Grid search completed!\n",
      "Best parameters: {'slim_version': 'SLIM*SIG1'}\n",
      "Best score: -5.021015911679232\n",
      "Training with the best hyparameters of 3 fold\n",
      "Verbose Reporter\n",
      "-----------------------------------------------------------------------------------------------------------------------------------------\n",
      "|         Dataset         |  Generation  |     Train Fitness     |       Test Fitness       |        Timing          |      Nodes       |\n",
      "-----------------------------------------------------------------------------------------------------------------------------------------\n",
      "|     sustavianfeed       |       0      |   15.275078773498535  |   11.472922325134277     |   0.04113650321960449  |      3           |\n",
      "|     sustavianfeed       |       1      |   15.275078773498535  |   11.472922325134277     |   0.0687263011932373   |      3           |\n",
      "|     sustavianfeed       |       2      |   15.275078773498535  |   11.472922325134277     |   0.03673672676086426  |      3           |\n",
      "|     sustavianfeed       |       3      |   9.402019500732422   |   7.383099555969238      |   0.07186317443847656  |      16          |\n",
      "|     sustavianfeed       |       4      |   9.402019500732422   |   7.383099555969238      |   0.04774761199951172  |      16          |\n",
      "|     sustavianfeed       |       5      |   9.402019500732422   |   7.383099555969238      |   0.06166386604309082  |      16          |\n",
      "|     sustavianfeed       |       6      |   9.267187118530273   |   6.559872627258301      |   0.05123019218444824  |      29          |\n",
      "|     sustavianfeed       |       7      |   9.267187118530273   |   6.559872627258301      |   0.04804396629333496  |      29          |\n",
      "|     sustavianfeed       |       8      |   9.267187118530273   |   6.559872627258301      |   0.060183048248291016 |      29          |\n",
      "|     sustavianfeed       |       9      |   9.250741958618164   |   6.030527591705322      |   0.04822111129760742  |      44          |\n",
      "|     sustavianfeed       |       10     |   9.250741958618164   |   6.030527591705322      |   0.05583596229553223  |      44          |\n",
      "|     sustavianfeed       |       11     |   9.249308586120605   |   6.095693111419678      |   0.1457226276397705   |      31          |\n",
      "|     sustavianfeed       |       12     |   9.249308586120605   |   6.095693111419678      |   0.05296158790588379  |      31          |\n",
      "|     sustavianfeed       |       13     |   9.249308586120605   |   6.095693111419678      |   0.05019807815551758  |      31          |\n",
      "|     sustavianfeed       |       14     |   9.18282699584961    |   5.535973072052002      |   0.057554006576538086 |      29          |\n",
      "|     sustavianfeed       |       15     |   9.18282699584961    |   5.535973072052002      |   0.04409313201904297  |      29          |\n",
      "|     sustavianfeed       |       16     |   9.18282699584961    |   5.535973072052002      |   0.05106210708618164  |      29          |\n",
      "|     sustavianfeed       |       17     |   9.18282699584961    |   5.535973072052002      |   0.04836416244506836  |      29          |\n",
      "|     sustavianfeed       |       18     |   9.18282699584961    |   5.535973072052002      |   0.0595707893371582   |      29          |\n",
      "|     sustavianfeed       |       19     |   9.18282699584961    |   5.535973072052002      |   0.04497647285461426  |      29          |\n",
      "|     sustavianfeed       |       20     |   9.18282699584961    |   5.535973072052002      |   0.05034947395324707  |      29          |\n",
      "Outer fold 3 - Best parameters: {'slim_version': 'SLIM*SIG1'}\n",
      "Outer fold 3 - Test score: -5.5360\n",
      "\n",
      " Outer fold 4\n",
      "\n",
      "Grid search completed!\n",
      "Best parameters: {'slim_version': 'SLIM*SIG1'}\n",
      "Best score: -7.234061641857965\n",
      "Training with the best hyparameters of 4 fold\n",
      "Verbose Reporter\n",
      "-----------------------------------------------------------------------------------------------------------------------------------------\n",
      "|         Dataset         |  Generation  |     Train Fitness     |       Test Fitness       |        Timing          |      Nodes       |\n",
      "-----------------------------------------------------------------------------------------------------------------------------------------\n",
      "|     sustavianfeed       |       0      |   15.407590866088867  |   6.173601150512695      |   0.046059370040893555 |      3           |\n",
      "|     sustavianfeed       |       1      |   15.407590866088867  |   6.173601150512695      |   0.0840597152709961   |      3           |\n",
      "|     sustavianfeed       |       2      |   15.407590866088867  |   6.173601150512695      |   0.0445408821105957   |      3           |\n",
      "|     sustavianfeed       |       3      |   9.409481048583984   |   7.161150932312012      |   0.07369828224182129  |      16          |\n",
      "|     sustavianfeed       |       4      |   9.409481048583984   |   7.161150932312012      |   0.046880245208740234 |      16          |\n",
      "|     sustavianfeed       |       5      |   9.409481048583984   |   7.161150932312012      |   0.05911087989807129  |      16          |\n",
      "|     sustavianfeed       |       6      |   9.409481048583984   |   7.161150932312012      |   0.05508160591125488  |      16          |\n",
      "|     sustavianfeed       |       7      |   9.409481048583984   |   7.161150932312012      |   0.05695462226867676  |      16          |\n",
      "|     sustavianfeed       |       8      |   3.6063497066497803  |   1.3940151929855347     |   0.06434941291809082  |      31          |\n",
      "|     sustavianfeed       |       9      |   3.6063497066497803  |   1.3940151929855347     |   0.058339595794677734 |      31          |\n",
      "|     sustavianfeed       |       10     |   3.6063497066497803  |   1.3940151929855347     |   0.06828069686889648  |      31          |\n",
      "|     sustavianfeed       |       11     |   3.6063497066497803  |   1.3940151929855347     |   0.054706573486328125 |      31          |\n",
      "|     sustavianfeed       |       12     |   3.6063497066497803  |   1.3940151929855347     |   0.061928749084472656 |      31          |\n",
      "|     sustavianfeed       |       13     |   1.9952970743179321  |   2.675812244415283      |   0.06105375289916992  |      44          |\n",
      "|     sustavianfeed       |       14     |   1.9952970743179321  |   2.675812244415283      |   0.06794381141662598  |      44          |\n",
      "|     sustavianfeed       |       15     |   1.9952970743179321  |   2.675812244415283      |   0.05962371826171875  |      44          |\n",
      "|     sustavianfeed       |       16     |   1.9952970743179321  |   2.675812244415283      |   0.16495513916015625  |      44          |\n",
      "|     sustavianfeed       |       17     |   1.9952970743179321  |   2.675812244415283      |   0.06455039978027344  |      44          |\n",
      "|     sustavianfeed       |       18     |   1.9952970743179321  |   2.675812244415283      |   0.07014608383178711  |      44          |\n",
      "|     sustavianfeed       |       19     |   1.9952970743179321  |   2.675812244415283      |   0.05559086799621582  |      44          |\n",
      "|     sustavianfeed       |       20     |   1.9952970743179321  |   2.675812244415283      |   0.0697472095489502   |      44          |\n",
      "Outer fold 4 - Best parameters: {'slim_version': 'SLIM*SIG1'}\n",
      "Outer fold 4 - Test score: -2.6758\n",
      "\n",
      " Outer fold 5\n",
      "\n",
      "Grid search completed!\n",
      "Best parameters: {'slim_version': 'SLIM*SIG1'}\n",
      "Best score: -4.493615847385644\n",
      "Training with the best hyparameters of 5 fold\n",
      "Verbose Reporter\n",
      "-----------------------------------------------------------------------------------------------------------------------------------------\n",
      "|         Dataset         |  Generation  |     Train Fitness     |       Test Fitness       |        Timing          |      Nodes       |\n",
      "-----------------------------------------------------------------------------------------------------------------------------------------\n",
      "|     sustavianfeed       |       0      |   15.266081809997559  |   11.74512767791748      |   0.040041208267211914 |      3           |\n",
      "|     sustavianfeed       |       1      |   15.266081809997559  |   11.74512767791748      |   0.07793569564819336  |      3           |\n",
      "|     sustavianfeed       |       2      |   15.266081809997559  |   11.74512767791748      |   0.038918495178222656 |      3           |\n",
      "|     sustavianfeed       |       3      |   9.407602310180664   |   7.217696666717529      |   0.07007241249084473  |      16          |\n",
      "|     sustavianfeed       |       4      |   9.407602310180664   |   7.217696666717529      |   0.04997396469116211  |      16          |\n",
      "|     sustavianfeed       |       5      |   9.407602310180664   |   7.217696666717529      |   0.06027364730834961  |      16          |\n",
      "|     sustavianfeed       |       6      |   9.407602310180664   |   7.217696666717529      |   0.047332763671875    |      16          |\n",
      "|     sustavianfeed       |       7      |   9.407602310180664   |   7.217696666717529      |   0.05901050567626953  |      16          |\n",
      "|     sustavianfeed       |       8      |   3.5760021209716797  |   2.637523651123047      |   0.0556483268737793   |      31          |\n",
      "|     sustavianfeed       |       9      |   3.5760021209716797  |   2.637523651123047      |   0.05853128433227539  |      31          |\n",
      "|     sustavianfeed       |       10     |   3.5760021209716797  |   2.637523651123047      |   0.06187701225280762  |      31          |\n",
      "|     sustavianfeed       |       11     |   3.5630428791046143  |   2.622040033340454      |   0.05456066131591797  |      44          |\n",
      "|     sustavianfeed       |       12     |   3.5630428791046143  |   2.622040033340454      |   0.05382394790649414  |      44          |\n",
      "|     sustavianfeed       |       13     |   2.4040799140930176  |   1.7331823110580444     |   0.05340766906738281  |      59          |\n",
      "|     sustavianfeed       |       14     |   2.4040799140930176  |   1.7331823110580444     |   0.05218982696533203  |      59          |\n",
      "|     sustavianfeed       |       15     |   2.024078845977783   |   0.48518359661102295    |   0.16585493087768555  |      74          |\n",
      "|     sustavianfeed       |       16     |   2.024078845977783   |   0.48518359661102295    |   0.05987238883972168  |      74          |\n",
      "|     sustavianfeed       |       17     |   2.024078845977783   |   0.48518359661102295    |   0.05199694633483887  |      74          |\n",
      "|     sustavianfeed       |       18     |   2.024078845977783   |   0.48518359661102295    |   0.0497281551361084   |      74          |\n",
      "|     sustavianfeed       |       19     |   2.016713857650757   |   0.6318803429603577     |   0.060840606689453125 |      57          |\n",
      "|     sustavianfeed       |       20     |   2.016713857650757   |   0.6318803429603577     |   0.05036568641662598  |      57          |\n",
      "Outer fold 5 - Best parameters: {'slim_version': 'SLIM*SIG1'}\n",
      "Outer fold 5 - Test score: -0.6319\n",
      "\n",
      " Outer fold 6\n",
      "\n",
      "Grid search completed!\n",
      "Best parameters: {'slim_version': 'SLIM*SIG1'}\n",
      "Best score: -3.0958038585198766\n",
      "Training with the best hyparameters of 6 fold\n",
      "Verbose Reporter\n",
      "-----------------------------------------------------------------------------------------------------------------------------------------\n",
      "|         Dataset         |  Generation  |     Train Fitness     |       Test Fitness       |        Timing          |      Nodes       |\n",
      "-----------------------------------------------------------------------------------------------------------------------------------------\n",
      "|     sustavianfeed       |       0      |   15.150605201721191  |   14.789637565612793     |   0.04575490951538086  |      3           |\n",
      "|     sustavianfeed       |       1      |   15.150605201721191  |   14.789637565612793     |   0.07451128959655762  |      3           |\n",
      "|     sustavianfeed       |       2      |   15.150605201721191  |   14.789637565612793     |   0.040674686431884766 |      3           |\n",
      "|     sustavianfeed       |       3      |   9.228119850158691   |   11.358922004699707     |   0.0746467113494873   |      16          |\n",
      "|     sustavianfeed       |       4      |   9.228119850158691   |   11.358922004699707     |   0.04893851280212402  |      16          |\n",
      "|     sustavianfeed       |       5      |   9.228119850158691   |   11.358922004699707     |   0.06322050094604492  |      16          |\n",
      "|     sustavianfeed       |       6      |   9.228119850158691   |   11.358922004699707     |   0.05179095268249512  |      16          |\n",
      "|     sustavianfeed       |       7      |   9.228119850158691   |   11.358922004699707     |   0.05254554748535156  |      16          |\n",
      "|     sustavianfeed       |       8      |   3.5736827850341797  |   2.708852767944336      |   0.0525965690612793   |      31          |\n",
      "|     sustavianfeed       |       9      |   3.5736827850341797  |   2.708852767944336      |   0.052616119384765625 |      31          |\n",
      "|     sustavianfeed       |       10     |   3.5736827850341797  |   2.708852767944336      |   0.05986309051513672  |      31          |\n",
      "|     sustavianfeed       |       11     |   3.560671806335449   |   2.6951000690460205     |   0.05597329139709473  |      44          |\n",
      "|     sustavianfeed       |       12     |   3.560671806335449   |   2.6951000690460205     |   0.06665349006652832  |      44          |\n",
      "|     sustavianfeed       |       13     |   2.384094476699829   |   2.2814207077026367     |   0.059461116790771484 |      59          |\n",
      "|     sustavianfeed       |       14     |   2.384094476699829   |   2.2814207077026367     |   0.06029033660888672  |      59          |\n",
      "|     sustavianfeed       |       15     |   2.006962537765503   |   1.349930763244629      |   0.06423687934875488  |      74          |\n",
      "|     sustavianfeed       |       16     |   2.006962537765503   |   1.349930763244629      |   0.05619335174560547  |      74          |\n",
      "|     sustavianfeed       |       17     |   1.9990066289901733  |   1.456295371055603      |   0.15990471839904785  |      59          |\n",
      "|     sustavianfeed       |       18     |   1.9990066289901733  |   1.456295371055603      |   0.05443978309631348  |      59          |\n",
      "|     sustavianfeed       |       19     |   1.9990066289901733  |   1.456295371055603      |   0.05987668037414551  |      59          |\n",
      "|     sustavianfeed       |       20     |   1.9990066289901733  |   1.456295371055603      |   0.04837298393249512  |      59          |\n",
      "Outer fold 6 - Best parameters: {'slim_version': 'SLIM*SIG1'}\n",
      "Outer fold 6 - Test score: -1.4563\n",
      "\n",
      " Outer fold 7\n",
      "\n",
      "Grid search completed!\n",
      "Best parameters: {'slim_version': 'SLIM*ABS'}\n",
      "Best score: -7.762470642878699\n",
      "Training with the best hyparameters of 7 fold\n",
      "Verbose Reporter\n",
      "-----------------------------------------------------------------------------------------------------------------------------------------\n",
      "|         Dataset         |  Generation  |     Train Fitness     |       Test Fitness       |        Timing          |      Nodes       |\n",
      "-----------------------------------------------------------------------------------------------------------------------------------------\n",
      "|     sustavianfeed       |       0      |   15.242121696472168  |   11.35369873046875      |   0.048334360122680664 |      3           |\n",
      "|     sustavianfeed       |       1      |   15.242121696472168  |   11.35369873046875      |   0.08371496200561523  |      3           |\n",
      "|     sustavianfeed       |       2      |   15.242121696472168  |   11.35369873046875      |   0.04254341125488281  |      3           |\n",
      "|     sustavianfeed       |       3      |   9.413593292236328   |   6.677247524261475      |   0.07364106178283691  |      18          |\n",
      "|     sustavianfeed       |       4      |   9.413593292236328   |   6.677247524261475      |   0.04586219787597656  |      18          |\n",
      "|     sustavianfeed       |       5      |   9.413593292236328   |   6.677247524261475      |   0.06623363494873047  |      18          |\n",
      "|     sustavianfeed       |       6      |   9.413593292236328   |   6.677247524261475      |   0.05523347854614258  |      18          |\n",
      "|     sustavianfeed       |       7      |   9.413593292236328   |   6.677247524261475      |   0.06731271743774414  |      18          |\n",
      "|     sustavianfeed       |       8      |   9.413593292236328   |   6.677247524261475      |   0.05599784851074219  |      18          |\n",
      "|     sustavianfeed       |       9      |   9.413593292236328   |   6.677247524261475      |   0.06356072425842285  |      18          |\n",
      "|     sustavianfeed       |       10     |   9.413593292236328   |   6.677247524261475      |   0.05381965637207031  |      18          |\n",
      "|     sustavianfeed       |       11     |   9.413593292236328   |   6.677247524261475      |   0.06874465942382812  |      18          |\n",
      "|     sustavianfeed       |       12     |   9.413593292236328   |   6.677247524261475      |   0.052318572998046875 |      18          |\n",
      "|     sustavianfeed       |       13     |   9.413593292236328   |   6.677247524261475      |   0.0723414421081543   |      18          |\n",
      "|     sustavianfeed       |       14     |   9.413593292236328   |   6.677247524261475      |   0.06303620338439941  |      18          |\n",
      "|     sustavianfeed       |       15     |   9.413593292236328   |   6.677247524261475      |   0.05944371223449707  |      18          |\n",
      "|     sustavianfeed       |       16     |   9.413593292236328   |   6.677247524261475      |   0.06757068634033203  |      18          |\n",
      "|     sustavianfeed       |       17     |   9.413593292236328   |   6.677247524261475      |   0.04907488822937012  |      18          |\n",
      "|     sustavianfeed       |       18     |   9.246576309204102   |   5.8096089363098145     |   0.04693293571472168  |      33          |\n",
      "|     sustavianfeed       |       19     |   9.246576309204102   |   5.8096089363098145     |   0.05566740036010742  |      33          |\n",
      "|     sustavianfeed       |       20     |   9.246576309204102   |   5.8096089363098145     |   0.05400419235229492  |      33          |\n",
      "Outer fold 7 - Best parameters: {'slim_version': 'SLIM*ABS'}\n",
      "Outer fold 7 - Test score: -5.8096\n",
      "\n",
      " Outer fold 8\n",
      "\n",
      "Grid search completed!\n",
      "Best parameters: {'slim_version': 'SLIM*SIG1'}\n",
      "Best score: -3.2893776095118903\n",
      "Training with the best hyparameters of 8 fold\n",
      "Verbose Reporter\n",
      "-----------------------------------------------------------------------------------------------------------------------------------------\n",
      "|         Dataset         |  Generation  |     Train Fitness     |       Test Fitness       |        Timing          |      Nodes       |\n",
      "-----------------------------------------------------------------------------------------------------------------------------------------\n",
      "|     sustavianfeed       |       0      |   15.305155754089355  |   8.319555282592773      |   0.038619279861450195 |      3           |\n",
      "|     sustavianfeed       |       1      |   15.305155754089355  |   8.319555282592773      |   0.07030797004699707  |      3           |\n",
      "|     sustavianfeed       |       2      |   15.305155754089355  |   8.319555282592773      |   0.041036128997802734 |      3           |\n",
      "|     sustavianfeed       |       3      |   9.401144981384277   |   6.612452507019043      |   0.07185864448547363  |      16          |\n",
      "|     sustavianfeed       |       4      |   9.401144981384277   |   6.612452507019043      |   0.052573442459106445 |      16          |\n",
      "|     sustavianfeed       |       5      |   9.401144981384277   |   6.612452507019043      |   0.05104708671569824  |      16          |\n",
      "|     sustavianfeed       |       6      |   9.401144981384277   |   6.612452507019043      |   0.05334138870239258  |      16          |\n",
      "|     sustavianfeed       |       7      |   9.401144981384277   |   6.612452507019043      |   0.05073809623718262  |      16          |\n",
      "|     sustavianfeed       |       8      |   3.5747556686401367  |   2.2997899055480957     |   0.04655313491821289  |      31          |\n",
      "|     sustavianfeed       |       9      |   3.5747556686401367  |   2.2997899055480957     |   0.04332733154296875  |      31          |\n",
      "|     sustavianfeed       |       10     |   3.5747556686401367  |   2.2997899055480957     |   0.06824088096618652  |      31          |\n",
      "|     sustavianfeed       |       11     |   3.561755418777466   |   2.284602642059326      |   0.06596517562866211  |      44          |\n",
      "|     sustavianfeed       |       12     |   3.561755418777466   |   2.284602642059326      |   0.060080766677856445 |      44          |\n",
      "|     sustavianfeed       |       13     |   2.3874855041503906  |   2.1315736770629883     |   0.05233263969421387  |      59          |\n",
      "|     sustavianfeed       |       14     |   2.3874855041503906  |   2.1315736770629883     |   0.05505514144897461  |      59          |\n",
      "|     sustavianfeed       |       15     |   2.3874855041503906  |   2.1315736770629883     |   0.05683088302612305  |      59          |\n",
      "|     sustavianfeed       |       16     |   2.3874855041503906  |   2.1315736770629883     |   0.054931640625       |      59          |\n",
      "|     sustavianfeed       |       17     |   2.3874855041503906  |   2.1315736770629883     |   0.0546112060546875   |      59          |\n",
      "|     sustavianfeed       |       18     |   2.3874855041503906  |   2.1315736770629883     |   0.055106163024902344 |      59          |\n",
      "|     sustavianfeed       |       19     |   2.3874855041503906  |   2.1315736770629883     |   0.05162692070007324  |      59          |\n",
      "|     sustavianfeed       |       20     |   2.3874855041503906  |   2.1315736770629883     |   0.049046993255615234 |      59          |\n",
      "Outer fold 8 - Best parameters: {'slim_version': 'SLIM*SIG1'}\n",
      "Outer fold 8 - Test score: -2.1316\n",
      "\n",
      " Outer fold 9\n",
      "\n",
      "Grid search completed!\n",
      "Best parameters: {'slim_version': 'SLIM*SIG1'}\n",
      "Best score: -3.538057373038027\n",
      "Training with the best hyparameters of 9 fold\n",
      "Verbose Reporter\n",
      "-----------------------------------------------------------------------------------------------------------------------------------------\n",
      "|         Dataset         |  Generation  |     Train Fitness     |       Test Fitness       |        Timing          |      Nodes       |\n",
      "-----------------------------------------------------------------------------------------------------------------------------------------\n",
      "|     sustavianfeed       |       0      |   15.22219181060791   |   12.154349327087402     |   0.03452563285827637  |      3           |\n",
      "|     sustavianfeed       |       1      |   15.22219181060791   |   12.154349327087402     |   0.07043600082397461  |      3           |\n",
      "|     sustavianfeed       |       2      |   15.22219181060791   |   12.154349327087402     |   0.03888702392578125  |      3           |\n",
      "|     sustavianfeed       |       3      |   9.407745361328125   |   6.314725875854492      |   0.06340503692626953  |      16          |\n",
      "|     sustavianfeed       |       4      |   9.407745361328125   |   6.314725875854492      |   0.04010748863220215  |      16          |\n",
      "|     sustavianfeed       |       5      |   9.407745361328125   |   6.314725875854492      |   0.057863712310791016 |      16          |\n",
      "|     sustavianfeed       |       6      |   9.407745361328125   |   6.314725875854492      |   0.048007965087890625 |      16          |\n",
      "|     sustavianfeed       |       7      |   9.407745361328125   |   6.314725875854492      |   0.049048423767089844 |      16          |\n",
      "|     sustavianfeed       |       8      |   3.551119565963745   |   3.24196457862854       |   0.05118751525878906  |      31          |\n",
      "|     sustavianfeed       |       9      |   3.551119565963745   |   3.24196457862854       |   0.04948019981384277  |      31          |\n",
      "|     sustavianfeed       |       10     |   3.551119565963745   |   3.24196457862854       |   0.05215954780578613  |      31          |\n",
      "|     sustavianfeed       |       11     |   3.5381669998168945  |   3.226630926132202      |   0.04703831672668457  |      44          |\n",
      "|     sustavianfeed       |       12     |   3.5381669998168945  |   3.226630926132202      |   0.054582834243774414 |      44          |\n",
      "|     sustavianfeed       |       13     |   2.4065968990325928  |   1.3051115274429321     |   0.047036170959472656 |      59          |\n",
      "|     sustavianfeed       |       14     |   2.4065968990325928  |   1.3051115274429321     |   0.04878115653991699  |      59          |\n",
      "|     sustavianfeed       |       15     |   2.0104618072509766  |   0.8070449233055115     |   0.054615020751953125 |      74          |\n",
      "|     sustavianfeed       |       16     |   2.0104618072509766  |   0.8070449233055115     |   0.05194830894470215  |      74          |\n",
      "|     sustavianfeed       |       17     |   2.006991147994995   |   0.71004718542099       |   0.051045894622802734 |      59          |\n",
      "|     sustavianfeed       |       18     |   2.006991147994995   |   0.71004718542099       |   0.04739737510681152  |      59          |\n",
      "|     sustavianfeed       |       19     |   2.006991147994995   |   0.71004718542099       |   0.15208172798156738  |      59          |\n",
      "|     sustavianfeed       |       20     |   2.006991147994995   |   0.71004718542099       |   0.040435791015625    |      59          |\n",
      "Outer fold 9 - Best parameters: {'slim_version': 'SLIM*SIG1'}\n",
      "Outer fold 9 - Test score: -0.7100\n",
      "\n",
      " Outer fold 10\n",
      "\n",
      "Grid search completed!\n",
      "Best parameters: {'slim_version': 'SLIM*SIG1'}\n",
      "Best score: -5.7962210751232845\n",
      "Training with the best hyparameters of 10 fold\n",
      "Verbose Reporter\n",
      "-----------------------------------------------------------------------------------------------------------------------------------------\n",
      "|         Dataset         |  Generation  |     Train Fitness     |       Test Fitness       |        Timing          |      Nodes       |\n",
      "-----------------------------------------------------------------------------------------------------------------------------------------\n",
      "|     sustavianfeed       |       0      |   15.342564582824707  |   5.802988052368164      |   0.04123854637145996  |      3           |\n",
      "|     sustavianfeed       |       1      |   15.342564582824707  |   5.802988052368164      |   0.0691518783569336   |      3           |\n",
      "|     sustavianfeed       |       2      |   15.342564582824707  |   5.802988052368164      |   0.035590410232543945 |      3           |\n",
      "|     sustavianfeed       |       3      |   9.432184219360352   |   5.059924125671387      |   0.07309818267822266  |      16          |\n",
      "|     sustavianfeed       |       4      |   9.432184219360352   |   5.059924125671387      |   0.038111209869384766 |      16          |\n",
      "|     sustavianfeed       |       5      |   9.432184219360352   |   5.059924125671387      |   0.0501248836517334   |      16          |\n",
      "|     sustavianfeed       |       6      |   9.432184219360352   |   5.059924125671387      |   0.047084808349609375 |      16          |\n",
      "|     sustavianfeed       |       7      |   9.432184219360352   |   5.059924125671387      |   0.05004239082336426  |      16          |\n",
      "|     sustavianfeed       |       8      |   3.5463409423828125  |   3.4002492427825928     |   0.0506439208984375   |      31          |\n",
      "|     sustavianfeed       |       9      |   3.5463409423828125  |   3.4002492427825928     |   0.0486607551574707   |      31          |\n",
      "|     sustavianfeed       |       10     |   3.5463409423828125  |   3.4002492427825928     |   0.05682849884033203  |      31          |\n",
      "|     sustavianfeed       |       11     |   3.5463409423828125  |   3.4002492427825928     |   0.05060434341430664  |      31          |\n",
      "|     sustavianfeed       |       12     |   3.5463409423828125  |   3.4002492427825928     |   0.053637027740478516 |      31          |\n",
      "|     sustavianfeed       |       13     |   2.0512776374816895  |   1.094130039215088      |   0.0481719970703125   |      44          |\n",
      "|     sustavianfeed       |       14     |   2.0512776374816895  |   1.094130039215088      |   0.04923868179321289  |      44          |\n",
      "|     sustavianfeed       |       15     |   2.0512776374816895  |   1.094130039215088      |   0.04889559745788574  |      44          |\n",
      "|     sustavianfeed       |       16     |   2.025681734085083   |   0.9913207292556763     |   0.13772106170654297  |      59          |\n",
      "|     sustavianfeed       |       17     |   2.025515556335449   |   0.9904269576072693     |   0.05071663856506348  |      72          |\n",
      "|     sustavianfeed       |       18     |   2.025515556335449   |   0.9904269576072693     |   0.05172228813171387  |      72          |\n",
      "|     sustavianfeed       |       19     |   2.025515556335449   |   0.9904269576072693     |   0.048655033111572266 |      72          |\n",
      "|     sustavianfeed       |       20     |   2.025515556335449   |   0.9904269576072693     |   0.04754948616027832  |      72          |\n",
      "Outer fold 10 - Best parameters: {'slim_version': 'SLIM*SIG1'}\n",
      "Outer fold 10 - Test score: -0.9904\n",
      "\n",
      " Outer fold 11\n",
      "\n",
      "Grid search completed!\n",
      "Best parameters: {'slim_version': 'SLIM*SIG1'}\n",
      "Best score: -4.46965358721648\n",
      "Training with the best hyparameters of 11 fold\n",
      "Verbose Reporter\n",
      "-----------------------------------------------------------------------------------------------------------------------------------------\n",
      "|         Dataset         |  Generation  |     Train Fitness     |       Test Fitness       |        Timing          |      Nodes       |\n",
      "-----------------------------------------------------------------------------------------------------------------------------------------\n",
      "|     sustavianfeed       |       0      |   15.336301803588867  |   6.29520845413208       |   0.03874945640563965  |      3           |\n",
      "|     sustavianfeed       |       1      |   15.336301803588867  |   6.29520845413208       |   0.07885146141052246  |      3           |\n",
      "|     sustavianfeed       |       2      |   15.336301803588867  |   6.29520845413208       |   0.04229116439819336  |      3           |\n",
      "|     sustavianfeed       |       3      |   9.464862823486328   |   2.5414609909057617     |   0.06783866882324219  |      16          |\n",
      "|     sustavianfeed       |       4      |   9.464862823486328   |   2.5414609909057617     |   0.047359466552734375 |      16          |\n",
      "|     sustavianfeed       |       5      |   9.464862823486328   |   2.5414609909057617     |   0.06160712242126465  |      16          |\n",
      "|     sustavianfeed       |       6      |   9.464862823486328   |   2.5414609909057617     |   0.05227327346801758  |      16          |\n",
      "|     sustavianfeed       |       7      |   9.464862823486328   |   2.5414609909057617     |   0.05299091339111328  |      16          |\n",
      "|     sustavianfeed       |       8      |   3.5775554180145264  |   2.1606287956237793     |   0.05550980567932129  |      31          |\n",
      "|     sustavianfeed       |       9      |   3.5775554180145264  |   2.1606287956237793     |   0.04768872261047363  |      31          |\n",
      "|     sustavianfeed       |       10     |   3.5775554180145264  |   2.1606287956237793     |   0.05887007713317871  |      31          |\n",
      "|     sustavianfeed       |       11     |   3.5645220279693604  |   2.1466751098632812     |   0.053183794021606445 |      44          |\n",
      "|     sustavianfeed       |       12     |   3.5645220279693604  |   2.1466751098632812     |   0.05701327323913574  |      44          |\n",
      "|     sustavianfeed       |       13     |   3.5645220279693604  |   2.1466751098632812     |   0.05070185661315918  |      44          |\n",
      "|     sustavianfeed       |       14     |   3.5645220279693604  |   2.1466751098632812     |   0.05057930946350098  |      44          |\n",
      "|     sustavianfeed       |       15     |   2.4030187129974365  |   1.0319464206695557     |   0.051964759826660156 |      59          |\n",
      "|     sustavianfeed       |       16     |   2.4030187129974365  |   1.0319464206695557     |   0.0640106201171875   |      59          |\n",
      "|     sustavianfeed       |       17     |   2.4030187129974365  |   1.0319464206695557     |   0.05973005294799805  |      59          |\n",
      "|     sustavianfeed       |       18     |   1.99415922164917    |   1.5255705118179321     |   0.0649869441986084   |      85          |\n",
      "|     sustavianfeed       |       19     |   1.9913215637207031  |   1.4559811353683472     |   0.056786298751831055 |      85          |\n",
      "|     sustavianfeed       |       20     |   1.9912714958190918  |   1.4440958499908447     |   0.15261054039001465  |      72          |\n",
      "Outer fold 11 - Best parameters: {'slim_version': 'SLIM*SIG1'}\n",
      "Outer fold 11 - Test score: -1.4441\n",
      "\n",
      " Outer fold 12\n",
      "\n",
      "Grid search completed!\n",
      "Best parameters: {'slim_version': 'SLIM*SIG1'}\n",
      "Best score: -4.752261610412222\n",
      "Training with the best hyparameters of 12 fold\n",
      "Verbose Reporter\n",
      "-----------------------------------------------------------------------------------------------------------------------------------------\n",
      "|         Dataset         |  Generation  |     Train Fitness     |       Test Fitness       |        Timing          |      Nodes       |\n",
      "-----------------------------------------------------------------------------------------------------------------------------------------\n",
      "|     sustavianfeed       |       0      |   15.19395637512207   |   13.20423698425293      |   0.039106130599975586 |      3           |\n",
      "|     sustavianfeed       |       1      |   15.19395637512207   |   13.20423698425293      |   0.07309746742248535  |      3           |\n",
      "|     sustavianfeed       |       2      |   15.19395637512207   |   13.20423698425293      |   0.03834176063537598  |      3           |\n",
      "|     sustavianfeed       |       3      |   9.386406898498535   |   7.232414722442627      |   0.06817889213562012  |      16          |\n",
      "|     sustavianfeed       |       4      |   9.386406898498535   |   7.232414722442627      |   0.04466104507446289  |      16          |\n",
      "|     sustavianfeed       |       5      |   9.386406898498535   |   7.232414722442627      |   0.05477094650268555  |      16          |\n",
      "|     sustavianfeed       |       6      |   9.386406898498535   |   7.232414722442627      |   0.047150611877441406 |      16          |\n",
      "|     sustavianfeed       |       7      |   9.386406898498535   |   7.232414722442627      |   0.05279278755187988  |      16          |\n",
      "|     sustavianfeed       |       8      |   3.522596836090088   |   4.0945000648498535     |   0.054439544677734375 |      31          |\n",
      "|     sustavianfeed       |       9      |   3.522596836090088   |   4.0945000648498535     |   0.05007815361022949  |      31          |\n",
      "|     sustavianfeed       |       10     |   3.522596836090088   |   4.0945000648498535     |   0.0605320930480957   |      31          |\n",
      "|     sustavianfeed       |       11     |   3.5096731185913086  |   4.078791618347168      |   0.05673646926879883  |      44          |\n",
      "|     sustavianfeed       |       12     |   3.5096731185913086  |   4.078791618347168      |   0.05425524711608887  |      44          |\n",
      "|     sustavianfeed       |       13     |   2.417506217956543   |   0.2680933475494385     |   0.052886009216308594 |      59          |\n",
      "|     sustavianfeed       |       14     |   2.417506217956543   |   0.2680933475494385     |   0.053876638412475586 |      59          |\n",
      "|     sustavianfeed       |       15     |   2.417506217956543   |   0.2680933475494385     |   0.05610179901123047  |      59          |\n",
      "|     sustavianfeed       |       16     |   2.417506217956543   |   0.2680933475494385     |   0.05244588851928711  |      59          |\n",
      "|     sustavianfeed       |       17     |   2.067011594772339   |   1.729703426361084      |   0.05055069923400879  |      48          |\n",
      "|     sustavianfeed       |       18     |   2.067011594772339   |   1.729703426361084      |   0.04678463935852051  |      48          |\n",
      "|     sustavianfeed       |       19     |   2.0182087421417236  |   1.4906885623931885     |   0.04856133460998535  |      57          |\n",
      "|     sustavianfeed       |       20     |   2.0182087421417236  |   1.4906885623931885     |   0.13329219818115234  |      57          |\n",
      "Outer fold 12 - Best parameters: {'slim_version': 'SLIM*SIG1'}\n",
      "Outer fold 12 - Test score: -1.4907\n",
      "\n",
      " Outer fold 13\n",
      "\n",
      "Grid search completed!\n",
      "Best parameters: {'slim_version': 'SLIM*SIG1'}\n",
      "Best score: -4.406390987854949\n",
      "Training with the best hyparameters of 13 fold\n",
      "Verbose Reporter\n",
      "-----------------------------------------------------------------------------------------------------------------------------------------\n",
      "|         Dataset         |  Generation  |     Train Fitness     |       Test Fitness       |        Timing          |      Nodes       |\n",
      "-----------------------------------------------------------------------------------------------------------------------------------------\n",
      "|     sustavianfeed       |       0      |   15.321839332580566  |   7.305832862854004      |   0.033716678619384766 |      3           |\n",
      "|     sustavianfeed       |       1      |   15.321839332580566  |   7.305832862854004      |   0.07636165618896484  |      3           |\n",
      "|     sustavianfeed       |       2      |   15.321839332580566  |   7.305832862854004      |   0.04214024543762207  |      3           |\n",
      "|     sustavianfeed       |       3      |   9.394620895385742   |   6.893887519836426      |   0.060059547424316406 |      16          |\n",
      "|     sustavianfeed       |       4      |   9.394620895385742   |   6.893887519836426      |   0.03903007507324219  |      16          |\n",
      "|     sustavianfeed       |       5      |   9.394620895385742   |   6.893887519836426      |   0.05557584762573242  |      16          |\n",
      "|     sustavianfeed       |       6      |   9.394620895385742   |   6.893887519836426      |   0.05255889892578125  |      16          |\n",
      "|     sustavianfeed       |       7      |   9.394620895385742   |   6.893887519836426      |   0.04903674125671387  |      16          |\n",
      "|     sustavianfeed       |       8      |   3.544318675994873   |   3.464998722076416      |   0.04907846450805664  |      31          |\n",
      "|     sustavianfeed       |       9      |   3.544318675994873   |   3.464998722076416      |   0.051384687423706055 |      31          |\n",
      "|     sustavianfeed       |       10     |   3.544318675994873   |   3.464998722076416      |   0.054398298263549805 |      31          |\n",
      "|     sustavianfeed       |       11     |   3.5313093662261963  |   3.4516708850860596     |   0.0515439510345459   |      44          |\n",
      "|     sustavianfeed       |       12     |   3.5313093662261963  |   3.4516708850860596     |   0.050226449966430664 |      44          |\n",
      "|     sustavianfeed       |       13     |   3.5313093662261963  |   3.4516708850860596     |   0.04683065414428711  |      44          |\n",
      "|     sustavianfeed       |       14     |   3.5313093662261963  |   3.4516708850860596     |   0.05734872817993164  |      44          |\n",
      "|     sustavianfeed       |       15     |   2.3758747577667236  |   2.255255937576294      |   0.06300902366638184  |      59          |\n",
      "|     sustavianfeed       |       16     |   2.3758747577667236  |   2.255255937576294      |   0.04780268669128418  |      59          |\n",
      "|     sustavianfeed       |       17     |   2.3758747577667236  |   2.255255937576294      |   0.04754209518432617  |      59          |\n",
      "|     sustavianfeed       |       18     |   1.9854563474655151  |   1.8441811800003052     |   0.050742149353027344 |      85          |\n",
      "|     sustavianfeed       |       19     |   1.981073021888733   |   1.839003324508667      |   0.13734197616577148  |      85          |\n",
      "|     sustavianfeed       |       20     |   1.9807548522949219  |   1.838582158088684      |   0.05256009101867676  |      72          |\n",
      "Outer fold 13 - Best parameters: {'slim_version': 'SLIM*SIG1'}\n",
      "Outer fold 13 - Test score: -1.8386\n",
      "\n",
      " Outer fold 14\n",
      "\n",
      "Grid search completed!\n",
      "Best parameters: {'slim_version': 'SLIM*SIG1'}\n",
      "Best score: -4.500977325350316\n",
      "Training with the best hyparameters of 14 fold\n",
      "Verbose Reporter\n",
      "-----------------------------------------------------------------------------------------------------------------------------------------\n",
      "|         Dataset         |  Generation  |     Train Fitness     |       Test Fitness       |        Timing          |      Nodes       |\n",
      "-----------------------------------------------------------------------------------------------------------------------------------------\n",
      "|     sustavianfeed       |       0      |   15.260055541992188  |   10.58060073852539      |   0.04404020309448242  |      3           |\n",
      "|     sustavianfeed       |       1      |   15.260055541992188  |   10.58060073852539      |   0.07063007354736328  |      3           |\n",
      "|     sustavianfeed       |       2      |   15.260055541992188  |   10.58060073852539      |   0.03554272651672363  |      3           |\n",
      "|     sustavianfeed       |       3      |   9.37533187866211    |   7.664801597595215      |   0.061574459075927734 |      16          |\n",
      "|     sustavianfeed       |       4      |   9.37533187866211    |   7.664801597595215      |   0.04223060607910156  |      16          |\n",
      "|     sustavianfeed       |       5      |   9.37533187866211    |   7.664801597595215      |   0.06462860107421875  |      16          |\n",
      "|     sustavianfeed       |       6      |   9.37533187866211    |   7.664801597595215      |   0.04787898063659668  |      16          |\n",
      "|     sustavianfeed       |       7      |   9.37533187866211    |   7.664801597595215      |   0.05511331558227539  |      16          |\n",
      "|     sustavianfeed       |       8      |   3.5587406158447266  |   2.971622943878174      |   0.04799628257751465  |      31          |\n",
      "|     sustavianfeed       |       9      |   3.5587406158447266  |   2.971622943878174      |   0.0480189323425293   |      31          |\n",
      "|     sustavianfeed       |       10     |   3.5587406158447266  |   2.971622943878174      |   0.05822348594665527  |      31          |\n",
      "|     sustavianfeed       |       11     |   3.5457730293273926  |   2.956491231918335      |   0.05138278007507324  |      44          |\n",
      "|     sustavianfeed       |       12     |   3.5457730293273926  |   2.956491231918335      |   0.06049704551696777  |      44          |\n",
      "|     sustavianfeed       |       13     |   2.3998403549194336  |   1.6462184190750122     |   0.055943965911865234 |      59          |\n",
      "|     sustavianfeed       |       14     |   2.3998403549194336  |   1.6462184190750122     |   0.059403181076049805 |      59          |\n",
      "|     sustavianfeed       |       15     |   2.3998403549194336  |   1.6462184190750122     |   0.15423989295959473  |      59          |\n",
      "|     sustavianfeed       |       16     |   2.3998403549194336  |   1.6462184190750122     |   0.05504488945007324  |      59          |\n",
      "|     sustavianfeed       |       17     |   2.3998403549194336  |   1.6462184190750122     |   0.0526890754699707   |      59          |\n",
      "|     sustavianfeed       |       18     |   2.390789747238159   |   1.6319200992584229     |   0.051910400390625    |      46          |\n",
      "|     sustavianfeed       |       19     |   2.390789747238159   |   1.6319200992584229     |   0.04984116554260254  |      46          |\n",
      "|     sustavianfeed       |       20     |   2.390789747238159   |   1.6319200992584229     |   0.051976919174194336 |      46          |\n",
      "Outer fold 14 - Best parameters: {'slim_version': 'SLIM*SIG1'}\n",
      "Outer fold 14 - Test score: -1.6319\n",
      "\n",
      " Outer fold 15\n",
      "\n",
      "Grid search completed!\n",
      "Best parameters: {'slim_version': 'SLIM*SIG1'}\n",
      "Best score: -4.565120553609975\n",
      "Training with the best hyparameters of 15 fold\n",
      "Verbose Reporter\n",
      "-----------------------------------------------------------------------------------------------------------------------------------------\n",
      "|         Dataset         |  Generation  |     Train Fitness     |       Test Fitness       |        Timing          |      Nodes       |\n",
      "-----------------------------------------------------------------------------------------------------------------------------------------\n",
      "|     sustavianfeed       |       0      |   15.223469734191895  |   12.104643821716309     |   0.04704546928405762  |      3           |\n",
      "|     sustavianfeed       |       1      |   15.223469734191895  |   12.104643821716309     |   0.09117889404296875  |      3           |\n",
      "|     sustavianfeed       |       2      |   15.223469734191895  |   12.104643821716309     |   0.04365205764770508  |      3           |\n",
      "|     sustavianfeed       |       3      |   9.401204109191895   |   6.609801769256592      |   0.07289004325866699  |      16          |\n",
      "|     sustavianfeed       |       4      |   9.401204109191895   |   6.609801769256592      |   0.04723787307739258  |      16          |\n",
      "|     sustavianfeed       |       5      |   9.401204109191895   |   6.609801769256592      |   0.06709885597229004  |      16          |\n",
      "|     sustavianfeed       |       6      |   9.401204109191895   |   6.609801769256592      |   0.05704665184020996  |      16          |\n",
      "|     sustavianfeed       |       7      |   9.401204109191895   |   6.609801769256592      |   0.058510541915893555 |      16          |\n",
      "|     sustavianfeed       |       8      |   3.5677504539489746  |   2.615356206893921      |   0.08245134353637695  |      31          |\n",
      "|     sustavianfeed       |       9      |   3.5677504539489746  |   2.615356206893921      |   0.06062746047973633  |      31          |\n",
      "|     sustavianfeed       |       10     |   3.5677504539489746  |   2.615356206893921      |   0.06567859649658203  |      31          |\n",
      "|     sustavianfeed       |       11     |   3.5547425746917725  |   2.601247549057007      |   0.06125020980834961  |      44          |\n",
      "|     sustavianfeed       |       12     |   3.5547425746917725  |   2.601247549057007      |   0.06411910057067871  |      44          |\n",
      "|     sustavianfeed       |       13     |   3.5547425746917725  |   2.601247549057007      |   0.058873891830444336 |      44          |\n",
      "|     sustavianfeed       |       14     |   3.5547425746917725  |   2.601247549057007      |   0.07078957557678223  |      44          |\n",
      "|     sustavianfeed       |       15     |   2.397873640060425   |   1.353022575378418      |   0.0542454719543457   |      59          |\n",
      "|     sustavianfeed       |       16     |   2.397873640060425   |   1.353022575378418      |   0.06154632568359375  |      59          |\n",
      "|     sustavianfeed       |       17     |   2.397873640060425   |   1.353022575378418      |   0.061072587966918945 |      59          |\n",
      "|     sustavianfeed       |       18     |   1.9982205629348755  |   1.3508198261260986     |   0.08529090881347656  |      85          |\n",
      "|     sustavianfeed       |       19     |   1.9982205629348755  |   1.3508198261260986     |   0.06948971748352051  |      85          |\n",
      "|     sustavianfeed       |       20     |   1.9982205629348755  |   1.3508198261260986     |   0.06496024131774902  |      85          |\n",
      "Outer fold 15 - Best parameters: {'slim_version': 'SLIM*SIG1'}\n",
      "Outer fold 15 - Test score: -1.3508\n",
      "\n",
      " Outer fold 16\n",
      "\n",
      "Grid search completed!\n",
      "Best parameters: {'slim_version': 'SLIM*SIG1'}\n",
      "Best score: -6.786210377584806\n",
      "Training with the best hyparameters of 16 fold\n",
      "Verbose Reporter\n",
      "-----------------------------------------------------------------------------------------------------------------------------------------\n",
      "|         Dataset         |  Generation  |     Train Fitness     |       Test Fitness       |        Timing          |      Nodes       |\n",
      "-----------------------------------------------------------------------------------------------------------------------------------------\n",
      "|     sustavianfeed       |       0      |   15.330992698669434  |   6.684109687805176      |   0.06407833099365234  |      3           |\n",
      "|     sustavianfeed       |       1      |   15.330992698669434  |   6.684109687805176      |   0.09936833381652832  |      3           |\n",
      "|     sustavianfeed       |       2      |   15.330992698669434  |   6.684109687805176      |   0.0629720687866211   |      3           |\n",
      "|     sustavianfeed       |       3      |   9.287212371826172   |   10.475201606750488     |   0.08988380432128906  |      16          |\n",
      "|     sustavianfeed       |       4      |   9.287212371826172   |   10.475201606750488     |   0.05317997932434082  |      16          |\n",
      "|     sustavianfeed       |       5      |   9.287212371826172   |   10.475201606750488     |   0.07573056221008301  |      16          |\n",
      "|     sustavianfeed       |       6      |   9.287212371826172   |   10.475201606750488     |   0.06447696685791016  |      16          |\n",
      "|     sustavianfeed       |       7      |   9.287212371826172   |   10.475201606750488     |   0.08559870719909668  |      16          |\n",
      "|     sustavianfeed       |       8      |   3.418599843978882   |   6.256417274475098      |   0.11871123313903809  |      31          |\n",
      "|     sustavianfeed       |       9      |   3.418599843978882   |   6.256417274475098      |   0.09116268157958984  |      31          |\n",
      "|     sustavianfeed       |       10     |   3.418599843978882   |   6.256417274475098      |   0.09480690956115723  |      31          |\n",
      "|     sustavianfeed       |       11     |   3.418599843978882   |   6.256417274475098      |   0.09091567993164062  |      31          |\n",
      "|     sustavianfeed       |       12     |   2.100656032562256   |   8.766393661499023      |   0.09320330619812012  |      35          |\n",
      "|     sustavianfeed       |       13     |   1.7711217403411865  |   6.939064979553223      |   0.08299612998962402  |      44          |\n",
      "|     sustavianfeed       |       14     |   1.7669094800949097  |   6.943769454956055      |   0.09385967254638672  |      57          |\n",
      "|     sustavianfeed       |       15     |   1.587807536125183   |   7.147356986999512      |   0.08345746994018555  |      57          |\n",
      "|     sustavianfeed       |       16     |   1.587807536125183   |   7.147356986999512      |   0.08182096481323242  |      57          |\n",
      "|     sustavianfeed       |       17     |   1.587807536125183   |   7.147356986999512      |   0.06925845146179199  |      57          |\n",
      "|     sustavianfeed       |       18     |   1.587807536125183   |   7.147356986999512      |   0.07405972480773926  |      57          |\n",
      "|     sustavianfeed       |       19     |   1.587807536125183   |   7.147356986999512      |   0.1862201690673828   |      57          |\n",
      "|     sustavianfeed       |       20     |   1.587807536125183   |   7.147356986999512      |   0.08127689361572266  |      57          |\n",
      "Outer fold 16 - Best parameters: {'slim_version': 'SLIM*SIG1'}\n",
      "Outer fold 16 - Test score: -7.1474\n",
      "\n",
      " Outer fold 17\n",
      "\n",
      "Grid search completed!\n",
      "Best parameters: {'slim_version': 'SLIM*SIG1'}\n",
      "Best score: -4.466304108984014\n",
      "Training with the best hyparameters of 17 fold\n",
      "Verbose Reporter\n",
      "-----------------------------------------------------------------------------------------------------------------------------------------\n",
      "|         Dataset         |  Generation  |     Train Fitness     |       Test Fitness       |        Timing          |      Nodes       |\n",
      "-----------------------------------------------------------------------------------------------------------------------------------------\n",
      "|     sustavianfeed       |       0      |   15.183865547180176  |   13.559244155883789     |   0.053127288818359375 |      3           |\n",
      "|     sustavianfeed       |       1      |   15.183865547180176  |   13.559244155883789     |   0.09421324729919434  |      3           |\n",
      "|     sustavianfeed       |       2      |   15.183865547180176  |   13.559244155883789     |   0.05272102355957031  |      3           |\n",
      "|     sustavianfeed       |       3      |   9.338081359863281   |   8.96430492401123       |   0.0948324203491211   |      16          |\n",
      "|     sustavianfeed       |       4      |   9.338081359863281   |   8.96430492401123       |   0.06584429740905762  |      16          |\n",
      "|     sustavianfeed       |       5      |   9.338081359863281   |   8.96430492401123       |   0.09354615211486816  |      16          |\n",
      "|     sustavianfeed       |       6      |   9.338081359863281   |   8.96430492401123       |   0.07465100288391113  |      16          |\n",
      "|     sustavianfeed       |       7      |   9.338081359863281   |   8.96430492401123       |   0.07597541809082031  |      16          |\n",
      "|     sustavianfeed       |       8      |   3.5650291442871094  |   2.727982997894287      |   0.07865691184997559  |      31          |\n",
      "|     sustavianfeed       |       9      |   3.5650291442871094  |   2.727982997894287      |   0.07167625427246094  |      31          |\n",
      "|     sustavianfeed       |       10     |   3.5650291442871094  |   2.727982997894287      |   0.0883491039276123   |      31          |\n",
      "|     sustavianfeed       |       11     |   3.552032232284546   |   2.713599443435669      |   0.08384180068969727  |      44          |\n",
      "|     sustavianfeed       |       12     |   3.552032232284546   |   2.713599443435669      |   0.08987593650817871  |      44          |\n",
      "|     sustavianfeed       |       13     |   3.552032232284546   |   2.713599443435669      |   0.06661558151245117  |      44          |\n",
      "|     sustavianfeed       |       14     |   3.552032232284546   |   2.713599443435669      |   0.0833125114440918   |      44          |\n",
      "|     sustavianfeed       |       15     |   2.3970210552215576  |   1.3990665674209595     |   0.0728750228881836   |      59          |\n",
      "|     sustavianfeed       |       16     |   2.3970210552215576  |   1.3990665674209595     |   0.0735008716583252   |      59          |\n",
      "|     sustavianfeed       |       17     |   2.3970210552215576  |   1.3990665674209595     |   0.06409311294555664  |      59          |\n",
      "|     sustavianfeed       |       18     |   2.0004966259002686  |   1.2419953346252441     |   0.06712603569030762  |      85          |\n",
      "|     sustavianfeed       |       19     |   2.0004966259002686  |   1.2419953346252441     |   0.07710480690002441  |      85          |\n",
      "|     sustavianfeed       |       20     |   2.0004966259002686  |   1.2419953346252441     |   0.1850433349609375   |      85          |\n",
      "Outer fold 17 - Best parameters: {'slim_version': 'SLIM*SIG1'}\n",
      "Outer fold 17 - Test score: -1.2420\n",
      "\n",
      " Outer fold 18\n",
      "\n",
      "Grid search completed!\n",
      "Best parameters: {'slim_version': 'SLIM*SIG1'}\n",
      "Best score: -4.391149071554597\n",
      "Training with the best hyparameters of 18 fold\n",
      "Verbose Reporter\n",
      "-----------------------------------------------------------------------------------------------------------------------------------------\n",
      "|         Dataset         |  Generation  |     Train Fitness     |       Test Fitness       |        Timing          |      Nodes       |\n",
      "-----------------------------------------------------------------------------------------------------------------------------------------\n",
      "|     sustavianfeed       |       0      |   11.88893985748291   |   54.30601119995117      |   0.05861806869506836  |      3           |\n",
      "|     sustavianfeed       |       1      |   11.87596321105957   |   77.57723236083984      |   0.11299490928649902  |      18          |\n",
      "|     sustavianfeed       |       2      |   11.87596321105957   |   77.57723236083984      |   0.04753756523132324  |      18          |\n",
      "|     sustavianfeed       |       3      |   7.170538902282715   |   34.4911003112793       |   0.08415985107421875  |      16          |\n",
      "|     sustavianfeed       |       4      |   7.170538902282715   |   34.4911003112793       |   0.05128216743469238  |      16          |\n",
      "|     sustavianfeed       |       5      |   7.170538902282715   |   34.4911003112793       |   0.07306981086730957  |      16          |\n",
      "|     sustavianfeed       |       6      |   7.170538902282715   |   34.4911003112793       |   0.06266522407531738  |      16          |\n",
      "|     sustavianfeed       |       7      |   7.170538902282715   |   34.4911003112793       |   0.08097362518310547  |      16          |\n",
      "|     sustavianfeed       |       8      |   6.921693325042725   |   34.47586441040039      |   0.07788872718811035  |      46          |\n",
      "|     sustavianfeed       |       9      |   6.921693325042725   |   34.47586441040039      |   0.07842254638671875  |      46          |\n",
      "|     sustavianfeed       |       10     |   6.920027732849121   |   34.4726676940918       |   0.06126832962036133  |      59          |\n",
      "|     sustavianfeed       |       11     |   6.920027732849121   |   34.4726676940918       |   0.08488655090332031  |      59          |\n",
      "|     sustavianfeed       |       12     |   6.920027732849121   |   34.4726676940918       |   0.06307148933410645  |      59          |\n",
      "|     sustavianfeed       |       13     |   6.920027732849121   |   34.4726676940918       |   0.08011269569396973  |      59          |\n",
      "|     sustavianfeed       |       14     |   6.920027732849121   |   34.4726676940918       |   0.07314896583557129  |      59          |\n",
      "|     sustavianfeed       |       15     |   6.920027732849121   |   34.4726676940918       |   0.0827944278717041   |      59          |\n",
      "|     sustavianfeed       |       16     |   6.920027732849121   |   34.4726676940918       |   0.06716728210449219  |      59          |\n",
      "|     sustavianfeed       |       17     |   6.920027732849121   |   34.4726676940918       |   0.09685611724853516  |      59          |\n",
      "|     sustavianfeed       |       18     |   6.920027732849121   |   34.4726676940918       |   0.07425618171691895  |      59          |\n",
      "|     sustavianfeed       |       19     |   6.920027732849121   |   34.4726676940918       |   0.09026432037353516  |      59          |\n",
      "|     sustavianfeed       |       20     |   6.920027732849121   |   34.4726676940918       |   0.06563591957092285  |      59          |\n",
      "Outer fold 18 - Best parameters: {'slim_version': 'SLIM*SIG1'}\n",
      "Outer fold 18 - Test score: -34.4727\n",
      "\n",
      " Outer fold 19\n",
      "\n",
      "Grid search completed!\n",
      "Best parameters: {'slim_version': 'SLIM*SIG1'}\n",
      "Best score: -4.190571985263224\n",
      "Training with the best hyparameters of 19 fold\n",
      "Verbose Reporter\n",
      "-----------------------------------------------------------------------------------------------------------------------------------------\n",
      "|         Dataset         |  Generation  |     Train Fitness     |       Test Fitness       |        Timing          |      Nodes       |\n",
      "-----------------------------------------------------------------------------------------------------------------------------------------\n",
      "|     sustavianfeed       |       0      |   15.123202323913574  |   15.519288063049316     |   0.06892514228820801  |      3           |\n",
      "|     sustavianfeed       |       1      |   15.123202323913574  |   15.519288063049316     |   0.10947346687316895  |      3           |\n",
      "|     sustavianfeed       |       2      |   15.123202323913574  |   15.519288063049316     |   0.05783820152282715  |      3           |\n",
      "|     sustavianfeed       |       3      |   9.41103744506836    |   6.160744667053223      |   0.085296630859375    |      16          |\n",
      "|     sustavianfeed       |       4      |   9.41103744506836    |   6.160744667053223      |   0.054586172103881836 |      16          |\n",
      "|     sustavianfeed       |       5      |   9.41103744506836    |   6.160744667053223      |   0.08294916152954102  |      16          |\n",
      "|     sustavianfeed       |       6      |   9.41103744506836    |   6.160744667053223      |   0.0686335563659668   |      16          |\n",
      "|     sustavianfeed       |       7      |   9.41103744506836    |   6.160744667053223      |   0.0742177963256836   |      16          |\n",
      "|     sustavianfeed       |       8      |   3.5646932125091553  |   2.7415523529052734     |   0.08263325691223145  |      31          |\n",
      "|     sustavianfeed       |       9      |   3.5646932125091553  |   2.7415523529052734     |   0.07518982887268066  |      31          |\n",
      "|     sustavianfeed       |       10     |   3.5646932125091553  |   2.7415523529052734     |   0.08734822273254395  |      31          |\n",
      "|     sustavianfeed       |       11     |   3.5517091751098633  |   2.7266757488250732     |   0.07075715065002441  |      44          |\n",
      "|     sustavianfeed       |       12     |   3.5517091751098633  |   2.7266757488250732     |   0.08774280548095703  |      44          |\n",
      "|     sustavianfeed       |       13     |   2.3928816318511963  |   1.9349253177642822     |   0.0796365737915039   |      59          |\n",
      "|     sustavianfeed       |       14     |   2.3928816318511963  |   1.9349253177642822     |   0.0816042423248291   |      59          |\n",
      "|     sustavianfeed       |       15     |   2.3928816318511963  |   1.9349253177642822     |   0.07462882995605469  |      59          |\n",
      "|     sustavianfeed       |       16     |   2.3928816318511963  |   1.9349253177642822     |   0.07387781143188477  |      59          |\n",
      "|     sustavianfeed       |       17     |   2.083430051803589   |   0.9377658367156982     |   0.1923203468322754   |      48          |\n",
      "|     sustavianfeed       |       18     |   2.083430051803589   |   0.9377658367156982     |   0.07358908653259277  |      48          |\n",
      "|     sustavianfeed       |       19     |   2.0292298793792725  |   0.9161540865898132     |   0.07593917846679688  |      57          |\n",
      "|     sustavianfeed       |       20     |   2.0292298793792725  |   0.9161540865898132     |   0.0673224925994873   |      57          |\n",
      "Outer fold 19 - Best parameters: {'slim_version': 'SLIM*SIG1'}\n",
      "Outer fold 19 - Test score: -0.9162\n",
      "\n",
      " Outer fold 20\n",
      "\n",
      "Grid search completed!\n",
      "Best parameters: {'slim_version': 'SLIM*SIG1'}\n",
      "Best score: -5.3979261104172345\n",
      "Training with the best hyparameters of 20 fold\n",
      "Verbose Reporter\n",
      "-----------------------------------------------------------------------------------------------------------------------------------------\n",
      "|         Dataset         |  Generation  |     Train Fitness     |       Test Fitness       |        Timing          |      Nodes       |\n",
      "-----------------------------------------------------------------------------------------------------------------------------------------\n",
      "|     sustavianfeed       |       0      |   15.028875350952148  |   18.13884162902832      |   0.07292962074279785  |      3           |\n",
      "|     sustavianfeed       |       1      |   15.028875350952148  |   18.13884162902832      |   0.1102602481842041   |      3           |\n",
      "|     sustavianfeed       |       2      |   15.028875350952148  |   18.13884162902832      |   0.0659630298614502   |      3           |\n",
      "|     sustavianfeed       |       3      |   9.366864204406738   |   7.979278564453125      |   0.09959888458251953  |      16          |\n",
      "|     sustavianfeed       |       4      |   9.366864204406738   |   7.979278564453125      |   0.06279945373535156  |      16          |\n",
      "|     sustavianfeed       |       5      |   9.366864204406738   |   7.979278564453125      |   0.08580160140991211  |      16          |\n",
      "|     sustavianfeed       |       6      |   9.366864204406738   |   7.979278564453125      |   0.07866168022155762  |      16          |\n",
      "|     sustavianfeed       |       7      |   9.366864204406738   |   7.979278564453125      |   0.07912206649780273  |      16          |\n",
      "|     sustavianfeed       |       8      |   3.5582499504089355  |   2.9897994995117188     |   0.08509135246276855  |      31          |\n",
      "|     sustavianfeed       |       9      |   3.5582499504089355  |   2.9897994995117188     |   0.08065485954284668  |      31          |\n",
      "|     sustavianfeed       |       10     |   3.5582499504089355  |   2.9897994995117188     |   0.09351539611816406  |      31          |\n",
      "|     sustavianfeed       |       11     |   3.5452158451080322  |   2.9771251678466797     |   0.0839853286743164   |      44          |\n",
      "|     sustavianfeed       |       12     |   3.5452158451080322  |   2.9771251678466797     |   0.08808636665344238  |      44          |\n",
      "|     sustavianfeed       |       13     |   3.5452158451080322  |   2.9771251678466797     |   0.07281088829040527  |      44          |\n",
      "|     sustavianfeed       |       14     |   3.528289794921875   |   2.9602959156036377     |   0.08633303642272949  |      57          |\n",
      "|     sustavianfeed       |       15     |   3.528289794921875   |   2.9602959156036377     |   0.09287309646606445  |      57          |\n",
      "|     sustavianfeed       |       16     |   2.072235345840454   |   1.767017126083374      |   0.18155717849731445  |      44          |\n",
      "|     sustavianfeed       |       17     |   2.072235345840454   |   1.767017126083374      |   0.07820725440979004  |      44          |\n",
      "|     sustavianfeed       |       18     |   2.072235345840454   |   1.767017126083374      |   0.06561541557312012  |      44          |\n",
      "|     sustavianfeed       |       19     |   2.072235345840454   |   1.767017126083374      |   0.07501649856567383  |      44          |\n",
      "|     sustavianfeed       |       20     |   2.072235345840454   |   1.767017126083374      |   0.06283187866210938  |      44          |\n",
      "Outer fold 20 - Best parameters: {'slim_version': 'SLIM*SIG1'}\n",
      "Outer fold 20 - Test score: -1.7670\n",
      "\n",
      " Outer fold 21\n",
      "\n",
      "Grid search completed!\n",
      "Best parameters: {'slim_version': 'SLIM*SIG1'}\n",
      "Best score: -5.202611428263518\n",
      "Training with the best hyparameters of 21 fold\n",
      "Verbose Reporter\n",
      "-----------------------------------------------------------------------------------------------------------------------------------------\n",
      "|         Dataset         |  Generation  |     Train Fitness     |       Test Fitness       |        Timing          |      Nodes       |\n",
      "-----------------------------------------------------------------------------------------------------------------------------------------\n",
      "|     sustavianfeed       |       0      |   14.947559356689453  |   20.114238739013672     |   0.060306549072265625 |      3           |\n",
      "|     sustavianfeed       |       1      |   14.947559356689453  |   20.114238739013672     |   0.10870099067687988  |      3           |\n",
      "|     sustavianfeed       |       2      |   14.947559356689453  |   20.114238739013672     |   0.06461167335510254  |      3           |\n",
      "|     sustavianfeed       |       3      |   9.409137725830078   |   6.250058174133301      |   0.09916830062866211  |      16          |\n",
      "|     sustavianfeed       |       4      |   9.409137725830078   |   6.250058174133301      |   0.06421017646789551  |      16          |\n",
      "|     sustavianfeed       |       5      |   9.409137725830078   |   6.250058174133301      |   0.08510971069335938  |      16          |\n",
      "|     sustavianfeed       |       6      |   9.409137725830078   |   6.250058174133301      |   0.07860255241394043  |      16          |\n",
      "|     sustavianfeed       |       7      |   9.409137725830078   |   6.250058174133301      |   0.06814193725585938  |      16          |\n",
      "|     sustavianfeed       |       8      |   3.5244665145874023  |   4.0443220138549805     |   0.07761192321777344  |      31          |\n",
      "|     sustavianfeed       |       9      |   3.5244665145874023  |   4.0443220138549805     |   0.07680892944335938  |      31          |\n",
      "|     sustavianfeed       |       10     |   3.5244665145874023  |   4.0443220138549805     |   0.08960556983947754  |      31          |\n",
      "|     sustavianfeed       |       11     |   3.511525869369507   |   4.029059410095215      |   0.07825708389282227  |      44          |\n",
      "|     sustavianfeed       |       12     |   3.511525869369507   |   4.029059410095215      |   0.07524418830871582  |      44          |\n",
      "|     sustavianfeed       |       13     |   3.511525869369507   |   4.029059410095215      |   0.06510567665100098  |      44          |\n",
      "|     sustavianfeed       |       14     |   3.494697093963623   |   4.009600639343262      |   0.0777430534362793   |      57          |\n",
      "|     sustavianfeed       |       15     |   3.494697093963623   |   4.009600639343262      |   0.07527518272399902  |      57          |\n",
      "|     sustavianfeed       |       16     |   2.839193820953369   |   1.4471113681793213     |   0.08064436912536621  |      44          |\n",
      "|     sustavianfeed       |       17     |   2.046755313873291   |   1.783448576927185      |   0.0746145248413086   |      57          |\n",
      "|     sustavianfeed       |       18     |   2.046755313873291   |   1.783448576927185      |   0.19889497756958008  |      57          |\n",
      "|     sustavianfeed       |       19     |   2.046755313873291   |   1.783448576927185      |   0.07917094230651855  |      57          |\n",
      "|     sustavianfeed       |       20     |   2.046755313873291   |   1.783448576927185      |   0.07522726058959961  |      57          |\n",
      "Outer fold 21 - Best parameters: {'slim_version': 'SLIM*SIG1'}\n",
      "Outer fold 21 - Test score: -1.7834\n",
      "\n",
      " Outer fold 22\n",
      "\n",
      "Grid search completed!\n",
      "Best parameters: {'slim_version': 'SLIM*SIG1'}\n",
      "Best score: -5.072928420139973\n",
      "Training with the best hyparameters of 22 fold\n",
      "Verbose Reporter\n",
      "-----------------------------------------------------------------------------------------------------------------------------------------\n",
      "|         Dataset         |  Generation  |     Train Fitness     |       Test Fitness       |        Timing          |      Nodes       |\n",
      "-----------------------------------------------------------------------------------------------------------------------------------------\n",
      "|     sustavianfeed       |       0      |   15.047740936279297  |   17.647300720214844     |   0.050084590911865234 |      3           |\n",
      "|     sustavianfeed       |       1      |   15.047740936279297  |   17.647300720214844     |   0.09549427032470703  |      3           |\n",
      "|     sustavianfeed       |       2      |   15.047740936279297  |   17.647300720214844     |   0.06059765815734863  |      3           |\n",
      "|     sustavianfeed       |       3      |   9.426467895507812   |   5.379976749420166      |   0.09996366500854492  |      16          |\n",
      "|     sustavianfeed       |       4      |   9.426467895507812   |   5.379976749420166      |   0.05707669258117676  |      16          |\n",
      "|     sustavianfeed       |       5      |   9.426467895507812   |   5.379976749420166      |   0.08379983901977539  |      16          |\n",
      "|     sustavianfeed       |       6      |   9.426467895507812   |   5.379976749420166      |   0.07210111618041992  |      16          |\n",
      "|     sustavianfeed       |       7      |   9.426467895507812   |   5.379976749420166      |   0.07213354110717773  |      16          |\n",
      "|     sustavianfeed       |       8      |   3.5234181880950928  |   4.07252836227417       |   0.07294392585754395  |      31          |\n",
      "|     sustavianfeed       |       9      |   3.5234181880950928  |   4.07252836227417       |   0.0784904956817627   |      31          |\n",
      "|     sustavianfeed       |       10     |   3.5234181880950928  |   4.07252836227417       |   0.09381556510925293  |      31          |\n",
      "|     sustavianfeed       |       11     |   3.510470390319824   |   4.057464599609375      |   0.07777595520019531  |      44          |\n",
      "|     sustavianfeed       |       12     |   3.510470390319824   |   4.057464599609375      |   0.08359885215759277  |      44          |\n",
      "|     sustavianfeed       |       13     |   2.4082601070404053  |   1.206266164779663      |   0.06792736053466797  |      59          |\n",
      "|     sustavianfeed       |       14     |   2.4082601070404053  |   1.206266164779663      |   0.2036120891571045   |      59          |\n",
      "|     sustavianfeed       |       15     |   2.4082601070404053  |   1.206266164779663      |   0.08578228950500488  |      59          |\n",
      "|     sustavianfeed       |       16     |   2.4082601070404053  |   1.206266164779663      |   0.12720274925231934  |      59          |\n",
      "|     sustavianfeed       |       17     |   2.061544179916382   |   1.9213577508926392     |   0.07648468017578125  |      48          |\n",
      "|     sustavianfeed       |       18     |   2.061544179916382   |   1.9213577508926392     |   0.06609845161437988  |      48          |\n",
      "|     sustavianfeed       |       19     |   2.011906623840332   |   1.7347981929779053     |   0.0724785327911377   |      57          |\n",
      "|     sustavianfeed       |       20     |   2.011906623840332   |   1.7347981929779053     |   0.06710243225097656  |      57          |\n",
      "Outer fold 22 - Best parameters: {'slim_version': 'SLIM*SIG1'}\n",
      "Outer fold 22 - Test score: -1.7348\n",
      "\n",
      " Outer fold 23\n",
      "\n",
      "Grid search completed!\n",
      "Best parameters: {'slim_version': 'SLIM*SIG1'}\n",
      "Best score: -4.37101391691049\n",
      "Training with the best hyparameters of 23 fold\n",
      "Verbose Reporter\n",
      "-----------------------------------------------------------------------------------------------------------------------------------------\n",
      "|         Dataset         |  Generation  |     Train Fitness     |       Test Fitness       |        Timing          |      Nodes       |\n",
      "-----------------------------------------------------------------------------------------------------------------------------------------\n",
      "|     sustavianfeed       |       0      |   15.330249786376953  |   6.736746788024902      |   0.06710171699523926  |      3           |\n",
      "|     sustavianfeed       |       1      |   15.330249786376953  |   6.736746788024902      |   0.09621334075927734  |      3           |\n",
      "|     sustavianfeed       |       2      |   15.330249786376953  |   6.736746788024902      |   0.056705474853515625 |      3           |\n",
      "|     sustavianfeed       |       3      |   9.246108055114746   |   11.547526359558105     |   0.09866523742675781  |      16          |\n",
      "|     sustavianfeed       |       4      |   9.246108055114746   |   11.547526359558105     |   0.06661438941955566  |      16          |\n",
      "|     sustavianfeed       |       5      |   9.246108055114746   |   11.547526359558105     |   0.07965970039367676  |      16          |\n",
      "|     sustavianfeed       |       6      |   9.246108055114746   |   11.547526359558105     |   0.07477402687072754  |      16          |\n",
      "|     sustavianfeed       |       7      |   9.246108055114746   |   11.547526359558105     |   0.07216715812683105  |      16          |\n",
      "|     sustavianfeed       |       8      |   3.5192689895629883  |   4.18227481842041       |   0.19329094886779785  |      31          |\n",
      "|     sustavianfeed       |       9      |   3.5192689895629883  |   4.18227481842041       |   0.0748143196105957   |      31          |\n",
      "|     sustavianfeed       |       10     |   3.5192689895629883  |   4.18227481842041       |   0.08843398094177246  |      31          |\n",
      "|     sustavianfeed       |       11     |   3.5063283443450928  |   4.16702127456665       |   0.07761025428771973  |      44          |\n",
      "|     sustavianfeed       |       12     |   3.5063283443450928  |   4.16702127456665       |   0.0755312442779541   |      44          |\n",
      "|     sustavianfeed       |       13     |   3.5063283443450928  |   4.16702127456665       |   0.06594657897949219  |      44          |\n",
      "|     sustavianfeed       |       14     |   3.5063283443450928  |   4.16702127456665       |   0.07825160026550293  |      44          |\n",
      "|     sustavianfeed       |       15     |   2.363417148590088   |   2.6299116611480713     |   0.08279252052307129  |      59          |\n",
      "|     sustavianfeed       |       16     |   2.363417148590088   |   2.6299116611480713     |   0.08997678756713867  |      59          |\n",
      "|     sustavianfeed       |       17     |   2.357698440551758   |   2.6200735569000244     |   0.07630085945129395  |      44          |\n",
      "|     sustavianfeed       |       18     |   2.357698440551758   |   2.6200735569000244     |   0.07989239692687988  |      44          |\n",
      "|     sustavianfeed       |       19     |   2.0001001358032227  |   1.3764432668685913     |   0.07444214820861816  |      72          |\n",
      "|     sustavianfeed       |       20     |   2.0001001358032227  |   1.3764432668685913     |   0.07239317893981934  |      72          |\n",
      "Outer fold 23 - Best parameters: {'slim_version': 'SLIM*SIG1'}\n",
      "Outer fold 23 - Test score: -1.3764\n",
      "\n",
      " Outer fold 24\n",
      "\n",
      "Grid search completed!\n",
      "Best parameters: {'slim_version': 'SLIM*SIG1'}\n",
      "Best score: -4.107150939630238\n",
      "Training with the best hyparameters of 24 fold\n",
      "Verbose Reporter\n",
      "-----------------------------------------------------------------------------------------------------------------------------------------\n",
      "|         Dataset         |  Generation  |     Train Fitness     |       Test Fitness       |        Timing          |      Nodes       |\n",
      "-----------------------------------------------------------------------------------------------------------------------------------------\n",
      "|     sustavianfeed       |       0      |   15.301858901977539  |   8.505550384521484      |   0.0922083854675293   |      3           |\n",
      "|     sustavianfeed       |       1      |   15.301858901977539  |   8.505550384521484      |   0.16680526733398438  |      3           |\n",
      "|     sustavianfeed       |       2      |   15.301858901977539  |   8.505550384521484      |   0.08800816535949707  |      3           |\n",
      "|     sustavianfeed       |       3      |   9.437884330749512   |   4.7188720703125        |   0.14331388473510742  |      16          |\n",
      "|     sustavianfeed       |       4      |   9.437884330749512   |   4.7188720703125        |   0.09993529319763184  |      16          |\n",
      "|     sustavianfeed       |       5      |   9.437884330749512   |   4.7188720703125        |   0.13295197486877441  |      16          |\n",
      "|     sustavianfeed       |       6      |   9.437884330749512   |   4.7188720703125        |   0.11277985572814941  |      16          |\n",
      "|     sustavianfeed       |       7      |   9.437884330749512   |   4.7188720703125        |   0.11330032348632812  |      16          |\n",
      "|     sustavianfeed       |       8      |   3.54703688621521    |   3.3776838779449463     |   0.12004923820495605  |      31          |\n",
      "|     sustavianfeed       |       9      |   3.54703688621521    |   3.3776838779449463     |   0.09994626045227051  |      31          |\n",
      "|     sustavianfeed       |       10     |   3.54703688621521    |   3.3776838779449463     |   0.12079262733459473  |      31          |\n",
      "|     sustavianfeed       |       11     |   3.5340795516967773  |   3.362626791000366      |   0.12136244773864746  |      44          |\n",
      "|     sustavianfeed       |       12     |   3.5340795516967773  |   3.362626791000366      |   0.11874198913574219  |      44          |\n",
      "|     sustavianfeed       |       13     |   2.4040207862854004  |   1.444827675819397      |   0.1145484447479248   |      59          |\n",
      "|     sustavianfeed       |       14     |   2.4040207862854004  |   1.444827675819397      |   0.1056051254272461   |      59          |\n",
      "|     sustavianfeed       |       15     |   2.4040207862854004  |   1.444827675819397      |   0.10663819313049316  |      59          |\n",
      "|     sustavianfeed       |       16     |   2.4040207862854004  |   1.444827675819397      |   0.1152946949005127   |      59          |\n",
      "|     sustavianfeed       |       17     |   2.4040207862854004  |   1.444827675819397      |   0.10340142250061035  |      59          |\n",
      "|     sustavianfeed       |       18     |   2.3949027061462402  |   1.4328322410583496     |   0.12604498863220215  |      46          |\n",
      "|     sustavianfeed       |       19     |   2.3949027061462402  |   1.4328322410583496     |   0.11762189865112305  |      46          |\n",
      "|     sustavianfeed       |       20     |   2.3949027061462402  |   1.4328322410583496     |   0.10894107818603516  |      46          |\n",
      "Outer fold 24 - Best parameters: {'slim_version': 'SLIM*SIG1'}\n",
      "Outer fold 24 - Test score: -1.4328\n",
      "\n",
      " Outer fold 25\n",
      "\n",
      "Grid search completed!\n",
      "Best parameters: {'slim_version': 'SLIM*SIG1'}\n",
      "Best score: -4.426331523081329\n",
      "Training with the best hyparameters of 25 fold\n",
      "Verbose Reporter\n",
      "-----------------------------------------------------------------------------------------------------------------------------------------\n",
      "|         Dataset         |  Generation  |     Train Fitness     |       Test Fitness       |        Timing          |      Nodes       |\n",
      "-----------------------------------------------------------------------------------------------------------------------------------------\n",
      "|     sustavianfeed       |       0      |   15.315619468688965  |   7.699500560760498      |   0.10500001907348633  |      3           |\n",
      "|     sustavianfeed       |       1      |   15.315619468688965  |   7.699500560760498      |   0.2112419605255127   |      3           |\n",
      "|     sustavianfeed       |       2      |   15.315619468688965  |   7.699500560760498      |   0.11385130882263184  |      3           |\n",
      "|     sustavianfeed       |       3      |   9.472305297851562   |   1.445451021194458      |   0.13902854919433594  |      16          |\n",
      "|     sustavianfeed       |       4      |   9.472305297851562   |   1.445451021194458      |   0.09024381637573242  |      16          |\n",
      "|     sustavianfeed       |       5      |   9.472305297851562   |   1.445451021194458      |   0.12814879417419434  |      16          |\n",
      "|     sustavianfeed       |       6      |   9.472305297851562   |   1.445451021194458      |   0.10622549057006836  |      16          |\n",
      "|     sustavianfeed       |       7      |   9.472305297851562   |   1.445451021194458      |   0.11957597732543945  |      16          |\n",
      "|     sustavianfeed       |       8      |   3.5562031269073486  |   3.0643513202667236     |   0.11573553085327148  |      31          |\n",
      "|     sustavianfeed       |       9      |   3.5562031269073486  |   3.0643513202667236     |   0.11746549606323242  |      31          |\n",
      "|     sustavianfeed       |       10     |   3.5562031269073486  |   3.0643513202667236     |   0.11122441291809082  |      31          |\n",
      "|     sustavianfeed       |       11     |   3.5431673526763916  |   3.0517899990081787     |   0.09634852409362793  |      44          |\n",
      "|     sustavianfeed       |       12     |   3.5431673526763916  |   3.0517899990081787     |   0.12401986122131348  |      44          |\n",
      "|     sustavianfeed       |       13     |   3.5431673526763916  |   3.0517899990081787     |   0.10383248329162598  |      44          |\n",
      "|     sustavianfeed       |       14     |   3.5431673526763916  |   3.0517899990081787     |   0.10871005058288574  |      44          |\n",
      "|     sustavianfeed       |       15     |   2.3827695846557617  |   2.0171937942504883     |   0.1035606861114502   |      59          |\n",
      "|     sustavianfeed       |       16     |   2.3827695846557617  |   2.0171937942504883     |   0.11243152618408203  |      59          |\n",
      "|     sustavianfeed       |       17     |   2.3827695846557617  |   2.0171937942504883     |   0.10119414329528809  |      59          |\n",
      "|     sustavianfeed       |       18     |   1.9820362329483032  |   1.9549078941345215     |   0.12278199195861816  |      85          |\n",
      "|     sustavianfeed       |       19     |   1.9783985614776611  |   1.9261894226074219     |   0.09587860107421875  |      85          |\n",
      "|     sustavianfeed       |       20     |   1.978211522102356   |   1.9215915203094482     |   0.10269904136657715  |      72          |\n",
      "Outer fold 25 - Best parameters: {'slim_version': 'SLIM*SIG1'}\n",
      "Outer fold 25 - Test score: -1.9216\n",
      "\n",
      " Outer fold 26\n",
      "\n",
      "Grid search completed!\n",
      "Best parameters: {'slim_version': 'SLIM*SIG1'}\n",
      "Best score: -4.501995199396151\n",
      "Training with the best hyparameters of 26 fold\n",
      "Verbose Reporter\n",
      "-----------------------------------------------------------------------------------------------------------------------------------------\n",
      "|         Dataset         |  Generation  |     Train Fitness     |       Test Fitness       |        Timing          |      Nodes       |\n",
      "-----------------------------------------------------------------------------------------------------------------------------------------\n",
      "|     sustavianfeed       |       0      |   15.304981231689453  |   8.329556465148926      |   0.21693801879882812  |      3           |\n",
      "|     sustavianfeed       |       1      |   15.304981231689453  |   8.329556465148926      |   0.1495378017425537   |      3           |\n",
      "|     sustavianfeed       |       2      |   15.304981231689453  |   8.329556465148926      |   0.08413982391357422  |      3           |\n",
      "|     sustavianfeed       |       3      |   9.457991600036621   |   3.2388267517089844     |   0.13431549072265625  |      16          |\n",
      "|     sustavianfeed       |       4      |   9.457991600036621   |   3.2388267517089844     |   0.08435440063476562  |      16          |\n",
      "|     sustavianfeed       |       5      |   9.457991600036621   |   3.2388267517089844     |   0.1307203769683838   |      16          |\n",
      "|     sustavianfeed       |       6      |   9.457991600036621   |   3.2388267517089844     |   0.1076352596282959   |      16          |\n",
      "|     sustavianfeed       |       7      |   9.457991600036621   |   3.2388267517089844     |   0.12941646575927734  |      16          |\n",
      "|     sustavianfeed       |       8      |   3.5711028575897217  |   2.4694716930389404     |   0.11776041984558105  |      31          |\n",
      "|     sustavianfeed       |       9      |   3.5711028575897217  |   2.4694716930389404     |   0.21258997917175293  |      31          |\n",
      "|     sustavianfeed       |       10     |   3.5711028575897217  |   2.4694716930389404     |   0.12938785552978516  |      31          |\n",
      "|     sustavianfeed       |       11     |   3.5580856800079346  |   2.4554688930511475     |   0.11109089851379395  |      44          |\n",
      "|     sustavianfeed       |       12     |   3.5580856800079346  |   2.4554688930511475     |   0.12725448608398438  |      44          |\n",
      "|     sustavianfeed       |       13     |   3.5580856800079346  |   2.4554688930511475     |   0.11501789093017578  |      44          |\n",
      "|     sustavianfeed       |       14     |   3.5580856800079346  |   2.4554688930511475     |   0.11167073249816895  |      44          |\n",
      "|     sustavianfeed       |       15     |   2.399851083755493   |   1.2395747900009155     |   0.11674213409423828  |      59          |\n",
      "|     sustavianfeed       |       16     |   2.399851083755493   |   1.2395747900009155     |   0.12425827980041504  |      59          |\n",
      "|     sustavianfeed       |       17     |   2.399851083755493   |   1.2395747900009155     |   0.11321091651916504  |      59          |\n",
      "|     sustavianfeed       |       18     |   1.997814655303955   |   1.36930513381958       |   0.12565326690673828  |      85          |\n",
      "|     sustavianfeed       |       19     |   1.99448823928833    |   1.3147724866867065     |   0.10732483863830566  |      85          |\n",
      "|     sustavianfeed       |       20     |   1.994352102279663   |   1.3056836128234863     |   0.12193131446838379  |      72          |\n",
      "Outer fold 26 - Best parameters: {'slim_version': 'SLIM*SIG1'}\n",
      "Outer fold 26 - Test score: -1.3057\n",
      "\n",
      " Outer fold 27\n",
      "\n",
      "Grid search completed!\n",
      "Best parameters: {'slim_version': 'SLIM*SIG1'}\n",
      "Best score: -4.533707497030561\n",
      "Training with the best hyparameters of 27 fold\n",
      "Verbose Reporter\n",
      "-----------------------------------------------------------------------------------------------------------------------------------------\n",
      "|         Dataset         |  Generation  |     Train Fitness     |       Test Fitness       |        Timing          |      Nodes       |\n",
      "-----------------------------------------------------------------------------------------------------------------------------------------\n",
      "|     sustavianfeed       |       0      |   15.314515113830566  |   7.7672553062438965     |   0.08835458755493164  |      3           |\n",
      "|     sustavianfeed       |       1      |   15.314515113830566  |   7.7672553062438965     |   0.16698479652404785  |      3           |\n",
      "|     sustavianfeed       |       2      |   15.314515113830566  |   7.7672553062438965     |   0.08924579620361328  |      3           |\n",
      "|     sustavianfeed       |       3      |   9.447669982910156   |   4.066819190979004      |   0.13363862037658691  |      16          |\n",
      "|     sustavianfeed       |       4      |   9.447669982910156   |   4.066819190979004      |   0.10377860069274902  |      16          |\n",
      "|     sustavianfeed       |       5      |   9.447669982910156   |   4.066819190979004      |   0.12200498580932617  |      16          |\n",
      "|     sustavianfeed       |       6      |   9.447669982910156   |   4.066819190979004      |   0.09283804893493652  |      16          |\n",
      "|     sustavianfeed       |       7      |   9.447669982910156   |   4.066819190979004      |   0.1038200855255127   |      16          |\n",
      "|     sustavianfeed       |       8      |   3.5469751358032227  |   3.379689931869507      |   0.10329699516296387  |      31          |\n",
      "|     sustavianfeed       |       9      |   3.5469751358032227  |   3.379689931869507      |   0.08005833625793457  |      31          |\n",
      "|     sustavianfeed       |       10     |   3.5469751358032227  |   3.379689931869507      |   0.1155710220336914   |      31          |\n",
      "|     sustavianfeed       |       11     |   3.534019708633423   |   3.364582061767578      |   0.11430001258850098  |      44          |\n",
      "|     sustavianfeed       |       12     |   3.534019708633423   |   3.364582061767578      |   0.11352205276489258  |      44          |\n",
      "|     sustavianfeed       |       13     |   3.534019708633423   |   3.364582061767578      |   0.11694502830505371  |      44          |\n",
      "|     sustavianfeed       |       14     |   3.534019708633423   |   3.364582061767578      |   0.12124323844909668  |      44          |\n",
      "|     sustavianfeed       |       15     |   2.3867897987365723  |   1.8640421628952026     |   0.11377120018005371  |      59          |\n",
      "|     sustavianfeed       |       16     |   2.3867897987365723  |   1.8640421628952026     |   0.11504244804382324  |      59          |\n",
      "|     sustavianfeed       |       17     |   2.3867897987365723  |   1.8640421628952026     |   0.11656737327575684  |      59          |\n",
      "|     sustavianfeed       |       18     |   2.006190061569214   |   0.9140087962150574     |   0.1194448471069336   |      85          |\n",
      "|     sustavianfeed       |       19     |   2.0013513565063477  |   0.937277615070343      |   0.11993050575256348  |      85          |\n",
      "|     sustavianfeed       |       20     |   2.000948905944824   |   0.942219614982605      |   0.11017990112304688  |      72          |\n",
      "Outer fold 27 - Best parameters: {'slim_version': 'SLIM*SIG1'}\n",
      "Outer fold 27 - Test score: -0.9422\n",
      "\n",
      " Outer fold 28\n",
      "\n",
      "Grid search completed!\n",
      "Best parameters: {'slim_version': 'SLIM*SIG1'}\n",
      "Best score: -3.4112116861833877\n",
      "Training with the best hyparameters of 28 fold\n",
      "Verbose Reporter\n",
      "-----------------------------------------------------------------------------------------------------------------------------------------\n",
      "|         Dataset         |  Generation  |     Train Fitness     |       Test Fitness       |        Timing          |      Nodes       |\n",
      "-----------------------------------------------------------------------------------------------------------------------------------------\n",
      "|     sustavianfeed       |       0      |   15.307637214660645  |   8.176843643188477      |   0.10563945770263672  |      3           |\n",
      "|     sustavianfeed       |       1      |   15.307637214660645  |   8.176843643188477      |   0.15532255172729492  |      3           |\n",
      "|     sustavianfeed       |       2      |   15.307637214660645  |   8.176843643188477      |   0.09238815307617188  |      3           |\n",
      "|     sustavianfeed       |       3      |   9.373395919799805   |   7.737858295440674      |   0.128556489944458    |      16          |\n",
      "|     sustavianfeed       |       4      |   9.373395919799805   |   7.737858295440674      |   0.09051871299743652  |      16          |\n",
      "|     sustavianfeed       |       5      |   9.373395919799805   |   7.737858295440674      |   0.13351798057556152  |      16          |\n",
      "|     sustavianfeed       |       6      |   9.373395919799805   |   7.737858295440674      |   0.10585689544677734  |      16          |\n",
      "|     sustavianfeed       |       7      |   9.373395919799805   |   7.737858295440674      |   0.12120270729064941  |      16          |\n",
      "|     sustavianfeed       |       8      |   3.5188121795654297  |   4.194168567657471      |   0.1240394115447998   |      31          |\n",
      "|     sustavianfeed       |       9      |   3.5188121795654297  |   4.194168567657471      |   0.11751437187194824  |      31          |\n",
      "|     sustavianfeed       |       10     |   3.5188121795654297  |   4.194168567657471      |   0.1245114803314209   |      31          |\n",
      "|     sustavianfeed       |       11     |   3.5058889389038086  |   4.178462982177734      |   0.11704063415527344  |      44          |\n",
      "|     sustavianfeed       |       12     |   3.5058889389038086  |   4.178462982177734      |   0.11851763725280762  |      44          |\n",
      "|     sustavianfeed       |       13     |   3.5058889389038086  |   4.178462982177734      |   0.10453510284423828  |      44          |\n",
      "|     sustavianfeed       |       14     |   3.5058889389038086  |   4.178462982177734      |   0.12299394607543945  |      44          |\n",
      "|     sustavianfeed       |       15     |   2.3655927181243896  |   2.568556547164917      |   0.12003660202026367  |      59          |\n",
      "|     sustavianfeed       |       16     |   2.3655927181243896  |   2.568556547164917      |   0.11821651458740234  |      59          |\n",
      "|     sustavianfeed       |       17     |   2.3598973751068115  |   2.5579640865325928     |   0.10551929473876953  |      44          |\n",
      "|     sustavianfeed       |       18     |   2.3598973751068115  |   2.5579640865325928     |   0.12459301948547363  |      44          |\n",
      "|     sustavianfeed       |       19     |   2.0056381225585938  |   1.0985902547836304     |   0.11132574081420898  |      72          |\n",
      "|     sustavianfeed       |       20     |   2.0056381225585938  |   1.0985902547836304     |   0.09959721565246582  |      72          |\n",
      "Outer fold 28 - Best parameters: {'slim_version': 'SLIM*SIG1'}\n",
      "Outer fold 28 - Test score: -1.0986\n",
      "\n",
      " Outer fold 29\n",
      "\n",
      "Grid search completed!\n",
      "Best parameters: {'slim_version': 'SLIM*SIG1'}\n",
      "Best score: -6.178969811430556\n",
      "Training with the best hyparameters of 29 fold\n",
      "Verbose Reporter\n",
      "-----------------------------------------------------------------------------------------------------------------------------------------\n",
      "|         Dataset         |  Generation  |     Train Fitness     |       Test Fitness       |        Timing          |      Nodes       |\n",
      "-----------------------------------------------------------------------------------------------------------------------------------------\n",
      "|     sustavianfeed       |       0      |   15.25459098815918   |   10.822152137756348     |   0.09173083305358887  |      3           |\n",
      "|     sustavianfeed       |       1      |   15.25459098815918   |   10.822152137756348     |   0.14524531364440918  |      3           |\n",
      "|     sustavianfeed       |       2      |   15.25459098815918   |   10.822152137756348     |   0.07913637161254883  |      3           |\n",
      "|     sustavianfeed       |       3      |   9.313922882080078   |   9.712223052978516      |   0.13793373107910156  |      16          |\n",
      "|     sustavianfeed       |       4      |   9.313922882080078   |   9.712223052978516      |   0.09917688369750977  |      16          |\n",
      "|     sustavianfeed       |       5      |   9.313922882080078   |   9.712223052978516      |   0.1302633285522461   |      16          |\n",
      "|     sustavianfeed       |       6      |   9.313922882080078   |   9.712223052978516      |   0.09655451774597168  |      16          |\n",
      "|     sustavianfeed       |       7      |   9.313922882080078   |   9.712223052978516      |   0.11379694938659668  |      16          |\n",
      "|     sustavianfeed       |       8      |   3.5200345516204834  |   4.162254810333252      |   0.11621856689453125  |      31          |\n",
      "|     sustavianfeed       |       9      |   3.5200345516204834  |   4.162254810333252      |   0.11674308776855469  |      31          |\n",
      "|     sustavianfeed       |       10     |   3.5200345516204834  |   4.162254810333252      |   0.12407398223876953  |      31          |\n",
      "|     sustavianfeed       |       11     |   3.5200345516204834  |   4.162254810333252      |   0.11338233947753906  |      31          |\n",
      "|     sustavianfeed       |       12     |   3.5200345516204834  |   4.162254810333252      |   0.12929272651672363  |      31          |\n",
      "|     sustavianfeed       |       13     |   2.035379648208618   |   1.7919765710830688     |   0.12031769752502441  |      44          |\n",
      "|     sustavianfeed       |       14     |   2.035379648208618   |   1.7919765710830688     |   0.12775206565856934  |      44          |\n",
      "|     sustavianfeed       |       15     |   2.035379648208618   |   1.7919765710830688     |   0.1198723316192627   |      44          |\n",
      "|     sustavianfeed       |       16     |   2.011270761489868   |   1.6691936254501343     |   0.09767937660217285  |      59          |\n",
      "|     sustavianfeed       |       17     |   2.0111172199249268  |   1.6681435108184814     |   0.07316732406616211  |      72          |\n",
      "|     sustavianfeed       |       18     |   2.0111172199249268  |   1.6681435108184814     |   0.11105656623840332  |      72          |\n",
      "|     sustavianfeed       |       19     |   2.0111172199249268  |   1.6681435108184814     |   0.10307073593139648  |      72          |\n",
      "|     sustavianfeed       |       20     |   2.0111172199249268  |   1.6681435108184814     |   0.11146259307861328  |      72          |\n",
      "Outer fold 29 - Best parameters: {'slim_version': 'SLIM*SIG1'}\n",
      "Outer fold 29 - Test score: -1.6681\n",
      "\n",
      " Outer fold 30\n",
      "\n",
      "Grid search completed!\n",
      "Best parameters: {'slim_version': 'SLIM*SIG1'}\n",
      "Best score: -5.373408098255547\n",
      "Training with the best hyparameters of 30 fold\n",
      "Verbose Reporter\n",
      "-----------------------------------------------------------------------------------------------------------------------------------------\n",
      "|         Dataset         |  Generation  |     Train Fitness     |       Test Fitness       |        Timing          |      Nodes       |\n",
      "-----------------------------------------------------------------------------------------------------------------------------------------\n",
      "|     sustavianfeed       |       0      |   15.201789855957031  |   12.921686172485352     |   0.06776046752929688  |      3           |\n",
      "|     sustavianfeed       |       1      |   15.201789855957031  |   12.921686172485352     |   0.10747909545898438  |      3           |\n",
      "|     sustavianfeed       |       2      |   15.201789855957031  |   12.921686172485352     |   0.0610659122467041   |      3           |\n",
      "|     sustavianfeed       |       3      |   9.406030654907227   |   6.393392562866211      |   0.11790323257446289  |      16          |\n",
      "|     sustavianfeed       |       4      |   9.406030654907227   |   6.393392562866211      |   0.056154489517211914 |      16          |\n",
      "|     sustavianfeed       |       5      |   9.406030654907227   |   6.393392562866211      |   0.08777189254760742  |      16          |\n",
      "|     sustavianfeed       |       6      |   9.406030654907227   |   6.393392562866211      |   0.07244014739990234  |      16          |\n",
      "|     sustavianfeed       |       7      |   9.406030654907227   |   6.393392562866211      |   0.07221078872680664  |      16          |\n",
      "|     sustavianfeed       |       8      |   3.5339853763580322  |   3.778047561645508      |   0.07808184623718262  |      31          |\n",
      "|     sustavianfeed       |       9      |   3.5339853763580322  |   3.778047561645508      |   0.07771015167236328  |      31          |\n",
      "|     sustavianfeed       |       10     |   3.5339853763580322  |   3.778047561645508      |   0.08143877983093262  |      31          |\n",
      "|     sustavianfeed       |       11     |   3.521055221557617   |   3.7624237537384033     |   0.06832480430603027  |      44          |\n",
      "|     sustavianfeed       |       12     |   3.521055221557617   |   3.7624237537384033     |   0.08402156829833984  |      44          |\n",
      "|     sustavianfeed       |       13     |   2.4159679412841797  |   0.5498685240745544     |   0.07489132881164551  |      59          |\n",
      "|     sustavianfeed       |       14     |   2.4159679412841797  |   0.5498685240745544     |   0.07733774185180664  |      59          |\n",
      "|     sustavianfeed       |       15     |   2.4159679412841797  |   0.5498685240745544     |   0.08539462089538574  |      59          |\n",
      "|     sustavianfeed       |       16     |   2.4159679412841797  |   0.5498685240745544     |   0.08201432228088379  |      59          |\n",
      "|     sustavianfeed       |       17     |   2.4159679412841797  |   0.5498685240745544     |   0.08203244209289551  |      59          |\n",
      "|     sustavianfeed       |       18     |   2.1859023571014404  |   0.25879865884780884    |   0.07398009300231934  |      57          |\n",
      "|     sustavianfeed       |       19     |   2.1859023571014404  |   0.25879865884780884    |   0.07803893089294434  |      57          |\n",
      "|     sustavianfeed       |       20     |   2.1859023571014404  |   0.25879865884780884    |   0.07010102272033691  |      57          |\n",
      "Outer fold 30 - Best parameters: {'slim_version': 'SLIM*SIG1'}\n",
      "Outer fold 30 - Test score: -0.2588\n"
     ]
    }
   ],
   "source": [
    "summary, general_summary, all_grid_results=run_nested_cv_for_model(X,y, estimator, param_grid, outer_cv, n_inner_cv, model_name=\"SLIM\")"
   ]
  },
  {
   "cell_type": "markdown",
   "id": "ae1a3252",
   "metadata": {},
   "source": [
    "- Best configuration of parameter per fold"
   ]
  },
  {
   "cell_type": "code",
   "execution_count": 13,
   "id": "8499d55f",
   "metadata": {},
   "outputs": [
    {
     "data": {
      "text/html": [
       "<div>\n",
       "<style scoped>\n",
       "    .dataframe tbody tr th:only-of-type {\n",
       "        vertical-align: middle;\n",
       "    }\n",
       "\n",
       "    .dataframe tbody tr th {\n",
       "        vertical-align: top;\n",
       "    }\n",
       "\n",
       "    .dataframe thead th {\n",
       "        text-align: right;\n",
       "    }\n",
       "</style>\n",
       "<table border=\"1\" class=\"dataframe\">\n",
       "  <thead>\n",
       "    <tr style=\"text-align: right;\">\n",
       "      <th></th>\n",
       "      <th>slim_version</th>\n",
       "      <th>outer_fold</th>\n",
       "      <th>grid_score</th>\n",
       "      <th>test_score</th>\n",
       "    </tr>\n",
       "  </thead>\n",
       "  <tbody>\n",
       "    <tr>\n",
       "      <th>17</th>\n",
       "      <td>SLIM*SIG1</td>\n",
       "      <td>18</td>\n",
       "      <td>-4.391149</td>\n",
       "      <td>tensor(-34.4727)</td>\n",
       "    </tr>\n",
       "    <tr>\n",
       "      <th>15</th>\n",
       "      <td>SLIM*SIG1</td>\n",
       "      <td>16</td>\n",
       "      <td>-6.786210</td>\n",
       "      <td>tensor(-7.1474)</td>\n",
       "    </tr>\n",
       "    <tr>\n",
       "      <th>6</th>\n",
       "      <td>SLIM*ABS</td>\n",
       "      <td>7</td>\n",
       "      <td>-7.762471</td>\n",
       "      <td>tensor(-5.8096)</td>\n",
       "    </tr>\n",
       "    <tr>\n",
       "      <th>2</th>\n",
       "      <td>SLIM*SIG1</td>\n",
       "      <td>3</td>\n",
       "      <td>-5.021016</td>\n",
       "      <td>tensor(-5.5360)</td>\n",
       "    </tr>\n",
       "    <tr>\n",
       "      <th>3</th>\n",
       "      <td>SLIM*SIG1</td>\n",
       "      <td>4</td>\n",
       "      <td>-7.234062</td>\n",
       "      <td>tensor(-2.6758)</td>\n",
       "    </tr>\n",
       "    <tr>\n",
       "      <th>0</th>\n",
       "      <td>SLIM*SIG1</td>\n",
       "      <td>1</td>\n",
       "      <td>-3.260264</td>\n",
       "      <td>tensor(-2.6046)</td>\n",
       "    </tr>\n",
       "    <tr>\n",
       "      <th>7</th>\n",
       "      <td>SLIM*SIG1</td>\n",
       "      <td>8</td>\n",
       "      <td>-3.289378</td>\n",
       "      <td>tensor(-2.1316)</td>\n",
       "    </tr>\n",
       "    <tr>\n",
       "      <th>24</th>\n",
       "      <td>SLIM*SIG1</td>\n",
       "      <td>25</td>\n",
       "      <td>-4.426332</td>\n",
       "      <td>tensor(-1.9216)</td>\n",
       "    </tr>\n",
       "    <tr>\n",
       "      <th>12</th>\n",
       "      <td>SLIM*SIG1</td>\n",
       "      <td>13</td>\n",
       "      <td>-4.406391</td>\n",
       "      <td>tensor(-1.8386)</td>\n",
       "    </tr>\n",
       "    <tr>\n",
       "      <th>20</th>\n",
       "      <td>SLIM*SIG1</td>\n",
       "      <td>21</td>\n",
       "      <td>-5.202611</td>\n",
       "      <td>tensor(-1.7834)</td>\n",
       "    </tr>\n",
       "    <tr>\n",
       "      <th>19</th>\n",
       "      <td>SLIM*SIG1</td>\n",
       "      <td>20</td>\n",
       "      <td>-5.397926</td>\n",
       "      <td>tensor(-1.7670)</td>\n",
       "    </tr>\n",
       "    <tr>\n",
       "      <th>21</th>\n",
       "      <td>SLIM*SIG1</td>\n",
       "      <td>22</td>\n",
       "      <td>-5.072928</td>\n",
       "      <td>tensor(-1.7348)</td>\n",
       "    </tr>\n",
       "    <tr>\n",
       "      <th>28</th>\n",
       "      <td>SLIM*SIG1</td>\n",
       "      <td>29</td>\n",
       "      <td>-6.178970</td>\n",
       "      <td>tensor(-1.6681)</td>\n",
       "    </tr>\n",
       "    <tr>\n",
       "      <th>13</th>\n",
       "      <td>SLIM*SIG1</td>\n",
       "      <td>14</td>\n",
       "      <td>-4.500977</td>\n",
       "      <td>tensor(-1.6319)</td>\n",
       "    </tr>\n",
       "    <tr>\n",
       "      <th>11</th>\n",
       "      <td>SLIM*SIG1</td>\n",
       "      <td>12</td>\n",
       "      <td>-4.752262</td>\n",
       "      <td>tensor(-1.4907)</td>\n",
       "    </tr>\n",
       "    <tr>\n",
       "      <th>5</th>\n",
       "      <td>SLIM*SIG1</td>\n",
       "      <td>6</td>\n",
       "      <td>-3.095804</td>\n",
       "      <td>tensor(-1.4563)</td>\n",
       "    </tr>\n",
       "    <tr>\n",
       "      <th>10</th>\n",
       "      <td>SLIM*SIG1</td>\n",
       "      <td>11</td>\n",
       "      <td>-4.469654</td>\n",
       "      <td>tensor(-1.4441)</td>\n",
       "    </tr>\n",
       "    <tr>\n",
       "      <th>23</th>\n",
       "      <td>SLIM*SIG1</td>\n",
       "      <td>24</td>\n",
       "      <td>-4.107151</td>\n",
       "      <td>tensor(-1.4328)</td>\n",
       "    </tr>\n",
       "    <tr>\n",
       "      <th>22</th>\n",
       "      <td>SLIM*SIG1</td>\n",
       "      <td>23</td>\n",
       "      <td>-4.371014</td>\n",
       "      <td>tensor(-1.3764)</td>\n",
       "    </tr>\n",
       "    <tr>\n",
       "      <th>14</th>\n",
       "      <td>SLIM*SIG1</td>\n",
       "      <td>15</td>\n",
       "      <td>-4.565121</td>\n",
       "      <td>tensor(-1.3508)</td>\n",
       "    </tr>\n",
       "    <tr>\n",
       "      <th>25</th>\n",
       "      <td>SLIM*SIG1</td>\n",
       "      <td>26</td>\n",
       "      <td>-4.501995</td>\n",
       "      <td>tensor(-1.3057)</td>\n",
       "    </tr>\n",
       "    <tr>\n",
       "      <th>16</th>\n",
       "      <td>SLIM*SIG1</td>\n",
       "      <td>17</td>\n",
       "      <td>-4.466304</td>\n",
       "      <td>tensor(-1.2420)</td>\n",
       "    </tr>\n",
       "    <tr>\n",
       "      <th>27</th>\n",
       "      <td>SLIM*SIG1</td>\n",
       "      <td>28</td>\n",
       "      <td>-3.411212</td>\n",
       "      <td>tensor(-1.0986)</td>\n",
       "    </tr>\n",
       "    <tr>\n",
       "      <th>9</th>\n",
       "      <td>SLIM*SIG1</td>\n",
       "      <td>10</td>\n",
       "      <td>-5.796221</td>\n",
       "      <td>tensor(-0.9904)</td>\n",
       "    </tr>\n",
       "    <tr>\n",
       "      <th>26</th>\n",
       "      <td>SLIM*SIG1</td>\n",
       "      <td>27</td>\n",
       "      <td>-4.533707</td>\n",
       "      <td>tensor(-0.9422)</td>\n",
       "    </tr>\n",
       "    <tr>\n",
       "      <th>1</th>\n",
       "      <td>SLIM*SIG1</td>\n",
       "      <td>2</td>\n",
       "      <td>-4.898319</td>\n",
       "      <td>tensor(-0.9301)</td>\n",
       "    </tr>\n",
       "    <tr>\n",
       "      <th>18</th>\n",
       "      <td>SLIM*SIG1</td>\n",
       "      <td>19</td>\n",
       "      <td>-4.190572</td>\n",
       "      <td>tensor(-0.9162)</td>\n",
       "    </tr>\n",
       "    <tr>\n",
       "      <th>8</th>\n",
       "      <td>SLIM*SIG1</td>\n",
       "      <td>9</td>\n",
       "      <td>-3.538057</td>\n",
       "      <td>tensor(-0.7100)</td>\n",
       "    </tr>\n",
       "    <tr>\n",
       "      <th>4</th>\n",
       "      <td>SLIM*SIG1</td>\n",
       "      <td>5</td>\n",
       "      <td>-4.493616</td>\n",
       "      <td>tensor(-0.6319)</td>\n",
       "    </tr>\n",
       "    <tr>\n",
       "      <th>29</th>\n",
       "      <td>SLIM*SIG1</td>\n",
       "      <td>30</td>\n",
       "      <td>-5.373408</td>\n",
       "      <td>tensor(-0.2588)</td>\n",
       "    </tr>\n",
       "  </tbody>\n",
       "</table>\n",
       "</div>"
      ],
      "text/plain": [
       "   slim_version  outer_fold  grid_score        test_score\n",
       "17    SLIM*SIG1          18   -4.391149  tensor(-34.4727)\n",
       "15    SLIM*SIG1          16   -6.786210   tensor(-7.1474)\n",
       "6      SLIM*ABS           7   -7.762471   tensor(-5.8096)\n",
       "2     SLIM*SIG1           3   -5.021016   tensor(-5.5360)\n",
       "3     SLIM*SIG1           4   -7.234062   tensor(-2.6758)\n",
       "0     SLIM*SIG1           1   -3.260264   tensor(-2.6046)\n",
       "7     SLIM*SIG1           8   -3.289378   tensor(-2.1316)\n",
       "24    SLIM*SIG1          25   -4.426332   tensor(-1.9216)\n",
       "12    SLIM*SIG1          13   -4.406391   tensor(-1.8386)\n",
       "20    SLIM*SIG1          21   -5.202611   tensor(-1.7834)\n",
       "19    SLIM*SIG1          20   -5.397926   tensor(-1.7670)\n",
       "21    SLIM*SIG1          22   -5.072928   tensor(-1.7348)\n",
       "28    SLIM*SIG1          29   -6.178970   tensor(-1.6681)\n",
       "13    SLIM*SIG1          14   -4.500977   tensor(-1.6319)\n",
       "11    SLIM*SIG1          12   -4.752262   tensor(-1.4907)\n",
       "5     SLIM*SIG1           6   -3.095804   tensor(-1.4563)\n",
       "10    SLIM*SIG1          11   -4.469654   tensor(-1.4441)\n",
       "23    SLIM*SIG1          24   -4.107151   tensor(-1.4328)\n",
       "22    SLIM*SIG1          23   -4.371014   tensor(-1.3764)\n",
       "14    SLIM*SIG1          15   -4.565121   tensor(-1.3508)\n",
       "25    SLIM*SIG1          26   -4.501995   tensor(-1.3057)\n",
       "16    SLIM*SIG1          17   -4.466304   tensor(-1.2420)\n",
       "27    SLIM*SIG1          28   -3.411212   tensor(-1.0986)\n",
       "9     SLIM*SIG1          10   -5.796221   tensor(-0.9904)\n",
       "26    SLIM*SIG1          27   -4.533707   tensor(-0.9422)\n",
       "1     SLIM*SIG1           2   -4.898319   tensor(-0.9301)\n",
       "18    SLIM*SIG1          19   -4.190572   tensor(-0.9162)\n",
       "8     SLIM*SIG1           9   -3.538057   tensor(-0.7100)\n",
       "4     SLIM*SIG1           5   -4.493616   tensor(-0.6319)\n",
       "29    SLIM*SIG1          30   -5.373408   tensor(-0.2588)"
      ]
     },
     "execution_count": 13,
     "metadata": {},
     "output_type": "execute_result"
    }
   ],
   "source": [
    "summary.sort_values(by=\"test_score\")"
   ]
  },
  {
   "cell_type": "code",
   "execution_count": 14,
   "id": "d38cfe42",
   "metadata": {},
   "outputs": [],
   "source": [
    "# Log level 2\n",
    "# -----------\n",
    "# 0  - Algorithm\n",
    "# 1  - Instance ID\n",
    "# 2  - Dataset\n",
    "# 3  - Seed\n",
    "# 4  - Generation\n",
    "# 5  - Fitness\n",
    "# 6  - Running time\n",
    "# 7  - Population nodes\n",
    "# 8  - Test fitness\n",
    "# 9  - Elite nodes\n",
    "# 10 - Genotype diversity: gsgp_pop_div_from_vectors (Calculate the diversity of a population from semantic vectors)\n",
    "# 11 - Phenotype diversity: sd(pop.fit)\n",
    "# 12 - Log level\n",
    "\n",
    "fold_1_result=pd.read_csv(\"./results/SLIM/logs_best_params_fold_1\", header=None).head()"
   ]
  },
  {
   "cell_type": "code",
   "execution_count": 15,
   "id": "eb1b952e",
   "metadata": {},
   "outputs": [
    {
     "data": {
      "text/html": [
       "<div>\n",
       "<style scoped>\n",
       "    .dataframe tbody tr th:only-of-type {\n",
       "        vertical-align: middle;\n",
       "    }\n",
       "\n",
       "    .dataframe tbody tr th {\n",
       "        vertical-align: top;\n",
       "    }\n",
       "\n",
       "    .dataframe thead th {\n",
       "        text-align: right;\n",
       "    }\n",
       "</style>\n",
       "<table border=\"1\" class=\"dataframe\">\n",
       "  <thead>\n",
       "    <tr style=\"text-align: right;\">\n",
       "      <th></th>\n",
       "      <th>0</th>\n",
       "      <th>1</th>\n",
       "      <th>2</th>\n",
       "      <th>3</th>\n",
       "      <th>4</th>\n",
       "      <th>5</th>\n",
       "      <th>6</th>\n",
       "      <th>7</th>\n",
       "      <th>8</th>\n",
       "      <th>9</th>\n",
       "      <th>10</th>\n",
       "      <th>11</th>\n",
       "      <th>12</th>\n",
       "    </tr>\n",
       "  </thead>\n",
       "  <tbody>\n",
       "    <tr>\n",
       "      <th>0</th>\n",
       "      <td>SLIM+SIG2</td>\n",
       "      <td>2885fe11-35c1-11f0-ab72-c0bfbe084630</td>\n",
       "      <td>sustavianfeed</td>\n",
       "      <td>1111</td>\n",
       "      <td>0</td>\n",
       "      <td>15.209765</td>\n",
       "      <td>0.048923</td>\n",
       "      <td>1186.0</td>\n",
       "      <td>14.483480</td>\n",
       "      <td>3</td>\n",
       "      <td>89475.265625</td>\n",
       "      <td>55490.324000</td>\n",
       "      <td>2</td>\n",
       "    </tr>\n",
       "    <tr>\n",
       "      <th>1</th>\n",
       "      <td>SLIM+SIG2</td>\n",
       "      <td>2885fe11-35c1-11f0-ab72-c0bfbe084630</td>\n",
       "      <td>sustavianfeed</td>\n",
       "      <td>1111</td>\n",
       "      <td>1</td>\n",
       "      <td>14.872161</td>\n",
       "      <td>0.106219</td>\n",
       "      <td>3656.0</td>\n",
       "      <td>13.839700</td>\n",
       "      <td>16</td>\n",
       "      <td>127.850334</td>\n",
       "      <td>17.943619</td>\n",
       "      <td>2</td>\n",
       "    </tr>\n",
       "    <tr>\n",
       "      <th>2</th>\n",
       "      <td>SLIM+SIG2</td>\n",
       "      <td>2885fe11-35c1-11f0-ab72-c0bfbe084630</td>\n",
       "      <td>sustavianfeed</td>\n",
       "      <td>1111</td>\n",
       "      <td>2</td>\n",
       "      <td>14.732368</td>\n",
       "      <td>0.062658</td>\n",
       "      <td>3314.0</td>\n",
       "      <td>13.559328</td>\n",
       "      <td>27</td>\n",
       "      <td>308.502594</td>\n",
       "      <td>27.946726</td>\n",
       "      <td>2</td>\n",
       "    </tr>\n",
       "    <tr>\n",
       "      <th>3</th>\n",
       "      <td>SLIM+SIG2</td>\n",
       "      <td>2885fe11-35c1-11f0-ab72-c0bfbe084630</td>\n",
       "      <td>sustavianfeed</td>\n",
       "      <td>1111</td>\n",
       "      <td>3</td>\n",
       "      <td>14.369542</td>\n",
       "      <td>0.079895</td>\n",
       "      <td>3627.0</td>\n",
       "      <td>12.782021</td>\n",
       "      <td>46</td>\n",
       "      <td>119.292923</td>\n",
       "      <td>10.711985</td>\n",
       "      <td>2</td>\n",
       "    </tr>\n",
       "    <tr>\n",
       "      <th>4</th>\n",
       "      <td>SLIM+SIG2</td>\n",
       "      <td>2885fe11-35c1-11f0-ab72-c0bfbe084630</td>\n",
       "      <td>sustavianfeed</td>\n",
       "      <td>1111</td>\n",
       "      <td>4</td>\n",
       "      <td>14.335183</td>\n",
       "      <td>0.055604</td>\n",
       "      <td>3399.0</td>\n",
       "      <td>12.703944</td>\n",
       "      <td>42</td>\n",
       "      <td>4.917006</td>\n",
       "      <td>0.239674</td>\n",
       "      <td>2</td>\n",
       "    </tr>\n",
       "  </tbody>\n",
       "</table>\n",
       "</div>"
      ],
      "text/plain": [
       "          0                                     1              2     3   4   \\\n",
       "0  SLIM+SIG2  2885fe11-35c1-11f0-ab72-c0bfbe084630  sustavianfeed  1111   0   \n",
       "1  SLIM+SIG2  2885fe11-35c1-11f0-ab72-c0bfbe084630  sustavianfeed  1111   1   \n",
       "2  SLIM+SIG2  2885fe11-35c1-11f0-ab72-c0bfbe084630  sustavianfeed  1111   2   \n",
       "3  SLIM+SIG2  2885fe11-35c1-11f0-ab72-c0bfbe084630  sustavianfeed  1111   3   \n",
       "4  SLIM+SIG2  2885fe11-35c1-11f0-ab72-c0bfbe084630  sustavianfeed  1111   4   \n",
       "\n",
       "          5         6       7          8   9             10            11  12  \n",
       "0  15.209765  0.048923  1186.0  14.483480   3  89475.265625  55490.324000   2  \n",
       "1  14.872161  0.106219  3656.0  13.839700  16    127.850334     17.943619   2  \n",
       "2  14.732368  0.062658  3314.0  13.559328  27    308.502594     27.946726   2  \n",
       "3  14.369542  0.079895  3627.0  12.782021  46    119.292923     10.711985   2  \n",
       "4  14.335183  0.055604  3399.0  12.703944  42      4.917006      0.239674   2  "
      ]
     },
     "execution_count": 15,
     "metadata": {},
     "output_type": "execute_result"
    }
   ],
   "source": [
    "fold_1_result.head(20)"
   ]
  },
  {
   "cell_type": "code",
   "execution_count": 27,
   "id": "3b6da4a7",
   "metadata": {},
   "outputs": [
    {
     "data": {
      "application/vnd.plotly.v1+json": {
       "config": {
        "plotlyServerURL": "https://plot.ly"
       },
       "data": [
        {
         "line": {
          "color": "blue"
         },
         "mode": "lines",
         "name": "Train",
         "showlegend": true,
         "type": "scatter",
         "xaxis": "x",
         "y": {
          "bdata": "////n9yJLkD///+f3IkuQP///5/ciS5AAAAAABrbIkAAAAAAGtsiQAAAAAAa2yJAAAAAABrbIkAAAAAAGtsiQAAAAIAGlgtAAAAAgAaWC0AAAACABpYLQAEAAACJewtAAQAAAIl7C0AAAACgyU8DQAAAAKDJTwNA////v1o9/z////+/Wj3/P////79aPf8/////v1o9/z////+/Wj3/P////79aPf8/",
          "dtype": "f8"
         },
         "yaxis": "y"
        },
        {
         "line": {
          "color": "red"
         },
         "mode": "lines",
         "name": "Test",
         "showlegend": true,
         "type": "scatter",
         "xaxis": "x",
         "y": {
          "bdata": "AAAAoKVMJ0AAAACgpUwnQAAAAKClTCdAAAAAoDFRGkAAAACgMVEaQAAAAKAxURpAAAAAoDFRGkAAAACgMVEaQAAAAAAvAxVAAAAAAC8DFUAAAAAALwMVQAAAACBr8xRAAAAAIGvzFEABAADAmhv2PwEAAMCaG/Y/AAAAgDzWBEAAAACAPNYEQAAAAIA81gRAAAAAgDzWBEAAAACAPNYEQAAAAIA81gRA",
          "dtype": "f8"
         },
         "yaxis": "y"
        },
        {
         "line": {
          "color": "blue"
         },
         "mode": "lines",
         "name": "Train",
         "showlegend": false,
         "type": "scatter",
         "xaxis": "x2",
         "y": {
          "bdata": "AAAAgD4FLkAAAACAPgUuQAAAAIA+BS5AAAAAYC3gIkAAAABgLeAiQAAAAGAt4CJAAAAAYC3gIkAAAABgLeAiQAAAAMB9EgxAAAAAwH0SDEAAAADAfRIMQAAAAMB9EgxAAAAAwH0SDEAAAADAfRIMQAAAAMB9EgxAAAAAwH0SDEAAAADAfRIMQAAAAABBNQJAAAAAAEE1AkAAAAAAQTUCQAAAAABBNQJA",
          "dtype": "f8"
         },
         "yaxis": "y2"
        },
        {
         "line": {
          "color": "red"
         },
         "mode": "lines",
         "name": "Test",
         "showlegend": false,
         "type": "scatter",
         "xaxis": "x2",
         "y": {
          "bdata": "AAAAQIHHMUAAAABAgccxQAAAAECBxzFAAAAAoLj5GEAAAACguPkYQAAAAKC4+RhAAAAAoLj5GEAAAACguPkYQAAAAODE6BBAAAAA4MToEEAAAADgxOgQQAAAAODE6BBAAAAA4MToEEAAAADgxOgQQAAAAODE6BBAAAAA4MToEEAAAADgxOgQQAEAAOBlw+0/AQAA4GXD7T8BAADgZcPtPwEAAOBlw+0/",
          "dtype": "f8"
         },
         "yaxis": "y2"
        },
        {
         "line": {
          "color": "blue"
         },
         "mode": "lines",
         "name": "Train",
         "showlegend": false,
         "type": "scatter",
         "xaxis": "x3",
         "y": {
          "bdata": "AAAAINeMLkAAAAAg14wuQAAAACDXjC5AAAAAgNXNIkAAAACA1c0iQAAAAIDVzSJA////v8yIIkD///+/zIgiQP///7/MiCJAAAAAQGGAIkAAAABAYYAiQP///1+lfyJA////X6V/IkD///9fpX8iQAAAAICbXSJAAAAAgJtdIkAAAACAm10iQAAAAICbXSJAAAAAgJtdIkAAAACAm10iQAAAAICbXSJA",
          "dtype": "f8"
         },
         "yaxis": "y3"
        },
        {
         "line": {
          "color": "red"
         },
         "mode": "lines",
         "name": "Test",
         "showlegend": false,
         "type": "scatter",
         "xaxis": "x3",
         "y": {
          "bdata": "////3yLyJkD////fIvImQP///98i8iZAAAAAQEuIHUAAAABAS4gdQAAAAEBLiB1AAAAAQE89GkAAAABATz0aQAAAAEBPPRpAAAAAoEIfGEAAAACgQh8YQAAAAGD9YRhAAAAAYP1hGEAAAABg/WEYQAAAACDWJBZAAAAAINYkFkAAAAAg1iQWQAAAACDWJBZAAAAAINYkFkAAAAAg1iQWQAAAACDWJBZA",
          "dtype": "f8"
         },
         "yaxis": "y3"
        },
        {
         "line": {
          "color": "blue"
         },
         "mode": "lines",
         "name": "Train",
         "showlegend": false,
         "type": "scatter",
         "xaxis": "x4",
         "y": {
          "bdata": "AAAAwK/QLkAAAADAr9AuQAAAAMCv0C5AAAAAgKfRIkAAAACAp9EiQAAAAICn0SJAAAAAgKfRIkAAAACAp9EiQP///9/N2QxA////383ZDED////fzdkMQP///9/N2QxA////383ZDED///+fvOz/P////5+87P8/////n7zs/z////+fvOz/P////5+87P8/////n7zs/z////+fvOz/P////5+87P8/",
          "dtype": "f8"
         },
         "yaxis": "y4"
        },
        {
         "line": {
          "color": "red"
         },
         "mode": "lines",
         "name": "Test",
         "showlegend": false,
         "type": "scatter",
         "xaxis": "x4",
         "y": {
          "bdata": "AAAAgMSxGEAAAACAxLEYQAAAAIDEsRhAAAAAwASlHEAAAADABKUcQAAAAMAEpRxAAAAAwASlHEAAAADABKUcQAEAAODiTfY/AQAA4OJN9j8BAADg4k32PwEAAODiTfY/AQAA4OJN9j8AAABAEGgFQAAAAEAQaAVAAAAAQBBoBUAAAABAEGgFQAAAAEAQaAVAAAAAQBBoBUAAAABAEGgFQAAAAEAQaAVA",
          "dtype": "f8"
         },
         "yaxis": "y4"
        },
        {
         "line": {
          "color": "blue"
         },
         "mode": "lines",
         "name": "Train",
         "showlegend": false,
         "type": "scatter",
         "xaxis": "x5",
         "y": {
          "bdata": "AQAA4DuILkABAADgO4guQAEAAOA7iC5AAAAAQLHQIkAAAABAsdAiQAAAAECx0CJAAAAAQLHQIkAAAABAsdAiQAEAAACnmwxAAQAAAKebDEABAAAAp5sMQAAAAKAcgQxAAAAAoByBDEAAAABAjjsDQAAAAECOOwNAAAAAQFAxAEAAAABAUDEAQAAAAEBQMQBAAAAAQFAxAEAAAADgOiIAQAAAAOA6IgBA",
          "dtype": "f8"
         },
         "yaxis": "y5"
        },
        {
         "line": {
          "color": "red"
         },
         "mode": "lines",
         "name": "Test",
         "showlegend": false,
         "type": "scatter",
         "xaxis": "x5",
         "y": {
          "bdata": "AAAAYIF9J0AAAABggX0nQAAAAGCBfSdAAAAA4OveHEAAAADg694cQAAAAODr3hxAAAAA4OveHEAAAADg694cQAAAAACmGQVAAAAAAKYZBUAAAAAAphkFQAAAACDw+QRAAAAAIPD5BEAAAABgHbv7PwAAAGAdu/s/////fz8N3z////9/Pw3fP////38/Dd8/////fz8N3z8AAAAgXTjkPwAAACBdOOQ/",
          "dtype": "f8"
         },
         "yaxis": "y5"
        },
        {
         "line": {
          "color": "blue"
         },
         "mode": "lines",
         "name": "Train",
         "showlegend": false,
         "type": "scatter",
         "xaxis": "x6",
         "y": {
          "bdata": "AAAAIBxNLkAAAAAgHE0uQAAAACAcTS5AAAAAIMx0IkAAAAAgzHQiQAAAACDMdCJAAAAAIMx0IkAAAAAgzHQiQAEAAADnlgxAAQAAAOeWDEABAAAA55YMQAAAAIBBfAxAAAAAgEF8DEAAAAAgoBIDQAAAACCgEgNAAAAAYEIOAEAAAABgQg4AQP///1/u+/8/////X+77/z////9f7vv/P////1/u+/8/",
          "dtype": "f8"
         },
         "yaxis": "y6"
        },
        {
         "line": {
          "color": "red"
         },
         "mode": "lines",
         "name": "Test",
         "showlegend": false,
         "type": "scatter",
         "xaxis": "x6",
         "y": {
          "bdata": "////X0uULUD///9fS5QtQP///19LlC1AAQAAoMS3JkABAACgxLcmQAEAAKDEtyZAAQAAoMS3JkABAACgxLcmQAAAAAC7qwVAAAAAALurBUAAAAAAu6sFQAAAAKCQjwVAAAAAoJCPBUAAAACAWUACQAAAAIBZQAJAAAAAAFGZ9T8AAAAAUZn1PwAAAGD8TPc/AAAAYPxM9z8AAABg/Ez3PwAAAGD8TPc/",
          "dtype": "f8"
         },
         "yaxis": "y6"
        },
        {
         "line": {
          "color": "blue"
         },
         "mode": "lines",
         "name": "Train",
         "showlegend": false,
         "type": "scatter",
         "xaxis": "x7",
         "y": {
          "bdata": "AAAAYPd7LkAAAABg93suQAAAAGD3ey5AAAAAgMLTIkAAAACAwtMiQAAAAIDC0yJAAAAAgMLTIkAAAACAwtMiQAAAAIDC0yJAAAAAgMLTIkAAAACAwtMiQAAAAIDC0yJAAAAAgMLTIkAAAACAwtMiQAAAAIDC0yJAAAAAgMLTIkAAAACAwtMiQAAAAIDC0yJAAAAAQD9+IkAAAABAP34iQAAAAEA/fiJA",
          "dtype": "f8"
         },
         "yaxis": "y7"
        },
        {
         "line": {
          "color": "red"
         },
         "mode": "lines",
         "name": "Test",
         "showlegend": false,
         "type": "scatter",
         "xaxis": "x7",
         "y": {
          "bdata": "AAAAABi1JkAAAAAAGLUmQAAAAAAYtSZAAAAAYIC1GkAAAABggLUaQAAAAGCAtRpAAAAAYIC1GkAAAABggLUaQAAAAGCAtRpAAAAAYIC1GkAAAABggLUaQAAAAGCAtRpAAAAAYIC1GkAAAABggLUaQAAAAGCAtRpAAAAAYIC1GkAAAABggLUaQAAAAGCAtRpAAQAAIAo9F0ABAAAgCj0XQAEAACAKPRdA",
          "dtype": "f8"
         },
         "yaxis": "y7"
        },
        {
         "line": {
          "color": "blue"
         },
         "mode": "lines",
         "name": "Train",
         "showlegend": false,
         "type": "scatter",
         "xaxis": "x8",
         "y": {
          "bdata": "AAAAYD2cLkAAAABgPZwuQAAAAGA9nC5A////32LNIkD////fYs0iQP///99izSJA////32LNIkD////fYs0iQAAAAIAZmQxAAAAAgBmZDEAAAACAGZkMQAAAAKB5fgxAAAAAoHl+DED/////kRkDQP////+RGQNA/////5EZA0D/////kRkDQP////+RGQNA/////5EZA0D/////kRkDQP////+RGQNA",
          "dtype": "f8"
         },
         "yaxis": "y8"
        },
        {
         "line": {
          "color": "red"
         },
         "mode": "lines",
         "name": "Test",
         "showlegend": false,
         "type": "scatter",
         "xaxis": "x8",
         "y": {
          "bdata": "AAAAwJyjIEAAAADAnKMgQAAAAMCcoyBAAAAAwCZzGkAAAADAJnMaQAAAAMAmcxpAAAAAwCZzGkAAAADAJnMaQAEAAED4ZQJAAQAAQPhlAkABAABA+GUCQAAAAMDdRgJAAAAAwN1GAkAAAACAdg0BQAAAAIB2DQFAAAAAgHYNAUAAAACAdg0BQAAAAIB2DQFAAAAAgHYNAUAAAACAdg0BQAAAAIB2DQFA",
          "dtype": "f8"
         },
         "yaxis": "y8"
        },
        {
         "line": {
          "color": "blue"
         },
         "mode": "lines",
         "name": "Train",
         "showlegend": false,
         "type": "scatter",
         "xaxis": "x9",
         "y": {
          "bdata": "AAAAIMNxLkAAAAAgw3EuQAAAACDDcS5A/////8PQIkD/////w9AiQP/////D0CJA/////8PQIkD/////w9AiQAAAAGCxaAxAAAAAYLFoDEAAAABgsWgMQAAAAIAqTgxAAAAAgCpODEAAAADgtUADQAAAAOC1QANAAQAAAG0VAEABAAAAbRUAQAAAAGBRDgBAAAAAYFEOAEAAAABgUQ4AQAAAAGBRDgBA",
          "dtype": "f8"
         },
         "yaxis": "y9"
        },
        {
         "line": {
          "color": "red"
         },
         "mode": "lines",
         "name": "Test",
         "showlegend": false,
         "type": "scatter",
         "xaxis": "x9",
         "y": {
          "bdata": "AAAA4AZPKEAAAADgBk8oQAAAAOAGTyhAAAAAgEdCGUAAAACAR0IZQAAAAIBHQhlAAAAAgEdCGUAAAACAR0IZQAAAACCL7wlAAAAAIIvvCUAAAAAgi+8JQAAAAOAj0AlAAAAA4CPQCUD///+fvOH0P////5+84fQ/AAAA4E/T6T8AAADgT9PpPwAAAOC0uOY/AAAA4LS45j8AAADgtLjmPwAAAOC0uOY/",
          "dtype": "f8"
         },
         "yaxis": "y9"
        },
        {
         "line": {
          "color": "blue"
         },
         "mode": "lines",
         "name": "Train",
         "showlegend": false,
         "type": "scatter",
         "xaxis": "x10",
         "y": {
          "bdata": "AQAAoGSvLkABAACgZK8uQAEAAKBkry5AAAAAQEfdIkAAAABAR90iQAAAAEBH3SJAAAAAQEfdIkAAAABAR90iQAAAAADoXgxAAAAAAOheDEAAAAAA6F4MQAAAAADoXgxAAAAAAOheDED///8/BGkAQP///z8EaQBA////PwRpAEAAAACgmDQAQAAAAIBBNABAAAAAgEE0AEAAAACAQTQAQAAAAIBBNABA",
          "dtype": "f8"
         },
         "yaxis": "y10"
        },
        {
         "line": {
          "color": "red"
         },
         "mode": "lines",
         "name": "Test",
         "showlegend": false,
         "type": "scatter",
         "xaxis": "x10",
         "y": {
          "bdata": "AAAAgEI2F0AAAACAQjYXQAAAAIBCNhdAAAAAwFw9FEAAAADAXD0UQAAAAMBcPRRAAAAAwFw9FEAAAADAXD0UQAAAAOC1MwtAAAAA4LUzC0AAAADgtTMLQAAAAOC1MwtAAAAA4LUzC0AAAACAjoHxPwAAAICOgfE/AAAAgI6B8T8BAABA5rjvP////9+Tse8/////35Ox7z/////fk7HvP////9+Tse8/",
          "dtype": "f8"
         },
         "yaxis": "y10"
        },
        {
         "line": {
          "color": "blue"
         },
         "mode": "lines",
         "name": "Train",
         "showlegend": false,
         "type": "scatter",
         "xaxis": "x11",
         "y": {
          "bdata": "AAAAwC+sLkAAAADAL6wuQAAAAMAvrC5AAAAAgALuIkAAAACAAu4iQAAAAIAC7iJAAAAAgALuIkAAAACAAu4iQAAAAGDVngxAAAAAYNWeDEAAAABg1Z4MQAAAACAkhAxAAAAAICSEDEAAAAAgJIQMQAAAACAkhAxAAAAA4GE5A0AAAADgYTkDQAAAAOBhOQNAAAAAgBPo/z8AAAAAdNz/PwEAAIA/3P8/",
          "dtype": "f8"
         },
         "yaxis": "y11"
        },
        {
         "line": {
          "color": "red"
         },
         "mode": "lines",
         "name": "Test",
         "showlegend": false,
         "type": "scatter",
         "xaxis": "x11",
         "y": {
          "bdata": "AAAAIEsuGUAAAAAgSy4ZQAAAACBLLhlAAAAAgOlUBEAAAACA6VQEQAAAAIDpVARAAAAAgOlUBEAAAACA6VQEQAEAAMD3SAFAAQAAwPdIAUABAADA90gBQP////9jLAFA/////2MsAUD/////YywBQP////9jLAFAAAAAQNqC8D8AAABA2oLwPwAAAEDagvA/////n7xo+D8AAADgskv3PwAAAEAEG/c/",
          "dtype": "f8"
         },
         "yaxis": "y11"
        },
        {
         "line": {
          "color": "blue"
         },
         "mode": "lines",
         "name": "Train",
         "showlegend": false,
         "type": "scatter",
         "xaxis": "x12",
         "y": {
          "bdata": "AAAAQE5jLkAAAABATmMuQAAAAEBOYy5AAAAAINfFIkAAAAAg18UiQAAAACDXxSJAAAAAINfFIkAAAAAg18UiQAAAAEBHLgxAAAAAQEcuDEAAAABARy4MQAAAAIDPEwxAAAAAgM8TDEAAAACADVcDQAAAAIANVwNAAAAAgA1XA0AAAACADVcDQAAAAGA9iQBAAAAAYD2JAEABAACgSiUAQAEAAKBKJQBA",
          "dtype": "f8"
         },
         "yaxis": "y12"
        },
        {
         "line": {
          "color": "red"
         },
         "mode": "lines",
         "name": "Test",
         "showlegend": false,
         "type": "scatter",
         "xaxis": "x12",
         "y": {
          "bdata": "AAAAwJFoKkAAAADAkWgqQAAAAMCRaCpAAAAAIP7tHEAAAAAg/u0cQAAAACD+7RxAAAAAIP7tHEAAAAAg/u0cQAAAAKDEYBBAAAAAoMRgEEAAAACgxGAQQAAAAMCuUBBAAAAAwK5QEEAAAAAAcSjRPwAAAABxKNE/AAAAAHEo0T8AAAAAcSjRPwAAAIDdrPs/AAAAgN2s+z8AAABA3Nn3PwAAAEDc2fc/",
          "dtype": "f8"
         },
         "yaxis": "y12"
        },
        {
         "line": {
          "color": "blue"
         },
         "mode": "lines",
         "name": "Train",
         "showlegend": false,
         "type": "scatter",
         "xaxis": "x13",
         "y": {
          "bdata": "AAAAIMikLkAAAAAgyKQuQAAAACDIpC5AAAAAwAvKIkAAAADAC8oiQAAAAMALyiJAAAAAwAvKIkAAAADAC8oiQAAAAMDDWgxAAAAAwMNaDEAAAADAw1oMQAAAACAfQAxAAAAAIB9ADEAAAAAgH0AMQAAAACAfQAxAAQAAoMoBA0ABAACgygEDQAEAAKDKAQNAAAAA4G3E/z8AAACgebL/P/////8rsf8/",
          "dtype": "f8"
         },
         "yaxis": "y13"
        },
        {
         "line": {
          "color": "red"
         },
         "mode": "lines",
         "name": "Test",
         "showlegend": false,
         "type": "scatter",
         "xaxis": "x13",
         "y": {
          "bdata": "AAAAQCw5HUAAAABALDkdQAAAAEAsOR1AAAAAQFeTG0AAAABAV5MbQAAAAEBXkxtAAAAAQFeTG0AAAABAV5MbQAAAAEBRuAtAAAAAQFG4C0AAAABAUbgLQAEAAKAFnQtAAQAAoAWdC0ABAACgBZ0LQAEAAKAFnQtAAAAAoMMKAkAAAACgwwoCQAAAAKDDCgJA/v//H8SB/T8AAADAjmz9PwAAACDVav0/",
          "dtype": "f8"
         },
         "yaxis": "y13"
        },
        {
         "line": {
          "color": "blue"
         },
         "mode": "lines",
         "name": "Train",
         "showlegend": false,
         "type": "scatter",
         "xaxis": "x14",
         "y": {
          "bdata": "AAAAACaFLkAAAAAAJoUuQAAAAAAmhS5AAAAAgCvAIkAAAACAK8AiQAAAAIArwCJAAAAAgCvAIkAAAACAK8AiQAAAAABNeAxAAAAAAE14DEAAAAAATXgMQAAAAEC+XQxAAAAAQL5dDEAAAACA3zIDQAAAAIDfMgNAAAAAgN8yA0AAAACA3zIDQAAAAIDfMgNAAAAAYFYgA0AAAABgViADQAAAAGBWIANA",
          "dtype": "f8"
         },
         "yaxis": "y14"
        },
        {
         "line": {
          "color": "red"
         },
         "mode": "lines",
         "name": "Test",
         "showlegend": false,
         "type": "scatter",
         "xaxis": "x14",
         "y": {
          "bdata": "AAAAgEQpJUAAAACARCklQAAAAIBEKSVAAAAAwMGoHkAAAADAwageQAAAAMDBqB5AAAAAwMGoHkAAAADAwageQAAAAEDixQdAAAAAQOLFB0AAAABA4sUHQAAAAODkpgdAAAAA4OSmB0AAAAAg6Vb6PwAAACDpVvo/AAAAIOlW+j8AAAAg6Vb6PwAAACDpVvo/AAAAQFgc+j8AAABAWBz6PwAAAEBYHPo/",
          "dtype": "f8"
         },
         "yaxis": "y14"
        },
        {
         "line": {
          "color": "blue"
         },
         "mode": "lines",
         "name": "Train",
         "showlegend": false,
         "type": "scatter",
         "xaxis": "x15",
         "y": {
          "bdata": "AQAAoGpyLkABAACganIuQAEAAKBqci5AAQAAoGrNIkABAACgas0iQAEAAKBqzSJAAQAAoGrNIkABAACgas0iQAAAAMDAigxAAAAAwMCKDEAAAADAwIoMQAAAAOAccAxAAAAA4BxwDEAAAADgHHAMQAAAAOAccAxAAAAAYNguA0AAAABg2C4DQAAAAGDYLgNAAQAAILb4/z8BAAAgtvj/PwEAACC2+P8/",
          "dtype": "f8"
         },
         "yaxis": "y15"
        },
        {
         "line": {
          "color": "red"
         },
         "mode": "lines",
         "name": "Test",
         "showlegend": false,
         "type": "scatter",
         "xaxis": "x15",
         "y": {
          "bdata": "AAAA4JM1KEAAAADgkzUoQAAAAOCTNShAAAAA4G9wGkAAAADgb3AaQAAAAOBvcBpAAAAA4G9wGkAAAADgb3AaQAAAAOA/7ARAAAAA4D/sBEAAAADgP+wEQAAAAOBazwRAAAAA4FrPBEAAAADgWs8EQAAAAOBazwRAAAAAAPul9T8AAAAA+6X1PwAAAAD7pfU/AAAAQPWc9T8AAABA9Zz1PwAAAED1nPU/",
          "dtype": "f8"
         },
         "yaxis": "y15"
        },
        {
         "line": {
          "color": "blue"
         },
         "mode": "lines",
         "name": "Train",
         "showlegend": false,
         "type": "scatter",
         "xaxis": "x16",
         "y": {
          "bdata": "AAAA4HepLkAAAADgd6kuQAAAAOB3qS5AAAAAgA2TIkAAAACADZMiQAAAAIANkyJAAAAAgA2TIkAAAACADZMiQAAAAOBKWQtAAAAA4EpZC0AAAADgSlkLQAAAAOBKWQtAAAAAwCTOAED///+/g1b8PwAAAOBCRfw/AAAA4Khn+T8AAADgqGf5PwAAAOCoZ/k/AAAA4Khn+T8AAADgqGf5PwAAAOCoZ/k/",
          "dtype": "f8"
         },
         "yaxis": "y16"
        },
        {
         "line": {
          "color": "red"
         },
         "mode": "lines",
         "name": "Test",
         "showlegend": false,
         "type": "scatter",
         "xaxis": "x16",
         "y": {
          "bdata": "AAAAQIe8GkAAAABAh7waQAAAAECHvBpAAAAAoE3zJEAAAACgTfMkQAAAAKBN8yRAAAAAoE3zJEAAAACgTfMkQAAAAECSBhlAAAAAQJIGGUAAAABAkgYZQAAAAECSBhlAAAAAwGSIIUAAAABAmsEbQAAAAIBrxhtAAAAAwOSWHEAAAADA5JYcQAAAAMDklhxAAAAAwOSWHEAAAADA5JYcQAAAAMDklhxA",
          "dtype": "f8"
         },
         "yaxis": "y16"
        },
        {
         "line": {
          "color": "blue"
         },
         "mode": "lines",
         "name": "Train",
         "showlegend": false,
         "type": "scatter",
         "xaxis": "x17",
         "y": {
          "bdata": "AAAAoCNeLkAAAACgI14uQAAAAKAjXi5A/////xitIkD/////GK0iQP////8YrSJA/////xitIkD/////GK0iQAAAAAAuhQxAAAAAAC6FDEAAAAAALoUMQAAAAOCPagxAAAAA4I9qDEAAAADgj2oMQAAAAOCPagxAAAAAYBktA0AAAABgGS0DQAAAAGAZLQNAAQAAYAQBAEABAABgBAEAQAEAAGAEAQBA",
          "dtype": "f8"
         },
         "yaxis": "y17"
        },
        {
         "line": {
          "color": "red"
         },
         "mode": "lines",
         "name": "Test",
         "showlegend": false,
         "type": "scatter",
         "xaxis": "x17",
         "y": {
          "bdata": "////P1UeK0D///8/VR4rQP///z9VHitAAAAAYLntIUAAAABgue0hQAAAAGC57SFAAAAAYLntIUAAAABgue0hQAAAAMDo0gVAAAAAwOjSBUAAAADA6NIFQAAAAKBztQVAAAAAoHO1BUAAAACgc7UFQAAAAKBztQVAAQAAoJNi9j8BAACgk2L2PwEAAKCTYvY/////fzbf8z////9/Nt/zP////3823/M/",
          "dtype": "f8"
         },
         "yaxis": "y17"
        },
        {
         "line": {
          "color": "blue"
         },
         "mode": "lines",
         "name": "Train",
         "showlegend": false,
         "type": "scatter",
         "xaxis": "x18",
         "y": {
          "bdata": "AAAAICPHJ0AAAABAfsAnQAAAAEB+wCdAAAAAwKGuHEAAAADAoa4cQAAAAMChrhxAAAAAwKGuHEAAAADAoa4cQAAAAGDQrxtAAAAAYNCvG0AAAADAG64bQAAAAMAbrhtAAAAAwBuuG0AAAADAG64bQAAAAMAbrhtAAAAAwBuuG0AAAADAG64bQAAAAMAbrhtAAAAAwBuuG0AAAADAG64bQAAAAMAbrhtA",
          "dtype": "f8"
         },
         "yaxis": "y18"
        },
        {
         "line": {
          "color": "red"
         },
         "mode": "lines",
         "name": "Test",
         "showlegend": false,
         "type": "scatter",
         "xaxis": "x18",
         "y": {
          "bdata": "AAAAYCsnS0AAAABg8WRTQAAAAGDxZFNAAAAAYNw+QUAAAABg3D5BQAAAAGDcPkFAAAAAYNw+QUAAAABg3D5BQAAAACDpPEFAAAAAIOk8QUAAAABggDxBQAAAAGCAPEFAAAAAYIA8QUAAAABggDxBQAAAAGCAPEFAAAAAYIA8QUAAAABggDxBQAAAAGCAPEFAAAAAYIA8QUAAAABggDxBQAAAAGCAPEFA",
          "dtype": "f8"
         },
         "yaxis": "y18"
        },
        {
         "line": {
          "color": "blue"
         },
         "mode": "lines",
         "name": "Train",
         "showlegend": false,
         "type": "scatter",
         "xaxis": "x19",
         "y": {
          "bdata": "AAAAYBQ/LkAAAABgFD8uQAAAAGAUPy5AAAAAgHPSIkAAAACAc9IiQAAAAIBz0iJAAAAAgHPSIkAAAACAc9IiQAEAAOB9hAxAAQAA4H2EDEABAADgfYQMQAEAAIDmaQxAAQAAgOZpDEAAAAAgnyQDQAAAACCfJANAAAAAIJ8kA0AAAAAgnyQDQAAAAGDdqgBAAAAAYN2qAEAAAADg3DsAQAAAAODcOwBA",
          "dtype": "f8"
         },
         "yaxis": "y19"
        },
        {
         "line": {
          "color": "red"
         },
         "mode": "lines",
         "name": "Test",
         "showlegend": false,
         "type": "scatter",
         "xaxis": "x19",
         "y": {
          "bdata": "AAAAIOAJL0AAAAAg4AkvQAAAACDgCS9AAAAAQJqkGEAAAABAmqQYQAAAAECapBhAAAAAQJqkGEAAAABAmqQYQP////+y7gVA/////7LuBUD/////su4FQP///1870AVA////XzvQBUABAABAdPX+PwEAAEB09f4/AQAAQHT1/j8BAABAdPX+PwAAAIAtAu4/AAAAgC0C7j8AAABgIlHtPwAAAGAiUe0/",
          "dtype": "f8"
         },
         "yaxis": "y19"
        },
        {
         "line": {
          "color": "blue"
         },
         "mode": "lines",
         "name": "Train",
         "showlegend": false,
         "type": "scatter",
         "xaxis": "x20",
         "y": {
          "bdata": "AAAAwMgOLkAAAADAyA4uQAAAAMDIDi5AAAAAoNW7IkAAAACg1bsiQAAAAKDVuyJAAAAAoNW7IkAAAACg1bsiQAAAAMBLdwxAAAAAwEt3DEAAAADAS3cMQP///x+aXAxA////H5pcDED///8fmlwMQAAAAADwOQxAAAAAAPA5DEAAAAAg8JMAQAAAACDwkwBAAAAAIPCTAEAAAAAg8JMAQAAAACDwkwBA",
          "dtype": "f8"
         },
         "yaxis": "y20"
        },
        {
         "line": {
          "color": "red"
         },
         "mode": "lines",
         "name": "Test",
         "showlegend": false,
         "type": "scatter",
         "xaxis": "x20",
         "y": {
          "bdata": "AAAAIIsjMkAAAAAgiyMyQAAAACCLIzJAAAAAAMjqH0AAAAAAyOofQAAAAADI6h9AAAAAAMjqH0AAAAAAyOofQAAAAAAc6wdAAAAAABzrB0AAAAAAHOsHQAEAAAAn0QdAAQAAACfRB0ABAAAAJ9EHQAAAAKCvrgdAAAAAoK+uB0AAAADAs0X8PwAAAMCzRfw/AAAAwLNF/D8AAADAs0X8PwAAAMCzRfw/",
          "dtype": "f8"
         },
         "yaxis": "y20"
        },
        {
         "line": {
          "color": "blue"
         },
         "mode": "lines",
         "name": "Train",
         "showlegend": false,
         "type": "scatter",
         "xaxis": "x21",
         "y": {
          "bdata": "////fyblLUD///9/JuUtQP///38m5S1AAAAAgHrRIkAAAACAetEiQAAAAIB60SJAAAAAgHrRIkAAAACAetEiQAAAAIAbMgxAAAAAgBsyDEAAAACAGzIMQAAAAOCaFwxAAAAA4JoXDEAAAADgmhcMQAAAAMAj9QtAAAAAwCP1C0AAAABAq7YGQAAAAEDBXwBAAAAAQMFfAEAAAABAwV8AQAAAAEDBXwBA",
          "dtype": "f8"
         },
         "yaxis": "y21"
        },
        {
         "line": {
          "color": "red"
         },
         "mode": "lines",
         "name": "Test",
         "showlegend": false,
         "type": "scatter",
         "xaxis": "x21",
         "y": {
          "bdata": "AAAAwD4dNEAAAADAPh00QAAAAMA+HTRAAAAAQA8AGUAAAABADwAZQAAAAEAPABlAAAAAQA8AGUAAAABADwAZQAAAAMBiLRBAAAAAwGItEEAAAADAYi0QQAAAAMDBHRBAAAAAwMEdEEAAAADAwR0QQAAAAMDUCRBAAAAAwNQJEEAAAABAXif3PwAAAGABifw/AAAAYAGJ/D8AAABgAYn8PwAAAGABifw/",
          "dtype": "f8"
         },
         "yaxis": "y21"
        },
        {
         "line": {
          "color": "blue"
         },
         "mode": "lines",
         "name": "Train",
         "showlegend": false,
         "type": "scatter",
         "xaxis": "x22",
         "y": {
          "bdata": "AAAAgHEYLkAAAACAcRguQAAAAIBxGC5AAAAAAFraIkAAAAAAWtoiQAAAAABa2iJAAAAAAFraIkAAAAAAWtoiQAAAAOD1LwxAAAAA4PUvDEAAAADg9S8MQAAAAIBxFQxAAAAAgHEVDEAAAADgHUQDQAAAAOAdRANAAAAA4B1EA0AAAADgHUQDQAAAAOAKfgBAAAAA4Ap+AEAAAACAYhgAQAAAAIBiGABA",
          "dtype": "f8"
         },
         "yaxis": "y22"
        },
        {
         "line": {
          "color": "red"
         },
         "mode": "lines",
         "name": "Test",
         "showlegend": false,
         "type": "scatter",
         "xaxis": "x22",
         "y": {
          "bdata": "AAAAgLWlMUAAAACAtaUxQAAAAIC1pTFAAAAAoBiFFUAAAACgGIUVQAAAAKAYhRVAAAAAoBiFFUAAAACgGIUVQAAAAOBEShBAAAAA4ERKEEAAAADgREoQQAAAAADYOhBAAAAAANg6EEAAAADA3UzzPwAAAMDdTPM/AAAAwN1M8z8AAADA3UzzPwAAAKDhvf4/AAAAoOG9/j8AAADAu8H7PwAAAMC7wfs/",
          "dtype": "f8"
         },
         "yaxis": "y22"
        },
        {
         "line": {
          "color": "blue"
         },
         "mode": "lines",
         "name": "Train",
         "showlegend": false,
         "type": "scatter",
         "xaxis": "x23",
         "y": {
          "bdata": "////fxapLkD///9/FqkuQP///38WqS5AAAAA4AF+IkAAAADgAX4iQAAAAOABfiJAAAAA4AF+IkAAAADgAX4iQAAAAIB2JwxAAAAAgHYnDEAAAACAdicMQAAAAOD1DAxAAAAA4PUMDEAAAADg9QwMQAAAAOD1DAxAAAAAQEfoAkAAAABAR+gCQAAAAACR3AJAAAAAAJHcAkAAAACANAAAQAAAAIA0AABA",
          "dtype": "f8"
         },
         "yaxis": "y23"
        },
        {
         "line": {
          "color": "red"
         },
         "mode": "lines",
         "name": "Test",
         "showlegend": false,
         "type": "scatter",
         "xaxis": "x23",
         "y": {
          "bdata": "AAAAwG3yGkAAAADAbfIaQAAAAMBt8hpA////X1UYJ0D///9fVRgnQP///19VGCdA////X1UYJ0D///9fVRgnQAAAAECmuhBAAAAAQKa6EEAAAABAproQQAAAAKAHqxBAAAAAoAerEEAAAACgB6sQQAAAAKAHqxBAAQAAIA8KBUABAAAgDwoFQAAAACDp9QRAAAAAIOn1BEAAAABg6QX2PwAAAGDpBfY/",
          "dtype": "f8"
         },
         "yaxis": "y23"
        },
        {
         "line": {
          "color": "blue"
         },
         "mode": "lines",
         "name": "Train",
         "showlegend": false,
         "type": "scatter",
         "xaxis": "x24",
         "y": {
          "bdata": "AQAAQI2aLkABAABAjZouQAEAAECNmi5AAAAAYDLgIkAAAABgMuAiQAAAAGAy4CJAAAAAYDLgIkAAAABgMuAiQAAAAOBUYAxAAAAA4FRgDEAAAADgVGAMQAAAAIDLRQxAAAAAgMtFDEAAAABAbzsDQAAAAEBvOwNAAAAAQG87A0AAAABAbzsDQAAAAEBvOwNA////v8IoA0D///+/wigDQP///7/CKANA",
          "dtype": "f8"
         },
         "yaxis": "y24"
        },
        {
         "line": {
          "color": "red"
         },
         "mode": "lines",
         "name": "Test",
         "showlegend": false,
         "type": "scatter",
         "xaxis": "x24",
         "y": {
          "bdata": "AAAAgNcCIUAAAACA1wIhQAAAAIDXAiFAAAAAACDgEkAAAAAAIOASQAAAAAAg4BJAAAAAACDgEkAAAAAAIOASQAAAACB/BQtAAAAAIH8FC0AAAAAgfwULQAAAAOCo5gpAAAAA4KjmCkAAAACgAx73PwAAAKADHvc/AAAAoAMe9z8AAACgAx73PwAAAKADHvc/AAAAgOHs9j8AAACA4ez2PwAAAIDh7PY/",
          "dtype": "f8"
         },
         "yaxis": "y24"
        },
        {
         "line": {
          "color": "blue"
         },
         "mode": "lines",
         "name": "Train",
         "showlegend": false,
         "type": "scatter",
         "xaxis": "x25",
         "y": {
          "bdata": "AAAA4JihLkAAAADgmKEuQAAAAOCYoS5AAAAAANLxIkAAAAAA0vEiQAAAAADS8SJAAAAAANLxIkAAAAAA0vEiQAAAAKAacwxAAAAAoBpzDEAAAACgGnMMQAEAACBoWAxAAQAAIGhYDEABAAAgaFgMQAEAACBoWAxAAAAAgOkPA0AAAACA6Q8DQAAAAIDpDwNAAAAAoGu2/z////8/haf/PwAAACDBpv8/",
          "dtype": "f8"
         },
         "yaxis": "y25"
        },
        {
         "line": {
          "color": "red"
         },
         "mode": "lines",
         "name": "Test",
         "showlegend": false,
         "type": "scatter",
         "xaxis": "x25",
         "y": {
          "bdata": "AAAA4EnMHkAAAADgScweQAAAAOBJzB5AAAAAQJEg9z8AAABAkSD3PwAAAECRIPc/AAAAQJEg9z8AAABAkSD3PwEAAKDKgwhAAQAAoMqDCEABAACgyoMIQAAAAOAQaghAAAAA4BBqCEAAAADgEGoIQAAAAOAQaghAAAAAgDYjAEAAAACANiMAQAAAAIA2IwBA////f01H/z//////q9H+P////7/Wvv4/",
          "dtype": "f8"
         },
         "yaxis": "y25"
        },
        {
         "line": {
          "color": "blue"
         },
         "mode": "lines",
         "name": "Train",
         "showlegend": false,
         "type": "scatter",
         "xaxis": "x26",
         "y": {
          "bdata": "////fyacLkD///9/JpwuQP///38mnC5A////333qIkD////ffeoiQP///9996iJA////333qIkD////ffeoiQAAAAGCekQxAAAAAYJ6RDEAAAABgnpEMQAAAAKD1dgxAAAAAoPV2DEAAAACg9XYMQAAAAKD1dgxAAAAAIOUyA0AAAAAg5TIDQAAAACDlMgNAAAAAgAz3/z8AAACAbOn/PwAAAMDd6P8/",
          "dtype": "f8"
         },
         "yaxis": "y26"
        },
        {
         "line": {
          "color": "red"
         },
         "mode": "lines",
         "name": "Test",
         "showlegend": false,
         "type": "scatter",
         "xaxis": "x26",
         "y": {
          "bdata": "AAAAoLuoIEAAAACgu6ggQAAAAKC7qCBAAAAAAB7pCUAAAAAAHukJQAAAAAAe6QlAAAAAAB7pCUAAAAAAHukJQAAAAGB6wQNAAAAAYHrBA0AAAABgesEDQAAAAODMpANAAAAA4MykA0AAAADgzKQDQAAAAODMpANAAAAAYEzV8z8AAABgTNXzPwAAAGBM1fM/AAAAgKzo9T/////fTgn1PwAAAIAU5PQ/",
          "dtype": "f8"
         },
         "yaxis": "y26"
        },
        {
         "line": {
          "color": "blue"
         },
         "mode": "lines",
         "name": "Train",
         "showlegend": false,
         "type": "scatter",
         "xaxis": "x27",
         "y": {
          "bdata": "AAAAIAihLkAAAAAgCKEuQAAAACAIoS5AAAAAADXlIkAAAAAANeUiQAAAAAA15SJAAAAAADXlIkAAAAAANeUiQAAAAIA0YAxAAAAAgDRgDEAAAACANGAMQAAAACCsRQxAAAAAIKxFDEAAAAAgrEUMQAAAACCsRQxAAAAAQCUYA0AAAABAJRgDQAAAAEAlGANAAAAAYK0MAEABAACAxAIAQAAAAIDxAQBA",
          "dtype": "f8"
         },
         "yaxis": "y27"
        },
        {
         "line": {
          "color": "red"
         },
         "mode": "lines",
         "name": "Test",
         "showlegend": false,
         "type": "scatter",
         "xaxis": "x27",
         "y": {
          "bdata": "////X6sRH0D///9fqxEfQP///1+rER9AAAAAQGxEEEAAAABAbEQQQAAAAEBsRBBAAAAAQGxEEEAAAABAbEQQQAAAAOCaCQtAAAAA4JoJC0AAAADgmgkLQAAAAACq6gpAAAAAAKrqCkAAAAAAquoKQAAAAACq6gpA////3x3T/T/////fHdP9P////98d0/0/AAAAYI8/7T8AAACgLf7tPwAAAMCpJu4/",
          "dtype": "f8"
         },
         "yaxis": "y27"
        },
        {
         "line": {
          "color": "blue"
         },
         "mode": "lines",
         "name": "Train",
         "showlegend": false,
         "type": "scatter",
         "xaxis": "x28",
         "y": {
          "bdata": "AAAAoIKdLkAAAACggp0uQAAAAKCCnS5AAAAAwC2/IkAAAADALb8iQAAAAMAtvyJAAAAAwC2/IkAAAADALb8iQAAAAACHJgxAAAAAAIcmDEAAAAAAhyYMQAAAAIAPDAxAAAAAgA8MDEAAAACADwwMQAAAAIAPDAxAAAAA4LvsAkAAAADgu+wCQAAAAOAR4QJAAAAA4BHhAkAAAAAAjAsAQAAAAACMCwBA",
          "dtype": "f8"
         },
         "yaxis": "y28"
        },
        {
         "line": {
          "color": "red"
         },
         "mode": "lines",
         "name": "Test",
         "showlegend": false,
         "type": "scatter",
         "xaxis": "x28",
         "y": {
          "bdata": "AAAAQItaIEAAAABAi1ogQAAAAECLWiBAAAAAIJHzHkAAAAAgkfMeQAAAACCR8x5AAAAAIJHzHkAAAAAgkfMeQAAAACDUxhBAAAAAINTGEEAAAAAg1MYQQAAAAAC/thBAAAAAAL+2EEAAAAAAv7YQQAAAAAC/thBAAAAAYGeMBEAAAABgZ4wEQAAAAOC1dgRAAAAA4LV2BEAAAABg05PxPwAAAGDTk/E/",
          "dtype": "f8"
         },
         "yaxis": "y28"
        },
        {
         "line": {
          "color": "blue"
         },
         "mode": "lines",
         "name": "Train",
         "showlegend": false,
         "type": "scatter",
         "xaxis": "x29",
         "y": {
          "bdata": "AAAAwFmCLkAAAADAWYIuQAAAAMBZgi5AAAAAgLqgIkAAAACAuqAiQAAAAIC6oCJAAAAAgLqgIkAAAACAuqAiQAAAAOAHKQxAAAAA4AcpDEAAAADgBykMQAAAAOAHKQxAAAAA4AcpDEAAAAAgdUgAQAAAACB1SABAAAAAIHVIAEAAAAAgFRcAQAAAAKDEFgBAAAAAoMQWAEAAAACgxBYAQAAAAKDEFgBA",
          "dtype": "f8"
         },
         "yaxis": "y29"
        },
        {
         "line": {
          "color": "red"
         },
         "mode": "lines",
         "name": "Test",
         "showlegend": false,
         "type": "scatter",
         "xaxis": "x29",
         "y": {
          "bdata": "AAAAIPGkJUAAAAAg8aQlQAAAACDxpCVAAAAAgKhsI0AAAACAqGwjQAAAAICobCNAAAAAgKhsI0AAAACAqGwjQAAAACAmphBAAAAAICamEEAAAAAgJqYQQAAAACAmphBAAAAAICamEEAAAACg76v8PwAAAKDvq/w/AAAAoO+r/D8BAABgBLX6PwAAAEC3sPo/AAAAQLew+j8AAABAt7D6PwAAAEC3sPo/",
          "dtype": "f8"
         },
         "yaxis": "y29"
        },
        {
         "line": {
          "color": "blue"
         },
         "mode": "lines",
         "name": "Train",
         "showlegend": false,
         "type": "scatter",
         "xaxis": "x30",
         "y": {
          "bdata": "AAAAAFFnLkAAAAAAUWcuQAAAAABRZy5AAQAAQOPPIkABAABA488iQAEAAEDjzyJAAQAAQOPPIkABAABA488iQP///x+aRQxA////H5pFDED///8fmkUMQAAAAAAfKwxAAAAAAB8rDEABAAAA51MDQAEAAADnUwNAAQAAAOdTA0ABAAAA51MDQAEAAADnUwNAAAAAYLp8AUAAAABgunwBQAAAAGC6fAFA",
          "dtype": "f8"
         },
         "yaxis": "y30"
        },
        {
         "line": {
          "color": "red"
         },
         "mode": "lines",
         "name": "Test",
         "showlegend": false,
         "type": "scatter",
         "xaxis": "x30",
         "y": {
          "bdata": "AAAAQOfXKUAAAABA59cpQAAAAEDn1ylAAAAAgNWSGUAAAACA1ZIZQAAAAIDVkhlAAAAAgNWSGUAAAACA1ZIZQAAAAABxOQ5AAAAAAHE5DkAAAAAAcTkOQAAAAKBxGQ5AAAAAoHEZDkAAAADghZjhPwAAAOCFmOE/AAAA4IWY4T8AAADghZjhPwAAAOCFmOE/////PyiQ0D////8/KJDQP////z8okNA/",
          "dtype": "f8"
         },
         "yaxis": "y30"
        }
       ],
       "layout": {
        "annotations": [
         {
          "font": {
           "size": 16
          },
          "showarrow": false,
          "text": "Fold 1",
          "x": 0.14444444444444446,
          "xanchor": "center",
          "xref": "paper",
          "y": 1,
          "yanchor": "bottom",
          "yref": "paper"
         },
         {
          "font": {
           "size": 16
          },
          "showarrow": false,
          "text": "Fold 2",
          "x": 0.5,
          "xanchor": "center",
          "xref": "paper",
          "y": 1,
          "yanchor": "bottom",
          "yref": "paper"
         },
         {
          "font": {
           "size": 16
          },
          "showarrow": false,
          "text": "Fold 3",
          "x": 0.8555555555555556,
          "xanchor": "center",
          "xref": "paper",
          "y": 1,
          "yanchor": "bottom",
          "yref": "paper"
         },
         {
          "font": {
           "size": 16
          },
          "showarrow": false,
          "text": "Fold 4",
          "x": 0.14444444444444446,
          "xanchor": "center",
          "xref": "paper",
          "y": 0.8950000000000001,
          "yanchor": "bottom",
          "yref": "paper"
         },
         {
          "font": {
           "size": 16
          },
          "showarrow": false,
          "text": "Fold 5",
          "x": 0.5,
          "xanchor": "center",
          "xref": "paper",
          "y": 0.8950000000000001,
          "yanchor": "bottom",
          "yref": "paper"
         },
         {
          "font": {
           "size": 16
          },
          "showarrow": false,
          "text": "Fold 6",
          "x": 0.8555555555555556,
          "xanchor": "center",
          "xref": "paper",
          "y": 0.8950000000000001,
          "yanchor": "bottom",
          "yref": "paper"
         },
         {
          "font": {
           "size": 16
          },
          "showarrow": false,
          "text": "Fold 7",
          "x": 0.14444444444444446,
          "xanchor": "center",
          "xref": "paper",
          "y": 0.7900000000000001,
          "yanchor": "bottom",
          "yref": "paper"
         },
         {
          "font": {
           "size": 16
          },
          "showarrow": false,
          "text": "Fold 8",
          "x": 0.5,
          "xanchor": "center",
          "xref": "paper",
          "y": 0.7900000000000001,
          "yanchor": "bottom",
          "yref": "paper"
         },
         {
          "font": {
           "size": 16
          },
          "showarrow": false,
          "text": "Fold 9",
          "x": 0.8555555555555556,
          "xanchor": "center",
          "xref": "paper",
          "y": 0.7900000000000001,
          "yanchor": "bottom",
          "yref": "paper"
         },
         {
          "font": {
           "size": 16
          },
          "showarrow": false,
          "text": "Fold 10",
          "x": 0.14444444444444446,
          "xanchor": "center",
          "xref": "paper",
          "y": 0.6850000000000002,
          "yanchor": "bottom",
          "yref": "paper"
         },
         {
          "font": {
           "size": 16
          },
          "showarrow": false,
          "text": "Fold 11",
          "x": 0.5,
          "xanchor": "center",
          "xref": "paper",
          "y": 0.6850000000000002,
          "yanchor": "bottom",
          "yref": "paper"
         },
         {
          "font": {
           "size": 16
          },
          "showarrow": false,
          "text": "Fold 12",
          "x": 0.8555555555555556,
          "xanchor": "center",
          "xref": "paper",
          "y": 0.6850000000000002,
          "yanchor": "bottom",
          "yref": "paper"
         },
         {
          "font": {
           "size": 16
          },
          "showarrow": false,
          "text": "Fold 13",
          "x": 0.14444444444444446,
          "xanchor": "center",
          "xref": "paper",
          "y": 0.5800000000000001,
          "yanchor": "bottom",
          "yref": "paper"
         },
         {
          "font": {
           "size": 16
          },
          "showarrow": false,
          "text": "Fold 14",
          "x": 0.5,
          "xanchor": "center",
          "xref": "paper",
          "y": 0.5800000000000001,
          "yanchor": "bottom",
          "yref": "paper"
         },
         {
          "font": {
           "size": 16
          },
          "showarrow": false,
          "text": "Fold 15",
          "x": 0.8555555555555556,
          "xanchor": "center",
          "xref": "paper",
          "y": 0.5800000000000001,
          "yanchor": "bottom",
          "yref": "paper"
         },
         {
          "font": {
           "size": 16
          },
          "showarrow": false,
          "text": "Fold 16",
          "x": 0.14444444444444446,
          "xanchor": "center",
          "xref": "paper",
          "y": 0.47500000000000003,
          "yanchor": "bottom",
          "yref": "paper"
         },
         {
          "font": {
           "size": 16
          },
          "showarrow": false,
          "text": "Fold 17",
          "x": 0.5,
          "xanchor": "center",
          "xref": "paper",
          "y": 0.47500000000000003,
          "yanchor": "bottom",
          "yref": "paper"
         },
         {
          "font": {
           "size": 16
          },
          "showarrow": false,
          "text": "Fold 18",
          "x": 0.8555555555555556,
          "xanchor": "center",
          "xref": "paper",
          "y": 0.47500000000000003,
          "yanchor": "bottom",
          "yref": "paper"
         },
         {
          "font": {
           "size": 16
          },
          "showarrow": false,
          "text": "Fold 19",
          "x": 0.14444444444444446,
          "xanchor": "center",
          "xref": "paper",
          "y": 0.37000000000000005,
          "yanchor": "bottom",
          "yref": "paper"
         },
         {
          "font": {
           "size": 16
          },
          "showarrow": false,
          "text": "Fold 20",
          "x": 0.5,
          "xanchor": "center",
          "xref": "paper",
          "y": 0.37000000000000005,
          "yanchor": "bottom",
          "yref": "paper"
         },
         {
          "font": {
           "size": 16
          },
          "showarrow": false,
          "text": "Fold 21",
          "x": 0.8555555555555556,
          "xanchor": "center",
          "xref": "paper",
          "y": 0.37000000000000005,
          "yanchor": "bottom",
          "yref": "paper"
         },
         {
          "font": {
           "size": 16
          },
          "showarrow": false,
          "text": "Fold 22",
          "x": 0.14444444444444446,
          "xanchor": "center",
          "xref": "paper",
          "y": 0.265,
          "yanchor": "bottom",
          "yref": "paper"
         },
         {
          "font": {
           "size": 16
          },
          "showarrow": false,
          "text": "Fold 23",
          "x": 0.5,
          "xanchor": "center",
          "xref": "paper",
          "y": 0.265,
          "yanchor": "bottom",
          "yref": "paper"
         },
         {
          "font": {
           "size": 16
          },
          "showarrow": false,
          "text": "Fold 24",
          "x": 0.8555555555555556,
          "xanchor": "center",
          "xref": "paper",
          "y": 0.265,
          "yanchor": "bottom",
          "yref": "paper"
         },
         {
          "font": {
           "size": 16
          },
          "showarrow": false,
          "text": "Fold 25",
          "x": 0.14444444444444446,
          "xanchor": "center",
          "xref": "paper",
          "y": 0.16000000000000003,
          "yanchor": "bottom",
          "yref": "paper"
         },
         {
          "font": {
           "size": 16
          },
          "showarrow": false,
          "text": "Fold 26",
          "x": 0.5,
          "xanchor": "center",
          "xref": "paper",
          "y": 0.16000000000000003,
          "yanchor": "bottom",
          "yref": "paper"
         },
         {
          "font": {
           "size": 16
          },
          "showarrow": false,
          "text": "Fold 27",
          "x": 0.8555555555555556,
          "xanchor": "center",
          "xref": "paper",
          "y": 0.16000000000000003,
          "yanchor": "bottom",
          "yref": "paper"
         },
         {
          "font": {
           "size": 16
          },
          "showarrow": false,
          "text": "Fold 28",
          "x": 0.14444444444444446,
          "xanchor": "center",
          "xref": "paper",
          "y": 0.05500000000000001,
          "yanchor": "bottom",
          "yref": "paper"
         },
         {
          "font": {
           "size": 16
          },
          "showarrow": false,
          "text": "Fold 29",
          "x": 0.5,
          "xanchor": "center",
          "xref": "paper",
          "y": 0.05500000000000001,
          "yanchor": "bottom",
          "yref": "paper"
         },
         {
          "font": {
           "size": 16
          },
          "showarrow": false,
          "text": "Fold 30",
          "x": 0.8555555555555556,
          "xanchor": "center",
          "xref": "paper",
          "y": 0.05500000000000001,
          "yanchor": "bottom",
          "yref": "paper"
         }
        ],
        "height": 4000,
        "margin": {
         "t": 50
        },
        "template": {
         "data": {
          "bar": [
           {
            "error_x": {
             "color": "#2a3f5f"
            },
            "error_y": {
             "color": "#2a3f5f"
            },
            "marker": {
             "line": {
              "color": "#E5ECF6",
              "width": 0.5
             },
             "pattern": {
              "fillmode": "overlay",
              "size": 10,
              "solidity": 0.2
             }
            },
            "type": "bar"
           }
          ],
          "barpolar": [
           {
            "marker": {
             "line": {
              "color": "#E5ECF6",
              "width": 0.5
             },
             "pattern": {
              "fillmode": "overlay",
              "size": 10,
              "solidity": 0.2
             }
            },
            "type": "barpolar"
           }
          ],
          "carpet": [
           {
            "aaxis": {
             "endlinecolor": "#2a3f5f",
             "gridcolor": "white",
             "linecolor": "white",
             "minorgridcolor": "white",
             "startlinecolor": "#2a3f5f"
            },
            "baxis": {
             "endlinecolor": "#2a3f5f",
             "gridcolor": "white",
             "linecolor": "white",
             "minorgridcolor": "white",
             "startlinecolor": "#2a3f5f"
            },
            "type": "carpet"
           }
          ],
          "choropleth": [
           {
            "colorbar": {
             "outlinewidth": 0,
             "ticks": ""
            },
            "type": "choropleth"
           }
          ],
          "contour": [
           {
            "colorbar": {
             "outlinewidth": 0,
             "ticks": ""
            },
            "colorscale": [
             [
              0,
              "#0d0887"
             ],
             [
              0.1111111111111111,
              "#46039f"
             ],
             [
              0.2222222222222222,
              "#7201a8"
             ],
             [
              0.3333333333333333,
              "#9c179e"
             ],
             [
              0.4444444444444444,
              "#bd3786"
             ],
             [
              0.5555555555555556,
              "#d8576b"
             ],
             [
              0.6666666666666666,
              "#ed7953"
             ],
             [
              0.7777777777777778,
              "#fb9f3a"
             ],
             [
              0.8888888888888888,
              "#fdca26"
             ],
             [
              1,
              "#f0f921"
             ]
            ],
            "type": "contour"
           }
          ],
          "contourcarpet": [
           {
            "colorbar": {
             "outlinewidth": 0,
             "ticks": ""
            },
            "type": "contourcarpet"
           }
          ],
          "heatmap": [
           {
            "colorbar": {
             "outlinewidth": 0,
             "ticks": ""
            },
            "colorscale": [
             [
              0,
              "#0d0887"
             ],
             [
              0.1111111111111111,
              "#46039f"
             ],
             [
              0.2222222222222222,
              "#7201a8"
             ],
             [
              0.3333333333333333,
              "#9c179e"
             ],
             [
              0.4444444444444444,
              "#bd3786"
             ],
             [
              0.5555555555555556,
              "#d8576b"
             ],
             [
              0.6666666666666666,
              "#ed7953"
             ],
             [
              0.7777777777777778,
              "#fb9f3a"
             ],
             [
              0.8888888888888888,
              "#fdca26"
             ],
             [
              1,
              "#f0f921"
             ]
            ],
            "type": "heatmap"
           }
          ],
          "histogram": [
           {
            "marker": {
             "pattern": {
              "fillmode": "overlay",
              "size": 10,
              "solidity": 0.2
             }
            },
            "type": "histogram"
           }
          ],
          "histogram2d": [
           {
            "colorbar": {
             "outlinewidth": 0,
             "ticks": ""
            },
            "colorscale": [
             [
              0,
              "#0d0887"
             ],
             [
              0.1111111111111111,
              "#46039f"
             ],
             [
              0.2222222222222222,
              "#7201a8"
             ],
             [
              0.3333333333333333,
              "#9c179e"
             ],
             [
              0.4444444444444444,
              "#bd3786"
             ],
             [
              0.5555555555555556,
              "#d8576b"
             ],
             [
              0.6666666666666666,
              "#ed7953"
             ],
             [
              0.7777777777777778,
              "#fb9f3a"
             ],
             [
              0.8888888888888888,
              "#fdca26"
             ],
             [
              1,
              "#f0f921"
             ]
            ],
            "type": "histogram2d"
           }
          ],
          "histogram2dcontour": [
           {
            "colorbar": {
             "outlinewidth": 0,
             "ticks": ""
            },
            "colorscale": [
             [
              0,
              "#0d0887"
             ],
             [
              0.1111111111111111,
              "#46039f"
             ],
             [
              0.2222222222222222,
              "#7201a8"
             ],
             [
              0.3333333333333333,
              "#9c179e"
             ],
             [
              0.4444444444444444,
              "#bd3786"
             ],
             [
              0.5555555555555556,
              "#d8576b"
             ],
             [
              0.6666666666666666,
              "#ed7953"
             ],
             [
              0.7777777777777778,
              "#fb9f3a"
             ],
             [
              0.8888888888888888,
              "#fdca26"
             ],
             [
              1,
              "#f0f921"
             ]
            ],
            "type": "histogram2dcontour"
           }
          ],
          "mesh3d": [
           {
            "colorbar": {
             "outlinewidth": 0,
             "ticks": ""
            },
            "type": "mesh3d"
           }
          ],
          "parcoords": [
           {
            "line": {
             "colorbar": {
              "outlinewidth": 0,
              "ticks": ""
             }
            },
            "type": "parcoords"
           }
          ],
          "pie": [
           {
            "automargin": true,
            "type": "pie"
           }
          ],
          "scatter": [
           {
            "fillpattern": {
             "fillmode": "overlay",
             "size": 10,
             "solidity": 0.2
            },
            "type": "scatter"
           }
          ],
          "scatter3d": [
           {
            "line": {
             "colorbar": {
              "outlinewidth": 0,
              "ticks": ""
             }
            },
            "marker": {
             "colorbar": {
              "outlinewidth": 0,
              "ticks": ""
             }
            },
            "type": "scatter3d"
           }
          ],
          "scattercarpet": [
           {
            "marker": {
             "colorbar": {
              "outlinewidth": 0,
              "ticks": ""
             }
            },
            "type": "scattercarpet"
           }
          ],
          "scattergeo": [
           {
            "marker": {
             "colorbar": {
              "outlinewidth": 0,
              "ticks": ""
             }
            },
            "type": "scattergeo"
           }
          ],
          "scattergl": [
           {
            "marker": {
             "colorbar": {
              "outlinewidth": 0,
              "ticks": ""
             }
            },
            "type": "scattergl"
           }
          ],
          "scattermap": [
           {
            "marker": {
             "colorbar": {
              "outlinewidth": 0,
              "ticks": ""
             }
            },
            "type": "scattermap"
           }
          ],
          "scattermapbox": [
           {
            "marker": {
             "colorbar": {
              "outlinewidth": 0,
              "ticks": ""
             }
            },
            "type": "scattermapbox"
           }
          ],
          "scatterpolar": [
           {
            "marker": {
             "colorbar": {
              "outlinewidth": 0,
              "ticks": ""
             }
            },
            "type": "scatterpolar"
           }
          ],
          "scatterpolargl": [
           {
            "marker": {
             "colorbar": {
              "outlinewidth": 0,
              "ticks": ""
             }
            },
            "type": "scatterpolargl"
           }
          ],
          "scatterternary": [
           {
            "marker": {
             "colorbar": {
              "outlinewidth": 0,
              "ticks": ""
             }
            },
            "type": "scatterternary"
           }
          ],
          "surface": [
           {
            "colorbar": {
             "outlinewidth": 0,
             "ticks": ""
            },
            "colorscale": [
             [
              0,
              "#0d0887"
             ],
             [
              0.1111111111111111,
              "#46039f"
             ],
             [
              0.2222222222222222,
              "#7201a8"
             ],
             [
              0.3333333333333333,
              "#9c179e"
             ],
             [
              0.4444444444444444,
              "#bd3786"
             ],
             [
              0.5555555555555556,
              "#d8576b"
             ],
             [
              0.6666666666666666,
              "#ed7953"
             ],
             [
              0.7777777777777778,
              "#fb9f3a"
             ],
             [
              0.8888888888888888,
              "#fdca26"
             ],
             [
              1,
              "#f0f921"
             ]
            ],
            "type": "surface"
           }
          ],
          "table": [
           {
            "cells": {
             "fill": {
              "color": "#EBF0F8"
             },
             "line": {
              "color": "white"
             }
            },
            "header": {
             "fill": {
              "color": "#C8D4E3"
             },
             "line": {
              "color": "white"
             }
            },
            "type": "table"
           }
          ]
         },
         "layout": {
          "annotationdefaults": {
           "arrowcolor": "#2a3f5f",
           "arrowhead": 0,
           "arrowwidth": 1
          },
          "autotypenumbers": "strict",
          "coloraxis": {
           "colorbar": {
            "outlinewidth": 0,
            "ticks": ""
           }
          },
          "colorscale": {
           "diverging": [
            [
             0,
             "#8e0152"
            ],
            [
             0.1,
             "#c51b7d"
            ],
            [
             0.2,
             "#de77ae"
            ],
            [
             0.3,
             "#f1b6da"
            ],
            [
             0.4,
             "#fde0ef"
            ],
            [
             0.5,
             "#f7f7f7"
            ],
            [
             0.6,
             "#e6f5d0"
            ],
            [
             0.7,
             "#b8e186"
            ],
            [
             0.8,
             "#7fbc41"
            ],
            [
             0.9,
             "#4d9221"
            ],
            [
             1,
             "#276419"
            ]
           ],
           "sequential": [
            [
             0,
             "#0d0887"
            ],
            [
             0.1111111111111111,
             "#46039f"
            ],
            [
             0.2222222222222222,
             "#7201a8"
            ],
            [
             0.3333333333333333,
             "#9c179e"
            ],
            [
             0.4444444444444444,
             "#bd3786"
            ],
            [
             0.5555555555555556,
             "#d8576b"
            ],
            [
             0.6666666666666666,
             "#ed7953"
            ],
            [
             0.7777777777777778,
             "#fb9f3a"
            ],
            [
             0.8888888888888888,
             "#fdca26"
            ],
            [
             1,
             "#f0f921"
            ]
           ],
           "sequentialminus": [
            [
             0,
             "#0d0887"
            ],
            [
             0.1111111111111111,
             "#46039f"
            ],
            [
             0.2222222222222222,
             "#7201a8"
            ],
            [
             0.3333333333333333,
             "#9c179e"
            ],
            [
             0.4444444444444444,
             "#bd3786"
            ],
            [
             0.5555555555555556,
             "#d8576b"
            ],
            [
             0.6666666666666666,
             "#ed7953"
            ],
            [
             0.7777777777777778,
             "#fb9f3a"
            ],
            [
             0.8888888888888888,
             "#fdca26"
            ],
            [
             1,
             "#f0f921"
            ]
           ]
          },
          "colorway": [
           "#636efa",
           "#EF553B",
           "#00cc96",
           "#ab63fa",
           "#FFA15A",
           "#19d3f3",
           "#FF6692",
           "#B6E880",
           "#FF97FF",
           "#FECB52"
          ],
          "font": {
           "color": "#2a3f5f"
          },
          "geo": {
           "bgcolor": "white",
           "lakecolor": "white",
           "landcolor": "#E5ECF6",
           "showlakes": true,
           "showland": true,
           "subunitcolor": "white"
          },
          "hoverlabel": {
           "align": "left"
          },
          "hovermode": "closest",
          "mapbox": {
           "style": "light"
          },
          "paper_bgcolor": "white",
          "plot_bgcolor": "#E5ECF6",
          "polar": {
           "angularaxis": {
            "gridcolor": "white",
            "linecolor": "white",
            "ticks": ""
           },
           "bgcolor": "#E5ECF6",
           "radialaxis": {
            "gridcolor": "white",
            "linecolor": "white",
            "ticks": ""
           }
          },
          "scene": {
           "xaxis": {
            "backgroundcolor": "#E5ECF6",
            "gridcolor": "white",
            "gridwidth": 2,
            "linecolor": "white",
            "showbackground": true,
            "ticks": "",
            "zerolinecolor": "white"
           },
           "yaxis": {
            "backgroundcolor": "#E5ECF6",
            "gridcolor": "white",
            "gridwidth": 2,
            "linecolor": "white",
            "showbackground": true,
            "ticks": "",
            "zerolinecolor": "white"
           },
           "zaxis": {
            "backgroundcolor": "#E5ECF6",
            "gridcolor": "white",
            "gridwidth": 2,
            "linecolor": "white",
            "showbackground": true,
            "ticks": "",
            "zerolinecolor": "white"
           }
          },
          "shapedefaults": {
           "line": {
            "color": "#2a3f5f"
           }
          },
          "ternary": {
           "aaxis": {
            "gridcolor": "white",
            "linecolor": "white",
            "ticks": ""
           },
           "baxis": {
            "gridcolor": "white",
            "linecolor": "white",
            "ticks": ""
           },
           "bgcolor": "#E5ECF6",
           "caxis": {
            "gridcolor": "white",
            "linecolor": "white",
            "ticks": ""
           }
          },
          "title": {
           "x": 0.05
          },
          "xaxis": {
           "automargin": true,
           "gridcolor": "white",
           "linecolor": "white",
           "ticks": "",
           "title": {
            "standoff": 15
           },
           "zerolinecolor": "white",
           "zerolinewidth": 2
          },
          "yaxis": {
           "automargin": true,
           "gridcolor": "white",
           "linecolor": "white",
           "ticks": "",
           "title": {
            "standoff": 15
           },
           "zerolinecolor": "white",
           "zerolinewidth": 2
          }
         }
        },
        "title": {
         "text": "SLIM - Train vs Test Fitness (sustavianfeed dataset)"
        },
        "width": 1000,
        "xaxis": {
         "anchor": "y",
         "domain": [
          0,
          0.2888888888888889
         ]
        },
        "xaxis10": {
         "anchor": "y10",
         "domain": [
          0,
          0.2888888888888889
         ]
        },
        "xaxis11": {
         "anchor": "y11",
         "domain": [
          0.35555555555555557,
          0.6444444444444445
         ]
        },
        "xaxis12": {
         "anchor": "y12",
         "domain": [
          0.7111111111111111,
          1
         ]
        },
        "xaxis13": {
         "anchor": "y13",
         "domain": [
          0,
          0.2888888888888889
         ]
        },
        "xaxis14": {
         "anchor": "y14",
         "domain": [
          0.35555555555555557,
          0.6444444444444445
         ]
        },
        "xaxis15": {
         "anchor": "y15",
         "domain": [
          0.7111111111111111,
          1
         ]
        },
        "xaxis16": {
         "anchor": "y16",
         "domain": [
          0,
          0.2888888888888889
         ]
        },
        "xaxis17": {
         "anchor": "y17",
         "domain": [
          0.35555555555555557,
          0.6444444444444445
         ]
        },
        "xaxis18": {
         "anchor": "y18",
         "domain": [
          0.7111111111111111,
          1
         ]
        },
        "xaxis19": {
         "anchor": "y19",
         "domain": [
          0,
          0.2888888888888889
         ]
        },
        "xaxis2": {
         "anchor": "y2",
         "domain": [
          0.35555555555555557,
          0.6444444444444445
         ]
        },
        "xaxis20": {
         "anchor": "y20",
         "domain": [
          0.35555555555555557,
          0.6444444444444445
         ]
        },
        "xaxis21": {
         "anchor": "y21",
         "domain": [
          0.7111111111111111,
          1
         ]
        },
        "xaxis22": {
         "anchor": "y22",
         "domain": [
          0,
          0.2888888888888889
         ]
        },
        "xaxis23": {
         "anchor": "y23",
         "domain": [
          0.35555555555555557,
          0.6444444444444445
         ]
        },
        "xaxis24": {
         "anchor": "y24",
         "domain": [
          0.7111111111111111,
          1
         ]
        },
        "xaxis25": {
         "anchor": "y25",
         "domain": [
          0,
          0.2888888888888889
         ]
        },
        "xaxis26": {
         "anchor": "y26",
         "domain": [
          0.35555555555555557,
          0.6444444444444445
         ]
        },
        "xaxis27": {
         "anchor": "y27",
         "domain": [
          0.7111111111111111,
          1
         ]
        },
        "xaxis28": {
         "anchor": "y28",
         "domain": [
          0,
          0.2888888888888889
         ]
        },
        "xaxis29": {
         "anchor": "y29",
         "domain": [
          0.35555555555555557,
          0.6444444444444445
         ]
        },
        "xaxis3": {
         "anchor": "y3",
         "domain": [
          0.7111111111111111,
          1
         ]
        },
        "xaxis30": {
         "anchor": "y30",
         "domain": [
          0.7111111111111111,
          1
         ]
        },
        "xaxis4": {
         "anchor": "y4",
         "domain": [
          0,
          0.2888888888888889
         ]
        },
        "xaxis5": {
         "anchor": "y5",
         "domain": [
          0.35555555555555557,
          0.6444444444444445
         ]
        },
        "xaxis6": {
         "anchor": "y6",
         "domain": [
          0.7111111111111111,
          1
         ]
        },
        "xaxis7": {
         "anchor": "y7",
         "domain": [
          0,
          0.2888888888888889
         ]
        },
        "xaxis8": {
         "anchor": "y8",
         "domain": [
          0.35555555555555557,
          0.6444444444444445
         ]
        },
        "xaxis9": {
         "anchor": "y9",
         "domain": [
          0.7111111111111111,
          1
         ]
        },
        "yaxis": {
         "anchor": "x",
         "domain": [
          0.9450000000000001,
          1
         ],
         "range": [
          0,
          null
         ]
        },
        "yaxis10": {
         "anchor": "x10",
         "domain": [
          0.6300000000000001,
          0.6850000000000002
         ]
        },
        "yaxis11": {
         "anchor": "x11",
         "domain": [
          0.6300000000000001,
          0.6850000000000002
         ]
        },
        "yaxis12": {
         "anchor": "x12",
         "domain": [
          0.6300000000000001,
          0.6850000000000002
         ]
        },
        "yaxis13": {
         "anchor": "x13",
         "domain": [
          0.525,
          0.5800000000000001
         ]
        },
        "yaxis14": {
         "anchor": "x14",
         "domain": [
          0.525,
          0.5800000000000001
         ]
        },
        "yaxis15": {
         "anchor": "x15",
         "domain": [
          0.525,
          0.5800000000000001
         ]
        },
        "yaxis16": {
         "anchor": "x16",
         "domain": [
          0.42000000000000004,
          0.47500000000000003
         ]
        },
        "yaxis17": {
         "anchor": "x17",
         "domain": [
          0.42000000000000004,
          0.47500000000000003
         ]
        },
        "yaxis18": {
         "anchor": "x18",
         "domain": [
          0.42000000000000004,
          0.47500000000000003
         ]
        },
        "yaxis19": {
         "anchor": "x19",
         "domain": [
          0.31500000000000006,
          0.37000000000000005
         ]
        },
        "yaxis2": {
         "anchor": "x2",
         "domain": [
          0.9450000000000001,
          1
         ]
        },
        "yaxis20": {
         "anchor": "x20",
         "domain": [
          0.31500000000000006,
          0.37000000000000005
         ]
        },
        "yaxis21": {
         "anchor": "x21",
         "domain": [
          0.31500000000000006,
          0.37000000000000005
         ]
        },
        "yaxis22": {
         "anchor": "x22",
         "domain": [
          0.21000000000000002,
          0.265
         ]
        },
        "yaxis23": {
         "anchor": "x23",
         "domain": [
          0.21000000000000002,
          0.265
         ]
        },
        "yaxis24": {
         "anchor": "x24",
         "domain": [
          0.21000000000000002,
          0.265
         ]
        },
        "yaxis25": {
         "anchor": "x25",
         "domain": [
          0.10500000000000001,
          0.16000000000000003
         ]
        },
        "yaxis26": {
         "anchor": "x26",
         "domain": [
          0.10500000000000001,
          0.16000000000000003
         ]
        },
        "yaxis27": {
         "anchor": "x27",
         "domain": [
          0.10500000000000001,
          0.16000000000000003
         ]
        },
        "yaxis28": {
         "anchor": "x28",
         "domain": [
          0,
          0.05500000000000001
         ]
        },
        "yaxis29": {
         "anchor": "x29",
         "domain": [
          0,
          0.05500000000000001
         ]
        },
        "yaxis3": {
         "anchor": "x3",
         "domain": [
          0.9450000000000001,
          1
         ]
        },
        "yaxis30": {
         "anchor": "x30",
         "domain": [
          0,
          0.05500000000000001
         ]
        },
        "yaxis4": {
         "anchor": "x4",
         "domain": [
          0.8400000000000001,
          0.8950000000000001
         ]
        },
        "yaxis5": {
         "anchor": "x5",
         "domain": [
          0.8400000000000001,
          0.8950000000000001
         ]
        },
        "yaxis6": {
         "anchor": "x6",
         "domain": [
          0.8400000000000001,
          0.8950000000000001
         ]
        },
        "yaxis7": {
         "anchor": "x7",
         "domain": [
          0.7350000000000001,
          0.7900000000000001
         ]
        },
        "yaxis8": {
         "anchor": "x8",
         "domain": [
          0.7350000000000001,
          0.7900000000000001
         ]
        },
        "yaxis9": {
         "anchor": "x9",
         "domain": [
          0.7350000000000001,
          0.7900000000000001
         ]
        }
       }
      }
     },
     "metadata": {},
     "output_type": "display_data"
    }
   ],
   "source": [
    "plot_fitness_logs('SLIM', n_outer_cv, dataset_name='sustavianfeed')"
   ]
  },
  {
   "cell_type": "markdown",
   "id": "df7ef768",
   "metadata": {},
   "source": [
    "When looking at folds, we notice that our model tends to stagnate especially in the last 5, 6 epochs with folds showing even bigger stagnation like fold 7 and 18. Even in earlier to mid epochs we notice extended periods of stagnation. In terms of overfitting, the only clear instance happens in fold 16. The model shows learning ability when it is not stagnating but even in the best performing folds we mostly see sharp drops in loss mixed with periods of stagnation."
   ]
  },
  {
   "cell_type": "code",
   "execution_count": 18,
   "id": "f8feb801",
   "metadata": {},
   "outputs": [
    {
     "data": {
      "application/vnd.plotly.v1+json": {
       "config": {
        "plotlyServerURL": "https://plot.ly"
       },
       "data": [
        {
         "line": {
          "color": "rgba(0,0,255,0)"
         },
         "showlegend": false,
         "type": "scatter",
         "x": [
          0,
          1,
          2,
          3,
          4,
          5,
          6,
          7,
          8,
          9,
          10,
          11,
          12,
          13,
          14,
          15,
          16,
          17,
          18,
          19,
          20
         ],
         "y": {
          "bdata": "2qv4Vsh3L0A+OmcmvHgvQD46Zya8eC9AFfL+amZxI0AV8v5qZnEjQBXy/mpmcSNAo7x+e/5uI0CjvH57/m4jQOwAQ43zUxZA5OdR+HxRFkB27ZItU1EWQFbORfZ/ShZAa2gWUYtBFkCUQncrpwUVQPSpIvn9+hRAjx6Ejl2rE0BJB6CTTmQTQGQUSm50DRNAWojYoIerEkBHRf8XvJUSQGNoC/W1lRJA",
          "dtype": "f8"
         }
        },
        {
         "fill": "tonexty",
         "fillcolor": "rgba(0,0,180,0.2)",
         "line": {
          "color": "rgba(0,0,255,0)"
         },
         "name": "Fitness Train Std Dev",
         "type": "scatter",
         "x": [
          0,
          1,
          2,
          3,
          4,
          5,
          6,
          7,
          8,
          9,
          10,
          11,
          12,
          13,
          14,
          15,
          16,
          17,
          18,
          19,
          20
         ],
         "y": {
          "bdata": "8iDU1dAGLUBKTiGiawUtQEpOIaJrBS1ADTAjN7zUIUANMCM3vNQhQA0wIze81CFAkXa094nSIUCRdrT3idIhQCj+eUWa/wNAbGOPokgCBEDQ4JUAYgIEQBAfMK/c6ANATFH1f9RGA0A4fqt6cAT5P94CIMaPEvk/kFK8Ul9V8T90fBkLcCPwP8Q6jSsZeew/lCOiXxu46D/q9yei7H/nPxrw18qEf+c/",
          "dtype": "f8"
         }
        },
        {
         "line": {
          "color": "blue"
         },
         "name": "Avg Train Fitness",
         "type": "scatter",
         "x": [
          0,
          1,
          2,
          3,
          4,
          5,
          6,
          7,
          8,
          9,
          10,
          11,
          12,
          13,
          14,
          15,
          16,
          17,
          18,
          19,
          20
         ],
         "y": {
          "bdata": "ZmZmlkw/LkBERETkEz8uQEREROQTPy5AERERURGjIkARERFREaMiQBEREVERoyJAmpmZOcSgIkCamZk5xKAiQAAAAFjgKRBAzczMpFApEEDv7u4WQikQQO/u7iZ3HxBAERERkfXkD0AiIiJKw0YLQKuqquqhPwtAMzMzY7UACEBmZmaWKm0HQLy7u5OXnAZAzczMDIvCBUBERESsuYUFQGZmZo6mhQVA",
          "dtype": "f8"
         }
        },
        {
         "line": {
          "color": "rgba(255,0,0,0)"
         },
         "showlegend": false,
         "type": "scatter",
         "x": [
          0,
          1,
          2,
          3,
          4,
          5,
          6,
          7,
          8,
          9,
          10,
          11,
          12,
          13,
          14,
          15,
          16,
          17,
          18,
          19,
          20
         ],
         "y": {
          "bdata": "ojJtqQJANUDImWiP5OY5QMiZaI/k5jlAYqSURg9FKkBipJRGD0UqQGKklEYPRSpAC0LTZ8U4KkALQtNnxTgqQKSVtdKNpyRAV64PKuSbJECEbnqrjJskQMB4wL23mCRA/oMAnvHYJEBG0K7m3YAjQPAW0l+hcyNA/ftPUunGIkCUYzYao4siQIVLBageaiJAh6VhlxBEIkB74FVzoBgiQPy5P6VZGCJA",
          "dtype": "f8"
         }
        },
        {
         "fill": "tonexty",
         "fillcolor": "rgba(255,0,0,0.2)",
         "line": {
          "color": "rgba(255,0,0,0)"
         },
         "name": "Fitness Test Std Dev",
         "type": "scatter",
         "x": [
          0,
          1,
          2,
          3,
          4,
          5,
          6,
          7,
          8,
          9,
          10,
          11,
          12,
          13,
          14,
          15,
          16,
          17,
          18,
          19,
          20
         ],
         "y": {
          "bdata": "jAQwjg9rD0DgtdsBMnXqP+C12wEydeo/NippgcWlAUA2KmmBxaUBQDYqaYHFpQFAsNWQHodmAUCw1ZAeh2YBQCCtrLXrTfC/INnjViqB8L/8UbHZTX/wv7SBv0kLr/C/nMquOnYD8L+z2lS8+a4AwErk0C/DygDA494uePcJBcBQjtk4dTwGwGmDaiVgqwbAPbioJ+03B8DLXzUjpjYIwAP5D7ZqOAjA",
          "dtype": "f8"
         }
        },
        {
         "line": {
          "color": "red"
         },
         "name": "Avg Test Fitness",
         "type": "scatter",
         "x": [
          0,
          1,
          2,
          3,
          4,
          5,
          6,
          7,
          8,
          9,
          10,
          11,
          12,
          13,
          14,
          15,
          16,
          17,
          18,
          19,
          20
         ],
         "y": {
          "bdata": "MzMzm2QtKUB3d3cfjroqQHd3dx+OuipA7+7upoCuHkDv7u6mgK4eQO/u7qaArh5Ad3d3L2eSHkB3d3cvZ5IeQAAAAFzQnRJAMzMz376LEkBERETwoosSQImIiFTWghJAq6qq1oLYEkAzMzPvPqoOQLy7uyfhgQ5AiYiI6NYIC0AAAACYC/kJQFVVVT2NfglA7+7umirsCEARERHV7RUIQHd3d+99FAhA",
          "dtype": "f8"
         }
        }
       ],
       "layout": {
        "height": 400,
        "template": {
         "data": {
          "bar": [
           {
            "error_x": {
             "color": "#2a3f5f"
            },
            "error_y": {
             "color": "#2a3f5f"
            },
            "marker": {
             "line": {
              "color": "#E5ECF6",
              "width": 0.5
             },
             "pattern": {
              "fillmode": "overlay",
              "size": 10,
              "solidity": 0.2
             }
            },
            "type": "bar"
           }
          ],
          "barpolar": [
           {
            "marker": {
             "line": {
              "color": "#E5ECF6",
              "width": 0.5
             },
             "pattern": {
              "fillmode": "overlay",
              "size": 10,
              "solidity": 0.2
             }
            },
            "type": "barpolar"
           }
          ],
          "carpet": [
           {
            "aaxis": {
             "endlinecolor": "#2a3f5f",
             "gridcolor": "white",
             "linecolor": "white",
             "minorgridcolor": "white",
             "startlinecolor": "#2a3f5f"
            },
            "baxis": {
             "endlinecolor": "#2a3f5f",
             "gridcolor": "white",
             "linecolor": "white",
             "minorgridcolor": "white",
             "startlinecolor": "#2a3f5f"
            },
            "type": "carpet"
           }
          ],
          "choropleth": [
           {
            "colorbar": {
             "outlinewidth": 0,
             "ticks": ""
            },
            "type": "choropleth"
           }
          ],
          "contour": [
           {
            "colorbar": {
             "outlinewidth": 0,
             "ticks": ""
            },
            "colorscale": [
             [
              0,
              "#0d0887"
             ],
             [
              0.1111111111111111,
              "#46039f"
             ],
             [
              0.2222222222222222,
              "#7201a8"
             ],
             [
              0.3333333333333333,
              "#9c179e"
             ],
             [
              0.4444444444444444,
              "#bd3786"
             ],
             [
              0.5555555555555556,
              "#d8576b"
             ],
             [
              0.6666666666666666,
              "#ed7953"
             ],
             [
              0.7777777777777778,
              "#fb9f3a"
             ],
             [
              0.8888888888888888,
              "#fdca26"
             ],
             [
              1,
              "#f0f921"
             ]
            ],
            "type": "contour"
           }
          ],
          "contourcarpet": [
           {
            "colorbar": {
             "outlinewidth": 0,
             "ticks": ""
            },
            "type": "contourcarpet"
           }
          ],
          "heatmap": [
           {
            "colorbar": {
             "outlinewidth": 0,
             "ticks": ""
            },
            "colorscale": [
             [
              0,
              "#0d0887"
             ],
             [
              0.1111111111111111,
              "#46039f"
             ],
             [
              0.2222222222222222,
              "#7201a8"
             ],
             [
              0.3333333333333333,
              "#9c179e"
             ],
             [
              0.4444444444444444,
              "#bd3786"
             ],
             [
              0.5555555555555556,
              "#d8576b"
             ],
             [
              0.6666666666666666,
              "#ed7953"
             ],
             [
              0.7777777777777778,
              "#fb9f3a"
             ],
             [
              0.8888888888888888,
              "#fdca26"
             ],
             [
              1,
              "#f0f921"
             ]
            ],
            "type": "heatmap"
           }
          ],
          "histogram": [
           {
            "marker": {
             "pattern": {
              "fillmode": "overlay",
              "size": 10,
              "solidity": 0.2
             }
            },
            "type": "histogram"
           }
          ],
          "histogram2d": [
           {
            "colorbar": {
             "outlinewidth": 0,
             "ticks": ""
            },
            "colorscale": [
             [
              0,
              "#0d0887"
             ],
             [
              0.1111111111111111,
              "#46039f"
             ],
             [
              0.2222222222222222,
              "#7201a8"
             ],
             [
              0.3333333333333333,
              "#9c179e"
             ],
             [
              0.4444444444444444,
              "#bd3786"
             ],
             [
              0.5555555555555556,
              "#d8576b"
             ],
             [
              0.6666666666666666,
              "#ed7953"
             ],
             [
              0.7777777777777778,
              "#fb9f3a"
             ],
             [
              0.8888888888888888,
              "#fdca26"
             ],
             [
              1,
              "#f0f921"
             ]
            ],
            "type": "histogram2d"
           }
          ],
          "histogram2dcontour": [
           {
            "colorbar": {
             "outlinewidth": 0,
             "ticks": ""
            },
            "colorscale": [
             [
              0,
              "#0d0887"
             ],
             [
              0.1111111111111111,
              "#46039f"
             ],
             [
              0.2222222222222222,
              "#7201a8"
             ],
             [
              0.3333333333333333,
              "#9c179e"
             ],
             [
              0.4444444444444444,
              "#bd3786"
             ],
             [
              0.5555555555555556,
              "#d8576b"
             ],
             [
              0.6666666666666666,
              "#ed7953"
             ],
             [
              0.7777777777777778,
              "#fb9f3a"
             ],
             [
              0.8888888888888888,
              "#fdca26"
             ],
             [
              1,
              "#f0f921"
             ]
            ],
            "type": "histogram2dcontour"
           }
          ],
          "mesh3d": [
           {
            "colorbar": {
             "outlinewidth": 0,
             "ticks": ""
            },
            "type": "mesh3d"
           }
          ],
          "parcoords": [
           {
            "line": {
             "colorbar": {
              "outlinewidth": 0,
              "ticks": ""
             }
            },
            "type": "parcoords"
           }
          ],
          "pie": [
           {
            "automargin": true,
            "type": "pie"
           }
          ],
          "scatter": [
           {
            "fillpattern": {
             "fillmode": "overlay",
             "size": 10,
             "solidity": 0.2
            },
            "type": "scatter"
           }
          ],
          "scatter3d": [
           {
            "line": {
             "colorbar": {
              "outlinewidth": 0,
              "ticks": ""
             }
            },
            "marker": {
             "colorbar": {
              "outlinewidth": 0,
              "ticks": ""
             }
            },
            "type": "scatter3d"
           }
          ],
          "scattercarpet": [
           {
            "marker": {
             "colorbar": {
              "outlinewidth": 0,
              "ticks": ""
             }
            },
            "type": "scattercarpet"
           }
          ],
          "scattergeo": [
           {
            "marker": {
             "colorbar": {
              "outlinewidth": 0,
              "ticks": ""
             }
            },
            "type": "scattergeo"
           }
          ],
          "scattergl": [
           {
            "marker": {
             "colorbar": {
              "outlinewidth": 0,
              "ticks": ""
             }
            },
            "type": "scattergl"
           }
          ],
          "scattermap": [
           {
            "marker": {
             "colorbar": {
              "outlinewidth": 0,
              "ticks": ""
             }
            },
            "type": "scattermap"
           }
          ],
          "scattermapbox": [
           {
            "marker": {
             "colorbar": {
              "outlinewidth": 0,
              "ticks": ""
             }
            },
            "type": "scattermapbox"
           }
          ],
          "scatterpolar": [
           {
            "marker": {
             "colorbar": {
              "outlinewidth": 0,
              "ticks": ""
             }
            },
            "type": "scatterpolar"
           }
          ],
          "scatterpolargl": [
           {
            "marker": {
             "colorbar": {
              "outlinewidth": 0,
              "ticks": ""
             }
            },
            "type": "scatterpolargl"
           }
          ],
          "scatterternary": [
           {
            "marker": {
             "colorbar": {
              "outlinewidth": 0,
              "ticks": ""
             }
            },
            "type": "scatterternary"
           }
          ],
          "surface": [
           {
            "colorbar": {
             "outlinewidth": 0,
             "ticks": ""
            },
            "colorscale": [
             [
              0,
              "#0d0887"
             ],
             [
              0.1111111111111111,
              "#46039f"
             ],
             [
              0.2222222222222222,
              "#7201a8"
             ],
             [
              0.3333333333333333,
              "#9c179e"
             ],
             [
              0.4444444444444444,
              "#bd3786"
             ],
             [
              0.5555555555555556,
              "#d8576b"
             ],
             [
              0.6666666666666666,
              "#ed7953"
             ],
             [
              0.7777777777777778,
              "#fb9f3a"
             ],
             [
              0.8888888888888888,
              "#fdca26"
             ],
             [
              1,
              "#f0f921"
             ]
            ],
            "type": "surface"
           }
          ],
          "table": [
           {
            "cells": {
             "fill": {
              "color": "#EBF0F8"
             },
             "line": {
              "color": "white"
             }
            },
            "header": {
             "fill": {
              "color": "#C8D4E3"
             },
             "line": {
              "color": "white"
             }
            },
            "type": "table"
           }
          ]
         },
         "layout": {
          "annotationdefaults": {
           "arrowcolor": "#2a3f5f",
           "arrowhead": 0,
           "arrowwidth": 1
          },
          "autotypenumbers": "strict",
          "coloraxis": {
           "colorbar": {
            "outlinewidth": 0,
            "ticks": ""
           }
          },
          "colorscale": {
           "diverging": [
            [
             0,
             "#8e0152"
            ],
            [
             0.1,
             "#c51b7d"
            ],
            [
             0.2,
             "#de77ae"
            ],
            [
             0.3,
             "#f1b6da"
            ],
            [
             0.4,
             "#fde0ef"
            ],
            [
             0.5,
             "#f7f7f7"
            ],
            [
             0.6,
             "#e6f5d0"
            ],
            [
             0.7,
             "#b8e186"
            ],
            [
             0.8,
             "#7fbc41"
            ],
            [
             0.9,
             "#4d9221"
            ],
            [
             1,
             "#276419"
            ]
           ],
           "sequential": [
            [
             0,
             "#0d0887"
            ],
            [
             0.1111111111111111,
             "#46039f"
            ],
            [
             0.2222222222222222,
             "#7201a8"
            ],
            [
             0.3333333333333333,
             "#9c179e"
            ],
            [
             0.4444444444444444,
             "#bd3786"
            ],
            [
             0.5555555555555556,
             "#d8576b"
            ],
            [
             0.6666666666666666,
             "#ed7953"
            ],
            [
             0.7777777777777778,
             "#fb9f3a"
            ],
            [
             0.8888888888888888,
             "#fdca26"
            ],
            [
             1,
             "#f0f921"
            ]
           ],
           "sequentialminus": [
            [
             0,
             "#0d0887"
            ],
            [
             0.1111111111111111,
             "#46039f"
            ],
            [
             0.2222222222222222,
             "#7201a8"
            ],
            [
             0.3333333333333333,
             "#9c179e"
            ],
            [
             0.4444444444444444,
             "#bd3786"
            ],
            [
             0.5555555555555556,
             "#d8576b"
            ],
            [
             0.6666666666666666,
             "#ed7953"
            ],
            [
             0.7777777777777778,
             "#fb9f3a"
            ],
            [
             0.8888888888888888,
             "#fdca26"
            ],
            [
             1,
             "#f0f921"
            ]
           ]
          },
          "colorway": [
           "#636efa",
           "#EF553B",
           "#00cc96",
           "#ab63fa",
           "#FFA15A",
           "#19d3f3",
           "#FF6692",
           "#B6E880",
           "#FF97FF",
           "#FECB52"
          ],
          "font": {
           "color": "#2a3f5f"
          },
          "geo": {
           "bgcolor": "white",
           "lakecolor": "white",
           "landcolor": "#E5ECF6",
           "showlakes": true,
           "showland": true,
           "subunitcolor": "white"
          },
          "hoverlabel": {
           "align": "left"
          },
          "hovermode": "closest",
          "mapbox": {
           "style": "light"
          },
          "paper_bgcolor": "white",
          "plot_bgcolor": "#E5ECF6",
          "polar": {
           "angularaxis": {
            "gridcolor": "white",
            "linecolor": "white",
            "ticks": ""
           },
           "bgcolor": "#E5ECF6",
           "radialaxis": {
            "gridcolor": "white",
            "linecolor": "white",
            "ticks": ""
           }
          },
          "scene": {
           "xaxis": {
            "backgroundcolor": "#E5ECF6",
            "gridcolor": "white",
            "gridwidth": 2,
            "linecolor": "white",
            "showbackground": true,
            "ticks": "",
            "zerolinecolor": "white"
           },
           "yaxis": {
            "backgroundcolor": "#E5ECF6",
            "gridcolor": "white",
            "gridwidth": 2,
            "linecolor": "white",
            "showbackground": true,
            "ticks": "",
            "zerolinecolor": "white"
           },
           "zaxis": {
            "backgroundcolor": "#E5ECF6",
            "gridcolor": "white",
            "gridwidth": 2,
            "linecolor": "white",
            "showbackground": true,
            "ticks": "",
            "zerolinecolor": "white"
           }
          },
          "shapedefaults": {
           "line": {
            "color": "#2a3f5f"
           }
          },
          "ternary": {
           "aaxis": {
            "gridcolor": "white",
            "linecolor": "white",
            "ticks": ""
           },
           "baxis": {
            "gridcolor": "white",
            "linecolor": "white",
            "ticks": ""
           },
           "bgcolor": "#E5ECF6",
           "caxis": {
            "gridcolor": "white",
            "linecolor": "white",
            "ticks": ""
           }
          },
          "title": {
           "x": 0.05
          },
          "xaxis": {
           "automargin": true,
           "gridcolor": "white",
           "linecolor": "white",
           "ticks": "",
           "title": {
            "standoff": 15
           },
           "zerolinecolor": "white",
           "zerolinewidth": 2
          },
          "yaxis": {
           "automargin": true,
           "gridcolor": "white",
           "linecolor": "white",
           "ticks": "",
           "title": {
            "standoff": 15
           },
           "zerolinecolor": "white",
           "zerolinewidth": 2
          }
         }
        },
        "title": {
         "text": "SLIM avg. fitness and Std Dev (sustavianfeed) over 30 folds"
        },
        "width": 700,
        "xaxis": {
         "title": {
          "text": "Generation"
         }
        },
        "yaxis": {
         "title": {
          "text": "Fitness"
         }
        }
       }
      }
     },
     "metadata": {},
     "output_type": "display_data"
    }
   ],
   "source": [
    "plot_avg_fitness('SLIM', n_outer_cv, dataset_name='sustavianfeed')"
   ]
  },
  {
   "cell_type": "markdown",
   "id": "ba59f756",
   "metadata": {},
   "source": [
    "When looking at the average performance we again notice early convergence with the model barely improving after epoch 8."
   ]
  },
  {
   "cell_type": "code",
   "execution_count": 19,
   "id": "ddfc156b",
   "metadata": {},
   "outputs": [
    {
     "data": {
      "application/vnd.plotly.v1+json": {
       "config": {
        "plotlyServerURL": "https://plot.ly"
       },
       "data": [
        {
         "line": {
          "color": "blue"
         },
         "mode": "lines",
         "name": "Fold 1",
         "showlegend": false,
         "type": "scatter",
         "xaxis": "x",
         "y": {
          "bdata": "AwMDEBAQEBAfHx8sLDs7SkpKSkpK",
          "dtype": "i1"
         },
         "yaxis": "y"
        },
        {
         "line": {
          "color": "blue"
         },
         "mode": "lines",
         "name": "Fold 2",
         "showlegend": false,
         "type": "scatter",
         "xaxis": "x2",
         "y": {
          "bdata": "AwMDEBAQEBAfHx8fHx8fHx8sLCws",
          "dtype": "i1"
         },
         "yaxis": "y2"
        },
        {
         "line": {
          "color": "blue"
         },
         "mode": "lines",
         "name": "Fold 3",
         "showlegend": false,
         "type": "scatter",
         "xaxis": "x3",
         "y": {
          "bdata": "AwMDEBAQHR0dLCwfHx8dHR0dHR0d",
          "dtype": "i1"
         },
         "yaxis": "y3"
        },
        {
         "line": {
          "color": "blue"
         },
         "mode": "lines",
         "name": "Fold 4",
         "showlegend": false,
         "type": "scatter",
         "xaxis": "x4",
         "y": {
          "bdata": "AwMDEBAQEBAfHx8fHywsLCwsLCws",
          "dtype": "i1"
         },
         "yaxis": "y4"
        },
        {
         "line": {
          "color": "blue"
         },
         "mode": "lines",
         "name": "Fold 5",
         "showlegend": false,
         "type": "scatter",
         "xaxis": "x5",
         "y": {
          "bdata": "AwMDEBAQEBAfHx8sLDs7SkpKSjk5",
          "dtype": "i1"
         },
         "yaxis": "y5"
        },
        {
         "line": {
          "color": "blue"
         },
         "mode": "lines",
         "name": "Fold 6",
         "showlegend": false,
         "type": "scatter",
         "xaxis": "x6",
         "y": {
          "bdata": "AwMDEBAQEBAfHx8sLDs7Sko7Ozs7",
          "dtype": "i1"
         },
         "yaxis": "y6"
        },
        {
         "line": {
          "color": "blue"
         },
         "mode": "lines",
         "name": "Fold 7",
         "showlegend": false,
         "type": "scatter",
         "xaxis": "x7",
         "y": {
          "bdata": "AwMDEhISEhISEhISEhISEhISISEh",
          "dtype": "i1"
         },
         "yaxis": "y7"
        },
        {
         "line": {
          "color": "blue"
         },
         "mode": "lines",
         "name": "Fold 8",
         "showlegend": false,
         "type": "scatter",
         "xaxis": "x8",
         "y": {
          "bdata": "AwMDEBAQEBAfHx8sLDs7Ozs7Ozs7",
          "dtype": "i1"
         },
         "yaxis": "y8"
        },
        {
         "line": {
          "color": "blue"
         },
         "mode": "lines",
         "name": "Fold 9",
         "showlegend": false,
         "type": "scatter",
         "xaxis": "x9",
         "y": {
          "bdata": "AwMDEBAQEBAfHx8sLDs7Sko7Ozs7",
          "dtype": "i1"
         },
         "yaxis": "y9"
        },
        {
         "line": {
          "color": "blue"
         },
         "mode": "lines",
         "name": "Fold 10",
         "showlegend": false,
         "type": "scatter",
         "xaxis": "x10",
         "y": {
          "bdata": "AwMDEBAQEBAfHx8fHywsLDtISEhI",
          "dtype": "i1"
         },
         "yaxis": "y10"
        },
        {
         "line": {
          "color": "blue"
         },
         "mode": "lines",
         "name": "Fold 11",
         "showlegend": false,
         "type": "scatter",
         "xaxis": "x11",
         "y": {
          "bdata": "AwMDEBAQEBAfHx8sLCwsOzs7VVVI",
          "dtype": "i1"
         },
         "yaxis": "y11"
        },
        {
         "line": {
          "color": "blue"
         },
         "mode": "lines",
         "name": "Fold 12",
         "showlegend": false,
         "type": "scatter",
         "xaxis": "x12",
         "y": {
          "bdata": "AwMDEBAQEBAfHx8sLDs7OzswMDk5",
          "dtype": "i1"
         },
         "yaxis": "y12"
        },
        {
         "line": {
          "color": "blue"
         },
         "mode": "lines",
         "name": "Fold 13",
         "showlegend": false,
         "type": "scatter",
         "xaxis": "x13",
         "y": {
          "bdata": "AwMDEBAQEBAfHx8sLCwsOzs7VVVI",
          "dtype": "i1"
         },
         "yaxis": "y13"
        },
        {
         "line": {
          "color": "blue"
         },
         "mode": "lines",
         "name": "Fold 14",
         "showlegend": false,
         "type": "scatter",
         "xaxis": "x14",
         "y": {
          "bdata": "AwMDEBAQEBAfHx8sLDs7Ozs7Li4u",
          "dtype": "i1"
         },
         "yaxis": "y14"
        },
        {
         "line": {
          "color": "blue"
         },
         "mode": "lines",
         "name": "Fold 15",
         "showlegend": false,
         "type": "scatter",
         "xaxis": "x15",
         "y": {
          "bdata": "AwMDEBAQEBAfHx8sLCwsOzs7VVVV",
          "dtype": "i1"
         },
         "yaxis": "y15"
        },
        {
         "line": {
          "color": "blue"
         },
         "mode": "lines",
         "name": "Fold 16",
         "showlegend": false,
         "type": "scatter",
         "xaxis": "x16",
         "y": {
          "bdata": "AwMDEBAQEBAfHx8fIyw5OTk5OTk5",
          "dtype": "i1"
         },
         "yaxis": "y16"
        },
        {
         "line": {
          "color": "blue"
         },
         "mode": "lines",
         "name": "Fold 17",
         "showlegend": false,
         "type": "scatter",
         "xaxis": "x17",
         "y": {
          "bdata": "AwMDEBAQEBAfHx8sLCwsOzs7VVVV",
          "dtype": "i1"
         },
         "yaxis": "y17"
        },
        {
         "line": {
          "color": "blue"
         },
         "mode": "lines",
         "name": "Fold 18",
         "showlegend": false,
         "type": "scatter",
         "xaxis": "x18",
         "y": {
          "bdata": "AxISEBAQEBAuLjs7Ozs7Ozs7Ozs7",
          "dtype": "i1"
         },
         "yaxis": "y18"
        },
        {
         "line": {
          "color": "blue"
         },
         "mode": "lines",
         "name": "Fold 19",
         "showlegend": false,
         "type": "scatter",
         "xaxis": "x19",
         "y": {
          "bdata": "AwMDEBAQEBAfHx8sLDs7OzswMDk5",
          "dtype": "i1"
         },
         "yaxis": "y19"
        },
        {
         "line": {
          "color": "blue"
         },
         "mode": "lines",
         "name": "Fold 20",
         "showlegend": false,
         "type": "scatter",
         "xaxis": "x20",
         "y": {
          "bdata": "AwMDEBAQEBAfHx8sLCw5OSwsLCws",
          "dtype": "i1"
         },
         "yaxis": "y20"
        },
        {
         "line": {
          "color": "blue"
         },
         "mode": "lines",
         "name": "Fold 21",
         "showlegend": false,
         "type": "scatter",
         "xaxis": "x21",
         "y": {
          "bdata": "AwMDEBAQEBAfHx8sLCw5OSw5OTk5",
          "dtype": "i1"
         },
         "yaxis": "y21"
        },
        {
         "line": {
          "color": "blue"
         },
         "mode": "lines",
         "name": "Fold 22",
         "showlegend": false,
         "type": "scatter",
         "xaxis": "x22",
         "y": {
          "bdata": "AwMDEBAQEBAfHx8sLDs7OzswMDk5",
          "dtype": "i1"
         },
         "yaxis": "y22"
        },
        {
         "line": {
          "color": "blue"
         },
         "mode": "lines",
         "name": "Fold 23",
         "showlegend": false,
         "type": "scatter",
         "xaxis": "x23",
         "y": {
          "bdata": "AwMDEBAQEBAfHx8sLCwsOzssLEhI",
          "dtype": "i1"
         },
         "yaxis": "y23"
        },
        {
         "line": {
          "color": "blue"
         },
         "mode": "lines",
         "name": "Fold 24",
         "showlegend": false,
         "type": "scatter",
         "xaxis": "x24",
         "y": {
          "bdata": "AwMDEBAQEBAfHx8sLDs7Ozs7Li4u",
          "dtype": "i1"
         },
         "yaxis": "y24"
        },
        {
         "line": {
          "color": "blue"
         },
         "mode": "lines",
         "name": "Fold 25",
         "showlegend": false,
         "type": "scatter",
         "xaxis": "x25",
         "y": {
          "bdata": "AwMDEBAQEBAfHx8sLCwsOzs7VVVI",
          "dtype": "i1"
         },
         "yaxis": "y25"
        },
        {
         "line": {
          "color": "blue"
         },
         "mode": "lines",
         "name": "Fold 26",
         "showlegend": false,
         "type": "scatter",
         "xaxis": "x26",
         "y": {
          "bdata": "AwMDEBAQEBAfHx8sLCwsOzs7VVVI",
          "dtype": "i1"
         },
         "yaxis": "y26"
        },
        {
         "line": {
          "color": "blue"
         },
         "mode": "lines",
         "name": "Fold 27",
         "showlegend": false,
         "type": "scatter",
         "xaxis": "x27",
         "y": {
          "bdata": "AwMDEBAQEBAfHx8sLCwsOzs7VVVI",
          "dtype": "i1"
         },
         "yaxis": "y27"
        },
        {
         "line": {
          "color": "blue"
         },
         "mode": "lines",
         "name": "Fold 28",
         "showlegend": false,
         "type": "scatter",
         "xaxis": "x28",
         "y": {
          "bdata": "AwMDEBAQEBAfHx8sLCwsOzssLEhI",
          "dtype": "i1"
         },
         "yaxis": "y28"
        },
        {
         "line": {
          "color": "blue"
         },
         "mode": "lines",
         "name": "Fold 29",
         "showlegend": false,
         "type": "scatter",
         "xaxis": "x29",
         "y": {
          "bdata": "AwMDEBAQEBAfHx8fHywsLDtISEhI",
          "dtype": "i1"
         },
         "yaxis": "y29"
        },
        {
         "line": {
          "color": "blue"
         },
         "mode": "lines",
         "name": "Fold 30",
         "showlegend": false,
         "type": "scatter",
         "xaxis": "x30",
         "y": {
          "bdata": "AwMDEBAQEBAfHx8sLDs7Ozs7OTk5",
          "dtype": "i1"
         },
         "yaxis": "y30"
        }
       ],
       "layout": {
        "annotations": [
         {
          "font": {
           "size": 16
          },
          "showarrow": false,
          "text": "Fold 1",
          "x": 0.14444444444444446,
          "xanchor": "center",
          "xref": "paper",
          "y": 1,
          "yanchor": "bottom",
          "yref": "paper"
         },
         {
          "font": {
           "size": 16
          },
          "showarrow": false,
          "text": "Fold 2",
          "x": 0.5,
          "xanchor": "center",
          "xref": "paper",
          "y": 1,
          "yanchor": "bottom",
          "yref": "paper"
         },
         {
          "font": {
           "size": 16
          },
          "showarrow": false,
          "text": "Fold 3",
          "x": 0.8555555555555556,
          "xanchor": "center",
          "xref": "paper",
          "y": 1,
          "yanchor": "bottom",
          "yref": "paper"
         },
         {
          "font": {
           "size": 16
          },
          "showarrow": false,
          "text": "Fold 4",
          "x": 0.14444444444444446,
          "xanchor": "center",
          "xref": "paper",
          "y": 0.8950000000000001,
          "yanchor": "bottom",
          "yref": "paper"
         },
         {
          "font": {
           "size": 16
          },
          "showarrow": false,
          "text": "Fold 5",
          "x": 0.5,
          "xanchor": "center",
          "xref": "paper",
          "y": 0.8950000000000001,
          "yanchor": "bottom",
          "yref": "paper"
         },
         {
          "font": {
           "size": 16
          },
          "showarrow": false,
          "text": "Fold 6",
          "x": 0.8555555555555556,
          "xanchor": "center",
          "xref": "paper",
          "y": 0.8950000000000001,
          "yanchor": "bottom",
          "yref": "paper"
         },
         {
          "font": {
           "size": 16
          },
          "showarrow": false,
          "text": "Fold 7",
          "x": 0.14444444444444446,
          "xanchor": "center",
          "xref": "paper",
          "y": 0.7900000000000001,
          "yanchor": "bottom",
          "yref": "paper"
         },
         {
          "font": {
           "size": 16
          },
          "showarrow": false,
          "text": "Fold 8",
          "x": 0.5,
          "xanchor": "center",
          "xref": "paper",
          "y": 0.7900000000000001,
          "yanchor": "bottom",
          "yref": "paper"
         },
         {
          "font": {
           "size": 16
          },
          "showarrow": false,
          "text": "Fold 9",
          "x": 0.8555555555555556,
          "xanchor": "center",
          "xref": "paper",
          "y": 0.7900000000000001,
          "yanchor": "bottom",
          "yref": "paper"
         },
         {
          "font": {
           "size": 16
          },
          "showarrow": false,
          "text": "Fold 10",
          "x": 0.14444444444444446,
          "xanchor": "center",
          "xref": "paper",
          "y": 0.6850000000000002,
          "yanchor": "bottom",
          "yref": "paper"
         },
         {
          "font": {
           "size": 16
          },
          "showarrow": false,
          "text": "Fold 11",
          "x": 0.5,
          "xanchor": "center",
          "xref": "paper",
          "y": 0.6850000000000002,
          "yanchor": "bottom",
          "yref": "paper"
         },
         {
          "font": {
           "size": 16
          },
          "showarrow": false,
          "text": "Fold 12",
          "x": 0.8555555555555556,
          "xanchor": "center",
          "xref": "paper",
          "y": 0.6850000000000002,
          "yanchor": "bottom",
          "yref": "paper"
         },
         {
          "font": {
           "size": 16
          },
          "showarrow": false,
          "text": "Fold 13",
          "x": 0.14444444444444446,
          "xanchor": "center",
          "xref": "paper",
          "y": 0.5800000000000001,
          "yanchor": "bottom",
          "yref": "paper"
         },
         {
          "font": {
           "size": 16
          },
          "showarrow": false,
          "text": "Fold 14",
          "x": 0.5,
          "xanchor": "center",
          "xref": "paper",
          "y": 0.5800000000000001,
          "yanchor": "bottom",
          "yref": "paper"
         },
         {
          "font": {
           "size": 16
          },
          "showarrow": false,
          "text": "Fold 15",
          "x": 0.8555555555555556,
          "xanchor": "center",
          "xref": "paper",
          "y": 0.5800000000000001,
          "yanchor": "bottom",
          "yref": "paper"
         },
         {
          "font": {
           "size": 16
          },
          "showarrow": false,
          "text": "Fold 16",
          "x": 0.14444444444444446,
          "xanchor": "center",
          "xref": "paper",
          "y": 0.47500000000000003,
          "yanchor": "bottom",
          "yref": "paper"
         },
         {
          "font": {
           "size": 16
          },
          "showarrow": false,
          "text": "Fold 17",
          "x": 0.5,
          "xanchor": "center",
          "xref": "paper",
          "y": 0.47500000000000003,
          "yanchor": "bottom",
          "yref": "paper"
         },
         {
          "font": {
           "size": 16
          },
          "showarrow": false,
          "text": "Fold 18",
          "x": 0.8555555555555556,
          "xanchor": "center",
          "xref": "paper",
          "y": 0.47500000000000003,
          "yanchor": "bottom",
          "yref": "paper"
         },
         {
          "font": {
           "size": 16
          },
          "showarrow": false,
          "text": "Fold 19",
          "x": 0.14444444444444446,
          "xanchor": "center",
          "xref": "paper",
          "y": 0.37000000000000005,
          "yanchor": "bottom",
          "yref": "paper"
         },
         {
          "font": {
           "size": 16
          },
          "showarrow": false,
          "text": "Fold 20",
          "x": 0.5,
          "xanchor": "center",
          "xref": "paper",
          "y": 0.37000000000000005,
          "yanchor": "bottom",
          "yref": "paper"
         },
         {
          "font": {
           "size": 16
          },
          "showarrow": false,
          "text": "Fold 21",
          "x": 0.8555555555555556,
          "xanchor": "center",
          "xref": "paper",
          "y": 0.37000000000000005,
          "yanchor": "bottom",
          "yref": "paper"
         },
         {
          "font": {
           "size": 16
          },
          "showarrow": false,
          "text": "Fold 22",
          "x": 0.14444444444444446,
          "xanchor": "center",
          "xref": "paper",
          "y": 0.265,
          "yanchor": "bottom",
          "yref": "paper"
         },
         {
          "font": {
           "size": 16
          },
          "showarrow": false,
          "text": "Fold 23",
          "x": 0.5,
          "xanchor": "center",
          "xref": "paper",
          "y": 0.265,
          "yanchor": "bottom",
          "yref": "paper"
         },
         {
          "font": {
           "size": 16
          },
          "showarrow": false,
          "text": "Fold 24",
          "x": 0.8555555555555556,
          "xanchor": "center",
          "xref": "paper",
          "y": 0.265,
          "yanchor": "bottom",
          "yref": "paper"
         },
         {
          "font": {
           "size": 16
          },
          "showarrow": false,
          "text": "Fold 25",
          "x": 0.14444444444444446,
          "xanchor": "center",
          "xref": "paper",
          "y": 0.16000000000000003,
          "yanchor": "bottom",
          "yref": "paper"
         },
         {
          "font": {
           "size": 16
          },
          "showarrow": false,
          "text": "Fold 26",
          "x": 0.5,
          "xanchor": "center",
          "xref": "paper",
          "y": 0.16000000000000003,
          "yanchor": "bottom",
          "yref": "paper"
         },
         {
          "font": {
           "size": 16
          },
          "showarrow": false,
          "text": "Fold 27",
          "x": 0.8555555555555556,
          "xanchor": "center",
          "xref": "paper",
          "y": 0.16000000000000003,
          "yanchor": "bottom",
          "yref": "paper"
         },
         {
          "font": {
           "size": 16
          },
          "showarrow": false,
          "text": "Fold 28",
          "x": 0.14444444444444446,
          "xanchor": "center",
          "xref": "paper",
          "y": 0.05500000000000001,
          "yanchor": "bottom",
          "yref": "paper"
         },
         {
          "font": {
           "size": 16
          },
          "showarrow": false,
          "text": "Fold 29",
          "x": 0.5,
          "xanchor": "center",
          "xref": "paper",
          "y": 0.05500000000000001,
          "yanchor": "bottom",
          "yref": "paper"
         },
         {
          "font": {
           "size": 16
          },
          "showarrow": false,
          "text": "Fold 30",
          "x": 0.8555555555555556,
          "xanchor": "center",
          "xref": "paper",
          "y": 0.05500000000000001,
          "yanchor": "bottom",
          "yref": "paper"
         }
        ],
        "height": 4000,
        "margin": {
         "t": 50
        },
        "template": {
         "data": {
          "bar": [
           {
            "error_x": {
             "color": "#2a3f5f"
            },
            "error_y": {
             "color": "#2a3f5f"
            },
            "marker": {
             "line": {
              "color": "#E5ECF6",
              "width": 0.5
             },
             "pattern": {
              "fillmode": "overlay",
              "size": 10,
              "solidity": 0.2
             }
            },
            "type": "bar"
           }
          ],
          "barpolar": [
           {
            "marker": {
             "line": {
              "color": "#E5ECF6",
              "width": 0.5
             },
             "pattern": {
              "fillmode": "overlay",
              "size": 10,
              "solidity": 0.2
             }
            },
            "type": "barpolar"
           }
          ],
          "carpet": [
           {
            "aaxis": {
             "endlinecolor": "#2a3f5f",
             "gridcolor": "white",
             "linecolor": "white",
             "minorgridcolor": "white",
             "startlinecolor": "#2a3f5f"
            },
            "baxis": {
             "endlinecolor": "#2a3f5f",
             "gridcolor": "white",
             "linecolor": "white",
             "minorgridcolor": "white",
             "startlinecolor": "#2a3f5f"
            },
            "type": "carpet"
           }
          ],
          "choropleth": [
           {
            "colorbar": {
             "outlinewidth": 0,
             "ticks": ""
            },
            "type": "choropleth"
           }
          ],
          "contour": [
           {
            "colorbar": {
             "outlinewidth": 0,
             "ticks": ""
            },
            "colorscale": [
             [
              0,
              "#0d0887"
             ],
             [
              0.1111111111111111,
              "#46039f"
             ],
             [
              0.2222222222222222,
              "#7201a8"
             ],
             [
              0.3333333333333333,
              "#9c179e"
             ],
             [
              0.4444444444444444,
              "#bd3786"
             ],
             [
              0.5555555555555556,
              "#d8576b"
             ],
             [
              0.6666666666666666,
              "#ed7953"
             ],
             [
              0.7777777777777778,
              "#fb9f3a"
             ],
             [
              0.8888888888888888,
              "#fdca26"
             ],
             [
              1,
              "#f0f921"
             ]
            ],
            "type": "contour"
           }
          ],
          "contourcarpet": [
           {
            "colorbar": {
             "outlinewidth": 0,
             "ticks": ""
            },
            "type": "contourcarpet"
           }
          ],
          "heatmap": [
           {
            "colorbar": {
             "outlinewidth": 0,
             "ticks": ""
            },
            "colorscale": [
             [
              0,
              "#0d0887"
             ],
             [
              0.1111111111111111,
              "#46039f"
             ],
             [
              0.2222222222222222,
              "#7201a8"
             ],
             [
              0.3333333333333333,
              "#9c179e"
             ],
             [
              0.4444444444444444,
              "#bd3786"
             ],
             [
              0.5555555555555556,
              "#d8576b"
             ],
             [
              0.6666666666666666,
              "#ed7953"
             ],
             [
              0.7777777777777778,
              "#fb9f3a"
             ],
             [
              0.8888888888888888,
              "#fdca26"
             ],
             [
              1,
              "#f0f921"
             ]
            ],
            "type": "heatmap"
           }
          ],
          "histogram": [
           {
            "marker": {
             "pattern": {
              "fillmode": "overlay",
              "size": 10,
              "solidity": 0.2
             }
            },
            "type": "histogram"
           }
          ],
          "histogram2d": [
           {
            "colorbar": {
             "outlinewidth": 0,
             "ticks": ""
            },
            "colorscale": [
             [
              0,
              "#0d0887"
             ],
             [
              0.1111111111111111,
              "#46039f"
             ],
             [
              0.2222222222222222,
              "#7201a8"
             ],
             [
              0.3333333333333333,
              "#9c179e"
             ],
             [
              0.4444444444444444,
              "#bd3786"
             ],
             [
              0.5555555555555556,
              "#d8576b"
             ],
             [
              0.6666666666666666,
              "#ed7953"
             ],
             [
              0.7777777777777778,
              "#fb9f3a"
             ],
             [
              0.8888888888888888,
              "#fdca26"
             ],
             [
              1,
              "#f0f921"
             ]
            ],
            "type": "histogram2d"
           }
          ],
          "histogram2dcontour": [
           {
            "colorbar": {
             "outlinewidth": 0,
             "ticks": ""
            },
            "colorscale": [
             [
              0,
              "#0d0887"
             ],
             [
              0.1111111111111111,
              "#46039f"
             ],
             [
              0.2222222222222222,
              "#7201a8"
             ],
             [
              0.3333333333333333,
              "#9c179e"
             ],
             [
              0.4444444444444444,
              "#bd3786"
             ],
             [
              0.5555555555555556,
              "#d8576b"
             ],
             [
              0.6666666666666666,
              "#ed7953"
             ],
             [
              0.7777777777777778,
              "#fb9f3a"
             ],
             [
              0.8888888888888888,
              "#fdca26"
             ],
             [
              1,
              "#f0f921"
             ]
            ],
            "type": "histogram2dcontour"
           }
          ],
          "mesh3d": [
           {
            "colorbar": {
             "outlinewidth": 0,
             "ticks": ""
            },
            "type": "mesh3d"
           }
          ],
          "parcoords": [
           {
            "line": {
             "colorbar": {
              "outlinewidth": 0,
              "ticks": ""
             }
            },
            "type": "parcoords"
           }
          ],
          "pie": [
           {
            "automargin": true,
            "type": "pie"
           }
          ],
          "scatter": [
           {
            "fillpattern": {
             "fillmode": "overlay",
             "size": 10,
             "solidity": 0.2
            },
            "type": "scatter"
           }
          ],
          "scatter3d": [
           {
            "line": {
             "colorbar": {
              "outlinewidth": 0,
              "ticks": ""
             }
            },
            "marker": {
             "colorbar": {
              "outlinewidth": 0,
              "ticks": ""
             }
            },
            "type": "scatter3d"
           }
          ],
          "scattercarpet": [
           {
            "marker": {
             "colorbar": {
              "outlinewidth": 0,
              "ticks": ""
             }
            },
            "type": "scattercarpet"
           }
          ],
          "scattergeo": [
           {
            "marker": {
             "colorbar": {
              "outlinewidth": 0,
              "ticks": ""
             }
            },
            "type": "scattergeo"
           }
          ],
          "scattergl": [
           {
            "marker": {
             "colorbar": {
              "outlinewidth": 0,
              "ticks": ""
             }
            },
            "type": "scattergl"
           }
          ],
          "scattermap": [
           {
            "marker": {
             "colorbar": {
              "outlinewidth": 0,
              "ticks": ""
             }
            },
            "type": "scattermap"
           }
          ],
          "scattermapbox": [
           {
            "marker": {
             "colorbar": {
              "outlinewidth": 0,
              "ticks": ""
             }
            },
            "type": "scattermapbox"
           }
          ],
          "scatterpolar": [
           {
            "marker": {
             "colorbar": {
              "outlinewidth": 0,
              "ticks": ""
             }
            },
            "type": "scatterpolar"
           }
          ],
          "scatterpolargl": [
           {
            "marker": {
             "colorbar": {
              "outlinewidth": 0,
              "ticks": ""
             }
            },
            "type": "scatterpolargl"
           }
          ],
          "scatterternary": [
           {
            "marker": {
             "colorbar": {
              "outlinewidth": 0,
              "ticks": ""
             }
            },
            "type": "scatterternary"
           }
          ],
          "surface": [
           {
            "colorbar": {
             "outlinewidth": 0,
             "ticks": ""
            },
            "colorscale": [
             [
              0,
              "#0d0887"
             ],
             [
              0.1111111111111111,
              "#46039f"
             ],
             [
              0.2222222222222222,
              "#7201a8"
             ],
             [
              0.3333333333333333,
              "#9c179e"
             ],
             [
              0.4444444444444444,
              "#bd3786"
             ],
             [
              0.5555555555555556,
              "#d8576b"
             ],
             [
              0.6666666666666666,
              "#ed7953"
             ],
             [
              0.7777777777777778,
              "#fb9f3a"
             ],
             [
              0.8888888888888888,
              "#fdca26"
             ],
             [
              1,
              "#f0f921"
             ]
            ],
            "type": "surface"
           }
          ],
          "table": [
           {
            "cells": {
             "fill": {
              "color": "#EBF0F8"
             },
             "line": {
              "color": "white"
             }
            },
            "header": {
             "fill": {
              "color": "#C8D4E3"
             },
             "line": {
              "color": "white"
             }
            },
            "type": "table"
           }
          ]
         },
         "layout": {
          "annotationdefaults": {
           "arrowcolor": "#2a3f5f",
           "arrowhead": 0,
           "arrowwidth": 1
          },
          "autotypenumbers": "strict",
          "coloraxis": {
           "colorbar": {
            "outlinewidth": 0,
            "ticks": ""
           }
          },
          "colorscale": {
           "diverging": [
            [
             0,
             "#8e0152"
            ],
            [
             0.1,
             "#c51b7d"
            ],
            [
             0.2,
             "#de77ae"
            ],
            [
             0.3,
             "#f1b6da"
            ],
            [
             0.4,
             "#fde0ef"
            ],
            [
             0.5,
             "#f7f7f7"
            ],
            [
             0.6,
             "#e6f5d0"
            ],
            [
             0.7,
             "#b8e186"
            ],
            [
             0.8,
             "#7fbc41"
            ],
            [
             0.9,
             "#4d9221"
            ],
            [
             1,
             "#276419"
            ]
           ],
           "sequential": [
            [
             0,
             "#0d0887"
            ],
            [
             0.1111111111111111,
             "#46039f"
            ],
            [
             0.2222222222222222,
             "#7201a8"
            ],
            [
             0.3333333333333333,
             "#9c179e"
            ],
            [
             0.4444444444444444,
             "#bd3786"
            ],
            [
             0.5555555555555556,
             "#d8576b"
            ],
            [
             0.6666666666666666,
             "#ed7953"
            ],
            [
             0.7777777777777778,
             "#fb9f3a"
            ],
            [
             0.8888888888888888,
             "#fdca26"
            ],
            [
             1,
             "#f0f921"
            ]
           ],
           "sequentialminus": [
            [
             0,
             "#0d0887"
            ],
            [
             0.1111111111111111,
             "#46039f"
            ],
            [
             0.2222222222222222,
             "#7201a8"
            ],
            [
             0.3333333333333333,
             "#9c179e"
            ],
            [
             0.4444444444444444,
             "#bd3786"
            ],
            [
             0.5555555555555556,
             "#d8576b"
            ],
            [
             0.6666666666666666,
             "#ed7953"
            ],
            [
             0.7777777777777778,
             "#fb9f3a"
            ],
            [
             0.8888888888888888,
             "#fdca26"
            ],
            [
             1,
             "#f0f921"
            ]
           ]
          },
          "colorway": [
           "#636efa",
           "#EF553B",
           "#00cc96",
           "#ab63fa",
           "#FFA15A",
           "#19d3f3",
           "#FF6692",
           "#B6E880",
           "#FF97FF",
           "#FECB52"
          ],
          "font": {
           "color": "#2a3f5f"
          },
          "geo": {
           "bgcolor": "white",
           "lakecolor": "white",
           "landcolor": "#E5ECF6",
           "showlakes": true,
           "showland": true,
           "subunitcolor": "white"
          },
          "hoverlabel": {
           "align": "left"
          },
          "hovermode": "closest",
          "mapbox": {
           "style": "light"
          },
          "paper_bgcolor": "white",
          "plot_bgcolor": "#E5ECF6",
          "polar": {
           "angularaxis": {
            "gridcolor": "white",
            "linecolor": "white",
            "ticks": ""
           },
           "bgcolor": "#E5ECF6",
           "radialaxis": {
            "gridcolor": "white",
            "linecolor": "white",
            "ticks": ""
           }
          },
          "scene": {
           "xaxis": {
            "backgroundcolor": "#E5ECF6",
            "gridcolor": "white",
            "gridwidth": 2,
            "linecolor": "white",
            "showbackground": true,
            "ticks": "",
            "zerolinecolor": "white"
           },
           "yaxis": {
            "backgroundcolor": "#E5ECF6",
            "gridcolor": "white",
            "gridwidth": 2,
            "linecolor": "white",
            "showbackground": true,
            "ticks": "",
            "zerolinecolor": "white"
           },
           "zaxis": {
            "backgroundcolor": "#E5ECF6",
            "gridcolor": "white",
            "gridwidth": 2,
            "linecolor": "white",
            "showbackground": true,
            "ticks": "",
            "zerolinecolor": "white"
           }
          },
          "shapedefaults": {
           "line": {
            "color": "#2a3f5f"
           }
          },
          "ternary": {
           "aaxis": {
            "gridcolor": "white",
            "linecolor": "white",
            "ticks": ""
           },
           "baxis": {
            "gridcolor": "white",
            "linecolor": "white",
            "ticks": ""
           },
           "bgcolor": "#E5ECF6",
           "caxis": {
            "gridcolor": "white",
            "linecolor": "white",
            "ticks": ""
           }
          },
          "title": {
           "x": 0.05
          },
          "xaxis": {
           "automargin": true,
           "gridcolor": "white",
           "linecolor": "white",
           "ticks": "",
           "title": {
            "standoff": 15
           },
           "zerolinecolor": "white",
           "zerolinewidth": 2
          },
          "yaxis": {
           "automargin": true,
           "gridcolor": "white",
           "linecolor": "white",
           "ticks": "",
           "title": {
            "standoff": 15
           },
           "zerolinecolor": "white",
           "zerolinewidth": 2
          }
         }
        },
        "title": {
         "text": "SLIM - Solution size (sustavianfeed dataset)"
        },
        "width": 1000,
        "xaxis": {
         "anchor": "y",
         "domain": [
          0,
          0.2888888888888889
         ],
         "title": {
          "text": "Generation"
         }
        },
        "xaxis10": {
         "anchor": "y10",
         "domain": [
          0,
          0.2888888888888889
         ],
         "title": {
          "text": "Generation"
         }
        },
        "xaxis11": {
         "anchor": "y11",
         "domain": [
          0.35555555555555557,
          0.6444444444444445
         ],
         "title": {
          "text": "Generation"
         }
        },
        "xaxis12": {
         "anchor": "y12",
         "domain": [
          0.7111111111111111,
          1
         ],
         "title": {
          "text": "Generation"
         }
        },
        "xaxis13": {
         "anchor": "y13",
         "domain": [
          0,
          0.2888888888888889
         ],
         "title": {
          "text": "Generation"
         }
        },
        "xaxis14": {
         "anchor": "y14",
         "domain": [
          0.35555555555555557,
          0.6444444444444445
         ],
         "title": {
          "text": "Generation"
         }
        },
        "xaxis15": {
         "anchor": "y15",
         "domain": [
          0.7111111111111111,
          1
         ],
         "title": {
          "text": "Generation"
         }
        },
        "xaxis16": {
         "anchor": "y16",
         "domain": [
          0,
          0.2888888888888889
         ],
         "title": {
          "text": "Generation"
         }
        },
        "xaxis17": {
         "anchor": "y17",
         "domain": [
          0.35555555555555557,
          0.6444444444444445
         ],
         "title": {
          "text": "Generation"
         }
        },
        "xaxis18": {
         "anchor": "y18",
         "domain": [
          0.7111111111111111,
          1
         ],
         "title": {
          "text": "Generation"
         }
        },
        "xaxis19": {
         "anchor": "y19",
         "domain": [
          0,
          0.2888888888888889
         ],
         "title": {
          "text": "Generation"
         }
        },
        "xaxis2": {
         "anchor": "y2",
         "domain": [
          0.35555555555555557,
          0.6444444444444445
         ],
         "title": {
          "text": "Generation"
         }
        },
        "xaxis20": {
         "anchor": "y20",
         "domain": [
          0.35555555555555557,
          0.6444444444444445
         ],
         "title": {
          "text": "Generation"
         }
        },
        "xaxis21": {
         "anchor": "y21",
         "domain": [
          0.7111111111111111,
          1
         ],
         "title": {
          "text": "Generation"
         }
        },
        "xaxis22": {
         "anchor": "y22",
         "domain": [
          0,
          0.2888888888888889
         ],
         "title": {
          "text": "Generation"
         }
        },
        "xaxis23": {
         "anchor": "y23",
         "domain": [
          0.35555555555555557,
          0.6444444444444445
         ],
         "title": {
          "text": "Generation"
         }
        },
        "xaxis24": {
         "anchor": "y24",
         "domain": [
          0.7111111111111111,
          1
         ],
         "title": {
          "text": "Generation"
         }
        },
        "xaxis25": {
         "anchor": "y25",
         "domain": [
          0,
          0.2888888888888889
         ],
         "title": {
          "text": "Generation"
         }
        },
        "xaxis26": {
         "anchor": "y26",
         "domain": [
          0.35555555555555557,
          0.6444444444444445
         ],
         "title": {
          "text": "Generation"
         }
        },
        "xaxis27": {
         "anchor": "y27",
         "domain": [
          0.7111111111111111,
          1
         ],
         "title": {
          "text": "Generation"
         }
        },
        "xaxis28": {
         "anchor": "y28",
         "domain": [
          0,
          0.2888888888888889
         ],
         "title": {
          "text": "Generation"
         }
        },
        "xaxis29": {
         "anchor": "y29",
         "domain": [
          0.35555555555555557,
          0.6444444444444445
         ],
         "title": {
          "text": "Generation"
         }
        },
        "xaxis3": {
         "anchor": "y3",
         "domain": [
          0.7111111111111111,
          1
         ],
         "title": {
          "text": "Generation"
         }
        },
        "xaxis30": {
         "anchor": "y30",
         "domain": [
          0.7111111111111111,
          1
         ],
         "title": {
          "text": "Generation"
         }
        },
        "xaxis4": {
         "anchor": "y4",
         "domain": [
          0,
          0.2888888888888889
         ],
         "title": {
          "text": "Generation"
         }
        },
        "xaxis5": {
         "anchor": "y5",
         "domain": [
          0.35555555555555557,
          0.6444444444444445
         ],
         "title": {
          "text": "Generation"
         }
        },
        "xaxis6": {
         "anchor": "y6",
         "domain": [
          0.7111111111111111,
          1
         ],
         "title": {
          "text": "Generation"
         }
        },
        "xaxis7": {
         "anchor": "y7",
         "domain": [
          0,
          0.2888888888888889
         ],
         "title": {
          "text": "Generation"
         }
        },
        "xaxis8": {
         "anchor": "y8",
         "domain": [
          0.35555555555555557,
          0.6444444444444445
         ],
         "title": {
          "text": "Generation"
         }
        },
        "xaxis9": {
         "anchor": "y9",
         "domain": [
          0.7111111111111111,
          1
         ],
         "title": {
          "text": "Generation"
         }
        },
        "yaxis": {
         "anchor": "x",
         "domain": [
          0.9450000000000001,
          1
         ],
         "range": [
          0,
          null
         ],
         "title": {
          "text": "Nodes count"
         }
        },
        "yaxis10": {
         "anchor": "x10",
         "domain": [
          0.6300000000000001,
          0.6850000000000002
         ],
         "range": [
          0,
          null
         ],
         "title": {
          "text": "Nodes count"
         }
        },
        "yaxis11": {
         "anchor": "x11",
         "domain": [
          0.6300000000000001,
          0.6850000000000002
         ],
         "range": [
          0,
          null
         ],
         "title": {
          "text": "Nodes count"
         }
        },
        "yaxis12": {
         "anchor": "x12",
         "domain": [
          0.6300000000000001,
          0.6850000000000002
         ],
         "range": [
          0,
          null
         ],
         "title": {
          "text": "Nodes count"
         }
        },
        "yaxis13": {
         "anchor": "x13",
         "domain": [
          0.525,
          0.5800000000000001
         ],
         "range": [
          0,
          null
         ],
         "title": {
          "text": "Nodes count"
         }
        },
        "yaxis14": {
         "anchor": "x14",
         "domain": [
          0.525,
          0.5800000000000001
         ],
         "range": [
          0,
          null
         ],
         "title": {
          "text": "Nodes count"
         }
        },
        "yaxis15": {
         "anchor": "x15",
         "domain": [
          0.525,
          0.5800000000000001
         ],
         "range": [
          0,
          null
         ],
         "title": {
          "text": "Nodes count"
         }
        },
        "yaxis16": {
         "anchor": "x16",
         "domain": [
          0.42000000000000004,
          0.47500000000000003
         ],
         "range": [
          0,
          null
         ],
         "title": {
          "text": "Nodes count"
         }
        },
        "yaxis17": {
         "anchor": "x17",
         "domain": [
          0.42000000000000004,
          0.47500000000000003
         ],
         "range": [
          0,
          null
         ],
         "title": {
          "text": "Nodes count"
         }
        },
        "yaxis18": {
         "anchor": "x18",
         "domain": [
          0.42000000000000004,
          0.47500000000000003
         ],
         "range": [
          0,
          null
         ],
         "title": {
          "text": "Nodes count"
         }
        },
        "yaxis19": {
         "anchor": "x19",
         "domain": [
          0.31500000000000006,
          0.37000000000000005
         ],
         "range": [
          0,
          null
         ],
         "title": {
          "text": "Nodes count"
         }
        },
        "yaxis2": {
         "anchor": "x2",
         "domain": [
          0.9450000000000001,
          1
         ],
         "range": [
          0,
          null
         ],
         "title": {
          "text": "Nodes count"
         }
        },
        "yaxis20": {
         "anchor": "x20",
         "domain": [
          0.31500000000000006,
          0.37000000000000005
         ],
         "range": [
          0,
          null
         ],
         "title": {
          "text": "Nodes count"
         }
        },
        "yaxis21": {
         "anchor": "x21",
         "domain": [
          0.31500000000000006,
          0.37000000000000005
         ],
         "range": [
          0,
          null
         ],
         "title": {
          "text": "Nodes count"
         }
        },
        "yaxis22": {
         "anchor": "x22",
         "domain": [
          0.21000000000000002,
          0.265
         ],
         "range": [
          0,
          null
         ],
         "title": {
          "text": "Nodes count"
         }
        },
        "yaxis23": {
         "anchor": "x23",
         "domain": [
          0.21000000000000002,
          0.265
         ],
         "range": [
          0,
          null
         ],
         "title": {
          "text": "Nodes count"
         }
        },
        "yaxis24": {
         "anchor": "x24",
         "domain": [
          0.21000000000000002,
          0.265
         ],
         "range": [
          0,
          null
         ],
         "title": {
          "text": "Nodes count"
         }
        },
        "yaxis25": {
         "anchor": "x25",
         "domain": [
          0.10500000000000001,
          0.16000000000000003
         ],
         "range": [
          0,
          null
         ],
         "title": {
          "text": "Nodes count"
         }
        },
        "yaxis26": {
         "anchor": "x26",
         "domain": [
          0.10500000000000001,
          0.16000000000000003
         ],
         "range": [
          0,
          null
         ],
         "title": {
          "text": "Nodes count"
         }
        },
        "yaxis27": {
         "anchor": "x27",
         "domain": [
          0.10500000000000001,
          0.16000000000000003
         ],
         "range": [
          0,
          null
         ],
         "title": {
          "text": "Nodes count"
         }
        },
        "yaxis28": {
         "anchor": "x28",
         "domain": [
          0,
          0.05500000000000001
         ],
         "range": [
          0,
          null
         ],
         "title": {
          "text": "Nodes count"
         }
        },
        "yaxis29": {
         "anchor": "x29",
         "domain": [
          0,
          0.05500000000000001
         ],
         "range": [
          0,
          null
         ],
         "title": {
          "text": "Nodes count"
         }
        },
        "yaxis3": {
         "anchor": "x3",
         "domain": [
          0.9450000000000001,
          1
         ],
         "range": [
          0,
          null
         ],
         "title": {
          "text": "Nodes count"
         }
        },
        "yaxis30": {
         "anchor": "x30",
         "domain": [
          0,
          0.05500000000000001
         ],
         "range": [
          0,
          null
         ],
         "title": {
          "text": "Nodes count"
         }
        },
        "yaxis4": {
         "anchor": "x4",
         "domain": [
          0.8400000000000001,
          0.8950000000000001
         ],
         "range": [
          0,
          null
         ],
         "title": {
          "text": "Nodes count"
         }
        },
        "yaxis5": {
         "anchor": "x5",
         "domain": [
          0.8400000000000001,
          0.8950000000000001
         ],
         "range": [
          0,
          null
         ],
         "title": {
          "text": "Nodes count"
         }
        },
        "yaxis6": {
         "anchor": "x6",
         "domain": [
          0.8400000000000001,
          0.8950000000000001
         ],
         "range": [
          0,
          null
         ],
         "title": {
          "text": "Nodes count"
         }
        },
        "yaxis7": {
         "anchor": "x7",
         "domain": [
          0.7350000000000001,
          0.7900000000000001
         ],
         "range": [
          0,
          null
         ],
         "title": {
          "text": "Nodes count"
         }
        },
        "yaxis8": {
         "anchor": "x8",
         "domain": [
          0.7350000000000001,
          0.7900000000000001
         ],
         "range": [
          0,
          null
         ],
         "title": {
          "text": "Nodes count"
         }
        },
        "yaxis9": {
         "anchor": "x9",
         "domain": [
          0.7350000000000001,
          0.7900000000000001
         ],
         "range": [
          0,
          null
         ],
         "title": {
          "text": "Nodes count"
         }
        }
       }
      }
     },
     "metadata": {},
     "output_type": "display_data"
    }
   ],
   "source": [
    "plot_solution_size_logs('SLIM', n_outer_cv, dataset_name='sustavianfeed')"
   ]
  },
  {
   "cell_type": "markdown",
   "id": "528bc250",
   "metadata": {},
   "source": [
    "Most folds have a \"staircase\" pattern where they intercalate peaks of growth with stagnation. We also notice some folds where the solution decreases in size towards the end (ex: folds 3, 24, 25, 26 e 27)."
   ]
  },
  {
   "cell_type": "code",
   "execution_count": 20,
   "id": "6cc68fde",
   "metadata": {},
   "outputs": [
    {
     "data": {
      "application/vnd.plotly.v1+json": {
       "config": {
        "plotlyServerURL": "https://plot.ly"
       },
       "data": [
        {
         "line": {
          "color": "rgba(0,180,0,0)"
         },
         "showlegend": false,
         "type": "scatter",
         "x": [
          0,
          1,
          2,
          3,
          4,
          5,
          6,
          7,
          8,
          9,
          10,
          11,
          12,
          13,
          14,
          15,
          16,
          17,
          18,
          19,
          20
         ],
         "y": {
          "bdata": "AAAAAAAACED6bFRSNMUYQPpsVFI0xRhAXr/xNflsMEBev/E1+WwwQF6/8TX5bDBAPAVQPUjZMkA8BVA9SNkyQOt5ZFA4UkFAIkQ3+MvmQUCX/I5rFv1CQAXIJm/ROUhASu4aPBA4SEB2fbIcdUVNQJblntCJDE5AWDK+0IcfUUCYs5MkYilRQDQyu6C4sVBAZmZmZmZmU0DtW+zZaLJTQMtYY95LilJA",
          "dtype": "f8"
         }
        },
        {
         "fill": "tonexty",
         "fillcolor": "rgba(0,135,0,0.2)",
         "line": {
          "color": "rgba(0,180,0,0)"
         },
         "name": "Size Std Dev",
         "type": "scatter",
         "x": [
          0,
          1,
          2,
          3,
          4,
          5,
          6,
          7,
          8,
          9,
          10,
          11,
          12,
          13,
          14,
          15,
          16,
          17,
          18,
          19,
          20
         ],
         "y": {
          "bdata": "AAAAAAAACEA0mFxtXdbpPzSYXG1d1uk/icVg2FFqL0CJxWDYUWovQInFYNhRai9AifVfhW9NLECJ9V+Fb00sQCkMN1+PWztAvXeRD2gyO0Cw5L8GseM5QIPAYRm3zkBAYLyPbpryQEDOxpEnz/5CQGoaYS92c0NAUJuDXvDARUDyuvrYXc9FQN3fzQLTYEVAmpmZmZmZRUDA4cDlxzRHQFg9KDJXWkdA",
          "dtype": "f8"
         }
        },
        {
         "line": {
          "color": "green"
         },
         "name": "Avg Size",
         "type": "scatter",
         "x": [
          0,
          1,
          2,
          3,
          4,
          5,
          6,
          7,
          8,
          9,
          10,
          11,
          12,
          13,
          14,
          15,
          16,
          17,
          18,
          19,
          20
         ],
         "y": {
          "bdata": "AAAAAAAACEAAAAAAAAAMQAAAAAAAAAxAERERERERMEAREREREREwQBERERERETBAAAAAAACAMEAAAAAAAIAwQAAAAAAAAD9AAAAAAACAP0Dv7u7u7u4/QEREREREhERAVVVVVVWVREAiIiIiIiJIQAAAAAAAwEhAAAAAAAAATEARERERERFMQCIiIiIiYktAMzMzMzMzTkDNzMzMzExPQHd3d3d3N05A",
          "dtype": "f8"
         }
        }
       ],
       "layout": {
        "height": 400,
        "template": {
         "data": {
          "bar": [
           {
            "error_x": {
             "color": "#2a3f5f"
            },
            "error_y": {
             "color": "#2a3f5f"
            },
            "marker": {
             "line": {
              "color": "#E5ECF6",
              "width": 0.5
             },
             "pattern": {
              "fillmode": "overlay",
              "size": 10,
              "solidity": 0.2
             }
            },
            "type": "bar"
           }
          ],
          "barpolar": [
           {
            "marker": {
             "line": {
              "color": "#E5ECF6",
              "width": 0.5
             },
             "pattern": {
              "fillmode": "overlay",
              "size": 10,
              "solidity": 0.2
             }
            },
            "type": "barpolar"
           }
          ],
          "carpet": [
           {
            "aaxis": {
             "endlinecolor": "#2a3f5f",
             "gridcolor": "white",
             "linecolor": "white",
             "minorgridcolor": "white",
             "startlinecolor": "#2a3f5f"
            },
            "baxis": {
             "endlinecolor": "#2a3f5f",
             "gridcolor": "white",
             "linecolor": "white",
             "minorgridcolor": "white",
             "startlinecolor": "#2a3f5f"
            },
            "type": "carpet"
           }
          ],
          "choropleth": [
           {
            "colorbar": {
             "outlinewidth": 0,
             "ticks": ""
            },
            "type": "choropleth"
           }
          ],
          "contour": [
           {
            "colorbar": {
             "outlinewidth": 0,
             "ticks": ""
            },
            "colorscale": [
             [
              0,
              "#0d0887"
             ],
             [
              0.1111111111111111,
              "#46039f"
             ],
             [
              0.2222222222222222,
              "#7201a8"
             ],
             [
              0.3333333333333333,
              "#9c179e"
             ],
             [
              0.4444444444444444,
              "#bd3786"
             ],
             [
              0.5555555555555556,
              "#d8576b"
             ],
             [
              0.6666666666666666,
              "#ed7953"
             ],
             [
              0.7777777777777778,
              "#fb9f3a"
             ],
             [
              0.8888888888888888,
              "#fdca26"
             ],
             [
              1,
              "#f0f921"
             ]
            ],
            "type": "contour"
           }
          ],
          "contourcarpet": [
           {
            "colorbar": {
             "outlinewidth": 0,
             "ticks": ""
            },
            "type": "contourcarpet"
           }
          ],
          "heatmap": [
           {
            "colorbar": {
             "outlinewidth": 0,
             "ticks": ""
            },
            "colorscale": [
             [
              0,
              "#0d0887"
             ],
             [
              0.1111111111111111,
              "#46039f"
             ],
             [
              0.2222222222222222,
              "#7201a8"
             ],
             [
              0.3333333333333333,
              "#9c179e"
             ],
             [
              0.4444444444444444,
              "#bd3786"
             ],
             [
              0.5555555555555556,
              "#d8576b"
             ],
             [
              0.6666666666666666,
              "#ed7953"
             ],
             [
              0.7777777777777778,
              "#fb9f3a"
             ],
             [
              0.8888888888888888,
              "#fdca26"
             ],
             [
              1,
              "#f0f921"
             ]
            ],
            "type": "heatmap"
           }
          ],
          "histogram": [
           {
            "marker": {
             "pattern": {
              "fillmode": "overlay",
              "size": 10,
              "solidity": 0.2
             }
            },
            "type": "histogram"
           }
          ],
          "histogram2d": [
           {
            "colorbar": {
             "outlinewidth": 0,
             "ticks": ""
            },
            "colorscale": [
             [
              0,
              "#0d0887"
             ],
             [
              0.1111111111111111,
              "#46039f"
             ],
             [
              0.2222222222222222,
              "#7201a8"
             ],
             [
              0.3333333333333333,
              "#9c179e"
             ],
             [
              0.4444444444444444,
              "#bd3786"
             ],
             [
              0.5555555555555556,
              "#d8576b"
             ],
             [
              0.6666666666666666,
              "#ed7953"
             ],
             [
              0.7777777777777778,
              "#fb9f3a"
             ],
             [
              0.8888888888888888,
              "#fdca26"
             ],
             [
              1,
              "#f0f921"
             ]
            ],
            "type": "histogram2d"
           }
          ],
          "histogram2dcontour": [
           {
            "colorbar": {
             "outlinewidth": 0,
             "ticks": ""
            },
            "colorscale": [
             [
              0,
              "#0d0887"
             ],
             [
              0.1111111111111111,
              "#46039f"
             ],
             [
              0.2222222222222222,
              "#7201a8"
             ],
             [
              0.3333333333333333,
              "#9c179e"
             ],
             [
              0.4444444444444444,
              "#bd3786"
             ],
             [
              0.5555555555555556,
              "#d8576b"
             ],
             [
              0.6666666666666666,
              "#ed7953"
             ],
             [
              0.7777777777777778,
              "#fb9f3a"
             ],
             [
              0.8888888888888888,
              "#fdca26"
             ],
             [
              1,
              "#f0f921"
             ]
            ],
            "type": "histogram2dcontour"
           }
          ],
          "mesh3d": [
           {
            "colorbar": {
             "outlinewidth": 0,
             "ticks": ""
            },
            "type": "mesh3d"
           }
          ],
          "parcoords": [
           {
            "line": {
             "colorbar": {
              "outlinewidth": 0,
              "ticks": ""
             }
            },
            "type": "parcoords"
           }
          ],
          "pie": [
           {
            "automargin": true,
            "type": "pie"
           }
          ],
          "scatter": [
           {
            "fillpattern": {
             "fillmode": "overlay",
             "size": 10,
             "solidity": 0.2
            },
            "type": "scatter"
           }
          ],
          "scatter3d": [
           {
            "line": {
             "colorbar": {
              "outlinewidth": 0,
              "ticks": ""
             }
            },
            "marker": {
             "colorbar": {
              "outlinewidth": 0,
              "ticks": ""
             }
            },
            "type": "scatter3d"
           }
          ],
          "scattercarpet": [
           {
            "marker": {
             "colorbar": {
              "outlinewidth": 0,
              "ticks": ""
             }
            },
            "type": "scattercarpet"
           }
          ],
          "scattergeo": [
           {
            "marker": {
             "colorbar": {
              "outlinewidth": 0,
              "ticks": ""
             }
            },
            "type": "scattergeo"
           }
          ],
          "scattergl": [
           {
            "marker": {
             "colorbar": {
              "outlinewidth": 0,
              "ticks": ""
             }
            },
            "type": "scattergl"
           }
          ],
          "scattermap": [
           {
            "marker": {
             "colorbar": {
              "outlinewidth": 0,
              "ticks": ""
             }
            },
            "type": "scattermap"
           }
          ],
          "scattermapbox": [
           {
            "marker": {
             "colorbar": {
              "outlinewidth": 0,
              "ticks": ""
             }
            },
            "type": "scattermapbox"
           }
          ],
          "scatterpolar": [
           {
            "marker": {
             "colorbar": {
              "outlinewidth": 0,
              "ticks": ""
             }
            },
            "type": "scatterpolar"
           }
          ],
          "scatterpolargl": [
           {
            "marker": {
             "colorbar": {
              "outlinewidth": 0,
              "ticks": ""
             }
            },
            "type": "scatterpolargl"
           }
          ],
          "scatterternary": [
           {
            "marker": {
             "colorbar": {
              "outlinewidth": 0,
              "ticks": ""
             }
            },
            "type": "scatterternary"
           }
          ],
          "surface": [
           {
            "colorbar": {
             "outlinewidth": 0,
             "ticks": ""
            },
            "colorscale": [
             [
              0,
              "#0d0887"
             ],
             [
              0.1111111111111111,
              "#46039f"
             ],
             [
              0.2222222222222222,
              "#7201a8"
             ],
             [
              0.3333333333333333,
              "#9c179e"
             ],
             [
              0.4444444444444444,
              "#bd3786"
             ],
             [
              0.5555555555555556,
              "#d8576b"
             ],
             [
              0.6666666666666666,
              "#ed7953"
             ],
             [
              0.7777777777777778,
              "#fb9f3a"
             ],
             [
              0.8888888888888888,
              "#fdca26"
             ],
             [
              1,
              "#f0f921"
             ]
            ],
            "type": "surface"
           }
          ],
          "table": [
           {
            "cells": {
             "fill": {
              "color": "#EBF0F8"
             },
             "line": {
              "color": "white"
             }
            },
            "header": {
             "fill": {
              "color": "#C8D4E3"
             },
             "line": {
              "color": "white"
             }
            },
            "type": "table"
           }
          ]
         },
         "layout": {
          "annotationdefaults": {
           "arrowcolor": "#2a3f5f",
           "arrowhead": 0,
           "arrowwidth": 1
          },
          "autotypenumbers": "strict",
          "coloraxis": {
           "colorbar": {
            "outlinewidth": 0,
            "ticks": ""
           }
          },
          "colorscale": {
           "diverging": [
            [
             0,
             "#8e0152"
            ],
            [
             0.1,
             "#c51b7d"
            ],
            [
             0.2,
             "#de77ae"
            ],
            [
             0.3,
             "#f1b6da"
            ],
            [
             0.4,
             "#fde0ef"
            ],
            [
             0.5,
             "#f7f7f7"
            ],
            [
             0.6,
             "#e6f5d0"
            ],
            [
             0.7,
             "#b8e186"
            ],
            [
             0.8,
             "#7fbc41"
            ],
            [
             0.9,
             "#4d9221"
            ],
            [
             1,
             "#276419"
            ]
           ],
           "sequential": [
            [
             0,
             "#0d0887"
            ],
            [
             0.1111111111111111,
             "#46039f"
            ],
            [
             0.2222222222222222,
             "#7201a8"
            ],
            [
             0.3333333333333333,
             "#9c179e"
            ],
            [
             0.4444444444444444,
             "#bd3786"
            ],
            [
             0.5555555555555556,
             "#d8576b"
            ],
            [
             0.6666666666666666,
             "#ed7953"
            ],
            [
             0.7777777777777778,
             "#fb9f3a"
            ],
            [
             0.8888888888888888,
             "#fdca26"
            ],
            [
             1,
             "#f0f921"
            ]
           ],
           "sequentialminus": [
            [
             0,
             "#0d0887"
            ],
            [
             0.1111111111111111,
             "#46039f"
            ],
            [
             0.2222222222222222,
             "#7201a8"
            ],
            [
             0.3333333333333333,
             "#9c179e"
            ],
            [
             0.4444444444444444,
             "#bd3786"
            ],
            [
             0.5555555555555556,
             "#d8576b"
            ],
            [
             0.6666666666666666,
             "#ed7953"
            ],
            [
             0.7777777777777778,
             "#fb9f3a"
            ],
            [
             0.8888888888888888,
             "#fdca26"
            ],
            [
             1,
             "#f0f921"
            ]
           ]
          },
          "colorway": [
           "#636efa",
           "#EF553B",
           "#00cc96",
           "#ab63fa",
           "#FFA15A",
           "#19d3f3",
           "#FF6692",
           "#B6E880",
           "#FF97FF",
           "#FECB52"
          ],
          "font": {
           "color": "#2a3f5f"
          },
          "geo": {
           "bgcolor": "white",
           "lakecolor": "white",
           "landcolor": "#E5ECF6",
           "showlakes": true,
           "showland": true,
           "subunitcolor": "white"
          },
          "hoverlabel": {
           "align": "left"
          },
          "hovermode": "closest",
          "mapbox": {
           "style": "light"
          },
          "paper_bgcolor": "white",
          "plot_bgcolor": "#E5ECF6",
          "polar": {
           "angularaxis": {
            "gridcolor": "white",
            "linecolor": "white",
            "ticks": ""
           },
           "bgcolor": "#E5ECF6",
           "radialaxis": {
            "gridcolor": "white",
            "linecolor": "white",
            "ticks": ""
           }
          },
          "scene": {
           "xaxis": {
            "backgroundcolor": "#E5ECF6",
            "gridcolor": "white",
            "gridwidth": 2,
            "linecolor": "white",
            "showbackground": true,
            "ticks": "",
            "zerolinecolor": "white"
           },
           "yaxis": {
            "backgroundcolor": "#E5ECF6",
            "gridcolor": "white",
            "gridwidth": 2,
            "linecolor": "white",
            "showbackground": true,
            "ticks": "",
            "zerolinecolor": "white"
           },
           "zaxis": {
            "backgroundcolor": "#E5ECF6",
            "gridcolor": "white",
            "gridwidth": 2,
            "linecolor": "white",
            "showbackground": true,
            "ticks": "",
            "zerolinecolor": "white"
           }
          },
          "shapedefaults": {
           "line": {
            "color": "#2a3f5f"
           }
          },
          "ternary": {
           "aaxis": {
            "gridcolor": "white",
            "linecolor": "white",
            "ticks": ""
           },
           "baxis": {
            "gridcolor": "white",
            "linecolor": "white",
            "ticks": ""
           },
           "bgcolor": "#E5ECF6",
           "caxis": {
            "gridcolor": "white",
            "linecolor": "white",
            "ticks": ""
           }
          },
          "title": {
           "x": 0.05
          },
          "xaxis": {
           "automargin": true,
           "gridcolor": "white",
           "linecolor": "white",
           "ticks": "",
           "title": {
            "standoff": 15
           },
           "zerolinecolor": "white",
           "zerolinewidth": 2
          },
          "yaxis": {
           "automargin": true,
           "gridcolor": "white",
           "linecolor": "white",
           "ticks": "",
           "title": {
            "standoff": 15
           },
           "zerolinecolor": "white",
           "zerolinewidth": 2
          }
         }
        },
        "title": {
         "text": "SLIM avg. node size and Std Dev (sustavianfeed) over 30 folds"
        },
        "width": 700,
        "xaxis": {
         "title": {
          "text": "Generation"
         }
        },
        "yaxis": {
         "title": {
          "text": "Node count"
         }
        }
       }
      }
     },
     "metadata": {},
     "output_type": "display_data"
    }
   ],
   "source": [
    "plot_avg_size(\"SLIM\", n_outer_cv, 'sustavianfeed')"
   ]
  },
  {
   "cell_type": "markdown",
   "id": "96b250ea",
   "metadata": {},
   "source": [
    "In average, the model shows a pattern of incremental growth without great peaks."
   ]
  },
  {
   "cell_type": "code",
   "execution_count": 21,
   "id": "fb2a0d09",
   "metadata": {},
   "outputs": [
    {
     "data": {
      "application/vnd.plotly.v1+json": {
       "config": {
        "plotlyServerURL": "https://plot.ly"
       },
       "data": [
        {
         "line": {
          "color": "blue"
         },
         "mode": "lines",
         "name": "Train (Fold 1)",
         "showlegend": true,
         "type": "scatter",
         "xaxis": "x",
         "y": {
          "bdata": "////n9yJLkD///+f3IkuQP///5/ciS5AAAAAABrbIkAAAAAAGtsiQAAAAAAa2yJAAAAAABrbIkAAAAAAGtsiQAAAAIAGlgtAAAAAgAaWC0AAAACABpYLQAEAAACJewtAAQAAAIl7C0AAAACgyU8DQAAAAKDJTwNA////v1o9/z////+/Wj3/P////79aPf8/////v1o9/z////+/Wj3/P////79aPf8/",
          "dtype": "f8"
         },
         "yaxis": "y"
        },
        {
         "line": {
          "color": "red"
         },
         "mode": "lines",
         "name": "Test (Fold 1)",
         "showlegend": true,
         "type": "scatter",
         "xaxis": "x",
         "y": {
          "bdata": "AAAAoKVMJ0AAAACgpUwnQAAAAKClTCdAAAAAoDFRGkAAAACgMVEaQAAAAKAxURpAAAAAoDFRGkAAAACgMVEaQAAAAAAvAxVAAAAAAC8DFUAAAAAALwMVQAAAACBr8xRAAAAAIGvzFEABAADAmhv2PwEAAMCaG/Y/AAAAgDzWBEAAAACAPNYEQAAAAIA81gRAAAAAgDzWBEAAAACAPNYEQAAAAIA81gRA",
          "dtype": "f8"
         },
         "yaxis": "y"
        },
        {
         "line": {
          "color": "green"
         },
         "mode": "lines",
         "name": "Size (Fold 1)",
         "showlegend": true,
         "type": "scatter",
         "xaxis": "x2",
         "y": {
          "bdata": "AwMDEBAQEBAfHx8sLDs7SkpKSkpK",
          "dtype": "i1"
         },
         "yaxis": "y2"
        },
        {
         "line": {
          "color": "blue"
         },
         "mode": "lines",
         "name": "Train (Fold 2)",
         "showlegend": false,
         "type": "scatter",
         "xaxis": "x3",
         "y": {
          "bdata": "AAAAgD4FLkAAAACAPgUuQAAAAIA+BS5AAAAAYC3gIkAAAABgLeAiQAAAAGAt4CJAAAAAYC3gIkAAAABgLeAiQAAAAMB9EgxAAAAAwH0SDEAAAADAfRIMQAAAAMB9EgxAAAAAwH0SDEAAAADAfRIMQAAAAMB9EgxAAAAAwH0SDEAAAADAfRIMQAAAAABBNQJAAAAAAEE1AkAAAAAAQTUCQAAAAABBNQJA",
          "dtype": "f8"
         },
         "yaxis": "y3"
        },
        {
         "line": {
          "color": "red"
         },
         "mode": "lines",
         "name": "Test (Fold 2)",
         "showlegend": false,
         "type": "scatter",
         "xaxis": "x3",
         "y": {
          "bdata": "AAAAQIHHMUAAAABAgccxQAAAAECBxzFAAAAAoLj5GEAAAACguPkYQAAAAKC4+RhAAAAAoLj5GEAAAACguPkYQAAAAODE6BBAAAAA4MToEEAAAADgxOgQQAAAAODE6BBAAAAA4MToEEAAAADgxOgQQAAAAODE6BBAAAAA4MToEEAAAADgxOgQQAEAAOBlw+0/AQAA4GXD7T8BAADgZcPtPwEAAOBlw+0/",
          "dtype": "f8"
         },
         "yaxis": "y3"
        },
        {
         "line": {
          "color": "green"
         },
         "mode": "lines",
         "name": "Size (Fold 2)",
         "showlegend": false,
         "type": "scatter",
         "xaxis": "x4",
         "y": {
          "bdata": "AwMDEBAQEBAfHx8fHx8fHx8sLCws",
          "dtype": "i1"
         },
         "yaxis": "y4"
        },
        {
         "line": {
          "color": "blue"
         },
         "mode": "lines",
         "name": "Train (Fold 3)",
         "showlegend": false,
         "type": "scatter",
         "xaxis": "x5",
         "y": {
          "bdata": "AAAAINeMLkAAAAAg14wuQAAAACDXjC5AAAAAgNXNIkAAAACA1c0iQAAAAIDVzSJA////v8yIIkD///+/zIgiQP///7/MiCJAAAAAQGGAIkAAAABAYYAiQP///1+lfyJA////X6V/IkD///9fpX8iQAAAAICbXSJAAAAAgJtdIkAAAACAm10iQAAAAICbXSJAAAAAgJtdIkAAAACAm10iQAAAAICbXSJA",
          "dtype": "f8"
         },
         "yaxis": "y5"
        },
        {
         "line": {
          "color": "red"
         },
         "mode": "lines",
         "name": "Test (Fold 3)",
         "showlegend": false,
         "type": "scatter",
         "xaxis": "x5",
         "y": {
          "bdata": "////3yLyJkD////fIvImQP///98i8iZAAAAAQEuIHUAAAABAS4gdQAAAAEBLiB1AAAAAQE89GkAAAABATz0aQAAAAEBPPRpAAAAAoEIfGEAAAACgQh8YQAAAAGD9YRhAAAAAYP1hGEAAAABg/WEYQAAAACDWJBZAAAAAINYkFkAAAAAg1iQWQAAAACDWJBZAAAAAINYkFkAAAAAg1iQWQAAAACDWJBZA",
          "dtype": "f8"
         },
         "yaxis": "y5"
        },
        {
         "line": {
          "color": "green"
         },
         "mode": "lines",
         "name": "Size (Fold 3)",
         "showlegend": false,
         "type": "scatter",
         "xaxis": "x6",
         "y": {
          "bdata": "AwMDEBAQHR0dLCwfHx8dHR0dHR0d",
          "dtype": "i1"
         },
         "yaxis": "y6"
        },
        {
         "line": {
          "color": "blue"
         },
         "mode": "lines",
         "name": "Train (Fold 4)",
         "showlegend": false,
         "type": "scatter",
         "xaxis": "x7",
         "y": {
          "bdata": "AAAAwK/QLkAAAADAr9AuQAAAAMCv0C5AAAAAgKfRIkAAAACAp9EiQAAAAICn0SJAAAAAgKfRIkAAAACAp9EiQP///9/N2QxA////383ZDED////fzdkMQP///9/N2QxA////383ZDED///+fvOz/P////5+87P8/////n7zs/z////+fvOz/P////5+87P8/////n7zs/z////+fvOz/P////5+87P8/",
          "dtype": "f8"
         },
         "yaxis": "y7"
        },
        {
         "line": {
          "color": "red"
         },
         "mode": "lines",
         "name": "Test (Fold 4)",
         "showlegend": false,
         "type": "scatter",
         "xaxis": "x7",
         "y": {
          "bdata": "AAAAgMSxGEAAAACAxLEYQAAAAIDEsRhAAAAAwASlHEAAAADABKUcQAAAAMAEpRxAAAAAwASlHEAAAADABKUcQAEAAODiTfY/AQAA4OJN9j8BAADg4k32PwEAAODiTfY/AQAA4OJN9j8AAABAEGgFQAAAAEAQaAVAAAAAQBBoBUAAAABAEGgFQAAAAEAQaAVAAAAAQBBoBUAAAABAEGgFQAAAAEAQaAVA",
          "dtype": "f8"
         },
         "yaxis": "y7"
        },
        {
         "line": {
          "color": "green"
         },
         "mode": "lines",
         "name": "Size (Fold 4)",
         "showlegend": false,
         "type": "scatter",
         "xaxis": "x8",
         "y": {
          "bdata": "AwMDEBAQEBAfHx8fHywsLCwsLCws",
          "dtype": "i1"
         },
         "yaxis": "y8"
        },
        {
         "line": {
          "color": "blue"
         },
         "mode": "lines",
         "name": "Train (Fold 5)",
         "showlegend": false,
         "type": "scatter",
         "xaxis": "x9",
         "y": {
          "bdata": "AQAA4DuILkABAADgO4guQAEAAOA7iC5AAAAAQLHQIkAAAABAsdAiQAAAAECx0CJAAAAAQLHQIkAAAABAsdAiQAEAAACnmwxAAQAAAKebDEABAAAAp5sMQAAAAKAcgQxAAAAAoByBDEAAAABAjjsDQAAAAECOOwNAAAAAQFAxAEAAAABAUDEAQAAAAEBQMQBAAAAAQFAxAEAAAADgOiIAQAAAAOA6IgBA",
          "dtype": "f8"
         },
         "yaxis": "y9"
        },
        {
         "line": {
          "color": "red"
         },
         "mode": "lines",
         "name": "Test (Fold 5)",
         "showlegend": false,
         "type": "scatter",
         "xaxis": "x9",
         "y": {
          "bdata": "AAAAYIF9J0AAAABggX0nQAAAAGCBfSdAAAAA4OveHEAAAADg694cQAAAAODr3hxAAAAA4OveHEAAAADg694cQAAAAACmGQVAAAAAAKYZBUAAAAAAphkFQAAAACDw+QRAAAAAIPD5BEAAAABgHbv7PwAAAGAdu/s/////fz8N3z////9/Pw3fP////38/Dd8/////fz8N3z8AAAAgXTjkPwAAACBdOOQ/",
          "dtype": "f8"
         },
         "yaxis": "y9"
        },
        {
         "line": {
          "color": "green"
         },
         "mode": "lines",
         "name": "Size (Fold 5)",
         "showlegend": false,
         "type": "scatter",
         "xaxis": "x10",
         "y": {
          "bdata": "AwMDEBAQEBAfHx8sLDs7SkpKSjk5",
          "dtype": "i1"
         },
         "yaxis": "y10"
        },
        {
         "line": {
          "color": "blue"
         },
         "mode": "lines",
         "name": "Train (Fold 6)",
         "showlegend": false,
         "type": "scatter",
         "xaxis": "x11",
         "y": {
          "bdata": "AAAAIBxNLkAAAAAgHE0uQAAAACAcTS5AAAAAIMx0IkAAAAAgzHQiQAAAACDMdCJAAAAAIMx0IkAAAAAgzHQiQAEAAADnlgxAAQAAAOeWDEABAAAA55YMQAAAAIBBfAxAAAAAgEF8DEAAAAAgoBIDQAAAACCgEgNAAAAAYEIOAEAAAABgQg4AQP///1/u+/8/////X+77/z////9f7vv/P////1/u+/8/",
          "dtype": "f8"
         },
         "yaxis": "y11"
        },
        {
         "line": {
          "color": "red"
         },
         "mode": "lines",
         "name": "Test (Fold 6)",
         "showlegend": false,
         "type": "scatter",
         "xaxis": "x11",
         "y": {
          "bdata": "////X0uULUD///9fS5QtQP///19LlC1AAQAAoMS3JkABAACgxLcmQAEAAKDEtyZAAQAAoMS3JkABAACgxLcmQAAAAAC7qwVAAAAAALurBUAAAAAAu6sFQAAAAKCQjwVAAAAAoJCPBUAAAACAWUACQAAAAIBZQAJAAAAAAFGZ9T8AAAAAUZn1PwAAAGD8TPc/AAAAYPxM9z8AAABg/Ez3PwAAAGD8TPc/",
          "dtype": "f8"
         },
         "yaxis": "y11"
        },
        {
         "line": {
          "color": "green"
         },
         "mode": "lines",
         "name": "Size (Fold 6)",
         "showlegend": false,
         "type": "scatter",
         "xaxis": "x12",
         "y": {
          "bdata": "AwMDEBAQEBAfHx8sLDs7Sko7Ozs7",
          "dtype": "i1"
         },
         "yaxis": "y12"
        },
        {
         "line": {
          "color": "blue"
         },
         "mode": "lines",
         "name": "Train (Fold 7)",
         "showlegend": false,
         "type": "scatter",
         "xaxis": "x13",
         "y": {
          "bdata": "AAAAYPd7LkAAAABg93suQAAAAGD3ey5AAAAAgMLTIkAAAACAwtMiQAAAAIDC0yJAAAAAgMLTIkAAAACAwtMiQAAAAIDC0yJAAAAAgMLTIkAAAACAwtMiQAAAAIDC0yJAAAAAgMLTIkAAAACAwtMiQAAAAIDC0yJAAAAAgMLTIkAAAACAwtMiQAAAAIDC0yJAAAAAQD9+IkAAAABAP34iQAAAAEA/fiJA",
          "dtype": "f8"
         },
         "yaxis": "y13"
        },
        {
         "line": {
          "color": "red"
         },
         "mode": "lines",
         "name": "Test (Fold 7)",
         "showlegend": false,
         "type": "scatter",
         "xaxis": "x13",
         "y": {
          "bdata": "AAAAABi1JkAAAAAAGLUmQAAAAAAYtSZAAAAAYIC1GkAAAABggLUaQAAAAGCAtRpAAAAAYIC1GkAAAABggLUaQAAAAGCAtRpAAAAAYIC1GkAAAABggLUaQAAAAGCAtRpAAAAAYIC1GkAAAABggLUaQAAAAGCAtRpAAAAAYIC1GkAAAABggLUaQAAAAGCAtRpAAQAAIAo9F0ABAAAgCj0XQAEAACAKPRdA",
          "dtype": "f8"
         },
         "yaxis": "y13"
        },
        {
         "line": {
          "color": "green"
         },
         "mode": "lines",
         "name": "Size (Fold 7)",
         "showlegend": false,
         "type": "scatter",
         "xaxis": "x14",
         "y": {
          "bdata": "AwMDEhISEhISEhISEhISEhISISEh",
          "dtype": "i1"
         },
         "yaxis": "y14"
        },
        {
         "line": {
          "color": "blue"
         },
         "mode": "lines",
         "name": "Train (Fold 8)",
         "showlegend": false,
         "type": "scatter",
         "xaxis": "x15",
         "y": {
          "bdata": "AAAAYD2cLkAAAABgPZwuQAAAAGA9nC5A////32LNIkD////fYs0iQP///99izSJA////32LNIkD////fYs0iQAAAAIAZmQxAAAAAgBmZDEAAAACAGZkMQAAAAKB5fgxAAAAAoHl+DED/////kRkDQP////+RGQNA/////5EZA0D/////kRkDQP////+RGQNA/////5EZA0D/////kRkDQP////+RGQNA",
          "dtype": "f8"
         },
         "yaxis": "y15"
        },
        {
         "line": {
          "color": "red"
         },
         "mode": "lines",
         "name": "Test (Fold 8)",
         "showlegend": false,
         "type": "scatter",
         "xaxis": "x15",
         "y": {
          "bdata": "AAAAwJyjIEAAAADAnKMgQAAAAMCcoyBAAAAAwCZzGkAAAADAJnMaQAAAAMAmcxpAAAAAwCZzGkAAAADAJnMaQAEAAED4ZQJAAQAAQPhlAkABAABA+GUCQAAAAMDdRgJAAAAAwN1GAkAAAACAdg0BQAAAAIB2DQFAAAAAgHYNAUAAAACAdg0BQAAAAIB2DQFAAAAAgHYNAUAAAACAdg0BQAAAAIB2DQFA",
          "dtype": "f8"
         },
         "yaxis": "y15"
        },
        {
         "line": {
          "color": "green"
         },
         "mode": "lines",
         "name": "Size (Fold 8)",
         "showlegend": false,
         "type": "scatter",
         "xaxis": "x16",
         "y": {
          "bdata": "AwMDEBAQEBAfHx8sLDs7Ozs7Ozs7",
          "dtype": "i1"
         },
         "yaxis": "y16"
        },
        {
         "line": {
          "color": "blue"
         },
         "mode": "lines",
         "name": "Train (Fold 9)",
         "showlegend": false,
         "type": "scatter",
         "xaxis": "x17",
         "y": {
          "bdata": "AAAAIMNxLkAAAAAgw3EuQAAAACDDcS5A/////8PQIkD/////w9AiQP/////D0CJA/////8PQIkD/////w9AiQAAAAGCxaAxAAAAAYLFoDEAAAABgsWgMQAAAAIAqTgxAAAAAgCpODEAAAADgtUADQAAAAOC1QANAAQAAAG0VAEABAAAAbRUAQAAAAGBRDgBAAAAAYFEOAEAAAABgUQ4AQAAAAGBRDgBA",
          "dtype": "f8"
         },
         "yaxis": "y17"
        },
        {
         "line": {
          "color": "red"
         },
         "mode": "lines",
         "name": "Test (Fold 9)",
         "showlegend": false,
         "type": "scatter",
         "xaxis": "x17",
         "y": {
          "bdata": "AAAA4AZPKEAAAADgBk8oQAAAAOAGTyhAAAAAgEdCGUAAAACAR0IZQAAAAIBHQhlAAAAAgEdCGUAAAACAR0IZQAAAACCL7wlAAAAAIIvvCUAAAAAgi+8JQAAAAOAj0AlAAAAA4CPQCUD///+fvOH0P////5+84fQ/AAAA4E/T6T8AAADgT9PpPwAAAOC0uOY/AAAA4LS45j8AAADgtLjmPwAAAOC0uOY/",
          "dtype": "f8"
         },
         "yaxis": "y17"
        },
        {
         "line": {
          "color": "green"
         },
         "mode": "lines",
         "name": "Size (Fold 9)",
         "showlegend": false,
         "type": "scatter",
         "xaxis": "x18",
         "y": {
          "bdata": "AwMDEBAQEBAfHx8sLDs7Sko7Ozs7",
          "dtype": "i1"
         },
         "yaxis": "y18"
        },
        {
         "line": {
          "color": "blue"
         },
         "mode": "lines",
         "name": "Train (Fold 10)",
         "showlegend": false,
         "type": "scatter",
         "xaxis": "x19",
         "y": {
          "bdata": "AQAAoGSvLkABAACgZK8uQAEAAKBkry5AAAAAQEfdIkAAAABAR90iQAAAAEBH3SJAAAAAQEfdIkAAAABAR90iQAAAAADoXgxAAAAAAOheDEAAAAAA6F4MQAAAAADoXgxAAAAAAOheDED///8/BGkAQP///z8EaQBA////PwRpAEAAAACgmDQAQAAAAIBBNABAAAAAgEE0AEAAAACAQTQAQAAAAIBBNABA",
          "dtype": "f8"
         },
         "yaxis": "y19"
        },
        {
         "line": {
          "color": "red"
         },
         "mode": "lines",
         "name": "Test (Fold 10)",
         "showlegend": false,
         "type": "scatter",
         "xaxis": "x19",
         "y": {
          "bdata": "AAAAgEI2F0AAAACAQjYXQAAAAIBCNhdAAAAAwFw9FEAAAADAXD0UQAAAAMBcPRRAAAAAwFw9FEAAAADAXD0UQAAAAOC1MwtAAAAA4LUzC0AAAADgtTMLQAAAAOC1MwtAAAAA4LUzC0AAAACAjoHxPwAAAICOgfE/AAAAgI6B8T8BAABA5rjvP////9+Tse8/////35Ox7z/////fk7HvP////9+Tse8/",
          "dtype": "f8"
         },
         "yaxis": "y19"
        },
        {
         "line": {
          "color": "green"
         },
         "mode": "lines",
         "name": "Size (Fold 10)",
         "showlegend": false,
         "type": "scatter",
         "xaxis": "x20",
         "y": {
          "bdata": "AwMDEBAQEBAfHx8fHywsLDtISEhI",
          "dtype": "i1"
         },
         "yaxis": "y20"
        },
        {
         "line": {
          "color": "blue"
         },
         "mode": "lines",
         "name": "Train (Fold 11)",
         "showlegend": false,
         "type": "scatter",
         "xaxis": "x21",
         "y": {
          "bdata": "AAAAwC+sLkAAAADAL6wuQAAAAMAvrC5AAAAAgALuIkAAAACAAu4iQAAAAIAC7iJAAAAAgALuIkAAAACAAu4iQAAAAGDVngxAAAAAYNWeDEAAAABg1Z4MQAAAACAkhAxAAAAAICSEDEAAAAAgJIQMQAAAACAkhAxAAAAA4GE5A0AAAADgYTkDQAAAAOBhOQNAAAAAgBPo/z8AAAAAdNz/PwEAAIA/3P8/",
          "dtype": "f8"
         },
         "yaxis": "y21"
        },
        {
         "line": {
          "color": "red"
         },
         "mode": "lines",
         "name": "Test (Fold 11)",
         "showlegend": false,
         "type": "scatter",
         "xaxis": "x21",
         "y": {
          "bdata": "AAAAIEsuGUAAAAAgSy4ZQAAAACBLLhlAAAAAgOlUBEAAAACA6VQEQAAAAIDpVARAAAAAgOlUBEAAAACA6VQEQAEAAMD3SAFAAQAAwPdIAUABAADA90gBQP////9jLAFA/////2MsAUD/////YywBQP////9jLAFAAAAAQNqC8D8AAABA2oLwPwAAAEDagvA/////n7xo+D8AAADgskv3PwAAAEAEG/c/",
          "dtype": "f8"
         },
         "yaxis": "y21"
        },
        {
         "line": {
          "color": "green"
         },
         "mode": "lines",
         "name": "Size (Fold 11)",
         "showlegend": false,
         "type": "scatter",
         "xaxis": "x22",
         "y": {
          "bdata": "AwMDEBAQEBAfHx8sLCwsOzs7VVVI",
          "dtype": "i1"
         },
         "yaxis": "y22"
        },
        {
         "line": {
          "color": "blue"
         },
         "mode": "lines",
         "name": "Train (Fold 12)",
         "showlegend": false,
         "type": "scatter",
         "xaxis": "x23",
         "y": {
          "bdata": "AAAAQE5jLkAAAABATmMuQAAAAEBOYy5AAAAAINfFIkAAAAAg18UiQAAAACDXxSJAAAAAINfFIkAAAAAg18UiQAAAAEBHLgxAAAAAQEcuDEAAAABARy4MQAAAAIDPEwxAAAAAgM8TDEAAAACADVcDQAAAAIANVwNAAAAAgA1XA0AAAACADVcDQAAAAGA9iQBAAAAAYD2JAEABAACgSiUAQAEAAKBKJQBA",
          "dtype": "f8"
         },
         "yaxis": "y23"
        },
        {
         "line": {
          "color": "red"
         },
         "mode": "lines",
         "name": "Test (Fold 12)",
         "showlegend": false,
         "type": "scatter",
         "xaxis": "x23",
         "y": {
          "bdata": "AAAAwJFoKkAAAADAkWgqQAAAAMCRaCpAAAAAIP7tHEAAAAAg/u0cQAAAACD+7RxAAAAAIP7tHEAAAAAg/u0cQAAAAKDEYBBAAAAAoMRgEEAAAACgxGAQQAAAAMCuUBBAAAAAwK5QEEAAAAAAcSjRPwAAAABxKNE/AAAAAHEo0T8AAAAAcSjRPwAAAIDdrPs/AAAAgN2s+z8AAABA3Nn3PwAAAEDc2fc/",
          "dtype": "f8"
         },
         "yaxis": "y23"
        },
        {
         "line": {
          "color": "green"
         },
         "mode": "lines",
         "name": "Size (Fold 12)",
         "showlegend": false,
         "type": "scatter",
         "xaxis": "x24",
         "y": {
          "bdata": "AwMDEBAQEBAfHx8sLDs7OzswMDk5",
          "dtype": "i1"
         },
         "yaxis": "y24"
        },
        {
         "line": {
          "color": "blue"
         },
         "mode": "lines",
         "name": "Train (Fold 13)",
         "showlegend": false,
         "type": "scatter",
         "xaxis": "x25",
         "y": {
          "bdata": "AAAAIMikLkAAAAAgyKQuQAAAACDIpC5AAAAAwAvKIkAAAADAC8oiQAAAAMALyiJAAAAAwAvKIkAAAADAC8oiQAAAAMDDWgxAAAAAwMNaDEAAAADAw1oMQAAAACAfQAxAAAAAIB9ADEAAAAAgH0AMQAAAACAfQAxAAQAAoMoBA0ABAACgygEDQAEAAKDKAQNAAAAA4G3E/z8AAACgebL/P/////8rsf8/",
          "dtype": "f8"
         },
         "yaxis": "y25"
        },
        {
         "line": {
          "color": "red"
         },
         "mode": "lines",
         "name": "Test (Fold 13)",
         "showlegend": false,
         "type": "scatter",
         "xaxis": "x25",
         "y": {
          "bdata": "AAAAQCw5HUAAAABALDkdQAAAAEAsOR1AAAAAQFeTG0AAAABAV5MbQAAAAEBXkxtAAAAAQFeTG0AAAABAV5MbQAAAAEBRuAtAAAAAQFG4C0AAAABAUbgLQAEAAKAFnQtAAQAAoAWdC0ABAACgBZ0LQAEAAKAFnQtAAAAAoMMKAkAAAACgwwoCQAAAAKDDCgJA/v//H8SB/T8AAADAjmz9PwAAACDVav0/",
          "dtype": "f8"
         },
         "yaxis": "y25"
        },
        {
         "line": {
          "color": "green"
         },
         "mode": "lines",
         "name": "Size (Fold 13)",
         "showlegend": false,
         "type": "scatter",
         "xaxis": "x26",
         "y": {
          "bdata": "AwMDEBAQEBAfHx8sLCwsOzs7VVVI",
          "dtype": "i1"
         },
         "yaxis": "y26"
        },
        {
         "line": {
          "color": "blue"
         },
         "mode": "lines",
         "name": "Train (Fold 14)",
         "showlegend": false,
         "type": "scatter",
         "xaxis": "x27",
         "y": {
          "bdata": "AAAAACaFLkAAAAAAJoUuQAAAAAAmhS5AAAAAgCvAIkAAAACAK8AiQAAAAIArwCJAAAAAgCvAIkAAAACAK8AiQAAAAABNeAxAAAAAAE14DEAAAAAATXgMQAAAAEC+XQxAAAAAQL5dDEAAAACA3zIDQAAAAIDfMgNAAAAAgN8yA0AAAACA3zIDQAAAAIDfMgNAAAAAYFYgA0AAAABgViADQAAAAGBWIANA",
          "dtype": "f8"
         },
         "yaxis": "y27"
        },
        {
         "line": {
          "color": "red"
         },
         "mode": "lines",
         "name": "Test (Fold 14)",
         "showlegend": false,
         "type": "scatter",
         "xaxis": "x27",
         "y": {
          "bdata": "AAAAgEQpJUAAAACARCklQAAAAIBEKSVAAAAAwMGoHkAAAADAwageQAAAAMDBqB5AAAAAwMGoHkAAAADAwageQAAAAEDixQdAAAAAQOLFB0AAAABA4sUHQAAAAODkpgdAAAAA4OSmB0AAAAAg6Vb6PwAAACDpVvo/AAAAIOlW+j8AAAAg6Vb6PwAAACDpVvo/AAAAQFgc+j8AAABAWBz6PwAAAEBYHPo/",
          "dtype": "f8"
         },
         "yaxis": "y27"
        },
        {
         "line": {
          "color": "green"
         },
         "mode": "lines",
         "name": "Size (Fold 14)",
         "showlegend": false,
         "type": "scatter",
         "xaxis": "x28",
         "y": {
          "bdata": "AwMDEBAQEBAfHx8sLDs7Ozs7Li4u",
          "dtype": "i1"
         },
         "yaxis": "y28"
        },
        {
         "line": {
          "color": "blue"
         },
         "mode": "lines",
         "name": "Train (Fold 15)",
         "showlegend": false,
         "type": "scatter",
         "xaxis": "x29",
         "y": {
          "bdata": "AQAAoGpyLkABAACganIuQAEAAKBqci5AAQAAoGrNIkABAACgas0iQAEAAKBqzSJAAQAAoGrNIkABAACgas0iQAAAAMDAigxAAAAAwMCKDEAAAADAwIoMQAAAAOAccAxAAAAA4BxwDEAAAADgHHAMQAAAAOAccAxAAAAAYNguA0AAAABg2C4DQAAAAGDYLgNAAQAAILb4/z8BAAAgtvj/PwEAACC2+P8/",
          "dtype": "f8"
         },
         "yaxis": "y29"
        },
        {
         "line": {
          "color": "red"
         },
         "mode": "lines",
         "name": "Test (Fold 15)",
         "showlegend": false,
         "type": "scatter",
         "xaxis": "x29",
         "y": {
          "bdata": "AAAA4JM1KEAAAADgkzUoQAAAAOCTNShAAAAA4G9wGkAAAADgb3AaQAAAAOBvcBpAAAAA4G9wGkAAAADgb3AaQAAAAOA/7ARAAAAA4D/sBEAAAADgP+wEQAAAAOBazwRAAAAA4FrPBEAAAADgWs8EQAAAAOBazwRAAAAAAPul9T8AAAAA+6X1PwAAAAD7pfU/AAAAQPWc9T8AAABA9Zz1PwAAAED1nPU/",
          "dtype": "f8"
         },
         "yaxis": "y29"
        },
        {
         "line": {
          "color": "green"
         },
         "mode": "lines",
         "name": "Size (Fold 15)",
         "showlegend": false,
         "type": "scatter",
         "xaxis": "x30",
         "y": {
          "bdata": "AwMDEBAQEBAfHx8sLCwsOzs7VVVV",
          "dtype": "i1"
         },
         "yaxis": "y30"
        },
        {
         "line": {
          "color": "blue"
         },
         "mode": "lines",
         "name": "Train (Fold 16)",
         "showlegend": false,
         "type": "scatter",
         "xaxis": "x31",
         "y": {
          "bdata": "AAAA4HepLkAAAADgd6kuQAAAAOB3qS5AAAAAgA2TIkAAAACADZMiQAAAAIANkyJAAAAAgA2TIkAAAACADZMiQAAAAOBKWQtAAAAA4EpZC0AAAADgSlkLQAAAAOBKWQtAAAAAwCTOAED///+/g1b8PwAAAOBCRfw/AAAA4Khn+T8AAADgqGf5PwAAAOCoZ/k/AAAA4Khn+T8AAADgqGf5PwAAAOCoZ/k/",
          "dtype": "f8"
         },
         "yaxis": "y31"
        },
        {
         "line": {
          "color": "red"
         },
         "mode": "lines",
         "name": "Test (Fold 16)",
         "showlegend": false,
         "type": "scatter",
         "xaxis": "x31",
         "y": {
          "bdata": "AAAAQIe8GkAAAABAh7waQAAAAECHvBpAAAAAoE3zJEAAAACgTfMkQAAAAKBN8yRAAAAAoE3zJEAAAACgTfMkQAAAAECSBhlAAAAAQJIGGUAAAABAkgYZQAAAAECSBhlAAAAAwGSIIUAAAABAmsEbQAAAAIBrxhtAAAAAwOSWHEAAAADA5JYcQAAAAMDklhxAAAAAwOSWHEAAAADA5JYcQAAAAMDklhxA",
          "dtype": "f8"
         },
         "yaxis": "y31"
        },
        {
         "line": {
          "color": "green"
         },
         "mode": "lines",
         "name": "Size (Fold 16)",
         "showlegend": false,
         "type": "scatter",
         "xaxis": "x32",
         "y": {
          "bdata": "AwMDEBAQEBAfHx8fIyw5OTk5OTk5",
          "dtype": "i1"
         },
         "yaxis": "y32"
        },
        {
         "line": {
          "color": "blue"
         },
         "mode": "lines",
         "name": "Train (Fold 17)",
         "showlegend": false,
         "type": "scatter",
         "xaxis": "x33",
         "y": {
          "bdata": "AAAAoCNeLkAAAACgI14uQAAAAKAjXi5A/////xitIkD/////GK0iQP////8YrSJA/////xitIkD/////GK0iQAAAAAAuhQxAAAAAAC6FDEAAAAAALoUMQAAAAOCPagxAAAAA4I9qDEAAAADgj2oMQAAAAOCPagxAAAAAYBktA0AAAABgGS0DQAAAAGAZLQNAAQAAYAQBAEABAABgBAEAQAEAAGAEAQBA",
          "dtype": "f8"
         },
         "yaxis": "y33"
        },
        {
         "line": {
          "color": "red"
         },
         "mode": "lines",
         "name": "Test (Fold 17)",
         "showlegend": false,
         "type": "scatter",
         "xaxis": "x33",
         "y": {
          "bdata": "////P1UeK0D///8/VR4rQP///z9VHitAAAAAYLntIUAAAABgue0hQAAAAGC57SFAAAAAYLntIUAAAABgue0hQAAAAMDo0gVAAAAAwOjSBUAAAADA6NIFQAAAAKBztQVAAAAAoHO1BUAAAACgc7UFQAAAAKBztQVAAQAAoJNi9j8BAACgk2L2PwEAAKCTYvY/////fzbf8z////9/Nt/zP////3823/M/",
          "dtype": "f8"
         },
         "yaxis": "y33"
        },
        {
         "line": {
          "color": "green"
         },
         "mode": "lines",
         "name": "Size (Fold 17)",
         "showlegend": false,
         "type": "scatter",
         "xaxis": "x34",
         "y": {
          "bdata": "AwMDEBAQEBAfHx8sLCwsOzs7VVVV",
          "dtype": "i1"
         },
         "yaxis": "y34"
        },
        {
         "line": {
          "color": "blue"
         },
         "mode": "lines",
         "name": "Train (Fold 18)",
         "showlegend": false,
         "type": "scatter",
         "xaxis": "x35",
         "y": {
          "bdata": "AAAAICPHJ0AAAABAfsAnQAAAAEB+wCdAAAAAwKGuHEAAAADAoa4cQAAAAMChrhxAAAAAwKGuHEAAAADAoa4cQAAAAGDQrxtAAAAAYNCvG0AAAADAG64bQAAAAMAbrhtAAAAAwBuuG0AAAADAG64bQAAAAMAbrhtAAAAAwBuuG0AAAADAG64bQAAAAMAbrhtAAAAAwBuuG0AAAADAG64bQAAAAMAbrhtA",
          "dtype": "f8"
         },
         "yaxis": "y35"
        },
        {
         "line": {
          "color": "red"
         },
         "mode": "lines",
         "name": "Test (Fold 18)",
         "showlegend": false,
         "type": "scatter",
         "xaxis": "x35",
         "y": {
          "bdata": "AAAAYCsnS0AAAABg8WRTQAAAAGDxZFNAAAAAYNw+QUAAAABg3D5BQAAAAGDcPkFAAAAAYNw+QUAAAABg3D5BQAAAACDpPEFAAAAAIOk8QUAAAABggDxBQAAAAGCAPEFAAAAAYIA8QUAAAABggDxBQAAAAGCAPEFAAAAAYIA8QUAAAABggDxBQAAAAGCAPEFAAAAAYIA8QUAAAABggDxBQAAAAGCAPEFA",
          "dtype": "f8"
         },
         "yaxis": "y35"
        },
        {
         "line": {
          "color": "green"
         },
         "mode": "lines",
         "name": "Size (Fold 18)",
         "showlegend": false,
         "type": "scatter",
         "xaxis": "x36",
         "y": {
          "bdata": "AxISEBAQEBAuLjs7Ozs7Ozs7Ozs7",
          "dtype": "i1"
         },
         "yaxis": "y36"
        },
        {
         "line": {
          "color": "blue"
         },
         "mode": "lines",
         "name": "Train (Fold 19)",
         "showlegend": false,
         "type": "scatter",
         "xaxis": "x37",
         "y": {
          "bdata": "AAAAYBQ/LkAAAABgFD8uQAAAAGAUPy5AAAAAgHPSIkAAAACAc9IiQAAAAIBz0iJAAAAAgHPSIkAAAACAc9IiQAEAAOB9hAxAAQAA4H2EDEABAADgfYQMQAEAAIDmaQxAAQAAgOZpDEAAAAAgnyQDQAAAACCfJANAAAAAIJ8kA0AAAAAgnyQDQAAAAGDdqgBAAAAAYN2qAEAAAADg3DsAQAAAAODcOwBA",
          "dtype": "f8"
         },
         "yaxis": "y37"
        },
        {
         "line": {
          "color": "red"
         },
         "mode": "lines",
         "name": "Test (Fold 19)",
         "showlegend": false,
         "type": "scatter",
         "xaxis": "x37",
         "y": {
          "bdata": "AAAAIOAJL0AAAAAg4AkvQAAAACDgCS9AAAAAQJqkGEAAAABAmqQYQAAAAECapBhAAAAAQJqkGEAAAABAmqQYQP////+y7gVA/////7LuBUD/////su4FQP///1870AVA////XzvQBUABAABAdPX+PwEAAEB09f4/AQAAQHT1/j8BAABAdPX+PwAAAIAtAu4/AAAAgC0C7j8AAABgIlHtPwAAAGAiUe0/",
          "dtype": "f8"
         },
         "yaxis": "y37"
        },
        {
         "line": {
          "color": "green"
         },
         "mode": "lines",
         "name": "Size (Fold 19)",
         "showlegend": false,
         "type": "scatter",
         "xaxis": "x38",
         "y": {
          "bdata": "AwMDEBAQEBAfHx8sLDs7OzswMDk5",
          "dtype": "i1"
         },
         "yaxis": "y38"
        },
        {
         "line": {
          "color": "blue"
         },
         "mode": "lines",
         "name": "Train (Fold 20)",
         "showlegend": false,
         "type": "scatter",
         "xaxis": "x39",
         "y": {
          "bdata": "AAAAwMgOLkAAAADAyA4uQAAAAMDIDi5AAAAAoNW7IkAAAACg1bsiQAAAAKDVuyJAAAAAoNW7IkAAAACg1bsiQAAAAMBLdwxAAAAAwEt3DEAAAADAS3cMQP///x+aXAxA////H5pcDED///8fmlwMQAAAAADwOQxAAAAAAPA5DEAAAAAg8JMAQAAAACDwkwBAAAAAIPCTAEAAAAAg8JMAQAAAACDwkwBA",
          "dtype": "f8"
         },
         "yaxis": "y39"
        },
        {
         "line": {
          "color": "red"
         },
         "mode": "lines",
         "name": "Test (Fold 20)",
         "showlegend": false,
         "type": "scatter",
         "xaxis": "x39",
         "y": {
          "bdata": "AAAAIIsjMkAAAAAgiyMyQAAAACCLIzJAAAAAAMjqH0AAAAAAyOofQAAAAADI6h9AAAAAAMjqH0AAAAAAyOofQAAAAAAc6wdAAAAAABzrB0AAAAAAHOsHQAEAAAAn0QdAAQAAACfRB0ABAAAAJ9EHQAAAAKCvrgdAAAAAoK+uB0AAAADAs0X8PwAAAMCzRfw/AAAAwLNF/D8AAADAs0X8PwAAAMCzRfw/",
          "dtype": "f8"
         },
         "yaxis": "y39"
        },
        {
         "line": {
          "color": "green"
         },
         "mode": "lines",
         "name": "Size (Fold 20)",
         "showlegend": false,
         "type": "scatter",
         "xaxis": "x40",
         "y": {
          "bdata": "AwMDEBAQEBAfHx8sLCw5OSwsLCws",
          "dtype": "i1"
         },
         "yaxis": "y40"
        },
        {
         "line": {
          "color": "blue"
         },
         "mode": "lines",
         "name": "Train (Fold 21)",
         "showlegend": false,
         "type": "scatter",
         "xaxis": "x41",
         "y": {
          "bdata": "////fyblLUD///9/JuUtQP///38m5S1AAAAAgHrRIkAAAACAetEiQAAAAIB60SJAAAAAgHrRIkAAAACAetEiQAAAAIAbMgxAAAAAgBsyDEAAAACAGzIMQAAAAOCaFwxAAAAA4JoXDEAAAADgmhcMQAAAAMAj9QtAAAAAwCP1C0AAAABAq7YGQAAAAEDBXwBAAAAAQMFfAEAAAABAwV8AQAAAAEDBXwBA",
          "dtype": "f8"
         },
         "yaxis": "y41"
        },
        {
         "line": {
          "color": "red"
         },
         "mode": "lines",
         "name": "Test (Fold 21)",
         "showlegend": false,
         "type": "scatter",
         "xaxis": "x41",
         "y": {
          "bdata": "AAAAwD4dNEAAAADAPh00QAAAAMA+HTRAAAAAQA8AGUAAAABADwAZQAAAAEAPABlAAAAAQA8AGUAAAABADwAZQAAAAMBiLRBAAAAAwGItEEAAAADAYi0QQAAAAMDBHRBAAAAAwMEdEEAAAADAwR0QQAAAAMDUCRBAAAAAwNQJEEAAAABAXif3PwAAAGABifw/AAAAYAGJ/D8AAABgAYn8PwAAAGABifw/",
          "dtype": "f8"
         },
         "yaxis": "y41"
        },
        {
         "line": {
          "color": "green"
         },
         "mode": "lines",
         "name": "Size (Fold 21)",
         "showlegend": false,
         "type": "scatter",
         "xaxis": "x42",
         "y": {
          "bdata": "AwMDEBAQEBAfHx8sLCw5OSw5OTk5",
          "dtype": "i1"
         },
         "yaxis": "y42"
        },
        {
         "line": {
          "color": "blue"
         },
         "mode": "lines",
         "name": "Train (Fold 22)",
         "showlegend": false,
         "type": "scatter",
         "xaxis": "x43",
         "y": {
          "bdata": "AAAAgHEYLkAAAACAcRguQAAAAIBxGC5AAAAAAFraIkAAAAAAWtoiQAAAAABa2iJAAAAAAFraIkAAAAAAWtoiQAAAAOD1LwxAAAAA4PUvDEAAAADg9S8MQAAAAIBxFQxAAAAAgHEVDEAAAADgHUQDQAAAAOAdRANAAAAA4B1EA0AAAADgHUQDQAAAAOAKfgBAAAAA4Ap+AEAAAACAYhgAQAAAAIBiGABA",
          "dtype": "f8"
         },
         "yaxis": "y43"
        },
        {
         "line": {
          "color": "red"
         },
         "mode": "lines",
         "name": "Test (Fold 22)",
         "showlegend": false,
         "type": "scatter",
         "xaxis": "x43",
         "y": {
          "bdata": "AAAAgLWlMUAAAACAtaUxQAAAAIC1pTFAAAAAoBiFFUAAAACgGIUVQAAAAKAYhRVAAAAAoBiFFUAAAACgGIUVQAAAAOBEShBAAAAA4ERKEEAAAADgREoQQAAAAADYOhBAAAAAANg6EEAAAADA3UzzPwAAAMDdTPM/AAAAwN1M8z8AAADA3UzzPwAAAKDhvf4/AAAAoOG9/j8AAADAu8H7PwAAAMC7wfs/",
          "dtype": "f8"
         },
         "yaxis": "y43"
        },
        {
         "line": {
          "color": "green"
         },
         "mode": "lines",
         "name": "Size (Fold 22)",
         "showlegend": false,
         "type": "scatter",
         "xaxis": "x44",
         "y": {
          "bdata": "AwMDEBAQEBAfHx8sLDs7OzswMDk5",
          "dtype": "i1"
         },
         "yaxis": "y44"
        },
        {
         "line": {
          "color": "blue"
         },
         "mode": "lines",
         "name": "Train (Fold 23)",
         "showlegend": false,
         "type": "scatter",
         "xaxis": "x45",
         "y": {
          "bdata": "////fxapLkD///9/FqkuQP///38WqS5AAAAA4AF+IkAAAADgAX4iQAAAAOABfiJAAAAA4AF+IkAAAADgAX4iQAAAAIB2JwxAAAAAgHYnDEAAAACAdicMQAAAAOD1DAxAAAAA4PUMDEAAAADg9QwMQAAAAOD1DAxAAAAAQEfoAkAAAABAR+gCQAAAAACR3AJAAAAAAJHcAkAAAACANAAAQAAAAIA0AABA",
          "dtype": "f8"
         },
         "yaxis": "y45"
        },
        {
         "line": {
          "color": "red"
         },
         "mode": "lines",
         "name": "Test (Fold 23)",
         "showlegend": false,
         "type": "scatter",
         "xaxis": "x45",
         "y": {
          "bdata": "AAAAwG3yGkAAAADAbfIaQAAAAMBt8hpA////X1UYJ0D///9fVRgnQP///19VGCdA////X1UYJ0D///9fVRgnQAAAAECmuhBAAAAAQKa6EEAAAABAproQQAAAAKAHqxBAAAAAoAerEEAAAACgB6sQQAAAAKAHqxBAAQAAIA8KBUABAAAgDwoFQAAAACDp9QRAAAAAIOn1BEAAAABg6QX2PwAAAGDpBfY/",
          "dtype": "f8"
         },
         "yaxis": "y45"
        },
        {
         "line": {
          "color": "green"
         },
         "mode": "lines",
         "name": "Size (Fold 23)",
         "showlegend": false,
         "type": "scatter",
         "xaxis": "x46",
         "y": {
          "bdata": "AwMDEBAQEBAfHx8sLCwsOzssLEhI",
          "dtype": "i1"
         },
         "yaxis": "y46"
        },
        {
         "line": {
          "color": "blue"
         },
         "mode": "lines",
         "name": "Train (Fold 24)",
         "showlegend": false,
         "type": "scatter",
         "xaxis": "x47",
         "y": {
          "bdata": "AQAAQI2aLkABAABAjZouQAEAAECNmi5AAAAAYDLgIkAAAABgMuAiQAAAAGAy4CJAAAAAYDLgIkAAAABgMuAiQAAAAOBUYAxAAAAA4FRgDEAAAADgVGAMQAAAAIDLRQxAAAAAgMtFDEAAAABAbzsDQAAAAEBvOwNAAAAAQG87A0AAAABAbzsDQAAAAEBvOwNA////v8IoA0D///+/wigDQP///7/CKANA",
          "dtype": "f8"
         },
         "yaxis": "y47"
        },
        {
         "line": {
          "color": "red"
         },
         "mode": "lines",
         "name": "Test (Fold 24)",
         "showlegend": false,
         "type": "scatter",
         "xaxis": "x47",
         "y": {
          "bdata": "AAAAgNcCIUAAAACA1wIhQAAAAIDXAiFAAAAAACDgEkAAAAAAIOASQAAAAAAg4BJAAAAAACDgEkAAAAAAIOASQAAAACB/BQtAAAAAIH8FC0AAAAAgfwULQAAAAOCo5gpAAAAA4KjmCkAAAACgAx73PwAAAKADHvc/AAAAoAMe9z8AAACgAx73PwAAAKADHvc/AAAAgOHs9j8AAACA4ez2PwAAAIDh7PY/",
          "dtype": "f8"
         },
         "yaxis": "y47"
        },
        {
         "line": {
          "color": "green"
         },
         "mode": "lines",
         "name": "Size (Fold 24)",
         "showlegend": false,
         "type": "scatter",
         "xaxis": "x48",
         "y": {
          "bdata": "AwMDEBAQEBAfHx8sLDs7Ozs7Li4u",
          "dtype": "i1"
         },
         "yaxis": "y48"
        },
        {
         "line": {
          "color": "blue"
         },
         "mode": "lines",
         "name": "Train (Fold 25)",
         "showlegend": false,
         "type": "scatter",
         "xaxis": "x49",
         "y": {
          "bdata": "AAAA4JihLkAAAADgmKEuQAAAAOCYoS5AAAAAANLxIkAAAAAA0vEiQAAAAADS8SJAAAAAANLxIkAAAAAA0vEiQAAAAKAacwxAAAAAoBpzDEAAAACgGnMMQAEAACBoWAxAAQAAIGhYDEABAAAgaFgMQAEAACBoWAxAAAAAgOkPA0AAAACA6Q8DQAAAAIDpDwNAAAAAoGu2/z////8/haf/PwAAACDBpv8/",
          "dtype": "f8"
         },
         "yaxis": "y49"
        },
        {
         "line": {
          "color": "red"
         },
         "mode": "lines",
         "name": "Test (Fold 25)",
         "showlegend": false,
         "type": "scatter",
         "xaxis": "x49",
         "y": {
          "bdata": "AAAA4EnMHkAAAADgScweQAAAAOBJzB5AAAAAQJEg9z8AAABAkSD3PwAAAECRIPc/AAAAQJEg9z8AAABAkSD3PwEAAKDKgwhAAQAAoMqDCEABAACgyoMIQAAAAOAQaghAAAAA4BBqCEAAAADgEGoIQAAAAOAQaghAAAAAgDYjAEAAAACANiMAQAAAAIA2IwBA////f01H/z//////q9H+P////7/Wvv4/",
          "dtype": "f8"
         },
         "yaxis": "y49"
        },
        {
         "line": {
          "color": "green"
         },
         "mode": "lines",
         "name": "Size (Fold 25)",
         "showlegend": false,
         "type": "scatter",
         "xaxis": "x50",
         "y": {
          "bdata": "AwMDEBAQEBAfHx8sLCwsOzs7VVVI",
          "dtype": "i1"
         },
         "yaxis": "y50"
        },
        {
         "line": {
          "color": "blue"
         },
         "mode": "lines",
         "name": "Train (Fold 26)",
         "showlegend": false,
         "type": "scatter",
         "xaxis": "x51",
         "y": {
          "bdata": "////fyacLkD///9/JpwuQP///38mnC5A////333qIkD////ffeoiQP///9996iJA////333qIkD////ffeoiQAAAAGCekQxAAAAAYJ6RDEAAAABgnpEMQAAAAKD1dgxAAAAAoPV2DEAAAACg9XYMQAAAAKD1dgxAAAAAIOUyA0AAAAAg5TIDQAAAACDlMgNAAAAAgAz3/z8AAACAbOn/PwAAAMDd6P8/",
          "dtype": "f8"
         },
         "yaxis": "y51"
        },
        {
         "line": {
          "color": "red"
         },
         "mode": "lines",
         "name": "Test (Fold 26)",
         "showlegend": false,
         "type": "scatter",
         "xaxis": "x51",
         "y": {
          "bdata": "AAAAoLuoIEAAAACgu6ggQAAAAKC7qCBAAAAAAB7pCUAAAAAAHukJQAAAAAAe6QlAAAAAAB7pCUAAAAAAHukJQAAAAGB6wQNAAAAAYHrBA0AAAABgesEDQAAAAODMpANAAAAA4MykA0AAAADgzKQDQAAAAODMpANAAAAAYEzV8z8AAABgTNXzPwAAAGBM1fM/AAAAgKzo9T/////fTgn1PwAAAIAU5PQ/",
          "dtype": "f8"
         },
         "yaxis": "y51"
        },
        {
         "line": {
          "color": "green"
         },
         "mode": "lines",
         "name": "Size (Fold 26)",
         "showlegend": false,
         "type": "scatter",
         "xaxis": "x52",
         "y": {
          "bdata": "AwMDEBAQEBAfHx8sLCwsOzs7VVVI",
          "dtype": "i1"
         },
         "yaxis": "y52"
        },
        {
         "line": {
          "color": "blue"
         },
         "mode": "lines",
         "name": "Train (Fold 27)",
         "showlegend": false,
         "type": "scatter",
         "xaxis": "x53",
         "y": {
          "bdata": "AAAAIAihLkAAAAAgCKEuQAAAACAIoS5AAAAAADXlIkAAAAAANeUiQAAAAAA15SJAAAAAADXlIkAAAAAANeUiQAAAAIA0YAxAAAAAgDRgDEAAAACANGAMQAAAACCsRQxAAAAAIKxFDEAAAAAgrEUMQAAAACCsRQxAAAAAQCUYA0AAAABAJRgDQAAAAEAlGANAAAAAYK0MAEABAACAxAIAQAAAAIDxAQBA",
          "dtype": "f8"
         },
         "yaxis": "y53"
        },
        {
         "line": {
          "color": "red"
         },
         "mode": "lines",
         "name": "Test (Fold 27)",
         "showlegend": false,
         "type": "scatter",
         "xaxis": "x53",
         "y": {
          "bdata": "////X6sRH0D///9fqxEfQP///1+rER9AAAAAQGxEEEAAAABAbEQQQAAAAEBsRBBAAAAAQGxEEEAAAABAbEQQQAAAAOCaCQtAAAAA4JoJC0AAAADgmgkLQAAAAACq6gpAAAAAAKrqCkAAAAAAquoKQAAAAACq6gpA////3x3T/T/////fHdP9P////98d0/0/AAAAYI8/7T8AAACgLf7tPwAAAMCpJu4/",
          "dtype": "f8"
         },
         "yaxis": "y53"
        },
        {
         "line": {
          "color": "green"
         },
         "mode": "lines",
         "name": "Size (Fold 27)",
         "showlegend": false,
         "type": "scatter",
         "xaxis": "x54",
         "y": {
          "bdata": "AwMDEBAQEBAfHx8sLCwsOzs7VVVI",
          "dtype": "i1"
         },
         "yaxis": "y54"
        },
        {
         "line": {
          "color": "blue"
         },
         "mode": "lines",
         "name": "Train (Fold 28)",
         "showlegend": false,
         "type": "scatter",
         "xaxis": "x55",
         "y": {
          "bdata": "AAAAoIKdLkAAAACggp0uQAAAAKCCnS5AAAAAwC2/IkAAAADALb8iQAAAAMAtvyJAAAAAwC2/IkAAAADALb8iQAAAAACHJgxAAAAAAIcmDEAAAAAAhyYMQAAAAIAPDAxAAAAAgA8MDEAAAACADwwMQAAAAIAPDAxAAAAA4LvsAkAAAADgu+wCQAAAAOAR4QJAAAAA4BHhAkAAAAAAjAsAQAAAAACMCwBA",
          "dtype": "f8"
         },
         "yaxis": "y55"
        },
        {
         "line": {
          "color": "red"
         },
         "mode": "lines",
         "name": "Test (Fold 28)",
         "showlegend": false,
         "type": "scatter",
         "xaxis": "x55",
         "y": {
          "bdata": "AAAAQItaIEAAAABAi1ogQAAAAECLWiBAAAAAIJHzHkAAAAAgkfMeQAAAACCR8x5AAAAAIJHzHkAAAAAgkfMeQAAAACDUxhBAAAAAINTGEEAAAAAg1MYQQAAAAAC/thBAAAAAAL+2EEAAAAAAv7YQQAAAAAC/thBAAAAAYGeMBEAAAABgZ4wEQAAAAOC1dgRAAAAA4LV2BEAAAABg05PxPwAAAGDTk/E/",
          "dtype": "f8"
         },
         "yaxis": "y55"
        },
        {
         "line": {
          "color": "green"
         },
         "mode": "lines",
         "name": "Size (Fold 28)",
         "showlegend": false,
         "type": "scatter",
         "xaxis": "x56",
         "y": {
          "bdata": "AwMDEBAQEBAfHx8sLCwsOzssLEhI",
          "dtype": "i1"
         },
         "yaxis": "y56"
        },
        {
         "line": {
          "color": "blue"
         },
         "mode": "lines",
         "name": "Train (Fold 29)",
         "showlegend": false,
         "type": "scatter",
         "xaxis": "x57",
         "y": {
          "bdata": "AAAAwFmCLkAAAADAWYIuQAAAAMBZgi5AAAAAgLqgIkAAAACAuqAiQAAAAIC6oCJAAAAAgLqgIkAAAACAuqAiQAAAAOAHKQxAAAAA4AcpDEAAAADgBykMQAAAAOAHKQxAAAAA4AcpDEAAAAAgdUgAQAAAACB1SABAAAAAIHVIAEAAAAAgFRcAQAAAAKDEFgBAAAAAoMQWAEAAAACgxBYAQAAAAKDEFgBA",
          "dtype": "f8"
         },
         "yaxis": "y57"
        },
        {
         "line": {
          "color": "red"
         },
         "mode": "lines",
         "name": "Test (Fold 29)",
         "showlegend": false,
         "type": "scatter",
         "xaxis": "x57",
         "y": {
          "bdata": "AAAAIPGkJUAAAAAg8aQlQAAAACDxpCVAAAAAgKhsI0AAAACAqGwjQAAAAICobCNAAAAAgKhsI0AAAACAqGwjQAAAACAmphBAAAAAICamEEAAAAAgJqYQQAAAACAmphBAAAAAICamEEAAAACg76v8PwAAAKDvq/w/AAAAoO+r/D8BAABgBLX6PwAAAEC3sPo/AAAAQLew+j8AAABAt7D6PwAAAEC3sPo/",
          "dtype": "f8"
         },
         "yaxis": "y57"
        },
        {
         "line": {
          "color": "green"
         },
         "mode": "lines",
         "name": "Size (Fold 29)",
         "showlegend": false,
         "type": "scatter",
         "xaxis": "x58",
         "y": {
          "bdata": "AwMDEBAQEBAfHx8fHywsLDtISEhI",
          "dtype": "i1"
         },
         "yaxis": "y58"
        },
        {
         "line": {
          "color": "blue"
         },
         "mode": "lines",
         "name": "Train (Fold 30)",
         "showlegend": false,
         "type": "scatter",
         "xaxis": "x59",
         "y": {
          "bdata": "AAAAAFFnLkAAAAAAUWcuQAAAAABRZy5AAQAAQOPPIkABAABA488iQAEAAEDjzyJAAQAAQOPPIkABAABA488iQP///x+aRQxA////H5pFDED///8fmkUMQAAAAAAfKwxAAAAAAB8rDEABAAAA51MDQAEAAADnUwNAAQAAAOdTA0ABAAAA51MDQAEAAADnUwNAAAAAYLp8AUAAAABgunwBQAAAAGC6fAFA",
          "dtype": "f8"
         },
         "yaxis": "y59"
        },
        {
         "line": {
          "color": "red"
         },
         "mode": "lines",
         "name": "Test (Fold 30)",
         "showlegend": false,
         "type": "scatter",
         "xaxis": "x59",
         "y": {
          "bdata": "AAAAQOfXKUAAAABA59cpQAAAAEDn1ylAAAAAgNWSGUAAAACA1ZIZQAAAAIDVkhlAAAAAgNWSGUAAAACA1ZIZQAAAAABxOQ5AAAAAAHE5DkAAAAAAcTkOQAAAAKBxGQ5AAAAAoHEZDkAAAADghZjhPwAAAOCFmOE/AAAA4IWY4T8AAADghZjhPwAAAOCFmOE/////PyiQ0D////8/KJDQP////z8okNA/",
          "dtype": "f8"
         },
         "yaxis": "y59"
        },
        {
         "line": {
          "color": "green"
         },
         "mode": "lines",
         "name": "Size (Fold 30)",
         "showlegend": false,
         "type": "scatter",
         "xaxis": "x60",
         "y": {
          "bdata": "AwMDEBAQEBAfHx8sLDs7Ozs7OTk5",
          "dtype": "i1"
         },
         "yaxis": "y60"
        }
       ],
       "layout": {
        "annotations": [
         {
          "font": {
           "size": 16
          },
          "showarrow": false,
          "text": "Fold 1 - Fitness",
          "x": 0.225,
          "xanchor": "center",
          "xref": "paper",
          "y": 0.9999999999999996,
          "yanchor": "bottom",
          "yref": "paper"
         },
         {
          "font": {
           "size": 16
          },
          "showarrow": false,
          "text": "Fold 1 - Size",
          "x": 0.775,
          "xanchor": "center",
          "xref": "paper",
          "y": 0.9999999999999996,
          "yanchor": "bottom",
          "yref": "paper"
         },
         {
          "font": {
           "size": 16
          },
          "showarrow": false,
          "text": "Fold 2 - Fitness",
          "x": 0.225,
          "xanchor": "center",
          "xref": "paper",
          "y": 0.9661111111111107,
          "yanchor": "bottom",
          "yref": "paper"
         },
         {
          "font": {
           "size": 16
          },
          "showarrow": false,
          "text": "Fold 2 - Size",
          "x": 0.775,
          "xanchor": "center",
          "xref": "paper",
          "y": 0.9661111111111107,
          "yanchor": "bottom",
          "yref": "paper"
         },
         {
          "font": {
           "size": 16
          },
          "showarrow": false,
          "text": "Fold 3 - Fitness",
          "x": 0.225,
          "xanchor": "center",
          "xref": "paper",
          "y": 0.9322222222222218,
          "yanchor": "bottom",
          "yref": "paper"
         },
         {
          "font": {
           "size": 16
          },
          "showarrow": false,
          "text": "Fold 3 - Size",
          "x": 0.775,
          "xanchor": "center",
          "xref": "paper",
          "y": 0.9322222222222218,
          "yanchor": "bottom",
          "yref": "paper"
         },
         {
          "font": {
           "size": 16
          },
          "showarrow": false,
          "text": "Fold 4 - Fitness",
          "x": 0.225,
          "xanchor": "center",
          "xref": "paper",
          "y": 0.898333333333333,
          "yanchor": "bottom",
          "yref": "paper"
         },
         {
          "font": {
           "size": 16
          },
          "showarrow": false,
          "text": "Fold 4 - Size",
          "x": 0.775,
          "xanchor": "center",
          "xref": "paper",
          "y": 0.898333333333333,
          "yanchor": "bottom",
          "yref": "paper"
         },
         {
          "font": {
           "size": 16
          },
          "showarrow": false,
          "text": "Fold 5 - Fitness",
          "x": 0.225,
          "xanchor": "center",
          "xref": "paper",
          "y": 0.8644444444444441,
          "yanchor": "bottom",
          "yref": "paper"
         },
         {
          "font": {
           "size": 16
          },
          "showarrow": false,
          "text": "Fold 5 - Size",
          "x": 0.775,
          "xanchor": "center",
          "xref": "paper",
          "y": 0.8644444444444441,
          "yanchor": "bottom",
          "yref": "paper"
         },
         {
          "font": {
           "size": 16
          },
          "showarrow": false,
          "text": "Fold 6 - Fitness",
          "x": 0.225,
          "xanchor": "center",
          "xref": "paper",
          "y": 0.8305555555555553,
          "yanchor": "bottom",
          "yref": "paper"
         },
         {
          "font": {
           "size": 16
          },
          "showarrow": false,
          "text": "Fold 6 - Size",
          "x": 0.775,
          "xanchor": "center",
          "xref": "paper",
          "y": 0.8305555555555553,
          "yanchor": "bottom",
          "yref": "paper"
         },
         {
          "font": {
           "size": 16
          },
          "showarrow": false,
          "text": "Fold 7 - Fitness",
          "x": 0.225,
          "xanchor": "center",
          "xref": "paper",
          "y": 0.7966666666666664,
          "yanchor": "bottom",
          "yref": "paper"
         },
         {
          "font": {
           "size": 16
          },
          "showarrow": false,
          "text": "Fold 7 - Size",
          "x": 0.775,
          "xanchor": "center",
          "xref": "paper",
          "y": 0.7966666666666664,
          "yanchor": "bottom",
          "yref": "paper"
         },
         {
          "font": {
           "size": 16
          },
          "showarrow": false,
          "text": "Fold 8 - Fitness",
          "x": 0.225,
          "xanchor": "center",
          "xref": "paper",
          "y": 0.7627777777777776,
          "yanchor": "bottom",
          "yref": "paper"
         },
         {
          "font": {
           "size": 16
          },
          "showarrow": false,
          "text": "Fold 8 - Size",
          "x": 0.775,
          "xanchor": "center",
          "xref": "paper",
          "y": 0.7627777777777776,
          "yanchor": "bottom",
          "yref": "paper"
         },
         {
          "font": {
           "size": 16
          },
          "showarrow": false,
          "text": "Fold 9 - Fitness",
          "x": 0.225,
          "xanchor": "center",
          "xref": "paper",
          "y": 0.7288888888888887,
          "yanchor": "bottom",
          "yref": "paper"
         },
         {
          "font": {
           "size": 16
          },
          "showarrow": false,
          "text": "Fold 9 - Size",
          "x": 0.775,
          "xanchor": "center",
          "xref": "paper",
          "y": 0.7288888888888887,
          "yanchor": "bottom",
          "yref": "paper"
         },
         {
          "font": {
           "size": 16
          },
          "showarrow": false,
          "text": "Fold 10 - Fitness",
          "x": 0.225,
          "xanchor": "center",
          "xref": "paper",
          "y": 0.6949999999999998,
          "yanchor": "bottom",
          "yref": "paper"
         },
         {
          "font": {
           "size": 16
          },
          "showarrow": false,
          "text": "Fold 10 - Size",
          "x": 0.775,
          "xanchor": "center",
          "xref": "paper",
          "y": 0.6949999999999998,
          "yanchor": "bottom",
          "yref": "paper"
         },
         {
          "font": {
           "size": 16
          },
          "showarrow": false,
          "text": "Fold 11 - Fitness",
          "x": 0.225,
          "xanchor": "center",
          "xref": "paper",
          "y": 0.661111111111111,
          "yanchor": "bottom",
          "yref": "paper"
         },
         {
          "font": {
           "size": 16
          },
          "showarrow": false,
          "text": "Fold 11 - Size",
          "x": 0.775,
          "xanchor": "center",
          "xref": "paper",
          "y": 0.661111111111111,
          "yanchor": "bottom",
          "yref": "paper"
         },
         {
          "font": {
           "size": 16
          },
          "showarrow": false,
          "text": "Fold 12 - Fitness",
          "x": 0.225,
          "xanchor": "center",
          "xref": "paper",
          "y": 0.6272222222222221,
          "yanchor": "bottom",
          "yref": "paper"
         },
         {
          "font": {
           "size": 16
          },
          "showarrow": false,
          "text": "Fold 12 - Size",
          "x": 0.775,
          "xanchor": "center",
          "xref": "paper",
          "y": 0.6272222222222221,
          "yanchor": "bottom",
          "yref": "paper"
         },
         {
          "font": {
           "size": 16
          },
          "showarrow": false,
          "text": "Fold 13 - Fitness",
          "x": 0.225,
          "xanchor": "center",
          "xref": "paper",
          "y": 0.5933333333333333,
          "yanchor": "bottom",
          "yref": "paper"
         },
         {
          "font": {
           "size": 16
          },
          "showarrow": false,
          "text": "Fold 13 - Size",
          "x": 0.775,
          "xanchor": "center",
          "xref": "paper",
          "y": 0.5933333333333333,
          "yanchor": "bottom",
          "yref": "paper"
         },
         {
          "font": {
           "size": 16
          },
          "showarrow": false,
          "text": "Fold 14 - Fitness",
          "x": 0.225,
          "xanchor": "center",
          "xref": "paper",
          "y": 0.5594444444444444,
          "yanchor": "bottom",
          "yref": "paper"
         },
         {
          "font": {
           "size": 16
          },
          "showarrow": false,
          "text": "Fold 14 - Size",
          "x": 0.775,
          "xanchor": "center",
          "xref": "paper",
          "y": 0.5594444444444444,
          "yanchor": "bottom",
          "yref": "paper"
         },
         {
          "font": {
           "size": 16
          },
          "showarrow": false,
          "text": "Fold 15 - Fitness",
          "x": 0.225,
          "xanchor": "center",
          "xref": "paper",
          "y": 0.5255555555555556,
          "yanchor": "bottom",
          "yref": "paper"
         },
         {
          "font": {
           "size": 16
          },
          "showarrow": false,
          "text": "Fold 15 - Size",
          "x": 0.775,
          "xanchor": "center",
          "xref": "paper",
          "y": 0.5255555555555556,
          "yanchor": "bottom",
          "yref": "paper"
         },
         {
          "font": {
           "size": 16
          },
          "showarrow": false,
          "text": "Fold 16 - Fitness",
          "x": 0.225,
          "xanchor": "center",
          "xref": "paper",
          "y": 0.49166666666666664,
          "yanchor": "bottom",
          "yref": "paper"
         },
         {
          "font": {
           "size": 16
          },
          "showarrow": false,
          "text": "Fold 16 - Size",
          "x": 0.775,
          "xanchor": "center",
          "xref": "paper",
          "y": 0.49166666666666664,
          "yanchor": "bottom",
          "yref": "paper"
         },
         {
          "font": {
           "size": 16
          },
          "showarrow": false,
          "text": "Fold 17 - Fitness",
          "x": 0.225,
          "xanchor": "center",
          "xref": "paper",
          "y": 0.45777777777777773,
          "yanchor": "bottom",
          "yref": "paper"
         },
         {
          "font": {
           "size": 16
          },
          "showarrow": false,
          "text": "Fold 17 - Size",
          "x": 0.775,
          "xanchor": "center",
          "xref": "paper",
          "y": 0.45777777777777773,
          "yanchor": "bottom",
          "yref": "paper"
         },
         {
          "font": {
           "size": 16
          },
          "showarrow": false,
          "text": "Fold 18 - Fitness",
          "x": 0.225,
          "xanchor": "center",
          "xref": "paper",
          "y": 0.4238888888888888,
          "yanchor": "bottom",
          "yref": "paper"
         },
         {
          "font": {
           "size": 16
          },
          "showarrow": false,
          "text": "Fold 18 - Size",
          "x": 0.775,
          "xanchor": "center",
          "xref": "paper",
          "y": 0.4238888888888888,
          "yanchor": "bottom",
          "yref": "paper"
         },
         {
          "font": {
           "size": 16
          },
          "showarrow": false,
          "text": "Fold 19 - Fitness",
          "x": 0.225,
          "xanchor": "center",
          "xref": "paper",
          "y": 0.38999999999999996,
          "yanchor": "bottom",
          "yref": "paper"
         },
         {
          "font": {
           "size": 16
          },
          "showarrow": false,
          "text": "Fold 19 - Size",
          "x": 0.775,
          "xanchor": "center",
          "xref": "paper",
          "y": 0.38999999999999996,
          "yanchor": "bottom",
          "yref": "paper"
         },
         {
          "font": {
           "size": 16
          },
          "showarrow": false,
          "text": "Fold 20 - Fitness",
          "x": 0.225,
          "xanchor": "center",
          "xref": "paper",
          "y": 0.35611111111111104,
          "yanchor": "bottom",
          "yref": "paper"
         },
         {
          "font": {
           "size": 16
          },
          "showarrow": false,
          "text": "Fold 20 - Size",
          "x": 0.775,
          "xanchor": "center",
          "xref": "paper",
          "y": 0.35611111111111104,
          "yanchor": "bottom",
          "yref": "paper"
         },
         {
          "font": {
           "size": 16
          },
          "showarrow": false,
          "text": "Fold 21 - Fitness",
          "x": 0.225,
          "xanchor": "center",
          "xref": "paper",
          "y": 0.32222222222222213,
          "yanchor": "bottom",
          "yref": "paper"
         },
         {
          "font": {
           "size": 16
          },
          "showarrow": false,
          "text": "Fold 21 - Size",
          "x": 0.775,
          "xanchor": "center",
          "xref": "paper",
          "y": 0.32222222222222213,
          "yanchor": "bottom",
          "yref": "paper"
         },
         {
          "font": {
           "size": 16
          },
          "showarrow": false,
          "text": "Fold 22 - Fitness",
          "x": 0.225,
          "xanchor": "center",
          "xref": "paper",
          "y": 0.2883333333333333,
          "yanchor": "bottom",
          "yref": "paper"
         },
         {
          "font": {
           "size": 16
          },
          "showarrow": false,
          "text": "Fold 22 - Size",
          "x": 0.775,
          "xanchor": "center",
          "xref": "paper",
          "y": 0.2883333333333333,
          "yanchor": "bottom",
          "yref": "paper"
         },
         {
          "font": {
           "size": 16
          },
          "showarrow": false,
          "text": "Fold 23 - Fitness",
          "x": 0.225,
          "xanchor": "center",
          "xref": "paper",
          "y": 0.2544444444444444,
          "yanchor": "bottom",
          "yref": "paper"
         },
         {
          "font": {
           "size": 16
          },
          "showarrow": false,
          "text": "Fold 23 - Size",
          "x": 0.775,
          "xanchor": "center",
          "xref": "paper",
          "y": 0.2544444444444444,
          "yanchor": "bottom",
          "yref": "paper"
         },
         {
          "font": {
           "size": 16
          },
          "showarrow": false,
          "text": "Fold 24 - Fitness",
          "x": 0.225,
          "xanchor": "center",
          "xref": "paper",
          "y": 0.22055555555555553,
          "yanchor": "bottom",
          "yref": "paper"
         },
         {
          "font": {
           "size": 16
          },
          "showarrow": false,
          "text": "Fold 24 - Size",
          "x": 0.775,
          "xanchor": "center",
          "xref": "paper",
          "y": 0.22055555555555553,
          "yanchor": "bottom",
          "yref": "paper"
         },
         {
          "font": {
           "size": 16
          },
          "showarrow": false,
          "text": "Fold 25 - Fitness",
          "x": 0.225,
          "xanchor": "center",
          "xref": "paper",
          "y": 0.18666666666666665,
          "yanchor": "bottom",
          "yref": "paper"
         },
         {
          "font": {
           "size": 16
          },
          "showarrow": false,
          "text": "Fold 25 - Size",
          "x": 0.775,
          "xanchor": "center",
          "xref": "paper",
          "y": 0.18666666666666665,
          "yanchor": "bottom",
          "yref": "paper"
         },
         {
          "font": {
           "size": 16
          },
          "showarrow": false,
          "text": "Fold 26 - Fitness",
          "x": 0.225,
          "xanchor": "center",
          "xref": "paper",
          "y": 0.15277777777777776,
          "yanchor": "bottom",
          "yref": "paper"
         },
         {
          "font": {
           "size": 16
          },
          "showarrow": false,
          "text": "Fold 26 - Size",
          "x": 0.775,
          "xanchor": "center",
          "xref": "paper",
          "y": 0.15277777777777776,
          "yanchor": "bottom",
          "yref": "paper"
         },
         {
          "font": {
           "size": 16
          },
          "showarrow": false,
          "text": "Fold 27 - Fitness",
          "x": 0.225,
          "xanchor": "center",
          "xref": "paper",
          "y": 0.11888888888888888,
          "yanchor": "bottom",
          "yref": "paper"
         },
         {
          "font": {
           "size": 16
          },
          "showarrow": false,
          "text": "Fold 27 - Size",
          "x": 0.775,
          "xanchor": "center",
          "xref": "paper",
          "y": 0.11888888888888888,
          "yanchor": "bottom",
          "yref": "paper"
         },
         {
          "font": {
           "size": 16
          },
          "showarrow": false,
          "text": "Fold 28 - Fitness",
          "x": 0.225,
          "xanchor": "center",
          "xref": "paper",
          "y": 0.08499999999999999,
          "yanchor": "bottom",
          "yref": "paper"
         },
         {
          "font": {
           "size": 16
          },
          "showarrow": false,
          "text": "Fold 28 - Size",
          "x": 0.775,
          "xanchor": "center",
          "xref": "paper",
          "y": 0.08499999999999999,
          "yanchor": "bottom",
          "yref": "paper"
         },
         {
          "font": {
           "size": 16
          },
          "showarrow": false,
          "text": "Fold 29 - Fitness",
          "x": 0.225,
          "xanchor": "center",
          "xref": "paper",
          "y": 0.05111111111111111,
          "yanchor": "bottom",
          "yref": "paper"
         },
         {
          "font": {
           "size": 16
          },
          "showarrow": false,
          "text": "Fold 29 - Size",
          "x": 0.775,
          "xanchor": "center",
          "xref": "paper",
          "y": 0.05111111111111111,
          "yanchor": "bottom",
          "yref": "paper"
         },
         {
          "font": {
           "size": 16
          },
          "showarrow": false,
          "text": "Fold 30 - Fitness",
          "x": 0.225,
          "xanchor": "center",
          "xref": "paper",
          "y": 0.01722222222222222,
          "yanchor": "bottom",
          "yref": "paper"
         },
         {
          "font": {
           "size": 16
          },
          "showarrow": false,
          "text": "Fold 30 - Size",
          "x": 0.775,
          "xanchor": "center",
          "xref": "paper",
          "y": 0.01722222222222222,
          "yanchor": "bottom",
          "yref": "paper"
         }
        ],
        "height": 12000,
        "legend": {
         "orientation": "h",
         "x": 0.5,
         "xanchor": "center",
         "y": -0.0033333333333333335,
         "yanchor": "bottom"
        },
        "margin": {
         "t": 60
        },
        "showlegend": true,
        "template": {
         "data": {
          "bar": [
           {
            "error_x": {
             "color": "#2a3f5f"
            },
            "error_y": {
             "color": "#2a3f5f"
            },
            "marker": {
             "line": {
              "color": "#E5ECF6",
              "width": 0.5
             },
             "pattern": {
              "fillmode": "overlay",
              "size": 10,
              "solidity": 0.2
             }
            },
            "type": "bar"
           }
          ],
          "barpolar": [
           {
            "marker": {
             "line": {
              "color": "#E5ECF6",
              "width": 0.5
             },
             "pattern": {
              "fillmode": "overlay",
              "size": 10,
              "solidity": 0.2
             }
            },
            "type": "barpolar"
           }
          ],
          "carpet": [
           {
            "aaxis": {
             "endlinecolor": "#2a3f5f",
             "gridcolor": "white",
             "linecolor": "white",
             "minorgridcolor": "white",
             "startlinecolor": "#2a3f5f"
            },
            "baxis": {
             "endlinecolor": "#2a3f5f",
             "gridcolor": "white",
             "linecolor": "white",
             "minorgridcolor": "white",
             "startlinecolor": "#2a3f5f"
            },
            "type": "carpet"
           }
          ],
          "choropleth": [
           {
            "colorbar": {
             "outlinewidth": 0,
             "ticks": ""
            },
            "type": "choropleth"
           }
          ],
          "contour": [
           {
            "colorbar": {
             "outlinewidth": 0,
             "ticks": ""
            },
            "colorscale": [
             [
              0,
              "#0d0887"
             ],
             [
              0.1111111111111111,
              "#46039f"
             ],
             [
              0.2222222222222222,
              "#7201a8"
             ],
             [
              0.3333333333333333,
              "#9c179e"
             ],
             [
              0.4444444444444444,
              "#bd3786"
             ],
             [
              0.5555555555555556,
              "#d8576b"
             ],
             [
              0.6666666666666666,
              "#ed7953"
             ],
             [
              0.7777777777777778,
              "#fb9f3a"
             ],
             [
              0.8888888888888888,
              "#fdca26"
             ],
             [
              1,
              "#f0f921"
             ]
            ],
            "type": "contour"
           }
          ],
          "contourcarpet": [
           {
            "colorbar": {
             "outlinewidth": 0,
             "ticks": ""
            },
            "type": "contourcarpet"
           }
          ],
          "heatmap": [
           {
            "colorbar": {
             "outlinewidth": 0,
             "ticks": ""
            },
            "colorscale": [
             [
              0,
              "#0d0887"
             ],
             [
              0.1111111111111111,
              "#46039f"
             ],
             [
              0.2222222222222222,
              "#7201a8"
             ],
             [
              0.3333333333333333,
              "#9c179e"
             ],
             [
              0.4444444444444444,
              "#bd3786"
             ],
             [
              0.5555555555555556,
              "#d8576b"
             ],
             [
              0.6666666666666666,
              "#ed7953"
             ],
             [
              0.7777777777777778,
              "#fb9f3a"
             ],
             [
              0.8888888888888888,
              "#fdca26"
             ],
             [
              1,
              "#f0f921"
             ]
            ],
            "type": "heatmap"
           }
          ],
          "histogram": [
           {
            "marker": {
             "pattern": {
              "fillmode": "overlay",
              "size": 10,
              "solidity": 0.2
             }
            },
            "type": "histogram"
           }
          ],
          "histogram2d": [
           {
            "colorbar": {
             "outlinewidth": 0,
             "ticks": ""
            },
            "colorscale": [
             [
              0,
              "#0d0887"
             ],
             [
              0.1111111111111111,
              "#46039f"
             ],
             [
              0.2222222222222222,
              "#7201a8"
             ],
             [
              0.3333333333333333,
              "#9c179e"
             ],
             [
              0.4444444444444444,
              "#bd3786"
             ],
             [
              0.5555555555555556,
              "#d8576b"
             ],
             [
              0.6666666666666666,
              "#ed7953"
             ],
             [
              0.7777777777777778,
              "#fb9f3a"
             ],
             [
              0.8888888888888888,
              "#fdca26"
             ],
             [
              1,
              "#f0f921"
             ]
            ],
            "type": "histogram2d"
           }
          ],
          "histogram2dcontour": [
           {
            "colorbar": {
             "outlinewidth": 0,
             "ticks": ""
            },
            "colorscale": [
             [
              0,
              "#0d0887"
             ],
             [
              0.1111111111111111,
              "#46039f"
             ],
             [
              0.2222222222222222,
              "#7201a8"
             ],
             [
              0.3333333333333333,
              "#9c179e"
             ],
             [
              0.4444444444444444,
              "#bd3786"
             ],
             [
              0.5555555555555556,
              "#d8576b"
             ],
             [
              0.6666666666666666,
              "#ed7953"
             ],
             [
              0.7777777777777778,
              "#fb9f3a"
             ],
             [
              0.8888888888888888,
              "#fdca26"
             ],
             [
              1,
              "#f0f921"
             ]
            ],
            "type": "histogram2dcontour"
           }
          ],
          "mesh3d": [
           {
            "colorbar": {
             "outlinewidth": 0,
             "ticks": ""
            },
            "type": "mesh3d"
           }
          ],
          "parcoords": [
           {
            "line": {
             "colorbar": {
              "outlinewidth": 0,
              "ticks": ""
             }
            },
            "type": "parcoords"
           }
          ],
          "pie": [
           {
            "automargin": true,
            "type": "pie"
           }
          ],
          "scatter": [
           {
            "fillpattern": {
             "fillmode": "overlay",
             "size": 10,
             "solidity": 0.2
            },
            "type": "scatter"
           }
          ],
          "scatter3d": [
           {
            "line": {
             "colorbar": {
              "outlinewidth": 0,
              "ticks": ""
             }
            },
            "marker": {
             "colorbar": {
              "outlinewidth": 0,
              "ticks": ""
             }
            },
            "type": "scatter3d"
           }
          ],
          "scattercarpet": [
           {
            "marker": {
             "colorbar": {
              "outlinewidth": 0,
              "ticks": ""
             }
            },
            "type": "scattercarpet"
           }
          ],
          "scattergeo": [
           {
            "marker": {
             "colorbar": {
              "outlinewidth": 0,
              "ticks": ""
             }
            },
            "type": "scattergeo"
           }
          ],
          "scattergl": [
           {
            "marker": {
             "colorbar": {
              "outlinewidth": 0,
              "ticks": ""
             }
            },
            "type": "scattergl"
           }
          ],
          "scattermap": [
           {
            "marker": {
             "colorbar": {
              "outlinewidth": 0,
              "ticks": ""
             }
            },
            "type": "scattermap"
           }
          ],
          "scattermapbox": [
           {
            "marker": {
             "colorbar": {
              "outlinewidth": 0,
              "ticks": ""
             }
            },
            "type": "scattermapbox"
           }
          ],
          "scatterpolar": [
           {
            "marker": {
             "colorbar": {
              "outlinewidth": 0,
              "ticks": ""
             }
            },
            "type": "scatterpolar"
           }
          ],
          "scatterpolargl": [
           {
            "marker": {
             "colorbar": {
              "outlinewidth": 0,
              "ticks": ""
             }
            },
            "type": "scatterpolargl"
           }
          ],
          "scatterternary": [
           {
            "marker": {
             "colorbar": {
              "outlinewidth": 0,
              "ticks": ""
             }
            },
            "type": "scatterternary"
           }
          ],
          "surface": [
           {
            "colorbar": {
             "outlinewidth": 0,
             "ticks": ""
            },
            "colorscale": [
             [
              0,
              "#0d0887"
             ],
             [
              0.1111111111111111,
              "#46039f"
             ],
             [
              0.2222222222222222,
              "#7201a8"
             ],
             [
              0.3333333333333333,
              "#9c179e"
             ],
             [
              0.4444444444444444,
              "#bd3786"
             ],
             [
              0.5555555555555556,
              "#d8576b"
             ],
             [
              0.6666666666666666,
              "#ed7953"
             ],
             [
              0.7777777777777778,
              "#fb9f3a"
             ],
             [
              0.8888888888888888,
              "#fdca26"
             ],
             [
              1,
              "#f0f921"
             ]
            ],
            "type": "surface"
           }
          ],
          "table": [
           {
            "cells": {
             "fill": {
              "color": "#EBF0F8"
             },
             "line": {
              "color": "white"
             }
            },
            "header": {
             "fill": {
              "color": "#C8D4E3"
             },
             "line": {
              "color": "white"
             }
            },
            "type": "table"
           }
          ]
         },
         "layout": {
          "annotationdefaults": {
           "arrowcolor": "#2a3f5f",
           "arrowhead": 0,
           "arrowwidth": 1
          },
          "autotypenumbers": "strict",
          "coloraxis": {
           "colorbar": {
            "outlinewidth": 0,
            "ticks": ""
           }
          },
          "colorscale": {
           "diverging": [
            [
             0,
             "#8e0152"
            ],
            [
             0.1,
             "#c51b7d"
            ],
            [
             0.2,
             "#de77ae"
            ],
            [
             0.3,
             "#f1b6da"
            ],
            [
             0.4,
             "#fde0ef"
            ],
            [
             0.5,
             "#f7f7f7"
            ],
            [
             0.6,
             "#e6f5d0"
            ],
            [
             0.7,
             "#b8e186"
            ],
            [
             0.8,
             "#7fbc41"
            ],
            [
             0.9,
             "#4d9221"
            ],
            [
             1,
             "#276419"
            ]
           ],
           "sequential": [
            [
             0,
             "#0d0887"
            ],
            [
             0.1111111111111111,
             "#46039f"
            ],
            [
             0.2222222222222222,
             "#7201a8"
            ],
            [
             0.3333333333333333,
             "#9c179e"
            ],
            [
             0.4444444444444444,
             "#bd3786"
            ],
            [
             0.5555555555555556,
             "#d8576b"
            ],
            [
             0.6666666666666666,
             "#ed7953"
            ],
            [
             0.7777777777777778,
             "#fb9f3a"
            ],
            [
             0.8888888888888888,
             "#fdca26"
            ],
            [
             1,
             "#f0f921"
            ]
           ],
           "sequentialminus": [
            [
             0,
             "#0d0887"
            ],
            [
             0.1111111111111111,
             "#46039f"
            ],
            [
             0.2222222222222222,
             "#7201a8"
            ],
            [
             0.3333333333333333,
             "#9c179e"
            ],
            [
             0.4444444444444444,
             "#bd3786"
            ],
            [
             0.5555555555555556,
             "#d8576b"
            ],
            [
             0.6666666666666666,
             "#ed7953"
            ],
            [
             0.7777777777777778,
             "#fb9f3a"
            ],
            [
             0.8888888888888888,
             "#fdca26"
            ],
            [
             1,
             "#f0f921"
            ]
           ]
          },
          "colorway": [
           "#636efa",
           "#EF553B",
           "#00cc96",
           "#ab63fa",
           "#FFA15A",
           "#19d3f3",
           "#FF6692",
           "#B6E880",
           "#FF97FF",
           "#FECB52"
          ],
          "font": {
           "color": "#2a3f5f"
          },
          "geo": {
           "bgcolor": "white",
           "lakecolor": "white",
           "landcolor": "#E5ECF6",
           "showlakes": true,
           "showland": true,
           "subunitcolor": "white"
          },
          "hoverlabel": {
           "align": "left"
          },
          "hovermode": "closest",
          "mapbox": {
           "style": "light"
          },
          "paper_bgcolor": "white",
          "plot_bgcolor": "#E5ECF6",
          "polar": {
           "angularaxis": {
            "gridcolor": "white",
            "linecolor": "white",
            "ticks": ""
           },
           "bgcolor": "#E5ECF6",
           "radialaxis": {
            "gridcolor": "white",
            "linecolor": "white",
            "ticks": ""
           }
          },
          "scene": {
           "xaxis": {
            "backgroundcolor": "#E5ECF6",
            "gridcolor": "white",
            "gridwidth": 2,
            "linecolor": "white",
            "showbackground": true,
            "ticks": "",
            "zerolinecolor": "white"
           },
           "yaxis": {
            "backgroundcolor": "#E5ECF6",
            "gridcolor": "white",
            "gridwidth": 2,
            "linecolor": "white",
            "showbackground": true,
            "ticks": "",
            "zerolinecolor": "white"
           },
           "zaxis": {
            "backgroundcolor": "#E5ECF6",
            "gridcolor": "white",
            "gridwidth": 2,
            "linecolor": "white",
            "showbackground": true,
            "ticks": "",
            "zerolinecolor": "white"
           }
          },
          "shapedefaults": {
           "line": {
            "color": "#2a3f5f"
           }
          },
          "ternary": {
           "aaxis": {
            "gridcolor": "white",
            "linecolor": "white",
            "ticks": ""
           },
           "baxis": {
            "gridcolor": "white",
            "linecolor": "white",
            "ticks": ""
           },
           "bgcolor": "#E5ECF6",
           "caxis": {
            "gridcolor": "white",
            "linecolor": "white",
            "ticks": ""
           }
          },
          "title": {
           "x": 0.05
          },
          "xaxis": {
           "automargin": true,
           "gridcolor": "white",
           "linecolor": "white",
           "ticks": "",
           "title": {
            "standoff": 15
           },
           "zerolinecolor": "white",
           "zerolinewidth": 2
          },
          "yaxis": {
           "automargin": true,
           "gridcolor": "white",
           "linecolor": "white",
           "ticks": "",
           "title": {
            "standoff": 15
           },
           "zerolinecolor": "white",
           "zerolinewidth": 2
          }
         }
        },
        "title": {
         "text": "SLIM Evolution - sustavianfeed dataset"
        },
        "width": 1000,
        "xaxis": {
         "anchor": "y",
         "domain": [
          0,
          0.45
         ]
        },
        "xaxis10": {
         "anchor": "y10",
         "domain": [
          0.55,
          1
         ]
        },
        "xaxis11": {
         "anchor": "y11",
         "domain": [
          0,
          0.45
         ]
        },
        "xaxis12": {
         "anchor": "y12",
         "domain": [
          0.55,
          1
         ]
        },
        "xaxis13": {
         "anchor": "y13",
         "domain": [
          0,
          0.45
         ]
        },
        "xaxis14": {
         "anchor": "y14",
         "domain": [
          0.55,
          1
         ]
        },
        "xaxis15": {
         "anchor": "y15",
         "domain": [
          0,
          0.45
         ]
        },
        "xaxis16": {
         "anchor": "y16",
         "domain": [
          0.55,
          1
         ]
        },
        "xaxis17": {
         "anchor": "y17",
         "domain": [
          0,
          0.45
         ]
        },
        "xaxis18": {
         "anchor": "y18",
         "domain": [
          0.55,
          1
         ]
        },
        "xaxis19": {
         "anchor": "y19",
         "domain": [
          0,
          0.45
         ]
        },
        "xaxis2": {
         "anchor": "y2",
         "domain": [
          0.55,
          1
         ]
        },
        "xaxis20": {
         "anchor": "y20",
         "domain": [
          0.55,
          1
         ]
        },
        "xaxis21": {
         "anchor": "y21",
         "domain": [
          0,
          0.45
         ]
        },
        "xaxis22": {
         "anchor": "y22",
         "domain": [
          0.55,
          1
         ]
        },
        "xaxis23": {
         "anchor": "y23",
         "domain": [
          0,
          0.45
         ]
        },
        "xaxis24": {
         "anchor": "y24",
         "domain": [
          0.55,
          1
         ]
        },
        "xaxis25": {
         "anchor": "y25",
         "domain": [
          0,
          0.45
         ]
        },
        "xaxis26": {
         "anchor": "y26",
         "domain": [
          0.55,
          1
         ]
        },
        "xaxis27": {
         "anchor": "y27",
         "domain": [
          0,
          0.45
         ]
        },
        "xaxis28": {
         "anchor": "y28",
         "domain": [
          0.55,
          1
         ]
        },
        "xaxis29": {
         "anchor": "y29",
         "domain": [
          0,
          0.45
         ]
        },
        "xaxis3": {
         "anchor": "y3",
         "domain": [
          0,
          0.45
         ]
        },
        "xaxis30": {
         "anchor": "y30",
         "domain": [
          0.55,
          1
         ]
        },
        "xaxis31": {
         "anchor": "y31",
         "domain": [
          0,
          0.45
         ]
        },
        "xaxis32": {
         "anchor": "y32",
         "domain": [
          0.55,
          1
         ]
        },
        "xaxis33": {
         "anchor": "y33",
         "domain": [
          0,
          0.45
         ]
        },
        "xaxis34": {
         "anchor": "y34",
         "domain": [
          0.55,
          1
         ]
        },
        "xaxis35": {
         "anchor": "y35",
         "domain": [
          0,
          0.45
         ]
        },
        "xaxis36": {
         "anchor": "y36",
         "domain": [
          0.55,
          1
         ]
        },
        "xaxis37": {
         "anchor": "y37",
         "domain": [
          0,
          0.45
         ]
        },
        "xaxis38": {
         "anchor": "y38",
         "domain": [
          0.55,
          1
         ]
        },
        "xaxis39": {
         "anchor": "y39",
         "domain": [
          0,
          0.45
         ]
        },
        "xaxis4": {
         "anchor": "y4",
         "domain": [
          0.55,
          1
         ]
        },
        "xaxis40": {
         "anchor": "y40",
         "domain": [
          0.55,
          1
         ]
        },
        "xaxis41": {
         "anchor": "y41",
         "domain": [
          0,
          0.45
         ]
        },
        "xaxis42": {
         "anchor": "y42",
         "domain": [
          0.55,
          1
         ]
        },
        "xaxis43": {
         "anchor": "y43",
         "domain": [
          0,
          0.45
         ]
        },
        "xaxis44": {
         "anchor": "y44",
         "domain": [
          0.55,
          1
         ]
        },
        "xaxis45": {
         "anchor": "y45",
         "domain": [
          0,
          0.45
         ]
        },
        "xaxis46": {
         "anchor": "y46",
         "domain": [
          0.55,
          1
         ]
        },
        "xaxis47": {
         "anchor": "y47",
         "domain": [
          0,
          0.45
         ]
        },
        "xaxis48": {
         "anchor": "y48",
         "domain": [
          0.55,
          1
         ]
        },
        "xaxis49": {
         "anchor": "y49",
         "domain": [
          0,
          0.45
         ]
        },
        "xaxis5": {
         "anchor": "y5",
         "domain": [
          0,
          0.45
         ]
        },
        "xaxis50": {
         "anchor": "y50",
         "domain": [
          0.55,
          1
         ]
        },
        "xaxis51": {
         "anchor": "y51",
         "domain": [
          0,
          0.45
         ]
        },
        "xaxis52": {
         "anchor": "y52",
         "domain": [
          0.55,
          1
         ]
        },
        "xaxis53": {
         "anchor": "y53",
         "domain": [
          0,
          0.45
         ]
        },
        "xaxis54": {
         "anchor": "y54",
         "domain": [
          0.55,
          1
         ]
        },
        "xaxis55": {
         "anchor": "y55",
         "domain": [
          0,
          0.45
         ]
        },
        "xaxis56": {
         "anchor": "y56",
         "domain": [
          0.55,
          1
         ]
        },
        "xaxis57": {
         "anchor": "y57",
         "domain": [
          0,
          0.45
         ]
        },
        "xaxis58": {
         "anchor": "y58",
         "domain": [
          0.55,
          1
         ]
        },
        "xaxis59": {
         "anchor": "y59",
         "domain": [
          0,
          0.45
         ]
        },
        "xaxis6": {
         "anchor": "y6",
         "domain": [
          0.55,
          1
         ]
        },
        "xaxis60": {
         "anchor": "y60",
         "domain": [
          0.55,
          1
         ]
        },
        "xaxis7": {
         "anchor": "y7",
         "domain": [
          0,
          0.45
         ]
        },
        "xaxis8": {
         "anchor": "y8",
         "domain": [
          0.55,
          1
         ]
        },
        "xaxis9": {
         "anchor": "y9",
         "domain": [
          0,
          0.45
         ]
        },
        "yaxis": {
         "anchor": "x",
         "domain": [
          0.9827777777777773,
          0.9999999999999996
         ],
         "range": [
          0,
          null
         ]
        },
        "yaxis10": {
         "anchor": "x10",
         "domain": [
          0.8472222222222219,
          0.8644444444444441
         ]
        },
        "yaxis11": {
         "anchor": "x11",
         "domain": [
          0.813333333333333,
          0.8305555555555553
         ],
         "range": [
          0,
          null
         ]
        },
        "yaxis12": {
         "anchor": "x12",
         "domain": [
          0.813333333333333,
          0.8305555555555553
         ]
        },
        "yaxis13": {
         "anchor": "x13",
         "domain": [
          0.7794444444444442,
          0.7966666666666664
         ],
         "range": [
          0,
          null
         ]
        },
        "yaxis14": {
         "anchor": "x14",
         "domain": [
          0.7794444444444442,
          0.7966666666666664
         ]
        },
        "yaxis15": {
         "anchor": "x15",
         "domain": [
          0.7455555555555553,
          0.7627777777777776
         ],
         "range": [
          0,
          null
         ]
        },
        "yaxis16": {
         "anchor": "x16",
         "domain": [
          0.7455555555555553,
          0.7627777777777776
         ]
        },
        "yaxis17": {
         "anchor": "x17",
         "domain": [
          0.7116666666666664,
          0.7288888888888887
         ],
         "range": [
          0,
          null
         ]
        },
        "yaxis18": {
         "anchor": "x18",
         "domain": [
          0.7116666666666664,
          0.7288888888888887
         ]
        },
        "yaxis19": {
         "anchor": "x19",
         "domain": [
          0.6777777777777776,
          0.6949999999999998
         ],
         "range": [
          0,
          null
         ]
        },
        "yaxis2": {
         "anchor": "x2",
         "domain": [
          0.9827777777777773,
          0.9999999999999996
         ]
        },
        "yaxis20": {
         "anchor": "x20",
         "domain": [
          0.6777777777777776,
          0.6949999999999998
         ]
        },
        "yaxis21": {
         "anchor": "x21",
         "domain": [
          0.6438888888888887,
          0.661111111111111
         ],
         "range": [
          0,
          null
         ]
        },
        "yaxis22": {
         "anchor": "x22",
         "domain": [
          0.6438888888888887,
          0.661111111111111
         ]
        },
        "yaxis23": {
         "anchor": "x23",
         "domain": [
          0.6099999999999999,
          0.6272222222222221
         ],
         "range": [
          0,
          null
         ]
        },
        "yaxis24": {
         "anchor": "x24",
         "domain": [
          0.6099999999999999,
          0.6272222222222221
         ]
        },
        "yaxis25": {
         "anchor": "x25",
         "domain": [
          0.576111111111111,
          0.5933333333333333
         ],
         "range": [
          0,
          null
         ]
        },
        "yaxis26": {
         "anchor": "x26",
         "domain": [
          0.576111111111111,
          0.5933333333333333
         ]
        },
        "yaxis27": {
         "anchor": "x27",
         "domain": [
          0.5422222222222222,
          0.5594444444444444
         ],
         "range": [
          0,
          null
         ]
        },
        "yaxis28": {
         "anchor": "x28",
         "domain": [
          0.5422222222222222,
          0.5594444444444444
         ]
        },
        "yaxis29": {
         "anchor": "x29",
         "domain": [
          0.5083333333333333,
          0.5255555555555556
         ],
         "range": [
          0,
          null
         ]
        },
        "yaxis3": {
         "anchor": "x3",
         "domain": [
          0.9488888888888884,
          0.9661111111111107
         ],
         "range": [
          0,
          null
         ]
        },
        "yaxis30": {
         "anchor": "x30",
         "domain": [
          0.5083333333333333,
          0.5255555555555556
         ]
        },
        "yaxis31": {
         "anchor": "x31",
         "domain": [
          0.47444444444444445,
          0.49166666666666664
         ],
         "range": [
          0,
          null
         ]
        },
        "yaxis32": {
         "anchor": "x32",
         "domain": [
          0.47444444444444445,
          0.49166666666666664
         ]
        },
        "yaxis33": {
         "anchor": "x33",
         "domain": [
          0.44055555555555553,
          0.45777777777777773
         ],
         "range": [
          0,
          null
         ]
        },
        "yaxis34": {
         "anchor": "x34",
         "domain": [
          0.44055555555555553,
          0.45777777777777773
         ]
        },
        "yaxis35": {
         "anchor": "x35",
         "domain": [
          0.4066666666666666,
          0.4238888888888888
         ],
         "range": [
          0,
          null
         ]
        },
        "yaxis36": {
         "anchor": "x36",
         "domain": [
          0.4066666666666666,
          0.4238888888888888
         ]
        },
        "yaxis37": {
         "anchor": "x37",
         "domain": [
          0.37277777777777776,
          0.38999999999999996
         ],
         "range": [
          0,
          null
         ]
        },
        "yaxis38": {
         "anchor": "x38",
         "domain": [
          0.37277777777777776,
          0.38999999999999996
         ]
        },
        "yaxis39": {
         "anchor": "x39",
         "domain": [
          0.33888888888888885,
          0.35611111111111104
         ],
         "range": [
          0,
          null
         ]
        },
        "yaxis4": {
         "anchor": "x4",
         "domain": [
          0.9488888888888884,
          0.9661111111111107
         ]
        },
        "yaxis40": {
         "anchor": "x40",
         "domain": [
          0.33888888888888885,
          0.35611111111111104
         ]
        },
        "yaxis41": {
         "anchor": "x41",
         "domain": [
          0.30499999999999994,
          0.32222222222222213
         ],
         "range": [
          0,
          null
         ]
        },
        "yaxis42": {
         "anchor": "x42",
         "domain": [
          0.30499999999999994,
          0.32222222222222213
         ]
        },
        "yaxis43": {
         "anchor": "x43",
         "domain": [
          0.2711111111111111,
          0.2883333333333333
         ],
         "range": [
          0,
          null
         ]
        },
        "yaxis44": {
         "anchor": "x44",
         "domain": [
          0.2711111111111111,
          0.2883333333333333
         ]
        },
        "yaxis45": {
         "anchor": "x45",
         "domain": [
          0.23722222222222222,
          0.2544444444444444
         ],
         "range": [
          0,
          null
         ]
        },
        "yaxis46": {
         "anchor": "x46",
         "domain": [
          0.23722222222222222,
          0.2544444444444444
         ]
        },
        "yaxis47": {
         "anchor": "x47",
         "domain": [
          0.2033333333333333,
          0.22055555555555553
         ],
         "range": [
          0,
          null
         ]
        },
        "yaxis48": {
         "anchor": "x48",
         "domain": [
          0.2033333333333333,
          0.22055555555555553
         ]
        },
        "yaxis49": {
         "anchor": "x49",
         "domain": [
          0.16944444444444443,
          0.18666666666666665
         ],
         "range": [
          0,
          null
         ]
        },
        "yaxis5": {
         "anchor": "x5",
         "domain": [
          0.9149999999999996,
          0.9322222222222218
         ],
         "range": [
          0,
          null
         ]
        },
        "yaxis50": {
         "anchor": "x50",
         "domain": [
          0.16944444444444443,
          0.18666666666666665
         ]
        },
        "yaxis51": {
         "anchor": "x51",
         "domain": [
          0.13555555555555554,
          0.15277777777777776
         ],
         "range": [
          0,
          null
         ]
        },
        "yaxis52": {
         "anchor": "x52",
         "domain": [
          0.13555555555555554,
          0.15277777777777776
         ]
        },
        "yaxis53": {
         "anchor": "x53",
         "domain": [
          0.10166666666666666,
          0.11888888888888888
         ],
         "range": [
          0,
          null
         ]
        },
        "yaxis54": {
         "anchor": "x54",
         "domain": [
          0.10166666666666666,
          0.11888888888888888
         ]
        },
        "yaxis55": {
         "anchor": "x55",
         "domain": [
          0.06777777777777777,
          0.08499999999999999
         ],
         "range": [
          0,
          null
         ]
        },
        "yaxis56": {
         "anchor": "x56",
         "domain": [
          0.06777777777777777,
          0.08499999999999999
         ]
        },
        "yaxis57": {
         "anchor": "x57",
         "domain": [
          0.033888888888888885,
          0.05111111111111111
         ],
         "range": [
          0,
          null
         ]
        },
        "yaxis58": {
         "anchor": "x58",
         "domain": [
          0.033888888888888885,
          0.05111111111111111
         ]
        },
        "yaxis59": {
         "anchor": "x59",
         "domain": [
          0,
          0.01722222222222222
         ],
         "range": [
          0,
          null
         ]
        },
        "yaxis6": {
         "anchor": "x6",
         "domain": [
          0.9149999999999996,
          0.9322222222222218
         ]
        },
        "yaxis60": {
         "anchor": "x60",
         "domain": [
          0,
          0.01722222222222222
         ]
        },
        "yaxis7": {
         "anchor": "x7",
         "domain": [
          0.8811111111111107,
          0.898333333333333
         ],
         "range": [
          0,
          null
         ]
        },
        "yaxis8": {
         "anchor": "x8",
         "domain": [
          0.8811111111111107,
          0.898333333333333
         ]
        },
        "yaxis9": {
         "anchor": "x9",
         "domain": [
          0.8472222222222219,
          0.8644444444444441
         ],
         "range": [
          0,
          null
         ]
        }
       }
      }
     },
     "metadata": {},
     "output_type": "display_data"
    }
   ],
   "source": [
    "plot_fitness_and_size_logs('SLIM', n_outer_cv, dataset_name='sustavianfeed')"
   ]
  },
  {
   "cell_type": "markdown",
   "id": "6ef5b249",
   "metadata": {},
   "source": [
    "There is a clear tendency for the model to grow albeit not exponentially. The aforementioned periods of stagnation seem to be associated in some folds with periods of noze size stillness. The decreases in node size tend to happen when the model is stuck in performance, meaning that a smaller solution is found to match the current result but not to better it. Bloating is a clear problem since especially between folds 8 and 12, performance tends to stagnate with the node size still increasing."
   ]
  },
  {
   "cell_type": "markdown",
   "id": "0160a97d",
   "metadata": {},
   "source": [
    "When considering performance vs size on a per-fold basis, we may conclude that the augment in size is not justified mostly since it is mostly not accompanied by better performance."
   ]
  },
  {
   "cell_type": "code",
   "execution_count": 22,
   "id": "5d9270d4",
   "metadata": {},
   "outputs": [],
   "source": [
    "RESULTS = './results/SLIM'\n",
    "CSV = os.path.join(RESULTS, 'all_folds_grid_search_results.csv')\n",
    "VERSION_COL = 'param_slim_version'\n",
    "TEST_SCORE_COL = 'mean_test_score'\n",
    "DATASET = 'sustavianfeed'\n",
    "LOG_PATTERN = os.path.join(RESULTS, 'logs_best_params_fold_*')\n"
   ]
  },
  {
   "cell_type": "code",
   "execution_count": 23,
   "id": "e2b474aa",
   "metadata": {},
   "outputs": [],
   "source": [
    "df_csv = pd.read_csv(CSV)\n",
    "df_csv['test_rmse'] = -df_csv['mean_test_score']\n",
    "folds_by_version = (\n",
    "    df_csv\n",
    "      .groupby('param_slim_version')['outer_fold']\n",
    "      .unique()\n",
    "      .apply(list)\n",
    "      .to_dict()\n",
    ")\n",
    "VERSIONS = list(folds_by_version.keys())"
   ]
  },
  {
   "cell_type": "code",
   "execution_count": 24,
   "id": "339efaca",
   "metadata": {},
   "outputs": [
    {
     "data": {
      "application/vnd.plotly.v1+json": {
       "config": {
        "plotlyServerURL": "https://plot.ly"
       },
       "data": [
        {
         "alignmentgroup": "True",
         "boxpoints": "all",
         "hovertemplate": "param_slim_version=%{x}<br>test_rmse=%{y}<extra></extra>",
         "legendgroup": "",
         "marker": {
          "color": "#636efa"
         },
         "name": "",
         "notched": false,
         "offsetgroup": "",
         "orientation": "v",
         "showlegend": false,
         "type": "box",
         "x": [
          "SLIM+SIG2",
          "SLIM+SIG1",
          "SLIM+ABS",
          "SLIM*SIG2",
          "SLIM*SIG1",
          "SLIM*ABS",
          "SLIM+SIG2",
          "SLIM+SIG1",
          "SLIM+ABS",
          "SLIM*SIG2",
          "SLIM*SIG1",
          "SLIM*ABS",
          "SLIM+SIG2",
          "SLIM+SIG1",
          "SLIM+ABS",
          "SLIM*SIG2",
          "SLIM*SIG1",
          "SLIM*ABS",
          "SLIM+SIG2",
          "SLIM+SIG1",
          "SLIM+ABS",
          "SLIM*SIG2",
          "SLIM*SIG1",
          "SLIM*ABS",
          "SLIM+SIG2",
          "SLIM+SIG1",
          "SLIM+ABS",
          "SLIM*SIG2",
          "SLIM*SIG1",
          "SLIM*ABS",
          "SLIM+SIG2",
          "SLIM+SIG1",
          "SLIM+ABS",
          "SLIM*SIG2",
          "SLIM*SIG1",
          "SLIM*ABS",
          "SLIM+SIG2",
          "SLIM+SIG1",
          "SLIM+ABS",
          "SLIM*SIG2",
          "SLIM*SIG1",
          "SLIM*ABS",
          "SLIM+SIG2",
          "SLIM+SIG1",
          "SLIM+ABS",
          "SLIM*SIG2",
          "SLIM*SIG1",
          "SLIM*ABS",
          "SLIM+SIG2",
          "SLIM+SIG1",
          "SLIM+ABS",
          "SLIM*SIG2",
          "SLIM*SIG1",
          "SLIM*ABS",
          "SLIM+SIG2",
          "SLIM+SIG1",
          "SLIM+ABS",
          "SLIM*SIG2",
          "SLIM*SIG1",
          "SLIM*ABS",
          "SLIM+SIG2",
          "SLIM+SIG1",
          "SLIM+ABS",
          "SLIM*SIG2",
          "SLIM*SIG1",
          "SLIM*ABS",
          "SLIM+SIG2",
          "SLIM+SIG1",
          "SLIM+ABS",
          "SLIM*SIG2",
          "SLIM*SIG1",
          "SLIM*ABS",
          "SLIM+SIG2",
          "SLIM+SIG1",
          "SLIM+ABS",
          "SLIM*SIG2",
          "SLIM*SIG1",
          "SLIM*ABS",
          "SLIM+SIG2",
          "SLIM+SIG1",
          "SLIM+ABS",
          "SLIM*SIG2",
          "SLIM*SIG1",
          "SLIM*ABS",
          "SLIM+SIG2",
          "SLIM+SIG1",
          "SLIM+ABS",
          "SLIM*SIG2",
          "SLIM*SIG1",
          "SLIM*ABS",
          "SLIM+SIG2",
          "SLIM+SIG1",
          "SLIM+ABS",
          "SLIM*SIG2",
          "SLIM*SIG1",
          "SLIM*ABS",
          "SLIM+SIG2",
          "SLIM+SIG1",
          "SLIM+ABS",
          "SLIM*SIG2",
          "SLIM*SIG1",
          "SLIM*ABS",
          "SLIM+SIG2",
          "SLIM+SIG1",
          "SLIM+ABS",
          "SLIM*SIG2",
          "SLIM*SIG1",
          "SLIM*ABS",
          "SLIM+SIG2",
          "SLIM+SIG1",
          "SLIM+ABS",
          "SLIM*SIG2",
          "SLIM*SIG1",
          "SLIM*ABS",
          "SLIM+SIG2",
          "SLIM+SIG1",
          "SLIM+ABS",
          "SLIM*SIG2",
          "SLIM*SIG1",
          "SLIM*ABS",
          "SLIM+SIG2",
          "SLIM+SIG1",
          "SLIM+ABS",
          "SLIM*SIG2",
          "SLIM*SIG1",
          "SLIM*ABS",
          "SLIM+SIG2",
          "SLIM+SIG1",
          "SLIM+ABS",
          "SLIM*SIG2",
          "SLIM*SIG1",
          "SLIM*ABS",
          "SLIM+SIG2",
          "SLIM+SIG1",
          "SLIM+ABS",
          "SLIM*SIG2",
          "SLIM*SIG1",
          "SLIM*ABS",
          "SLIM+SIG2",
          "SLIM+SIG1",
          "SLIM+ABS",
          "SLIM*SIG2",
          "SLIM*SIG1",
          "SLIM*ABS",
          "SLIM+SIG2",
          "SLIM+SIG1",
          "SLIM+ABS",
          "SLIM*SIG2",
          "SLIM*SIG1",
          "SLIM*ABS",
          "SLIM+SIG2",
          "SLIM+SIG1",
          "SLIM+ABS",
          "SLIM*SIG2",
          "SLIM*SIG1",
          "SLIM*ABS",
          "SLIM+SIG2",
          "SLIM+SIG1",
          "SLIM+ABS",
          "SLIM*SIG2",
          "SLIM*SIG1",
          "SLIM*ABS",
          "SLIM+SIG2",
          "SLIM+SIG1",
          "SLIM+ABS",
          "SLIM*SIG2",
          "SLIM*SIG1",
          "SLIM*ABS",
          "SLIM+SIG2",
          "SLIM+SIG1",
          "SLIM+ABS",
          "SLIM*SIG2",
          "SLIM*SIG1",
          "SLIM*ABS",
          "SLIM+SIG2",
          "SLIM+SIG1",
          "SLIM+ABS",
          "SLIM*SIG2",
          "SLIM*SIG1",
          "SLIM*ABS"
         ],
         "x0": " ",
         "xaxis": "x",
         "y": {
          "bdata": "eSr0uYO5KEB4IlLsOP4mQE24LqNlPChAUgeJPNFZIUCwkxJGBRUKQKAy7KmEHh5AsH54JmCHKEDFbctX5y0nQLXUpsuh8SdAABvyYd3fIUAISQbd4JcTQENA+a1Z5B5AAEX32s9DKUDqzz1ERH4nQDKqtjNNhihAIoHKcduDIUCEbvUxhRUUQGZEe/SpABZAVU245FluKUCZafq0mcgnQHzZf9xN6ShApMjIvdCeIkCyHOTare8cQJpFPBZBMB5Aqjz88oMrKUAVj9tNpGMnQIVX3ehadShA3eo1Zo1eIUATPMVudvkRQFqYKfh1Ix5Aq5b3gMeaKEAO8kbbBvsmQN1yNAKVVShAJ92ICXLWIUBKYznQNMQIQKMzXhgWix5Ab0Ym0js7KUCyzzOp/nsnQPNUkx8whChACsqVfjGdIkBXHZqgIQ8hQONLrRrFDB9A1XYqSUdCKUDDMnWXsoknQBPkoKxxkChAMj1HMIB+IUDFYkg1pVAKQAqkDQFWJx5A6t/ncEHjKECT31+HYncnQLKs5j4+mShAfaXra5GZIUBbjyQG8U0MQPBl4Hdn2R5A6s3QnzElKUCiQxJs04InQCGJ+CwLgChAumbpFOmGIkBwKdiTVC8XQH22euV9ax9Axf4Nqc9JKUCblcYU2ZYnQIHr3EaXeyhAFWIpSRreIUDrLLbe7OARQIB0Mvbd6R5AdvT82dTgKEAApqjSX5QnQBB5a2GoWChAQ0ZipLtMIUDzBhveUAITQJkxPZgZ8h5AI7axp3JMKUAYDNeeL5QnQAjl9vIEgChARW+4ApL2IUCR54j1JKARQPpyr2CgKx9A4B1PErUGKUAieOlKUFsnQOyK3nTCPyhAkn8uftFnIUAsqzEzAAESQPNr39jmkh5A+IFeQxb1KECo4ksJoCYnQMpLyEgILihAMIRfFb7iIUCDNWD2rkISQIrCtWv8Kh9Ar28iPd8kKUClyvLEinMnQIOjrx3nZihAYeiVEb0dJUCdAk5VFCUbQGsCNtPWgx5AbVWoFInDKEAIRYLjTQknQG72IG1CCihAPx0Tzfg7IUCaTgjTft0RQDInes9UsR5AWy/lN5dAI0DSRnFWuychQG6O4GDPiyJA7IIlJrvdIEBEwNhhiZARQJ25j0UfOB1AxMGuk7XaKEAiUtVeh00nQGbO0QK4EChA3HIkiKHRIUAW9XBNJcMQQCCRp+tgZh9AxJ0GkhZtKEDehHweYJYmQLFOyf+P3CdAYmCaJKI6IUC03TnxeZcVQFDxYyEZvB9AYAxBlvVUKEAlhuWNBYEmQCou/ZwjDChApWViHKGJIUAqwMheec8UQCxpvxFunx5An6GQggyCKECW1OmPBBInQG8gaRY06idARe3b7IhiIUDvzG2/rUoUQANjc4jigB9A+4BdQH0pKUD/NLbua4cnQJpanbzEkChA1kJQlewGIUA2930S63sRQLb8t4tOCiBAagsplzrwKEB/2RAYEGInQNFb2oXewihA4kH42lJpIUBJytX5uG0QQOqZZbCEaR5AWN6sSdpFKUCfxs7EdpInQJeHw01oeyhA/zSjs9DZIUB+jTNAkLQRQB1UXZNJmh9AGql+bUlAKUCdvo2JMoYnQPapdjUbjShAKSUlpebAIUAzn5AHCwISQBDpYDNZHx9ABtiX62owKUCCTxT3AZInQDz6Sg2pkShAGhflZQxzIUBPgdU3hCISQPsE/2T66R9AOjJClQfCKEBvXVaMjAwnQE0QDTdCrChAKiDVECFvIUAWID9aKUoLQHjYSSYHmR9A0MypJPrdKECdgV2z+honQDKLJtjipyhAksuI4G5PIkAZQ7zcQ7cYQNL/eo716x5ALtCAPa34KEA+6RY16JAnQJRNppNAZihAnsnCUAN3IUDKRkixXn4VQA5CF8dpXR9A",
          "dtype": "f8"
         },
         "y0": " ",
         "yaxis": "y"
        }
       ],
       "layout": {
        "boxmode": "group",
        "height": 400,
        "legend": {
         "tracegroupgap": 0
        },
        "template": {
         "data": {
          "bar": [
           {
            "error_x": {
             "color": "#2a3f5f"
            },
            "error_y": {
             "color": "#2a3f5f"
            },
            "marker": {
             "line": {
              "color": "#E5ECF6",
              "width": 0.5
             },
             "pattern": {
              "fillmode": "overlay",
              "size": 10,
              "solidity": 0.2
             }
            },
            "type": "bar"
           }
          ],
          "barpolar": [
           {
            "marker": {
             "line": {
              "color": "#E5ECF6",
              "width": 0.5
             },
             "pattern": {
              "fillmode": "overlay",
              "size": 10,
              "solidity": 0.2
             }
            },
            "type": "barpolar"
           }
          ],
          "carpet": [
           {
            "aaxis": {
             "endlinecolor": "#2a3f5f",
             "gridcolor": "white",
             "linecolor": "white",
             "minorgridcolor": "white",
             "startlinecolor": "#2a3f5f"
            },
            "baxis": {
             "endlinecolor": "#2a3f5f",
             "gridcolor": "white",
             "linecolor": "white",
             "minorgridcolor": "white",
             "startlinecolor": "#2a3f5f"
            },
            "type": "carpet"
           }
          ],
          "choropleth": [
           {
            "colorbar": {
             "outlinewidth": 0,
             "ticks": ""
            },
            "type": "choropleth"
           }
          ],
          "contour": [
           {
            "colorbar": {
             "outlinewidth": 0,
             "ticks": ""
            },
            "colorscale": [
             [
              0,
              "#0d0887"
             ],
             [
              0.1111111111111111,
              "#46039f"
             ],
             [
              0.2222222222222222,
              "#7201a8"
             ],
             [
              0.3333333333333333,
              "#9c179e"
             ],
             [
              0.4444444444444444,
              "#bd3786"
             ],
             [
              0.5555555555555556,
              "#d8576b"
             ],
             [
              0.6666666666666666,
              "#ed7953"
             ],
             [
              0.7777777777777778,
              "#fb9f3a"
             ],
             [
              0.8888888888888888,
              "#fdca26"
             ],
             [
              1,
              "#f0f921"
             ]
            ],
            "type": "contour"
           }
          ],
          "contourcarpet": [
           {
            "colorbar": {
             "outlinewidth": 0,
             "ticks": ""
            },
            "type": "contourcarpet"
           }
          ],
          "heatmap": [
           {
            "colorbar": {
             "outlinewidth": 0,
             "ticks": ""
            },
            "colorscale": [
             [
              0,
              "#0d0887"
             ],
             [
              0.1111111111111111,
              "#46039f"
             ],
             [
              0.2222222222222222,
              "#7201a8"
             ],
             [
              0.3333333333333333,
              "#9c179e"
             ],
             [
              0.4444444444444444,
              "#bd3786"
             ],
             [
              0.5555555555555556,
              "#d8576b"
             ],
             [
              0.6666666666666666,
              "#ed7953"
             ],
             [
              0.7777777777777778,
              "#fb9f3a"
             ],
             [
              0.8888888888888888,
              "#fdca26"
             ],
             [
              1,
              "#f0f921"
             ]
            ],
            "type": "heatmap"
           }
          ],
          "histogram": [
           {
            "marker": {
             "pattern": {
              "fillmode": "overlay",
              "size": 10,
              "solidity": 0.2
             }
            },
            "type": "histogram"
           }
          ],
          "histogram2d": [
           {
            "colorbar": {
             "outlinewidth": 0,
             "ticks": ""
            },
            "colorscale": [
             [
              0,
              "#0d0887"
             ],
             [
              0.1111111111111111,
              "#46039f"
             ],
             [
              0.2222222222222222,
              "#7201a8"
             ],
             [
              0.3333333333333333,
              "#9c179e"
             ],
             [
              0.4444444444444444,
              "#bd3786"
             ],
             [
              0.5555555555555556,
              "#d8576b"
             ],
             [
              0.6666666666666666,
              "#ed7953"
             ],
             [
              0.7777777777777778,
              "#fb9f3a"
             ],
             [
              0.8888888888888888,
              "#fdca26"
             ],
             [
              1,
              "#f0f921"
             ]
            ],
            "type": "histogram2d"
           }
          ],
          "histogram2dcontour": [
           {
            "colorbar": {
             "outlinewidth": 0,
             "ticks": ""
            },
            "colorscale": [
             [
              0,
              "#0d0887"
             ],
             [
              0.1111111111111111,
              "#46039f"
             ],
             [
              0.2222222222222222,
              "#7201a8"
             ],
             [
              0.3333333333333333,
              "#9c179e"
             ],
             [
              0.4444444444444444,
              "#bd3786"
             ],
             [
              0.5555555555555556,
              "#d8576b"
             ],
             [
              0.6666666666666666,
              "#ed7953"
             ],
             [
              0.7777777777777778,
              "#fb9f3a"
             ],
             [
              0.8888888888888888,
              "#fdca26"
             ],
             [
              1,
              "#f0f921"
             ]
            ],
            "type": "histogram2dcontour"
           }
          ],
          "mesh3d": [
           {
            "colorbar": {
             "outlinewidth": 0,
             "ticks": ""
            },
            "type": "mesh3d"
           }
          ],
          "parcoords": [
           {
            "line": {
             "colorbar": {
              "outlinewidth": 0,
              "ticks": ""
             }
            },
            "type": "parcoords"
           }
          ],
          "pie": [
           {
            "automargin": true,
            "type": "pie"
           }
          ],
          "scatter": [
           {
            "fillpattern": {
             "fillmode": "overlay",
             "size": 10,
             "solidity": 0.2
            },
            "type": "scatter"
           }
          ],
          "scatter3d": [
           {
            "line": {
             "colorbar": {
              "outlinewidth": 0,
              "ticks": ""
             }
            },
            "marker": {
             "colorbar": {
              "outlinewidth": 0,
              "ticks": ""
             }
            },
            "type": "scatter3d"
           }
          ],
          "scattercarpet": [
           {
            "marker": {
             "colorbar": {
              "outlinewidth": 0,
              "ticks": ""
             }
            },
            "type": "scattercarpet"
           }
          ],
          "scattergeo": [
           {
            "marker": {
             "colorbar": {
              "outlinewidth": 0,
              "ticks": ""
             }
            },
            "type": "scattergeo"
           }
          ],
          "scattergl": [
           {
            "marker": {
             "colorbar": {
              "outlinewidth": 0,
              "ticks": ""
             }
            },
            "type": "scattergl"
           }
          ],
          "scattermap": [
           {
            "marker": {
             "colorbar": {
              "outlinewidth": 0,
              "ticks": ""
             }
            },
            "type": "scattermap"
           }
          ],
          "scattermapbox": [
           {
            "marker": {
             "colorbar": {
              "outlinewidth": 0,
              "ticks": ""
             }
            },
            "type": "scattermapbox"
           }
          ],
          "scatterpolar": [
           {
            "marker": {
             "colorbar": {
              "outlinewidth": 0,
              "ticks": ""
             }
            },
            "type": "scatterpolar"
           }
          ],
          "scatterpolargl": [
           {
            "marker": {
             "colorbar": {
              "outlinewidth": 0,
              "ticks": ""
             }
            },
            "type": "scatterpolargl"
           }
          ],
          "scatterternary": [
           {
            "marker": {
             "colorbar": {
              "outlinewidth": 0,
              "ticks": ""
             }
            },
            "type": "scatterternary"
           }
          ],
          "surface": [
           {
            "colorbar": {
             "outlinewidth": 0,
             "ticks": ""
            },
            "colorscale": [
             [
              0,
              "#0d0887"
             ],
             [
              0.1111111111111111,
              "#46039f"
             ],
             [
              0.2222222222222222,
              "#7201a8"
             ],
             [
              0.3333333333333333,
              "#9c179e"
             ],
             [
              0.4444444444444444,
              "#bd3786"
             ],
             [
              0.5555555555555556,
              "#d8576b"
             ],
             [
              0.6666666666666666,
              "#ed7953"
             ],
             [
              0.7777777777777778,
              "#fb9f3a"
             ],
             [
              0.8888888888888888,
              "#fdca26"
             ],
             [
              1,
              "#f0f921"
             ]
            ],
            "type": "surface"
           }
          ],
          "table": [
           {
            "cells": {
             "fill": {
              "color": "#EBF0F8"
             },
             "line": {
              "color": "white"
             }
            },
            "header": {
             "fill": {
              "color": "#C8D4E3"
             },
             "line": {
              "color": "white"
             }
            },
            "type": "table"
           }
          ]
         },
         "layout": {
          "annotationdefaults": {
           "arrowcolor": "#2a3f5f",
           "arrowhead": 0,
           "arrowwidth": 1
          },
          "autotypenumbers": "strict",
          "coloraxis": {
           "colorbar": {
            "outlinewidth": 0,
            "ticks": ""
           }
          },
          "colorscale": {
           "diverging": [
            [
             0,
             "#8e0152"
            ],
            [
             0.1,
             "#c51b7d"
            ],
            [
             0.2,
             "#de77ae"
            ],
            [
             0.3,
             "#f1b6da"
            ],
            [
             0.4,
             "#fde0ef"
            ],
            [
             0.5,
             "#f7f7f7"
            ],
            [
             0.6,
             "#e6f5d0"
            ],
            [
             0.7,
             "#b8e186"
            ],
            [
             0.8,
             "#7fbc41"
            ],
            [
             0.9,
             "#4d9221"
            ],
            [
             1,
             "#276419"
            ]
           ],
           "sequential": [
            [
             0,
             "#0d0887"
            ],
            [
             0.1111111111111111,
             "#46039f"
            ],
            [
             0.2222222222222222,
             "#7201a8"
            ],
            [
             0.3333333333333333,
             "#9c179e"
            ],
            [
             0.4444444444444444,
             "#bd3786"
            ],
            [
             0.5555555555555556,
             "#d8576b"
            ],
            [
             0.6666666666666666,
             "#ed7953"
            ],
            [
             0.7777777777777778,
             "#fb9f3a"
            ],
            [
             0.8888888888888888,
             "#fdca26"
            ],
            [
             1,
             "#f0f921"
            ]
           ],
           "sequentialminus": [
            [
             0,
             "#0d0887"
            ],
            [
             0.1111111111111111,
             "#46039f"
            ],
            [
             0.2222222222222222,
             "#7201a8"
            ],
            [
             0.3333333333333333,
             "#9c179e"
            ],
            [
             0.4444444444444444,
             "#bd3786"
            ],
            [
             0.5555555555555556,
             "#d8576b"
            ],
            [
             0.6666666666666666,
             "#ed7953"
            ],
            [
             0.7777777777777778,
             "#fb9f3a"
            ],
            [
             0.8888888888888888,
             "#fdca26"
            ],
            [
             1,
             "#f0f921"
            ]
           ]
          },
          "colorway": [
           "#636efa",
           "#EF553B",
           "#00cc96",
           "#ab63fa",
           "#FFA15A",
           "#19d3f3",
           "#FF6692",
           "#B6E880",
           "#FF97FF",
           "#FECB52"
          ],
          "font": {
           "color": "#2a3f5f"
          },
          "geo": {
           "bgcolor": "white",
           "lakecolor": "white",
           "landcolor": "#E5ECF6",
           "showlakes": true,
           "showland": true,
           "subunitcolor": "white"
          },
          "hoverlabel": {
           "align": "left"
          },
          "hovermode": "closest",
          "mapbox": {
           "style": "light"
          },
          "paper_bgcolor": "white",
          "plot_bgcolor": "#E5ECF6",
          "polar": {
           "angularaxis": {
            "gridcolor": "white",
            "linecolor": "white",
            "ticks": ""
           },
           "bgcolor": "#E5ECF6",
           "radialaxis": {
            "gridcolor": "white",
            "linecolor": "white",
            "ticks": ""
           }
          },
          "scene": {
           "xaxis": {
            "backgroundcolor": "#E5ECF6",
            "gridcolor": "white",
            "gridwidth": 2,
            "linecolor": "white",
            "showbackground": true,
            "ticks": "",
            "zerolinecolor": "white"
           },
           "yaxis": {
            "backgroundcolor": "#E5ECF6",
            "gridcolor": "white",
            "gridwidth": 2,
            "linecolor": "white",
            "showbackground": true,
            "ticks": "",
            "zerolinecolor": "white"
           },
           "zaxis": {
            "backgroundcolor": "#E5ECF6",
            "gridcolor": "white",
            "gridwidth": 2,
            "linecolor": "white",
            "showbackground": true,
            "ticks": "",
            "zerolinecolor": "white"
           }
          },
          "shapedefaults": {
           "line": {
            "color": "#2a3f5f"
           }
          },
          "ternary": {
           "aaxis": {
            "gridcolor": "white",
            "linecolor": "white",
            "ticks": ""
           },
           "baxis": {
            "gridcolor": "white",
            "linecolor": "white",
            "ticks": ""
           },
           "bgcolor": "#E5ECF6",
           "caxis": {
            "gridcolor": "white",
            "linecolor": "white",
            "ticks": ""
           }
          },
          "title": {
           "x": 0.05
          },
          "xaxis": {
           "automargin": true,
           "gridcolor": "white",
           "linecolor": "white",
           "ticks": "",
           "title": {
            "standoff": 15
           },
           "zerolinecolor": "white",
           "zerolinewidth": 2
          },
          "yaxis": {
           "automargin": true,
           "gridcolor": "white",
           "linecolor": "white",
           "ticks": "",
           "title": {
            "standoff": 15
           },
           "zerolinecolor": "white",
           "zerolinewidth": 2
          }
         }
        },
        "title": {
         "text": "SLIM – Test RMSE Distribution (sustavianfeed)"
        },
        "width": 700,
        "xaxis": {
         "anchor": "y",
         "domain": [
          0,
          1
         ],
         "title": {
          "text": "SLIM Version"
         }
        },
        "yaxis": {
         "anchor": "x",
         "domain": [
          0,
          1
         ],
         "title": {
          "text": "Test RMSE"
         }
        }
       }
      }
     },
     "metadata": {},
     "output_type": "display_data"
    }
   ],
   "source": [
    "#BOXPLOT: TEST RMSE per Version\n",
    "df_csv = pd.read_csv(CSV)\n",
    "df_csv['test_rmse'] = -df_csv[TEST_SCORE_COL]  # convert score to RMSE\n",
    "fig1 = px.box(\n",
    "    df_csv, x=VERSION_COL, y='test_rmse', points='all',\n",
    "    title=f\"SLIM – Test RMSE Distribution ({DATASET})\"\n",
    ")\n",
    "fig1.update_layout(width=700, height=400,\n",
    "                   xaxis_title=\"SLIM Version\", yaxis_title=\"Test RMSE\")\n",
    "fig1.show()\n"
   ]
  },
  {
   "cell_type": "markdown",
   "id": "8dd3a5b8",
   "metadata": {},
   "source": [
    "The first conclusion to be taken is that multiplication provides better results than addition.\n",
    "The version SLIM * SIG1 appears to be the best for the problem in hand, it has the the lowest bound by far and the distribution of values is closer to it than the upper bound. SLIM * SIG1 has a lower upper bound then every other version so we won't apply any statistical test since our results after plotting are conclusive."
   ]
  },
  {
   "cell_type": "code",
   "execution_count": 25,
   "id": "945755e9",
   "metadata": {},
   "outputs": [
    {
     "data": {
      "application/vnd.plotly.v1+json": {
       "config": {
        "plotlyServerURL": "https://plot.ly"
       },
       "data": [
        {
         "line": {
          "color": "orange"
         },
         "mode": "lines",
         "name": "Fold 1",
         "showlegend": false,
         "type": "scatter",
         "xaxis": "x",
         "y": {
          "bdata": "pHA9Ctfj6kDrkJvhBmlQQEqZ1NAGsC1AkpbK2xFOMkB08ExoktQ3QIodjUP9LjpAQ5JZvcOJOUCrksg+yOIxQMcS1sbYuS1Ayorh6gDYK0BEGapiKpUwQHe7XpoirDBArfwyGCM6MEAEPdS2YXQtQPyO4bGfpSlAKGGm7V+BLkCTGtoAbOApQM/Yl2w8WC5A7fMY5ZkzMkCgjPFh9tIoQPcDHhhAUC1A",
          "dtype": "f8"
         },
         "yaxis": "y"
        },
        {
         "line": {
          "color": "orange"
         },
         "mode": "lines",
         "name": "Fold 2",
         "showlegend": false,
         "type": "scatter",
         "xaxis": "x2",
         "y": {
          "bdata": "WmQ7309D60BLH7qgvoFQQGb4TzdQuC1AK97IPPJXMkBPlIRE2t43QBMM5xpmQDpAj4mUZvOgOUCBlq5gG/UxQIPCoEyj8S1ATN2VXTAQLEAykj1CzSgxQJ56pMFtRS5ABTV8C+vmLEAWhV0UPcAqQAWMLm8ONylApMLYQpALKUCel4qNeRUmQIofY+5aMixAIEYIjzaeKEANchdhimoqQB7gSQuXHSdA",
          "dtype": "f8"
         },
         "yaxis": "y2"
        },
        {
         "line": {
          "color": "orange"
         },
         "mode": "lines",
         "name": "Fold 3",
         "showlegend": false,
         "type": "scatter",
         "xaxis": "x3",
         "y": {
          "bdata": "3SQGgdlL60BkkpGzsINQQJZbWg2J2y1AGavN/6tuMkDLTGn9Lb04QLOY2HxcLztAXmdD/pntNUBBfcucLvcwQMTpJFtd5i9AJXmu78NhKUAOar+1E8UpQCsU6X5OESdARiOfVzzFLUCQ+YBAZz4mQCrKpfELpy9ApFLsaBzaKUBslPWbibkqQGXggJaueCpAqd4a2Cp5MEBNh07Pu6EpQAtjC0EOGipA",
          "dtype": "f8"
         },
         "yaxis": "y3"
        },
        {
         "line": {
          "color": "orange"
         },
         "mode": "lines",
         "name": "Fold 4",
         "showlegend": false,
         "type": "scatter",
         "xaxis": "x4",
         "y": {
          "bdata": "3SQGgdlP60A4hCo1e4RQQOq0boPavy1AB7R0BdtYMkALRbqfU+g3QKBrX0AvQDpAKbAApgyYOUAvwhTl0ugxQAlTlEvjry1A3soSnWWmK0Abn8n+eeIwQP6bFye++i9AVP61vHLFKEBLWvENhZ8sQGnFNxQ+eypA4Xmp2JhXKEAmx53SwQIrQFK13QTfmDJAD2CRXz+MMUAyAFRx404uQPq19dN/li1A",
          "dtype": "f8"
         },
         "yaxis": "y4"
        },
        {
         "line": {
          "color": "orange"
         },
         "mode": "lines",
         "name": "Fold 5",
         "showlegend": false,
         "type": "scatter",
         "xaxis": "x5",
         "y": {
          "bdata": "yXa+n/Y060D5oGez6ntQQIo+H2XEvS1AMNgN2xZdMkDb/SrAd9s3QML4adybNzpAb59VZkqTOUD7eOi7W+kxQGFT51Hxxy1ALpELzuDfK0CWd9UD5ukwQJpcjIF10DBA5wDBHD1CMECL3qmAe4ItQEQwDi4dsylAwlHy6hyLLkCHp1fKMsQrQE0R4PQuDi1AXfxtT5CAKUDPTgZHycMsQMu76gHzWDBA",
          "dtype": "f8"
         },
         "yaxis": "y5"
        },
        {
         "line": {
          "color": "orange"
         },
         "mode": "lines",
         "name": "Fold 6",
         "showlegend": false,
         "type": "scatter",
         "xaxis": "x6",
         "y": {
          "bdata": "TDeJQVw/60BV2XdF8IFQQNL9nIL8vC1Acmw9QzheMkD6fmq8dN83QB4X1SKiPDpAUWfuIeGbOUCa6V4n9fExQK4NFeP83S1A7iHhe3/zK0AHDJI+rfYwQJWe6SXGsjBAZ/LNNjdOMEDWqIdodJ8tQDV+4ZUkvylAuk4jLZWfLkBblxqhn/EpQHXLDvEPey5ADrvvGB5DMkB5A8x8B+coQPjii/Z4CS1A",
          "dtype": "f8"
         },
         "yaxis": "y6"
        },
        {
         "line": {
          "color": "orange"
         },
         "mode": "lines",
         "name": "Fold 7",
         "showlegend": false,
         "type": "scatter",
         "xaxis": "x7",
         "y": {
          "bdata": "MzMzM4Mx60Cu8C4X8R1OQK4upwTEZC1AY2NeRxx2MUBOJQNAFds1QOp4zEBlUDpAjBU1mIbpN0C5401+i2IzQBPzrKQVRzFAO4pz1NE5L0BcGyrG+YMuQJolAWpqITFA1T+IZMiJK0DdsdgmFT0wQPyO4bGfXS1A+kFdpFBWMEAjZvZ5jAIzQBDn4QSmoy5AqvQTzm6VKkDv/nivWrEwQKmFksmp5SpA",
          "dtype": "f8"
         },
         "yaxis": "y7"
        },
        {
         "line": {
          "color": "orange"
         },
         "mode": "lines",
         "name": "Fold 8",
         "showlegend": false,
         "type": "scatter",
         "xaxis": "x8",
         "y": {
          "bdata": "j8L1KMQk60DnxvSEJXhQQAUYlj/fti1AfxXgu81TMkA+0AoMWd03QMgHPZtVNzpAKxcq/1qSOUCVZYhjXegxQNeGinH+vi1AD2PS30vZK0AiNlg4SRcwQH4a9+Y3ADFA48eYu5Y4MEArvqHw2XItQHE7NCxG5StAiX0CKEYWL0A6rkZ2pe0uQAh2/BcIeilAcCTQYFPXKkCR8pNqn9YrQKjHtgw4Qy9A",
          "dtype": "f8"
         },
         "yaxis": "y8"
        },
        {
         "line": {
          "color": "orange"
         },
         "mode": "lines",
         "name": "Fold 9",
         "showlegend": false,
         "type": "scatter",
         "xaxis": "x9",
         "y": {
          "bdata": "WmQ73xcz60CtbvWc9HxQQMiXUMHhvS1A5e5zfLRYMkC5bkp5reA3QGItPgXAPDpAyhgfZi+XOUC4y37d6eoxQJBPyM7byC1Ai+JV1jblK0AeF9UiopwwQA5Pr5RlsDBASU27mGZCMEBbJVgczoQtQB2UMNP2rylA1O5XAb6LLkClLhnHSOYpQOj2ksZoZS5AOZuOAG46MkALDi+ISN0oQCAqjZjZ9yxA",
          "dtype": "f8"
         },
         "yaxis": "y9"
        },
        {
         "line": {
          "color": "orange"
         },
         "mode": "lines",
         "name": "Fold 10",
         "showlegend": false,
         "type": "scatter",
         "xaxis": "x10",
         "y": {
          "bdata": "z/dT440e60CUFFgAU3ZQQHLg1XJnti1Au3zrw3pTMkCpE9BE2Nw3QGwE4nX9MjpAdjbknxmMOUBxkXu6uuMxQBCxwcJJqi1Azas6qwWmK0AZ/z7jwt0wQDT1ukVg9C9Axk54CU7FKEAxlX7C2aUsQD6veOqRfipAc2a7Qh9EKED7zcR0IRYrQEd1OpD1XCpAyvs4miObLUCoqzsW28wsQGAfnbryQS9A",
          "dtype": "f8"
         },
         "yaxis": "y10"
        },
        {
         "line": {
          "color": "orange"
         },
         "mode": "lines",
         "name": "Fold 11",
         "showlegend": false,
         "type": "scatter",
         "xaxis": "x11",
         "y": {
          "bdata": "16NwPd4y60AlQE0tW3tQQDuKc9TRsS1AJ9pVSPlRMkDyCdl5G9s3QMwnK4arMzpAoS5SKAuPOUAHeNLCZeUxQEwbDksDty1A2nIuxVXNK0AFw7mGGQ4wQDYFMjuL9jBAL8N/uoESKkA5l+Kqsv8tQAOWXMXi5y9AWwcHexMrJkCU+x2KAi0rQIhH4uXpfCtAU84Xey/CMEA5m44AbtorQElpNo/DwCxA",
          "dtype": "f8"
         },
         "yaxis": "y11"
        },
        {
         "line": {
          "color": "orange"
         },
         "mode": "lines",
         "name": "Fold 12",
         "showlegend": false,
         "type": "scatter",
         "xaxis": "x12",
         "y": {
          "bdata": "ukkMApso60BuwOeHEXpQQB7ec2A5ri1Aatyb3zBRMkB6G5sdqdY3QGHB/YAHMjpAryKjA5KQOUAJwD+lSugxQPVm1HyVzC1ASIszhjnpK0APt0PDYqAwQGJnCp3XsDBATMPwETFFMECI2GDhJIUtQN3pzhPP8StAlUkNbQAuL0CCGr6FdWMqQLxbWaKzVC1Ayy2thsTtLUDSxDvAkyYxQCPXTSmvhS5A",
          "dtype": "f8"
         },
         "yaxis": "y12"
        },
        {
         "line": {
          "color": "orange"
         },
         "mode": "lines",
         "name": "Fold 13",
         "showlegend": false,
         "type": "scatter",
         "xaxis": "x13",
         "y": {
          "bdata": "oBov3UAw60BP6WD9n3tQQFg33h0Zsy1ACDwwgPBRMkB1IVZ/hN03QP+z5sdfNjpAgNb8+EuPOUCjycUYWOMxQLACfLd5sy1A5fBJJxLMK0AcfcwHBA4wQHY25J8Z+DBAsMivH2IXKkA5DVGFP8MtQC9q96sA5y9AuRyvQPQoJkCq9BPObi0rQFTgZBu4eytA3GYqxCPBMEC8OzJWm9crQACpTZzcvyxA",
          "dtype": "f8"
         },
         "yaxis": "y13"
        },
        {
         "line": {
          "color": "orange"
         },
         "mode": "lines",
         "name": "Fold 14",
         "showlegend": false,
         "type": "scatter",
         "xaxis": "x14",
         "y": {
          "bdata": "ke18P60d60Dwoq8gzXdQQNAoXfqXtC1ASrN5HAZTMkAZjXxe8dw3QKNcGr/wNjpAmFEst7SSOUC/gjRj0egxQLJ/ngYMwi1A5BJHHojcK0DWOnE5XhkwQGlXIeUnATFAvMtFfCc6MEDQJ/Ik6XItQM3Ji0zA5ytAH2XEBaAZL0Ca0CSxpOwuQInS3uALIylAdc3km22WL0C/YDdsW+wvQC3Q7pBiaCtA",
          "dtype": "f8"
         },
         "yaxis": "y14"
        },
        {
         "line": {
          "color": "orange"
         },
         "mode": "lines",
         "name": "Fold 15",
         "showlegend": false,
         "type": "scatter",
         "xaxis": "x15",
         "y": {
          "bdata": "FK5H4SJC60ArNXugFYBQQMJLcOoDuS1AjdKlf0lWMkCHGoUks+I3QM6qz9VWPDpAyVht/l+ZOUAKvmn67OwxQCECDqFKxS1AdNGQ8SjdK0C+3v3xXhUwQJvLDYY6BDFAnNzvUBQoKkD2XRH8bw0uQNxHbk269S9AcqQzMPIyJkDD8BExJTorQMCvkSQIhytAbD8Z48PMMEDQtS+gF5IvQNEDH4MVczBA",
          "dtype": "f8"
         },
         "yaxis": "y15"
        },
        {
         "line": {
          "color": "orange"
         },
         "mode": "lines",
         "name": "Fold 16",
         "showlegend": false,
         "type": "scatter",
         "xaxis": "x16",
         "y": {
          "bdata": "16NwPToT60C9HHbfMXZQQGLcDaK1ui1AiVxwBn9bMkDWxAJf0eE3QIWZtn9lOTpAJcy0/SuXOUD8qlyo/O8xQGH/dW7axC1Ab/YHym3TK0A4MLlRZN0uQED8/PfgzSpAUDV6NUABKkBKRWPt70QvQCOe7GZGDy1AuOaO/pfbK0D8GkmCcFUtQPrQBfUtwy1Akuf6PhzkLEALJCh+jAkrQPSLEvQX+ipA",
          "dtype": "f8"
         },
         "yaxis": "y16"
        },
        {
         "line": {
          "color": "orange"
         },
         "mode": "lines",
         "name": "Fold 17",
         "showlegend": false,
         "type": "scatter",
         "xaxis": "x17",
         "y": {
          "bdata": "PQrXozg060BZi08BMH1QQGtkV1pGui1AZcIv9fNWMkDboswGmeQ3QCmwAKYMQDpA5/1/nDCdOUDIe9XKhO8xQAGjy5vDzS1AUDkmi/vnK0DOpiOAmx0wQD9YxoZuCjFAqwZhbvcyKkBLyXISSt8tQFlS7j7H/y9ARfMAFvk9JkBPeXQjLEIrQNf7jXbckCtAyRzLu+rRMEBeFD3wMZgvQICBIECGdjBA",
          "dtype": "f8"
         },
         "yaxis": "y17"
        },
        {
         "line": {
          "color": "orange"
         },
         "mode": "lines",
         "name": "Fold 18",
         "showlegend": false,
         "type": "scatter",
         "xaxis": "x18",
         "y": {
          "bdata": "XI/C9bAi60BnD7QCQ3hQQPeQ8L2/cS5AB2ADIsSNMkBoBYasbt05QGJITiZucTxAFwyuuaNXOkDcKR2s/7s0QI51cRsNYCdAiUD1DyJJLkD8OQX52WAqQNz2PeqvPy1AQrKACdwyKkCVtrjGZ3IrQMajVMITQilA+bziqUciL0B9l1KXjNsmQL9DUaBPrCxA1xh0QuhIMEDpYWh1cq4vQKzI6IAkhCtA",
          "dtype": "f8"
         },
         "yaxis": "y18"
        },
        {
         "line": {
          "color": "orange"
         },
         "mode": "lines",
         "name": "Fold 19",
         "showlegend": false,
         "type": "scatter",
         "xaxis": "x19",
         "y": {
          "bdata": "XI/C9QA660C/ZU6XxX5QQL6ItmPqti1ABp/m5EVWMkAjoS3nUuA3QApI+x9gPTpA6Po+HCScOUBVhQZi2fAxQMyyJ4HN2S1ADmlU4GTzK0CxFMlXAqUwQFkxXB0AtTBAAoQPJVpKMED6mXrdIpAtQGfUfJV8/CtAW1zjM9k3L0C5GW7A53MqQCkEcokjXy1Ad7zJb9H5LUAVArnEkSsxQPdbO1ESii5A",
          "dtype": "f8"
         },
         "yaxis": "y19"
        },
        {
         "line": {
          "color": "orange"
         },
         "mode": "lines",
         "name": "Fold 20",
         "showlegend": false,
         "type": "scatter",
         "xaxis": "x20",
         "y": {
          "bdata": "I9v5foZF60ChEAGHUINQQEYnS633yy1AHsakv5deMkBsCfmgZ+83QPON6J51UTpAgH7fv3mtOUCKj0/IzvsxQFbUYBqG7y1AhLweTIoPLEBTr1sExrowQBvYKsHiyDBAm8sNhjpcMEDjM9k/T3MsQFhzgGCOzipAtd5vtOPeLkAWNZiG4fsqQE/N5QZD5SpA12zlJf+rLECYw+47ho8mQOVjd4GS0iVA",
          "dtype": "f8"
         },
         "yaxis": "y20"
        },
        {
         "line": {
          "color": "orange"
         },
         "mode": "lines",
         "name": "Fold 21",
         "showlegend": false,
         "type": "scatter",
         "xaxis": "x21",
         "y": {
          "bdata": "i2zn+6El60D129eBc3pQQAvsMZHSxC1ATbuYZrpbMkANAFXcuOk3QJsCmZ1FSzpA/wjDgCWrOUC5+xwfLf4xQEZFnE6y9S1AwCUA/5QSLEAe4bTgRbswQFcG1QYnyjBAuXAgJAtcMECA7suZ7XIsQO888Zwt0CpA0VynkZbiLEBqv7UTJUErQLQglPdxJCxASn8vhQcVLkB/pfPhWUItQA6g3/dvfi9A",
          "dtype": "f8"
         },
         "yaxis": "y21"
        },
        {
         "line": {
          "color": "orange"
         },
         "mode": "lines",
         "name": "Fold 22",
         "showlegend": false,
         "type": "scatter",
         "xaxis": "x22",
         "y": {
          "bdata": "i2zn+yEr60DFPZY+dHpQQMPWbOUlxy1A9MMI4dFaMkABwRw9fus3QK71RUJbSjpAm3EaogqnOUAdkIR9O/kxQIW0xqAT4i1ALSEf9Gz+K0D8GHPXEqowQJyHE5hOvzBAr0Sg+gdNMEBLAWn/A5gtQGms/Z3tASxAmx2pvvM7L0DW/s726HUqQNbHQ9/dYi1AqWis/Z3tLUAMHqZ9cysxQPjgtUsbzi5A",
          "dtype": "f8"
         },
         "yaxis": "y22"
        },
        {
         "line": {
          "color": "orange"
         },
         "mode": "lines",
         "name": "Fold 23",
         "showlegend": false,
         "type": "scatter",
         "xaxis": "x23",
         "y": {
          "bdata": "i2zn+7nt6kDgZ1w4EGxQQJ7Q60/iqy1A83aE04JPMkDLSpNS0NU3QOtztRX7KzpAJhqk4CmIOUB/+s+aH+MxQMe7I2O1sS1AzAhvD0LIK0D922W/7ggwQGr3qwDf8TBA3QiLijgFKkCI2jaMgvAtQDBI+rSK5i9AGHeDaK04JkBy+KQTCWYrQB/XhopxrixAnPurx31LLUB1ApoIGzYsQIaOHVTiyipA",
          "dtype": "f8"
         },
         "yaxis": "y23"
        },
        {
         "line": {
          "color": "orange"
         },
         "mode": "lines",
         "name": "Fold 24",
         "showlegend": false,
         "type": "scatter",
         "xaxis": "x24",
         "y": {
          "bdata": "UrgehQsN60BxGw3gLXJQQFioNc07ri1ACg+aXfdOMkDZW8r5Ytc3QAJmvoOfMDpA/5WVJqWMOUClEMgljuQxQOY/pN++ui1AJ0ut9xvVK0CMhLacSxUwQEj43t+g/TBAZRu4A3U2MEAYBiy5im0tQBK/Yg0X4StApwUv+goSL0BF8Sprm+IuQDxNZrytHClAJxO3CmKQL0DC2hg74eUvQFTIlXoWZCtA",
          "dtype": "f8"
         },
         "yaxis": "y24"
        },
        {
         "line": {
          "color": "orange"
         },
         "mode": "lines",
         "name": "Fold 25",
         "showlegend": false,
         "type": "scatter",
         "xaxis": "x25",
         "y": {
          "bdata": "z/dT4y0g60CJXkax3HZQQC6M9KJ2ty1AfEW3XtNTMkASoKaWrd03QDfCoiJONzpAzhySWiiROUC+g584gOYxQPCFyVTBuC1ADLCPTl3RK0AteqcC7hEwQFVntcAe+zBAKzI6IAkXKkAdVU0QdcctQOC6YkZ46y9AjuiedY0uJkBZUu4+xy8rQI+mejL/gCtAXmQCfo3EMEBc5nRZTNwrQCV2bW+3xCxA",
          "dtype": "f8"
         },
         "yaxis": "y25"
        },
        {
         "line": {
          "color": "orange"
         },
         "mode": "lines",
         "name": "Fold 26",
         "showlegend": false,
         "type": "scatter",
         "xaxis": "x26",
         "y": {
          "bdata": "CtejcNU260CGIAclzHxQQEFK7Nreti1AIm5OJQNUMkCA1vz4S983QIc2ABsQOTpAorYNoyCUOUCrQZjbvegxQNBGrptSvi1AUp55OezWK0BcPSe9bxQwQLU0t0JY/TBAyZI5lncdKkCR8SiV8MwtQPGAsilX8C9AZ7XAHhMxJkDMuKmB5jMrQHsy/+ibhCtACK7yBMLGMECkxRnDnOArQI51cRsNyCxA",
          "dtype": "f8"
         },
         "yaxis": "y26"
        },
        {
         "line": {
          "color": "orange"
         },
         "mode": "lines",
         "name": "Fold 27",
         "showlegend": false,
         "type": "scatter",
         "xaxis": "x27",
         "y": {
          "bdata": "H4XrUfAv60AqOpLLf3pQQBWqm4u/tS1ACDwwgPBRMkDZ6Jyf4tw3QM+CUN7HNTpADMo0mlyQOUBq2VpfJOQxQIbKv5ZXti1Abynni73XK0C7gJcZNhIwQCHkvP+PAzFA7tEb7iMfKkCF6XsNwcktQPmFV5I87y9AccYwJ2grJkCE86ljlTIrQChDVUylfytAzEOmfAjGMEAMO4xJf98rQCTusfShwyxA",
          "dtype": "f8"
         },
         "yaxis": "y27"
        },
        {
         "line": {
          "color": "orange"
         },
         "mode": "lines",
         "name": "Fold 28",
         "showlegend": false,
         "type": "scatter",
         "xaxis": "x28",
         "y": {
          "bdata": "+n5qvEjx6kD752nAIGtQQOHtQQjIry1AnMQgsHJQMkAJwap6+dU3QBTrVPmeLTpAp8tiYvOJOUDwiuB/K+UxQBJOC170tS1Aob5lTpfNK0DEJced0g0wQOW1ErpL9jBAfT81XroJKkCBs5QsJ/ktQHvZdtoa6S9A1sdD390uJkDjbaXXZlMrQD7MXradtixAAMYzaOhPLUAtJctJKD0sQG5t4Xmp0CpA",
          "dtype": "f8"
         },
         "yaxis": "y28"
        },
        {
         "line": {
          "color": "orange"
         },
         "mode": "lines",
         "name": "Fold 29",
         "showlegend": false,
         "type": "scatter",
         "xaxis": "x29",
         "y": {
          "bdata": "uB6F63kb60ClZaTeU3dQQMnH7gIlxS1Ardo1Ia1ZMkCKVu4FZuk3QNJUT+YfQTpAuYjvxKyXOUAU56ij4+oxQDARb51/sy1AEvkupS6xK0BPlIRE2uIwQBk74SU4/S9AwXCuYYbOKEAejNgngLIsQIRnQpPEiipA5bZ9j/pLKEBEqFKzByIrQD0s1JrmZSpAzCTqBZ+mLUA7x4Ds9dYsQAJnKVlOSi9A",
          "dtype": "f8"
         },
         "yaxis": "y29"
        },
        {
         "line": {
          "color": "orange"
         },
         "mode": "lines",
         "name": "Fold 30",
         "showlegend": false,
         "type": "scatter",
         "xaxis": "x30",
         "y": {
          "bdata": "N4lBYNUl60ABamrZWnlQQCC1iZP7tS1Arrmj/+VSMkBUcHhBRN43QBfzc0NTOjpAjYAKR5CWOUCJtfgUAOsxQB3HD5VGzC1AFlETfT7qK0AR/7ClR58wQAOxbOaQtDBAoPzdO2pEMEBK0cq9wIQtQFLt0/GY8StAN6j91k4sL0BNnrKarmcqQC7/If323S5AmlshrMbqLUB0QuigSxAuQPT8aaM6HSpA",
          "dtype": "f8"
         },
         "yaxis": "y30"
        }
       ],
       "layout": {
        "annotations": [
         {
          "font": {
           "size": 16
          },
          "showarrow": false,
          "text": "Fold 1",
          "x": 0.14444444444444446,
          "xanchor": "center",
          "xref": "paper",
          "y": 1,
          "yanchor": "bottom",
          "yref": "paper"
         },
         {
          "font": {
           "size": 16
          },
          "showarrow": false,
          "text": "Fold 2",
          "x": 0.5,
          "xanchor": "center",
          "xref": "paper",
          "y": 1,
          "yanchor": "bottom",
          "yref": "paper"
         },
         {
          "font": {
           "size": 16
          },
          "showarrow": false,
          "text": "Fold 3",
          "x": 0.8555555555555556,
          "xanchor": "center",
          "xref": "paper",
          "y": 1,
          "yanchor": "bottom",
          "yref": "paper"
         },
         {
          "font": {
           "size": 16
          },
          "showarrow": false,
          "text": "Fold 4",
          "x": 0.14444444444444446,
          "xanchor": "center",
          "xref": "paper",
          "y": 0.8950000000000001,
          "yanchor": "bottom",
          "yref": "paper"
         },
         {
          "font": {
           "size": 16
          },
          "showarrow": false,
          "text": "Fold 5",
          "x": 0.5,
          "xanchor": "center",
          "xref": "paper",
          "y": 0.8950000000000001,
          "yanchor": "bottom",
          "yref": "paper"
         },
         {
          "font": {
           "size": 16
          },
          "showarrow": false,
          "text": "Fold 6",
          "x": 0.8555555555555556,
          "xanchor": "center",
          "xref": "paper",
          "y": 0.8950000000000001,
          "yanchor": "bottom",
          "yref": "paper"
         },
         {
          "font": {
           "size": 16
          },
          "showarrow": false,
          "text": "Fold 7",
          "x": 0.14444444444444446,
          "xanchor": "center",
          "xref": "paper",
          "y": 0.7900000000000001,
          "yanchor": "bottom",
          "yref": "paper"
         },
         {
          "font": {
           "size": 16
          },
          "showarrow": false,
          "text": "Fold 8",
          "x": 0.5,
          "xanchor": "center",
          "xref": "paper",
          "y": 0.7900000000000001,
          "yanchor": "bottom",
          "yref": "paper"
         },
         {
          "font": {
           "size": 16
          },
          "showarrow": false,
          "text": "Fold 9",
          "x": 0.8555555555555556,
          "xanchor": "center",
          "xref": "paper",
          "y": 0.7900000000000001,
          "yanchor": "bottom",
          "yref": "paper"
         },
         {
          "font": {
           "size": 16
          },
          "showarrow": false,
          "text": "Fold 10",
          "x": 0.14444444444444446,
          "xanchor": "center",
          "xref": "paper",
          "y": 0.6850000000000002,
          "yanchor": "bottom",
          "yref": "paper"
         },
         {
          "font": {
           "size": 16
          },
          "showarrow": false,
          "text": "Fold 11",
          "x": 0.5,
          "xanchor": "center",
          "xref": "paper",
          "y": 0.6850000000000002,
          "yanchor": "bottom",
          "yref": "paper"
         },
         {
          "font": {
           "size": 16
          },
          "showarrow": false,
          "text": "Fold 12",
          "x": 0.8555555555555556,
          "xanchor": "center",
          "xref": "paper",
          "y": 0.6850000000000002,
          "yanchor": "bottom",
          "yref": "paper"
         },
         {
          "font": {
           "size": 16
          },
          "showarrow": false,
          "text": "Fold 13",
          "x": 0.14444444444444446,
          "xanchor": "center",
          "xref": "paper",
          "y": 0.5800000000000001,
          "yanchor": "bottom",
          "yref": "paper"
         },
         {
          "font": {
           "size": 16
          },
          "showarrow": false,
          "text": "Fold 14",
          "x": 0.5,
          "xanchor": "center",
          "xref": "paper",
          "y": 0.5800000000000001,
          "yanchor": "bottom",
          "yref": "paper"
         },
         {
          "font": {
           "size": 16
          },
          "showarrow": false,
          "text": "Fold 15",
          "x": 0.8555555555555556,
          "xanchor": "center",
          "xref": "paper",
          "y": 0.5800000000000001,
          "yanchor": "bottom",
          "yref": "paper"
         },
         {
          "font": {
           "size": 16
          },
          "showarrow": false,
          "text": "Fold 16",
          "x": 0.14444444444444446,
          "xanchor": "center",
          "xref": "paper",
          "y": 0.47500000000000003,
          "yanchor": "bottom",
          "yref": "paper"
         },
         {
          "font": {
           "size": 16
          },
          "showarrow": false,
          "text": "Fold 17",
          "x": 0.5,
          "xanchor": "center",
          "xref": "paper",
          "y": 0.47500000000000003,
          "yanchor": "bottom",
          "yref": "paper"
         },
         {
          "font": {
           "size": 16
          },
          "showarrow": false,
          "text": "Fold 18",
          "x": 0.8555555555555556,
          "xanchor": "center",
          "xref": "paper",
          "y": 0.47500000000000003,
          "yanchor": "bottom",
          "yref": "paper"
         },
         {
          "font": {
           "size": 16
          },
          "showarrow": false,
          "text": "Fold 19",
          "x": 0.14444444444444446,
          "xanchor": "center",
          "xref": "paper",
          "y": 0.37000000000000005,
          "yanchor": "bottom",
          "yref": "paper"
         },
         {
          "font": {
           "size": 16
          },
          "showarrow": false,
          "text": "Fold 20",
          "x": 0.5,
          "xanchor": "center",
          "xref": "paper",
          "y": 0.37000000000000005,
          "yanchor": "bottom",
          "yref": "paper"
         },
         {
          "font": {
           "size": 16
          },
          "showarrow": false,
          "text": "Fold 21",
          "x": 0.8555555555555556,
          "xanchor": "center",
          "xref": "paper",
          "y": 0.37000000000000005,
          "yanchor": "bottom",
          "yref": "paper"
         },
         {
          "font": {
           "size": 16
          },
          "showarrow": false,
          "text": "Fold 22",
          "x": 0.14444444444444446,
          "xanchor": "center",
          "xref": "paper",
          "y": 0.265,
          "yanchor": "bottom",
          "yref": "paper"
         },
         {
          "font": {
           "size": 16
          },
          "showarrow": false,
          "text": "Fold 23",
          "x": 0.5,
          "xanchor": "center",
          "xref": "paper",
          "y": 0.265,
          "yanchor": "bottom",
          "yref": "paper"
         },
         {
          "font": {
           "size": 16
          },
          "showarrow": false,
          "text": "Fold 24",
          "x": 0.8555555555555556,
          "xanchor": "center",
          "xref": "paper",
          "y": 0.265,
          "yanchor": "bottom",
          "yref": "paper"
         },
         {
          "font": {
           "size": 16
          },
          "showarrow": false,
          "text": "Fold 25",
          "x": 0.14444444444444446,
          "xanchor": "center",
          "xref": "paper",
          "y": 0.16000000000000003,
          "yanchor": "bottom",
          "yref": "paper"
         },
         {
          "font": {
           "size": 16
          },
          "showarrow": false,
          "text": "Fold 26",
          "x": 0.5,
          "xanchor": "center",
          "xref": "paper",
          "y": 0.16000000000000003,
          "yanchor": "bottom",
          "yref": "paper"
         },
         {
          "font": {
           "size": 16
          },
          "showarrow": false,
          "text": "Fold 27",
          "x": 0.8555555555555556,
          "xanchor": "center",
          "xref": "paper",
          "y": 0.16000000000000003,
          "yanchor": "bottom",
          "yref": "paper"
         },
         {
          "font": {
           "size": 16
          },
          "showarrow": false,
          "text": "Fold 28",
          "x": 0.14444444444444446,
          "xanchor": "center",
          "xref": "paper",
          "y": 0.05500000000000001,
          "yanchor": "bottom",
          "yref": "paper"
         },
         {
          "font": {
           "size": 16
          },
          "showarrow": false,
          "text": "Fold 29",
          "x": 0.5,
          "xanchor": "center",
          "xref": "paper",
          "y": 0.05500000000000001,
          "yanchor": "bottom",
          "yref": "paper"
         },
         {
          "font": {
           "size": 16
          },
          "showarrow": false,
          "text": "Fold 30",
          "x": 0.8555555555555556,
          "xanchor": "center",
          "xref": "paper",
          "y": 0.05500000000000001,
          "yanchor": "bottom",
          "yref": "paper"
         }
        ],
        "height": 4000,
        "margin": {
         "t": 50
        },
        "template": {
         "data": {
          "bar": [
           {
            "error_x": {
             "color": "#2a3f5f"
            },
            "error_y": {
             "color": "#2a3f5f"
            },
            "marker": {
             "line": {
              "color": "#E5ECF6",
              "width": 0.5
             },
             "pattern": {
              "fillmode": "overlay",
              "size": 10,
              "solidity": 0.2
             }
            },
            "type": "bar"
           }
          ],
          "barpolar": [
           {
            "marker": {
             "line": {
              "color": "#E5ECF6",
              "width": 0.5
             },
             "pattern": {
              "fillmode": "overlay",
              "size": 10,
              "solidity": 0.2
             }
            },
            "type": "barpolar"
           }
          ],
          "carpet": [
           {
            "aaxis": {
             "endlinecolor": "#2a3f5f",
             "gridcolor": "white",
             "linecolor": "white",
             "minorgridcolor": "white",
             "startlinecolor": "#2a3f5f"
            },
            "baxis": {
             "endlinecolor": "#2a3f5f",
             "gridcolor": "white",
             "linecolor": "white",
             "minorgridcolor": "white",
             "startlinecolor": "#2a3f5f"
            },
            "type": "carpet"
           }
          ],
          "choropleth": [
           {
            "colorbar": {
             "outlinewidth": 0,
             "ticks": ""
            },
            "type": "choropleth"
           }
          ],
          "contour": [
           {
            "colorbar": {
             "outlinewidth": 0,
             "ticks": ""
            },
            "colorscale": [
             [
              0,
              "#0d0887"
             ],
             [
              0.1111111111111111,
              "#46039f"
             ],
             [
              0.2222222222222222,
              "#7201a8"
             ],
             [
              0.3333333333333333,
              "#9c179e"
             ],
             [
              0.4444444444444444,
              "#bd3786"
             ],
             [
              0.5555555555555556,
              "#d8576b"
             ],
             [
              0.6666666666666666,
              "#ed7953"
             ],
             [
              0.7777777777777778,
              "#fb9f3a"
             ],
             [
              0.8888888888888888,
              "#fdca26"
             ],
             [
              1,
              "#f0f921"
             ]
            ],
            "type": "contour"
           }
          ],
          "contourcarpet": [
           {
            "colorbar": {
             "outlinewidth": 0,
             "ticks": ""
            },
            "type": "contourcarpet"
           }
          ],
          "heatmap": [
           {
            "colorbar": {
             "outlinewidth": 0,
             "ticks": ""
            },
            "colorscale": [
             [
              0,
              "#0d0887"
             ],
             [
              0.1111111111111111,
              "#46039f"
             ],
             [
              0.2222222222222222,
              "#7201a8"
             ],
             [
              0.3333333333333333,
              "#9c179e"
             ],
             [
              0.4444444444444444,
              "#bd3786"
             ],
             [
              0.5555555555555556,
              "#d8576b"
             ],
             [
              0.6666666666666666,
              "#ed7953"
             ],
             [
              0.7777777777777778,
              "#fb9f3a"
             ],
             [
              0.8888888888888888,
              "#fdca26"
             ],
             [
              1,
              "#f0f921"
             ]
            ],
            "type": "heatmap"
           }
          ],
          "histogram": [
           {
            "marker": {
             "pattern": {
              "fillmode": "overlay",
              "size": 10,
              "solidity": 0.2
             }
            },
            "type": "histogram"
           }
          ],
          "histogram2d": [
           {
            "colorbar": {
             "outlinewidth": 0,
             "ticks": ""
            },
            "colorscale": [
             [
              0,
              "#0d0887"
             ],
             [
              0.1111111111111111,
              "#46039f"
             ],
             [
              0.2222222222222222,
              "#7201a8"
             ],
             [
              0.3333333333333333,
              "#9c179e"
             ],
             [
              0.4444444444444444,
              "#bd3786"
             ],
             [
              0.5555555555555556,
              "#d8576b"
             ],
             [
              0.6666666666666666,
              "#ed7953"
             ],
             [
              0.7777777777777778,
              "#fb9f3a"
             ],
             [
              0.8888888888888888,
              "#fdca26"
             ],
             [
              1,
              "#f0f921"
             ]
            ],
            "type": "histogram2d"
           }
          ],
          "histogram2dcontour": [
           {
            "colorbar": {
             "outlinewidth": 0,
             "ticks": ""
            },
            "colorscale": [
             [
              0,
              "#0d0887"
             ],
             [
              0.1111111111111111,
              "#46039f"
             ],
             [
              0.2222222222222222,
              "#7201a8"
             ],
             [
              0.3333333333333333,
              "#9c179e"
             ],
             [
              0.4444444444444444,
              "#bd3786"
             ],
             [
              0.5555555555555556,
              "#d8576b"
             ],
             [
              0.6666666666666666,
              "#ed7953"
             ],
             [
              0.7777777777777778,
              "#fb9f3a"
             ],
             [
              0.8888888888888888,
              "#fdca26"
             ],
             [
              1,
              "#f0f921"
             ]
            ],
            "type": "histogram2dcontour"
           }
          ],
          "mesh3d": [
           {
            "colorbar": {
             "outlinewidth": 0,
             "ticks": ""
            },
            "type": "mesh3d"
           }
          ],
          "parcoords": [
           {
            "line": {
             "colorbar": {
              "outlinewidth": 0,
              "ticks": ""
             }
            },
            "type": "parcoords"
           }
          ],
          "pie": [
           {
            "automargin": true,
            "type": "pie"
           }
          ],
          "scatter": [
           {
            "fillpattern": {
             "fillmode": "overlay",
             "size": 10,
             "solidity": 0.2
            },
            "type": "scatter"
           }
          ],
          "scatter3d": [
           {
            "line": {
             "colorbar": {
              "outlinewidth": 0,
              "ticks": ""
             }
            },
            "marker": {
             "colorbar": {
              "outlinewidth": 0,
              "ticks": ""
             }
            },
            "type": "scatter3d"
           }
          ],
          "scattercarpet": [
           {
            "marker": {
             "colorbar": {
              "outlinewidth": 0,
              "ticks": ""
             }
            },
            "type": "scattercarpet"
           }
          ],
          "scattergeo": [
           {
            "marker": {
             "colorbar": {
              "outlinewidth": 0,
              "ticks": ""
             }
            },
            "type": "scattergeo"
           }
          ],
          "scattergl": [
           {
            "marker": {
             "colorbar": {
              "outlinewidth": 0,
              "ticks": ""
             }
            },
            "type": "scattergl"
           }
          ],
          "scattermap": [
           {
            "marker": {
             "colorbar": {
              "outlinewidth": 0,
              "ticks": ""
             }
            },
            "type": "scattermap"
           }
          ],
          "scattermapbox": [
           {
            "marker": {
             "colorbar": {
              "outlinewidth": 0,
              "ticks": ""
             }
            },
            "type": "scattermapbox"
           }
          ],
          "scatterpolar": [
           {
            "marker": {
             "colorbar": {
              "outlinewidth": 0,
              "ticks": ""
             }
            },
            "type": "scatterpolar"
           }
          ],
          "scatterpolargl": [
           {
            "marker": {
             "colorbar": {
              "outlinewidth": 0,
              "ticks": ""
             }
            },
            "type": "scatterpolargl"
           }
          ],
          "scatterternary": [
           {
            "marker": {
             "colorbar": {
              "outlinewidth": 0,
              "ticks": ""
             }
            },
            "type": "scatterternary"
           }
          ],
          "surface": [
           {
            "colorbar": {
             "outlinewidth": 0,
             "ticks": ""
            },
            "colorscale": [
             [
              0,
              "#0d0887"
             ],
             [
              0.1111111111111111,
              "#46039f"
             ],
             [
              0.2222222222222222,
              "#7201a8"
             ],
             [
              0.3333333333333333,
              "#9c179e"
             ],
             [
              0.4444444444444444,
              "#bd3786"
             ],
             [
              0.5555555555555556,
              "#d8576b"
             ],
             [
              0.6666666666666666,
              "#ed7953"
             ],
             [
              0.7777777777777778,
              "#fb9f3a"
             ],
             [
              0.8888888888888888,
              "#fdca26"
             ],
             [
              1,
              "#f0f921"
             ]
            ],
            "type": "surface"
           }
          ],
          "table": [
           {
            "cells": {
             "fill": {
              "color": "#EBF0F8"
             },
             "line": {
              "color": "white"
             }
            },
            "header": {
             "fill": {
              "color": "#C8D4E3"
             },
             "line": {
              "color": "white"
             }
            },
            "type": "table"
           }
          ]
         },
         "layout": {
          "annotationdefaults": {
           "arrowcolor": "#2a3f5f",
           "arrowhead": 0,
           "arrowwidth": 1
          },
          "autotypenumbers": "strict",
          "coloraxis": {
           "colorbar": {
            "outlinewidth": 0,
            "ticks": ""
           }
          },
          "colorscale": {
           "diverging": [
            [
             0,
             "#8e0152"
            ],
            [
             0.1,
             "#c51b7d"
            ],
            [
             0.2,
             "#de77ae"
            ],
            [
             0.3,
             "#f1b6da"
            ],
            [
             0.4,
             "#fde0ef"
            ],
            [
             0.5,
             "#f7f7f7"
            ],
            [
             0.6,
             "#e6f5d0"
            ],
            [
             0.7,
             "#b8e186"
            ],
            [
             0.8,
             "#7fbc41"
            ],
            [
             0.9,
             "#4d9221"
            ],
            [
             1,
             "#276419"
            ]
           ],
           "sequential": [
            [
             0,
             "#0d0887"
            ],
            [
             0.1111111111111111,
             "#46039f"
            ],
            [
             0.2222222222222222,
             "#7201a8"
            ],
            [
             0.3333333333333333,
             "#9c179e"
            ],
            [
             0.4444444444444444,
             "#bd3786"
            ],
            [
             0.5555555555555556,
             "#d8576b"
            ],
            [
             0.6666666666666666,
             "#ed7953"
            ],
            [
             0.7777777777777778,
             "#fb9f3a"
            ],
            [
             0.8888888888888888,
             "#fdca26"
            ],
            [
             1,
             "#f0f921"
            ]
           ],
           "sequentialminus": [
            [
             0,
             "#0d0887"
            ],
            [
             0.1111111111111111,
             "#46039f"
            ],
            [
             0.2222222222222222,
             "#7201a8"
            ],
            [
             0.3333333333333333,
             "#9c179e"
            ],
            [
             0.4444444444444444,
             "#bd3786"
            ],
            [
             0.5555555555555556,
             "#d8576b"
            ],
            [
             0.6666666666666666,
             "#ed7953"
            ],
            [
             0.7777777777777778,
             "#fb9f3a"
            ],
            [
             0.8888888888888888,
             "#fdca26"
            ],
            [
             1,
             "#f0f921"
            ]
           ]
          },
          "colorway": [
           "#636efa",
           "#EF553B",
           "#00cc96",
           "#ab63fa",
           "#FFA15A",
           "#19d3f3",
           "#FF6692",
           "#B6E880",
           "#FF97FF",
           "#FECB52"
          ],
          "font": {
           "color": "#2a3f5f"
          },
          "geo": {
           "bgcolor": "white",
           "lakecolor": "white",
           "landcolor": "#E5ECF6",
           "showlakes": true,
           "showland": true,
           "subunitcolor": "white"
          },
          "hoverlabel": {
           "align": "left"
          },
          "hovermode": "closest",
          "mapbox": {
           "style": "light"
          },
          "paper_bgcolor": "white",
          "plot_bgcolor": "#E5ECF6",
          "polar": {
           "angularaxis": {
            "gridcolor": "white",
            "linecolor": "white",
            "ticks": ""
           },
           "bgcolor": "#E5ECF6",
           "radialaxis": {
            "gridcolor": "white",
            "linecolor": "white",
            "ticks": ""
           }
          },
          "scene": {
           "xaxis": {
            "backgroundcolor": "#E5ECF6",
            "gridcolor": "white",
            "gridwidth": 2,
            "linecolor": "white",
            "showbackground": true,
            "ticks": "",
            "zerolinecolor": "white"
           },
           "yaxis": {
            "backgroundcolor": "#E5ECF6",
            "gridcolor": "white",
            "gridwidth": 2,
            "linecolor": "white",
            "showbackground": true,
            "ticks": "",
            "zerolinecolor": "white"
           },
           "zaxis": {
            "backgroundcolor": "#E5ECF6",
            "gridcolor": "white",
            "gridwidth": 2,
            "linecolor": "white",
            "showbackground": true,
            "ticks": "",
            "zerolinecolor": "white"
           }
          },
          "shapedefaults": {
           "line": {
            "color": "#2a3f5f"
           }
          },
          "ternary": {
           "aaxis": {
            "gridcolor": "white",
            "linecolor": "white",
            "ticks": ""
           },
           "baxis": {
            "gridcolor": "white",
            "linecolor": "white",
            "ticks": ""
           },
           "bgcolor": "#E5ECF6",
           "caxis": {
            "gridcolor": "white",
            "linecolor": "white",
            "ticks": ""
           }
          },
          "title": {
           "x": 0.05
          },
          "xaxis": {
           "automargin": true,
           "gridcolor": "white",
           "linecolor": "white",
           "ticks": "",
           "title": {
            "standoff": 15
           },
           "zerolinecolor": "white",
           "zerolinewidth": 2
          },
          "yaxis": {
           "automargin": true,
           "gridcolor": "white",
           "linecolor": "white",
           "ticks": "",
           "title": {
            "standoff": 15
           },
           "zerolinecolor": "white",
           "zerolinewidth": 2
          }
         }
        },
        "title": {
         "text": "SLIM - Population Fitness Diversity (sustavianfeed dataset)"
        },
        "width": 1000,
        "xaxis": {
         "anchor": "y",
         "domain": [
          0,
          0.2888888888888889
         ],
         "title": {
          "text": "Generation"
         }
        },
        "xaxis10": {
         "anchor": "y10",
         "domain": [
          0,
          0.2888888888888889
         ],
         "title": {
          "text": "Generation"
         }
        },
        "xaxis11": {
         "anchor": "y11",
         "domain": [
          0.35555555555555557,
          0.6444444444444445
         ],
         "title": {
          "text": "Generation"
         }
        },
        "xaxis12": {
         "anchor": "y12",
         "domain": [
          0.7111111111111111,
          1
         ],
         "title": {
          "text": "Generation"
         }
        },
        "xaxis13": {
         "anchor": "y13",
         "domain": [
          0,
          0.2888888888888889
         ],
         "title": {
          "text": "Generation"
         }
        },
        "xaxis14": {
         "anchor": "y14",
         "domain": [
          0.35555555555555557,
          0.6444444444444445
         ],
         "title": {
          "text": "Generation"
         }
        },
        "xaxis15": {
         "anchor": "y15",
         "domain": [
          0.7111111111111111,
          1
         ],
         "title": {
          "text": "Generation"
         }
        },
        "xaxis16": {
         "anchor": "y16",
         "domain": [
          0,
          0.2888888888888889
         ],
         "title": {
          "text": "Generation"
         }
        },
        "xaxis17": {
         "anchor": "y17",
         "domain": [
          0.35555555555555557,
          0.6444444444444445
         ],
         "title": {
          "text": "Generation"
         }
        },
        "xaxis18": {
         "anchor": "y18",
         "domain": [
          0.7111111111111111,
          1
         ],
         "title": {
          "text": "Generation"
         }
        },
        "xaxis19": {
         "anchor": "y19",
         "domain": [
          0,
          0.2888888888888889
         ],
         "title": {
          "text": "Generation"
         }
        },
        "xaxis2": {
         "anchor": "y2",
         "domain": [
          0.35555555555555557,
          0.6444444444444445
         ],
         "title": {
          "text": "Generation"
         }
        },
        "xaxis20": {
         "anchor": "y20",
         "domain": [
          0.35555555555555557,
          0.6444444444444445
         ],
         "title": {
          "text": "Generation"
         }
        },
        "xaxis21": {
         "anchor": "y21",
         "domain": [
          0.7111111111111111,
          1
         ],
         "title": {
          "text": "Generation"
         }
        },
        "xaxis22": {
         "anchor": "y22",
         "domain": [
          0,
          0.2888888888888889
         ],
         "title": {
          "text": "Generation"
         }
        },
        "xaxis23": {
         "anchor": "y23",
         "domain": [
          0.35555555555555557,
          0.6444444444444445
         ],
         "title": {
          "text": "Generation"
         }
        },
        "xaxis24": {
         "anchor": "y24",
         "domain": [
          0.7111111111111111,
          1
         ],
         "title": {
          "text": "Generation"
         }
        },
        "xaxis25": {
         "anchor": "y25",
         "domain": [
          0,
          0.2888888888888889
         ],
         "title": {
          "text": "Generation"
         }
        },
        "xaxis26": {
         "anchor": "y26",
         "domain": [
          0.35555555555555557,
          0.6444444444444445
         ],
         "title": {
          "text": "Generation"
         }
        },
        "xaxis27": {
         "anchor": "y27",
         "domain": [
          0.7111111111111111,
          1
         ],
         "title": {
          "text": "Generation"
         }
        },
        "xaxis28": {
         "anchor": "y28",
         "domain": [
          0,
          0.2888888888888889
         ],
         "title": {
          "text": "Generation"
         }
        },
        "xaxis29": {
         "anchor": "y29",
         "domain": [
          0.35555555555555557,
          0.6444444444444445
         ],
         "title": {
          "text": "Generation"
         }
        },
        "xaxis3": {
         "anchor": "y3",
         "domain": [
          0.7111111111111111,
          1
         ],
         "title": {
          "text": "Generation"
         }
        },
        "xaxis30": {
         "anchor": "y30",
         "domain": [
          0.7111111111111111,
          1
         ],
         "title": {
          "text": "Generation"
         }
        },
        "xaxis4": {
         "anchor": "y4",
         "domain": [
          0,
          0.2888888888888889
         ],
         "title": {
          "text": "Generation"
         }
        },
        "xaxis5": {
         "anchor": "y5",
         "domain": [
          0.35555555555555557,
          0.6444444444444445
         ],
         "title": {
          "text": "Generation"
         }
        },
        "xaxis6": {
         "anchor": "y6",
         "domain": [
          0.7111111111111111,
          1
         ],
         "title": {
          "text": "Generation"
         }
        },
        "xaxis7": {
         "anchor": "y7",
         "domain": [
          0,
          0.2888888888888889
         ],
         "title": {
          "text": "Generation"
         }
        },
        "xaxis8": {
         "anchor": "y8",
         "domain": [
          0.35555555555555557,
          0.6444444444444445
         ],
         "title": {
          "text": "Generation"
         }
        },
        "xaxis9": {
         "anchor": "y9",
         "domain": [
          0.7111111111111111,
          1
         ],
         "title": {
          "text": "Generation"
         }
        },
        "yaxis": {
         "anchor": "x",
         "domain": [
          0.9450000000000001,
          1
         ],
         "range": [
          0,
          null
         ],
         "title": {
          "text": "Fitness Std. Dev."
         }
        },
        "yaxis10": {
         "anchor": "x10",
         "domain": [
          0.6300000000000001,
          0.6850000000000002
         ],
         "range": [
          0,
          null
         ],
         "title": {
          "text": "Fitness Std. Dev."
         }
        },
        "yaxis11": {
         "anchor": "x11",
         "domain": [
          0.6300000000000001,
          0.6850000000000002
         ],
         "range": [
          0,
          null
         ],
         "title": {
          "text": "Fitness Std. Dev."
         }
        },
        "yaxis12": {
         "anchor": "x12",
         "domain": [
          0.6300000000000001,
          0.6850000000000002
         ],
         "range": [
          0,
          null
         ],
         "title": {
          "text": "Fitness Std. Dev."
         }
        },
        "yaxis13": {
         "anchor": "x13",
         "domain": [
          0.525,
          0.5800000000000001
         ],
         "range": [
          0,
          null
         ],
         "title": {
          "text": "Fitness Std. Dev."
         }
        },
        "yaxis14": {
         "anchor": "x14",
         "domain": [
          0.525,
          0.5800000000000001
         ],
         "range": [
          0,
          null
         ],
         "title": {
          "text": "Fitness Std. Dev."
         }
        },
        "yaxis15": {
         "anchor": "x15",
         "domain": [
          0.525,
          0.5800000000000001
         ],
         "range": [
          0,
          null
         ],
         "title": {
          "text": "Fitness Std. Dev."
         }
        },
        "yaxis16": {
         "anchor": "x16",
         "domain": [
          0.42000000000000004,
          0.47500000000000003
         ],
         "range": [
          0,
          null
         ],
         "title": {
          "text": "Fitness Std. Dev."
         }
        },
        "yaxis17": {
         "anchor": "x17",
         "domain": [
          0.42000000000000004,
          0.47500000000000003
         ],
         "range": [
          0,
          null
         ],
         "title": {
          "text": "Fitness Std. Dev."
         }
        },
        "yaxis18": {
         "anchor": "x18",
         "domain": [
          0.42000000000000004,
          0.47500000000000003
         ],
         "range": [
          0,
          null
         ],
         "title": {
          "text": "Fitness Std. Dev."
         }
        },
        "yaxis19": {
         "anchor": "x19",
         "domain": [
          0.31500000000000006,
          0.37000000000000005
         ],
         "range": [
          0,
          null
         ],
         "title": {
          "text": "Fitness Std. Dev."
         }
        },
        "yaxis2": {
         "anchor": "x2",
         "domain": [
          0.9450000000000001,
          1
         ],
         "range": [
          0,
          null
         ],
         "title": {
          "text": "Fitness Std. Dev."
         }
        },
        "yaxis20": {
         "anchor": "x20",
         "domain": [
          0.31500000000000006,
          0.37000000000000005
         ],
         "range": [
          0,
          null
         ],
         "title": {
          "text": "Fitness Std. Dev."
         }
        },
        "yaxis21": {
         "anchor": "x21",
         "domain": [
          0.31500000000000006,
          0.37000000000000005
         ],
         "range": [
          0,
          null
         ],
         "title": {
          "text": "Fitness Std. Dev."
         }
        },
        "yaxis22": {
         "anchor": "x22",
         "domain": [
          0.21000000000000002,
          0.265
         ],
         "range": [
          0,
          null
         ],
         "title": {
          "text": "Fitness Std. Dev."
         }
        },
        "yaxis23": {
         "anchor": "x23",
         "domain": [
          0.21000000000000002,
          0.265
         ],
         "range": [
          0,
          null
         ],
         "title": {
          "text": "Fitness Std. Dev."
         }
        },
        "yaxis24": {
         "anchor": "x24",
         "domain": [
          0.21000000000000002,
          0.265
         ],
         "range": [
          0,
          null
         ],
         "title": {
          "text": "Fitness Std. Dev."
         }
        },
        "yaxis25": {
         "anchor": "x25",
         "domain": [
          0.10500000000000001,
          0.16000000000000003
         ],
         "range": [
          0,
          null
         ],
         "title": {
          "text": "Fitness Std. Dev."
         }
        },
        "yaxis26": {
         "anchor": "x26",
         "domain": [
          0.10500000000000001,
          0.16000000000000003
         ],
         "range": [
          0,
          null
         ],
         "title": {
          "text": "Fitness Std. Dev."
         }
        },
        "yaxis27": {
         "anchor": "x27",
         "domain": [
          0.10500000000000001,
          0.16000000000000003
         ],
         "range": [
          0,
          null
         ],
         "title": {
          "text": "Fitness Std. Dev."
         }
        },
        "yaxis28": {
         "anchor": "x28",
         "domain": [
          0,
          0.05500000000000001
         ],
         "range": [
          0,
          null
         ],
         "title": {
          "text": "Fitness Std. Dev."
         }
        },
        "yaxis29": {
         "anchor": "x29",
         "domain": [
          0,
          0.05500000000000001
         ],
         "range": [
          0,
          null
         ],
         "title": {
          "text": "Fitness Std. Dev."
         }
        },
        "yaxis3": {
         "anchor": "x3",
         "domain": [
          0.9450000000000001,
          1
         ],
         "range": [
          0,
          null
         ],
         "title": {
          "text": "Fitness Std. Dev."
         }
        },
        "yaxis30": {
         "anchor": "x30",
         "domain": [
          0,
          0.05500000000000001
         ],
         "range": [
          0,
          null
         ],
         "title": {
          "text": "Fitness Std. Dev."
         }
        },
        "yaxis4": {
         "anchor": "x4",
         "domain": [
          0.8400000000000001,
          0.8950000000000001
         ],
         "range": [
          0,
          null
         ],
         "title": {
          "text": "Fitness Std. Dev."
         }
        },
        "yaxis5": {
         "anchor": "x5",
         "domain": [
          0.8400000000000001,
          0.8950000000000001
         ],
         "range": [
          0,
          null
         ],
         "title": {
          "text": "Fitness Std. Dev."
         }
        },
        "yaxis6": {
         "anchor": "x6",
         "domain": [
          0.8400000000000001,
          0.8950000000000001
         ],
         "range": [
          0,
          null
         ],
         "title": {
          "text": "Fitness Std. Dev."
         }
        },
        "yaxis7": {
         "anchor": "x7",
         "domain": [
          0.7350000000000001,
          0.7900000000000001
         ],
         "range": [
          0,
          null
         ],
         "title": {
          "text": "Fitness Std. Dev."
         }
        },
        "yaxis8": {
         "anchor": "x8",
         "domain": [
          0.7350000000000001,
          0.7900000000000001
         ],
         "range": [
          0,
          null
         ],
         "title": {
          "text": "Fitness Std. Dev."
         }
        },
        "yaxis9": {
         "anchor": "x9",
         "domain": [
          0.7350000000000001,
          0.7900000000000001
         ],
         "range": [
          0,
          null
         ],
         "title": {
          "text": "Fitness Std. Dev."
         }
        }
       }
      }
     },
     "metadata": {},
     "output_type": "display_data"
    }
   ],
   "source": [
    "plot_population_fitness_diversity_logs(    \n",
    "    model_name='SLIM',\n",
    "    n_folds=n_outer_cv,\n",
    "    dataset_name='sustavianfeed'\n",
    ")"
   ]
  },
  {
   "cell_type": "markdown",
   "id": "90567731",
   "metadata": {},
   "source": [
    "Fitness diversity drops almost imeadiatley to close to zero as soon as the model starts iterating. This means that our model is learning too fast, pending heavily towards explotation and neglecting exploration. All solutions are similar meaning the we are facing early convergence. "
   ]
  },
  {
   "cell_type": "code",
   "execution_count": 26,
   "id": "650b2e2b",
   "metadata": {},
   "outputs": [
    {
     "data": {
      "application/vnd.plotly.v1+json": {
       "config": {
        "plotlyServerURL": "https://plot.ly"
       },
       "data": [
        {
         "line": {
          "color": "red"
         },
         "mode": "lines",
         "name": "Fold 1",
         "showlegend": false,
         "type": "scatter",
         "xaxis": "x",
         "y": {
          "bdata": "AAAAoBBz9kAAAABgsGd0QAAAAGDlN1pAAAAAANPcZEAAAACAe4FxQAAAAID1dHVAAQAAwEQ0eEAAAACgaTVyQAAAAEDEk3BA////H7BSa0AAAADgg3txQAAAAKCQ/mtAAAAAoGYNcEAAAAAgY5VsQAEAACCd8WlAAQAAQAl+bEAAAACgssBsQAAAAOA9snBAAAAA4AdDcEABAADAMNprQAAAAKA+vWtA",
          "dtype": "f8"
         },
         "yaxis": "y"
        },
        {
         "line": {
          "color": "red"
         },
         "mode": "lines",
         "name": "Fold 2",
         "showlegend": false,
         "type": "scatter",
         "xaxis": "x2",
         "y": {
          "bdata": "AAAA4Pu29kAAAACAJHt0QAAAAMANO1pAAAAAgKvhZEAAAADAOotxQAAAAKAagnVAAAAA4HVEeEAAAABAvkJyQAAAACAvo3BAAAAAoN1ma0AAAACAMflxQAAAAKCKUG5A////vwY3a0AAAACAtqZoQAAAAABC92lAAAAAIGHqZUAAAABAInlkQAAAAMAX5mhAAAAAgIsXZkABAADgpahpQAAAACAXTGVA",
          "dtype": "f8"
         },
         "yaxis": "y2"
        },
        {
         "line": {
          "color": "red"
         },
         "mode": "lines",
         "name": "Fold 3",
         "showlegend": false,
         "type": "scatter",
         "xaxis": "x3",
         "y": {
          "bdata": "AAAAQDnD9kAAAACAtmd0QAEAAADvLlpAAAAAYMPXZEAAAACAIw5yQAAAAIDtM3dAAAAAgBWedkAAAADgjIBxQAAAAKCcS3FAAAAAAL7lbUAAAACgf/lvQAAAAIDi9mpAAAAAYJgVckAAAACg/7dpQAAAAGDC73FA////f3PeakD///8f1JJvQAAAAAC+bm1AAAAAAHlQckABAADgxdZtQP///79ZbXBA",
          "dtype": "f8"
         },
         "yaxis": "y3"
        },
        {
         "line": {
          "color": "red"
         },
         "mode": "lines",
         "name": "Fold 4",
         "showlegend": false,
         "type": "scatter",
         "xaxis": "x4",
         "y": {
          "bdata": "AAAAILbD9kD///+/HX90QAAAAIClQFpAAAAAIKnoZEAAAADg54dxQAAAAOAAenVAAAAAYFEzeEAAAAAgKytyQP///7+phXBA////f0cBa0AAAAAAsSFxQAEAAEDN82tA////H1BeakAAAAAga5NqQAEAACAmLmxAAAAAAPoXaUAAAABA8gBuQAAAACDJHXJAAAAAAG0pckAAAACglM5tQAAAAMB8hnBA",
          "dtype": "f8"
         },
         "yaxis": "y4"
        },
        {
         "line": {
          "color": "red"
         },
         "mode": "lines",
         "name": "Fold 5",
         "showlegend": false,
         "type": "scatter",
         "xaxis": "x5",
         "y": {
          "bdata": "AAAAYJKv9kAAAAAAODx0QP///7+WL1pAAAAAQIjYZEAAAAAghIBxQAAAAEDfcnVAAAAAoKwueEAAAABghytyQAAAAIC7j3BAAAAAALVNa0D///+/2aJxQP///z8TQmxAAAAA4GoPcEAAAABgDppsQAEAAMD8+WlAAAAAYFZ/bEAAAACgOuBsQAAAAACTZWxAAAAAwAfcaEAAAABg+LJtQAEAAMC4FGpA",
          "dtype": "f8"
         },
         "yaxis": "y5"
        },
        {
         "line": {
          "color": "red"
         },
         "mode": "lines",
         "name": "Fold 6",
         "showlegend": false,
         "type": "scatter",
         "xaxis": "x6",
         "y": {
          "bdata": "AAAAgP229kAAAABgiXt0QAAAAKA7M1pAAAAAQNfbZEAAAAAgpINxQAAAAOAUeHVAAAAAQGA3eEAAAAAgGDdyQP///799mnBAAAAAoHZYa0AAAABAcadxQP///x8oA2xAAAAAQIgVcED///9/R6JsQAEAACDy/mlAAAAAoE6DbEAAAADA5cRsQAAAAAAbu3BAAAAAgEhGcEAAAACAvuBrQAAAAGAQ52tA",
          "dtype": "f8"
         },
         "yaxis": "y6"
        },
        {
         "line": {
          "color": "red"
         },
         "mode": "lines",
         "name": "Fold 7",
         "showlegend": false,
         "type": "scatter",
         "xaxis": "x7",
         "y": {
          "bdata": "AAAAQB7O9kAAAAAg/GRxQAAAAKALD2VAAAAAgLXBY0D///9/p05sQAAAAKAQiXVAAAAAYEZndkAAAADgnTBzQAAAAGD0xHJAAAAA4ISHcUAAAABgGWlxQAAAAGAGfXNA////fxuaakAAAABANwZxQAAAAMAV421AAAAAQER1cEAAAACAeX5yQAEAACBBXW5AAAAA4D6dakAAAACgDBxyQAAAAKABvWpA",
          "dtype": "f8"
         },
         "yaxis": "y7"
        },
        {
         "line": {
          "color": "red"
         },
         "mode": "lines",
         "name": "Fold 8",
         "showlegend": false,
         "type": "scatter",
         "xaxis": "x8",
         "y": {
          "bdata": "AAAAIMnD9kAAAABgIZB0QAAAAMAdYFpAAAAAAIH+ZEAAAADAeJ1xQAAAAEDRlnVAAQAAQLlYeEAAAABguk1yQAAAAADeqHBAAAAA4CJ2a0AAAABgpz1xQAEAACAxoGxAAAAAYCQkcEAAAACgsqxsQAEAAODJrmxAAAAAYMz9bUABAAAgnTRuQAAAAADxuWpA////fy9hbUAAAAAAeqxvQP///79Zd3BA",
          "dtype": "f8"
         },
         "yaxis": "y8"
        },
        {
         "line": {
          "color": "red"
         },
         "mode": "lines",
         "name": "Fold 9",
         "showlegend": false,
         "type": "scatter",
         "xaxis": "x9",
         "y": {
          "bdata": "AAAAwFLM9kAAAAAAcJJ0QAEAACCWYFpAAAAAIJL/ZEAAAADA8p5xQAAAAEAimHVAAAAAYBxZeEAAAAAgQktyQAAAAICCp3BAAAAAYGZ0a0AAAABgG5RxQAAAAGBlImxAAAAAgK4lcED///8/k71sQAAAAMD3FmpAAAAAYFOlbEAAAABgSehsQAAAAADTzHBAAAAAYAJacEAAAABgVQNsQP7//z+kBWxA",
          "dtype": "f8"
         },
         "yaxis": "y9"
        },
        {
         "line": {
          "color": "red"
         },
         "mode": "lines",
         "name": "Fold 10",
         "showlegend": false,
         "type": "scatter",
         "xaxis": "x10",
         "y": {
          "bdata": "AAAAgMq+9kAAAAAA4Ix0QAAAAGDBV1pAAAAAwDr4ZEAAAABgN5VxQAAAAGD4iXVAAAAA4HxGeEAAAAAA/jtyQAAAAGDkmHBA////H9Qga0AAAAAAmjNxQAEAAOAdFmxAAAAAgEh7akABAADggbFqQAAAAMBDTmxA////f+fyaEABAADACBZtQAAAAGDV12tAAAAAwEmrb0D///8f2KtvQAAAAICc+G1A",
          "dtype": "f8"
         },
         "yaxis": "y10"
        },
        {
         "line": {
          "color": "red"
         },
         "mode": "lines",
         "name": "Fold 11",
         "showlegend": false,
         "type": "scatter",
         "xaxis": "x11",
         "y": {
          "bdata": "AAAAYCLN9kAAAACAhZF0QP/////4W1pAAAAAIEz8ZEAAAABAV5txQP///7/3k3VAAQAAwHJUeEAAAABgVEtyQAAAAACAp3BAAQAAQAFya0AAAACA7jpxQAAAAOCSmmxAAQAAwBiFa0AAAAAAkz1sQAAAAGAWdm1AAAAAoKLzZ0ABAAAgjjZsQAEAACD+22tAAAAAgAKMcUAAAABgmjFrQAEAACAuDmxA",
          "dtype": "f8"
         },
         "yaxis": "y11"
        },
        {
         "line": {
          "color": "red"
         },
         "mode": "lines",
         "name": "Fold 12",
         "showlegend": false,
         "type": "scatter",
         "xaxis": "x12",
         "y": {
          "bdata": "AAAAAIvE9kAAAAAAnI90QAAAAIBKWlpAAAAAYNz5ZEAAAAAAqJtxQAAAAABDlXVAAAAAoNhXeEAAAADArE9yQAAAAOB9rnBA////vy57a0AAAACgZZZxQP///9/7JmxAAAAAgH4mcEAAAACgFLFsQAAAAACapmxAAAAAAAsCbkD////fpwZtQAAAAAAgq21AAQAAIJ5AbUAAAAAgVGtwQP///x+Me21A",
          "dtype": "f8"
         },
         "yaxis": "y12"
        },
        {
         "line": {
          "color": "red"
         },
         "mode": "lines",
         "name": "Fold 13",
         "showlegend": false,
         "type": "scatter",
         "xaxis": "x13",
         "y": {
          "bdata": "AAAAgAbM9kAAAADAUpF0QAAAAKBXXlpAAAAAoI/+ZEAAAABgDp1xQAAAAODTlXVAAAAAADVVeEAAAAAgNUlyQAAAAKAPpHBAAAAAYO1ta0AAAACA7DhxQP7//z+ImGxA/v//P8iDa0D+//8/nAxsQAAAAKCUc21A/v//P1zxZ0AAAAAAXzRsQAAAAMBZ2GtAAAAAQC6KcUAAAABgsy5rQP///z/3C2xA",
          "dtype": "f8"
         },
         "yaxis": "y13"
        },
        {
         "line": {
          "color": "red"
         },
         "mode": "lines",
         "name": "Fold 14",
         "showlegend": false,
         "type": "scatter",
         "xaxis": "x14",
         "y": {
          "bdata": "AAAAAEO99kAAAACgh450QAAAAADeXVpAAAAAwPL8ZEAAAAAAfpxxQAAAAKB2lXVAAQAAwKBWeEAAAACgOkxyQAAAAKBtqHBA////vwZ1a0D///+/bT1xQAAAACC3n2xAAAAAoLIjcEAAAAAgQ6psQAEAACB+rmxAAAAAQEb9bUAAAACgy0FuQAAAAODAKG1AAAAA4K7Cb0AAAACAHmdsQAAAAEAK5WxA",
          "dtype": "f8"
         },
         "yaxis": "y14"
        },
        {
         "line": {
          "color": "red"
         },
         "mode": "lines",
         "name": "Fold 15",
         "showlegend": false,
         "type": "scatter",
         "xaxis": "x15",
         "y": {
          "bdata": "AAAAgHvb9kAAAAAAsoZ0QAAAAGB3XlpAAAAAYMX+ZEAAAAAgn5xxQAAAAGB3lHVAAAAA4FFTeEAAAABAsEVyQAAAAODAoXBAAAAAYIFra0AAAACANThxQAAAAGApmWxAAQAAwIyBa0AAAACA/TdsQAAAAADocW1AAAAAYN7sZ0D///8fkDBsQAAAAGAn0mtAAAAAQPJ4cUAAAACAAr5sQAAAAABf9GxA",
          "dtype": "f8"
         },
         "yaxis": "y15"
        },
        {
         "line": {
          "color": "red"
         },
         "mode": "lines",
         "name": "Fold 16",
         "showlegend": false,
         "type": "scatter",
         "xaxis": "x16",
         "y": {
          "bdata": "AAAAQES29kAAAABgGIx0QAEAACAOUlpAAAAAgMrzZEAAAACgZpVxQAAAAACJjHVAAQAAQAtMeEAAAADgyUVyQP///79ZpnBAAAAA4Hpua0AAAACgCEJwQAAAAOCgCmpAAAAAANeYa0D////ftz1sQAAAAEC8MXBAAAAAYEmMakD///+/VcNwQAAAAKCCjGxAAAAAoBkFb0D////fXy9rQAAAAADpj2tA",
          "dtype": "f8"
         },
         "yaxis": "y16"
        },
        {
         "line": {
          "color": "red"
         },
         "mode": "lines",
         "name": "Fold 17",
         "showlegend": false,
         "type": "scatter",
         "xaxis": "x17",
         "y": {
          "bdata": "AAAA4B7P9kAAAABgl3l0QP///z9fYFpAAAAAIDoAZUAAAADg/p5xQAAAAMBymHVAAAAAwA1ZeEAAAADgzkpyQAAAAAAXpnBA////v9pya0AAAADAQDxxQAAAAOB4nWxAAAAAgMKIa0AAAABgaxBsQAAAAGBCem1AAAAAoGD1Z0ABAADAdDlsQAAAAGB23GtAAAAAAOt9cUAAAACAysRsQAAAAGAJ/GxA",
          "dtype": "f8"
         },
         "yaxis": "y17"
        },
        {
         "line": {
          "color": "red"
         },
         "mode": "lines",
         "name": "Fold 18",
         "showlegend": false,
         "type": "scatter",
         "xaxis": "x18",
         "y": {
          "bdata": "AAAAYMu89kAAAADAUn90QP///79qKVpAAAAAYGVFZUAAAABAN0VxQAEAAMAYwnhAAAAAYGOCeEAAAADgDjd0QAEAAEA5cGhAAQAAIDo7bUAAAAAAIstlQAAAAKBecmpAAAAAIFUeZUAAAACgIoBpQAAAAKCb3WRAAAAAYJCja0AAAABAm9BkQAAAAKCy42xAAAAAQCr5aUAAAABgSaxtQAAAAKBHPGZA",
          "dtype": "f8"
         },
         "yaxis": "y18"
        },
        {
         "line": {
          "color": "red"
         },
         "mode": "lines",
         "name": "Fold 19",
         "showlegend": false,
         "type": "scatter",
         "xaxis": "x19",
         "y": {
          "bdata": "AAAAAG/S9kAAAABAi5N0QAAAAMCNXVpAAAAAYJL9ZEAAAACgJZ9xQAAAAIDbmXVAAAAAoDpceEAAAACgsFFyQAAAAIAXr3BAAAAA4IR8a0AAAAAAdZdxQAAAAKBfJ2xAAAAAgHsocEABAAAg7bFsQAAAAKCtqWxA////P28DbkAAAACAagptQAAAAOB4rW1A////H0hBbUAAAABgAGtwQP///99reG1A",
          "dtype": "f8"
         },
         "yaxis": "y19"
        },
        {
         "line": {
          "color": "red"
         },
         "mode": "lines",
         "name": "Fold 20",
         "showlegend": false,
         "type": "scatter",
         "xaxis": "x20",
         "y": {
          "bdata": "AAAAIDjd9kAAAADA4pl0QAAAAGCwb1pAAAAAgLkLZUAAAABgvqpxQAAAAIBkp3VAAQAAQCZteEAAAACAV1xyQAAAAADUtHBAAAAA4ASKa0AAAABgg6BxQAAAAOBIH2xA////vx9QcEABAADgzfhtQP///z/PrmtAAQAAIDnfbUAAAACg3LlsQAAAAGA89W1A////3+dzbUD///+/MhdpQAAAAIDscGRA",
          "dtype": "f8"
         },
         "yaxis": "y20"
        },
        {
         "line": {
          "color": "red"
         },
         "mode": "lines",
         "name": "Fold 21",
         "showlegend": false,
         "type": "scatter",
         "xaxis": "x21",
         "y": {
          "bdata": "AAAAgGzC9kAAAACAapF0QAAAAKCSZVpAAAAAIL0CZUAAAABAu6NxQAAAACAvoHVAAAAAoGVleED///+/GVlyQAAAACCetHBA////H9SFa0AAAACgj51xQAAAAICtJGxAAAAA4OlLcEAAAADgJvBtQP///98zpWtAAQAAII5sa0AAAAAAO2JtQAEAAMAwLW9AAAAA4JoJb0AAAAAAEDxwQAAAAKBn621A",
          "dtype": "f8"
         },
         "yaxis": "y21"
        },
        {
         "line": {
          "color": "red"
         },
         "mode": "lines",
         "name": "Fold 22",
         "showlegend": false,
         "type": "scatter",
         "xaxis": "x22",
         "y": {
          "bdata": "AAAAwHfK9kAAAABAG5N0QP///x/AZ1pAAAAAIFgEZUAAAABgSaJxQAAAACC4m3VAAAAAIKFceEAAAACAxklyQAAAAABmonBAAAAAYH1wa0D///+/3ZJxQAAAAKBnIGxAAAAAoD0jcEAAAACgcatsQAAAAMDDoWxAAAAAYBL8bUABAADAUAJtQAAAAGAHsm1AAAAA4Gg/bUAAAABA+DdwQAAAAGCWYW1A",
          "dtype": "f8"
         },
         "yaxis": "y22"
        },
        {
         "line": {
          "color": "red"
         },
         "mode": "lines",
         "name": "Fold 23",
         "showlegend": false,
         "type": "scatter",
         "xaxis": "x23",
         "y": {
          "bdata": "AAAAAOSa9kAAAADgnIN0QAAAAIDAUVpAAAAAAC3yZEAAAABAmJJxQAAAAKBdiHVAAAAAYO9GeEAAAACAsUByQAAAAGCyn3BAAAAAwH1ma0AAAACAdDRxQAAAAACikWxAAQAAIO12a0AAAABgZjJsQAAAAMCNZ21AAAAAYJcAaEAAAACAFGZsQP7//z8sR2xAAAAAgEdJcED///9/H5VtQAAAAGA5RGxA",
          "dtype": "f8"
         },
         "yaxis": "y23"
        },
        {
         "line": {
          "color": "red"
         },
         "mode": "lines",
         "name": "Fold 24",
         "showlegend": false,
         "type": "scatter",
         "xaxis": "x24",
         "y": {
          "bdata": "AAAAADyv9kAAAAAguIl0QAAAAIAKXFpAAAAAABn7ZEAAAABAA5txQAAAAGDzk3VAAAAAgJRVeEAAAABAL01yQAAAAECDqXBAAAAAIHN1a0AAAAAg/zxxQAAAAGA7nmxAAAAAYNoicEAAAACgj6psQAAAAKDNrGxAAAAAADH8bUD///+/MkBuQAEAACDyJm1AAAAAAADBb0AAAACgM2VsQAAAAMAp42xA",
          "dtype": "f8"
         },
         "yaxis": "y24"
        },
        {
         "line": {
          "color": "red"
         },
         "mode": "lines",
         "name": "Fold 25",
         "showlegend": false,
         "type": "scatter",
         "xaxis": "x25",
         "y": {
          "bdata": "AAAAYAW/9kAAAACAPo10QAAAAIDkXVpAAAAA4HX9ZEAAAADgXpxxQAAAAEDhlHVAAAAAYP5UeEAAAABgfElyQAAAAKDNpHBAAAAAYPZva0AAAAAA2zpxQAAAAOD8mmxAAAAAAJmEa0D////fiw9sQP///78yeG1AAAAAYJr0Z0AAAABAijdsQP///7/+3WtAAAAAwNyNcUAAAADgWjNrQAAAAKCZLWxA",
          "dtype": "f8"
         },
         "yaxis": "y25"
        },
        {
         "line": {
          "color": "red"
         },
         "mode": "lines",
         "name": "Fold 26",
         "showlegend": false,
         "type": "scatter",
         "xaxis": "x26",
         "y": {
          "bdata": "AAAAIObR9kAAAACgzpN0QP///7/uYFpAAAAAQB8AZUAAAACgpp5xQAAAAGAnmHVAAAAAoGVZeEAAAADgK05yQAAAACBIqXBAAAAAYF12a0AAAADAfD1xQAAAAAAQoGxAAAAAQHKJa0AAAABgMBNsQAAAAGAQe21AAAAAoLH2Z0AAAACAOTpsQAAAAKAq4GtAAAAAAHCPcUD///8f9DVrQAAAAKBcMGxA",
          "dtype": "f8"
         },
         "yaxis": "y26"
        },
        {
         "line": {
          "color": "red"
         },
         "mode": "lines",
         "name": "Fold 27",
         "showlegend": false,
         "type": "scatter",
         "xaxis": "x27",
         "y": {
          "bdata": "AAAAwOLM9kD///+/VXl0QAAAAOC8YlpAAAAAIDcBZUAAAABAFZ5xQAAAAICslnVAAAAAYPBXeEAAAAAArkpyQAAAAOCvpXBAAAAAwOFza0AAAADgGjtxQAAAAKBpn2xAAQAAILKHa0AAAACgpA9sQAAAAKC7eW1A/v//P5zzZ0AAAABAcjhsQAAAAACx3GtAAAAAIOSOcUAAAABgozVrQAEAACCOLmxA",
          "dtype": "f8"
         },
         "yaxis": "y27"
        },
        {
         "line": {
          "color": "red"
         },
         "mode": "lines",
         "name": "Fold 28",
         "showlegend": false,
         "type": "scatter",
         "xaxis": "x28",
         "y": {
          "bdata": "AAAAAL2a9kD///+/g4N0QAAAAKAJVFpAAAAAgGjzZEAAAABAhJNxQAAAAGCFiXVAAAAAICVJeEAAAACgLUJyQAAAAOCKoHBAAAAAYHhoa0AAAADgVjZxQAAAAODQk2xAAAAAgOJ4a0AAAACgzzZsQAAAAKBFbm1AAAAAgHLrZ0AAAADAVVhsQAAAAAB6T2xAAAAAIOFLcED///+/7pxtQAAAAAArPGxA",
          "dtype": "f8"
         },
         "yaxis": "y28"
        },
        {
         "line": {
          "color": "red"
         },
         "mode": "lines",
         "name": "Fold 29",
         "showlegend": false,
         "type": "scatter",
         "xaxis": "x29",
         "y": {
          "bdata": "AAAAoCy99kAAAADg5410QAAAAIAxYFpAAAAAgFn/ZEAAAABgt5lxQAAAAKB4jnVAAAAAoMxJeEAAAADgEDlyQAAAAICnknBA/v//P0Aba0AAAACASDFxQAEAAMBsE2xAAAAAgAZ6akAAAADABbFqQAAAAMBBTGxAAAAAAKDvaEAAAAAAzhNtQAAAAABe1GtAAAAAoBqob0AAAABgIGZvQP7//z/w821A",
          "dtype": "f8"
         },
         "yaxis": "y29"
        },
        {
         "line": {
          "color": "red"
         },
         "mode": "lines",
         "name": "Fold 30",
         "showlegend": false,
         "type": "scatter",
         "xaxis": "x30",
         "y": {
          "bdata": "AAAA4EDG9kAAAADA0JF0QP////88Y1pAAAAAYDoBZUAAAAAAxqBxQAAAACB8m3VAAAAAoF1eeEAAAAAAT1JyQAAAAGBLrXBAAAAAoDp8a0AAAAAAKZZxQAAAAGA8KGxAAAAAoM4mcED///8fsLBsQAAAAIC+pWxAAAAA4DgBbkD///9/c/RsQAAAAIClQm9A/v//PyRvbkAAAACgCSxuQAAAAAAf8mlA",
          "dtype": "f8"
         },
         "yaxis": "y30"
        }
       ],
       "layout": {
        "annotations": [
         {
          "font": {
           "size": 16
          },
          "showarrow": false,
          "text": "Fold 1",
          "x": 0.14444444444444446,
          "xanchor": "center",
          "xref": "paper",
          "y": 1,
          "yanchor": "bottom",
          "yref": "paper"
         },
         {
          "font": {
           "size": 16
          },
          "showarrow": false,
          "text": "Fold 2",
          "x": 0.5,
          "xanchor": "center",
          "xref": "paper",
          "y": 1,
          "yanchor": "bottom",
          "yref": "paper"
         },
         {
          "font": {
           "size": 16
          },
          "showarrow": false,
          "text": "Fold 3",
          "x": 0.8555555555555556,
          "xanchor": "center",
          "xref": "paper",
          "y": 1,
          "yanchor": "bottom",
          "yref": "paper"
         },
         {
          "font": {
           "size": 16
          },
          "showarrow": false,
          "text": "Fold 4",
          "x": 0.14444444444444446,
          "xanchor": "center",
          "xref": "paper",
          "y": 0.8950000000000001,
          "yanchor": "bottom",
          "yref": "paper"
         },
         {
          "font": {
           "size": 16
          },
          "showarrow": false,
          "text": "Fold 5",
          "x": 0.5,
          "xanchor": "center",
          "xref": "paper",
          "y": 0.8950000000000001,
          "yanchor": "bottom",
          "yref": "paper"
         },
         {
          "font": {
           "size": 16
          },
          "showarrow": false,
          "text": "Fold 6",
          "x": 0.8555555555555556,
          "xanchor": "center",
          "xref": "paper",
          "y": 0.8950000000000001,
          "yanchor": "bottom",
          "yref": "paper"
         },
         {
          "font": {
           "size": 16
          },
          "showarrow": false,
          "text": "Fold 7",
          "x": 0.14444444444444446,
          "xanchor": "center",
          "xref": "paper",
          "y": 0.7900000000000001,
          "yanchor": "bottom",
          "yref": "paper"
         },
         {
          "font": {
           "size": 16
          },
          "showarrow": false,
          "text": "Fold 8",
          "x": 0.5,
          "xanchor": "center",
          "xref": "paper",
          "y": 0.7900000000000001,
          "yanchor": "bottom",
          "yref": "paper"
         },
         {
          "font": {
           "size": 16
          },
          "showarrow": false,
          "text": "Fold 9",
          "x": 0.8555555555555556,
          "xanchor": "center",
          "xref": "paper",
          "y": 0.7900000000000001,
          "yanchor": "bottom",
          "yref": "paper"
         },
         {
          "font": {
           "size": 16
          },
          "showarrow": false,
          "text": "Fold 10",
          "x": 0.14444444444444446,
          "xanchor": "center",
          "xref": "paper",
          "y": 0.6850000000000002,
          "yanchor": "bottom",
          "yref": "paper"
         },
         {
          "font": {
           "size": 16
          },
          "showarrow": false,
          "text": "Fold 11",
          "x": 0.5,
          "xanchor": "center",
          "xref": "paper",
          "y": 0.6850000000000002,
          "yanchor": "bottom",
          "yref": "paper"
         },
         {
          "font": {
           "size": 16
          },
          "showarrow": false,
          "text": "Fold 12",
          "x": 0.8555555555555556,
          "xanchor": "center",
          "xref": "paper",
          "y": 0.6850000000000002,
          "yanchor": "bottom",
          "yref": "paper"
         },
         {
          "font": {
           "size": 16
          },
          "showarrow": false,
          "text": "Fold 13",
          "x": 0.14444444444444446,
          "xanchor": "center",
          "xref": "paper",
          "y": 0.5800000000000001,
          "yanchor": "bottom",
          "yref": "paper"
         },
         {
          "font": {
           "size": 16
          },
          "showarrow": false,
          "text": "Fold 14",
          "x": 0.5,
          "xanchor": "center",
          "xref": "paper",
          "y": 0.5800000000000001,
          "yanchor": "bottom",
          "yref": "paper"
         },
         {
          "font": {
           "size": 16
          },
          "showarrow": false,
          "text": "Fold 15",
          "x": 0.8555555555555556,
          "xanchor": "center",
          "xref": "paper",
          "y": 0.5800000000000001,
          "yanchor": "bottom",
          "yref": "paper"
         },
         {
          "font": {
           "size": 16
          },
          "showarrow": false,
          "text": "Fold 16",
          "x": 0.14444444444444446,
          "xanchor": "center",
          "xref": "paper",
          "y": 0.47500000000000003,
          "yanchor": "bottom",
          "yref": "paper"
         },
         {
          "font": {
           "size": 16
          },
          "showarrow": false,
          "text": "Fold 17",
          "x": 0.5,
          "xanchor": "center",
          "xref": "paper",
          "y": 0.47500000000000003,
          "yanchor": "bottom",
          "yref": "paper"
         },
         {
          "font": {
           "size": 16
          },
          "showarrow": false,
          "text": "Fold 18",
          "x": 0.8555555555555556,
          "xanchor": "center",
          "xref": "paper",
          "y": 0.47500000000000003,
          "yanchor": "bottom",
          "yref": "paper"
         },
         {
          "font": {
           "size": 16
          },
          "showarrow": false,
          "text": "Fold 19",
          "x": 0.14444444444444446,
          "xanchor": "center",
          "xref": "paper",
          "y": 0.37000000000000005,
          "yanchor": "bottom",
          "yref": "paper"
         },
         {
          "font": {
           "size": 16
          },
          "showarrow": false,
          "text": "Fold 20",
          "x": 0.5,
          "xanchor": "center",
          "xref": "paper",
          "y": 0.37000000000000005,
          "yanchor": "bottom",
          "yref": "paper"
         },
         {
          "font": {
           "size": 16
          },
          "showarrow": false,
          "text": "Fold 21",
          "x": 0.8555555555555556,
          "xanchor": "center",
          "xref": "paper",
          "y": 0.37000000000000005,
          "yanchor": "bottom",
          "yref": "paper"
         },
         {
          "font": {
           "size": 16
          },
          "showarrow": false,
          "text": "Fold 22",
          "x": 0.14444444444444446,
          "xanchor": "center",
          "xref": "paper",
          "y": 0.265,
          "yanchor": "bottom",
          "yref": "paper"
         },
         {
          "font": {
           "size": 16
          },
          "showarrow": false,
          "text": "Fold 23",
          "x": 0.5,
          "xanchor": "center",
          "xref": "paper",
          "y": 0.265,
          "yanchor": "bottom",
          "yref": "paper"
         },
         {
          "font": {
           "size": 16
          },
          "showarrow": false,
          "text": "Fold 24",
          "x": 0.8555555555555556,
          "xanchor": "center",
          "xref": "paper",
          "y": 0.265,
          "yanchor": "bottom",
          "yref": "paper"
         },
         {
          "font": {
           "size": 16
          },
          "showarrow": false,
          "text": "Fold 25",
          "x": 0.14444444444444446,
          "xanchor": "center",
          "xref": "paper",
          "y": 0.16000000000000003,
          "yanchor": "bottom",
          "yref": "paper"
         },
         {
          "font": {
           "size": 16
          },
          "showarrow": false,
          "text": "Fold 26",
          "x": 0.5,
          "xanchor": "center",
          "xref": "paper",
          "y": 0.16000000000000003,
          "yanchor": "bottom",
          "yref": "paper"
         },
         {
          "font": {
           "size": 16
          },
          "showarrow": false,
          "text": "Fold 27",
          "x": 0.8555555555555556,
          "xanchor": "center",
          "xref": "paper",
          "y": 0.16000000000000003,
          "yanchor": "bottom",
          "yref": "paper"
         },
         {
          "font": {
           "size": 16
          },
          "showarrow": false,
          "text": "Fold 28",
          "x": 0.14444444444444446,
          "xanchor": "center",
          "xref": "paper",
          "y": 0.05500000000000001,
          "yanchor": "bottom",
          "yref": "paper"
         },
         {
          "font": {
           "size": 16
          },
          "showarrow": false,
          "text": "Fold 29",
          "x": 0.5,
          "xanchor": "center",
          "xref": "paper",
          "y": 0.05500000000000001,
          "yanchor": "bottom",
          "yref": "paper"
         },
         {
          "font": {
           "size": 16
          },
          "showarrow": false,
          "text": "Fold 30",
          "x": 0.8555555555555556,
          "xanchor": "center",
          "xref": "paper",
          "y": 0.05500000000000001,
          "yanchor": "bottom",
          "yref": "paper"
         }
        ],
        "height": 4000,
        "margin": {
         "t": 50
        },
        "template": {
         "data": {
          "bar": [
           {
            "error_x": {
             "color": "#2a3f5f"
            },
            "error_y": {
             "color": "#2a3f5f"
            },
            "marker": {
             "line": {
              "color": "#E5ECF6",
              "width": 0.5
             },
             "pattern": {
              "fillmode": "overlay",
              "size": 10,
              "solidity": 0.2
             }
            },
            "type": "bar"
           }
          ],
          "barpolar": [
           {
            "marker": {
             "line": {
              "color": "#E5ECF6",
              "width": 0.5
             },
             "pattern": {
              "fillmode": "overlay",
              "size": 10,
              "solidity": 0.2
             }
            },
            "type": "barpolar"
           }
          ],
          "carpet": [
           {
            "aaxis": {
             "endlinecolor": "#2a3f5f",
             "gridcolor": "white",
             "linecolor": "white",
             "minorgridcolor": "white",
             "startlinecolor": "#2a3f5f"
            },
            "baxis": {
             "endlinecolor": "#2a3f5f",
             "gridcolor": "white",
             "linecolor": "white",
             "minorgridcolor": "white",
             "startlinecolor": "#2a3f5f"
            },
            "type": "carpet"
           }
          ],
          "choropleth": [
           {
            "colorbar": {
             "outlinewidth": 0,
             "ticks": ""
            },
            "type": "choropleth"
           }
          ],
          "contour": [
           {
            "colorbar": {
             "outlinewidth": 0,
             "ticks": ""
            },
            "colorscale": [
             [
              0,
              "#0d0887"
             ],
             [
              0.1111111111111111,
              "#46039f"
             ],
             [
              0.2222222222222222,
              "#7201a8"
             ],
             [
              0.3333333333333333,
              "#9c179e"
             ],
             [
              0.4444444444444444,
              "#bd3786"
             ],
             [
              0.5555555555555556,
              "#d8576b"
             ],
             [
              0.6666666666666666,
              "#ed7953"
             ],
             [
              0.7777777777777778,
              "#fb9f3a"
             ],
             [
              0.8888888888888888,
              "#fdca26"
             ],
             [
              1,
              "#f0f921"
             ]
            ],
            "type": "contour"
           }
          ],
          "contourcarpet": [
           {
            "colorbar": {
             "outlinewidth": 0,
             "ticks": ""
            },
            "type": "contourcarpet"
           }
          ],
          "heatmap": [
           {
            "colorbar": {
             "outlinewidth": 0,
             "ticks": ""
            },
            "colorscale": [
             [
              0,
              "#0d0887"
             ],
             [
              0.1111111111111111,
              "#46039f"
             ],
             [
              0.2222222222222222,
              "#7201a8"
             ],
             [
              0.3333333333333333,
              "#9c179e"
             ],
             [
              0.4444444444444444,
              "#bd3786"
             ],
             [
              0.5555555555555556,
              "#d8576b"
             ],
             [
              0.6666666666666666,
              "#ed7953"
             ],
             [
              0.7777777777777778,
              "#fb9f3a"
             ],
             [
              0.8888888888888888,
              "#fdca26"
             ],
             [
              1,
              "#f0f921"
             ]
            ],
            "type": "heatmap"
           }
          ],
          "histogram": [
           {
            "marker": {
             "pattern": {
              "fillmode": "overlay",
              "size": 10,
              "solidity": 0.2
             }
            },
            "type": "histogram"
           }
          ],
          "histogram2d": [
           {
            "colorbar": {
             "outlinewidth": 0,
             "ticks": ""
            },
            "colorscale": [
             [
              0,
              "#0d0887"
             ],
             [
              0.1111111111111111,
              "#46039f"
             ],
             [
              0.2222222222222222,
              "#7201a8"
             ],
             [
              0.3333333333333333,
              "#9c179e"
             ],
             [
              0.4444444444444444,
              "#bd3786"
             ],
             [
              0.5555555555555556,
              "#d8576b"
             ],
             [
              0.6666666666666666,
              "#ed7953"
             ],
             [
              0.7777777777777778,
              "#fb9f3a"
             ],
             [
              0.8888888888888888,
              "#fdca26"
             ],
             [
              1,
              "#f0f921"
             ]
            ],
            "type": "histogram2d"
           }
          ],
          "histogram2dcontour": [
           {
            "colorbar": {
             "outlinewidth": 0,
             "ticks": ""
            },
            "colorscale": [
             [
              0,
              "#0d0887"
             ],
             [
              0.1111111111111111,
              "#46039f"
             ],
             [
              0.2222222222222222,
              "#7201a8"
             ],
             [
              0.3333333333333333,
              "#9c179e"
             ],
             [
              0.4444444444444444,
              "#bd3786"
             ],
             [
              0.5555555555555556,
              "#d8576b"
             ],
             [
              0.6666666666666666,
              "#ed7953"
             ],
             [
              0.7777777777777778,
              "#fb9f3a"
             ],
             [
              0.8888888888888888,
              "#fdca26"
             ],
             [
              1,
              "#f0f921"
             ]
            ],
            "type": "histogram2dcontour"
           }
          ],
          "mesh3d": [
           {
            "colorbar": {
             "outlinewidth": 0,
             "ticks": ""
            },
            "type": "mesh3d"
           }
          ],
          "parcoords": [
           {
            "line": {
             "colorbar": {
              "outlinewidth": 0,
              "ticks": ""
             }
            },
            "type": "parcoords"
           }
          ],
          "pie": [
           {
            "automargin": true,
            "type": "pie"
           }
          ],
          "scatter": [
           {
            "fillpattern": {
             "fillmode": "overlay",
             "size": 10,
             "solidity": 0.2
            },
            "type": "scatter"
           }
          ],
          "scatter3d": [
           {
            "line": {
             "colorbar": {
              "outlinewidth": 0,
              "ticks": ""
             }
            },
            "marker": {
             "colorbar": {
              "outlinewidth": 0,
              "ticks": ""
             }
            },
            "type": "scatter3d"
           }
          ],
          "scattercarpet": [
           {
            "marker": {
             "colorbar": {
              "outlinewidth": 0,
              "ticks": ""
             }
            },
            "type": "scattercarpet"
           }
          ],
          "scattergeo": [
           {
            "marker": {
             "colorbar": {
              "outlinewidth": 0,
              "ticks": ""
             }
            },
            "type": "scattergeo"
           }
          ],
          "scattergl": [
           {
            "marker": {
             "colorbar": {
              "outlinewidth": 0,
              "ticks": ""
             }
            },
            "type": "scattergl"
           }
          ],
          "scattermap": [
           {
            "marker": {
             "colorbar": {
              "outlinewidth": 0,
              "ticks": ""
             }
            },
            "type": "scattermap"
           }
          ],
          "scattermapbox": [
           {
            "marker": {
             "colorbar": {
              "outlinewidth": 0,
              "ticks": ""
             }
            },
            "type": "scattermapbox"
           }
          ],
          "scatterpolar": [
           {
            "marker": {
             "colorbar": {
              "outlinewidth": 0,
              "ticks": ""
             }
            },
            "type": "scatterpolar"
           }
          ],
          "scatterpolargl": [
           {
            "marker": {
             "colorbar": {
              "outlinewidth": 0,
              "ticks": ""
             }
            },
            "type": "scatterpolargl"
           }
          ],
          "scatterternary": [
           {
            "marker": {
             "colorbar": {
              "outlinewidth": 0,
              "ticks": ""
             }
            },
            "type": "scatterternary"
           }
          ],
          "surface": [
           {
            "colorbar": {
             "outlinewidth": 0,
             "ticks": ""
            },
            "colorscale": [
             [
              0,
              "#0d0887"
             ],
             [
              0.1111111111111111,
              "#46039f"
             ],
             [
              0.2222222222222222,
              "#7201a8"
             ],
             [
              0.3333333333333333,
              "#9c179e"
             ],
             [
              0.4444444444444444,
              "#bd3786"
             ],
             [
              0.5555555555555556,
              "#d8576b"
             ],
             [
              0.6666666666666666,
              "#ed7953"
             ],
             [
              0.7777777777777778,
              "#fb9f3a"
             ],
             [
              0.8888888888888888,
              "#fdca26"
             ],
             [
              1,
              "#f0f921"
             ]
            ],
            "type": "surface"
           }
          ],
          "table": [
           {
            "cells": {
             "fill": {
              "color": "#EBF0F8"
             },
             "line": {
              "color": "white"
             }
            },
            "header": {
             "fill": {
              "color": "#C8D4E3"
             },
             "line": {
              "color": "white"
             }
            },
            "type": "table"
           }
          ]
         },
         "layout": {
          "annotationdefaults": {
           "arrowcolor": "#2a3f5f",
           "arrowhead": 0,
           "arrowwidth": 1
          },
          "autotypenumbers": "strict",
          "coloraxis": {
           "colorbar": {
            "outlinewidth": 0,
            "ticks": ""
           }
          },
          "colorscale": {
           "diverging": [
            [
             0,
             "#8e0152"
            ],
            [
             0.1,
             "#c51b7d"
            ],
            [
             0.2,
             "#de77ae"
            ],
            [
             0.3,
             "#f1b6da"
            ],
            [
             0.4,
             "#fde0ef"
            ],
            [
             0.5,
             "#f7f7f7"
            ],
            [
             0.6,
             "#e6f5d0"
            ],
            [
             0.7,
             "#b8e186"
            ],
            [
             0.8,
             "#7fbc41"
            ],
            [
             0.9,
             "#4d9221"
            ],
            [
             1,
             "#276419"
            ]
           ],
           "sequential": [
            [
             0,
             "#0d0887"
            ],
            [
             0.1111111111111111,
             "#46039f"
            ],
            [
             0.2222222222222222,
             "#7201a8"
            ],
            [
             0.3333333333333333,
             "#9c179e"
            ],
            [
             0.4444444444444444,
             "#bd3786"
            ],
            [
             0.5555555555555556,
             "#d8576b"
            ],
            [
             0.6666666666666666,
             "#ed7953"
            ],
            [
             0.7777777777777778,
             "#fb9f3a"
            ],
            [
             0.8888888888888888,
             "#fdca26"
            ],
            [
             1,
             "#f0f921"
            ]
           ],
           "sequentialminus": [
            [
             0,
             "#0d0887"
            ],
            [
             0.1111111111111111,
             "#46039f"
            ],
            [
             0.2222222222222222,
             "#7201a8"
            ],
            [
             0.3333333333333333,
             "#9c179e"
            ],
            [
             0.4444444444444444,
             "#bd3786"
            ],
            [
             0.5555555555555556,
             "#d8576b"
            ],
            [
             0.6666666666666666,
             "#ed7953"
            ],
            [
             0.7777777777777778,
             "#fb9f3a"
            ],
            [
             0.8888888888888888,
             "#fdca26"
            ],
            [
             1,
             "#f0f921"
            ]
           ]
          },
          "colorway": [
           "#636efa",
           "#EF553B",
           "#00cc96",
           "#ab63fa",
           "#FFA15A",
           "#19d3f3",
           "#FF6692",
           "#B6E880",
           "#FF97FF",
           "#FECB52"
          ],
          "font": {
           "color": "#2a3f5f"
          },
          "geo": {
           "bgcolor": "white",
           "lakecolor": "white",
           "landcolor": "#E5ECF6",
           "showlakes": true,
           "showland": true,
           "subunitcolor": "white"
          },
          "hoverlabel": {
           "align": "left"
          },
          "hovermode": "closest",
          "mapbox": {
           "style": "light"
          },
          "paper_bgcolor": "white",
          "plot_bgcolor": "#E5ECF6",
          "polar": {
           "angularaxis": {
            "gridcolor": "white",
            "linecolor": "white",
            "ticks": ""
           },
           "bgcolor": "#E5ECF6",
           "radialaxis": {
            "gridcolor": "white",
            "linecolor": "white",
            "ticks": ""
           }
          },
          "scene": {
           "xaxis": {
            "backgroundcolor": "#E5ECF6",
            "gridcolor": "white",
            "gridwidth": 2,
            "linecolor": "white",
            "showbackground": true,
            "ticks": "",
            "zerolinecolor": "white"
           },
           "yaxis": {
            "backgroundcolor": "#E5ECF6",
            "gridcolor": "white",
            "gridwidth": 2,
            "linecolor": "white",
            "showbackground": true,
            "ticks": "",
            "zerolinecolor": "white"
           },
           "zaxis": {
            "backgroundcolor": "#E5ECF6",
            "gridcolor": "white",
            "gridwidth": 2,
            "linecolor": "white",
            "showbackground": true,
            "ticks": "",
            "zerolinecolor": "white"
           }
          },
          "shapedefaults": {
           "line": {
            "color": "#2a3f5f"
           }
          },
          "ternary": {
           "aaxis": {
            "gridcolor": "white",
            "linecolor": "white",
            "ticks": ""
           },
           "baxis": {
            "gridcolor": "white",
            "linecolor": "white",
            "ticks": ""
           },
           "bgcolor": "#E5ECF6",
           "caxis": {
            "gridcolor": "white",
            "linecolor": "white",
            "ticks": ""
           }
          },
          "title": {
           "x": 0.05
          },
          "xaxis": {
           "automargin": true,
           "gridcolor": "white",
           "linecolor": "white",
           "ticks": "",
           "title": {
            "standoff": 15
           },
           "zerolinecolor": "white",
           "zerolinewidth": 2
          },
          "yaxis": {
           "automargin": true,
           "gridcolor": "white",
           "linecolor": "white",
           "ticks": "",
           "title": {
            "standoff": 15
           },
           "zerolinecolor": "white",
           "zerolinewidth": 2
          }
         }
        },
        "title": {
         "text": "SLIM - Population Semantic Diversity (sustavianfeed dataset)"
        },
        "width": 1000,
        "xaxis": {
         "anchor": "y",
         "domain": [
          0,
          0.2888888888888889
         ],
         "title": {
          "text": "Generation"
         }
        },
        "xaxis10": {
         "anchor": "y10",
         "domain": [
          0,
          0.2888888888888889
         ],
         "title": {
          "text": "Generation"
         }
        },
        "xaxis11": {
         "anchor": "y11",
         "domain": [
          0.35555555555555557,
          0.6444444444444445
         ],
         "title": {
          "text": "Generation"
         }
        },
        "xaxis12": {
         "anchor": "y12",
         "domain": [
          0.7111111111111111,
          1
         ],
         "title": {
          "text": "Generation"
         }
        },
        "xaxis13": {
         "anchor": "y13",
         "domain": [
          0,
          0.2888888888888889
         ],
         "title": {
          "text": "Generation"
         }
        },
        "xaxis14": {
         "anchor": "y14",
         "domain": [
          0.35555555555555557,
          0.6444444444444445
         ],
         "title": {
          "text": "Generation"
         }
        },
        "xaxis15": {
         "anchor": "y15",
         "domain": [
          0.7111111111111111,
          1
         ],
         "title": {
          "text": "Generation"
         }
        },
        "xaxis16": {
         "anchor": "y16",
         "domain": [
          0,
          0.2888888888888889
         ],
         "title": {
          "text": "Generation"
         }
        },
        "xaxis17": {
         "anchor": "y17",
         "domain": [
          0.35555555555555557,
          0.6444444444444445
         ],
         "title": {
          "text": "Generation"
         }
        },
        "xaxis18": {
         "anchor": "y18",
         "domain": [
          0.7111111111111111,
          1
         ],
         "title": {
          "text": "Generation"
         }
        },
        "xaxis19": {
         "anchor": "y19",
         "domain": [
          0,
          0.2888888888888889
         ],
         "title": {
          "text": "Generation"
         }
        },
        "xaxis2": {
         "anchor": "y2",
         "domain": [
          0.35555555555555557,
          0.6444444444444445
         ],
         "title": {
          "text": "Generation"
         }
        },
        "xaxis20": {
         "anchor": "y20",
         "domain": [
          0.35555555555555557,
          0.6444444444444445
         ],
         "title": {
          "text": "Generation"
         }
        },
        "xaxis21": {
         "anchor": "y21",
         "domain": [
          0.7111111111111111,
          1
         ],
         "title": {
          "text": "Generation"
         }
        },
        "xaxis22": {
         "anchor": "y22",
         "domain": [
          0,
          0.2888888888888889
         ],
         "title": {
          "text": "Generation"
         }
        },
        "xaxis23": {
         "anchor": "y23",
         "domain": [
          0.35555555555555557,
          0.6444444444444445
         ],
         "title": {
          "text": "Generation"
         }
        },
        "xaxis24": {
         "anchor": "y24",
         "domain": [
          0.7111111111111111,
          1
         ],
         "title": {
          "text": "Generation"
         }
        },
        "xaxis25": {
         "anchor": "y25",
         "domain": [
          0,
          0.2888888888888889
         ],
         "title": {
          "text": "Generation"
         }
        },
        "xaxis26": {
         "anchor": "y26",
         "domain": [
          0.35555555555555557,
          0.6444444444444445
         ],
         "title": {
          "text": "Generation"
         }
        },
        "xaxis27": {
         "anchor": "y27",
         "domain": [
          0.7111111111111111,
          1
         ],
         "title": {
          "text": "Generation"
         }
        },
        "xaxis28": {
         "anchor": "y28",
         "domain": [
          0,
          0.2888888888888889
         ],
         "title": {
          "text": "Generation"
         }
        },
        "xaxis29": {
         "anchor": "y29",
         "domain": [
          0.35555555555555557,
          0.6444444444444445
         ],
         "title": {
          "text": "Generation"
         }
        },
        "xaxis3": {
         "anchor": "y3",
         "domain": [
          0.7111111111111111,
          1
         ],
         "title": {
          "text": "Generation"
         }
        },
        "xaxis30": {
         "anchor": "y30",
         "domain": [
          0.7111111111111111,
          1
         ],
         "title": {
          "text": "Generation"
         }
        },
        "xaxis4": {
         "anchor": "y4",
         "domain": [
          0,
          0.2888888888888889
         ],
         "title": {
          "text": "Generation"
         }
        },
        "xaxis5": {
         "anchor": "y5",
         "domain": [
          0.35555555555555557,
          0.6444444444444445
         ],
         "title": {
          "text": "Generation"
         }
        },
        "xaxis6": {
         "anchor": "y6",
         "domain": [
          0.7111111111111111,
          1
         ],
         "title": {
          "text": "Generation"
         }
        },
        "xaxis7": {
         "anchor": "y7",
         "domain": [
          0,
          0.2888888888888889
         ],
         "title": {
          "text": "Generation"
         }
        },
        "xaxis8": {
         "anchor": "y8",
         "domain": [
          0.35555555555555557,
          0.6444444444444445
         ],
         "title": {
          "text": "Generation"
         }
        },
        "xaxis9": {
         "anchor": "y9",
         "domain": [
          0.7111111111111111,
          1
         ],
         "title": {
          "text": "Generation"
         }
        },
        "yaxis": {
         "anchor": "x",
         "domain": [
          0.9450000000000001,
          1
         ],
         "range": [
          0,
          null
         ],
         "title": {
          "text": "Semantic Diversity"
         }
        },
        "yaxis10": {
         "anchor": "x10",
         "domain": [
          0.6300000000000001,
          0.6850000000000002
         ],
         "range": [
          0,
          null
         ],
         "title": {
          "text": "Semantic Diversity"
         }
        },
        "yaxis11": {
         "anchor": "x11",
         "domain": [
          0.6300000000000001,
          0.6850000000000002
         ],
         "range": [
          0,
          null
         ],
         "title": {
          "text": "Semantic Diversity"
         }
        },
        "yaxis12": {
         "anchor": "x12",
         "domain": [
          0.6300000000000001,
          0.6850000000000002
         ],
         "range": [
          0,
          null
         ],
         "title": {
          "text": "Semantic Diversity"
         }
        },
        "yaxis13": {
         "anchor": "x13",
         "domain": [
          0.525,
          0.5800000000000001
         ],
         "range": [
          0,
          null
         ],
         "title": {
          "text": "Semantic Diversity"
         }
        },
        "yaxis14": {
         "anchor": "x14",
         "domain": [
          0.525,
          0.5800000000000001
         ],
         "range": [
          0,
          null
         ],
         "title": {
          "text": "Semantic Diversity"
         }
        },
        "yaxis15": {
         "anchor": "x15",
         "domain": [
          0.525,
          0.5800000000000001
         ],
         "range": [
          0,
          null
         ],
         "title": {
          "text": "Semantic Diversity"
         }
        },
        "yaxis16": {
         "anchor": "x16",
         "domain": [
          0.42000000000000004,
          0.47500000000000003
         ],
         "range": [
          0,
          null
         ],
         "title": {
          "text": "Semantic Diversity"
         }
        },
        "yaxis17": {
         "anchor": "x17",
         "domain": [
          0.42000000000000004,
          0.47500000000000003
         ],
         "range": [
          0,
          null
         ],
         "title": {
          "text": "Semantic Diversity"
         }
        },
        "yaxis18": {
         "anchor": "x18",
         "domain": [
          0.42000000000000004,
          0.47500000000000003
         ],
         "range": [
          0,
          null
         ],
         "title": {
          "text": "Semantic Diversity"
         }
        },
        "yaxis19": {
         "anchor": "x19",
         "domain": [
          0.31500000000000006,
          0.37000000000000005
         ],
         "range": [
          0,
          null
         ],
         "title": {
          "text": "Semantic Diversity"
         }
        },
        "yaxis2": {
         "anchor": "x2",
         "domain": [
          0.9450000000000001,
          1
         ],
         "range": [
          0,
          null
         ],
         "title": {
          "text": "Semantic Diversity"
         }
        },
        "yaxis20": {
         "anchor": "x20",
         "domain": [
          0.31500000000000006,
          0.37000000000000005
         ],
         "range": [
          0,
          null
         ],
         "title": {
          "text": "Semantic Diversity"
         }
        },
        "yaxis21": {
         "anchor": "x21",
         "domain": [
          0.31500000000000006,
          0.37000000000000005
         ],
         "range": [
          0,
          null
         ],
         "title": {
          "text": "Semantic Diversity"
         }
        },
        "yaxis22": {
         "anchor": "x22",
         "domain": [
          0.21000000000000002,
          0.265
         ],
         "range": [
          0,
          null
         ],
         "title": {
          "text": "Semantic Diversity"
         }
        },
        "yaxis23": {
         "anchor": "x23",
         "domain": [
          0.21000000000000002,
          0.265
         ],
         "range": [
          0,
          null
         ],
         "title": {
          "text": "Semantic Diversity"
         }
        },
        "yaxis24": {
         "anchor": "x24",
         "domain": [
          0.21000000000000002,
          0.265
         ],
         "range": [
          0,
          null
         ],
         "title": {
          "text": "Semantic Diversity"
         }
        },
        "yaxis25": {
         "anchor": "x25",
         "domain": [
          0.10500000000000001,
          0.16000000000000003
         ],
         "range": [
          0,
          null
         ],
         "title": {
          "text": "Semantic Diversity"
         }
        },
        "yaxis26": {
         "anchor": "x26",
         "domain": [
          0.10500000000000001,
          0.16000000000000003
         ],
         "range": [
          0,
          null
         ],
         "title": {
          "text": "Semantic Diversity"
         }
        },
        "yaxis27": {
         "anchor": "x27",
         "domain": [
          0.10500000000000001,
          0.16000000000000003
         ],
         "range": [
          0,
          null
         ],
         "title": {
          "text": "Semantic Diversity"
         }
        },
        "yaxis28": {
         "anchor": "x28",
         "domain": [
          0,
          0.05500000000000001
         ],
         "range": [
          0,
          null
         ],
         "title": {
          "text": "Semantic Diversity"
         }
        },
        "yaxis29": {
         "anchor": "x29",
         "domain": [
          0,
          0.05500000000000001
         ],
         "range": [
          0,
          null
         ],
         "title": {
          "text": "Semantic Diversity"
         }
        },
        "yaxis3": {
         "anchor": "x3",
         "domain": [
          0.9450000000000001,
          1
         ],
         "range": [
          0,
          null
         ],
         "title": {
          "text": "Semantic Diversity"
         }
        },
        "yaxis30": {
         "anchor": "x30",
         "domain": [
          0,
          0.05500000000000001
         ],
         "range": [
          0,
          null
         ],
         "title": {
          "text": "Semantic Diversity"
         }
        },
        "yaxis4": {
         "anchor": "x4",
         "domain": [
          0.8400000000000001,
          0.8950000000000001
         ],
         "range": [
          0,
          null
         ],
         "title": {
          "text": "Semantic Diversity"
         }
        },
        "yaxis5": {
         "anchor": "x5",
         "domain": [
          0.8400000000000001,
          0.8950000000000001
         ],
         "range": [
          0,
          null
         ],
         "title": {
          "text": "Semantic Diversity"
         }
        },
        "yaxis6": {
         "anchor": "x6",
         "domain": [
          0.8400000000000001,
          0.8950000000000001
         ],
         "range": [
          0,
          null
         ],
         "title": {
          "text": "Semantic Diversity"
         }
        },
        "yaxis7": {
         "anchor": "x7",
         "domain": [
          0.7350000000000001,
          0.7900000000000001
         ],
         "range": [
          0,
          null
         ],
         "title": {
          "text": "Semantic Diversity"
         }
        },
        "yaxis8": {
         "anchor": "x8",
         "domain": [
          0.7350000000000001,
          0.7900000000000001
         ],
         "range": [
          0,
          null
         ],
         "title": {
          "text": "Semantic Diversity"
         }
        },
        "yaxis9": {
         "anchor": "x9",
         "domain": [
          0.7350000000000001,
          0.7900000000000001
         ],
         "range": [
          0,
          null
         ],
         "title": {
          "text": "Semantic Diversity"
         }
        }
       }
      }
     },
     "metadata": {},
     "output_type": "display_data"
    }
   ],
   "source": [
    "plot_population_semantic_diversity_logs(\n",
    "    model_name='SLIM',\n",
    "    n_folds=n_outer_cv,\n",
    "    dataset_name='sustavianfeed'\n",
    ")"
   ]
  },
  {
   "cell_type": "markdown",
   "id": "fb8f64b9",
   "metadata": {},
   "source": [
    "Considering semantic diversity, all solution we observed were similar as we notice very low diversity. This lays credence to our previous conclusion that more focus ought to be put in making our model more exploration focused."
   ]
  },
  {
   "cell_type": "markdown",
   "id": "ed22ee7d",
   "metadata": {},
   "source": [
    "## Conclusions\n",
    "\n",
    "Overall, the model does not  behave well when compared to node size and with bloating being an clear concern. Clearly the biggest problem is the lack of semantic and fitness diversity. Although the model has achieved good results with RMSE closing in on zero, the fact that the model fails to explore more of the search space might entail the possibility that better solutions were not evaluated."
   ]
  },
  {
   "cell_type": "markdown",
   "id": "11de4ba8",
   "metadata": {},
   "source": [
    "Given our analysis conclusion that slim version SLIM * SIG1 is the version with better performance, in most cases, for further study we shall focus on improving the model's ability to explore the search space and to prevent early convergence. Overfitting does not constitute a problem as largely the test set follows the tendencies of the train set, the problem is that those tendencies are to mostly to remain static in performance. Given this we don't think that augments the number of generations would be a good policy. Our model needs to be able to explore more so that it doesn't fall into similar solutions that wew will get similar fitnesses and eventually stagnate. We believe that more performance may be gained from exploring a more extensive grid of parameters and more options within those parameters but acknowledge that this would be an approach with diminishing returns due to computational costs."
   ]
  }
 ],
 "metadata": {
  "kernelspec": {
   "display_name": "Python 3",
   "language": "python",
   "name": "python3"
  },
  "language_info": {
   "codemirror_mode": {
    "name": "ipython",
    "version": 3
   },
   "file_extension": ".py",
   "mimetype": "text/x-python",
   "name": "python",
   "nbconvert_exporter": "python",
   "pygments_lexer": "ipython3",
   "version": "3.10.10"
  }
 },
 "nbformat": 4,
 "nbformat_minor": 5
}
